{
 "cells": [
  {
   "cell_type": "code",
   "execution_count": 1,
   "id": "53e4400c",
   "metadata": {},
   "outputs": [],
   "source": [
    "import pandas as pd\n",
    "pd.options.mode.chained_assignment = None\n",
    "import urllib.request\n",
    "import tarfile\n",
    "import os"
   ]
  },
  {
   "cell_type": "code",
   "execution_count": 3,
   "id": "53fd4a83",
   "metadata": {},
   "outputs": [
    {
     "data": {
      "text/html": [
       "<div>\n",
       "<style scoped>\n",
       "    .dataframe tbody tr th:only-of-type {\n",
       "        vertical-align: middle;\n",
       "    }\n",
       "\n",
       "    .dataframe tbody tr th {\n",
       "        vertical-align: top;\n",
       "    }\n",
       "\n",
       "    .dataframe thead th {\n",
       "        text-align: right;\n",
       "    }\n",
       "</style>\n",
       "<table border=\"1\" class=\"dataframe\">\n",
       "  <thead>\n",
       "    <tr style=\"text-align: right;\">\n",
       "      <th></th>\n",
       "      <th>org_text</th>\n",
       "      <th>clean_text</th>\n",
       "      <th>start_time</th>\n",
       "      <th>signer_id</th>\n",
       "      <th>signer</th>\n",
       "      <th>start</th>\n",
       "      <th>end</th>\n",
       "      <th>file</th>\n",
       "      <th>label</th>\n",
       "      <th>height</th>\n",
       "      <th>fps</th>\n",
       "      <th>end_time</th>\n",
       "      <th>url</th>\n",
       "      <th>text</th>\n",
       "      <th>box</th>\n",
       "      <th>width</th>\n",
       "      <th>review</th>\n",
       "    </tr>\n",
       "  </thead>\n",
       "  <tbody>\n",
       "    <tr>\n",
       "      <th>0</th>\n",
       "      <td>beer</td>\n",
       "      <td>beer</td>\n",
       "      <td>0.0</td>\n",
       "      <td>20</td>\n",
       "      <td>40</td>\n",
       "      <td>0</td>\n",
       "      <td>59</td>\n",
       "      <td>SignSchool Beer var</td>\n",
       "      <td>805</td>\n",
       "      <td>360</td>\n",
       "      <td>29.970</td>\n",
       "      <td>1.969</td>\n",
       "      <td>www.youtube.com/watch?v=wX78EPtSuzU</td>\n",
       "      <td>beer</td>\n",
       "      <td>[0.046787232160568, 0.290409207344055, 1.0, 0....</td>\n",
       "      <td>640</td>\n",
       "      <td>NaN</td>\n",
       "    </tr>\n",
       "    <tr>\n",
       "      <th>1</th>\n",
       "      <td>enjoy</td>\n",
       "      <td>enjoy</td>\n",
       "      <td>0.0</td>\n",
       "      <td>11</td>\n",
       "      <td>39</td>\n",
       "      <td>0</td>\n",
       "      <td>54</td>\n",
       "      <td>enjoy(1)</td>\n",
       "      <td>192</td>\n",
       "      <td>360</td>\n",
       "      <td>29.970</td>\n",
       "      <td>1.802</td>\n",
       "      <td>www.youtube.com/watch?v=OL02Odh2dRg</td>\n",
       "      <td>enjoy</td>\n",
       "      <td>[0.071450918912887, 0.136024981737136, 1.0, 0....</td>\n",
       "      <td>480</td>\n",
       "      <td>NaN</td>\n",
       "    </tr>\n",
       "    <tr>\n",
       "      <th>2</th>\n",
       "      <td>emotional</td>\n",
       "      <td>emotional</td>\n",
       "      <td>0.0</td>\n",
       "      <td>20</td>\n",
       "      <td>40</td>\n",
       "      <td>0</td>\n",
       "      <td>30</td>\n",
       "      <td>SignSchool Emotional</td>\n",
       "      <td>907</td>\n",
       "      <td>360</td>\n",
       "      <td>23.976</td>\n",
       "      <td>1.251</td>\n",
       "      <td>www.youtube.com/watch?v=C59jcSo4fEI</td>\n",
       "      <td>emotional</td>\n",
       "      <td>[0.059554219245910006, 0.281019657850265, 1.0,...</td>\n",
       "      <td>640</td>\n",
       "      <td>NaN</td>\n",
       "    </tr>\n",
       "    <tr>\n",
       "      <th>3</th>\n",
       "      <td>key</td>\n",
       "      <td>key</td>\n",
       "      <td>0.0</td>\n",
       "      <td>92</td>\n",
       "      <td>-1</td>\n",
       "      <td>0</td>\n",
       "      <td>37</td>\n",
       "      <td>SignSchool Key</td>\n",
       "      <td>456</td>\n",
       "      <td>360</td>\n",
       "      <td>23.976</td>\n",
       "      <td>1.543</td>\n",
       "      <td>www.youtube.com/watch?v=Qs2ua1S6tg0</td>\n",
       "      <td>key</td>\n",
       "      <td>[0.11462894082069301, 0.308987438678741, 1.0, ...</td>\n",
       "      <td>640</td>\n",
       "      <td>NaN</td>\n",
       "    </tr>\n",
       "    <tr>\n",
       "      <th>4</th>\n",
       "      <td>bad</td>\n",
       "      <td>bad</td>\n",
       "      <td>0.0</td>\n",
       "      <td>11</td>\n",
       "      <td>39</td>\n",
       "      <td>0</td>\n",
       "      <td>36</td>\n",
       "      <td>BAD</td>\n",
       "      <td>81</td>\n",
       "      <td>360</td>\n",
       "      <td>29.970</td>\n",
       "      <td>1.201</td>\n",
       "      <td>www.youtube.com/watch?v=-kgTBeOw95A</td>\n",
       "      <td>bad</td>\n",
       "      <td>[0.040453493595123007, 0.22047379612922602, 0....</td>\n",
       "      <td>480</td>\n",
       "      <td>NaN</td>\n",
       "    </tr>\n",
       "    <tr>\n",
       "      <th>5</th>\n",
       "      <td>NEED</td>\n",
       "      <td>need</td>\n",
       "      <td>0.0</td>\n",
       "      <td>67</td>\n",
       "      <td>11</td>\n",
       "      <td>0</td>\n",
       "      <td>68</td>\n",
       "      <td>NEED</td>\n",
       "      <td>29</td>\n",
       "      <td>720</td>\n",
       "      <td>29.970</td>\n",
       "      <td>2.269</td>\n",
       "      <td>https://www.youtube.com/watch?v=ieLzL1Sl6SU</td>\n",
       "      <td>need</td>\n",
       "      <td>[0.013118863105773001, 0.28781014680862405, 1....</td>\n",
       "      <td>1280</td>\n",
       "      <td>NaN</td>\n",
       "    </tr>\n",
       "    <tr>\n",
       "      <th>6</th>\n",
       "      <td>build</td>\n",
       "      <td>build</td>\n",
       "      <td>0.0</td>\n",
       "      <td>20</td>\n",
       "      <td>40</td>\n",
       "      <td>0</td>\n",
       "      <td>50</td>\n",
       "      <td>SignSchool Build 2</td>\n",
       "      <td>394</td>\n",
       "      <td>360</td>\n",
       "      <td>29.970</td>\n",
       "      <td>1.668</td>\n",
       "      <td>www.youtube.com/watch?v=xiJYYCuA2UA</td>\n",
       "      <td>build</td>\n",
       "      <td>[0.013172954320907001, 0.19094446301460202, 0....</td>\n",
       "      <td>640</td>\n",
       "      <td>NaN</td>\n",
       "    </tr>\n",
       "    <tr>\n",
       "      <th>7</th>\n",
       "      <td>subway</td>\n",
       "      <td>subway</td>\n",
       "      <td>0.0</td>\n",
       "      <td>92</td>\n",
       "      <td>-1</td>\n",
       "      <td>0</td>\n",
       "      <td>33</td>\n",
       "      <td>SignSchool Subway</td>\n",
       "      <td>886</td>\n",
       "      <td>360</td>\n",
       "      <td>23.976</td>\n",
       "      <td>1.376</td>\n",
       "      <td>www.youtube.com/watch?v=qSOspusLa3U</td>\n",
       "      <td>subway</td>\n",
       "      <td>[0.09784886240959101, 0.32842993736267, 1.0, 0...</td>\n",
       "      <td>640</td>\n",
       "      <td>NaN</td>\n",
       "    </tr>\n",
       "    <tr>\n",
       "      <th>8</th>\n",
       "      <td>pull</td>\n",
       "      <td>pull</td>\n",
       "      <td>0.0</td>\n",
       "      <td>92</td>\n",
       "      <td>43</td>\n",
       "      <td>0</td>\n",
       "      <td>32</td>\n",
       "      <td>SignSchool Pull(1)</td>\n",
       "      <td>672</td>\n",
       "      <td>360</td>\n",
       "      <td>23.976</td>\n",
       "      <td>1.335</td>\n",
       "      <td>www.youtube.com/watch?v=78bHeANdyYc</td>\n",
       "      <td>pull</td>\n",
       "      <td>[0.10073888301849301, 0.19051924347877502, 1.0...</td>\n",
       "      <td>640</td>\n",
       "      <td>NaN</td>\n",
       "    </tr>\n",
       "    <tr>\n",
       "      <th>9</th>\n",
       "      <td>happy</td>\n",
       "      <td>happy</td>\n",
       "      <td>0.0</td>\n",
       "      <td>11</td>\n",
       "      <td>39</td>\n",
       "      <td>0</td>\n",
       "      <td>46</td>\n",
       "      <td>HAPPY</td>\n",
       "      <td>5</td>\n",
       "      <td>360</td>\n",
       "      <td>29.970</td>\n",
       "      <td>1.535</td>\n",
       "      <td>www.youtube.com/watch?v=deGERv54kIc</td>\n",
       "      <td>happy</td>\n",
       "      <td>[0.049813270568847004, 0.20324450731277402, 0....</td>\n",
       "      <td>480</td>\n",
       "      <td>NaN</td>\n",
       "    </tr>\n",
       "  </tbody>\n",
       "</table>\n",
       "</div>"
      ],
      "text/plain": [
       "    org_text clean_text  start_time  signer_id  signer  start  end  \\\n",
       "0       beer       beer         0.0         20      40      0   59   \n",
       "1      enjoy      enjoy         0.0         11      39      0   54   \n",
       "2  emotional  emotional         0.0         20      40      0   30   \n",
       "3        key        key         0.0         92      -1      0   37   \n",
       "4        bad        bad         0.0         11      39      0   36   \n",
       "5       NEED       need         0.0         67      11      0   68   \n",
       "6      build      build         0.0         20      40      0   50   \n",
       "7     subway     subway         0.0         92      -1      0   33   \n",
       "8       pull       pull         0.0         92      43      0   32   \n",
       "9      happy      happy         0.0         11      39      0   46   \n",
       "\n",
       "                   file  label  height     fps  end_time  \\\n",
       "0   SignSchool Beer var    805     360  29.970     1.969   \n",
       "1              enjoy(1)    192     360  29.970     1.802   \n",
       "2  SignSchool Emotional    907     360  23.976     1.251   \n",
       "3        SignSchool Key    456     360  23.976     1.543   \n",
       "4                   BAD     81     360  29.970     1.201   \n",
       "5                  NEED     29     720  29.970     2.269   \n",
       "6    SignSchool Build 2    394     360  29.970     1.668   \n",
       "7     SignSchool Subway    886     360  23.976     1.376   \n",
       "8    SignSchool Pull(1)    672     360  23.976     1.335   \n",
       "9                 HAPPY      5     360  29.970     1.535   \n",
       "\n",
       "                                           url       text  \\\n",
       "0          www.youtube.com/watch?v=wX78EPtSuzU       beer   \n",
       "1          www.youtube.com/watch?v=OL02Odh2dRg      enjoy   \n",
       "2          www.youtube.com/watch?v=C59jcSo4fEI  emotional   \n",
       "3          www.youtube.com/watch?v=Qs2ua1S6tg0        key   \n",
       "4          www.youtube.com/watch?v=-kgTBeOw95A        bad   \n",
       "5  https://www.youtube.com/watch?v=ieLzL1Sl6SU       need   \n",
       "6          www.youtube.com/watch?v=xiJYYCuA2UA      build   \n",
       "7          www.youtube.com/watch?v=qSOspusLa3U     subway   \n",
       "8          www.youtube.com/watch?v=78bHeANdyYc       pull   \n",
       "9          www.youtube.com/watch?v=deGERv54kIc      happy   \n",
       "\n",
       "                                                 box  width  review  \n",
       "0  [0.046787232160568, 0.290409207344055, 1.0, 0....    640     NaN  \n",
       "1  [0.071450918912887, 0.136024981737136, 1.0, 0....    480     NaN  \n",
       "2  [0.059554219245910006, 0.281019657850265, 1.0,...    640     NaN  \n",
       "3  [0.11462894082069301, 0.308987438678741, 1.0, ...    640     NaN  \n",
       "4  [0.040453493595123007, 0.22047379612922602, 0....    480     NaN  \n",
       "5  [0.013118863105773001, 0.28781014680862405, 1....   1280     NaN  \n",
       "6  [0.013172954320907001, 0.19094446301460202, 0....    640     NaN  \n",
       "7  [0.09784886240959101, 0.32842993736267, 1.0, 0...    640     NaN  \n",
       "8  [0.10073888301849301, 0.19051924347877502, 1.0...    640     NaN  \n",
       "9  [0.049813270568847004, 0.20324450731277402, 0....    480     NaN  "
      ]
     },
     "execution_count": 3,
     "metadata": {},
     "output_type": "execute_result"
    }
   ],
   "source": [
    "dataset_download_path=\"./asl_dataset\"\n",
    "MSASL_test = pd.read_json(\"/Users/archishabhattacharya/Desktop/Test/MS-ASL/MSASL_test.json\".format(dataset_download_path))\n",
    "MSASL_test.head(10)"
   ]
  },
  {
   "cell_type": "code",
   "execution_count": 9,
   "id": "6c3464f5",
   "metadata": {},
   "outputs": [
    {
     "name": "stderr",
     "output_type": "stream",
     "text": [
      "  0%|                                                                            | 3/16054 [00:10<12:46:35,  2.87s/it]"
     ]
    },
    {
     "name": "stdout",
     "output_type": "stream",
     "text": [
      "Failed to download video from www.youtube.com/watch?v=9FdHlMOnVjg. Reason: 9FdHlMOnVjg is a private video\n"
     ]
    },
    {
     "name": "stderr",
     "output_type": "stream",
     "text": [
      "  0%|                                                                            | 6/16054 [00:21<13:49:40,  3.10s/it]"
     ]
    },
    {
     "name": "stdout",
     "output_type": "stream",
     "text": [
      "Failed to download video from https://www.youtube.com/watch?v=1AyT77LqJzQ. Reason: 1AyT77LqJzQ is unavailable\n"
     ]
    },
    {
     "name": "stderr",
     "output_type": "stream",
     "text": [
      "\r",
      "  0%|                                                                            | 7/16054 [00:22<11:01:06,  2.47s/it]"
     ]
    },
    {
     "name": "stdout",
     "output_type": "stream",
     "text": [
      "Failed to download video from https://www.youtube.com/watch?v=1AyT77LqJzQ. Reason: 1AyT77LqJzQ is unavailable\n"
     ]
    },
    {
     "name": "stderr",
     "output_type": "stream",
     "text": [
      "  0%|                                                                           | 10/16054 [00:35<15:10:06,  3.40s/it]"
     ]
    },
    {
     "name": "stdout",
     "output_type": "stream",
     "text": [
      "Failed to download video from https://www.youtube.com/watch?v=cJOyCgIKyeA. Reason: cJOyCgIKyeA is unavailable\n"
     ]
    },
    {
     "name": "stderr",
     "output_type": "stream",
     "text": [
      "  0%|                                                                           | 15/16054 [00:56<15:49:37,  3.55s/it]"
     ]
    },
    {
     "name": "stdout",
     "output_type": "stream",
     "text": [
      "Failed to download video from www.youtube.com/watch?v=zqfcp6NRKpA. Reason: zqfcp6NRKpA is a private video\n"
     ]
    },
    {
     "name": "stderr",
     "output_type": "stream",
     "text": [
      "\r",
      "  0%|                                                                           | 16/16054 [00:57<12:34:51,  2.82s/it]"
     ]
    },
    {
     "name": "stdout",
     "output_type": "stream",
     "text": [
      "Failed to download video from www.youtube.com/watch?v=7y5Ye-2-ZBs. Reason: 7y5Ye-2-ZBs is a private video\n"
     ]
    },
    {
     "name": "stderr",
     "output_type": "stream",
     "text": [
      "  0%|▏                                                                          | 30/16054 [02:12<20:40:44,  4.65s/it]"
     ]
    },
    {
     "name": "stdout",
     "output_type": "stream",
     "text": [
      "Failed to download video from www.youtube.com/watch?v=rYW7VFPi9_w. Reason: rYW7VFPi9_w is a private video\n"
     ]
    },
    {
     "name": "stderr",
     "output_type": "stream",
     "text": [
      "  0%|▎                                                                          | 55/16054 [05:34<28:20:23,  6.38s/it]"
     ]
    },
    {
     "name": "stdout",
     "output_type": "stream",
     "text": [
      "Failed to download video from https://www.youtube.com/watch?v=0Beq_NIDj2c. Reason: 0Beq_NIDj2c is unavailable\n"
     ]
    },
    {
     "name": "stderr",
     "output_type": "stream",
     "text": [
      "\r",
      "  0%|▎                                                                          | 56/16054 [05:35<21:17:47,  4.79s/it]"
     ]
    },
    {
     "name": "stdout",
     "output_type": "stream",
     "text": [
      "Failed to download video from https://www.youtube.com/watch?v=0Beq_NIDj2c. Reason: 0Beq_NIDj2c is unavailable\n"
     ]
    },
    {
     "name": "stderr",
     "output_type": "stream",
     "text": [
      "  0%|▎                                                                          | 65/16054 [06:22<22:40:48,  5.11s/it]"
     ]
    },
    {
     "name": "stdout",
     "output_type": "stream",
     "text": [
      "Failed to download video from www.youtube.com/watch?v=AoQAPgEUIAs. Reason: AoQAPgEUIAs is unavailable\n"
     ]
    },
    {
     "name": "stderr",
     "output_type": "stream",
     "text": [
      "  0%|▎                                                                          | 69/16054 [06:39<17:01:29,  3.83s/it]"
     ]
    },
    {
     "name": "stdout",
     "output_type": "stream",
     "text": [
      "Failed to download video from www.youtube.com/watch?v=25BrmaKbzYo. Reason: 25BrmaKbzYo is a private video\n"
     ]
    },
    {
     "name": "stderr",
     "output_type": "stream",
     "text": [
      "  1%|▍                                                                         | 108/16054 [09:33<15:37:27,  3.53s/it]"
     ]
    },
    {
     "name": "stdout",
     "output_type": "stream",
     "text": [
      "Failed to download video from https://www.youtube.com/watch?v=CZkLkFnsNBA. Reason: CZkLkFnsNBA is unavailable\n"
     ]
    },
    {
     "name": "stderr",
     "output_type": "stream",
     "text": [
      "  1%|▌                                                                         | 114/16054 [10:02<18:39:06,  4.21s/it]"
     ]
    },
    {
     "name": "stdout",
     "output_type": "stream",
     "text": [
      "Failed to download video from https://www.youtube.com/watch?v=U_nbv5Mq00c. Reason: U_nbv5Mq00c is unavailable\n"
     ]
    },
    {
     "name": "stderr",
     "output_type": "stream",
     "text": [
      "\r",
      "  1%|▌                                                                         | 115/16054 [10:04<14:41:52,  3.32s/it]"
     ]
    },
    {
     "name": "stdout",
     "output_type": "stream",
     "text": [
      "Failed to download video from www.youtube.com/watch?v=trqyl20lEno. Reason: trqyl20lEno is unavailable\n"
     ]
    },
    {
     "name": "stderr",
     "output_type": "stream",
     "text": [
      "\r",
      "  1%|▌                                                                         | 116/16054 [10:05<12:01:59,  2.72s/it]"
     ]
    },
    {
     "name": "stdout",
     "output_type": "stream",
     "text": [
      "Failed to download video from www.youtube.com/watch?v=oySXUMX7nRY. Reason: oySXUMX7nRY is a private video\n"
     ]
    },
    {
     "name": "stderr",
     "output_type": "stream",
     "text": [
      "  1%|▌                                                                         | 126/16054 [10:49<16:03:49,  3.63s/it]"
     ]
    },
    {
     "name": "stdout",
     "output_type": "stream",
     "text": [
      "Failed to download video from www.youtube.com/watch?v=3DbWOEtUigU. Reason: 3DbWOEtUigU is unavailable\n"
     ]
    },
    {
     "name": "stderr",
     "output_type": "stream",
     "text": [
      "  1%|▌                                                                         | 130/16054 [11:04<15:09:44,  3.43s/it]"
     ]
    },
    {
     "name": "stdout",
     "output_type": "stream",
     "text": [
      "Failed to download video from www.youtube.com/watch?v=o_Qs0qUiJN8. Reason: o_Qs0qUiJN8 is a private video\n"
     ]
    },
    {
     "name": "stderr",
     "output_type": "stream",
     "text": [
      "\r",
      "  1%|▌                                                                         | 131/16054 [11:05<12:07:28,  2.74s/it]"
     ]
    },
    {
     "name": "stdout",
     "output_type": "stream",
     "text": [
      "Failed to download video from https://www.youtube.com/watch?v=gI_6r7VCzM4. Reason: gI_6r7VCzM4 is a private video\n"
     ]
    },
    {
     "name": "stderr",
     "output_type": "stream",
     "text": [
      "\r",
      "  1%|▌                                                                         | 132/16054 [11:07<10:09:50,  2.30s/it]"
     ]
    },
    {
     "name": "stdout",
     "output_type": "stream",
     "text": [
      "Failed to download video from https://www.youtube.com/watch?v=gI_6r7VCzM4. Reason: gI_6r7VCzM4 is a private video\n"
     ]
    },
    {
     "name": "stderr",
     "output_type": "stream",
     "text": [
      "\r",
      "  1%|▌                                                                          | 133/16054 [11:08<8:39:41,  1.96s/it]"
     ]
    },
    {
     "name": "stdout",
     "output_type": "stream",
     "text": [
      "Failed to download video from https://www.youtube.com/watch?v=gI_6r7VCzM4. Reason: gI_6r7VCzM4 is a private video\n"
     ]
    },
    {
     "name": "stderr",
     "output_type": "stream",
     "text": [
      "\r",
      "  1%|▋                                                                          | 134/16054 [11:09<7:38:23,  1.73s/it]"
     ]
    },
    {
     "name": "stdout",
     "output_type": "stream",
     "text": [
      "Failed to download video from https://www.youtube.com/watch?v=gI_6r7VCzM4. Reason: gI_6r7VCzM4 is a private video\n"
     ]
    },
    {
     "name": "stderr",
     "output_type": "stream",
     "text": [
      "\r",
      "  1%|▋                                                                          | 135/16054 [11:10<6:46:41,  1.53s/it]"
     ]
    },
    {
     "name": "stdout",
     "output_type": "stream",
     "text": [
      "Failed to download video from https://www.youtube.com/watch?v=gI_6r7VCzM4. Reason: gI_6r7VCzM4 is a private video\n"
     ]
    },
    {
     "name": "stderr",
     "output_type": "stream",
     "text": [
      "\r",
      "  1%|▋                                                                          | 136/16054 [11:11<6:09:17,  1.39s/it]"
     ]
    },
    {
     "name": "stdout",
     "output_type": "stream",
     "text": [
      "Failed to download video from https://www.youtube.com/watch?v=gI_6r7VCzM4. Reason: gI_6r7VCzM4 is a private video\n"
     ]
    },
    {
     "name": "stderr",
     "output_type": "stream",
     "text": [
      "\r",
      "  1%|▋                                                                          | 137/16054 [11:12<5:42:28,  1.29s/it]"
     ]
    },
    {
     "name": "stdout",
     "output_type": "stream",
     "text": [
      "Failed to download video from https://www.youtube.com/watch?v=gI_6r7VCzM4. Reason: gI_6r7VCzM4 is a private video\n"
     ]
    },
    {
     "name": "stderr",
     "output_type": "stream",
     "text": [
      "\r",
      "  1%|▋                                                                          | 138/16054 [11:14<5:59:05,  1.35s/it]"
     ]
    },
    {
     "name": "stdout",
     "output_type": "stream",
     "text": [
      "Failed to download video from https://www.youtube.com/watch?v=gI_6r7VCzM4. Reason: gI_6r7VCzM4 is a private video\n"
     ]
    },
    {
     "name": "stderr",
     "output_type": "stream",
     "text": [
      "\r",
      "  1%|▋                                                                          | 139/16054 [11:15<5:38:55,  1.28s/it]"
     ]
    },
    {
     "name": "stdout",
     "output_type": "stream",
     "text": [
      "Failed to download video from https://www.youtube.com/watch?v=gI_6r7VCzM4. Reason: gI_6r7VCzM4 is a private video\n"
     ]
    },
    {
     "name": "stderr",
     "output_type": "stream",
     "text": [
      "\r",
      "  1%|▋                                                                          | 140/16054 [11:16<5:20:36,  1.21s/it]"
     ]
    },
    {
     "name": "stdout",
     "output_type": "stream",
     "text": [
      "Failed to download video from https://www.youtube.com/watch?v=gI_6r7VCzM4. Reason: gI_6r7VCzM4 is a private video\n"
     ]
    },
    {
     "name": "stderr",
     "output_type": "stream",
     "text": [
      "\r",
      "  1%|▋                                                                          | 141/16054 [11:17<5:08:17,  1.16s/it]"
     ]
    },
    {
     "name": "stdout",
     "output_type": "stream",
     "text": [
      "Failed to download video from https://www.youtube.com/watch?v=gI_6r7VCzM4. Reason: gI_6r7VCzM4 is a private video\n"
     ]
    },
    {
     "name": "stderr",
     "output_type": "stream",
     "text": [
      "\r",
      "  1%|▋                                                                          | 142/16054 [11:18<5:03:19,  1.14s/it]"
     ]
    },
    {
     "name": "stdout",
     "output_type": "stream",
     "text": [
      "Failed to download video from https://www.youtube.com/watch?v=gI_6r7VCzM4. Reason: gI_6r7VCzM4 is a private video\n"
     ]
    },
    {
     "name": "stderr",
     "output_type": "stream",
     "text": [
      "  1%|▋                                                                         | 158/16054 [12:43<21:29:35,  4.87s/it]"
     ]
    },
    {
     "name": "stdout",
     "output_type": "stream",
     "text": [
      "Failed to download video from www.youtube.com/watch?v=hx6vi97aPoM. Reason: hx6vi97aPoM is unavailable\n"
     ]
    },
    {
     "name": "stderr",
     "output_type": "stream",
     "text": [
      "  2%|█▍                                                                        | 308/16054 [29:34<19:07:27,  4.37s/it]"
     ]
    },
    {
     "name": "stdout",
     "output_type": "stream",
     "text": [
      "Failed to download video from www.youtube.com/watch?v=0FYsztUQnUM. Reason: 0FYsztUQnUM is unavailable\n"
     ]
    },
    {
     "name": "stderr",
     "output_type": "stream",
     "text": [
      "  2%|█▍                                                                        | 311/16054 [29:47<17:11:56,  3.93s/it]"
     ]
    },
    {
     "name": "stdout",
     "output_type": "stream",
     "text": [
      "Failed to download video from https://www.youtube.com/watch?v=rJ5WlLJbNI8. Reason: rJ5WlLJbNI8 is unavailable\n"
     ]
    },
    {
     "name": "stderr",
     "output_type": "stream",
     "text": [
      "\r",
      "  2%|█▍                                                                        | 312/16054 [29:48<13:47:11,  3.15s/it]"
     ]
    },
    {
     "name": "stdout",
     "output_type": "stream",
     "text": [
      "Failed to download video from https://www.youtube.com/watch?v=rJ5WlLJbNI8. Reason: rJ5WlLJbNI8 is unavailable\n"
     ]
    },
    {
     "name": "stderr",
     "output_type": "stream",
     "text": [
      "\r",
      "  2%|█▍                                                                        | 313/16054 [29:50<11:37:04,  2.66s/it]"
     ]
    },
    {
     "name": "stdout",
     "output_type": "stream",
     "text": [
      "Failed to download video from www.youtube.com/watch?v=iA8S4bnsIIg. Reason: iA8S4bnsIIg is a private video\n"
     ]
    },
    {
     "name": "stderr",
     "output_type": "stream",
     "text": [
      "  2%|█▍                                                                        | 318/16054 [30:18<19:33:28,  4.47s/it]"
     ]
    },
    {
     "name": "stdout",
     "output_type": "stream",
     "text": [
      "Failed to download video from www.youtube.com/watch?v=g67ZXnEx9Z4. Reason: g67ZXnEx9Z4 is unavailable\n"
     ]
    },
    {
     "name": "stderr",
     "output_type": "stream",
     "text": [
      "  2%|█▍                                                                        | 322/16054 [30:35<16:55:29,  3.87s/it]"
     ]
    },
    {
     "name": "stdout",
     "output_type": "stream",
     "text": [
      "Failed to download video from www.youtube.com/watch?v=bNu8NnzOU-g. Reason: bNu8NnzOU-g is unavailable\n"
     ]
    },
    {
     "name": "stderr",
     "output_type": "stream",
     "text": [
      "  2%|█▌                                                                        | 342/16054 [32:25<19:28:12,  4.46s/it]"
     ]
    },
    {
     "name": "stdout",
     "output_type": "stream",
     "text": [
      "Failed to download video from https://www.youtube.com/watch?v=cocaN8kNl-s. Reason: cocaN8kNl-s is unavailable\n"
     ]
    },
    {
     "name": "stderr",
     "output_type": "stream",
     "text": [
      "\r",
      "  2%|█▌                                                                        | 343/16054 [32:26<15:09:28,  3.47s/it]"
     ]
    },
    {
     "name": "stdout",
     "output_type": "stream",
     "text": [
      "Failed to download video from https://www.youtube.com/watch?v=cocaN8kNl-s. Reason: cocaN8kNl-s is unavailable\n"
     ]
    },
    {
     "name": "stderr",
     "output_type": "stream",
     "text": [
      "  2%|█▊                                                                        | 400/16054 [37:53<18:40:56,  4.30s/it]"
     ]
    },
    {
     "name": "stdout",
     "output_type": "stream",
     "text": [
      "Failed to download video from www.youtube.com/watch?v=caqvrVq77P0. Reason: caqvrVq77P0 is a private video\n"
     ]
    },
    {
     "name": "stderr",
     "output_type": "stream",
     "text": [
      "  3%|█▊                                                                       | 406/16054 [39:53<137:43:35, 31.69s/it]"
     ]
    },
    {
     "name": "stdout",
     "output_type": "stream",
     "text": [
      "Failed to download video from https://www.youtube.com/watch?v=KCBm23SrUe4. Reason: [Errno 54] Connection reset by peer\n"
     ]
    },
    {
     "name": "stderr",
     "output_type": "stream",
     "text": [
      "  3%|█▉                                                                        | 422/16054 [41:39<18:07:33,  4.17s/it]"
     ]
    },
    {
     "name": "stdout",
     "output_type": "stream",
     "text": [
      "Failed to download video from www.youtube.com/watch?v=gTxh0X6n_YQ. Reason: gTxh0X6n_YQ is a private video\n"
     ]
    },
    {
     "name": "stderr",
     "output_type": "stream",
     "text": [
      "  3%|█▉                                                                        | 424/16054 [41:48<18:05:20,  4.17s/it]"
     ]
    },
    {
     "name": "stdout",
     "output_type": "stream",
     "text": [
      "Failed to download video from https://www.youtube.com/watch?v=T6ur5imNbrY. Reason: T6ur5imNbrY is unavailable\n"
     ]
    },
    {
     "name": "stderr",
     "output_type": "stream",
     "text": [
      "\r",
      "  3%|█▉                                                                        | 425/16054 [41:50<14:05:23,  3.25s/it]"
     ]
    },
    {
     "name": "stdout",
     "output_type": "stream",
     "text": [
      "Failed to download video from https://www.youtube.com/watch?v=T6ur5imNbrY. Reason: T6ur5imNbrY is unavailable\n"
     ]
    },
    {
     "name": "stderr",
     "output_type": "stream",
     "text": [
      "\r",
      "  3%|█▉                                                                        | 426/16054 [41:51<11:13:52,  2.59s/it]"
     ]
    },
    {
     "name": "stdout",
     "output_type": "stream",
     "text": [
      "Failed to download video from https://www.youtube.com/watch?v=T6ur5imNbrY. Reason: T6ur5imNbrY is unavailable\n"
     ]
    },
    {
     "name": "stderr",
     "output_type": "stream",
     "text": [
      "\r",
      "  3%|█▉                                                                         | 427/16054 [41:52<9:12:50,  2.12s/it]"
     ]
    },
    {
     "name": "stdout",
     "output_type": "stream",
     "text": [
      "Failed to download video from https://www.youtube.com/watch?v=T6ur5imNbrY. Reason: T6ur5imNbrY is unavailable\n"
     ]
    },
    {
     "name": "stderr",
     "output_type": "stream",
     "text": [
      "\r",
      "  3%|█▉                                                                         | 428/16054 [41:53<7:49:55,  1.80s/it]"
     ]
    },
    {
     "name": "stdout",
     "output_type": "stream",
     "text": [
      "Failed to download video from https://www.youtube.com/watch?v=T6ur5imNbrY. Reason: T6ur5imNbrY is unavailable\n"
     ]
    },
    {
     "name": "stderr",
     "output_type": "stream",
     "text": [
      "\r",
      "  3%|██                                                                         | 429/16054 [41:54<6:51:03,  1.58s/it]"
     ]
    },
    {
     "name": "stdout",
     "output_type": "stream",
     "text": [
      "Failed to download video from https://www.youtube.com/watch?v=T6ur5imNbrY. Reason: T6ur5imNbrY is unavailable\n"
     ]
    },
    {
     "name": "stderr",
     "output_type": "stream",
     "text": [
      "\r",
      "  3%|██                                                                         | 430/16054 [41:55<6:09:24,  1.42s/it]"
     ]
    },
    {
     "name": "stdout",
     "output_type": "stream",
     "text": [
      "Failed to download video from https://www.youtube.com/watch?v=T6ur5imNbrY. Reason: T6ur5imNbrY is unavailable\n"
     ]
    },
    {
     "name": "stderr",
     "output_type": "stream",
     "text": [
      "\r",
      "  3%|██                                                                         | 431/16054 [41:56<5:58:23,  1.38s/it]"
     ]
    },
    {
     "name": "stdout",
     "output_type": "stream",
     "text": [
      "Failed to download video from https://www.youtube.com/watch?v=T6ur5imNbrY. Reason: T6ur5imNbrY is unavailable\n"
     ]
    },
    {
     "name": "stderr",
     "output_type": "stream",
     "text": [
      "\r",
      "  3%|██                                                                         | 432/16054 [41:57<5:41:39,  1.31s/it]"
     ]
    },
    {
     "name": "stdout",
     "output_type": "stream",
     "text": [
      "Failed to download video from https://www.youtube.com/watch?v=T6ur5imNbrY. Reason: T6ur5imNbrY is unavailable\n"
     ]
    },
    {
     "name": "stderr",
     "output_type": "stream",
     "text": [
      "\r",
      "  3%|██                                                                         | 433/16054 [41:58<5:31:32,  1.27s/it]"
     ]
    },
    {
     "name": "stdout",
     "output_type": "stream",
     "text": [
      "Failed to download video from https://www.youtube.com/watch?v=T6ur5imNbrY. Reason: T6ur5imNbrY is unavailable\n"
     ]
    },
    {
     "name": "stderr",
     "output_type": "stream",
     "text": [
      "\r",
      "  3%|██                                                                         | 434/16054 [41:59<5:17:34,  1.22s/it]"
     ]
    },
    {
     "name": "stdout",
     "output_type": "stream",
     "text": [
      "Failed to download video from https://www.youtube.com/watch?v=T6ur5imNbrY. Reason: T6ur5imNbrY is unavailable\n"
     ]
    },
    {
     "name": "stderr",
     "output_type": "stream",
     "text": [
      "  3%|██                                                                        | 439/16054 [42:23<14:34:37,  3.36s/it]"
     ]
    },
    {
     "name": "stdout",
     "output_type": "stream",
     "text": [
      "Failed to download video from www.youtube.com/watch?v=knQUZvK_ceg. Reason: knQUZvK_ceg is unavailable\n"
     ]
    },
    {
     "name": "stderr",
     "output_type": "stream",
     "text": [
      "\r",
      "  3%|██                                                                        | 440/16054 [42:24<11:44:05,  2.71s/it]"
     ]
    },
    {
     "name": "stdout",
     "output_type": "stream",
     "text": [
      "Failed to download video from www.youtube.com/watch?v=zCUZOnKoKWQ. Reason: zCUZOnKoKWQ is unavailable\n"
     ]
    },
    {
     "name": "stderr",
     "output_type": "stream",
     "text": [
      "  3%|██                                                                        | 450/16054 [43:16<18:00:08,  4.15s/it]"
     ]
    },
    {
     "name": "stdout",
     "output_type": "stream",
     "text": [
      "Failed to download video from www.youtube.com/watch?v=GEoJ03O-cHE. Reason: GEoJ03O-cHE is unavailable\n"
     ]
    },
    {
     "name": "stderr",
     "output_type": "stream",
     "text": [
      "  3%|██                                                                        | 456/16054 [43:43<16:34:11,  3.82s/it]"
     ]
    },
    {
     "name": "stdout",
     "output_type": "stream",
     "text": [
      "Failed to download video from www.youtube.com/watch?v=au4SAlovob8. Reason: au4SAlovob8 is a private video\n"
     ]
    },
    {
     "name": "stderr",
     "output_type": "stream",
     "text": [
      "  3%|██▏                                                                       | 466/16054 [44:33<17:33:47,  4.06s/it]"
     ]
    },
    {
     "name": "stdout",
     "output_type": "stream",
     "text": [
      "Failed to download video from https://www.youtube.com/watch?v=PpeviLqqBtk. Reason: PpeviLqqBtk is unavailable\n"
     ]
    },
    {
     "name": "stderr",
     "output_type": "stream",
     "text": [
      "\r",
      "  3%|██▏                                                                       | 467/16054 [44:34<13:58:13,  3.23s/it]"
     ]
    },
    {
     "name": "stdout",
     "output_type": "stream",
     "text": [
      "Failed to download video from https://www.youtube.com/watch?v=PpeviLqqBtk. Reason: PpeviLqqBtk is unavailable\n"
     ]
    },
    {
     "name": "stderr",
     "output_type": "stream",
     "text": [
      "\r",
      "  3%|██▏                                                                       | 468/16054 [44:35<11:13:53,  2.59s/it]"
     ]
    },
    {
     "name": "stdout",
     "output_type": "stream",
     "text": [
      "Failed to download video from https://www.youtube.com/watch?v=PpeviLqqBtk. Reason: PpeviLqqBtk is unavailable\n"
     ]
    },
    {
     "name": "stderr",
     "output_type": "stream",
     "text": [
      "\r",
      "  3%|██▏                                                                        | 469/16054 [44:36<9:29:19,  2.19s/it]"
     ]
    },
    {
     "name": "stdout",
     "output_type": "stream",
     "text": [
      "Failed to download video from https://www.youtube.com/watch?v=PpeviLqqBtk. Reason: PpeviLqqBtk is unavailable\n"
     ]
    },
    {
     "name": "stderr",
     "output_type": "stream",
     "text": [
      "\r",
      "  3%|██▏                                                                        | 470/16054 [44:38<8:20:10,  1.93s/it]"
     ]
    },
    {
     "name": "stdout",
     "output_type": "stream",
     "text": [
      "Failed to download video from https://www.youtube.com/watch?v=PpeviLqqBtk. Reason: PpeviLqqBtk is unavailable\n"
     ]
    },
    {
     "name": "stderr",
     "output_type": "stream",
     "text": [
      "\r",
      "  3%|██▏                                                                        | 471/16054 [44:39<7:16:10,  1.68s/it]"
     ]
    },
    {
     "name": "stdout",
     "output_type": "stream",
     "text": [
      "Failed to download video from https://www.youtube.com/watch?v=PpeviLqqBtk. Reason: PpeviLqqBtk is unavailable\n"
     ]
    },
    {
     "name": "stderr",
     "output_type": "stream",
     "text": [
      "\r",
      "  3%|██▏                                                                        | 472/16054 [44:40<6:26:59,  1.49s/it]"
     ]
    },
    {
     "name": "stdout",
     "output_type": "stream",
     "text": [
      "Failed to download video from https://www.youtube.com/watch?v=PpeviLqqBtk. Reason: PpeviLqqBtk is unavailable\n"
     ]
    },
    {
     "name": "stderr",
     "output_type": "stream",
     "text": [
      "\r",
      "  3%|██▏                                                                        | 473/16054 [44:41<6:09:16,  1.42s/it]"
     ]
    },
    {
     "name": "stdout",
     "output_type": "stream",
     "text": [
      "Failed to download video from https://www.youtube.com/watch?v=PpeviLqqBtk. Reason: PpeviLqqBtk is unavailable\n"
     ]
    },
    {
     "name": "stderr",
     "output_type": "stream",
     "text": [
      "\r",
      "  3%|██▏                                                                        | 474/16054 [44:43<5:59:32,  1.38s/it]"
     ]
    },
    {
     "name": "stdout",
     "output_type": "stream",
     "text": [
      "Failed to download video from https://www.youtube.com/watch?v=PpeviLqqBtk. Reason: PpeviLqqBtk is unavailable\n"
     ]
    },
    {
     "name": "stderr",
     "output_type": "stream",
     "text": [
      "\r",
      "  3%|██▏                                                                        | 475/16054 [44:44<5:37:28,  1.30s/it]"
     ]
    },
    {
     "name": "stdout",
     "output_type": "stream",
     "text": [
      "Failed to download video from https://www.youtube.com/watch?v=PpeviLqqBtk. Reason: PpeviLqqBtk is unavailable\n"
     ]
    },
    {
     "name": "stderr",
     "output_type": "stream",
     "text": [
      "\r",
      "  3%|██▏                                                                        | 476/16054 [44:45<5:17:57,  1.22s/it]"
     ]
    },
    {
     "name": "stdout",
     "output_type": "stream",
     "text": [
      "Failed to download video from https://www.youtube.com/watch?v=PpeviLqqBtk. Reason: PpeviLqqBtk is unavailable\n"
     ]
    },
    {
     "name": "stderr",
     "output_type": "stream",
     "text": [
      "\r",
      "  3%|██▏                                                                        | 477/16054 [44:46<5:04:34,  1.17s/it]"
     ]
    },
    {
     "name": "stdout",
     "output_type": "stream",
     "text": [
      "Failed to download video from https://www.youtube.com/watch?v=PpeviLqqBtk. Reason: PpeviLqqBtk is unavailable\n"
     ]
    },
    {
     "name": "stderr",
     "output_type": "stream",
     "text": [
      "\r",
      "  3%|██▏                                                                        | 478/16054 [44:47<5:11:58,  1.20s/it]"
     ]
    },
    {
     "name": "stdout",
     "output_type": "stream",
     "text": [
      "Failed to download video from https://www.youtube.com/watch?v=PpeviLqqBtk. Reason: PpeviLqqBtk is unavailable\n"
     ]
    },
    {
     "name": "stderr",
     "output_type": "stream",
     "text": [
      "\r",
      "  3%|██▏                                                                        | 479/16054 [44:48<5:19:59,  1.23s/it]"
     ]
    },
    {
     "name": "stdout",
     "output_type": "stream",
     "text": [
      "Failed to download video from https://www.youtube.com/watch?v=PpeviLqqBtk. Reason: PpeviLqqBtk is unavailable\n"
     ]
    },
    {
     "name": "stderr",
     "output_type": "stream",
     "text": [
      "\r",
      "  3%|██▏                                                                        | 480/16054 [44:49<5:09:03,  1.19s/it]"
     ]
    },
    {
     "name": "stdout",
     "output_type": "stream",
     "text": [
      "Failed to download video from https://www.youtube.com/watch?v=PpeviLqqBtk. Reason: PpeviLqqBtk is unavailable\n"
     ]
    },
    {
     "name": "stderr",
     "output_type": "stream",
     "text": [
      "\r",
      "  3%|██▏                                                                        | 481/16054 [44:50<4:58:38,  1.15s/it]"
     ]
    },
    {
     "name": "stdout",
     "output_type": "stream",
     "text": [
      "Failed to download video from https://www.youtube.com/watch?v=PpeviLqqBtk. Reason: PpeviLqqBtk is unavailable\n"
     ]
    },
    {
     "name": "stderr",
     "output_type": "stream",
     "text": [
      "\r",
      "  3%|██▎                                                                        | 482/16054 [44:52<5:09:28,  1.19s/it]"
     ]
    },
    {
     "name": "stdout",
     "output_type": "stream",
     "text": [
      "Failed to download video from https://www.youtube.com/watch?v=PpeviLqqBtk. Reason: PpeviLqqBtk is unavailable\n"
     ]
    },
    {
     "name": "stderr",
     "output_type": "stream",
     "text": [
      "\r",
      "  3%|██▎                                                                        | 483/16054 [44:53<5:16:14,  1.22s/it]"
     ]
    },
    {
     "name": "stdout",
     "output_type": "stream",
     "text": [
      "Failed to download video from https://www.youtube.com/watch?v=PpeviLqqBtk. Reason: PpeviLqqBtk is unavailable\n"
     ]
    },
    {
     "name": "stderr",
     "output_type": "stream",
     "text": [
      "\r",
      "  3%|██▎                                                                        | 484/16054 [44:54<5:07:08,  1.18s/it]"
     ]
    },
    {
     "name": "stdout",
     "output_type": "stream",
     "text": [
      "Failed to download video from https://www.youtube.com/watch?v=PpeviLqqBtk. Reason: PpeviLqqBtk is unavailable\n"
     ]
    },
    {
     "name": "stderr",
     "output_type": "stream",
     "text": [
      "\r",
      "  3%|██▎                                                                        | 485/16054 [44:55<5:13:28,  1.21s/it]"
     ]
    },
    {
     "name": "stdout",
     "output_type": "stream",
     "text": [
      "Failed to download video from https://www.youtube.com/watch?v=PpeviLqqBtk. Reason: PpeviLqqBtk is unavailable\n"
     ]
    },
    {
     "name": "stderr",
     "output_type": "stream",
     "text": [
      "\r",
      "  3%|██▎                                                                        | 486/16054 [44:57<5:28:09,  1.26s/it]"
     ]
    },
    {
     "name": "stdout",
     "output_type": "stream",
     "text": [
      "Failed to download video from https://www.youtube.com/watch?v=PpeviLqqBtk. Reason: PpeviLqqBtk is unavailable\n"
     ]
    },
    {
     "name": "stderr",
     "output_type": "stream",
     "text": [
      "\r",
      "  3%|██▎                                                                        | 487/16054 [44:58<5:25:05,  1.25s/it]"
     ]
    },
    {
     "name": "stdout",
     "output_type": "stream",
     "text": [
      "Failed to download video from https://www.youtube.com/watch?v=PpeviLqqBtk. Reason: PpeviLqqBtk is unavailable\n"
     ]
    },
    {
     "name": "stderr",
     "output_type": "stream",
     "text": [
      "\r",
      "  3%|██▎                                                                        | 488/16054 [44:59<5:18:44,  1.23s/it]"
     ]
    },
    {
     "name": "stdout",
     "output_type": "stream",
     "text": [
      "Failed to download video from https://www.youtube.com/watch?v=PpeviLqqBtk. Reason: PpeviLqqBtk is unavailable\n"
     ]
    },
    {
     "name": "stderr",
     "output_type": "stream",
     "text": [
      "\r",
      "  3%|██▎                                                                        | 489/16054 [45:00<5:14:23,  1.21s/it]"
     ]
    },
    {
     "name": "stdout",
     "output_type": "stream",
     "text": [
      "Failed to download video from https://www.youtube.com/watch?v=PpeviLqqBtk. Reason: PpeviLqqBtk is unavailable\n"
     ]
    },
    {
     "name": "stderr",
     "output_type": "stream",
     "text": [
      "\r",
      "  3%|██▎                                                                        | 490/16054 [45:01<5:05:22,  1.18s/it]"
     ]
    },
    {
     "name": "stdout",
     "output_type": "stream",
     "text": [
      "Failed to download video from https://www.youtube.com/watch?v=PpeviLqqBtk. Reason: PpeviLqqBtk is unavailable\n"
     ]
    },
    {
     "name": "stderr",
     "output_type": "stream",
     "text": [
      "  3%|██▎                                                                       | 501/16054 [46:04<15:53:09,  3.68s/it]"
     ]
    },
    {
     "name": "stdout",
     "output_type": "stream",
     "text": [
      "Failed to download video from https://www.youtube.com/watch?v=Cgh1DXAQBuI. Reason: Cgh1DXAQBuI is unavailable\n"
     ]
    },
    {
     "name": "stderr",
     "output_type": "stream",
     "text": [
      "\r",
      "  3%|██▎                                                                       | 502/16054 [46:05<12:39:10,  2.93s/it]"
     ]
    },
    {
     "name": "stdout",
     "output_type": "stream",
     "text": [
      "Failed to download video from https://www.youtube.com/watch?v=Cgh1DXAQBuI. Reason: Cgh1DXAQBuI is unavailable\n"
     ]
    },
    {
     "name": "stderr",
     "output_type": "stream",
     "text": [
      "\r",
      "  3%|██▎                                                                       | 503/16054 [46:06<10:21:59,  2.40s/it]"
     ]
    },
    {
     "name": "stdout",
     "output_type": "stream",
     "text": [
      "Failed to download video from https://www.youtube.com/watch?v=Cgh1DXAQBuI. Reason: Cgh1DXAQBuI is unavailable\n"
     ]
    },
    {
     "name": "stderr",
     "output_type": "stream",
     "text": [
      "\r",
      "  3%|██▎                                                                        | 504/16054 [46:08<8:41:44,  2.01s/it]"
     ]
    },
    {
     "name": "stdout",
     "output_type": "stream",
     "text": [
      "Failed to download video from https://www.youtube.com/watch?v=Cgh1DXAQBuI. Reason: Cgh1DXAQBuI is unavailable\n"
     ]
    },
    {
     "name": "stderr",
     "output_type": "stream",
     "text": [
      "\r",
      "  3%|██▎                                                                        | 505/16054 [46:09<7:26:11,  1.72s/it]"
     ]
    },
    {
     "name": "stdout",
     "output_type": "stream",
     "text": [
      "Failed to download video from https://www.youtube.com/watch?v=Cgh1DXAQBuI. Reason: Cgh1DXAQBuI is unavailable\n"
     ]
    },
    {
     "name": "stderr",
     "output_type": "stream",
     "text": [
      "\r",
      "  3%|██▎                                                                        | 506/16054 [46:10<6:34:12,  1.52s/it]"
     ]
    },
    {
     "name": "stdout",
     "output_type": "stream",
     "text": [
      "Failed to download video from https://www.youtube.com/watch?v=Cgh1DXAQBuI. Reason: Cgh1DXAQBuI is unavailable\n"
     ]
    },
    {
     "name": "stderr",
     "output_type": "stream",
     "text": [
      "\r",
      "  3%|██▎                                                                        | 507/16054 [46:11<5:57:37,  1.38s/it]"
     ]
    },
    {
     "name": "stdout",
     "output_type": "stream",
     "text": [
      "Failed to download video from https://www.youtube.com/watch?v=Cgh1DXAQBuI. Reason: Cgh1DXAQBuI is unavailable\n"
     ]
    },
    {
     "name": "stderr",
     "output_type": "stream",
     "text": [
      "\r",
      "  3%|██▎                                                                        | 508/16054 [46:12<5:31:37,  1.28s/it]"
     ]
    },
    {
     "name": "stdout",
     "output_type": "stream",
     "text": [
      "Failed to download video from https://www.youtube.com/watch?v=Cgh1DXAQBuI. Reason: Cgh1DXAQBuI is unavailable\n"
     ]
    },
    {
     "name": "stderr",
     "output_type": "stream",
     "text": [
      "\r",
      "  3%|██▍                                                                        | 509/16054 [46:13<5:13:53,  1.21s/it]"
     ]
    },
    {
     "name": "stdout",
     "output_type": "stream",
     "text": [
      "Failed to download video from https://www.youtube.com/watch?v=Cgh1DXAQBuI. Reason: Cgh1DXAQBuI is unavailable\n"
     ]
    },
    {
     "name": "stderr",
     "output_type": "stream",
     "text": [
      "\r",
      "  3%|██▍                                                                        | 510/16054 [46:14<5:00:59,  1.16s/it]"
     ]
    },
    {
     "name": "stdout",
     "output_type": "stream",
     "text": [
      "Failed to download video from https://www.youtube.com/watch?v=Cgh1DXAQBuI. Reason: Cgh1DXAQBuI is unavailable\n"
     ]
    },
    {
     "name": "stderr",
     "output_type": "stream",
     "text": [
      "\r",
      "  3%|██▍                                                                        | 511/16054 [46:15<4:52:25,  1.13s/it]"
     ]
    },
    {
     "name": "stdout",
     "output_type": "stream",
     "text": [
      "Failed to download video from https://www.youtube.com/watch?v=Cgh1DXAQBuI. Reason: Cgh1DXAQBuI is unavailable\n"
     ]
    },
    {
     "name": "stderr",
     "output_type": "stream",
     "text": [
      "\r",
      "  3%|██▍                                                                        | 512/16054 [46:16<4:46:35,  1.11s/it]"
     ]
    },
    {
     "name": "stdout",
     "output_type": "stream",
     "text": [
      "Failed to download video from https://www.youtube.com/watch?v=Cgh1DXAQBuI. Reason: Cgh1DXAQBuI is unavailable\n"
     ]
    },
    {
     "name": "stderr",
     "output_type": "stream",
     "text": [
      "\r",
      "  3%|██▍                                                                        | 513/16054 [46:17<4:58:20,  1.15s/it]"
     ]
    },
    {
     "name": "stdout",
     "output_type": "stream",
     "text": [
      "Failed to download video from https://www.youtube.com/watch?v=Cgh1DXAQBuI. Reason: Cgh1DXAQBuI is unavailable\n"
     ]
    },
    {
     "name": "stderr",
     "output_type": "stream",
     "text": [
      "\r",
      "  3%|██▍                                                                        | 514/16054 [46:18<5:00:13,  1.16s/it]"
     ]
    },
    {
     "name": "stdout",
     "output_type": "stream",
     "text": [
      "Failed to download video from https://www.youtube.com/watch?v=Cgh1DXAQBuI. Reason: Cgh1DXAQBuI is unavailable\n"
     ]
    },
    {
     "name": "stderr",
     "output_type": "stream",
     "text": [
      "\r",
      "  3%|██▍                                                                        | 515/16054 [46:20<5:03:14,  1.17s/it]"
     ]
    },
    {
     "name": "stdout",
     "output_type": "stream",
     "text": [
      "Failed to download video from https://www.youtube.com/watch?v=Cgh1DXAQBuI. Reason: Cgh1DXAQBuI is unavailable\n"
     ]
    },
    {
     "name": "stderr",
     "output_type": "stream",
     "text": [
      "\r",
      "  3%|██▍                                                                        | 516/16054 [46:21<4:55:56,  1.14s/it]"
     ]
    },
    {
     "name": "stdout",
     "output_type": "stream",
     "text": [
      "Failed to download video from https://www.youtube.com/watch?v=Cgh1DXAQBuI. Reason: Cgh1DXAQBuI is unavailable\n"
     ]
    },
    {
     "name": "stderr",
     "output_type": "stream",
     "text": [
      "\r",
      "  3%|██▍                                                                        | 517/16054 [46:22<4:48:34,  1.11s/it]"
     ]
    },
    {
     "name": "stdout",
     "output_type": "stream",
     "text": [
      "Failed to download video from https://www.youtube.com/watch?v=Cgh1DXAQBuI. Reason: Cgh1DXAQBuI is unavailable\n"
     ]
    },
    {
     "name": "stderr",
     "output_type": "stream",
     "text": [
      "\r",
      "  3%|██▍                                                                        | 518/16054 [46:23<4:43:54,  1.10s/it]"
     ]
    },
    {
     "name": "stdout",
     "output_type": "stream",
     "text": [
      "Failed to download video from https://www.youtube.com/watch?v=Cgh1DXAQBuI. Reason: Cgh1DXAQBuI is unavailable\n"
     ]
    },
    {
     "name": "stderr",
     "output_type": "stream",
     "text": [
      "\r",
      "  3%|██▍                                                                        | 519/16054 [46:24<4:40:19,  1.08s/it]"
     ]
    },
    {
     "name": "stdout",
     "output_type": "stream",
     "text": [
      "Failed to download video from https://www.youtube.com/watch?v=Cgh1DXAQBuI. Reason: Cgh1DXAQBuI is unavailable\n"
     ]
    },
    {
     "name": "stderr",
     "output_type": "stream",
     "text": [
      "\r",
      "  3%|██▍                                                                        | 520/16054 [46:25<4:37:07,  1.07s/it]"
     ]
    },
    {
     "name": "stdout",
     "output_type": "stream",
     "text": [
      "Failed to download video from https://www.youtube.com/watch?v=Cgh1DXAQBuI. Reason: Cgh1DXAQBuI is unavailable\n"
     ]
    },
    {
     "name": "stderr",
     "output_type": "stream",
     "text": [
      "\r",
      "  3%|██▍                                                                        | 521/16054 [46:26<4:35:23,  1.06s/it]"
     ]
    },
    {
     "name": "stdout",
     "output_type": "stream",
     "text": [
      "Failed to download video from https://www.youtube.com/watch?v=Cgh1DXAQBuI. Reason: Cgh1DXAQBuI is unavailable\n"
     ]
    },
    {
     "name": "stderr",
     "output_type": "stream",
     "text": [
      "\r",
      "  3%|██▍                                                                        | 522/16054 [46:27<4:34:24,  1.06s/it]"
     ]
    },
    {
     "name": "stdout",
     "output_type": "stream",
     "text": [
      "Failed to download video from https://www.youtube.com/watch?v=Cgh1DXAQBuI. Reason: Cgh1DXAQBuI is unavailable\n"
     ]
    },
    {
     "name": "stderr",
     "output_type": "stream",
     "text": [
      "\r",
      "  3%|██▍                                                                        | 523/16054 [46:28<4:33:39,  1.06s/it]"
     ]
    },
    {
     "name": "stdout",
     "output_type": "stream",
     "text": [
      "Failed to download video from https://www.youtube.com/watch?v=Cgh1DXAQBuI. Reason: Cgh1DXAQBuI is unavailable\n"
     ]
    },
    {
     "name": "stderr",
     "output_type": "stream",
     "text": [
      "\r",
      "  3%|██▍                                                                        | 524/16054 [46:29<4:33:17,  1.06s/it]"
     ]
    },
    {
     "name": "stdout",
     "output_type": "stream",
     "text": [
      "Failed to download video from https://www.youtube.com/watch?v=Cgh1DXAQBuI. Reason: Cgh1DXAQBuI is unavailable\n"
     ]
    },
    {
     "name": "stderr",
     "output_type": "stream",
     "text": [
      "\r",
      "  3%|██▍                                                                        | 525/16054 [46:30<4:49:31,  1.12s/it]"
     ]
    },
    {
     "name": "stdout",
     "output_type": "stream",
     "text": [
      "Failed to download video from https://www.youtube.com/watch?v=Cgh1DXAQBuI. Reason: Cgh1DXAQBuI is unavailable\n"
     ]
    },
    {
     "name": "stderr",
     "output_type": "stream",
     "text": [
      "\r",
      "  3%|██▍                                                                        | 526/16054 [46:31<4:53:22,  1.13s/it]"
     ]
    },
    {
     "name": "stdout",
     "output_type": "stream",
     "text": [
      "Failed to download video from https://www.youtube.com/watch?v=Cgh1DXAQBuI. Reason: Cgh1DXAQBuI is unavailable\n"
     ]
    },
    {
     "name": "stderr",
     "output_type": "stream",
     "text": [
      "\r",
      "  3%|██▍                                                                        | 527/16054 [46:33<4:55:19,  1.14s/it]"
     ]
    },
    {
     "name": "stdout",
     "output_type": "stream",
     "text": [
      "Failed to download video from https://www.youtube.com/watch?v=Cgh1DXAQBuI. Reason: Cgh1DXAQBuI is unavailable\n"
     ]
    },
    {
     "name": "stderr",
     "output_type": "stream",
     "text": [
      "\r",
      "  3%|██▍                                                                        | 528/16054 [46:34<4:55:22,  1.14s/it]"
     ]
    },
    {
     "name": "stdout",
     "output_type": "stream",
     "text": [
      "Failed to download video from https://www.youtube.com/watch?v=Cgh1DXAQBuI. Reason: Cgh1DXAQBuI is unavailable\n"
     ]
    },
    {
     "name": "stderr",
     "output_type": "stream",
     "text": [
      "\r",
      "  3%|██▍                                                                        | 529/16054 [46:35<5:03:28,  1.17s/it]"
     ]
    },
    {
     "name": "stdout",
     "output_type": "stream",
     "text": [
      "Failed to download video from https://www.youtube.com/watch?v=Cgh1DXAQBuI. Reason: Cgh1DXAQBuI is unavailable\n"
     ]
    },
    {
     "name": "stderr",
     "output_type": "stream",
     "text": [
      "\r",
      "  3%|██▍                                                                        | 530/16054 [46:36<5:14:17,  1.21s/it]"
     ]
    },
    {
     "name": "stdout",
     "output_type": "stream",
     "text": [
      "Failed to download video from https://www.youtube.com/watch?v=Cgh1DXAQBuI. Reason: Cgh1DXAQBuI is unavailable\n"
     ]
    },
    {
     "name": "stderr",
     "output_type": "stream",
     "text": [
      "\r",
      "  3%|██▍                                                                        | 531/16054 [46:37<5:05:34,  1.18s/it]"
     ]
    },
    {
     "name": "stdout",
     "output_type": "stream",
     "text": [
      "Failed to download video from https://www.youtube.com/watch?v=Cgh1DXAQBuI. Reason: Cgh1DXAQBuI is unavailable\n"
     ]
    },
    {
     "name": "stderr",
     "output_type": "stream",
     "text": [
      "\r",
      "  3%|██▍                                                                        | 532/16054 [46:38<4:53:55,  1.14s/it]"
     ]
    },
    {
     "name": "stdout",
     "output_type": "stream",
     "text": [
      "Failed to download video from https://www.youtube.com/watch?v=aE_nEWcmeEk. Reason: aE_nEWcmeEk is unavailable\n"
     ]
    },
    {
     "name": "stderr",
     "output_type": "stream",
     "text": [
      "\r",
      "  3%|██▍                                                                        | 533/16054 [46:39<4:47:13,  1.11s/it]"
     ]
    },
    {
     "name": "stdout",
     "output_type": "stream",
     "text": [
      "Failed to download video from https://www.youtube.com/watch?v=aE_nEWcmeEk. Reason: aE_nEWcmeEk is unavailable\n"
     ]
    },
    {
     "name": "stderr",
     "output_type": "stream",
     "text": [
      "  4%|██▋                                                                       | 587/16054 [53:06<20:41:22,  4.82s/it]"
     ]
    },
    {
     "name": "stdout",
     "output_type": "stream",
     "text": [
      "Failed to download video from www.youtube.com/watch?v=98Dc1XXwork. Reason: 98Dc1XXwork is unavailable\n"
     ]
    },
    {
     "name": "stderr",
     "output_type": "stream",
     "text": [
      "  4%|██▋                                                                       | 595/16054 [54:02<22:22:21,  5.21s/it]"
     ]
    },
    {
     "name": "stdout",
     "output_type": "stream",
     "text": [
      "Failed to download video from www.youtube.com/watch?v=mhJvv6lTQ90. Reason: mhJvv6lTQ90 is unavailable\n"
     ]
    },
    {
     "name": "stderr",
     "output_type": "stream",
     "text": [
      "  4%|██▊                                                                       | 598/16054 [54:17<19:12:53,  4.48s/it]"
     ]
    },
    {
     "name": "stdout",
     "output_type": "stream",
     "text": [
      "Failed to download video from www.youtube.com/watch?v=DEX22ndvvfY. Reason: DEX22ndvvfY is a private video\n"
     ]
    },
    {
     "name": "stderr",
     "output_type": "stream",
     "text": [
      "  4%|██▊                                                                       | 608/16054 [55:02<15:36:22,  3.64s/it]"
     ]
    },
    {
     "name": "stdout",
     "output_type": "stream",
     "text": [
      "Failed to download video from www.youtube.com/watch?v=1DmLfk0JE84. Reason: 1DmLfk0JE84 is unavailable\n"
     ]
    },
    {
     "name": "stderr",
     "output_type": "stream",
     "text": [
      "  4%|██▊                                                                       | 610/16054 [55:09<13:45:47,  3.21s/it]"
     ]
    },
    {
     "name": "stdout",
     "output_type": "stream",
     "text": [
      "Failed to download video from https://www.youtube.com/watch?v=7XgQrNMGmYk. Reason: 7XgQrNMGmYk is unavailable\n"
     ]
    },
    {
     "name": "stderr",
     "output_type": "stream",
     "text": [
      "\r",
      "  4%|██▊                                                                       | 611/16054 [55:10<11:03:38,  2.58s/it]"
     ]
    },
    {
     "name": "stdout",
     "output_type": "stream",
     "text": [
      "Failed to download video from https://www.youtube.com/watch?v=7XgQrNMGmYk. Reason: 7XgQrNMGmYk is unavailable\n"
     ]
    },
    {
     "name": "stderr",
     "output_type": "stream",
     "text": [
      "\r",
      "  4%|██▊                                                                        | 612/16054 [55:11<9:21:46,  2.18s/it]"
     ]
    },
    {
     "name": "stdout",
     "output_type": "stream",
     "text": [
      "Failed to download video from www.youtube.com/watch?v=9toTZ-aMVWs. Reason: 9toTZ-aMVWs is a private video\n"
     ]
    },
    {
     "name": "stderr",
     "output_type": "stream",
     "text": [
      "  4%|███                                                                       | 653/16054 [58:29<14:35:04,  3.41s/it]"
     ]
    },
    {
     "name": "stdout",
     "output_type": "stream",
     "text": [
      "Failed to download video from https://www.youtube.com/watch?v=7YYB3BEoksc. Reason: 7YYB3BEoksc is a private video\n"
     ]
    },
    {
     "name": "stderr",
     "output_type": "stream",
     "text": [
      "\r",
      "  4%|███                                                                       | 654/16054 [58:30<11:37:25,  2.72s/it]"
     ]
    },
    {
     "name": "stdout",
     "output_type": "stream",
     "text": [
      "Failed to download video from https://www.youtube.com/watch?v=7YYB3BEoksc. Reason: 7YYB3BEoksc is a private video\n"
     ]
    },
    {
     "name": "stderr",
     "output_type": "stream",
     "text": [
      "\r",
      "  4%|███                                                                        | 655/16054 [58:31<9:27:51,  2.21s/it]"
     ]
    },
    {
     "name": "stdout",
     "output_type": "stream",
     "text": [
      "Failed to download video from https://www.youtube.com/watch?v=7YYB3BEoksc. Reason: 7YYB3BEoksc is a private video\n"
     ]
    },
    {
     "name": "stderr",
     "output_type": "stream",
     "text": [
      "\r",
      "  4%|███                                                                        | 656/16054 [58:32<8:00:22,  1.87s/it]"
     ]
    },
    {
     "name": "stdout",
     "output_type": "stream",
     "text": [
      "Failed to download video from https://www.youtube.com/watch?v=7YYB3BEoksc. Reason: 7YYB3BEoksc is a private video\n"
     ]
    },
    {
     "name": "stderr",
     "output_type": "stream",
     "text": [
      "\r",
      "  4%|███                                                                        | 657/16054 [58:33<7:12:17,  1.68s/it]"
     ]
    },
    {
     "name": "stdout",
     "output_type": "stream",
     "text": [
      "Failed to download video from https://www.youtube.com/watch?v=7YYB3BEoksc. Reason: 7YYB3BEoksc is a private video\n"
     ]
    },
    {
     "name": "stderr",
     "output_type": "stream",
     "text": [
      "\r",
      "  4%|███                                                                        | 658/16054 [58:35<6:44:25,  1.58s/it]"
     ]
    },
    {
     "name": "stdout",
     "output_type": "stream",
     "text": [
      "Failed to download video from https://www.youtube.com/watch?v=7YYB3BEoksc. Reason: 7YYB3BEoksc is a private video\n"
     ]
    },
    {
     "name": "stderr",
     "output_type": "stream",
     "text": [
      "\r",
      "  4%|███                                                                        | 659/16054 [58:36<6:06:50,  1.43s/it]"
     ]
    },
    {
     "name": "stdout",
     "output_type": "stream",
     "text": [
      "Failed to download video from https://www.youtube.com/watch?v=7YYB3BEoksc. Reason: 7YYB3BEoksc is a private video\n"
     ]
    },
    {
     "name": "stderr",
     "output_type": "stream",
     "text": [
      "\r",
      "  4%|███                                                                        | 660/16054 [58:37<5:53:50,  1.38s/it]"
     ]
    },
    {
     "name": "stdout",
     "output_type": "stream",
     "text": [
      "Failed to download video from https://www.youtube.com/watch?v=7YYB3BEoksc. Reason: 7YYB3BEoksc is a private video\n"
     ]
    },
    {
     "name": "stderr",
     "output_type": "stream",
     "text": [
      "\r",
      "  4%|███                                                                        | 661/16054 [58:38<5:42:28,  1.33s/it]"
     ]
    },
    {
     "name": "stdout",
     "output_type": "stream",
     "text": [
      "Failed to download video from https://www.youtube.com/watch?v=7YYB3BEoksc. Reason: 7YYB3BEoksc is a private video\n"
     ]
    },
    {
     "name": "stderr",
     "output_type": "stream",
     "text": [
      "\r",
      "  4%|███                                                                        | 662/16054 [58:40<6:06:17,  1.43s/it]"
     ]
    },
    {
     "name": "stdout",
     "output_type": "stream",
     "text": [
      "Failed to download video from https://www.youtube.com/watch?v=7YYB3BEoksc. Reason: 7YYB3BEoksc is a private video\n"
     ]
    },
    {
     "name": "stderr",
     "output_type": "stream",
     "text": [
      "\r",
      "  4%|███                                                                        | 663/16054 [58:41<5:41:46,  1.33s/it]"
     ]
    },
    {
     "name": "stdout",
     "output_type": "stream",
     "text": [
      "Failed to download video from https://www.youtube.com/watch?v=7YYB3BEoksc. Reason: 7YYB3BEoksc is a private video\n"
     ]
    },
    {
     "name": "stderr",
     "output_type": "stream",
     "text": [
      "\r",
      "  4%|███                                                                        | 664/16054 [58:42<5:35:18,  1.31s/it]"
     ]
    },
    {
     "name": "stdout",
     "output_type": "stream",
     "text": [
      "Failed to download video from https://www.youtube.com/watch?v=7YYB3BEoksc. Reason: 7YYB3BEoksc is a private video\n"
     ]
    },
    {
     "name": "stderr",
     "output_type": "stream",
     "text": [
      "\r",
      "  4%|███                                                                        | 665/16054 [58:44<5:35:15,  1.31s/it]"
     ]
    },
    {
     "name": "stdout",
     "output_type": "stream",
     "text": [
      "Failed to download video from https://www.youtube.com/watch?v=7YYB3BEoksc. Reason: 7YYB3BEoksc is a private video\n"
     ]
    },
    {
     "name": "stderr",
     "output_type": "stream",
     "text": [
      "\r",
      "  4%|███                                                                        | 666/16054 [58:45<5:19:21,  1.25s/it]"
     ]
    },
    {
     "name": "stdout",
     "output_type": "stream",
     "text": [
      "Failed to download video from https://www.youtube.com/watch?v=7YYB3BEoksc. Reason: 7YYB3BEoksc is a private video\n"
     ]
    },
    {
     "name": "stderr",
     "output_type": "stream",
     "text": [
      "\r",
      "  4%|███                                                                        | 667/16054 [58:46<5:21:57,  1.26s/it]"
     ]
    },
    {
     "name": "stdout",
     "output_type": "stream",
     "text": [
      "Failed to download video from https://www.youtube.com/watch?v=7YYB3BEoksc. Reason: 7YYB3BEoksc is a private video\n"
     ]
    },
    {
     "name": "stderr",
     "output_type": "stream",
     "text": [
      "\r",
      "  4%|███                                                                        | 668/16054 [58:47<5:23:21,  1.26s/it]"
     ]
    },
    {
     "name": "stdout",
     "output_type": "stream",
     "text": [
      "Failed to download video from https://www.youtube.com/watch?v=7YYB3BEoksc. Reason: 7YYB3BEoksc is a private video\n"
     ]
    },
    {
     "name": "stderr",
     "output_type": "stream",
     "text": [
      "\r",
      "  4%|███▏                                                                       | 669/16054 [58:48<5:12:06,  1.22s/it]"
     ]
    },
    {
     "name": "stdout",
     "output_type": "stream",
     "text": [
      "Failed to download video from https://www.youtube.com/watch?v=7YYB3BEoksc. Reason: 7YYB3BEoksc is a private video\n"
     ]
    },
    {
     "name": "stderr",
     "output_type": "stream",
     "text": [
      "\r",
      "  4%|███▏                                                                       | 670/16054 [58:49<4:59:06,  1.17s/it]"
     ]
    },
    {
     "name": "stdout",
     "output_type": "stream",
     "text": [
      "Failed to download video from https://www.youtube.com/watch?v=7YYB3BEoksc. Reason: 7YYB3BEoksc is a private video\n"
     ]
    },
    {
     "name": "stderr",
     "output_type": "stream",
     "text": [
      "\r",
      "  4%|███▏                                                                       | 671/16054 [58:50<4:50:24,  1.13s/it]"
     ]
    },
    {
     "name": "stdout",
     "output_type": "stream",
     "text": [
      "Failed to download video from https://www.youtube.com/watch?v=7YYB3BEoksc. Reason: 7YYB3BEoksc is a private video\n"
     ]
    },
    {
     "name": "stderr",
     "output_type": "stream",
     "text": [
      "\r",
      "  4%|███▏                                                                       | 672/16054 [58:52<5:00:41,  1.17s/it]"
     ]
    },
    {
     "name": "stdout",
     "output_type": "stream",
     "text": [
      "Failed to download video from https://www.youtube.com/watch?v=7YYB3BEoksc. Reason: 7YYB3BEoksc is a private video\n"
     ]
    },
    {
     "name": "stderr",
     "output_type": "stream",
     "text": [
      "\r",
      "  4%|███▏                                                                       | 673/16054 [58:53<5:11:14,  1.21s/it]"
     ]
    },
    {
     "name": "stdout",
     "output_type": "stream",
     "text": [
      "Failed to download video from https://www.youtube.com/watch?v=7YYB3BEoksc. Reason: 7YYB3BEoksc is a private video\n"
     ]
    },
    {
     "name": "stderr",
     "output_type": "stream",
     "text": [
      "\r",
      "  4%|███▏                                                                       | 674/16054 [58:54<5:02:11,  1.18s/it]"
     ]
    },
    {
     "name": "stdout",
     "output_type": "stream",
     "text": [
      "Failed to download video from https://www.youtube.com/watch?v=7YYB3BEoksc. Reason: 7YYB3BEoksc is a private video\n"
     ]
    },
    {
     "name": "stderr",
     "output_type": "stream",
     "text": [
      "\r",
      "  4%|███▏                                                                       | 675/16054 [58:55<5:08:19,  1.20s/it]"
     ]
    },
    {
     "name": "stdout",
     "output_type": "stream",
     "text": [
      "Failed to download video from https://www.youtube.com/watch?v=7YYB3BEoksc. Reason: 7YYB3BEoksc is a private video\n"
     ]
    },
    {
     "name": "stderr",
     "output_type": "stream",
     "text": [
      "\r",
      "  4%|███▏                                                                       | 676/16054 [58:56<5:06:15,  1.19s/it]"
     ]
    },
    {
     "name": "stdout",
     "output_type": "stream",
     "text": [
      "Failed to download video from https://www.youtube.com/watch?v=7YYB3BEoksc. Reason: 7YYB3BEoksc is a private video\n"
     ]
    },
    {
     "name": "stderr",
     "output_type": "stream",
     "text": [
      "\r",
      "  4%|███▏                                                                       | 677/16054 [58:58<5:05:35,  1.19s/it]"
     ]
    },
    {
     "name": "stdout",
     "output_type": "stream",
     "text": [
      "Failed to download video from https://www.youtube.com/watch?v=7YYB3BEoksc. Reason: 7YYB3BEoksc is a private video\n"
     ]
    },
    {
     "name": "stderr",
     "output_type": "stream",
     "text": [
      "\r",
      "  4%|███▏                                                                       | 678/16054 [58:59<4:57:38,  1.16s/it]"
     ]
    },
    {
     "name": "stdout",
     "output_type": "stream",
     "text": [
      "Failed to download video from https://www.youtube.com/watch?v=7YYB3BEoksc. Reason: 7YYB3BEoksc is a private video\n"
     ]
    },
    {
     "name": "stderr",
     "output_type": "stream",
     "text": [
      "\r",
      "  4%|███▏                                                                       | 679/16054 [59:00<4:49:39,  1.13s/it]"
     ]
    },
    {
     "name": "stdout",
     "output_type": "stream",
     "text": [
      "Failed to download video from https://www.youtube.com/watch?v=7YYB3BEoksc. Reason: 7YYB3BEoksc is a private video\n"
     ]
    },
    {
     "name": "stderr",
     "output_type": "stream",
     "text": [
      "\r",
      "  4%|███▏                                                                       | 680/16054 [59:01<4:59:04,  1.17s/it]"
     ]
    },
    {
     "name": "stdout",
     "output_type": "stream",
     "text": [
      "Failed to download video from https://www.youtube.com/watch?v=7YYB3BEoksc. Reason: 7YYB3BEoksc is a private video\n"
     ]
    },
    {
     "name": "stderr",
     "output_type": "stream",
     "text": [
      "\r",
      "  4%|███▏                                                                       | 681/16054 [59:02<5:00:37,  1.17s/it]"
     ]
    },
    {
     "name": "stdout",
     "output_type": "stream",
     "text": [
      "Failed to download video from https://www.youtube.com/watch?v=7YYB3BEoksc. Reason: 7YYB3BEoksc is a private video\n"
     ]
    },
    {
     "name": "stderr",
     "output_type": "stream",
     "text": [
      "\r",
      "  4%|███▏                                                                       | 682/16054 [59:03<4:50:41,  1.13s/it]"
     ]
    },
    {
     "name": "stdout",
     "output_type": "stream",
     "text": [
      "Failed to download video from https://www.youtube.com/watch?v=7YYB3BEoksc. Reason: 7YYB3BEoksc is a private video\n"
     ]
    },
    {
     "name": "stderr",
     "output_type": "stream",
     "text": [
      "\r",
      "  4%|███▏                                                                       | 683/16054 [59:04<4:53:34,  1.15s/it]"
     ]
    },
    {
     "name": "stdout",
     "output_type": "stream",
     "text": [
      "Failed to download video from https://www.youtube.com/watch?v=7YYB3BEoksc. Reason: 7YYB3BEoksc is a private video\n"
     ]
    },
    {
     "name": "stderr",
     "output_type": "stream",
     "text": [
      "\r",
      "  4%|███▏                                                                       | 684/16054 [59:06<4:49:38,  1.13s/it]"
     ]
    },
    {
     "name": "stdout",
     "output_type": "stream",
     "text": [
      "Failed to download video from https://www.youtube.com/watch?v=7YYB3BEoksc. Reason: 7YYB3BEoksc is a private video\n"
     ]
    },
    {
     "name": "stderr",
     "output_type": "stream",
     "text": [
      "\r",
      "  4%|███▏                                                                       | 685/16054 [59:07<4:44:39,  1.11s/it]"
     ]
    },
    {
     "name": "stdout",
     "output_type": "stream",
     "text": [
      "Failed to download video from https://www.youtube.com/watch?v=7YYB3BEoksc. Reason: 7YYB3BEoksc is a private video\n"
     ]
    },
    {
     "name": "stderr",
     "output_type": "stream",
     "text": [
      "\r",
      "  4%|███▏                                                                       | 686/16054 [59:08<4:55:33,  1.15s/it]"
     ]
    },
    {
     "name": "stdout",
     "output_type": "stream",
     "text": [
      "Failed to download video from https://www.youtube.com/watch?v=7YYB3BEoksc. Reason: 7YYB3BEoksc is a private video\n"
     ]
    },
    {
     "name": "stderr",
     "output_type": "stream",
     "text": [
      "\r",
      "  4%|███▏                                                                       | 687/16054 [59:09<4:57:16,  1.16s/it]"
     ]
    },
    {
     "name": "stdout",
     "output_type": "stream",
     "text": [
      "Failed to download video from https://www.youtube.com/watch?v=7YYB3BEoksc. Reason: 7YYB3BEoksc is a private video\n"
     ]
    },
    {
     "name": "stderr",
     "output_type": "stream",
     "text": [
      "\r",
      "  4%|███▏                                                                       | 688/16054 [59:10<4:58:56,  1.17s/it]"
     ]
    },
    {
     "name": "stdout",
     "output_type": "stream",
     "text": [
      "Failed to download video from https://www.youtube.com/watch?v=7YYB3BEoksc. Reason: 7YYB3BEoksc is a private video\n"
     ]
    },
    {
     "name": "stderr",
     "output_type": "stream",
     "text": [
      "\r",
      "  4%|███▏                                                                       | 689/16054 [59:11<4:54:59,  1.15s/it]"
     ]
    },
    {
     "name": "stdout",
     "output_type": "stream",
     "text": [
      "Failed to download video from https://www.youtube.com/watch?v=7YYB3BEoksc. Reason: 7YYB3BEoksc is a private video\n"
     ]
    },
    {
     "name": "stderr",
     "output_type": "stream",
     "text": [
      "\r",
      "  4%|███▏                                                                       | 690/16054 [59:13<5:02:00,  1.18s/it]"
     ]
    },
    {
     "name": "stdout",
     "output_type": "stream",
     "text": [
      "Failed to download video from https://www.youtube.com/watch?v=7YYB3BEoksc. Reason: 7YYB3BEoksc is a private video\n"
     ]
    },
    {
     "name": "stderr",
     "output_type": "stream",
     "text": [
      "\r",
      "  4%|███▏                                                                       | 691/16054 [59:14<5:11:25,  1.22s/it]"
     ]
    },
    {
     "name": "stdout",
     "output_type": "stream",
     "text": [
      "Failed to download video from https://www.youtube.com/watch?v=7YYB3BEoksc. Reason: 7YYB3BEoksc is a private video\n"
     ]
    },
    {
     "name": "stderr",
     "output_type": "stream",
     "text": [
      "\r",
      "  4%|███▏                                                                       | 692/16054 [59:15<5:02:58,  1.18s/it]"
     ]
    },
    {
     "name": "stdout",
     "output_type": "stream",
     "text": [
      "Failed to download video from https://www.youtube.com/watch?v=7YYB3BEoksc. Reason: 7YYB3BEoksc is a private video\n"
     ]
    },
    {
     "name": "stderr",
     "output_type": "stream",
     "text": [
      "\r",
      "  4%|███▏                                                                       | 693/16054 [59:16<5:08:50,  1.21s/it]"
     ]
    },
    {
     "name": "stdout",
     "output_type": "stream",
     "text": [
      "Failed to download video from https://www.youtube.com/watch?v=7YYB3BEoksc. Reason: 7YYB3BEoksc is a private video\n"
     ]
    },
    {
     "name": "stderr",
     "output_type": "stream",
     "text": [
      "\r",
      "  4%|███▏                                                                       | 694/16054 [59:18<5:19:05,  1.25s/it]"
     ]
    },
    {
     "name": "stdout",
     "output_type": "stream",
     "text": [
      "Failed to download video from https://www.youtube.com/watch?v=7YYB3BEoksc. Reason: 7YYB3BEoksc is a private video\n"
     ]
    },
    {
     "name": "stderr",
     "output_type": "stream",
     "text": [
      "\r",
      "  4%|███▏                                                                       | 695/16054 [59:19<5:05:23,  1.19s/it]"
     ]
    },
    {
     "name": "stdout",
     "output_type": "stream",
     "text": [
      "Failed to download video from https://www.youtube.com/watch?v=7YYB3BEoksc. Reason: 7YYB3BEoksc is a private video\n"
     ]
    },
    {
     "name": "stderr",
     "output_type": "stream",
     "text": [
      "\r",
      "  4%|███▎                                                                       | 696/16054 [59:20<4:55:42,  1.16s/it]"
     ]
    },
    {
     "name": "stdout",
     "output_type": "stream",
     "text": [
      "Failed to download video from https://www.youtube.com/watch?v=7YYB3BEoksc. Reason: 7YYB3BEoksc is a private video\n"
     ]
    },
    {
     "name": "stderr",
     "output_type": "stream",
     "text": [
      "\r",
      "  4%|███▎                                                                       | 697/16054 [59:21<5:03:29,  1.19s/it]"
     ]
    },
    {
     "name": "stdout",
     "output_type": "stream",
     "text": [
      "Failed to download video from https://www.youtube.com/watch?v=7YYB3BEoksc. Reason: 7YYB3BEoksc is a private video\n"
     ]
    },
    {
     "name": "stderr",
     "output_type": "stream",
     "text": [
      "\r",
      "  4%|███▎                                                                       | 698/16054 [59:22<5:11:05,  1.22s/it]"
     ]
    },
    {
     "name": "stdout",
     "output_type": "stream",
     "text": [
      "Failed to download video from https://www.youtube.com/watch?v=7YYB3BEoksc. Reason: 7YYB3BEoksc is a private video\n"
     ]
    },
    {
     "name": "stderr",
     "output_type": "stream",
     "text": [
      "\r",
      "  4%|███▎                                                                       | 699/16054 [59:23<5:02:40,  1.18s/it]"
     ]
    },
    {
     "name": "stdout",
     "output_type": "stream",
     "text": [
      "Failed to download video from https://www.youtube.com/watch?v=7YYB3BEoksc. Reason: 7YYB3BEoksc is a private video\n"
     ]
    },
    {
     "name": "stderr",
     "output_type": "stream",
     "text": [
      "\r",
      "  4%|███▎                                                                       | 700/16054 [59:24<4:52:35,  1.14s/it]"
     ]
    },
    {
     "name": "stdout",
     "output_type": "stream",
     "text": [
      "Failed to download video from https://www.youtube.com/watch?v=7YYB3BEoksc. Reason: 7YYB3BEoksc is a private video\n"
     ]
    },
    {
     "name": "stderr",
     "output_type": "stream",
     "text": [
      "\r",
      "  4%|███▎                                                                       | 701/16054 [59:26<5:01:37,  1.18s/it]"
     ]
    },
    {
     "name": "stdout",
     "output_type": "stream",
     "text": [
      "Failed to download video from https://www.youtube.com/watch?v=7YYB3BEoksc. Reason: 7YYB3BEoksc is a private video\n"
     ]
    },
    {
     "name": "stderr",
     "output_type": "stream",
     "text": [
      "\r",
      "  4%|███▎                                                                       | 702/16054 [59:27<5:01:23,  1.18s/it]"
     ]
    },
    {
     "name": "stdout",
     "output_type": "stream",
     "text": [
      "Failed to download video from https://www.youtube.com/watch?v=7YYB3BEoksc. Reason: 7YYB3BEoksc is a private video\n"
     ]
    },
    {
     "name": "stderr",
     "output_type": "stream",
     "text": [
      "\r",
      "  4%|███▎                                                                       | 703/16054 [59:28<5:03:25,  1.19s/it]"
     ]
    },
    {
     "name": "stdout",
     "output_type": "stream",
     "text": [
      "Failed to download video from https://www.youtube.com/watch?v=7YYB3BEoksc. Reason: 7YYB3BEoksc is a private video\n"
     ]
    },
    {
     "name": "stderr",
     "output_type": "stream",
     "text": [
      "\r",
      "  4%|███▎                                                                       | 704/16054 [59:29<4:55:55,  1.16s/it]"
     ]
    },
    {
     "name": "stdout",
     "output_type": "stream",
     "text": [
      "Failed to download video from https://www.youtube.com/watch?v=7YYB3BEoksc. Reason: 7YYB3BEoksc is a private video\n"
     ]
    },
    {
     "name": "stderr",
     "output_type": "stream",
     "text": [
      "\r",
      "  4%|███▎                                                                       | 705/16054 [59:30<5:03:04,  1.18s/it]"
     ]
    },
    {
     "name": "stdout",
     "output_type": "stream",
     "text": [
      "Failed to download video from https://www.youtube.com/watch?v=7YYB3BEoksc. Reason: 7YYB3BEoksc is a private video\n"
     ]
    },
    {
     "name": "stderr",
     "output_type": "stream",
     "text": [
      "\r",
      "  4%|███▎                                                                       | 706/16054 [59:32<5:02:44,  1.18s/it]"
     ]
    },
    {
     "name": "stdout",
     "output_type": "stream",
     "text": [
      "Failed to download video from https://www.youtube.com/watch?v=7YYB3BEoksc. Reason: 7YYB3BEoksc is a private video\n"
     ]
    },
    {
     "name": "stderr",
     "output_type": "stream",
     "text": [
      "\r",
      "  4%|███▎                                                                       | 707/16054 [59:33<5:02:09,  1.18s/it]"
     ]
    },
    {
     "name": "stdout",
     "output_type": "stream",
     "text": [
      "Failed to download video from https://www.youtube.com/watch?v=7YYB3BEoksc. Reason: 7YYB3BEoksc is a private video\n"
     ]
    },
    {
     "name": "stderr",
     "output_type": "stream",
     "text": [
      "\r",
      "  4%|███▎                                                                       | 708/16054 [59:34<4:55:35,  1.16s/it]"
     ]
    },
    {
     "name": "stdout",
     "output_type": "stream",
     "text": [
      "Failed to download video from https://www.youtube.com/watch?v=7YYB3BEoksc. Reason: 7YYB3BEoksc is a private video\n"
     ]
    },
    {
     "name": "stderr",
     "output_type": "stream",
     "text": [
      "\r",
      "  4%|███▎                                                                       | 709/16054 [59:35<4:47:40,  1.12s/it]"
     ]
    },
    {
     "name": "stdout",
     "output_type": "stream",
     "text": [
      "Failed to download video from https://www.youtube.com/watch?v=7YYB3BEoksc. Reason: 7YYB3BEoksc is a private video\n"
     ]
    },
    {
     "name": "stderr",
     "output_type": "stream",
     "text": [
      "\r",
      "  4%|███▎                                                                       | 710/16054 [59:36<4:44:03,  1.11s/it]"
     ]
    },
    {
     "name": "stdout",
     "output_type": "stream",
     "text": [
      "Failed to download video from https://www.youtube.com/watch?v=7YYB3BEoksc. Reason: 7YYB3BEoksc is a private video\n"
     ]
    },
    {
     "name": "stderr",
     "output_type": "stream",
     "text": [
      "\r",
      "  4%|███▎                                                                       | 711/16054 [59:37<4:53:33,  1.15s/it]"
     ]
    },
    {
     "name": "stdout",
     "output_type": "stream",
     "text": [
      "Failed to download video from https://www.youtube.com/watch?v=7YYB3BEoksc. Reason: 7YYB3BEoksc is a private video\n"
     ]
    },
    {
     "name": "stderr",
     "output_type": "stream",
     "text": [
      "\r",
      "  4%|███▎                                                                       | 712/16054 [59:39<5:06:55,  1.20s/it]"
     ]
    },
    {
     "name": "stdout",
     "output_type": "stream",
     "text": [
      "Failed to download video from https://www.youtube.com/watch?v=7YYB3BEoksc. Reason: 7YYB3BEoksc is a private video\n"
     ]
    },
    {
     "name": "stderr",
     "output_type": "stream",
     "text": [
      "\r",
      "  4%|███▎                                                                       | 713/16054 [59:40<4:57:17,  1.16s/it]"
     ]
    },
    {
     "name": "stdout",
     "output_type": "stream",
     "text": [
      "Failed to download video from https://www.youtube.com/watch?v=7YYB3BEoksc. Reason: 7YYB3BEoksc is a private video\n"
     ]
    },
    {
     "name": "stderr",
     "output_type": "stream",
     "text": [
      "\r",
      "  4%|███▎                                                                       | 714/16054 [59:41<4:48:47,  1.13s/it]"
     ]
    },
    {
     "name": "stdout",
     "output_type": "stream",
     "text": [
      "Failed to download video from https://www.youtube.com/watch?v=7YYB3BEoksc. Reason: 7YYB3BEoksc is a private video\n"
     ]
    },
    {
     "name": "stderr",
     "output_type": "stream",
     "text": [
      "\r",
      "  4%|███▎                                                                       | 715/16054 [59:42<4:42:40,  1.11s/it]"
     ]
    },
    {
     "name": "stdout",
     "output_type": "stream",
     "text": [
      "Failed to download video from https://www.youtube.com/watch?v=7YYB3BEoksc. Reason: 7YYB3BEoksc is a private video\n"
     ]
    },
    {
     "name": "stderr",
     "output_type": "stream",
     "text": [
      "\r",
      "  4%|███▎                                                                       | 716/16054 [59:43<4:55:20,  1.16s/it]"
     ]
    },
    {
     "name": "stdout",
     "output_type": "stream",
     "text": [
      "Failed to download video from https://www.youtube.com/watch?v=7YYB3BEoksc. Reason: 7YYB3BEoksc is a private video\n"
     ]
    },
    {
     "name": "stderr",
     "output_type": "stream",
     "text": [
      "\r",
      "  4%|███▎                                                                       | 717/16054 [59:44<4:56:30,  1.16s/it]"
     ]
    },
    {
     "name": "stdout",
     "output_type": "stream",
     "text": [
      "Failed to download video from https://www.youtube.com/watch?v=7YYB3BEoksc. Reason: 7YYB3BEoksc is a private video\n"
     ]
    },
    {
     "name": "stderr",
     "output_type": "stream",
     "text": [
      "\r",
      "  4%|███▎                                                                       | 718/16054 [59:45<4:59:21,  1.17s/it]"
     ]
    },
    {
     "name": "stdout",
     "output_type": "stream",
     "text": [
      "Failed to download video from https://www.youtube.com/watch?v=7YYB3BEoksc. Reason: 7YYB3BEoksc is a private video\n"
     ]
    },
    {
     "name": "stderr",
     "output_type": "stream",
     "text": [
      "\r",
      "  4%|███▎                                                                       | 719/16054 [59:46<4:52:47,  1.15s/it]"
     ]
    },
    {
     "name": "stdout",
     "output_type": "stream",
     "text": [
      "Failed to download video from https://www.youtube.com/watch?v=7YYB3BEoksc. Reason: 7YYB3BEoksc is a private video\n"
     ]
    },
    {
     "name": "stderr",
     "output_type": "stream",
     "text": [
      "\r",
      "  4%|███▎                                                                       | 720/16054 [59:48<5:08:45,  1.21s/it]"
     ]
    },
    {
     "name": "stdout",
     "output_type": "stream",
     "text": [
      "Failed to download video from https://www.youtube.com/watch?v=7YYB3BEoksc. Reason: 7YYB3BEoksc is a private video\n"
     ]
    },
    {
     "name": "stderr",
     "output_type": "stream",
     "text": [
      "\r",
      "  4%|███▎                                                                       | 721/16054 [59:49<5:16:54,  1.24s/it]"
     ]
    },
    {
     "name": "stdout",
     "output_type": "stream",
     "text": [
      "Failed to download video from https://www.youtube.com/watch?v=7YYB3BEoksc. Reason: 7YYB3BEoksc is a private video\n"
     ]
    },
    {
     "name": "stderr",
     "output_type": "stream",
     "text": [
      "\r",
      "  4%|███▎                                                                       | 722/16054 [59:50<5:05:28,  1.20s/it]"
     ]
    },
    {
     "name": "stdout",
     "output_type": "stream",
     "text": [
      "Failed to download video from https://www.youtube.com/watch?v=7YYB3BEoksc. Reason: 7YYB3BEoksc is a private video\n"
     ]
    },
    {
     "name": "stderr",
     "output_type": "stream",
     "text": [
      "\r",
      "  5%|███▍                                                                       | 723/16054 [59:52<5:13:16,  1.23s/it]"
     ]
    },
    {
     "name": "stdout",
     "output_type": "stream",
     "text": [
      "Failed to download video from https://www.youtube.com/watch?v=7YYB3BEoksc. Reason: 7YYB3BEoksc is a private video\n"
     ]
    },
    {
     "name": "stderr",
     "output_type": "stream",
     "text": [
      "\r",
      "  5%|███▍                                                                       | 724/16054 [59:53<5:16:22,  1.24s/it]"
     ]
    },
    {
     "name": "stdout",
     "output_type": "stream",
     "text": [
      "Failed to download video from https://www.youtube.com/watch?v=7YYB3BEoksc. Reason: 7YYB3BEoksc is a private video\n"
     ]
    },
    {
     "name": "stderr",
     "output_type": "stream",
     "text": [
      "\r",
      "  5%|███▍                                                                       | 725/16054 [59:54<5:06:29,  1.20s/it]"
     ]
    },
    {
     "name": "stdout",
     "output_type": "stream",
     "text": [
      "Failed to download video from https://www.youtube.com/watch?v=7YYB3BEoksc. Reason: 7YYB3BEoksc is a private video\n"
     ]
    },
    {
     "name": "stderr",
     "output_type": "stream",
     "text": [
      "\r",
      "  5%|███▍                                                                       | 726/16054 [59:55<5:04:00,  1.19s/it]"
     ]
    },
    {
     "name": "stdout",
     "output_type": "stream",
     "text": [
      "Failed to download video from https://www.youtube.com/watch?v=7YYB3BEoksc. Reason: 7YYB3BEoksc is a private video\n"
     ]
    },
    {
     "name": "stderr",
     "output_type": "stream",
     "text": [
      "\r",
      "  5%|███▍                                                                       | 727/16054 [59:56<5:06:44,  1.20s/it]"
     ]
    },
    {
     "name": "stdout",
     "output_type": "stream",
     "text": [
      "Failed to download video from https://www.youtube.com/watch?v=7YYB3BEoksc. Reason: 7YYB3BEoksc is a private video\n"
     ]
    },
    {
     "name": "stderr",
     "output_type": "stream",
     "text": [
      "\r",
      "  5%|███▍                                                                       | 728/16054 [59:58<5:07:23,  1.20s/it]"
     ]
    },
    {
     "name": "stdout",
     "output_type": "stream",
     "text": [
      "Failed to download video from https://www.youtube.com/watch?v=7YYB3BEoksc. Reason: 7YYB3BEoksc is a private video\n"
     ]
    },
    {
     "name": "stderr",
     "output_type": "stream",
     "text": [
      "\r",
      "  5%|███▍                                                                       | 729/16054 [59:59<5:09:30,  1.21s/it]"
     ]
    },
    {
     "name": "stdout",
     "output_type": "stream",
     "text": [
      "Failed to download video from https://www.youtube.com/watch?v=7YYB3BEoksc. Reason: 7YYB3BEoksc is a private video\n"
     ]
    },
    {
     "name": "stderr",
     "output_type": "stream",
     "text": [
      "\r",
      "  5%|███▎                                                                     | 730/16054 [1:00:00<5:06:48,  1.20s/it]"
     ]
    },
    {
     "name": "stdout",
     "output_type": "stream",
     "text": [
      "Failed to download video from https://www.youtube.com/watch?v=7YYB3BEoksc. Reason: 7YYB3BEoksc is a private video\n"
     ]
    },
    {
     "name": "stderr",
     "output_type": "stream",
     "text": [
      "\r",
      "  5%|███▎                                                                     | 731/16054 [1:00:01<5:05:16,  1.20s/it]"
     ]
    },
    {
     "name": "stdout",
     "output_type": "stream",
     "text": [
      "Failed to download video from https://www.youtube.com/watch?v=7YYB3BEoksc. Reason: 7YYB3BEoksc is a private video\n"
     ]
    },
    {
     "name": "stderr",
     "output_type": "stream",
     "text": [
      "\r",
      "  5%|███▎                                                                     | 732/16054 [1:00:02<5:04:41,  1.19s/it]"
     ]
    },
    {
     "name": "stdout",
     "output_type": "stream",
     "text": [
      "Failed to download video from https://www.youtube.com/watch?v=7YYB3BEoksc. Reason: 7YYB3BEoksc is a private video\n"
     ]
    },
    {
     "name": "stderr",
     "output_type": "stream",
     "text": [
      "\r",
      "  5%|███▎                                                                     | 733/16054 [1:00:03<5:00:11,  1.18s/it]"
     ]
    },
    {
     "name": "stdout",
     "output_type": "stream",
     "text": [
      "Failed to download video from https://www.youtube.com/watch?v=7YYB3BEoksc. Reason: 7YYB3BEoksc is a private video\n"
     ]
    },
    {
     "name": "stderr",
     "output_type": "stream",
     "text": [
      "\r",
      "  5%|███▎                                                                     | 734/16054 [1:00:05<5:05:14,  1.20s/it]"
     ]
    },
    {
     "name": "stdout",
     "output_type": "stream",
     "text": [
      "Failed to download video from https://www.youtube.com/watch?v=7YYB3BEoksc. Reason: 7YYB3BEoksc is a private video\n"
     ]
    },
    {
     "name": "stderr",
     "output_type": "stream",
     "text": [
      "\r",
      "  5%|███▎                                                                     | 735/16054 [1:00:06<5:04:12,  1.19s/it]"
     ]
    },
    {
     "name": "stdout",
     "output_type": "stream",
     "text": [
      "Failed to download video from https://www.youtube.com/watch?v=7YYB3BEoksc. Reason: 7YYB3BEoksc is a private video\n"
     ]
    },
    {
     "name": "stderr",
     "output_type": "stream",
     "text": [
      "\r",
      "  5%|███▎                                                                     | 736/16054 [1:00:07<5:02:11,  1.18s/it]"
     ]
    },
    {
     "name": "stdout",
     "output_type": "stream",
     "text": [
      "Failed to download video from https://www.youtube.com/watch?v=7YYB3BEoksc. Reason: 7YYB3BEoksc is a private video\n"
     ]
    },
    {
     "name": "stderr",
     "output_type": "stream",
     "text": [
      "\r",
      "  5%|███▎                                                                     | 737/16054 [1:00:08<4:57:44,  1.17s/it]"
     ]
    },
    {
     "name": "stdout",
     "output_type": "stream",
     "text": [
      "Failed to download video from https://www.youtube.com/watch?v=7YYB3BEoksc. Reason: 7YYB3BEoksc is a private video\n"
     ]
    },
    {
     "name": "stderr",
     "output_type": "stream",
     "text": [
      "\r",
      "  5%|███▎                                                                     | 738/16054 [1:00:09<5:04:44,  1.19s/it]"
     ]
    },
    {
     "name": "stdout",
     "output_type": "stream",
     "text": [
      "Failed to download video from https://www.youtube.com/watch?v=7YYB3BEoksc. Reason: 7YYB3BEoksc is a private video\n"
     ]
    },
    {
     "name": "stderr",
     "output_type": "stream",
     "text": [
      "\r",
      "  5%|███▎                                                                     | 739/16054 [1:00:11<5:07:52,  1.21s/it]"
     ]
    },
    {
     "name": "stdout",
     "output_type": "stream",
     "text": [
      "Failed to download video from https://www.youtube.com/watch?v=7YYB3BEoksc. Reason: 7YYB3BEoksc is a private video\n"
     ]
    },
    {
     "name": "stderr",
     "output_type": "stream",
     "text": [
      "\r",
      "  5%|███▎                                                                     | 740/16054 [1:00:12<5:04:58,  1.19s/it]"
     ]
    },
    {
     "name": "stdout",
     "output_type": "stream",
     "text": [
      "Failed to download video from https://www.youtube.com/watch?v=7YYB3BEoksc. Reason: 7YYB3BEoksc is a private video\n"
     ]
    },
    {
     "name": "stderr",
     "output_type": "stream",
     "text": [
      "\r",
      "  5%|███▎                                                                     | 741/16054 [1:00:13<5:09:45,  1.21s/it]"
     ]
    },
    {
     "name": "stdout",
     "output_type": "stream",
     "text": [
      "Failed to download video from https://www.youtube.com/watch?v=7YYB3BEoksc. Reason: 7YYB3BEoksc is a private video\n"
     ]
    },
    {
     "name": "stderr",
     "output_type": "stream",
     "text": [
      "\r",
      "  5%|███▎                                                                     | 742/16054 [1:00:14<5:21:11,  1.26s/it]"
     ]
    },
    {
     "name": "stdout",
     "output_type": "stream",
     "text": [
      "Failed to download video from https://www.youtube.com/watch?v=7YYB3BEoksc. Reason: 7YYB3BEoksc is a private video\n"
     ]
    },
    {
     "name": "stderr",
     "output_type": "stream",
     "text": [
      "\r",
      "  5%|███▍                                                                     | 743/16054 [1:00:16<5:21:07,  1.26s/it]"
     ]
    },
    {
     "name": "stdout",
     "output_type": "stream",
     "text": [
      "Failed to download video from https://www.youtube.com/watch?v=7YYB3BEoksc. Reason: 7YYB3BEoksc is a private video\n"
     ]
    },
    {
     "name": "stderr",
     "output_type": "stream",
     "text": [
      "\r",
      "  5%|███▍                                                                     | 744/16054 [1:00:17<5:14:46,  1.23s/it]"
     ]
    },
    {
     "name": "stdout",
     "output_type": "stream",
     "text": [
      "Failed to download video from https://www.youtube.com/watch?v=7YYB3BEoksc. Reason: 7YYB3BEoksc is a private video\n"
     ]
    },
    {
     "name": "stderr",
     "output_type": "stream",
     "text": [
      "\r",
      "  5%|███▍                                                                     | 745/16054 [1:00:18<5:16:01,  1.24s/it]"
     ]
    },
    {
     "name": "stdout",
     "output_type": "stream",
     "text": [
      "Failed to download video from https://www.youtube.com/watch?v=7YYB3BEoksc. Reason: 7YYB3BEoksc is a private video\n"
     ]
    },
    {
     "name": "stderr",
     "output_type": "stream",
     "text": [
      "\r",
      "  5%|███▍                                                                     | 746/16054 [1:00:19<5:17:28,  1.24s/it]"
     ]
    },
    {
     "name": "stdout",
     "output_type": "stream",
     "text": [
      "Failed to download video from https://www.youtube.com/watch?v=7YYB3BEoksc. Reason: 7YYB3BEoksc is a private video\n"
     ]
    },
    {
     "name": "stderr",
     "output_type": "stream",
     "text": [
      "\r",
      "  5%|███▍                                                                     | 747/16054 [1:00:21<5:11:04,  1.22s/it]"
     ]
    },
    {
     "name": "stdout",
     "output_type": "stream",
     "text": [
      "Failed to download video from https://www.youtube.com/watch?v=7YYB3BEoksc. Reason: 7YYB3BEoksc is a private video\n"
     ]
    },
    {
     "name": "stderr",
     "output_type": "stream",
     "text": [
      "\r",
      "  5%|███▍                                                                     | 748/16054 [1:00:22<5:10:54,  1.22s/it]"
     ]
    },
    {
     "name": "stdout",
     "output_type": "stream",
     "text": [
      "Failed to download video from https://www.youtube.com/watch?v=7YYB3BEoksc. Reason: 7YYB3BEoksc is a private video\n"
     ]
    },
    {
     "name": "stderr",
     "output_type": "stream",
     "text": [
      "\r",
      "  5%|███▍                                                                     | 749/16054 [1:00:23<4:59:25,  1.17s/it]"
     ]
    },
    {
     "name": "stdout",
     "output_type": "stream",
     "text": [
      "Failed to download video from https://www.youtube.com/watch?v=7YYB3BEoksc. Reason: 7YYB3BEoksc is a private video\n"
     ]
    },
    {
     "name": "stderr",
     "output_type": "stream",
     "text": [
      "\r",
      "  5%|███▍                                                                     | 750/16054 [1:00:24<4:49:52,  1.14s/it]"
     ]
    },
    {
     "name": "stdout",
     "output_type": "stream",
     "text": [
      "Failed to download video from https://www.youtube.com/watch?v=7YYB3BEoksc. Reason: 7YYB3BEoksc is a private video\n"
     ]
    },
    {
     "name": "stderr",
     "output_type": "stream",
     "text": [
      "\r",
      "  5%|███▍                                                                     | 751/16054 [1:00:25<4:59:02,  1.17s/it]"
     ]
    },
    {
     "name": "stdout",
     "output_type": "stream",
     "text": [
      "Failed to download video from https://www.youtube.com/watch?v=7YYB3BEoksc. Reason: 7YYB3BEoksc is a private video\n"
     ]
    },
    {
     "name": "stderr",
     "output_type": "stream",
     "text": [
      "\r",
      "  5%|███▍                                                                     | 752/16054 [1:00:26<5:10:52,  1.22s/it]"
     ]
    },
    {
     "name": "stdout",
     "output_type": "stream",
     "text": [
      "Failed to download video from https://www.youtube.com/watch?v=7YYB3BEoksc. Reason: 7YYB3BEoksc is a private video\n"
     ]
    },
    {
     "name": "stderr",
     "output_type": "stream",
     "text": [
      "\r",
      "  5%|███▍                                                                     | 753/16054 [1:00:28<5:01:06,  1.18s/it]"
     ]
    },
    {
     "name": "stdout",
     "output_type": "stream",
     "text": [
      "Failed to download video from https://www.youtube.com/watch?v=7YYB3BEoksc. Reason: 7YYB3BEoksc is a private video\n"
     ]
    },
    {
     "name": "stderr",
     "output_type": "stream",
     "text": [
      "\r",
      "  5%|███▍                                                                     | 754/16054 [1:00:29<5:07:15,  1.20s/it]"
     ]
    },
    {
     "name": "stdout",
     "output_type": "stream",
     "text": [
      "Failed to download video from https://www.youtube.com/watch?v=7YYB3BEoksc. Reason: 7YYB3BEoksc is a private video\n"
     ]
    },
    {
     "name": "stderr",
     "output_type": "stream",
     "text": [
      "\r",
      "  5%|███▍                                                                     | 755/16054 [1:00:30<5:13:43,  1.23s/it]"
     ]
    },
    {
     "name": "stdout",
     "output_type": "stream",
     "text": [
      "Failed to download video from https://www.youtube.com/watch?v=7YYB3BEoksc. Reason: 7YYB3BEoksc is a private video\n"
     ]
    },
    {
     "name": "stderr",
     "output_type": "stream",
     "text": [
      "\r",
      "  5%|███▍                                                                     | 756/16054 [1:00:31<5:05:47,  1.20s/it]"
     ]
    },
    {
     "name": "stdout",
     "output_type": "stream",
     "text": [
      "Failed to download video from https://www.youtube.com/watch?v=7YYB3BEoksc. Reason: 7YYB3BEoksc is a private video\n"
     ]
    },
    {
     "name": "stderr",
     "output_type": "stream",
     "text": [
      "\r",
      "  5%|███▍                                                                     | 757/16054 [1:00:32<5:09:18,  1.21s/it]"
     ]
    },
    {
     "name": "stdout",
     "output_type": "stream",
     "text": [
      "Failed to download video from https://www.youtube.com/watch?v=7YYB3BEoksc. Reason: 7YYB3BEoksc is a private video\n"
     ]
    },
    {
     "name": "stderr",
     "output_type": "stream",
     "text": [
      "\r",
      "  5%|███▍                                                                     | 758/16054 [1:00:34<5:15:31,  1.24s/it]"
     ]
    },
    {
     "name": "stdout",
     "output_type": "stream",
     "text": [
      "Failed to download video from https://www.youtube.com/watch?v=7YYB3BEoksc. Reason: 7YYB3BEoksc is a private video\n"
     ]
    },
    {
     "name": "stderr",
     "output_type": "stream",
     "text": [
      "\r",
      "  5%|███▍                                                                     | 759/16054 [1:00:35<5:07:13,  1.21s/it]"
     ]
    },
    {
     "name": "stdout",
     "output_type": "stream",
     "text": [
      "Failed to download video from https://www.youtube.com/watch?v=7YYB3BEoksc. Reason: 7YYB3BEoksc is a private video\n"
     ]
    },
    {
     "name": "stderr",
     "output_type": "stream",
     "text": [
      "\r",
      "  5%|███▍                                                                     | 760/16054 [1:00:36<5:10:49,  1.22s/it]"
     ]
    },
    {
     "name": "stdout",
     "output_type": "stream",
     "text": [
      "Failed to download video from https://www.youtube.com/watch?v=7YYB3BEoksc. Reason: 7YYB3BEoksc is a private video\n"
     ]
    },
    {
     "name": "stderr",
     "output_type": "stream",
     "text": [
      "\r",
      "  5%|███▍                                                                     | 761/16054 [1:00:37<5:07:12,  1.21s/it]"
     ]
    },
    {
     "name": "stdout",
     "output_type": "stream",
     "text": [
      "Failed to download video from https://www.youtube.com/watch?v=7YYB3BEoksc. Reason: 7YYB3BEoksc is a private video\n"
     ]
    },
    {
     "name": "stderr",
     "output_type": "stream",
     "text": [
      "\r",
      "  5%|███▍                                                                     | 762/16054 [1:00:39<5:07:38,  1.21s/it]"
     ]
    },
    {
     "name": "stdout",
     "output_type": "stream",
     "text": [
      "Failed to download video from https://www.youtube.com/watch?v=7YYB3BEoksc. Reason: 7YYB3BEoksc is a private video\n"
     ]
    },
    {
     "name": "stderr",
     "output_type": "stream",
     "text": [
      "\r",
      "  5%|███▍                                                                     | 763/16054 [1:00:40<4:56:30,  1.16s/it]"
     ]
    },
    {
     "name": "stdout",
     "output_type": "stream",
     "text": [
      "Failed to download video from https://www.youtube.com/watch?v=7YYB3BEoksc. Reason: 7YYB3BEoksc is a private video\n"
     ]
    },
    {
     "name": "stderr",
     "output_type": "stream",
     "text": [
      "\r",
      "  5%|███▍                                                                     | 764/16054 [1:00:41<4:48:28,  1.13s/it]"
     ]
    },
    {
     "name": "stdout",
     "output_type": "stream",
     "text": [
      "Failed to download video from https://www.youtube.com/watch?v=7YYB3BEoksc. Reason: 7YYB3BEoksc is a private video\n"
     ]
    },
    {
     "name": "stderr",
     "output_type": "stream",
     "text": [
      "\r",
      "  5%|███▍                                                                     | 765/16054 [1:00:42<4:42:12,  1.11s/it]"
     ]
    },
    {
     "name": "stdout",
     "output_type": "stream",
     "text": [
      "Failed to download video from https://www.youtube.com/watch?v=7YYB3BEoksc. Reason: 7YYB3BEoksc is a private video\n"
     ]
    },
    {
     "name": "stderr",
     "output_type": "stream",
     "text": [
      "\r",
      "  5%|███▍                                                                     | 766/16054 [1:00:43<4:54:26,  1.16s/it]"
     ]
    },
    {
     "name": "stdout",
     "output_type": "stream",
     "text": [
      "Failed to download video from https://www.youtube.com/watch?v=7YYB3BEoksc. Reason: 7YYB3BEoksc is a private video\n"
     ]
    },
    {
     "name": "stderr",
     "output_type": "stream",
     "text": [
      "\r",
      "  5%|███▍                                                                     | 767/16054 [1:00:44<5:06:14,  1.20s/it]"
     ]
    },
    {
     "name": "stdout",
     "output_type": "stream",
     "text": [
      "Failed to download video from https://www.youtube.com/watch?v=7YYB3BEoksc. Reason: 7YYB3BEoksc is a private video\n"
     ]
    },
    {
     "name": "stderr",
     "output_type": "stream",
     "text": [
      "\r",
      "  5%|███▍                                                                     | 768/16054 [1:00:45<4:57:22,  1.17s/it]"
     ]
    },
    {
     "name": "stdout",
     "output_type": "stream",
     "text": [
      "Failed to download video from https://www.youtube.com/watch?v=7YYB3BEoksc. Reason: 7YYB3BEoksc is a private video\n"
     ]
    },
    {
     "name": "stderr",
     "output_type": "stream",
     "text": [
      "\r",
      "  5%|███▍                                                                     | 769/16054 [1:00:46<4:47:52,  1.13s/it]"
     ]
    },
    {
     "name": "stdout",
     "output_type": "stream",
     "text": [
      "Failed to download video from https://www.youtube.com/watch?v=7YYB3BEoksc. Reason: 7YYB3BEoksc is a private video\n"
     ]
    },
    {
     "name": "stderr",
     "output_type": "stream",
     "text": [
      "\r",
      "  5%|███▌                                                                     | 770/16054 [1:00:48<4:58:10,  1.17s/it]"
     ]
    },
    {
     "name": "stdout",
     "output_type": "stream",
     "text": [
      "Failed to download video from https://www.youtube.com/watch?v=7YYB3BEoksc. Reason: 7YYB3BEoksc is a private video\n"
     ]
    },
    {
     "name": "stderr",
     "output_type": "stream",
     "text": [
      "\r",
      "  5%|███▌                                                                     | 771/16054 [1:00:49<5:08:25,  1.21s/it]"
     ]
    },
    {
     "name": "stdout",
     "output_type": "stream",
     "text": [
      "Failed to download video from https://www.youtube.com/watch?v=7YYB3BEoksc. Reason: 7YYB3BEoksc is a private video\n"
     ]
    },
    {
     "name": "stderr",
     "output_type": "stream",
     "text": [
      "\r",
      "  5%|███▌                                                                     | 772/16054 [1:00:50<5:02:38,  1.19s/it]"
     ]
    },
    {
     "name": "stdout",
     "output_type": "stream",
     "text": [
      "Failed to download video from https://www.youtube.com/watch?v=7YYB3BEoksc. Reason: 7YYB3BEoksc is a private video\n"
     ]
    },
    {
     "name": "stderr",
     "output_type": "stream",
     "text": [
      "\r",
      "  5%|███▌                                                                     | 773/16054 [1:00:51<5:05:51,  1.20s/it]"
     ]
    },
    {
     "name": "stdout",
     "output_type": "stream",
     "text": [
      "Failed to download video from https://www.youtube.com/watch?v=7YYB3BEoksc. Reason: 7YYB3BEoksc is a private video\n"
     ]
    },
    {
     "name": "stderr",
     "output_type": "stream",
     "text": [
      "\r",
      "  5%|███▌                                                                     | 774/16054 [1:00:53<5:09:46,  1.22s/it]"
     ]
    },
    {
     "name": "stdout",
     "output_type": "stream",
     "text": [
      "Failed to download video from https://www.youtube.com/watch?v=7YYB3BEoksc. Reason: 7YYB3BEoksc is a private video\n"
     ]
    },
    {
     "name": "stderr",
     "output_type": "stream",
     "text": [
      "\r",
      "  5%|███▌                                                                     | 775/16054 [1:00:54<5:07:59,  1.21s/it]"
     ]
    },
    {
     "name": "stdout",
     "output_type": "stream",
     "text": [
      "Failed to download video from https://www.youtube.com/watch?v=7YYB3BEoksc. Reason: 7YYB3BEoksc is a private video\n"
     ]
    },
    {
     "name": "stderr",
     "output_type": "stream",
     "text": [
      "\r",
      "  5%|███▌                                                                     | 776/16054 [1:00:55<5:27:10,  1.28s/it]"
     ]
    },
    {
     "name": "stdout",
     "output_type": "stream",
     "text": [
      "Failed to download video from https://www.youtube.com/watch?v=7YYB3BEoksc. Reason: 7YYB3BEoksc is a private video\n"
     ]
    },
    {
     "name": "stderr",
     "output_type": "stream",
     "text": [
      "\r",
      "  5%|███▌                                                                     | 777/16054 [1:00:56<5:17:00,  1.25s/it]"
     ]
    },
    {
     "name": "stdout",
     "output_type": "stream",
     "text": [
      "Failed to download video from https://www.youtube.com/watch?v=7YYB3BEoksc. Reason: 7YYB3BEoksc is a private video\n"
     ]
    },
    {
     "name": "stderr",
     "output_type": "stream",
     "text": [
      "\r",
      "  5%|███▌                                                                     | 778/16054 [1:00:58<5:16:15,  1.24s/it]"
     ]
    },
    {
     "name": "stdout",
     "output_type": "stream",
     "text": [
      "Failed to download video from https://www.youtube.com/watch?v=7YYB3BEoksc. Reason: 7YYB3BEoksc is a private video\n"
     ]
    },
    {
     "name": "stderr",
     "output_type": "stream",
     "text": [
      "\r",
      "  5%|███▌                                                                     | 779/16054 [1:00:59<5:19:43,  1.26s/it]"
     ]
    },
    {
     "name": "stdout",
     "output_type": "stream",
     "text": [
      "Failed to download video from https://www.youtube.com/watch?v=7YYB3BEoksc. Reason: 7YYB3BEoksc is a private video\n"
     ]
    },
    {
     "name": "stderr",
     "output_type": "stream",
     "text": [
      "\r",
      "  5%|███▌                                                                     | 780/16054 [1:01:00<5:10:22,  1.22s/it]"
     ]
    },
    {
     "name": "stdout",
     "output_type": "stream",
     "text": [
      "Failed to download video from https://www.youtube.com/watch?v=7YYB3BEoksc. Reason: 7YYB3BEoksc is a private video\n"
     ]
    },
    {
     "name": "stderr",
     "output_type": "stream",
     "text": [
      "\r",
      "  5%|███▌                                                                     | 781/16054 [1:01:01<5:14:13,  1.23s/it]"
     ]
    },
    {
     "name": "stdout",
     "output_type": "stream",
     "text": [
      "Failed to download video from https://www.youtube.com/watch?v=7YYB3BEoksc. Reason: 7YYB3BEoksc is a private video\n"
     ]
    },
    {
     "name": "stderr",
     "output_type": "stream",
     "text": [
      "\r",
      "  5%|███▌                                                                     | 782/16054 [1:01:02<5:08:35,  1.21s/it]"
     ]
    },
    {
     "name": "stdout",
     "output_type": "stream",
     "text": [
      "Failed to download video from https://www.youtube.com/watch?v=7YYB3BEoksc. Reason: 7YYB3BEoksc is a private video\n"
     ]
    },
    {
     "name": "stderr",
     "output_type": "stream",
     "text": [
      "\r",
      "  5%|███▌                                                                     | 783/16054 [1:01:04<5:04:30,  1.20s/it]"
     ]
    },
    {
     "name": "stdout",
     "output_type": "stream",
     "text": [
      "Failed to download video from https://www.youtube.com/watch?v=7YYB3BEoksc. Reason: 7YYB3BEoksc is a private video\n"
     ]
    },
    {
     "name": "stderr",
     "output_type": "stream",
     "text": [
      "\r",
      "  5%|███▌                                                                     | 784/16054 [1:01:05<5:00:33,  1.18s/it]"
     ]
    },
    {
     "name": "stdout",
     "output_type": "stream",
     "text": [
      "Failed to download video from https://www.youtube.com/watch?v=7YYB3BEoksc. Reason: 7YYB3BEoksc is a private video\n"
     ]
    },
    {
     "name": "stderr",
     "output_type": "stream",
     "text": [
      "\r",
      "  5%|███▌                                                                     | 785/16054 [1:01:06<5:05:28,  1.20s/it]"
     ]
    },
    {
     "name": "stdout",
     "output_type": "stream",
     "text": [
      "Failed to download video from https://www.youtube.com/watch?v=7YYB3BEoksc. Reason: 7YYB3BEoksc is a private video\n"
     ]
    },
    {
     "name": "stderr",
     "output_type": "stream",
     "text": [
      "\r",
      "  5%|███▌                                                                     | 786/16054 [1:01:07<5:11:28,  1.22s/it]"
     ]
    },
    {
     "name": "stdout",
     "output_type": "stream",
     "text": [
      "Failed to download video from https://www.youtube.com/watch?v=7YYB3BEoksc. Reason: 7YYB3BEoksc is a private video\n"
     ]
    },
    {
     "name": "stderr",
     "output_type": "stream",
     "text": [
      "\r",
      "  5%|███▌                                                                     | 787/16054 [1:01:08<5:04:56,  1.20s/it]"
     ]
    },
    {
     "name": "stdout",
     "output_type": "stream",
     "text": [
      "Failed to download video from https://www.youtube.com/watch?v=7YYB3BEoksc. Reason: 7YYB3BEoksc is a private video\n"
     ]
    },
    {
     "name": "stderr",
     "output_type": "stream",
     "text": [
      "\r",
      "  5%|███▌                                                                     | 788/16054 [1:01:10<5:10:28,  1.22s/it]"
     ]
    },
    {
     "name": "stdout",
     "output_type": "stream",
     "text": [
      "Failed to download video from https://www.youtube.com/watch?v=7YYB3BEoksc. Reason: 7YYB3BEoksc is a private video\n"
     ]
    },
    {
     "name": "stderr",
     "output_type": "stream",
     "text": [
      "\r",
      "  5%|███▌                                                                     | 789/16054 [1:01:11<5:13:09,  1.23s/it]"
     ]
    },
    {
     "name": "stdout",
     "output_type": "stream",
     "text": [
      "Failed to download video from https://www.youtube.com/watch?v=7YYB3BEoksc. Reason: 7YYB3BEoksc is a private video\n"
     ]
    },
    {
     "name": "stderr",
     "output_type": "stream",
     "text": [
      "\r",
      "  5%|███▌                                                                     | 790/16054 [1:01:12<5:05:54,  1.20s/it]"
     ]
    },
    {
     "name": "stdout",
     "output_type": "stream",
     "text": [
      "Failed to download video from https://www.youtube.com/watch?v=7YYB3BEoksc. Reason: 7YYB3BEoksc is a private video\n"
     ]
    },
    {
     "name": "stderr",
     "output_type": "stream",
     "text": [
      "\r",
      "  5%|███▌                                                                     | 791/16054 [1:01:13<5:10:07,  1.22s/it]"
     ]
    },
    {
     "name": "stdout",
     "output_type": "stream",
     "text": [
      "Failed to download video from https://www.youtube.com/watch?v=7YYB3BEoksc. Reason: 7YYB3BEoksc is a private video\n"
     ]
    },
    {
     "name": "stderr",
     "output_type": "stream",
     "text": [
      "\r",
      "  5%|███▌                                                                     | 792/16054 [1:01:15<5:14:52,  1.24s/it]"
     ]
    },
    {
     "name": "stdout",
     "output_type": "stream",
     "text": [
      "Failed to download video from https://www.youtube.com/watch?v=7YYB3BEoksc. Reason: 7YYB3BEoksc is a private video\n"
     ]
    },
    {
     "name": "stderr",
     "output_type": "stream",
     "text": [
      "\r",
      "  5%|███▌                                                                     | 793/16054 [1:01:16<5:06:39,  1.21s/it]"
     ]
    },
    {
     "name": "stdout",
     "output_type": "stream",
     "text": [
      "Failed to download video from https://www.youtube.com/watch?v=7YYB3BEoksc. Reason: 7YYB3BEoksc is a private video\n"
     ]
    },
    {
     "name": "stderr",
     "output_type": "stream",
     "text": [
      "\r",
      "  5%|███▌                                                                     | 794/16054 [1:01:17<5:09:42,  1.22s/it]"
     ]
    },
    {
     "name": "stdout",
     "output_type": "stream",
     "text": [
      "Failed to download video from https://www.youtube.com/watch?v=7YYB3BEoksc. Reason: 7YYB3BEoksc is a private video\n"
     ]
    },
    {
     "name": "stderr",
     "output_type": "stream",
     "text": [
      "\r",
      "  5%|███▌                                                                     | 795/16054 [1:01:18<5:06:25,  1.20s/it]"
     ]
    },
    {
     "name": "stdout",
     "output_type": "stream",
     "text": [
      "Failed to download video from https://www.youtube.com/watch?v=7YYB3BEoksc. Reason: 7YYB3BEoksc is a private video\n"
     ]
    },
    {
     "name": "stderr",
     "output_type": "stream",
     "text": [
      "\r",
      "  5%|███▌                                                                     | 796/16054 [1:01:19<5:04:38,  1.20s/it]"
     ]
    },
    {
     "name": "stdout",
     "output_type": "stream",
     "text": [
      "Failed to download video from https://www.youtube.com/watch?v=7YYB3BEoksc. Reason: 7YYB3BEoksc is a private video\n"
     ]
    },
    {
     "name": "stderr",
     "output_type": "stream",
     "text": [
      "\r",
      "  5%|███▌                                                                     | 797/16054 [1:01:20<4:57:16,  1.17s/it]"
     ]
    },
    {
     "name": "stdout",
     "output_type": "stream",
     "text": [
      "Failed to download video from https://www.youtube.com/watch?v=7YYB3BEoksc. Reason: 7YYB3BEoksc is a private video\n"
     ]
    },
    {
     "name": "stderr",
     "output_type": "stream",
     "text": [
      "\r",
      "  5%|███▋                                                                     | 798/16054 [1:01:22<5:04:21,  1.20s/it]"
     ]
    },
    {
     "name": "stdout",
     "output_type": "stream",
     "text": [
      "Failed to download video from https://www.youtube.com/watch?v=7YYB3BEoksc. Reason: 7YYB3BEoksc is a private video\n"
     ]
    },
    {
     "name": "stderr",
     "output_type": "stream",
     "text": [
      "\r",
      "  5%|███▋                                                                     | 799/16054 [1:01:23<5:13:20,  1.23s/it]"
     ]
    },
    {
     "name": "stdout",
     "output_type": "stream",
     "text": [
      "Failed to download video from https://www.youtube.com/watch?v=7YYB3BEoksc. Reason: 7YYB3BEoksc is a private video\n"
     ]
    },
    {
     "name": "stderr",
     "output_type": "stream",
     "text": [
      "\r",
      "  5%|███▋                                                                     | 800/16054 [1:01:24<5:02:55,  1.19s/it]"
     ]
    },
    {
     "name": "stdout",
     "output_type": "stream",
     "text": [
      "Failed to download video from https://www.youtube.com/watch?v=7YYB3BEoksc. Reason: 7YYB3BEoksc is a private video\n"
     ]
    },
    {
     "name": "stderr",
     "output_type": "stream",
     "text": [
      "\r",
      "  5%|███▋                                                                     | 801/16054 [1:01:25<4:51:15,  1.15s/it]"
     ]
    },
    {
     "name": "stdout",
     "output_type": "stream",
     "text": [
      "Failed to download video from https://www.youtube.com/watch?v=7YYB3BEoksc. Reason: 7YYB3BEoksc is a private video\n"
     ]
    },
    {
     "name": "stderr",
     "output_type": "stream",
     "text": [
      "\r",
      "  5%|███▋                                                                     | 802/16054 [1:01:26<4:44:42,  1.12s/it]"
     ]
    },
    {
     "name": "stdout",
     "output_type": "stream",
     "text": [
      "Failed to download video from https://www.youtube.com/watch?v=7YYB3BEoksc. Reason: 7YYB3BEoksc is a private video\n"
     ]
    },
    {
     "name": "stderr",
     "output_type": "stream",
     "text": [
      "\r",
      "  5%|███▋                                                                     | 803/16054 [1:01:27<4:38:19,  1.09s/it]"
     ]
    },
    {
     "name": "stdout",
     "output_type": "stream",
     "text": [
      "Failed to download video from https://www.youtube.com/watch?v=7YYB3BEoksc. Reason: 7YYB3BEoksc is a private video\n"
     ]
    },
    {
     "name": "stderr",
     "output_type": "stream",
     "text": [
      "\r",
      "  5%|███▋                                                                     | 804/16054 [1:01:28<4:35:32,  1.08s/it]"
     ]
    },
    {
     "name": "stdout",
     "output_type": "stream",
     "text": [
      "Failed to download video from https://www.youtube.com/watch?v=7YYB3BEoksc. Reason: 7YYB3BEoksc is a private video\n"
     ]
    },
    {
     "name": "stderr",
     "output_type": "stream",
     "text": [
      "\r",
      "  5%|███▋                                                                     | 805/16054 [1:01:29<4:33:48,  1.08s/it]"
     ]
    },
    {
     "name": "stdout",
     "output_type": "stream",
     "text": [
      "Failed to download video from https://www.youtube.com/watch?v=7YYB3BEoksc. Reason: 7YYB3BEoksc is a private video\n"
     ]
    },
    {
     "name": "stderr",
     "output_type": "stream",
     "text": [
      "\r",
      "  5%|███▋                                                                     | 806/16054 [1:01:31<4:47:22,  1.13s/it]"
     ]
    },
    {
     "name": "stdout",
     "output_type": "stream",
     "text": [
      "Failed to download video from https://www.youtube.com/watch?v=7YYB3BEoksc. Reason: 7YYB3BEoksc is a private video\n"
     ]
    },
    {
     "name": "stderr",
     "output_type": "stream",
     "text": [
      "\r",
      "  5%|███▋                                                                     | 807/16054 [1:01:32<4:50:02,  1.14s/it]"
     ]
    },
    {
     "name": "stdout",
     "output_type": "stream",
     "text": [
      "Failed to download video from https://www.youtube.com/watch?v=7YYB3BEoksc. Reason: 7YYB3BEoksc is a private video\n"
     ]
    },
    {
     "name": "stderr",
     "output_type": "stream",
     "text": [
      "\r",
      "  5%|███▋                                                                     | 808/16054 [1:01:33<4:53:57,  1.16s/it]"
     ]
    },
    {
     "name": "stdout",
     "output_type": "stream",
     "text": [
      "Failed to download video from https://www.youtube.com/watch?v=7YYB3BEoksc. Reason: 7YYB3BEoksc is a private video\n"
     ]
    },
    {
     "name": "stderr",
     "output_type": "stream",
     "text": [
      "\r",
      "  5%|███▋                                                                     | 809/16054 [1:01:34<4:48:23,  1.13s/it]"
     ]
    },
    {
     "name": "stdout",
     "output_type": "stream",
     "text": [
      "Failed to download video from https://www.youtube.com/watch?v=7YYB3BEoksc. Reason: 7YYB3BEoksc is a private video\n"
     ]
    },
    {
     "name": "stderr",
     "output_type": "stream",
     "text": [
      "\r",
      "  5%|███▋                                                                     | 810/16054 [1:01:35<4:45:22,  1.12s/it]"
     ]
    },
    {
     "name": "stdout",
     "output_type": "stream",
     "text": [
      "Failed to download video from https://www.youtube.com/watch?v=7YYB3BEoksc. Reason: 7YYB3BEoksc is a private video\n"
     ]
    },
    {
     "name": "stderr",
     "output_type": "stream",
     "text": [
      "\r",
      "  5%|███▋                                                                     | 811/16054 [1:01:36<4:52:53,  1.15s/it]"
     ]
    },
    {
     "name": "stdout",
     "output_type": "stream",
     "text": [
      "Failed to download video from https://www.youtube.com/watch?v=7YYB3BEoksc. Reason: 7YYB3BEoksc is a private video\n"
     ]
    },
    {
     "name": "stderr",
     "output_type": "stream",
     "text": [
      "\r",
      "  5%|███▋                                                                     | 812/16054 [1:01:38<4:54:07,  1.16s/it]"
     ]
    },
    {
     "name": "stdout",
     "output_type": "stream",
     "text": [
      "Failed to download video from https://www.youtube.com/watch?v=7YYB3BEoksc. Reason: 7YYB3BEoksc is a private video\n"
     ]
    },
    {
     "name": "stderr",
     "output_type": "stream",
     "text": [
      "\r",
      "  5%|███▋                                                                     | 813/16054 [1:01:39<4:53:52,  1.16s/it]"
     ]
    },
    {
     "name": "stdout",
     "output_type": "stream",
     "text": [
      "Failed to download video from https://www.youtube.com/watch?v=7YYB3BEoksc. Reason: 7YYB3BEoksc is a private video\n"
     ]
    },
    {
     "name": "stderr",
     "output_type": "stream",
     "text": [
      "\r",
      "  5%|███▋                                                                     | 814/16054 [1:01:40<4:53:18,  1.15s/it]"
     ]
    },
    {
     "name": "stdout",
     "output_type": "stream",
     "text": [
      "Failed to download video from https://www.youtube.com/watch?v=7YYB3BEoksc. Reason: 7YYB3BEoksc is a private video\n"
     ]
    },
    {
     "name": "stderr",
     "output_type": "stream",
     "text": [
      "\r",
      "  5%|███▋                                                                     | 815/16054 [1:01:41<5:00:29,  1.18s/it]"
     ]
    },
    {
     "name": "stdout",
     "output_type": "stream",
     "text": [
      "Failed to download video from https://www.youtube.com/watch?v=7YYB3BEoksc. Reason: 7YYB3BEoksc is a private video\n"
     ]
    },
    {
     "name": "stderr",
     "output_type": "stream",
     "text": [
      "\r",
      "  5%|███▋                                                                     | 816/16054 [1:01:42<4:59:10,  1.18s/it]"
     ]
    },
    {
     "name": "stdout",
     "output_type": "stream",
     "text": [
      "Failed to download video from https://www.youtube.com/watch?v=7YYB3BEoksc. Reason: 7YYB3BEoksc is a private video\n"
     ]
    },
    {
     "name": "stderr",
     "output_type": "stream",
     "text": [
      "\r",
      "  5%|███▋                                                                     | 817/16054 [1:01:43<4:54:16,  1.16s/it]"
     ]
    },
    {
     "name": "stdout",
     "output_type": "stream",
     "text": [
      "Failed to download video from https://www.youtube.com/watch?v=7YYB3BEoksc. Reason: 7YYB3BEoksc is a private video\n"
     ]
    },
    {
     "name": "stderr",
     "output_type": "stream",
     "text": [
      "\r",
      "  5%|███▋                                                                     | 818/16054 [1:01:45<4:55:05,  1.16s/it]"
     ]
    },
    {
     "name": "stdout",
     "output_type": "stream",
     "text": [
      "Failed to download video from https://www.youtube.com/watch?v=7YYB3BEoksc. Reason: 7YYB3BEoksc is a private video\n"
     ]
    },
    {
     "name": "stderr",
     "output_type": "stream",
     "text": [
      "\r",
      "  5%|███▋                                                                     | 819/16054 [1:01:46<5:02:04,  1.19s/it]"
     ]
    },
    {
     "name": "stdout",
     "output_type": "stream",
     "text": [
      "Failed to download video from https://www.youtube.com/watch?v=7YYB3BEoksc. Reason: 7YYB3BEoksc is a private video\n"
     ]
    },
    {
     "name": "stderr",
     "output_type": "stream",
     "text": [
      "\r",
      "  5%|███▋                                                                     | 820/16054 [1:01:47<5:01:55,  1.19s/it]"
     ]
    },
    {
     "name": "stdout",
     "output_type": "stream",
     "text": [
      "Failed to download video from https://www.youtube.com/watch?v=7YYB3BEoksc. Reason: 7YYB3BEoksc is a private video\n"
     ]
    },
    {
     "name": "stderr",
     "output_type": "stream",
     "text": [
      "\r",
      "  5%|███▋                                                                     | 821/16054 [1:01:48<4:59:10,  1.18s/it]"
     ]
    },
    {
     "name": "stdout",
     "output_type": "stream",
     "text": [
      "Failed to download video from https://www.youtube.com/watch?v=7YYB3BEoksc. Reason: 7YYB3BEoksc is a private video\n"
     ]
    },
    {
     "name": "stderr",
     "output_type": "stream",
     "text": [
      "\r",
      "  5%|███▋                                                                     | 822/16054 [1:01:49<4:56:15,  1.17s/it]"
     ]
    },
    {
     "name": "stdout",
     "output_type": "stream",
     "text": [
      "Failed to download video from https://www.youtube.com/watch?v=7YYB3BEoksc. Reason: 7YYB3BEoksc is a private video\n"
     ]
    },
    {
     "name": "stderr",
     "output_type": "stream",
     "text": [
      "\r",
      "  5%|███▋                                                                     | 823/16054 [1:01:51<5:02:02,  1.19s/it]"
     ]
    },
    {
     "name": "stdout",
     "output_type": "stream",
     "text": [
      "Failed to download video from https://www.youtube.com/watch?v=7YYB3BEoksc. Reason: 7YYB3BEoksc is a private video\n"
     ]
    },
    {
     "name": "stderr",
     "output_type": "stream",
     "text": [
      "\r",
      "  5%|███▋                                                                     | 824/16054 [1:01:52<5:01:11,  1.19s/it]"
     ]
    },
    {
     "name": "stdout",
     "output_type": "stream",
     "text": [
      "Failed to download video from https://www.youtube.com/watch?v=7YYB3BEoksc. Reason: 7YYB3BEoksc is a private video\n"
     ]
    },
    {
     "name": "stderr",
     "output_type": "stream",
     "text": [
      "\r",
      "  5%|███▊                                                                     | 825/16054 [1:01:53<4:59:24,  1.18s/it]"
     ]
    },
    {
     "name": "stdout",
     "output_type": "stream",
     "text": [
      "Failed to download video from https://www.youtube.com/watch?v=7YYB3BEoksc. Reason: 7YYB3BEoksc is a private video\n"
     ]
    },
    {
     "name": "stderr",
     "output_type": "stream",
     "text": [
      "\r",
      "  5%|███▊                                                                     | 826/16054 [1:01:54<4:55:53,  1.17s/it]"
     ]
    },
    {
     "name": "stdout",
     "output_type": "stream",
     "text": [
      "Failed to download video from https://www.youtube.com/watch?v=7YYB3BEoksc. Reason: 7YYB3BEoksc is a private video\n"
     ]
    },
    {
     "name": "stderr",
     "output_type": "stream",
     "text": [
      "\r",
      "  5%|███▊                                                                     | 827/16054 [1:01:55<5:01:57,  1.19s/it]"
     ]
    },
    {
     "name": "stdout",
     "output_type": "stream",
     "text": [
      "Failed to download video from https://www.youtube.com/watch?v=7YYB3BEoksc. Reason: 7YYB3BEoksc is a private video\n"
     ]
    },
    {
     "name": "stderr",
     "output_type": "stream",
     "text": [
      "\r",
      "  5%|███▊                                                                     | 828/16054 [1:01:57<5:09:24,  1.22s/it]"
     ]
    },
    {
     "name": "stdout",
     "output_type": "stream",
     "text": [
      "Failed to download video from https://www.youtube.com/watch?v=7YYB3BEoksc. Reason: 7YYB3BEoksc is a private video\n"
     ]
    },
    {
     "name": "stderr",
     "output_type": "stream",
     "text": [
      "\r",
      "  5%|███▊                                                                     | 829/16054 [1:01:58<5:01:56,  1.19s/it]"
     ]
    },
    {
     "name": "stdout",
     "output_type": "stream",
     "text": [
      "Failed to download video from https://www.youtube.com/watch?v=7YYB3BEoksc. Reason: 7YYB3BEoksc is a private video\n"
     ]
    },
    {
     "name": "stderr",
     "output_type": "stream",
     "text": [
      "\r",
      "  5%|███▊                                                                     | 830/16054 [1:01:59<5:07:22,  1.21s/it]"
     ]
    },
    {
     "name": "stdout",
     "output_type": "stream",
     "text": [
      "Failed to download video from https://www.youtube.com/watch?v=7YYB3BEoksc. Reason: 7YYB3BEoksc is a private video\n"
     ]
    },
    {
     "name": "stderr",
     "output_type": "stream",
     "text": [
      "\r",
      "  5%|███▊                                                                     | 831/16054 [1:02:00<5:04:15,  1.20s/it]"
     ]
    },
    {
     "name": "stdout",
     "output_type": "stream",
     "text": [
      "Failed to download video from https://www.youtube.com/watch?v=7YYB3BEoksc. Reason: 7YYB3BEoksc is a private video\n"
     ]
    },
    {
     "name": "stderr",
     "output_type": "stream",
     "text": [
      "\r",
      "  5%|███▊                                                                     | 832/16054 [1:02:01<5:00:38,  1.18s/it]"
     ]
    },
    {
     "name": "stdout",
     "output_type": "stream",
     "text": [
      "Failed to download video from https://www.youtube.com/watch?v=7YYB3BEoksc. Reason: 7YYB3BEoksc is a private video\n"
     ]
    },
    {
     "name": "stderr",
     "output_type": "stream",
     "text": [
      "\r",
      "  5%|███▊                                                                     | 833/16054 [1:02:02<4:57:57,  1.17s/it]"
     ]
    },
    {
     "name": "stdout",
     "output_type": "stream",
     "text": [
      "Failed to download video from https://www.youtube.com/watch?v=7YYB3BEoksc. Reason: 7YYB3BEoksc is a private video\n"
     ]
    },
    {
     "name": "stderr",
     "output_type": "stream",
     "text": [
      "\r",
      "  5%|███▊                                                                     | 834/16054 [1:02:04<5:02:41,  1.19s/it]"
     ]
    },
    {
     "name": "stdout",
     "output_type": "stream",
     "text": [
      "Failed to download video from https://www.youtube.com/watch?v=7YYB3BEoksc. Reason: 7YYB3BEoksc is a private video\n"
     ]
    },
    {
     "name": "stderr",
     "output_type": "stream",
     "text": [
      "\r",
      "  5%|███▊                                                                     | 835/16054 [1:02:05<5:09:56,  1.22s/it]"
     ]
    },
    {
     "name": "stdout",
     "output_type": "stream",
     "text": [
      "Failed to download video from https://www.youtube.com/watch?v=7YYB3BEoksc. Reason: 7YYB3BEoksc is a private video\n"
     ]
    },
    {
     "name": "stderr",
     "output_type": "stream",
     "text": [
      "\r",
      "  5%|███▊                                                                     | 836/16054 [1:02:06<5:03:02,  1.19s/it]"
     ]
    },
    {
     "name": "stdout",
     "output_type": "stream",
     "text": [
      "Failed to download video from https://www.youtube.com/watch?v=7YYB3BEoksc. Reason: 7YYB3BEoksc is a private video\n"
     ]
    },
    {
     "name": "stderr",
     "output_type": "stream",
     "text": [
      "\r",
      "  5%|███▊                                                                     | 837/16054 [1:02:07<5:08:25,  1.22s/it]"
     ]
    },
    {
     "name": "stdout",
     "output_type": "stream",
     "text": [
      "Failed to download video from https://www.youtube.com/watch?v=7YYB3BEoksc. Reason: 7YYB3BEoksc is a private video\n"
     ]
    },
    {
     "name": "stderr",
     "output_type": "stream",
     "text": [
      "\r",
      "  5%|███▊                                                                     | 838/16054 [1:02:09<5:13:28,  1.24s/it]"
     ]
    },
    {
     "name": "stdout",
     "output_type": "stream",
     "text": [
      "Failed to download video from https://www.youtube.com/watch?v=7YYB3BEoksc. Reason: 7YYB3BEoksc is a private video\n"
     ]
    },
    {
     "name": "stderr",
     "output_type": "stream",
     "text": [
      "\r",
      "  5%|███▊                                                                     | 839/16054 [1:02:10<5:05:40,  1.21s/it]"
     ]
    },
    {
     "name": "stdout",
     "output_type": "stream",
     "text": [
      "Failed to download video from https://www.youtube.com/watch?v=7YYB3BEoksc. Reason: 7YYB3BEoksc is a private video\n"
     ]
    },
    {
     "name": "stderr",
     "output_type": "stream",
     "text": [
      "\r",
      "  5%|███▊                                                                     | 840/16054 [1:02:11<5:08:29,  1.22s/it]"
     ]
    },
    {
     "name": "stdout",
     "output_type": "stream",
     "text": [
      "Failed to download video from https://www.youtube.com/watch?v=7YYB3BEoksc. Reason: 7YYB3BEoksc is a private video\n"
     ]
    },
    {
     "name": "stderr",
     "output_type": "stream",
     "text": [
      "\r",
      "  5%|███▊                                                                     | 841/16054 [1:02:12<5:16:41,  1.25s/it]"
     ]
    },
    {
     "name": "stdout",
     "output_type": "stream",
     "text": [
      "Failed to download video from https://www.youtube.com/watch?v=7YYB3BEoksc. Reason: 7YYB3BEoksc is a private video\n"
     ]
    },
    {
     "name": "stderr",
     "output_type": "stream",
     "text": [
      "\r",
      "  5%|███▊                                                                     | 842/16054 [1:02:13<5:04:07,  1.20s/it]"
     ]
    },
    {
     "name": "stdout",
     "output_type": "stream",
     "text": [
      "Failed to download video from https://www.youtube.com/watch?v=7YYB3BEoksc. Reason: 7YYB3BEoksc is a private video\n"
     ]
    },
    {
     "name": "stderr",
     "output_type": "stream",
     "text": [
      "  5%|███▊                                                                    | 849/16054 [1:02:54<19:32:16,  4.63s/it]"
     ]
    },
    {
     "name": "stdout",
     "output_type": "stream",
     "text": [
      "Failed to download video from www.youtube.com/watch?v=T-5gCZTBobA. Reason: T-5gCZTBobA is a private video\n"
     ]
    },
    {
     "name": "stderr",
     "output_type": "stream",
     "text": [
      "  5%|███▊                                                                    | 851/16054 [1:02:59<14:51:29,  3.52s/it]"
     ]
    },
    {
     "name": "stdout",
     "output_type": "stream",
     "text": [
      "Failed to download video from www.youtube.com/watch?v=Jk8OmBIYZLA. Reason: Jk8OmBIYZLA is a private video\n"
     ]
    },
    {
     "name": "stderr",
     "output_type": "stream",
     "text": [
      "  5%|███▊                                                                    | 854/16054 [1:03:13<15:55:32,  3.77s/it]"
     ]
    },
    {
     "name": "stdout",
     "output_type": "stream",
     "text": [
      "Failed to download video from www.youtube.com/watch?v=wZpMNvLP0sU. Reason: wZpMNvLP0sU is a private video\n"
     ]
    },
    {
     "name": "stderr",
     "output_type": "stream",
     "text": [
      "  5%|███▊                                                                    | 858/16054 [1:03:33<16:37:25,  3.94s/it]"
     ]
    },
    {
     "name": "stdout",
     "output_type": "stream",
     "text": [
      "Failed to download video from www.youtube.com/watch?v=4CwQ3J7Fo5I. Reason: 4CwQ3J7Fo5I is a private video\n"
     ]
    },
    {
     "name": "stderr",
     "output_type": "stream",
     "text": [
      "  6%|████▍                                                                   | 978/16054 [1:20:24<24:07:59,  5.76s/it]"
     ]
    },
    {
     "name": "stdout",
     "output_type": "stream",
     "text": [
      "Failed to download video from www.youtube.com/watch?v=YLdgsldUMR0. Reason: YLdgsldUMR0 is unavailable\n"
     ]
    },
    {
     "name": "stderr",
     "output_type": "stream",
     "text": [
      "  6%|████▍                                                                   | 987/16054 [1:21:06<16:21:25,  3.91s/it]"
     ]
    },
    {
     "name": "stdout",
     "output_type": "stream",
     "text": [
      "Failed to download video from www.youtube.com/watch?v=P-ibWNWqGsw. Reason: P-ibWNWqGsw is unavailable\n"
     ]
    },
    {
     "name": "stderr",
     "output_type": "stream",
     "text": [
      "  6%|████▍                                                                   | 990/16054 [1:21:16<13:42:37,  3.28s/it]"
     ]
    },
    {
     "name": "stdout",
     "output_type": "stream",
     "text": [
      "Failed to download video from www.youtube.com/watch?v=5aI0Hq_SYkE. Reason: 5aI0Hq_SYkE is unavailable\n"
     ]
    },
    {
     "name": "stderr",
     "output_type": "stream",
     "text": [
      "  7%|█████                                                                  | 1156/16054 [1:41:31<28:42:53,  6.94s/it]"
     ]
    },
    {
     "name": "stdout",
     "output_type": "stream",
     "text": [
      "Failed to download video from https://www.youtube.com/watch?v=VSS0sARFsI8. Reason: IncompleteRead(0 bytes read, 120702 more expected)\n"
     ]
    },
    {
     "name": "stderr",
     "output_type": "stream",
     "text": [
      "\r",
      "  7%|█████                                                                  | 1157/16054 [1:41:33<21:33:39,  5.21s/it]"
     ]
    },
    {
     "name": "stdout",
     "output_type": "stream",
     "text": [
      "Failed to download video from https://www.youtube.com/watch?v=zfLOQTpZSps. Reason: zfLOQTpZSps is unavailable\n"
     ]
    },
    {
     "name": "stderr",
     "output_type": "stream",
     "text": [
      "\r",
      "  7%|█████                                                                  | 1158/16054 [1:41:34<16:38:06,  4.02s/it]"
     ]
    },
    {
     "name": "stdout",
     "output_type": "stream",
     "text": [
      "Failed to download video from https://www.youtube.com/watch?v=zfLOQTpZSps. Reason: zfLOQTpZSps is unavailable\n"
     ]
    },
    {
     "name": "stderr",
     "output_type": "stream",
     "text": [
      "\r",
      "  7%|█████▏                                                                 | 1159/16054 [1:41:35<13:05:21,  3.16s/it]"
     ]
    },
    {
     "name": "stdout",
     "output_type": "stream",
     "text": [
      "Failed to download video from https://www.youtube.com/watch?v=zfLOQTpZSps. Reason: zfLOQTpZSps is unavailable\n"
     ]
    },
    {
     "name": "stderr",
     "output_type": "stream",
     "text": [
      "\r",
      "  7%|█████▏                                                                 | 1160/16054 [1:41:36<10:32:18,  2.55s/it]"
     ]
    },
    {
     "name": "stdout",
     "output_type": "stream",
     "text": [
      "Failed to download video from https://www.youtube.com/watch?v=zfLOQTpZSps. Reason: zfLOQTpZSps is unavailable\n"
     ]
    },
    {
     "name": "stderr",
     "output_type": "stream",
     "text": [
      "\r",
      "  7%|█████▏                                                                  | 1161/16054 [1:41:37<8:56:34,  2.16s/it]"
     ]
    },
    {
     "name": "stdout",
     "output_type": "stream",
     "text": [
      "Failed to download video from https://www.youtube.com/watch?v=zfLOQTpZSps. Reason: zfLOQTpZSps is unavailable\n"
     ]
    },
    {
     "name": "stderr",
     "output_type": "stream",
     "text": [
      "\r",
      "  7%|█████▏                                                                  | 1162/16054 [1:41:39<7:52:08,  1.90s/it]"
     ]
    },
    {
     "name": "stdout",
     "output_type": "stream",
     "text": [
      "Failed to download video from https://www.youtube.com/watch?v=zfLOQTpZSps. Reason: zfLOQTpZSps is unavailable\n"
     ]
    },
    {
     "name": "stderr",
     "output_type": "stream",
     "text": [
      "\r",
      "  7%|█████▏                                                                  | 1163/16054 [1:41:40<7:04:35,  1.71s/it]"
     ]
    },
    {
     "name": "stdout",
     "output_type": "stream",
     "text": [
      "Failed to download video from https://www.youtube.com/watch?v=zfLOQTpZSps. Reason: zfLOQTpZSps is unavailable\n"
     ]
    },
    {
     "name": "stderr",
     "output_type": "stream",
     "text": [
      "\r",
      "  7%|█████▏                                                                  | 1164/16054 [1:41:41<6:29:51,  1.57s/it]"
     ]
    },
    {
     "name": "stdout",
     "output_type": "stream",
     "text": [
      "Failed to download video from https://www.youtube.com/watch?v=zfLOQTpZSps. Reason: zfLOQTpZSps is unavailable\n"
     ]
    },
    {
     "name": "stderr",
     "output_type": "stream",
     "text": [
      "\r",
      "  7%|█████▏                                                                  | 1165/16054 [1:41:42<6:01:52,  1.46s/it]"
     ]
    },
    {
     "name": "stdout",
     "output_type": "stream",
     "text": [
      "Failed to download video from https://www.youtube.com/watch?v=zfLOQTpZSps. Reason: zfLOQTpZSps is unavailable\n"
     ]
    },
    {
     "name": "stderr",
     "output_type": "stream",
     "text": [
      "\r",
      "  7%|█████▏                                                                  | 1166/16054 [1:41:43<5:34:04,  1.35s/it]"
     ]
    },
    {
     "name": "stdout",
     "output_type": "stream",
     "text": [
      "Failed to download video from https://www.youtube.com/watch?v=zfLOQTpZSps. Reason: zfLOQTpZSps is unavailable\n"
     ]
    },
    {
     "name": "stderr",
     "output_type": "stream",
     "text": [
      "\r",
      "  7%|█████▏                                                                  | 1167/16054 [1:41:45<5:27:35,  1.32s/it]"
     ]
    },
    {
     "name": "stdout",
     "output_type": "stream",
     "text": [
      "Failed to download video from https://www.youtube.com/watch?v=zfLOQTpZSps. Reason: zfLOQTpZSps is unavailable\n"
     ]
    },
    {
     "name": "stderr",
     "output_type": "stream",
     "text": [
      "  7%|█████▏                                                                 | 1184/16054 [1:43:15<17:36:36,  4.26s/it]"
     ]
    },
    {
     "name": "stdout",
     "output_type": "stream",
     "text": [
      "Failed to download video from www.youtube.com/watch?v=nO17gdTDlkE. Reason: nO17gdTDlkE is unavailable\n"
     ]
    },
    {
     "name": "stderr",
     "output_type": "stream",
     "text": [
      "\r",
      "  7%|█████▏                                                                 | 1185/16054 [1:43:16<13:43:51,  3.32s/it]"
     ]
    },
    {
     "name": "stdout",
     "output_type": "stream",
     "text": [
      "Failed to download video from www.youtube.com/watch?v=H9vlB0A119o. Reason: H9vlB0A119o is a private video\n"
     ]
    },
    {
     "name": "stderr",
     "output_type": "stream",
     "text": [
      "  7%|█████▏                                                                 | 1187/16054 [1:43:23<12:54:09,  3.12s/it]"
     ]
    },
    {
     "name": "stdout",
     "output_type": "stream",
     "text": [
      "Failed to download video from https://www.youtube.com/watch?v=jQTwaySU-yY. Reason: jQTwaySU-yY is unavailable\n"
     ]
    },
    {
     "name": "stderr",
     "output_type": "stream",
     "text": [
      "\r",
      "  7%|█████▎                                                                 | 1188/16054 [1:43:24<10:27:51,  2.53s/it]"
     ]
    },
    {
     "name": "stdout",
     "output_type": "stream",
     "text": [
      "Failed to download video from https://www.youtube.com/watch?v=jQTwaySU-yY. Reason: jQTwaySU-yY is unavailable\n"
     ]
    },
    {
     "name": "stderr",
     "output_type": "stream",
     "text": [
      "\r",
      "  7%|█████▎                                                                  | 1189/16054 [1:43:25<8:44:07,  2.12s/it]"
     ]
    },
    {
     "name": "stdout",
     "output_type": "stream",
     "text": [
      "Failed to download video from https://www.youtube.com/watch?v=jQTwaySU-yY. Reason: jQTwaySU-yY is unavailable\n"
     ]
    },
    {
     "name": "stderr",
     "output_type": "stream",
     "text": [
      "\r",
      "  7%|█████▎                                                                  | 1190/16054 [1:43:26<7:39:32,  1.86s/it]"
     ]
    },
    {
     "name": "stdout",
     "output_type": "stream",
     "text": [
      "Failed to download video from https://www.youtube.com/watch?v=jQTwaySU-yY. Reason: jQTwaySU-yY is unavailable\n"
     ]
    },
    {
     "name": "stderr",
     "output_type": "stream",
     "text": [
      "\r",
      "  7%|█████▎                                                                  | 1191/16054 [1:43:28<6:49:07,  1.65s/it]"
     ]
    },
    {
     "name": "stdout",
     "output_type": "stream",
     "text": [
      "Failed to download video from https://www.youtube.com/watch?v=jQTwaySU-yY. Reason: jQTwaySU-yY is unavailable\n"
     ]
    },
    {
     "name": "stderr",
     "output_type": "stream",
     "text": [
      "\r",
      "  7%|█████▎                                                                  | 1192/16054 [1:43:29<6:12:54,  1.51s/it]"
     ]
    },
    {
     "name": "stdout",
     "output_type": "stream",
     "text": [
      "Failed to download video from https://www.youtube.com/watch?v=jQTwaySU-yY. Reason: jQTwaySU-yY is unavailable\n"
     ]
    },
    {
     "name": "stderr",
     "output_type": "stream",
     "text": [
      "\r",
      "  7%|█████▎                                                                  | 1193/16054 [1:43:30<5:43:19,  1.39s/it]"
     ]
    },
    {
     "name": "stdout",
     "output_type": "stream",
     "text": [
      "Failed to download video from https://www.youtube.com/watch?v=jQTwaySU-yY. Reason: jQTwaySU-yY is unavailable\n"
     ]
    },
    {
     "name": "stderr",
     "output_type": "stream",
     "text": [
      "\r",
      "  7%|█████▎                                                                  | 1194/16054 [1:43:31<5:34:10,  1.35s/it]"
     ]
    },
    {
     "name": "stdout",
     "output_type": "stream",
     "text": [
      "Failed to download video from https://www.youtube.com/watch?v=jQTwaySU-yY. Reason: jQTwaySU-yY is unavailable\n"
     ]
    },
    {
     "name": "stderr",
     "output_type": "stream",
     "text": [
      "\r",
      "  7%|█████▎                                                                  | 1195/16054 [1:43:32<5:30:06,  1.33s/it]"
     ]
    },
    {
     "name": "stdout",
     "output_type": "stream",
     "text": [
      "Failed to download video from https://www.youtube.com/watch?v=jQTwaySU-yY. Reason: jQTwaySU-yY is unavailable\n"
     ]
    },
    {
     "name": "stderr",
     "output_type": "stream",
     "text": [
      "\r",
      "  7%|█████▎                                                                  | 1196/16054 [1:43:34<5:13:24,  1.27s/it]"
     ]
    },
    {
     "name": "stdout",
     "output_type": "stream",
     "text": [
      "Failed to download video from https://www.youtube.com/watch?v=jQTwaySU-yY. Reason: jQTwaySU-yY is unavailable\n"
     ]
    },
    {
     "name": "stderr",
     "output_type": "stream",
     "text": [
      "\r",
      "  7%|█████▎                                                                  | 1197/16054 [1:43:35<4:57:23,  1.20s/it]"
     ]
    },
    {
     "name": "stdout",
     "output_type": "stream",
     "text": [
      "Failed to download video from https://www.youtube.com/watch?v=jQTwaySU-yY. Reason: jQTwaySU-yY is unavailable\n"
     ]
    },
    {
     "name": "stderr",
     "output_type": "stream",
     "text": [
      "\r",
      "  7%|█████▎                                                                  | 1198/16054 [1:43:36<4:46:05,  1.16s/it]"
     ]
    },
    {
     "name": "stdout",
     "output_type": "stream",
     "text": [
      "Failed to download video from https://www.youtube.com/watch?v=jQTwaySU-yY. Reason: jQTwaySU-yY is unavailable\n"
     ]
    },
    {
     "name": "stderr",
     "output_type": "stream",
     "text": [
      "\r",
      "  7%|█████▍                                                                  | 1199/16054 [1:43:37<4:53:57,  1.19s/it]"
     ]
    },
    {
     "name": "stdout",
     "output_type": "stream",
     "text": [
      "Failed to download video from https://www.youtube.com/watch?v=jQTwaySU-yY. Reason: jQTwaySU-yY is unavailable\n"
     ]
    },
    {
     "name": "stderr",
     "output_type": "stream",
     "text": [
      "\r",
      "  7%|█████▍                                                                  | 1200/16054 [1:43:38<4:53:37,  1.19s/it]"
     ]
    },
    {
     "name": "stdout",
     "output_type": "stream",
     "text": [
      "Failed to download video from https://www.youtube.com/watch?v=jQTwaySU-yY. Reason: jQTwaySU-yY is unavailable\n"
     ]
    },
    {
     "name": "stderr",
     "output_type": "stream",
     "text": [
      "  7%|█████▎                                                                 | 1203/16054 [1:43:52<11:55:30,  2.89s/it]"
     ]
    },
    {
     "name": "stdout",
     "output_type": "stream",
     "text": [
      "Failed to download video from www.youtube.com/watch?v=NGNoEmYEpCQ. Reason: NGNoEmYEpCQ is unavailable\n"
     ]
    },
    {
     "name": "stderr",
     "output_type": "stream",
     "text": [
      "  8%|█████▌                                                                 | 1247/16054 [1:49:27<29:08:53,  7.09s/it][h264 @ 0x122036b90] mmco: unref short failure\n",
      "[h264 @ 0x122036b90] mmco: unref short failure\n",
      "[h264 @ 0x122036b90] mmco: unref short failure\n",
      "[h264 @ 0x122036b90] mmco: unref short failure\n",
      "[h264 @ 0x122036b90] mmco: unref short failure\n",
      "[h264 @ 0x122036b90] mmco: unref short failure\n",
      "[h264 @ 0x122036b90] mmco: unref short failure\n",
      "[h264 @ 0x122036b90] mmco: unref short failure\n",
      "[h264 @ 0x122036b90] mmco: unref short failure\n",
      "[h264 @ 0x122036b90] mmco: unref short failure\n",
      "[h264 @ 0x122036b90] mmco: unref short failure\n",
      "[h264 @ 0x122036b90] mmco: unref short failure\n",
      "[h264 @ 0x122036b90] mmco: unref short failure\n",
      "[h264 @ 0x122036b90] mmco: unref short failure\n",
      "[h264 @ 0x122036b90] mmco: unref short failure\n",
      "[h264 @ 0x122036b90] mmco: unref short failure\n",
      "[h264 @ 0x122036b90] mmco: unref short failure\n",
      "[h264 @ 0x122036b90] mmco: unref short failure\n",
      "[h264 @ 0x122036b90] mmco: unref short failure\n",
      "[h264 @ 0x122036b90] mmco: unref short failure\n",
      "[h264 @ 0x122036b90] mmco: unref short failure\n",
      "[h264 @ 0x122036b90] mmco: unref short failure\n",
      "[h264 @ 0x122036b90] mmco: unref short failure\n",
      "[h264 @ 0x122036b90] mmco: unref short failure\n",
      "[h264 @ 0x122036b90] mmco: unref short failure\n",
      "[h264 @ 0x122036b90] mmco: unref short failure\n",
      "[h264 @ 0x122036b90] mmco: unref short failure\n",
      "[h264 @ 0x122036b90] mmco: unref short failure\n",
      "[h264 @ 0x122036b90] mmco: unref short failure\n",
      "[h264 @ 0x122036b90] mmco: unref short failure\n",
      "[h264 @ 0x122036b90] mmco: unref short failure\n",
      "[h264 @ 0x122036b90] mmco: unref short failure\n",
      "  8%|█████▌                                                                 | 1248/16054 [1:49:31<25:10:54,  6.12s/it][h264 @ 0x29f8c6500] mmco: unref short failure\n",
      "[h264 @ 0x29f8c6500] mmco: unref short failure\n",
      "[h264 @ 0x29f8c6500] mmco: unref short failure\n",
      "[h264 @ 0x29f8c6500] mmco: unref short failure\n",
      "[h264 @ 0x29f8c6500] mmco: unref short failure\n",
      "[h264 @ 0x29f8c6500] mmco: unref short failure\n",
      "[h264 @ 0x29f8c6500] mmco: unref short failure\n",
      "[h264 @ 0x29f8c6500] mmco: unref short failure\n",
      "[h264 @ 0x29f8c6500] mmco: unref short failure\n",
      "[h264 @ 0x29f8c6500] mmco: unref short failure\n",
      "[h264 @ 0x29f8c6500] mmco: unref short failure\n",
      "[h264 @ 0x29f8c6500] mmco: unref short failure\n",
      "[h264 @ 0x29f8c6500] mmco: unref short failure\n",
      "[h264 @ 0x29f8c6500] mmco: unref short failure\n",
      "[h264 @ 0x29f8c6500] mmco: unref short failure\n",
      "[h264 @ 0x29f8c6500] mmco: unref short failure\n",
      "[h264 @ 0x29f8c6500] mmco: unref short failure\n",
      "[h264 @ 0x29f8c6500] mmco: unref short failure\n",
      "[h264 @ 0x29f8c6500] mmco: unref short failure\n",
      "[h264 @ 0x29f8c6500] mmco: unref short failure\n",
      "[h264 @ 0x29f8c6500] mmco: unref short failure\n",
      "[h264 @ 0x29f8c6500] mmco: unref short failure\n",
      "[h264 @ 0x29f8c6500] mmco: unref short failure\n",
      "[h264 @ 0x29f8c6500] mmco: unref short failure\n",
      "[h264 @ 0x29f8c6500] mmco: unref short failure\n",
      "[h264 @ 0x29f8c6500] mmco: unref short failure\n",
      "[h264 @ 0x29f8c6500] mmco: unref short failure\n",
      "[h264 @ 0x29f8c6500] mmco: unref short failure\n",
      "[h264 @ 0x29f8c6500] mmco: unref short failure\n",
      "[h264 @ 0x29f8c6500] mmco: unref short failure\n",
      "[h264 @ 0x29f8c6500] mmco: unref short failure\n",
      "[h264 @ 0x29f8c6500] mmco: unref short failure\n",
      "  8%|█████▌                                                                 | 1249/16054 [1:49:35<22:48:56,  5.55s/it][h264 @ 0x29f8ac760] mmco: unref short failure\n",
      "[h264 @ 0x29f8ac760] mmco: unref short failure\n",
      "[h264 @ 0x29f8ac760] mmco: unref short failure\n",
      "[h264 @ 0x29f8ac760] mmco: unref short failure\n",
      "[h264 @ 0x29f8ac760] mmco: unref short failure\n",
      "[h264 @ 0x29f8ac760] mmco: unref short failure\n",
      "[h264 @ 0x29f8ac760] mmco: unref short failure\n",
      "[h264 @ 0x29f8ac760] mmco: unref short failure\n",
      "[h264 @ 0x29f8ac760] mmco: unref short failure\n",
      "[h264 @ 0x29f8ac760] mmco: unref short failure\n",
      "[h264 @ 0x29f8ac760] mmco: unref short failure\n",
      "[h264 @ 0x29f8ac760] mmco: unref short failure\n",
      "[h264 @ 0x29f8ac760] mmco: unref short failure\n",
      "[h264 @ 0x29f8ac760] mmco: unref short failure\n",
      "[h264 @ 0x29f8ac760] mmco: unref short failure\n",
      "[h264 @ 0x29f8ac760] mmco: unref short failure\n",
      "[h264 @ 0x29f8ac760] mmco: unref short failure\n",
      "[h264 @ 0x29f8ac760] mmco: unref short failure\n",
      "[h264 @ 0x29f8ac760] mmco: unref short failure\n",
      "[h264 @ 0x29f8ac760] mmco: unref short failure\n",
      "[h264 @ 0x29f8ac760] mmco: unref short failure\n",
      "[h264 @ 0x29f8ac760] mmco: unref short failure\n",
      "[h264 @ 0x29f8ac760] mmco: unref short failure\n",
      "[h264 @ 0x29f8ac760] mmco: unref short failure\n",
      "[h264 @ 0x29f8ac760] mmco: unref short failure\n",
      "[h264 @ 0x29f8ac760] mmco: unref short failure\n",
      "[h264 @ 0x29f8ac760] mmco: unref short failure\n",
      "[h264 @ 0x29f8ac760] mmco: unref short failure\n",
      "[h264 @ 0x29f8ac760] mmco: unref short failure\n",
      "[h264 @ 0x29f8ac760] mmco: unref short failure\n",
      "[h264 @ 0x29f8ac760] mmco: unref short failure\n",
      "[h264 @ 0x29f8ac760] mmco: unref short failure\n",
      "[h264 @ 0x29f8ac760] mmco: unref short failure\n",
      "[h264 @ 0x29f8ac760] mmco: unref short failure\n",
      "[h264 @ 0x29f8ac760] mmco: unref short failure\n",
      "[h264 @ 0x29f8ac760] mmco: unref short failure\n",
      "[h264 @ 0x29f8ac760] mmco: unref short failure\n",
      "[h264 @ 0x29f8ac760] mmco: unref short failure\n",
      "[h264 @ 0x29f8ac760] mmco: unref short failure\n",
      "[h264 @ 0x29f8ac760] mmco: unref short failure\n",
      "[h264 @ 0x29f8ac760] mmco: unref short failure\n",
      "[h264 @ 0x29f8ac760] mmco: unref short failure\n",
      "[h264 @ 0x29f8ac760] mmco: unref short failure\n",
      "[h264 @ 0x29f8ac760] mmco: unref short failure\n",
      "[h264 @ 0x29f8ac760] mmco: unref short failure\n",
      "[h264 @ 0x29f8ac760] mmco: unref short failure\n",
      "[h264 @ 0x29f8ac760] mmco: unref short failure\n",
      "[h264 @ 0x29f8ac760] mmco: unref short failure\n",
      "[h264 @ 0x29f8ac760] mmco: unref short failure\n",
      "[h264 @ 0x29f8ac760] mmco: unref short failure\n",
      "[h264 @ 0x29f8ac760] mmco: unref short failure\n",
      "[h264 @ 0x29f8ac760] mmco: unref short failure\n",
      "[h264 @ 0x29f8ac760] mmco: unref short failure\n",
      "[h264 @ 0x29f8ac760] mmco: unref short failure\n",
      "[h264 @ 0x29f8ac760] mmco: unref short failure\n",
      "[h264 @ 0x29f8ac760] mmco: unref short failure\n",
      "[h264 @ 0x29f8ac760] mmco: unref short failure\n",
      "[h264 @ 0x29f8ac760] mmco: unref short failure\n",
      "[h264 @ 0x29f8ac760] mmco: unref short failure\n",
      "[h264 @ 0x29f8ac760] mmco: unref short failure\n",
      "[h264 @ 0x29f8ac760] mmco: unref short failure\n",
      "[h264 @ 0x29f8ac760] mmco: unref short failure\n",
      "[h264 @ 0x29f8ac760] mmco: unref short failure\n",
      "[h264 @ 0x29f8ac760] mmco: unref short failure\n",
      "[h264 @ 0x29f8ac760] mmco: unref short failure\n",
      "[h264 @ 0x29f8ac760] mmco: unref short failure\n",
      "[h264 @ 0x29f8ac760] mmco: unref short failure\n",
      "[h264 @ 0x29f8ac760] mmco: unref short failure\n",
      "[h264 @ 0x29f8ac760] mmco: unref short failure\n",
      "[h264 @ 0x29f8ac760] mmco: unref short failure\n",
      "[h264 @ 0x29f8ac760] mmco: unref short failure\n",
      "[h264 @ 0x29f8ac760] mmco: unref short failure\n",
      "[h264 @ 0x29f8ac760] mmco: unref short failure\n",
      "[h264 @ 0x29f8ac760] mmco: unref short failure\n",
      "[h264 @ 0x29f8ac760] mmco: unref short failure\n",
      "[h264 @ 0x29f8ac760] mmco: unref short failure\n",
      "[h264 @ 0x29f8ac760] mmco: unref short failure\n",
      "[h264 @ 0x29f8ac760] mmco: unref short failure\n",
      "[h264 @ 0x29f8ac760] mmco: unref short failure\n",
      "[h264 @ 0x29f8ac760] mmco: unref short failure\n",
      "[h264 @ 0x29f8ac760] mmco: unref short failure\n",
      "[h264 @ 0x29f8ac760] mmco: unref short failure\n",
      "[h264 @ 0x29f8ac760] mmco: unref short failure\n",
      "[h264 @ 0x29f8ac760] mmco: unref short failure\n",
      "[h264 @ 0x29f8ac760] mmco: unref short failure\n",
      "[h264 @ 0x29f8ac760] mmco: unref short failure\n",
      "[h264 @ 0x29f8ac760] mmco: unref short failure\n",
      "[h264 @ 0x29f8ac760] mmco: unref short failure\n",
      "[h264 @ 0x29f8ac760] mmco: unref short failure\n",
      "[h264 @ 0x29f8ac760] mmco: unref short failure\n",
      "[h264 @ 0x29f8ac760] mmco: unref short failure\n",
      "[h264 @ 0x29f8ac760] mmco: unref short failure\n",
      "[h264 @ 0x29f8ac760] mmco: unref short failure\n",
      "[h264 @ 0x29f8ac760] mmco: unref short failure\n",
      "[h264 @ 0x29f8ac760] mmco: unref short failure\n",
      "[h264 @ 0x29f8ac760] mmco: unref short failure\n",
      "[h264 @ 0x29f8ac760] mmco: unref short failure\n",
      "[h264 @ 0x29f8ac760] mmco: unref short failure\n",
      "[h264 @ 0x29f8ac760] mmco: unref short failure\n",
      "[h264 @ 0x29f8ac760] mmco: unref short failure\n",
      "[h264 @ 0x29f8ac760] mmco: unref short failure\n",
      "[h264 @ 0x29f8ac760] mmco: unref short failure\n",
      "[h264 @ 0x29f8ac760] mmco: unref short failure\n",
      "[h264 @ 0x29f8ac760] mmco: unref short failure\n"
     ]
    },
    {
     "name": "stderr",
     "output_type": "stream",
     "text": [
      "  8%|█████▌                                                                 | 1250/16054 [1:49:40<21:46:38,  5.30s/it][h264 @ 0x29f8c7d60] mmco: unref short failure\n",
      "[h264 @ 0x29f8c7d60] mmco: unref short failure\n",
      "[h264 @ 0x29f8c7d60] mmco: unref short failure\n",
      "[h264 @ 0x29f8c7d60] mmco: unref short failure\n",
      "[h264 @ 0x29f8c7d60] mmco: unref short failure\n",
      "[h264 @ 0x29f8c7d60] mmco: unref short failure\n",
      "[h264 @ 0x29f8c7d60] mmco: unref short failure\n",
      "[h264 @ 0x29f8c7d60] mmco: unref short failure\n",
      "[h264 @ 0x29f8c7d60] mmco: unref short failure\n",
      "[h264 @ 0x29f8c7d60] mmco: unref short failure\n",
      "[h264 @ 0x29f8c7d60] mmco: unref short failure\n",
      "[h264 @ 0x29f8c7d60] mmco: unref short failure\n",
      "[h264 @ 0x29f8c7d60] mmco: unref short failure\n",
      "[h264 @ 0x29f8c7d60] mmco: unref short failure\n",
      "[h264 @ 0x29f8c7d60] mmco: unref short failure\n",
      "[h264 @ 0x29f8c7d60] mmco: unref short failure\n",
      "[h264 @ 0x29f8c7d60] mmco: unref short failure\n",
      "[h264 @ 0x29f8c7d60] mmco: unref short failure\n",
      "[h264 @ 0x29f8c7d60] mmco: unref short failure\n",
      "[h264 @ 0x29f8c7d60] mmco: unref short failure\n",
      "[h264 @ 0x29f8c7d60] mmco: unref short failure\n",
      "[h264 @ 0x29f8c7d60] mmco: unref short failure\n",
      "[h264 @ 0x29f8c7d60] mmco: unref short failure\n",
      "[h264 @ 0x29f8c7d60] mmco: unref short failure\n",
      "[h264 @ 0x29f8c7d60] mmco: unref short failure\n",
      "[h264 @ 0x29f8c7d60] mmco: unref short failure\n",
      "[h264 @ 0x29f8c7d60] mmco: unref short failure\n",
      "[h264 @ 0x29f8c7d60] mmco: unref short failure\n",
      "[h264 @ 0x29f8c7d60] mmco: unref short failure\n",
      "[h264 @ 0x29f8c7d60] mmco: unref short failure\n",
      "[h264 @ 0x29f8c7d60] mmco: unref short failure\n",
      "[h264 @ 0x29f8c7d60] mmco: unref short failure\n",
      "  8%|█████▌                                                                 | 1258/16054 [1:50:16<18:05:19,  4.40s/it][h264 @ 0x29d8dfa90] mmco: unref short failure\n",
      "[h264 @ 0x29d8dfa90] mmco: unref short failure\n",
      "[h264 @ 0x29d8dfa90] mmco: unref short failure\n",
      "[h264 @ 0x29d8dfa90] mmco: unref short failure\n",
      "[h264 @ 0x29d8dfa90] mmco: unref short failure\n",
      "[h264 @ 0x29d8dfa90] mmco: unref short failure\n",
      "[h264 @ 0x29d8dfa90] mmco: unref short failure\n",
      "[h264 @ 0x29d8dfa90] mmco: unref short failure\n",
      "[h264 @ 0x29d8dfa90] mmco: unref short failure\n",
      "[h264 @ 0x29d8dfa90] mmco: unref short failure\n",
      "[h264 @ 0x29d8dfa90] mmco: unref short failure\n",
      "[h264 @ 0x29d8dfa90] mmco: unref short failure\n",
      "[h264 @ 0x29d8dfa90] mmco: unref short failure\n",
      "[h264 @ 0x29d8dfa90] mmco: unref short failure\n",
      "[h264 @ 0x29d8dfa90] mmco: unref short failure\n",
      "[h264 @ 0x29d8dfa90] mmco: unref short failure\n",
      "[h264 @ 0x29d8dfa90] mmco: unref short failure\n",
      "[h264 @ 0x29d8dfa90] mmco: unref short failure\n",
      "[h264 @ 0x29d8dfa90] mmco: unref short failure\n",
      "[h264 @ 0x29d8dfa90] mmco: unref short failure\n",
      "[h264 @ 0x29d8dfa90] mmco: unref short failure\n",
      "[h264 @ 0x29d8dfa90] mmco: unref short failure\n",
      "[h264 @ 0x29d8dfa90] mmco: unref short failure\n",
      "[h264 @ 0x29d8dfa90] mmco: unref short failure\n",
      "[h264 @ 0x29d8dfa90] mmco: unref short failure\n",
      "[h264 @ 0x29d8dfa90] mmco: unref short failure\n",
      "[h264 @ 0x29d8dfa90] mmco: unref short failure\n",
      "[h264 @ 0x29d8dfa90] mmco: unref short failure\n",
      "[h264 @ 0x29d8dfa90] mmco: unref short failure\n",
      "[h264 @ 0x29d8dfa90] mmco: unref short failure\n",
      "[h264 @ 0x29d8dfa90] mmco: unref short failure\n",
      "[h264 @ 0x29d8dfa90] mmco: unref short failure\n",
      "[h264 @ 0x29d8dfa90] mmco: unref short failure\n",
      "[h264 @ 0x29d8dfa90] mmco: unref short failure\n",
      "[h264 @ 0x29d8dfa90] mmco: unref short failure\n",
      "[h264 @ 0x29d8dfa90] mmco: unref short failure\n",
      "[h264 @ 0x29d8dfa90] mmco: unref short failure\n",
      "[h264 @ 0x29d8dfa90] mmco: unref short failure\n",
      "[h264 @ 0x29d8dfa90] mmco: unref short failure\n",
      "[h264 @ 0x29d8dfa90] mmco: unref short failure\n",
      "[h264 @ 0x29d8dfa90] mmco: unref short failure\n",
      "[h264 @ 0x29d8dfa90] mmco: unref short failure\n",
      "[h264 @ 0x29d8dfa90] mmco: unref short failure\n",
      "[h264 @ 0x29d8dfa90] mmco: unref short failure\n",
      "[h264 @ 0x29d8dfa90] mmco: unref short failure\n",
      "[h264 @ 0x29d8dfa90] mmco: unref short failure\n",
      "[h264 @ 0x29d8dfa90] mmco: unref short failure\n",
      "[h264 @ 0x29d8dfa90] mmco: unref short failure\n",
      "[h264 @ 0x29d8dfa90] mmco: unref short failure\n",
      "[h264 @ 0x29d8dfa90] mmco: unref short failure\n",
      "[h264 @ 0x29d8dfa90] mmco: unref short failure\n",
      "[h264 @ 0x29d8dfa90] mmco: unref short failure\n",
      "[h264 @ 0x29d8dfa90] mmco: unref short failure\n",
      "[h264 @ 0x29d8dfa90] mmco: unref short failure\n",
      "[h264 @ 0x29d8dfa90] mmco: unref short failure\n",
      "[h264 @ 0x29d8dfa90] mmco: unref short failure\n",
      "[h264 @ 0x29d8dfa90] mmco: unref short failure\n",
      "[h264 @ 0x29d8dfa90] mmco: unref short failure\n",
      "[h264 @ 0x29d8dfa90] mmco: unref short failure\n",
      "[h264 @ 0x29d8dfa90] mmco: unref short failure\n",
      "[h264 @ 0x29d8dfa90] mmco: unref short failure\n",
      "[h264 @ 0x29d8dfa90] mmco: unref short failure\n",
      "[h264 @ 0x29d8dfa90] mmco: unref short failure\n",
      "[h264 @ 0x29d8dfa90] mmco: unref short failure\n",
      "[h264 @ 0x29d8dfa90] mmco: unref short failure\n",
      "[h264 @ 0x29d8dfa90] mmco: unref short failure\n",
      "[h264 @ 0x29d8dfa90] mmco: unref short failure\n",
      "[h264 @ 0x29d8dfa90] mmco: unref short failure\n",
      "[h264 @ 0x29d8dfa90] mmco: unref short failure\n",
      "[h264 @ 0x29d8dfa90] mmco: unref short failure\n",
      "[h264 @ 0x29d8dfa90] mmco: unref short failure\n",
      "[h264 @ 0x29d8dfa90] mmco: unref short failure\n",
      "[h264 @ 0x29d8dfa90] mmco: unref short failure\n",
      "[h264 @ 0x29d8dfa90] mmco: unref short failure\n",
      "[h264 @ 0x29d8dfa90] mmco: unref short failure\n",
      "[h264 @ 0x29d8dfa90] mmco: unref short failure\n",
      "[h264 @ 0x29d8dfa90] mmco: unref short failure\n",
      "[h264 @ 0x29d8dfa90] mmco: unref short failure\n",
      "[h264 @ 0x29d8dfa90] mmco: unref short failure\n",
      "[h264 @ 0x29d8dfa90] mmco: unref short failure\n",
      "[h264 @ 0x29d8dfa90] mmco: unref short failure\n",
      "[h264 @ 0x29d8dfa90] mmco: unref short failure\n",
      "[h264 @ 0x29d8dfa90] mmco: unref short failure\n",
      "[h264 @ 0x29d8dfa90] mmco: unref short failure\n",
      "[h264 @ 0x29d8dfa90] mmco: unref short failure\n",
      "[h264 @ 0x29d8dfa90] mmco: unref short failure\n",
      "[h264 @ 0x29d8dfa90] mmco: unref short failure\n",
      "[h264 @ 0x29d8dfa90] mmco: unref short failure\n",
      "[h264 @ 0x29d8dfa90] mmco: unref short failure\n",
      "[h264 @ 0x29d8dfa90] mmco: unref short failure\n",
      "[h264 @ 0x29d8dfa90] mmco: unref short failure\n",
      "[h264 @ 0x29d8dfa90] mmco: unref short failure\n",
      "[h264 @ 0x29d8dfa90] mmco: unref short failure\n",
      "[h264 @ 0x29d8dfa90] mmco: unref short failure\n",
      "[h264 @ 0x29d8dfa90] mmco: unref short failure\n",
      "[h264 @ 0x29d8dfa90] mmco: unref short failure\n",
      "[h264 @ 0x29d8dfa90] mmco: unref short failure\n",
      "[h264 @ 0x29d8dfa90] mmco: unref short failure\n",
      "[h264 @ 0x29d8dfa90] mmco: unref short failure\n",
      "[h264 @ 0x29d8dfa90] mmco: unref short failure\n",
      "[h264 @ 0x29d8dfa90] mmco: unref short failure\n",
      "[h264 @ 0x29d8dfa90] mmco: unref short failure\n",
      "[h264 @ 0x29d8dfa90] mmco: unref short failure\n",
      "[h264 @ 0x29d8dfa90] mmco: unref short failure\n",
      "[h264 @ 0x29d8dfa90] mmco: unref short failure\n",
      "[h264 @ 0x29d8dfa90] mmco: unref short failure\n",
      "[h264 @ 0x29d8dfa90] mmco: unref short failure\n",
      "[h264 @ 0x29d8dfa90] mmco: unref short failure\n",
      "[h264 @ 0x29d8dfa90] mmco: unref short failure\n",
      "[h264 @ 0x29d8dfa90] mmco: unref short failure\n",
      "[h264 @ 0x29d8dfa90] mmco: unref short failure\n",
      "[h264 @ 0x29d8dfa90] mmco: unref short failure\n",
      "[h264 @ 0x29d8dfa90] mmco: unref short failure\n",
      "[h264 @ 0x29d8dfa90] mmco: unref short failure\n",
      "[h264 @ 0x29d8dfa90] mmco: unref short failure\n",
      "[h264 @ 0x29d8dfa90] mmco: unref short failure\n",
      "[h264 @ 0x29d8dfa90] mmco: unref short failure\n",
      "[h264 @ 0x29d8dfa90] mmco: unref short failure\n",
      "[h264 @ 0x29d8dfa90] mmco: unref short failure\n",
      "[h264 @ 0x29d8dfa90] mmco: unref short failure\n",
      "[h264 @ 0x29d8dfa90] mmco: unref short failure\n",
      "[h264 @ 0x29d8dfa90] mmco: unref short failure\n",
      "[h264 @ 0x29d8dfa90] mmco: unref short failure\n",
      "[h264 @ 0x29d8dfa90] mmco: unref short failure\n",
      "[h264 @ 0x29d8dfa90] mmco: unref short failure\n",
      "[h264 @ 0x29d8dfa90] mmco: unref short failure\n",
      "[h264 @ 0x29d8dfa90] mmco: unref short failure\n",
      "[h264 @ 0x29d8dfa90] mmco: unref short failure\n",
      "[h264 @ 0x29d8dfa90] mmco: unref short failure\n",
      "[h264 @ 0x29d8dfa90] mmco: unref short failure\n",
      "[h264 @ 0x29d8dfa90] mmco: unref short failure\n",
      "[h264 @ 0x29d8dfa90] mmco: unref short failure\n",
      "[h264 @ 0x29d8dfa90] mmco: unref short failure\n",
      "[h264 @ 0x29d8dfa90] mmco: unref short failure\n",
      "[h264 @ 0x29d8dfa90] mmco: unref short failure\n",
      "[h264 @ 0x29d8dfa90] mmco: unref short failure\n",
      "[h264 @ 0x29d8dfa90] mmco: unref short failure\n",
      "[h264 @ 0x29d8dfa90] mmco: unref short failure\n",
      "[h264 @ 0x29d8dfa90] mmco: unref short failure\n",
      "[h264 @ 0x29d8dfa90] mmco: unref short failure\n",
      "[h264 @ 0x29d8dfa90] mmco: unref short failure\n",
      "[h264 @ 0x29d8dfa90] mmco: unref short failure\n",
      "[h264 @ 0x29d8dfa90] mmco: unref short failure\n",
      "[h264 @ 0x29d8dfa90] mmco: unref short failure\n",
      "[h264 @ 0x29d8dfa90] mmco: unref short failure\n",
      "[h264 @ 0x29d8dfa90] mmco: unref short failure\n",
      "[h264 @ 0x29d8dfa90] mmco: unref short failure\n",
      "[h264 @ 0x29d8dfa90] mmco: unref short failure\n",
      "[h264 @ 0x29d8dfa90] mmco: unref short failure\n",
      "[h264 @ 0x29d8dfa90] mmco: unref short failure\n",
      "[h264 @ 0x29d8dfa90] mmco: unref short failure\n",
      "[h264 @ 0x29d8dfa90] mmco: unref short failure\n",
      "[h264 @ 0x29d8dfa90] mmco: unref short failure\n",
      "[h264 @ 0x29d8dfa90] mmco: unref short failure\n",
      "[h264 @ 0x29d8dfa90] mmco: unref short failure\n",
      "[h264 @ 0x29d8dfa90] mmco: unref short failure\n",
      "[h264 @ 0x29d8dfa90] mmco: unref short failure\n",
      "[h264 @ 0x29d8dfa90] mmco: unref short failure\n",
      "[h264 @ 0x29d8dfa90] mmco: unref short failure\n",
      "[h264 @ 0x29d8dfa90] mmco: unref short failure\n",
      "[h264 @ 0x29d8dfa90] mmco: unref short failure\n",
      "[h264 @ 0x29d8dfa90] mmco: unref short failure\n",
      "[h264 @ 0x29d8dfa90] mmco: unref short failure\n",
      "[h264 @ 0x29d8dfa90] mmco: unref short failure\n",
      "[h264 @ 0x29d8dfa90] mmco: unref short failure\n",
      "[h264 @ 0x29d8dfa90] mmco: unref short failure\n",
      "[h264 @ 0x29d8dfa90] mmco: unref short failure\n",
      "[h264 @ 0x29d8dfa90] mmco: unref short failure\n"
     ]
    },
    {
     "name": "stderr",
     "output_type": "stream",
     "text": [
      "  8%|█████▌                                                                 | 1263/16054 [1:50:40<19:04:24,  4.64s/it][h264 @ 0x122035ab0] mmco: unref short failure\n",
      "[h264 @ 0x122035ab0] mmco: unref short failure\n",
      "[h264 @ 0x122035ab0] mmco: unref short failure\n",
      "[h264 @ 0x122035ab0] mmco: unref short failure\n",
      "[h264 @ 0x122035ab0] mmco: unref short failure\n",
      "[h264 @ 0x122035ab0] mmco: unref short failure\n",
      "[h264 @ 0x122035ab0] mmco: unref short failure\n",
      "[h264 @ 0x122035ab0] mmco: unref short failure\n",
      "[h264 @ 0x122035ab0] mmco: unref short failure\n",
      "[h264 @ 0x122035ab0] mmco: unref short failure\n",
      "[h264 @ 0x122035ab0] mmco: unref short failure\n",
      "[h264 @ 0x122035ab0] mmco: unref short failure\n",
      "[h264 @ 0x122035ab0] mmco: unref short failure\n",
      "[h264 @ 0x122035ab0] mmco: unref short failure\n",
      "[h264 @ 0x122035ab0] mmco: unref short failure\n",
      "[h264 @ 0x122035ab0] mmco: unref short failure\n",
      "[h264 @ 0x122035ab0] mmco: unref short failure\n",
      "[h264 @ 0x122035ab0] mmco: unref short failure\n",
      "[h264 @ 0x122035ab0] mmco: unref short failure\n",
      "[h264 @ 0x122035ab0] mmco: unref short failure\n",
      "[h264 @ 0x122035ab0] mmco: unref short failure\n",
      "[h264 @ 0x122035ab0] mmco: unref short failure\n",
      "[h264 @ 0x122035ab0] mmco: unref short failure\n",
      "[h264 @ 0x122035ab0] mmco: unref short failure\n",
      "[h264 @ 0x122035ab0] mmco: unref short failure\n",
      "[h264 @ 0x122035ab0] mmco: unref short failure\n",
      "[h264 @ 0x122035ab0] mmco: unref short failure\n",
      "[h264 @ 0x122035ab0] mmco: unref short failure\n",
      "[h264 @ 0x122035ab0] mmco: unref short failure\n",
      "[h264 @ 0x122035ab0] mmco: unref short failure\n",
      "[h264 @ 0x122035ab0] mmco: unref short failure\n",
      "[h264 @ 0x122035ab0] mmco: unref short failure\n",
      "[h264 @ 0x122035ab0] mmco: unref short failure\n",
      "[h264 @ 0x122035ab0] mmco: unref short failure\n",
      "[h264 @ 0x122035ab0] mmco: unref short failure\n",
      "[h264 @ 0x122035ab0] mmco: unref short failure\n",
      "[h264 @ 0x122035ab0] mmco: unref short failure\n",
      "[h264 @ 0x122035ab0] mmco: unref short failure\n",
      "[h264 @ 0x122035ab0] mmco: unref short failure\n",
      "[h264 @ 0x122035ab0] mmco: unref short failure\n",
      "[h264 @ 0x122035ab0] mmco: unref short failure\n",
      "[h264 @ 0x122035ab0] mmco: unref short failure\n",
      "[h264 @ 0x122035ab0] mmco: unref short failure\n",
      "[h264 @ 0x122035ab0] mmco: unref short failure\n",
      "[h264 @ 0x122035ab0] mmco: unref short failure\n",
      "[h264 @ 0x122035ab0] mmco: unref short failure\n",
      "[h264 @ 0x122035ab0] mmco: unref short failure\n",
      "[h264 @ 0x122035ab0] mmco: unref short failure\n",
      "[h264 @ 0x122035ab0] mmco: unref short failure\n",
      "[h264 @ 0x122035ab0] mmco: unref short failure\n",
      "[h264 @ 0x122035ab0] mmco: unref short failure\n",
      "[h264 @ 0x122035ab0] mmco: unref short failure\n",
      "[h264 @ 0x122035ab0] mmco: unref short failure\n",
      "[h264 @ 0x122035ab0] mmco: unref short failure\n",
      "[h264 @ 0x122035ab0] mmco: unref short failure\n",
      "[h264 @ 0x122035ab0] mmco: unref short failure\n",
      "[h264 @ 0x122035ab0] mmco: unref short failure\n",
      "[h264 @ 0x122035ab0] mmco: unref short failure\n",
      "[h264 @ 0x122035ab0] mmco: unref short failure\n",
      "[h264 @ 0x122035ab0] mmco: unref short failure\n",
      "[h264 @ 0x122035ab0] mmco: unref short failure\n",
      "[h264 @ 0x122035ab0] mmco: unref short failure\n",
      "[h264 @ 0x122035ab0] mmco: unref short failure\n",
      "[h264 @ 0x122035ab0] mmco: unref short failure\n",
      "[h264 @ 0x122035ab0] mmco: unref short failure\n",
      "[h264 @ 0x122035ab0] mmco: unref short failure\n",
      "[h264 @ 0x122035ab0] mmco: unref short failure\n",
      "[h264 @ 0x122035ab0] mmco: unref short failure\n",
      "[h264 @ 0x122035ab0] mmco: unref short failure\n",
      "[h264 @ 0x122035ab0] mmco: unref short failure\n",
      "[h264 @ 0x122035ab0] mmco: unref short failure\n",
      "[h264 @ 0x122035ab0] mmco: unref short failure\n",
      "[h264 @ 0x122035ab0] mmco: unref short failure\n",
      "[h264 @ 0x122035ab0] mmco: unref short failure\n",
      "[h264 @ 0x122035ab0] mmco: unref short failure\n",
      "[h264 @ 0x122035ab0] mmco: unref short failure\n",
      "[h264 @ 0x122035ab0] mmco: unref short failure\n",
      "[h264 @ 0x122035ab0] mmco: unref short failure\n",
      "[h264 @ 0x122035ab0] mmco: unref short failure\n",
      "[h264 @ 0x122035ab0] mmco: unref short failure\n",
      "[h264 @ 0x122035ab0] mmco: unref short failure\n",
      "[h264 @ 0x122035ab0] mmco: unref short failure\n",
      "[h264 @ 0x122035ab0] mmco: unref short failure\n",
      "[h264 @ 0x122035ab0] mmco: unref short failure\n",
      "[h264 @ 0x122035ab0] mmco: unref short failure\n",
      "[h264 @ 0x122035ab0] mmco: unref short failure\n",
      "[h264 @ 0x122035ab0] mmco: unref short failure\n",
      "[h264 @ 0x122035ab0] mmco: unref short failure\n",
      "[h264 @ 0x122035ab0] mmco: unref short failure\n",
      "[h264 @ 0x122035ab0] mmco: unref short failure\n",
      "[h264 @ 0x122035ab0] mmco: unref short failure\n",
      "[h264 @ 0x122035ab0] mmco: unref short failure\n",
      "[h264 @ 0x122035ab0] mmco: unref short failure\n",
      "[h264 @ 0x122035ab0] mmco: unref short failure\n",
      "[h264 @ 0x122035ab0] mmco: unref short failure\n",
      "[h264 @ 0x122035ab0] mmco: unref short failure\n",
      "[h264 @ 0x122035ab0] mmco: unref short failure\n",
      "[h264 @ 0x122035ab0] mmco: unref short failure\n",
      "[h264 @ 0x122035ab0] mmco: unref short failure\n",
      "[h264 @ 0x122035ab0] mmco: unref short failure\n",
      "[h264 @ 0x122035ab0] mmco: unref short failure\n",
      "[h264 @ 0x122035ab0] mmco: unref short failure\n",
      "[h264 @ 0x122035ab0] mmco: unref short failure\n",
      "[h264 @ 0x122035ab0] mmco: unref short failure\n",
      "  8%|█████▌                                                                 | 1267/16054 [1:50:59<19:17:23,  4.70s/it][h264 @ 0x1220367d0] mmco: unref short failure\n",
      "[h264 @ 0x1220367d0] mmco: unref short failure\n",
      "[h264 @ 0x1220367d0] mmco: unref short failure\n",
      "[h264 @ 0x1220367d0] mmco: unref short failure\n",
      "[h264 @ 0x1220367d0] mmco: unref short failure\n",
      "[h264 @ 0x1220367d0] mmco: unref short failure\n",
      "[h264 @ 0x1220367d0] mmco: unref short failure\n",
      "[h264 @ 0x1220367d0] mmco: unref short failure\n",
      "[h264 @ 0x1220367d0] mmco: unref short failure\n",
      "[h264 @ 0x1220367d0] mmco: unref short failure\n",
      "[h264 @ 0x1220367d0] mmco: unref short failure\n",
      "[h264 @ 0x1220367d0] mmco: unref short failure\n",
      "[h264 @ 0x1220367d0] mmco: unref short failure\n",
      "[h264 @ 0x1220367d0] mmco: unref short failure\n",
      "[h264 @ 0x1220367d0] mmco: unref short failure\n",
      "[h264 @ 0x1220367d0] mmco: unref short failure\n",
      "[h264 @ 0x1220367d0] mmco: unref short failure\n",
      "[h264 @ 0x1220367d0] mmco: unref short failure\n",
      "[h264 @ 0x1220367d0] mmco: unref short failure\n",
      "[h264 @ 0x1220367d0] mmco: unref short failure\n",
      "[h264 @ 0x1220367d0] mmco: unref short failure\n",
      "[h264 @ 0x1220367d0] mmco: unref short failure\n",
      "[h264 @ 0x1220367d0] mmco: unref short failure\n",
      "[h264 @ 0x1220367d0] mmco: unref short failure\n",
      "[h264 @ 0x1220367d0] mmco: unref short failure\n",
      "[h264 @ 0x1220367d0] mmco: unref short failure\n",
      "[h264 @ 0x1220367d0] mmco: unref short failure\n",
      "[h264 @ 0x1220367d0] mmco: unref short failure\n",
      "[h264 @ 0x1220367d0] mmco: unref short failure\n",
      "[h264 @ 0x1220367d0] mmco: unref short failure\n",
      "[h264 @ 0x1220367d0] mmco: unref short failure\n",
      "[h264 @ 0x1220367d0] mmco: unref short failure\n",
      "  8%|█████▌                                                                 | 1270/16054 [1:51:13<19:33:21,  4.76s/it][h264 @ 0x29d8df650] mmco: unref short failure\n",
      "[h264 @ 0x29d8df650] mmco: unref short failure\n",
      "[h264 @ 0x29d8df650] mmco: unref short failure\n",
      "[h264 @ 0x29d8df650] mmco: unref short failure\n",
      "[h264 @ 0x29d8df650] mmco: unref short failure\n",
      "[h264 @ 0x29d8df650] mmco: unref short failure\n",
      "[h264 @ 0x29d8df650] mmco: unref short failure\n",
      "[h264 @ 0x29d8df650] mmco: unref short failure\n",
      "[h264 @ 0x29d8df650] mmco: unref short failure\n",
      "[h264 @ 0x29d8df650] mmco: unref short failure\n",
      "[h264 @ 0x29d8df650] mmco: unref short failure\n",
      "[h264 @ 0x29d8df650] mmco: unref short failure\n",
      "[h264 @ 0x29d8df650] mmco: unref short failure\n",
      "[h264 @ 0x29d8df650] mmco: unref short failure\n",
      "[h264 @ 0x29d8df650] mmco: unref short failure\n",
      "[h264 @ 0x29d8df650] mmco: unref short failure\n",
      "[h264 @ 0x29d8df650] mmco: unref short failure\n",
      "[h264 @ 0x29d8df650] mmco: unref short failure\n",
      "[h264 @ 0x29d8df650] mmco: unref short failure\n",
      "[h264 @ 0x29d8df650] mmco: unref short failure\n",
      "[h264 @ 0x29d8df650] mmco: unref short failure\n",
      "[h264 @ 0x29d8df650] mmco: unref short failure\n",
      "[h264 @ 0x29d8df650] mmco: unref short failure\n",
      "[h264 @ 0x29d8df650] mmco: unref short failure\n",
      "[h264 @ 0x29d8df650] mmco: unref short failure\n",
      "[h264 @ 0x29d8df650] mmco: unref short failure\n",
      "[h264 @ 0x29d8df650] mmco: unref short failure\n",
      "[h264 @ 0x29d8df650] mmco: unref short failure\n",
      "[h264 @ 0x29d8df650] mmco: unref short failure\n",
      "[h264 @ 0x29d8df650] mmco: unref short failure\n",
      "[h264 @ 0x29d8df650] mmco: unref short failure\n",
      "[h264 @ 0x29d8df650] mmco: unref short failure\n"
     ]
    },
    {
     "name": "stderr",
     "output_type": "stream",
     "text": [
      "  8%|█████▋                                                                 | 1272/16054 [1:51:21<18:04:24,  4.40s/it][h264 @ 0x29f8a9550] mmco: unref short failure\n",
      "[h264 @ 0x29f8a9550] mmco: unref short failure\n",
      "[h264 @ 0x29f8a9550] mmco: unref short failure\n",
      "[h264 @ 0x29f8a9550] mmco: unref short failure\n",
      "[h264 @ 0x29f8a9550] mmco: unref short failure\n",
      "[h264 @ 0x29f8a9550] mmco: unref short failure\n",
      "[h264 @ 0x29f8a9550] mmco: unref short failure\n",
      "[h264 @ 0x29f8a9550] mmco: unref short failure\n",
      "[h264 @ 0x29f8a9550] mmco: unref short failure\n",
      "[h264 @ 0x29f8a9550] mmco: unref short failure\n",
      "[h264 @ 0x29f8a9550] mmco: unref short failure\n",
      "[h264 @ 0x29f8a9550] mmco: unref short failure\n",
      "[h264 @ 0x29f8a9550] mmco: unref short failure\n",
      "[h264 @ 0x29f8a9550] mmco: unref short failure\n",
      "[h264 @ 0x29f8a9550] mmco: unref short failure\n",
      "[h264 @ 0x29f8a9550] mmco: unref short failure\n",
      "[h264 @ 0x29f8a9550] mmco: unref short failure\n",
      "  8%|█████▋                                                                 | 1278/16054 [1:51:49<18:29:06,  4.50s/it][h264 @ 0x150f320f0] mmco: unref short failure\n",
      "[h264 @ 0x150f320f0] mmco: unref short failure\n",
      "[h264 @ 0x150f320f0] mmco: unref short failure\n",
      "[h264 @ 0x150f320f0] mmco: unref short failure\n",
      "[h264 @ 0x150f320f0] mmco: unref short failure\n",
      "[h264 @ 0x150f320f0] mmco: unref short failure\n",
      "[h264 @ 0x150f320f0] mmco: unref short failure\n",
      "[h264 @ 0x150f320f0] mmco: unref short failure\n",
      "[h264 @ 0x150f320f0] mmco: unref short failure\n",
      "[h264 @ 0x150f320f0] mmco: unref short failure\n",
      "[h264 @ 0x150f320f0] mmco: unref short failure\n",
      "[h264 @ 0x150f320f0] mmco: unref short failure\n",
      "[h264 @ 0x150f320f0] mmco: unref short failure\n",
      "[h264 @ 0x150f320f0] mmco: unref short failure\n",
      "[h264 @ 0x150f320f0] mmco: unref short failure\n",
      "[h264 @ 0x150f320f0] mmco: unref short failure\n",
      "[h264 @ 0x150f320f0] mmco: unref short failure\n",
      "[h264 @ 0x150f320f0] mmco: unref short failure\n",
      "[h264 @ 0x150f320f0] mmco: unref short failure\n",
      "[h264 @ 0x150f320f0] mmco: unref short failure\n",
      "[h264 @ 0x150f320f0] mmco: unref short failure\n",
      "[h264 @ 0x150f320f0] mmco: unref short failure\n",
      "[h264 @ 0x150f320f0] mmco: unref short failure\n",
      "[h264 @ 0x150f320f0] mmco: unref short failure\n",
      "[h264 @ 0x150f320f0] mmco: unref short failure\n",
      "[h264 @ 0x150f320f0] mmco: unref short failure\n",
      "[h264 @ 0x150f320f0] mmco: unref short failure\n",
      "[h264 @ 0x150f320f0] mmco: unref short failure\n",
      "[h264 @ 0x150f320f0] mmco: unref short failure\n",
      "[h264 @ 0x150f320f0] mmco: unref short failure\n",
      "[h264 @ 0x150f320f0] mmco: unref short failure\n",
      "[h264 @ 0x150f320f0] mmco: unref short failure\n",
      "[h264 @ 0x150f320f0] mmco: unref short failure\n",
      "[h264 @ 0x150f320f0] mmco: unref short failure\n",
      "  8%|█████▋                                                                 | 1279/16054 [1:51:54<18:52:06,  4.60s/it][h264 @ 0x150f322d0] mmco: unref short failure\n",
      "[h264 @ 0x150f322d0] mmco: unref short failure\n",
      "[h264 @ 0x150f322d0] mmco: unref short failure\n",
      "[h264 @ 0x150f322d0] mmco: unref short failure\n",
      "[h264 @ 0x150f322d0] mmco: unref short failure\n",
      "[h264 @ 0x150f322d0] mmco: unref short failure\n",
      "[h264 @ 0x150f322d0] mmco: unref short failure\n",
      "[h264 @ 0x150f322d0] mmco: unref short failure\n",
      "[h264 @ 0x150f322d0] mmco: unref short failure\n",
      "[h264 @ 0x150f322d0] mmco: unref short failure\n",
      "[h264 @ 0x150f322d0] mmco: unref short failure\n",
      "[h264 @ 0x150f322d0] mmco: unref short failure\n",
      "[h264 @ 0x150f322d0] mmco: unref short failure\n",
      "[h264 @ 0x150f322d0] mmco: unref short failure\n",
      "[h264 @ 0x150f322d0] mmco: unref short failure\n",
      "[h264 @ 0x150f322d0] mmco: unref short failure\n",
      "[h264 @ 0x150f322d0] mmco: unref short failure\n",
      "[h264 @ 0x150f322d0] mmco: unref short failure\n",
      "[h264 @ 0x150f322d0] mmco: unref short failure\n",
      "[h264 @ 0x150f322d0] mmco: unref short failure\n",
      "[h264 @ 0x150f322d0] mmco: unref short failure\n",
      "[h264 @ 0x150f322d0] mmco: unref short failure\n",
      "[h264 @ 0x150f322d0] mmco: unref short failure\n",
      "[h264 @ 0x150f322d0] mmco: unref short failure\n",
      "[h264 @ 0x150f322d0] mmco: unref short failure\n",
      "[h264 @ 0x150f322d0] mmco: unref short failure\n",
      "[h264 @ 0x150f322d0] mmco: unref short failure\n",
      "[h264 @ 0x150f322d0] mmco: unref short failure\n",
      "[h264 @ 0x150f322d0] mmco: unref short failure\n",
      "[h264 @ 0x150f322d0] mmco: unref short failure\n",
      "[h264 @ 0x150f322d0] mmco: unref short failure\n",
      "[h264 @ 0x150f322d0] mmco: unref short failure\n",
      "  8%|█████▋                                                                 | 1289/16054 [1:52:41<19:10:58,  4.68s/it][h264 @ 0x29f8b6700] mmco: unref short failure\n",
      "[h264 @ 0x29f8b6700] mmco: unref short failure\n",
      "[h264 @ 0x29f8b6700] mmco: unref short failure\n",
      "[h264 @ 0x29f8b6700] mmco: unref short failure\n",
      "[h264 @ 0x29f8b6700] mmco: unref short failure\n",
      "[h264 @ 0x29f8b6700] mmco: unref short failure\n",
      "[h264 @ 0x29f8b6700] mmco: unref short failure\n",
      "[h264 @ 0x29f8b6700] mmco: unref short failure\n",
      "[h264 @ 0x29f8b6700] mmco: unref short failure\n",
      "[h264 @ 0x29f8b6700] mmco: unref short failure\n",
      "[h264 @ 0x29f8b6700] mmco: unref short failure\n",
      "[h264 @ 0x29f8b6700] mmco: unref short failure\n",
      "[h264 @ 0x29f8b6700] mmco: unref short failure\n",
      "[h264 @ 0x29f8b6700] mmco: unref short failure\n",
      "[h264 @ 0x29f8b6700] mmco: unref short failure\n",
      "[h264 @ 0x29f8b6700] mmco: unref short failure\n",
      "[h264 @ 0x29f8b6700] mmco: unref short failure\n",
      "[h264 @ 0x29f8b6700] mmco: unref short failure\n",
      "[h264 @ 0x29f8b6700] mmco: unref short failure\n",
      "[h264 @ 0x29f8b6700] mmco: unref short failure\n",
      "[h264 @ 0x29f8b6700] mmco: unref short failure\n",
      "[h264 @ 0x29f8b6700] mmco: unref short failure\n",
      "[h264 @ 0x29f8b6700] mmco: unref short failure\n",
      "[h264 @ 0x29f8b6700] mmco: unref short failure\n",
      "[h264 @ 0x29f8b6700] mmco: unref short failure\n",
      "[h264 @ 0x29f8b6700] mmco: unref short failure\n",
      "[h264 @ 0x29f8b6700] mmco: unref short failure\n",
      "[h264 @ 0x29f8b6700] mmco: unref short failure\n",
      "[h264 @ 0x29f8b6700] mmco: unref short failure\n",
      "[h264 @ 0x29f8b6700] mmco: unref short failure\n",
      "[h264 @ 0x29f8b6700] mmco: unref short failure\n",
      "[h264 @ 0x29f8b6700] mmco: unref short failure\n",
      "[h264 @ 0x29f8b6700] mmco: unref short failure\n",
      "[h264 @ 0x29f8b6700] mmco: unref short failure\n",
      "  8%|█████▋                                                                 | 1298/16054 [1:53:31<18:34:40,  4.53s/it]"
     ]
    },
    {
     "name": "stdout",
     "output_type": "stream",
     "text": [
      "Failed to download video from www.youtube.com/watch?v=tdhggC0CjnA. Reason: tdhggC0CjnA is unavailable\n"
     ]
    },
    {
     "name": "stderr",
     "output_type": "stream",
     "text": [
      "\r",
      "  8%|█████▋                                                                 | 1299/16054 [1:53:33<16:03:15,  3.92s/it]"
     ]
    },
    {
     "name": "stdout",
     "output_type": "stream",
     "text": [
      "Failed to download video from https://www.youtube.com/watch?v=Qd1x1kUwhpQ. Reason: Qd1x1kUwhpQ is age restricted, and can't be accessed without logging in.\n"
     ]
    },
    {
     "name": "stderr",
     "output_type": "stream",
     "text": [
      "\r",
      "  8%|█████▋                                                                 | 1300/16054 [1:53:36<14:12:51,  3.47s/it]"
     ]
    },
    {
     "name": "stdout",
     "output_type": "stream",
     "text": [
      "Failed to download video from https://www.youtube.com/watch?v=Qd1x1kUwhpQ. Reason: Qd1x1kUwhpQ is age restricted, and can't be accessed without logging in.\n"
     ]
    },
    {
     "name": "stderr",
     "output_type": "stream",
     "text": [
      "\r",
      "  8%|█████▊                                                                 | 1301/16054 [1:53:38<13:30:41,  3.30s/it]"
     ]
    },
    {
     "name": "stdout",
     "output_type": "stream",
     "text": [
      "Failed to download video from https://www.youtube.com/watch?v=Qd1x1kUwhpQ. Reason: Qd1x1kUwhpQ is age restricted, and can't be accessed without logging in.\n"
     ]
    },
    {
     "name": "stderr",
     "output_type": "stream",
     "text": [
      "\r",
      "  8%|█████▊                                                                 | 1302/16054 [1:53:41<12:20:19,  3.01s/it]"
     ]
    },
    {
     "name": "stdout",
     "output_type": "stream",
     "text": [
      "Failed to download video from https://www.youtube.com/watch?v=Qd1x1kUwhpQ. Reason: Qd1x1kUwhpQ is age restricted, and can't be accessed without logging in.\n"
     ]
    },
    {
     "name": "stderr",
     "output_type": "stream",
     "text": [
      "\r",
      "  8%|█████▊                                                                 | 1303/16054 [1:53:43<11:29:02,  2.80s/it]"
     ]
    },
    {
     "name": "stdout",
     "output_type": "stream",
     "text": [
      "Failed to download video from https://www.youtube.com/watch?v=Qd1x1kUwhpQ. Reason: Qd1x1kUwhpQ is age restricted, and can't be accessed without logging in.\n"
     ]
    },
    {
     "name": "stderr",
     "output_type": "stream",
     "text": [
      "\r",
      "  8%|█████▊                                                                 | 1304/16054 [1:53:45<10:51:54,  2.65s/it]"
     ]
    },
    {
     "name": "stdout",
     "output_type": "stream",
     "text": [
      "Failed to download video from https://www.youtube.com/watch?v=Qd1x1kUwhpQ. Reason: Qd1x1kUwhpQ is age restricted, and can't be accessed without logging in.\n"
     ]
    },
    {
     "name": "stderr",
     "output_type": "stream",
     "text": [
      "\r",
      "  8%|█████▊                                                                 | 1305/16054 [1:53:48<10:33:08,  2.58s/it]"
     ]
    },
    {
     "name": "stdout",
     "output_type": "stream",
     "text": [
      "Failed to download video from https://www.youtube.com/watch?v=Qd1x1kUwhpQ. Reason: Qd1x1kUwhpQ is age restricted, and can't be accessed without logging in.\n"
     ]
    },
    {
     "name": "stderr",
     "output_type": "stream",
     "text": [
      "\r",
      "  8%|█████▊                                                                 | 1306/16054 [1:53:50<10:14:04,  2.50s/it]"
     ]
    },
    {
     "name": "stdout",
     "output_type": "stream",
     "text": [
      "Failed to download video from https://www.youtube.com/watch?v=Qd1x1kUwhpQ. Reason: Qd1x1kUwhpQ is age restricted, and can't be accessed without logging in.\n"
     ]
    },
    {
     "name": "stderr",
     "output_type": "stream",
     "text": [
      "\r",
      "  8%|█████▊                                                                 | 1307/16054 [1:53:53<10:06:58,  2.47s/it]"
     ]
    },
    {
     "name": "stdout",
     "output_type": "stream",
     "text": [
      "Failed to download video from https://www.youtube.com/watch?v=Qd1x1kUwhpQ. Reason: Qd1x1kUwhpQ is age restricted, and can't be accessed without logging in.\n"
     ]
    },
    {
     "name": "stderr",
     "output_type": "stream",
     "text": [
      "\r",
      "  8%|█████▊                                                                 | 1308/16054 [1:53:55<10:35:11,  2.58s/it]"
     ]
    },
    {
     "name": "stdout",
     "output_type": "stream",
     "text": [
      "Failed to download video from https://www.youtube.com/watch?v=Qd1x1kUwhpQ. Reason: Qd1x1kUwhpQ is age restricted, and can't be accessed without logging in.\n"
     ]
    },
    {
     "name": "stderr",
     "output_type": "stream",
     "text": [
      "\r",
      "  8%|█████▊                                                                 | 1309/16054 [1:53:58<10:45:12,  2.63s/it]"
     ]
    },
    {
     "name": "stdout",
     "output_type": "stream",
     "text": [
      "Failed to download video from https://www.youtube.com/watch?v=Qd1x1kUwhpQ. Reason: Qd1x1kUwhpQ is age restricted, and can't be accessed without logging in.\n"
     ]
    },
    {
     "name": "stderr",
     "output_type": "stream",
     "text": [
      "\r",
      "  8%|█████▊                                                                 | 1310/16054 [1:54:01<11:15:28,  2.75s/it]"
     ]
    },
    {
     "name": "stdout",
     "output_type": "stream",
     "text": [
      "Failed to download video from https://www.youtube.com/watch?v=Qd1x1kUwhpQ. Reason: Qd1x1kUwhpQ is age restricted, and can't be accessed without logging in.\n"
     ]
    },
    {
     "name": "stderr",
     "output_type": "stream",
     "text": [
      "\r",
      "  8%|█████▊                                                                 | 1311/16054 [1:54:03<10:36:47,  2.59s/it]"
     ]
    },
    {
     "name": "stdout",
     "output_type": "stream",
     "text": [
      "Failed to download video from https://www.youtube.com/watch?v=Qd1x1kUwhpQ. Reason: Qd1x1kUwhpQ is age restricted, and can't be accessed without logging in.\n"
     ]
    },
    {
     "name": "stderr",
     "output_type": "stream",
     "text": [
      "\r",
      "  8%|█████▊                                                                 | 1312/16054 [1:54:06<10:22:44,  2.53s/it]"
     ]
    },
    {
     "name": "stdout",
     "output_type": "stream",
     "text": [
      "Failed to download video from https://www.youtube.com/watch?v=Qd1x1kUwhpQ. Reason: Qd1x1kUwhpQ is age restricted, and can't be accessed without logging in.\n"
     ]
    },
    {
     "name": "stderr",
     "output_type": "stream",
     "text": [
      "\r",
      "  8%|█████▊                                                                 | 1313/16054 [1:54:08<10:35:38,  2.59s/it]"
     ]
    },
    {
     "name": "stdout",
     "output_type": "stream",
     "text": [
      "Failed to download video from https://www.youtube.com/watch?v=Qd1x1kUwhpQ. Reason: Qd1x1kUwhpQ is age restricted, and can't be accessed without logging in.\n"
     ]
    },
    {
     "name": "stderr",
     "output_type": "stream",
     "text": [
      "\r",
      "  8%|█████▊                                                                 | 1314/16054 [1:54:11<11:02:23,  2.70s/it]"
     ]
    },
    {
     "name": "stdout",
     "output_type": "stream",
     "text": [
      "Failed to download video from https://www.youtube.com/watch?v=Qd1x1kUwhpQ. Reason: Qd1x1kUwhpQ is age restricted, and can't be accessed without logging in.\n"
     ]
    },
    {
     "name": "stderr",
     "output_type": "stream",
     "text": [
      "\r",
      "  8%|█████▊                                                                 | 1315/16054 [1:54:14<10:27:40,  2.56s/it]"
     ]
    },
    {
     "name": "stdout",
     "output_type": "stream",
     "text": [
      "Failed to download video from https://www.youtube.com/watch?v=Qd1x1kUwhpQ. Reason: Qd1x1kUwhpQ is age restricted, and can't be accessed without logging in.\n"
     ]
    },
    {
     "name": "stderr",
     "output_type": "stream",
     "text": [
      "\r",
      "  8%|█████▉                                                                  | 1316/16054 [1:54:16<9:59:13,  2.44s/it]"
     ]
    },
    {
     "name": "stdout",
     "output_type": "stream",
     "text": [
      "Failed to download video from https://www.youtube.com/watch?v=Qd1x1kUwhpQ. Reason: Qd1x1kUwhpQ is age restricted, and can't be accessed without logging in.\n"
     ]
    },
    {
     "name": "stderr",
     "output_type": "stream",
     "text": [
      "\r",
      "  8%|█████▉                                                                  | 1317/16054 [1:54:18<9:55:49,  2.43s/it]"
     ]
    },
    {
     "name": "stdout",
     "output_type": "stream",
     "text": [
      "Failed to download video from https://www.youtube.com/watch?v=Qd1x1kUwhpQ. Reason: Qd1x1kUwhpQ is age restricted, and can't be accessed without logging in.\n"
     ]
    },
    {
     "name": "stderr",
     "output_type": "stream",
     "text": [
      "\r",
      "  8%|█████▉                                                                  | 1318/16054 [1:54:21<9:47:20,  2.39s/it]"
     ]
    },
    {
     "name": "stdout",
     "output_type": "stream",
     "text": [
      "Failed to download video from https://www.youtube.com/watch?v=Qd1x1kUwhpQ. Reason: Qd1x1kUwhpQ is age restricted, and can't be accessed without logging in.\n"
     ]
    },
    {
     "name": "stderr",
     "output_type": "stream",
     "text": [
      "\r",
      "  8%|█████▉                                                                  | 1319/16054 [1:54:23<9:35:51,  2.34s/it]"
     ]
    },
    {
     "name": "stdout",
     "output_type": "stream",
     "text": [
      "Failed to download video from https://www.youtube.com/watch?v=Qd1x1kUwhpQ. Reason: Qd1x1kUwhpQ is age restricted, and can't be accessed without logging in.\n"
     ]
    },
    {
     "name": "stderr",
     "output_type": "stream",
     "text": [
      "\r",
      "  8%|█████▉                                                                  | 1320/16054 [1:54:25<9:15:40,  2.26s/it]"
     ]
    },
    {
     "name": "stdout",
     "output_type": "stream",
     "text": [
      "Failed to download video from https://www.youtube.com/watch?v=Qd1x1kUwhpQ. Reason: Qd1x1kUwhpQ is age restricted, and can't be accessed without logging in.\n"
     ]
    },
    {
     "name": "stderr",
     "output_type": "stream",
     "text": [
      "\r",
      "  8%|█████▉                                                                  | 1321/16054 [1:54:27<9:19:07,  2.28s/it]"
     ]
    },
    {
     "name": "stdout",
     "output_type": "stream",
     "text": [
      "Failed to download video from https://www.youtube.com/watch?v=Qd1x1kUwhpQ. Reason: Qd1x1kUwhpQ is age restricted, and can't be accessed without logging in.\n"
     ]
    },
    {
     "name": "stderr",
     "output_type": "stream",
     "text": [
      "\r",
      "  8%|█████▉                                                                  | 1322/16054 [1:54:29<9:21:17,  2.29s/it]"
     ]
    },
    {
     "name": "stdout",
     "output_type": "stream",
     "text": [
      "Failed to download video from https://www.youtube.com/watch?v=Qd1x1kUwhpQ. Reason: Qd1x1kUwhpQ is age restricted, and can't be accessed without logging in.\n"
     ]
    },
    {
     "name": "stderr",
     "output_type": "stream",
     "text": [
      "\r",
      "  8%|█████▉                                                                  | 1323/16054 [1:54:32<9:31:16,  2.33s/it]"
     ]
    },
    {
     "name": "stdout",
     "output_type": "stream",
     "text": [
      "Failed to download video from https://www.youtube.com/watch?v=Qd1x1kUwhpQ. Reason: Qd1x1kUwhpQ is age restricted, and can't be accessed without logging in.\n"
     ]
    },
    {
     "name": "stderr",
     "output_type": "stream",
     "text": [
      "\r",
      "  8%|█████▉                                                                  | 1324/16054 [1:54:34<9:29:14,  2.32s/it]"
     ]
    },
    {
     "name": "stdout",
     "output_type": "stream",
     "text": [
      "Failed to download video from https://www.youtube.com/watch?v=Qd1x1kUwhpQ. Reason: Qd1x1kUwhpQ is age restricted, and can't be accessed without logging in.\n"
     ]
    },
    {
     "name": "stderr",
     "output_type": "stream",
     "text": [
      "\r",
      "  8%|█████▉                                                                  | 1325/16054 [1:54:37<9:34:47,  2.34s/it]"
     ]
    },
    {
     "name": "stdout",
     "output_type": "stream",
     "text": [
      "Failed to download video from https://www.youtube.com/watch?v=Qd1x1kUwhpQ. Reason: Qd1x1kUwhpQ is age restricted, and can't be accessed without logging in.\n"
     ]
    },
    {
     "name": "stderr",
     "output_type": "stream",
     "text": [
      "\r",
      "  8%|█████▉                                                                  | 1326/16054 [1:54:39<9:32:27,  2.33s/it]"
     ]
    },
    {
     "name": "stdout",
     "output_type": "stream",
     "text": [
      "Failed to download video from https://www.youtube.com/watch?v=Qd1x1kUwhpQ. Reason: Qd1x1kUwhpQ is age restricted, and can't be accessed without logging in.\n"
     ]
    },
    {
     "name": "stderr",
     "output_type": "stream",
     "text": [
      "\r",
      "  8%|█████▉                                                                  | 1327/16054 [1:54:41<9:25:24,  2.30s/it]"
     ]
    },
    {
     "name": "stdout",
     "output_type": "stream",
     "text": [
      "Failed to download video from https://www.youtube.com/watch?v=Qd1x1kUwhpQ. Reason: Qd1x1kUwhpQ is age restricted, and can't be accessed without logging in.\n"
     ]
    },
    {
     "name": "stderr",
     "output_type": "stream",
     "text": [
      "\r",
      "  8%|█████▉                                                                  | 1328/16054 [1:54:43<9:10:16,  2.24s/it]"
     ]
    },
    {
     "name": "stdout",
     "output_type": "stream",
     "text": [
      "Failed to download video from https://www.youtube.com/watch?v=Qd1x1kUwhpQ. Reason: Qd1x1kUwhpQ is age restricted, and can't be accessed without logging in.\n"
     ]
    },
    {
     "name": "stderr",
     "output_type": "stream",
     "text": [
      "\r",
      "  8%|█████▉                                                                  | 1329/16054 [1:54:46<9:14:14,  2.26s/it]"
     ]
    },
    {
     "name": "stdout",
     "output_type": "stream",
     "text": [
      "Failed to download video from https://www.youtube.com/watch?v=Qd1x1kUwhpQ. Reason: Qd1x1kUwhpQ is age restricted, and can't be accessed without logging in.\n"
     ]
    },
    {
     "name": "stderr",
     "output_type": "stream",
     "text": [
      "\r",
      "  8%|█████▉                                                                  | 1330/16054 [1:54:48<9:09:41,  2.24s/it]"
     ]
    },
    {
     "name": "stdout",
     "output_type": "stream",
     "text": [
      "Failed to download video from https://www.youtube.com/watch?v=Qd1x1kUwhpQ. Reason: Qd1x1kUwhpQ is age restricted, and can't be accessed without logging in.\n"
     ]
    },
    {
     "name": "stderr",
     "output_type": "stream",
     "text": [
      "\r",
      "  8%|█████▉                                                                  | 1331/16054 [1:54:50<9:38:24,  2.36s/it]"
     ]
    },
    {
     "name": "stdout",
     "output_type": "stream",
     "text": [
      "Failed to download video from https://www.youtube.com/watch?v=Qd1x1kUwhpQ. Reason: Qd1x1kUwhpQ is age restricted, and can't be accessed without logging in.\n"
     ]
    },
    {
     "name": "stderr",
     "output_type": "stream",
     "text": [
      "\r",
      "  8%|█████▉                                                                 | 1332/16054 [1:54:53<10:02:55,  2.46s/it]"
     ]
    },
    {
     "name": "stdout",
     "output_type": "stream",
     "text": [
      "Failed to download video from https://www.youtube.com/watch?v=Qd1x1kUwhpQ. Reason: Qd1x1kUwhpQ is age restricted, and can't be accessed without logging in.\n"
     ]
    },
    {
     "name": "stderr",
     "output_type": "stream",
     "text": [
      "\r",
      "  8%|█████▉                                                                  | 1333/16054 [1:54:55<9:47:50,  2.40s/it]"
     ]
    },
    {
     "name": "stdout",
     "output_type": "stream",
     "text": [
      "Failed to download video from https://www.youtube.com/watch?v=Qd1x1kUwhpQ. Reason: Qd1x1kUwhpQ is age restricted, and can't be accessed without logging in.\n"
     ]
    },
    {
     "name": "stderr",
     "output_type": "stream",
     "text": [
      "\r",
      "  8%|█████▉                                                                  | 1334/16054 [1:54:57<9:25:27,  2.30s/it]"
     ]
    },
    {
     "name": "stdout",
     "output_type": "stream",
     "text": [
      "Failed to download video from https://www.youtube.com/watch?v=Qd1x1kUwhpQ. Reason: Qd1x1kUwhpQ is age restricted, and can't be accessed without logging in.\n"
     ]
    },
    {
     "name": "stderr",
     "output_type": "stream",
     "text": [
      "\r",
      "  8%|█████▉                                                                  | 1335/16054 [1:54:59<9:10:35,  2.24s/it]"
     ]
    },
    {
     "name": "stdout",
     "output_type": "stream",
     "text": [
      "Failed to download video from https://www.youtube.com/watch?v=Qd1x1kUwhpQ. Reason: Qd1x1kUwhpQ is age restricted, and can't be accessed without logging in.\n"
     ]
    },
    {
     "name": "stderr",
     "output_type": "stream",
     "text": [
      "\r",
      "  8%|█████▉                                                                  | 1336/16054 [1:55:02<8:57:55,  2.19s/it]"
     ]
    },
    {
     "name": "stdout",
     "output_type": "stream",
     "text": [
      "Failed to download video from https://www.youtube.com/watch?v=Qd1x1kUwhpQ. Reason: Qd1x1kUwhpQ is age restricted, and can't be accessed without logging in.\n"
     ]
    },
    {
     "name": "stderr",
     "output_type": "stream",
     "text": [
      "\r",
      "  8%|█████▉                                                                  | 1337/16054 [1:55:04<8:49:48,  2.16s/it]"
     ]
    },
    {
     "name": "stdout",
     "output_type": "stream",
     "text": [
      "Failed to download video from https://www.youtube.com/watch?v=Qd1x1kUwhpQ. Reason: Qd1x1kUwhpQ is age restricted, and can't be accessed without logging in.\n"
     ]
    },
    {
     "name": "stderr",
     "output_type": "stream",
     "text": [
      "\r",
      "  8%|██████                                                                  | 1338/16054 [1:55:06<8:46:07,  2.15s/it]"
     ]
    },
    {
     "name": "stdout",
     "output_type": "stream",
     "text": [
      "Failed to download video from https://www.youtube.com/watch?v=Qd1x1kUwhpQ. Reason: Qd1x1kUwhpQ is age restricted, and can't be accessed without logging in.\n"
     ]
    },
    {
     "name": "stderr",
     "output_type": "stream",
     "text": [
      "\r",
      "  8%|██████                                                                  | 1339/16054 [1:55:08<8:41:46,  2.13s/it]"
     ]
    },
    {
     "name": "stdout",
     "output_type": "stream",
     "text": [
      "Failed to download video from https://www.youtube.com/watch?v=Qd1x1kUwhpQ. Reason: Qd1x1kUwhpQ is age restricted, and can't be accessed without logging in.\n"
     ]
    },
    {
     "name": "stderr",
     "output_type": "stream",
     "text": [
      "\r",
      "  8%|██████                                                                  | 1340/16054 [1:55:10<8:40:27,  2.12s/it]"
     ]
    },
    {
     "name": "stdout",
     "output_type": "stream",
     "text": [
      "Failed to download video from https://www.youtube.com/watch?v=Qd1x1kUwhpQ. Reason: Qd1x1kUwhpQ is age restricted, and can't be accessed without logging in.\n"
     ]
    },
    {
     "name": "stderr",
     "output_type": "stream",
     "text": [
      "\r",
      "  8%|██████                                                                  | 1341/16054 [1:55:12<8:39:01,  2.12s/it]"
     ]
    },
    {
     "name": "stdout",
     "output_type": "stream",
     "text": [
      "Failed to download video from https://www.youtube.com/watch?v=Qd1x1kUwhpQ. Reason: Qd1x1kUwhpQ is age restricted, and can't be accessed without logging in.\n"
     ]
    },
    {
     "name": "stderr",
     "output_type": "stream",
     "text": [
      "\r",
      "  8%|██████                                                                  | 1342/16054 [1:55:14<8:52:02,  2.17s/it]"
     ]
    },
    {
     "name": "stdout",
     "output_type": "stream",
     "text": [
      "Failed to download video from https://www.youtube.com/watch?v=Qd1x1kUwhpQ. Reason: Qd1x1kUwhpQ is age restricted, and can't be accessed without logging in.\n"
     ]
    },
    {
     "name": "stderr",
     "output_type": "stream",
     "text": [
      "\r",
      "  8%|██████                                                                  | 1343/16054 [1:55:17<9:01:11,  2.21s/it]"
     ]
    },
    {
     "name": "stdout",
     "output_type": "stream",
     "text": [
      "Failed to download video from https://www.youtube.com/watch?v=Qd1x1kUwhpQ. Reason: Qd1x1kUwhpQ is age restricted, and can't be accessed without logging in.\n"
     ]
    },
    {
     "name": "stderr",
     "output_type": "stream",
     "text": [
      "\r",
      "  8%|██████                                                                  | 1344/16054 [1:55:19<9:00:58,  2.21s/it]"
     ]
    },
    {
     "name": "stdout",
     "output_type": "stream",
     "text": [
      "Failed to download video from https://www.youtube.com/watch?v=Qd1x1kUwhpQ. Reason: Qd1x1kUwhpQ is age restricted, and can't be accessed without logging in.\n"
     ]
    },
    {
     "name": "stderr",
     "output_type": "stream",
     "text": [
      "\r",
      "  8%|██████                                                                  | 1345/16054 [1:55:21<8:54:57,  2.18s/it]"
     ]
    },
    {
     "name": "stdout",
     "output_type": "stream",
     "text": [
      "Failed to download video from https://www.youtube.com/watch?v=Qd1x1kUwhpQ. Reason: Qd1x1kUwhpQ is age restricted, and can't be accessed without logging in.\n"
     ]
    },
    {
     "name": "stderr",
     "output_type": "stream",
     "text": [
      "\r",
      "  8%|██████                                                                  | 1346/16054 [1:55:23<8:46:36,  2.15s/it]"
     ]
    },
    {
     "name": "stdout",
     "output_type": "stream",
     "text": [
      "Failed to download video from https://www.youtube.com/watch?v=Qd1x1kUwhpQ. Reason: Qd1x1kUwhpQ is age restricted, and can't be accessed without logging in.\n"
     ]
    },
    {
     "name": "stderr",
     "output_type": "stream",
     "text": [
      "\r",
      "  8%|██████                                                                  | 1347/16054 [1:55:25<8:43:05,  2.13s/it]"
     ]
    },
    {
     "name": "stdout",
     "output_type": "stream",
     "text": [
      "Failed to download video from https://www.youtube.com/watch?v=Qd1x1kUwhpQ. Reason: Qd1x1kUwhpQ is age restricted, and can't be accessed without logging in.\n"
     ]
    },
    {
     "name": "stderr",
     "output_type": "stream",
     "text": [
      "\r",
      "  8%|██████                                                                  | 1348/16054 [1:55:27<8:56:37,  2.19s/it]"
     ]
    },
    {
     "name": "stdout",
     "output_type": "stream",
     "text": [
      "Failed to download video from https://www.youtube.com/watch?v=Qd1x1kUwhpQ. Reason: Qd1x1kUwhpQ is age restricted, and can't be accessed without logging in.\n"
     ]
    },
    {
     "name": "stderr",
     "output_type": "stream",
     "text": [
      "\r",
      "  8%|██████                                                                  | 1349/16054 [1:55:30<9:04:12,  2.22s/it]"
     ]
    },
    {
     "name": "stdout",
     "output_type": "stream",
     "text": [
      "Failed to download video from https://www.youtube.com/watch?v=Qd1x1kUwhpQ. Reason: Qd1x1kUwhpQ is age restricted, and can't be accessed without logging in.\n"
     ]
    },
    {
     "name": "stderr",
     "output_type": "stream",
     "text": [
      "\r",
      "  8%|██████                                                                  | 1350/16054 [1:55:32<9:17:40,  2.28s/it]"
     ]
    },
    {
     "name": "stdout",
     "output_type": "stream",
     "text": [
      "Failed to download video from https://www.youtube.com/watch?v=Qd1x1kUwhpQ. Reason: Qd1x1kUwhpQ is age restricted, and can't be accessed without logging in.\n"
     ]
    },
    {
     "name": "stderr",
     "output_type": "stream",
     "text": [
      "\r",
      "  8%|██████                                                                  | 1351/16054 [1:55:34<9:20:05,  2.29s/it]"
     ]
    },
    {
     "name": "stdout",
     "output_type": "stream",
     "text": [
      "Failed to download video from https://www.youtube.com/watch?v=Qd1x1kUwhpQ. Reason: Qd1x1kUwhpQ is age restricted, and can't be accessed without logging in.\n"
     ]
    },
    {
     "name": "stderr",
     "output_type": "stream",
     "text": [
      "\r",
      "  8%|██████                                                                  | 1352/16054 [1:55:37<9:29:00,  2.32s/it]"
     ]
    },
    {
     "name": "stdout",
     "output_type": "stream",
     "text": [
      "Failed to download video from https://www.youtube.com/watch?v=Qd1x1kUwhpQ. Reason: Qd1x1kUwhpQ is age restricted, and can't be accessed without logging in.\n"
     ]
    },
    {
     "name": "stderr",
     "output_type": "stream",
     "text": [
      "\r",
      "  8%|██████                                                                  | 1353/16054 [1:55:39<9:23:17,  2.30s/it]"
     ]
    },
    {
     "name": "stdout",
     "output_type": "stream",
     "text": [
      "Failed to download video from https://www.youtube.com/watch?v=Qd1x1kUwhpQ. Reason: Qd1x1kUwhpQ is age restricted, and can't be accessed without logging in.\n"
     ]
    },
    {
     "name": "stderr",
     "output_type": "stream",
     "text": [
      "\r",
      "  8%|██████                                                                  | 1354/16054 [1:55:41<9:14:08,  2.26s/it]"
     ]
    },
    {
     "name": "stdout",
     "output_type": "stream",
     "text": [
      "Failed to download video from https://www.youtube.com/watch?v=Qd1x1kUwhpQ. Reason: Qd1x1kUwhpQ is age restricted, and can't be accessed without logging in.\n"
     ]
    },
    {
     "name": "stderr",
     "output_type": "stream",
     "text": [
      "\r",
      "  8%|██████                                                                  | 1355/16054 [1:55:44<9:23:55,  2.30s/it]"
     ]
    },
    {
     "name": "stdout",
     "output_type": "stream",
     "text": [
      "Failed to download video from https://www.youtube.com/watch?v=Qd1x1kUwhpQ. Reason: Qd1x1kUwhpQ is age restricted, and can't be accessed without logging in.\n"
     ]
    },
    {
     "name": "stderr",
     "output_type": "stream",
     "text": [
      "\r",
      "  8%|██████                                                                  | 1356/16054 [1:55:46<9:25:26,  2.31s/it]"
     ]
    },
    {
     "name": "stdout",
     "output_type": "stream",
     "text": [
      "Failed to download video from https://www.youtube.com/watch?v=Qd1x1kUwhpQ. Reason: Qd1x1kUwhpQ is age restricted, and can't be accessed without logging in.\n"
     ]
    },
    {
     "name": "stderr",
     "output_type": "stream",
     "text": [
      "\r",
      "  8%|██████                                                                  | 1357/16054 [1:55:48<9:31:59,  2.34s/it]"
     ]
    },
    {
     "name": "stdout",
     "output_type": "stream",
     "text": [
      "Failed to download video from https://www.youtube.com/watch?v=Qd1x1kUwhpQ. Reason: Qd1x1kUwhpQ is age restricted, and can't be accessed without logging in.\n"
     ]
    },
    {
     "name": "stderr",
     "output_type": "stream",
     "text": [
      "\r",
      "  8%|██████                                                                  | 1358/16054 [1:55:51<9:24:05,  2.30s/it]"
     ]
    },
    {
     "name": "stdout",
     "output_type": "stream",
     "text": [
      "Failed to download video from https://www.youtube.com/watch?v=Qd1x1kUwhpQ. Reason: Qd1x1kUwhpQ is age restricted, and can't be accessed without logging in.\n"
     ]
    },
    {
     "name": "stderr",
     "output_type": "stream",
     "text": [
      "\r",
      "  8%|██████                                                                  | 1359/16054 [1:55:53<9:15:13,  2.27s/it]"
     ]
    },
    {
     "name": "stdout",
     "output_type": "stream",
     "text": [
      "Failed to download video from https://www.youtube.com/watch?v=Qd1x1kUwhpQ. Reason: Qd1x1kUwhpQ is age restricted, and can't be accessed without logging in.\n"
     ]
    },
    {
     "name": "stderr",
     "output_type": "stream",
     "text": [
      "\r",
      "  8%|██████                                                                  | 1360/16054 [1:55:55<9:25:15,  2.31s/it]"
     ]
    },
    {
     "name": "stdout",
     "output_type": "stream",
     "text": [
      "Failed to download video from https://www.youtube.com/watch?v=Qd1x1kUwhpQ. Reason: Qd1x1kUwhpQ is age restricted, and can't be accessed without logging in.\n"
     ]
    },
    {
     "name": "stderr",
     "output_type": "stream",
     "text": [
      "\r",
      "  8%|██████                                                                  | 1361/16054 [1:55:58<9:25:51,  2.31s/it]"
     ]
    },
    {
     "name": "stdout",
     "output_type": "stream",
     "text": [
      "Failed to download video from https://www.youtube.com/watch?v=Qd1x1kUwhpQ. Reason: Qd1x1kUwhpQ is age restricted, and can't be accessed without logging in.\n"
     ]
    },
    {
     "name": "stderr",
     "output_type": "stream",
     "text": [
      "\r",
      "  8%|██████                                                                  | 1362/16054 [1:56:00<9:32:50,  2.34s/it]"
     ]
    },
    {
     "name": "stdout",
     "output_type": "stream",
     "text": [
      "Failed to download video from https://www.youtube.com/watch?v=Qd1x1kUwhpQ. Reason: Qd1x1kUwhpQ is age restricted, and can't be accessed without logging in.\n"
     ]
    },
    {
     "name": "stderr",
     "output_type": "stream",
     "text": [
      "\r",
      "  8%|██████                                                                  | 1363/16054 [1:56:02<9:31:24,  2.33s/it]"
     ]
    },
    {
     "name": "stdout",
     "output_type": "stream",
     "text": [
      "Failed to download video from https://www.youtube.com/watch?v=Qd1x1kUwhpQ. Reason: Qd1x1kUwhpQ is age restricted, and can't be accessed without logging in.\n"
     ]
    },
    {
     "name": "stderr",
     "output_type": "stream",
     "text": [
      "\r",
      "  8%|██████                                                                  | 1364/16054 [1:56:05<9:36:01,  2.35s/it]"
     ]
    },
    {
     "name": "stdout",
     "output_type": "stream",
     "text": [
      "Failed to download video from https://www.youtube.com/watch?v=Qd1x1kUwhpQ. Reason: Qd1x1kUwhpQ is age restricted, and can't be accessed without logging in.\n"
     ]
    },
    {
     "name": "stderr",
     "output_type": "stream",
     "text": [
      "\r",
      "  9%|██████                                                                  | 1365/16054 [1:56:07<9:32:33,  2.34s/it]"
     ]
    },
    {
     "name": "stdout",
     "output_type": "stream",
     "text": [
      "Failed to download video from https://www.youtube.com/watch?v=Qd1x1kUwhpQ. Reason: Qd1x1kUwhpQ is age restricted, and can't be accessed without logging in.\n"
     ]
    },
    {
     "name": "stderr",
     "output_type": "stream",
     "text": [
      "\r",
      "  9%|██████▏                                                                 | 1366/16054 [1:56:09<9:38:05,  2.36s/it]"
     ]
    },
    {
     "name": "stdout",
     "output_type": "stream",
     "text": [
      "Failed to download video from https://www.youtube.com/watch?v=Qd1x1kUwhpQ. Reason: Qd1x1kUwhpQ is age restricted, and can't be accessed without logging in.\n"
     ]
    },
    {
     "name": "stderr",
     "output_type": "stream",
     "text": [
      "\r",
      "  9%|██████                                                                 | 1367/16054 [1:56:12<10:07:04,  2.48s/it]"
     ]
    },
    {
     "name": "stdout",
     "output_type": "stream",
     "text": [
      "Failed to download video from https://www.youtube.com/watch?v=Qd1x1kUwhpQ. Reason: Qd1x1kUwhpQ is age restricted, and can't be accessed without logging in.\n"
     ]
    },
    {
     "name": "stderr",
     "output_type": "stream",
     "text": [
      "\r",
      "  9%|██████                                                                 | 1368/16054 [1:56:15<10:08:58,  2.49s/it]"
     ]
    },
    {
     "name": "stdout",
     "output_type": "stream",
     "text": [
      "Failed to download video from https://www.youtube.com/watch?v=Qd1x1kUwhpQ. Reason: Qd1x1kUwhpQ is age restricted, and can't be accessed without logging in.\n"
     ]
    },
    {
     "name": "stderr",
     "output_type": "stream",
     "text": [
      "\r",
      "  9%|██████▏                                                                 | 1369/16054 [1:56:17<9:55:44,  2.43s/it]"
     ]
    },
    {
     "name": "stdout",
     "output_type": "stream",
     "text": [
      "Failed to download video from https://www.youtube.com/watch?v=Qd1x1kUwhpQ. Reason: Qd1x1kUwhpQ is age restricted, and can't be accessed without logging in.\n"
     ]
    },
    {
     "name": "stderr",
     "output_type": "stream",
     "text": [
      "\r",
      "  9%|██████                                                                 | 1370/16054 [1:56:20<10:08:17,  2.49s/it]"
     ]
    },
    {
     "name": "stdout",
     "output_type": "stream",
     "text": [
      "Failed to download video from https://www.youtube.com/watch?v=Qd1x1kUwhpQ. Reason: Qd1x1kUwhpQ is age restricted, and can't be accessed without logging in.\n"
     ]
    },
    {
     "name": "stderr",
     "output_type": "stream",
     "text": [
      "\r",
      "  9%|██████                                                                 | 1371/16054 [1:56:22<10:27:17,  2.56s/it]"
     ]
    },
    {
     "name": "stdout",
     "output_type": "stream",
     "text": [
      "Failed to download video from https://www.youtube.com/watch?v=Qd1x1kUwhpQ. Reason: Qd1x1kUwhpQ is age restricted, and can't be accessed without logging in.\n"
     ]
    },
    {
     "name": "stderr",
     "output_type": "stream",
     "text": [
      "\r",
      "  9%|██████                                                                 | 1372/16054 [1:56:25<10:09:43,  2.49s/it]"
     ]
    },
    {
     "name": "stdout",
     "output_type": "stream",
     "text": [
      "Failed to download video from https://www.youtube.com/watch?v=Qd1x1kUwhpQ. Reason: Qd1x1kUwhpQ is age restricted, and can't be accessed without logging in.\n"
     ]
    },
    {
     "name": "stderr",
     "output_type": "stream",
     "text": [
      "\r",
      "  9%|██████                                                                 | 1373/16054 [1:56:27<10:32:10,  2.58s/it]"
     ]
    },
    {
     "name": "stdout",
     "output_type": "stream",
     "text": [
      "Failed to download video from https://www.youtube.com/watch?v=Qd1x1kUwhpQ. Reason: Qd1x1kUwhpQ is age restricted, and can't be accessed without logging in.\n"
     ]
    },
    {
     "name": "stderr",
     "output_type": "stream",
     "text": [
      "\r",
      "  9%|██████                                                                 | 1374/16054 [1:56:30<10:18:47,  2.53s/it]"
     ]
    },
    {
     "name": "stdout",
     "output_type": "stream",
     "text": [
      "Failed to download video from https://www.youtube.com/watch?v=Qd1x1kUwhpQ. Reason: Qd1x1kUwhpQ is age restricted, and can't be accessed without logging in.\n"
     ]
    },
    {
     "name": "stderr",
     "output_type": "stream",
     "text": [
      "\r",
      "  9%|██████                                                                 | 1375/16054 [1:56:32<10:03:02,  2.46s/it]"
     ]
    },
    {
     "name": "stdout",
     "output_type": "stream",
     "text": [
      "Failed to download video from https://www.youtube.com/watch?v=Qd1x1kUwhpQ. Reason: Qd1x1kUwhpQ is age restricted, and can't be accessed without logging in.\n"
     ]
    },
    {
     "name": "stderr",
     "output_type": "stream",
     "text": [
      "\r",
      "  9%|██████▏                                                                 | 1376/16054 [1:56:35<9:58:34,  2.45s/it]"
     ]
    },
    {
     "name": "stdout",
     "output_type": "stream",
     "text": [
      "Failed to download video from https://www.youtube.com/watch?v=Qd1x1kUwhpQ. Reason: Qd1x1kUwhpQ is age restricted, and can't be accessed without logging in.\n"
     ]
    },
    {
     "name": "stderr",
     "output_type": "stream",
     "text": [
      "\r",
      "  9%|██████▏                                                                 | 1377/16054 [1:56:37<9:49:18,  2.41s/it]"
     ]
    },
    {
     "name": "stdout",
     "output_type": "stream",
     "text": [
      "Failed to download video from https://www.youtube.com/watch?v=Qd1x1kUwhpQ. Reason: Qd1x1kUwhpQ is age restricted, and can't be accessed without logging in.\n"
     ]
    },
    {
     "name": "stderr",
     "output_type": "stream",
     "text": [
      "\r",
      "  9%|██████▏                                                                 | 1378/16054 [1:56:39<9:48:22,  2.41s/it]"
     ]
    },
    {
     "name": "stdout",
     "output_type": "stream",
     "text": [
      "Failed to download video from https://www.youtube.com/watch?v=Qd1x1kUwhpQ. Reason: Qd1x1kUwhpQ is age restricted, and can't be accessed without logging in.\n"
     ]
    },
    {
     "name": "stderr",
     "output_type": "stream",
     "text": [
      "\r",
      "  9%|██████▏                                                                 | 1379/16054 [1:56:42<9:42:05,  2.38s/it]"
     ]
    },
    {
     "name": "stdout",
     "output_type": "stream",
     "text": [
      "Failed to download video from https://www.youtube.com/watch?v=Qd1x1kUwhpQ. Reason: Qd1x1kUwhpQ is age restricted, and can't be accessed without logging in.\n"
     ]
    },
    {
     "name": "stderr",
     "output_type": "stream",
     "text": [
      "\r",
      "  9%|██████                                                                 | 1380/16054 [1:56:44<10:00:12,  2.45s/it]"
     ]
    },
    {
     "name": "stdout",
     "output_type": "stream",
     "text": [
      "Failed to download video from https://www.youtube.com/watch?v=Qd1x1kUwhpQ. Reason: Qd1x1kUwhpQ is age restricted, and can't be accessed without logging in.\n"
     ]
    },
    {
     "name": "stderr",
     "output_type": "stream",
     "text": [
      "\r",
      "  9%|██████▏                                                                 | 1381/16054 [1:56:47<9:55:37,  2.44s/it]"
     ]
    },
    {
     "name": "stdout",
     "output_type": "stream",
     "text": [
      "Failed to download video from https://www.youtube.com/watch?v=Qd1x1kUwhpQ. Reason: Qd1x1kUwhpQ is age restricted, and can't be accessed without logging in.\n"
     ]
    },
    {
     "name": "stderr",
     "output_type": "stream",
     "text": [
      "\r",
      "  9%|██████▏                                                                 | 1382/16054 [1:56:49<9:54:39,  2.43s/it]"
     ]
    },
    {
     "name": "stdout",
     "output_type": "stream",
     "text": [
      "Failed to download video from https://www.youtube.com/watch?v=Qd1x1kUwhpQ. Reason: Qd1x1kUwhpQ is age restricted, and can't be accessed without logging in.\n"
     ]
    },
    {
     "name": "stderr",
     "output_type": "stream",
     "text": [
      "\r",
      "  9%|██████▏                                                                 | 1383/16054 [1:56:51<9:44:39,  2.39s/it]"
     ]
    },
    {
     "name": "stdout",
     "output_type": "stream",
     "text": [
      "Failed to download video from https://www.youtube.com/watch?v=Qd1x1kUwhpQ. Reason: Qd1x1kUwhpQ is age restricted, and can't be accessed without logging in.\n"
     ]
    },
    {
     "name": "stderr",
     "output_type": "stream",
     "text": [
      "\r",
      "  9%|██████▏                                                                 | 1384/16054 [1:56:54<9:33:11,  2.34s/it]"
     ]
    },
    {
     "name": "stdout",
     "output_type": "stream",
     "text": [
      "Failed to download video from https://www.youtube.com/watch?v=Qd1x1kUwhpQ. Reason: Qd1x1kUwhpQ is age restricted, and can't be accessed without logging in.\n"
     ]
    },
    {
     "name": "stderr",
     "output_type": "stream",
     "text": [
      "\r",
      "  9%|██████▏                                                                 | 1385/16054 [1:56:56<9:52:51,  2.42s/it]"
     ]
    },
    {
     "name": "stdout",
     "output_type": "stream",
     "text": [
      "Failed to download video from https://www.youtube.com/watch?v=Qd1x1kUwhpQ. Reason: Qd1x1kUwhpQ is age restricted, and can't be accessed without logging in.\n"
     ]
    },
    {
     "name": "stderr",
     "output_type": "stream",
     "text": [
      "\r",
      "  9%|██████▏                                                                 | 1386/16054 [1:56:58<9:43:20,  2.39s/it]"
     ]
    },
    {
     "name": "stdout",
     "output_type": "stream",
     "text": [
      "Failed to download video from https://www.youtube.com/watch?v=Qd1x1kUwhpQ. Reason: Qd1x1kUwhpQ is age restricted, and can't be accessed without logging in.\n"
     ]
    },
    {
     "name": "stderr",
     "output_type": "stream",
     "text": [
      "\r",
      "  9%|██████▏                                                                 | 1387/16054 [1:57:01<9:21:56,  2.30s/it]"
     ]
    },
    {
     "name": "stdout",
     "output_type": "stream",
     "text": [
      "Failed to download video from https://www.youtube.com/watch?v=Qd1x1kUwhpQ. Reason: Qd1x1kUwhpQ is age restricted, and can't be accessed without logging in.\n"
     ]
    },
    {
     "name": "stderr",
     "output_type": "stream",
     "text": [
      "\r",
      "  9%|██████▏                                                                 | 1388/16054 [1:57:03<9:07:23,  2.24s/it]"
     ]
    },
    {
     "name": "stdout",
     "output_type": "stream",
     "text": [
      "Failed to download video from https://www.youtube.com/watch?v=Qd1x1kUwhpQ. Reason: Qd1x1kUwhpQ is age restricted, and can't be accessed without logging in.\n"
     ]
    },
    {
     "name": "stderr",
     "output_type": "stream",
     "text": [
      "\r",
      "  9%|██████▏                                                                 | 1389/16054 [1:57:05<8:56:36,  2.20s/it]"
     ]
    },
    {
     "name": "stdout",
     "output_type": "stream",
     "text": [
      "Failed to download video from https://www.youtube.com/watch?v=Qd1x1kUwhpQ. Reason: Qd1x1kUwhpQ is age restricted, and can't be accessed without logging in.\n"
     ]
    },
    {
     "name": "stderr",
     "output_type": "stream",
     "text": [
      "\r",
      "  9%|██████▏                                                                 | 1390/16054 [1:57:07<9:05:12,  2.23s/it]"
     ]
    },
    {
     "name": "stdout",
     "output_type": "stream",
     "text": [
      "Failed to download video from https://www.youtube.com/watch?v=Qd1x1kUwhpQ. Reason: Qd1x1kUwhpQ is age restricted, and can't be accessed without logging in.\n"
     ]
    },
    {
     "name": "stderr",
     "output_type": "stream",
     "text": [
      "\r",
      "  9%|██████▏                                                                 | 1391/16054 [1:57:09<9:10:02,  2.25s/it]"
     ]
    },
    {
     "name": "stdout",
     "output_type": "stream",
     "text": [
      "Failed to download video from https://www.youtube.com/watch?v=Qd1x1kUwhpQ. Reason: Qd1x1kUwhpQ is age restricted, and can't be accessed without logging in.\n"
     ]
    },
    {
     "name": "stderr",
     "output_type": "stream",
     "text": [
      "\r",
      "  9%|██████▏                                                                 | 1392/16054 [1:57:12<9:06:46,  2.24s/it]"
     ]
    },
    {
     "name": "stdout",
     "output_type": "stream",
     "text": [
      "Failed to download video from https://www.youtube.com/watch?v=Qd1x1kUwhpQ. Reason: Qd1x1kUwhpQ is age restricted, and can't be accessed without logging in.\n"
     ]
    },
    {
     "name": "stderr",
     "output_type": "stream",
     "text": [
      "\r",
      "  9%|██████▏                                                                 | 1393/16054 [1:57:14<8:56:33,  2.20s/it]"
     ]
    },
    {
     "name": "stdout",
     "output_type": "stream",
     "text": [
      "Failed to download video from https://www.youtube.com/watch?v=Qd1x1kUwhpQ. Reason: Qd1x1kUwhpQ is age restricted, and can't be accessed without logging in.\n"
     ]
    },
    {
     "name": "stderr",
     "output_type": "stream",
     "text": [
      "\r",
      "  9%|██████▎                                                                 | 1394/16054 [1:57:16<8:48:52,  2.16s/it]"
     ]
    },
    {
     "name": "stdout",
     "output_type": "stream",
     "text": [
      "Failed to download video from https://www.youtube.com/watch?v=Qd1x1kUwhpQ. Reason: Qd1x1kUwhpQ is age restricted, and can't be accessed without logging in.\n"
     ]
    },
    {
     "name": "stderr",
     "output_type": "stream",
     "text": [
      "\r",
      "  9%|██████▎                                                                 | 1395/16054 [1:57:18<8:45:43,  2.15s/it]"
     ]
    },
    {
     "name": "stdout",
     "output_type": "stream",
     "text": [
      "Failed to download video from https://www.youtube.com/watch?v=Qd1x1kUwhpQ. Reason: Qd1x1kUwhpQ is age restricted, and can't be accessed without logging in.\n"
     ]
    },
    {
     "name": "stderr",
     "output_type": "stream",
     "text": [
      "\r",
      "  9%|██████▎                                                                 | 1396/16054 [1:57:20<8:41:51,  2.14s/it]"
     ]
    },
    {
     "name": "stdout",
     "output_type": "stream",
     "text": [
      "Failed to download video from https://www.youtube.com/watch?v=Qd1x1kUwhpQ. Reason: Qd1x1kUwhpQ is age restricted, and can't be accessed without logging in.\n"
     ]
    },
    {
     "name": "stderr",
     "output_type": "stream",
     "text": [
      "\r",
      "  9%|██████▎                                                                 | 1397/16054 [1:57:22<8:37:08,  2.12s/it]"
     ]
    },
    {
     "name": "stdout",
     "output_type": "stream",
     "text": [
      "Failed to download video from https://www.youtube.com/watch?v=Qd1x1kUwhpQ. Reason: Qd1x1kUwhpQ is age restricted, and can't be accessed without logging in.\n"
     ]
    },
    {
     "name": "stderr",
     "output_type": "stream",
     "text": [
      "\r",
      "  9%|██████▎                                                                 | 1398/16054 [1:57:24<8:36:25,  2.11s/it]"
     ]
    },
    {
     "name": "stdout",
     "output_type": "stream",
     "text": [
      "Failed to download video from https://www.youtube.com/watch?v=Qd1x1kUwhpQ. Reason: Qd1x1kUwhpQ is age restricted, and can't be accessed without logging in.\n"
     ]
    },
    {
     "name": "stderr",
     "output_type": "stream",
     "text": [
      "\r",
      "  9%|██████▎                                                                 | 1399/16054 [1:57:26<8:34:50,  2.11s/it]"
     ]
    },
    {
     "name": "stdout",
     "output_type": "stream",
     "text": [
      "Failed to download video from https://www.youtube.com/watch?v=Qd1x1kUwhpQ. Reason: Qd1x1kUwhpQ is age restricted, and can't be accessed without logging in.\n"
     ]
    },
    {
     "name": "stderr",
     "output_type": "stream",
     "text": [
      "\r",
      "  9%|██████▎                                                                 | 1400/16054 [1:57:29<8:48:22,  2.16s/it]"
     ]
    },
    {
     "name": "stdout",
     "output_type": "stream",
     "text": [
      "Failed to download video from https://www.youtube.com/watch?v=Qd1x1kUwhpQ. Reason: Qd1x1kUwhpQ is age restricted, and can't be accessed without logging in.\n"
     ]
    },
    {
     "name": "stderr",
     "output_type": "stream",
     "text": [
      "  9%|██████▏                                                                | 1407/16054 [1:58:09<20:13:02,  4.97s/it]"
     ]
    },
    {
     "name": "stdout",
     "output_type": "stream",
     "text": [
      "Failed to download video from https://www.youtube.com/watch?v=73icFhednQU. Reason: 73icFhednQU is a private video\n"
     ]
    },
    {
     "name": "stderr",
     "output_type": "stream",
     "text": [
      "\r",
      "  9%|██████▏                                                                | 1408/16054 [1:58:10<15:38:25,  3.84s/it]"
     ]
    },
    {
     "name": "stdout",
     "output_type": "stream",
     "text": [
      "Failed to download video from https://www.youtube.com/watch?v=73icFhednQU. Reason: 73icFhednQU is a private video\n"
     ]
    },
    {
     "name": "stderr",
     "output_type": "stream",
     "text": [
      "\r",
      "  9%|██████▏                                                                | 1409/16054 [1:58:12<12:31:03,  3.08s/it]"
     ]
    },
    {
     "name": "stdout",
     "output_type": "stream",
     "text": [
      "Failed to download video from https://www.youtube.com/watch?v=73icFhednQU. Reason: 73icFhednQU is a private video\n"
     ]
    },
    {
     "name": "stderr",
     "output_type": "stream",
     "text": [
      "\r",
      "  9%|██████▏                                                                | 1410/16054 [1:58:13<10:09:37,  2.50s/it]"
     ]
    },
    {
     "name": "stdout",
     "output_type": "stream",
     "text": [
      "Failed to download video from https://www.youtube.com/watch?v=73icFhednQU. Reason: 73icFhednQU is a private video\n"
     ]
    },
    {
     "name": "stderr",
     "output_type": "stream",
     "text": [
      "\r",
      "  9%|██████▎                                                                 | 1411/16054 [1:58:14<8:37:06,  2.12s/it]"
     ]
    },
    {
     "name": "stdout",
     "output_type": "stream",
     "text": [
      "Failed to download video from https://www.youtube.com/watch?v=73icFhednQU. Reason: 73icFhednQU is a private video\n"
     ]
    },
    {
     "name": "stderr",
     "output_type": "stream",
     "text": [
      "\r",
      "  9%|██████▎                                                                 | 1412/16054 [1:58:15<7:29:07,  1.84s/it]"
     ]
    },
    {
     "name": "stdout",
     "output_type": "stream",
     "text": [
      "Failed to download video from https://www.youtube.com/watch?v=73icFhednQU. Reason: 73icFhednQU is a private video\n"
     ]
    },
    {
     "name": "stderr",
     "output_type": "stream",
     "text": [
      "\r",
      "  9%|██████▎                                                                 | 1413/16054 [1:58:16<6:39:01,  1.64s/it]"
     ]
    },
    {
     "name": "stdout",
     "output_type": "stream",
     "text": [
      "Failed to download video from https://www.youtube.com/watch?v=73icFhednQU. Reason: 73icFhednQU is a private video\n"
     ]
    },
    {
     "name": "stderr",
     "output_type": "stream",
     "text": [
      "\r",
      "  9%|██████▎                                                                 | 1414/16054 [1:58:18<6:00:53,  1.48s/it]"
     ]
    },
    {
     "name": "stdout",
     "output_type": "stream",
     "text": [
      "Failed to download video from https://www.youtube.com/watch?v=73icFhednQU. Reason: 73icFhednQU is a private video\n"
     ]
    },
    {
     "name": "stderr",
     "output_type": "stream",
     "text": [
      "\r",
      "  9%|██████▎                                                                 | 1415/16054 [1:58:19<5:44:36,  1.41s/it]"
     ]
    },
    {
     "name": "stdout",
     "output_type": "stream",
     "text": [
      "Failed to download video from https://www.youtube.com/watch?v=73icFhednQU. Reason: 73icFhednQU is a private video\n"
     ]
    },
    {
     "name": "stderr",
     "output_type": "stream",
     "text": [
      "\r",
      "  9%|██████▎                                                                 | 1416/16054 [1:58:20<5:38:05,  1.39s/it]"
     ]
    },
    {
     "name": "stdout",
     "output_type": "stream",
     "text": [
      "Failed to download video from https://www.youtube.com/watch?v=73icFhednQU. Reason: 73icFhednQU is a private video\n"
     ]
    },
    {
     "name": "stderr",
     "output_type": "stream",
     "text": [
      "\r",
      "  9%|██████▎                                                                 | 1417/16054 [1:58:21<5:16:22,  1.30s/it]"
     ]
    },
    {
     "name": "stdout",
     "output_type": "stream",
     "text": [
      "Failed to download video from https://www.youtube.com/watch?v=73icFhednQU. Reason: 73icFhednQU is a private video\n"
     ]
    },
    {
     "name": "stderr",
     "output_type": "stream",
     "text": [
      "\r",
      "  9%|██████▎                                                                 | 1418/16054 [1:58:22<5:13:31,  1.29s/it]"
     ]
    },
    {
     "name": "stdout",
     "output_type": "stream",
     "text": [
      "Failed to download video from https://www.youtube.com/watch?v=73icFhednQU. Reason: 73icFhednQU is a private video\n"
     ]
    },
    {
     "name": "stderr",
     "output_type": "stream",
     "text": [
      "\r",
      "  9%|██████▎                                                                 | 1419/16054 [1:58:24<5:13:37,  1.29s/it]"
     ]
    },
    {
     "name": "stdout",
     "output_type": "stream",
     "text": [
      "Failed to download video from https://www.youtube.com/watch?v=73icFhednQU. Reason: 73icFhednQU is a private video\n"
     ]
    },
    {
     "name": "stderr",
     "output_type": "stream",
     "text": [
      "\r",
      "  9%|██████▎                                                                 | 1420/16054 [1:58:25<5:02:33,  1.24s/it]"
     ]
    },
    {
     "name": "stdout",
     "output_type": "stream",
     "text": [
      "Failed to download video from https://www.youtube.com/watch?v=73icFhednQU. Reason: 73icFhednQU is a private video\n"
     ]
    },
    {
     "name": "stderr",
     "output_type": "stream",
     "text": [
      "\r",
      "  9%|██████▎                                                                 | 1421/16054 [1:58:26<5:03:12,  1.24s/it]"
     ]
    },
    {
     "name": "stdout",
     "output_type": "stream",
     "text": [
      "Failed to download video from https://www.youtube.com/watch?v=73icFhednQU. Reason: 73icFhednQU is a private video\n"
     ]
    },
    {
     "name": "stderr",
     "output_type": "stream",
     "text": [
      "\r",
      "  9%|██████▍                                                                 | 1422/16054 [1:58:27<5:08:02,  1.26s/it]"
     ]
    },
    {
     "name": "stdout",
     "output_type": "stream",
     "text": [
      "Failed to download video from https://www.youtube.com/watch?v=73icFhednQU. Reason: 73icFhednQU is a private video\n"
     ]
    },
    {
     "name": "stderr",
     "output_type": "stream",
     "text": [
      "\r",
      "  9%|██████▍                                                                 | 1423/16054 [1:58:29<4:55:50,  1.21s/it]"
     ]
    },
    {
     "name": "stdout",
     "output_type": "stream",
     "text": [
      "Failed to download video from https://www.youtube.com/watch?v=73icFhednQU. Reason: 73icFhednQU is a private video\n"
     ]
    },
    {
     "name": "stderr",
     "output_type": "stream",
     "text": [
      "\r",
      "  9%|██████▍                                                                 | 1424/16054 [1:58:30<4:58:39,  1.22s/it]"
     ]
    },
    {
     "name": "stdout",
     "output_type": "stream",
     "text": [
      "Failed to download video from https://www.youtube.com/watch?v=73icFhednQU. Reason: 73icFhednQU is a private video\n"
     ]
    },
    {
     "name": "stderr",
     "output_type": "stream",
     "text": [
      "\r",
      "  9%|██████▍                                                                 | 1425/16054 [1:58:31<5:05:38,  1.25s/it]"
     ]
    },
    {
     "name": "stdout",
     "output_type": "stream",
     "text": [
      "Failed to download video from https://www.youtube.com/watch?v=73icFhednQU. Reason: 73icFhednQU is a private video\n"
     ]
    },
    {
     "name": "stderr",
     "output_type": "stream",
     "text": [
      "\r",
      "  9%|██████▍                                                                 | 1426/16054 [1:58:32<4:55:30,  1.21s/it]"
     ]
    },
    {
     "name": "stdout",
     "output_type": "stream",
     "text": [
      "Failed to download video from https://www.youtube.com/watch?v=73icFhednQU. Reason: 73icFhednQU is a private video\n"
     ]
    },
    {
     "name": "stderr",
     "output_type": "stream",
     "text": [
      "\r",
      "  9%|██████▍                                                                 | 1427/16054 [1:58:33<4:57:30,  1.22s/it]"
     ]
    },
    {
     "name": "stdout",
     "output_type": "stream",
     "text": [
      "Failed to download video from https://www.youtube.com/watch?v=73icFhednQU. Reason: 73icFhednQU is a private video\n"
     ]
    },
    {
     "name": "stderr",
     "output_type": "stream",
     "text": [
      "\r",
      "  9%|██████▍                                                                 | 1428/16054 [1:58:35<5:04:37,  1.25s/it]"
     ]
    },
    {
     "name": "stdout",
     "output_type": "stream",
     "text": [
      "Failed to download video from https://www.youtube.com/watch?v=73icFhednQU. Reason: 73icFhednQU is a private video\n"
     ]
    },
    {
     "name": "stderr",
     "output_type": "stream",
     "text": [
      "\r",
      "  9%|██████▍                                                                 | 1429/16054 [1:58:36<4:53:36,  1.20s/it]"
     ]
    },
    {
     "name": "stdout",
     "output_type": "stream",
     "text": [
      "Failed to download video from https://www.youtube.com/watch?v=73icFhednQU. Reason: 73icFhednQU is a private video\n"
     ]
    },
    {
     "name": "stderr",
     "output_type": "stream",
     "text": [
      "\r",
      "  9%|██████▍                                                                 | 1430/16054 [1:58:37<4:59:05,  1.23s/it]"
     ]
    },
    {
     "name": "stdout",
     "output_type": "stream",
     "text": [
      "Failed to download video from https://www.youtube.com/watch?v=73icFhednQU. Reason: 73icFhednQU is a private video\n"
     ]
    },
    {
     "name": "stderr",
     "output_type": "stream",
     "text": [
      "\r",
      "  9%|██████▍                                                                 | 1431/16054 [1:58:38<5:04:16,  1.25s/it]"
     ]
    },
    {
     "name": "stdout",
     "output_type": "stream",
     "text": [
      "Failed to download video from https://www.youtube.com/watch?v=73icFhednQU. Reason: 73icFhednQU is a private video\n"
     ]
    },
    {
     "name": "stderr",
     "output_type": "stream",
     "text": [
      "\r",
      "  9%|██████▍                                                                 | 1432/16054 [1:58:40<4:52:07,  1.20s/it]"
     ]
    },
    {
     "name": "stdout",
     "output_type": "stream",
     "text": [
      "Failed to download video from https://www.youtube.com/watch?v=73icFhednQU. Reason: 73icFhednQU is a private video\n"
     ]
    },
    {
     "name": "stderr",
     "output_type": "stream",
     "text": [
      "\r",
      "  9%|██████▍                                                                 | 1433/16054 [1:58:41<4:56:41,  1.22s/it]"
     ]
    },
    {
     "name": "stdout",
     "output_type": "stream",
     "text": [
      "Failed to download video from https://www.youtube.com/watch?v=73icFhednQU. Reason: 73icFhednQU is a private video\n"
     ]
    },
    {
     "name": "stderr",
     "output_type": "stream",
     "text": [
      "\r",
      "  9%|██████▍                                                                 | 1434/16054 [1:58:42<5:02:33,  1.24s/it]"
     ]
    },
    {
     "name": "stdout",
     "output_type": "stream",
     "text": [
      "Failed to download video from https://www.youtube.com/watch?v=73icFhednQU. Reason: 73icFhednQU is a private video\n"
     ]
    },
    {
     "name": "stderr",
     "output_type": "stream",
     "text": [
      "\r",
      "  9%|██████▍                                                                 | 1435/16054 [1:58:43<4:54:19,  1.21s/it]"
     ]
    },
    {
     "name": "stdout",
     "output_type": "stream",
     "text": [
      "Failed to download video from https://www.youtube.com/watch?v=73icFhednQU. Reason: 73icFhednQU is a private video\n"
     ]
    },
    {
     "name": "stderr",
     "output_type": "stream",
     "text": [
      "\r",
      "  9%|██████▍                                                                 | 1436/16054 [1:58:44<4:56:27,  1.22s/it]"
     ]
    },
    {
     "name": "stdout",
     "output_type": "stream",
     "text": [
      "Failed to download video from https://www.youtube.com/watch?v=73icFhednQU. Reason: 73icFhednQU is a private video\n"
     ]
    },
    {
     "name": "stderr",
     "output_type": "stream",
     "text": [
      "\r",
      "  9%|██████▍                                                                 | 1437/16054 [1:58:46<5:02:57,  1.24s/it]"
     ]
    },
    {
     "name": "stdout",
     "output_type": "stream",
     "text": [
      "Failed to download video from https://www.youtube.com/watch?v=73icFhednQU. Reason: 73icFhednQU is a private video\n"
     ]
    },
    {
     "name": "stderr",
     "output_type": "stream",
     "text": [
      "\r",
      "  9%|██████▍                                                                 | 1438/16054 [1:58:47<4:53:50,  1.21s/it]"
     ]
    },
    {
     "name": "stdout",
     "output_type": "stream",
     "text": [
      "Failed to download video from https://www.youtube.com/watch?v=73icFhednQU. Reason: 73icFhednQU is a private video\n"
     ]
    },
    {
     "name": "stderr",
     "output_type": "stream",
     "text": [
      "\r",
      "  9%|██████▍                                                                 | 1439/16054 [1:58:48<4:41:21,  1.16s/it]"
     ]
    },
    {
     "name": "stdout",
     "output_type": "stream",
     "text": [
      "Failed to download video from https://www.youtube.com/watch?v=73icFhednQU. Reason: 73icFhednQU is a private video\n"
     ]
    },
    {
     "name": "stderr",
     "output_type": "stream",
     "text": [
      "\r",
      "  9%|██████▍                                                                 | 1440/16054 [1:58:49<4:33:36,  1.12s/it]"
     ]
    },
    {
     "name": "stdout",
     "output_type": "stream",
     "text": [
      "Failed to download video from https://www.youtube.com/watch?v=73icFhednQU. Reason: 73icFhednQU is a private video\n"
     ]
    },
    {
     "name": "stderr",
     "output_type": "stream",
     "text": [
      "\r",
      "  9%|██████▍                                                                 | 1441/16054 [1:58:50<4:28:49,  1.10s/it]"
     ]
    },
    {
     "name": "stdout",
     "output_type": "stream",
     "text": [
      "Failed to download video from https://www.youtube.com/watch?v=73icFhednQU. Reason: 73icFhednQU is a private video\n"
     ]
    },
    {
     "name": "stderr",
     "output_type": "stream",
     "text": [
      "\r",
      "  9%|██████▍                                                                 | 1442/16054 [1:58:51<4:40:38,  1.15s/it]"
     ]
    },
    {
     "name": "stdout",
     "output_type": "stream",
     "text": [
      "Failed to download video from https://www.youtube.com/watch?v=73icFhednQU. Reason: 73icFhednQU is a private video\n"
     ]
    },
    {
     "name": "stderr",
     "output_type": "stream",
     "text": [
      "\r",
      "  9%|██████▍                                                                 | 1443/16054 [1:58:53<4:50:55,  1.19s/it]"
     ]
    },
    {
     "name": "stdout",
     "output_type": "stream",
     "text": [
      "Failed to download video from https://www.youtube.com/watch?v=73icFhednQU. Reason: 73icFhednQU is a private video\n"
     ]
    },
    {
     "name": "stderr",
     "output_type": "stream",
     "text": [
      "\r",
      "  9%|██████▍                                                                 | 1444/16054 [1:58:54<4:44:41,  1.17s/it]"
     ]
    },
    {
     "name": "stdout",
     "output_type": "stream",
     "text": [
      "Failed to download video from https://www.youtube.com/watch?v=73icFhednQU. Reason: 73icFhednQU is a private video\n"
     ]
    },
    {
     "name": "stderr",
     "output_type": "stream",
     "text": [
      "\r",
      "  9%|██████▍                                                                 | 1445/16054 [1:58:55<4:50:55,  1.19s/it]"
     ]
    },
    {
     "name": "stdout",
     "output_type": "stream",
     "text": [
      "Failed to download video from https://www.youtube.com/watch?v=73icFhednQU. Reason: 73icFhednQU is a private video\n"
     ]
    },
    {
     "name": "stderr",
     "output_type": "stream",
     "text": [
      "\r",
      "  9%|██████▍                                                                 | 1446/16054 [1:58:56<4:58:33,  1.23s/it]"
     ]
    },
    {
     "name": "stdout",
     "output_type": "stream",
     "text": [
      "Failed to download video from https://www.youtube.com/watch?v=73icFhednQU. Reason: 73icFhednQU is a private video\n"
     ]
    },
    {
     "name": "stderr",
     "output_type": "stream",
     "text": [
      "\r",
      "  9%|██████▍                                                                 | 1447/16054 [1:58:57<4:50:34,  1.19s/it]"
     ]
    },
    {
     "name": "stdout",
     "output_type": "stream",
     "text": [
      "Failed to download video from https://www.youtube.com/watch?v=73icFhednQU. Reason: 73icFhednQU is a private video\n"
     ]
    },
    {
     "name": "stderr",
     "output_type": "stream",
     "text": [
      "\r",
      "  9%|██████▍                                                                 | 1448/16054 [1:58:59<4:54:57,  1.21s/it]"
     ]
    },
    {
     "name": "stdout",
     "output_type": "stream",
     "text": [
      "Failed to download video from https://www.youtube.com/watch?v=73icFhednQU. Reason: 73icFhednQU is a private video\n"
     ]
    },
    {
     "name": "stderr",
     "output_type": "stream",
     "text": [
      "\r",
      "  9%|██████▍                                                                 | 1449/16054 [1:59:00<5:02:48,  1.24s/it]"
     ]
    },
    {
     "name": "stdout",
     "output_type": "stream",
     "text": [
      "Failed to download video from https://www.youtube.com/watch?v=73icFhednQU. Reason: 73icFhednQU is a private video\n"
     ]
    },
    {
     "name": "stderr",
     "output_type": "stream",
     "text": [
      "\r",
      "  9%|██████▌                                                                 | 1450/16054 [1:59:01<4:52:18,  1.20s/it]"
     ]
    },
    {
     "name": "stdout",
     "output_type": "stream",
     "text": [
      "Failed to download video from https://www.youtube.com/watch?v=73icFhednQU. Reason: 73icFhednQU is a private video\n"
     ]
    },
    {
     "name": "stderr",
     "output_type": "stream",
     "text": [
      "\r",
      "  9%|██████▌                                                                 | 1451/16054 [1:59:02<4:56:41,  1.22s/it]"
     ]
    },
    {
     "name": "stdout",
     "output_type": "stream",
     "text": [
      "Failed to download video from https://www.youtube.com/watch?v=73icFhednQU. Reason: 73icFhednQU is a private video\n"
     ]
    },
    {
     "name": "stderr",
     "output_type": "stream",
     "text": [
      "\r",
      "  9%|██████▌                                                                 | 1452/16054 [1:59:04<4:57:51,  1.22s/it]"
     ]
    },
    {
     "name": "stdout",
     "output_type": "stream",
     "text": [
      "Failed to download video from https://www.youtube.com/watch?v=73icFhednQU. Reason: 73icFhednQU is a private video\n"
     ]
    },
    {
     "name": "stderr",
     "output_type": "stream",
     "text": [
      "\r",
      "  9%|██████▌                                                                 | 1453/16054 [1:59:05<4:54:52,  1.21s/it]"
     ]
    },
    {
     "name": "stdout",
     "output_type": "stream",
     "text": [
      "Failed to download video from https://www.youtube.com/watch?v=73icFhednQU. Reason: 73icFhednQU is a private video\n"
     ]
    },
    {
     "name": "stderr",
     "output_type": "stream",
     "text": [
      "\r",
      "  9%|██████▌                                                                 | 1454/16054 [1:59:07<6:23:15,  1.58s/it]"
     ]
    },
    {
     "name": "stdout",
     "output_type": "stream",
     "text": [
      "Failed to download video from https://www.youtube.com/watch?v=73icFhednQU. Reason: 73icFhednQU is a private video\n"
     ]
    },
    {
     "name": "stderr",
     "output_type": "stream",
     "text": [
      "\r",
      "  9%|██████▌                                                                 | 1455/16054 [1:59:10<8:26:00,  2.08s/it]"
     ]
    },
    {
     "name": "stdout",
     "output_type": "stream",
     "text": [
      "Failed to download video from https://www.youtube.com/watch?v=73icFhednQU. Reason: 73icFhednQU is a private video\n"
     ]
    },
    {
     "name": "stderr",
     "output_type": "stream",
     "text": [
      "\r",
      "  9%|██████▌                                                                 | 1456/16054 [1:59:12<7:52:11,  1.94s/it]"
     ]
    },
    {
     "name": "stdout",
     "output_type": "stream",
     "text": [
      "Failed to download video from https://www.youtube.com/watch?v=73icFhednQU. Reason: 73icFhednQU is a private video\n"
     ]
    },
    {
     "name": "stderr",
     "output_type": "stream",
     "text": [
      "\r",
      "  9%|██████▌                                                                 | 1457/16054 [1:59:13<6:49:12,  1.68s/it]"
     ]
    },
    {
     "name": "stdout",
     "output_type": "stream",
     "text": [
      "Failed to download video from https://www.youtube.com/watch?v=73icFhednQU. Reason: 73icFhednQU is a private video\n"
     ]
    },
    {
     "name": "stderr",
     "output_type": "stream",
     "text": [
      "\r",
      "  9%|██████▌                                                                 | 1458/16054 [1:59:14<6:18:33,  1.56s/it]"
     ]
    },
    {
     "name": "stdout",
     "output_type": "stream",
     "text": [
      "Failed to download video from https://www.youtube.com/watch?v=73icFhednQU. Reason: 73icFhednQU is a private video\n"
     ]
    },
    {
     "name": "stderr",
     "output_type": "stream",
     "text": [
      "\r",
      "  9%|██████▌                                                                 | 1459/16054 [1:59:16<6:01:58,  1.49s/it]"
     ]
    },
    {
     "name": "stdout",
     "output_type": "stream",
     "text": [
      "Failed to download video from https://www.youtube.com/watch?v=73icFhednQU. Reason: 73icFhednQU is a private video\n"
     ]
    },
    {
     "name": "stderr",
     "output_type": "stream",
     "text": [
      "\r",
      "  9%|██████▌                                                                 | 1460/16054 [1:59:17<5:47:15,  1.43s/it]"
     ]
    },
    {
     "name": "stdout",
     "output_type": "stream",
     "text": [
      "Failed to download video from https://www.youtube.com/watch?v=73icFhednQU. Reason: 73icFhednQU is a private video\n"
     ]
    },
    {
     "name": "stderr",
     "output_type": "stream",
     "text": [
      "\r",
      "  9%|██████▌                                                                 | 1461/16054 [1:59:18<5:37:17,  1.39s/it]"
     ]
    },
    {
     "name": "stdout",
     "output_type": "stream",
     "text": [
      "Failed to download video from https://www.youtube.com/watch?v=73icFhednQU. Reason: 73icFhednQU is a private video\n"
     ]
    },
    {
     "name": "stderr",
     "output_type": "stream",
     "text": [
      "\r",
      "  9%|██████▌                                                                 | 1462/16054 [1:59:19<5:18:58,  1.31s/it]"
     ]
    },
    {
     "name": "stdout",
     "output_type": "stream",
     "text": [
      "Failed to download video from https://www.youtube.com/watch?v=73icFhednQU. Reason: 73icFhednQU is a private video\n"
     ]
    },
    {
     "name": "stderr",
     "output_type": "stream",
     "text": [
      "\r",
      "  9%|██████▌                                                                 | 1463/16054 [1:59:21<5:14:10,  1.29s/it]"
     ]
    },
    {
     "name": "stdout",
     "output_type": "stream",
     "text": [
      "Failed to download video from https://www.youtube.com/watch?v=73icFhednQU. Reason: 73icFhednQU is a private video\n"
     ]
    },
    {
     "name": "stderr",
     "output_type": "stream",
     "text": [
      "\r",
      "  9%|██████▌                                                                 | 1464/16054 [1:59:22<5:14:51,  1.29s/it]"
     ]
    },
    {
     "name": "stdout",
     "output_type": "stream",
     "text": [
      "Failed to download video from https://www.youtube.com/watch?v=73icFhednQU. Reason: 73icFhednQU is a private video\n"
     ]
    },
    {
     "name": "stderr",
     "output_type": "stream",
     "text": [
      "\r",
      "  9%|██████▌                                                                 | 1465/16054 [1:59:23<5:01:03,  1.24s/it]"
     ]
    },
    {
     "name": "stdout",
     "output_type": "stream",
     "text": [
      "Failed to download video from https://www.youtube.com/watch?v=73icFhednQU. Reason: 73icFhednQU is a private video\n"
     ]
    },
    {
     "name": "stderr",
     "output_type": "stream",
     "text": [
      "\r",
      "  9%|██████▌                                                                 | 1466/16054 [1:59:24<5:03:01,  1.25s/it]"
     ]
    },
    {
     "name": "stdout",
     "output_type": "stream",
     "text": [
      "Failed to download video from https://www.youtube.com/watch?v=73icFhednQU. Reason: 73icFhednQU is a private video\n"
     ]
    },
    {
     "name": "stderr",
     "output_type": "stream",
     "text": [
      "\r",
      "  9%|██████▌                                                                 | 1467/16054 [1:59:26<5:07:28,  1.26s/it]"
     ]
    },
    {
     "name": "stdout",
     "output_type": "stream",
     "text": [
      "Failed to download video from https://www.youtube.com/watch?v=73icFhednQU. Reason: 73icFhednQU is a private video\n"
     ]
    },
    {
     "name": "stderr",
     "output_type": "stream",
     "text": [
      "\r",
      "  9%|██████▌                                                                 | 1468/16054 [1:59:27<4:55:04,  1.21s/it]"
     ]
    },
    {
     "name": "stdout",
     "output_type": "stream",
     "text": [
      "Failed to download video from https://www.youtube.com/watch?v=73icFhednQU. Reason: 73icFhednQU is a private video\n"
     ]
    },
    {
     "name": "stderr",
     "output_type": "stream",
     "text": [
      "\r",
      "  9%|██████▌                                                                 | 1469/16054 [1:59:28<4:59:01,  1.23s/it]"
     ]
    },
    {
     "name": "stdout",
     "output_type": "stream",
     "text": [
      "Failed to download video from https://www.youtube.com/watch?v=73icFhednQU. Reason: 73icFhednQU is a private video\n"
     ]
    },
    {
     "name": "stderr",
     "output_type": "stream",
     "text": [
      "\r",
      "  9%|██████▌                                                                 | 1470/16054 [1:59:29<4:54:33,  1.21s/it]"
     ]
    },
    {
     "name": "stdout",
     "output_type": "stream",
     "text": [
      "Failed to download video from https://www.youtube.com/watch?v=73icFhednQU. Reason: 73icFhednQU is a private video\n"
     ]
    },
    {
     "name": "stderr",
     "output_type": "stream",
     "text": [
      "\r",
      "  9%|██████▌                                                                 | 1471/16054 [1:59:30<4:52:26,  1.20s/it]"
     ]
    },
    {
     "name": "stdout",
     "output_type": "stream",
     "text": [
      "Failed to download video from https://www.youtube.com/watch?v=73icFhednQU. Reason: 73icFhednQU is a private video\n"
     ]
    },
    {
     "name": "stderr",
     "output_type": "stream",
     "text": [
      "\r",
      "  9%|██████▌                                                                 | 1472/16054 [1:59:31<4:44:06,  1.17s/it]"
     ]
    },
    {
     "name": "stdout",
     "output_type": "stream",
     "text": [
      "Failed to download video from https://www.youtube.com/watch?v=73icFhednQU. Reason: 73icFhednQU is a private video\n"
     ]
    },
    {
     "name": "stderr",
     "output_type": "stream",
     "text": [
      "\r",
      "  9%|██████▌                                                                 | 1473/16054 [1:59:32<4:35:20,  1.13s/it]"
     ]
    },
    {
     "name": "stdout",
     "output_type": "stream",
     "text": [
      "Failed to download video from https://www.youtube.com/watch?v=73icFhednQU. Reason: 73icFhednQU is a private video\n"
     ]
    },
    {
     "name": "stderr",
     "output_type": "stream",
     "text": [
      "\r",
      "  9%|██████▌                                                                 | 1474/16054 [1:59:34<4:29:40,  1.11s/it]"
     ]
    },
    {
     "name": "stdout",
     "output_type": "stream",
     "text": [
      "Failed to download video from https://www.youtube.com/watch?v=73icFhednQU. Reason: 73icFhednQU is a private video\n"
     ]
    },
    {
     "name": "stderr",
     "output_type": "stream",
     "text": [
      "\r",
      "  9%|██████▌                                                                 | 1475/16054 [1:59:35<4:40:38,  1.15s/it]"
     ]
    },
    {
     "name": "stdout",
     "output_type": "stream",
     "text": [
      "Failed to download video from https://www.youtube.com/watch?v=73icFhednQU. Reason: 73icFhednQU is a private video\n"
     ]
    },
    {
     "name": "stderr",
     "output_type": "stream",
     "text": [
      "\r",
      "  9%|██████▌                                                                 | 1476/16054 [1:59:36<4:51:03,  1.20s/it]"
     ]
    },
    {
     "name": "stdout",
     "output_type": "stream",
     "text": [
      "Failed to download video from https://www.youtube.com/watch?v=73icFhednQU. Reason: 73icFhednQU is a private video\n"
     ]
    },
    {
     "name": "stderr",
     "output_type": "stream",
     "text": [
      "\r",
      "  9%|██████▌                                                                 | 1477/16054 [1:59:37<4:45:49,  1.18s/it]"
     ]
    },
    {
     "name": "stdout",
     "output_type": "stream",
     "text": [
      "Failed to download video from https://www.youtube.com/watch?v=73icFhednQU. Reason: 73icFhednQU is a private video\n"
     ]
    },
    {
     "name": "stderr",
     "output_type": "stream",
     "text": [
      "\r",
      "  9%|██████▋                                                                 | 1478/16054 [1:59:39<5:00:10,  1.24s/it]"
     ]
    },
    {
     "name": "stdout",
     "output_type": "stream",
     "text": [
      "Failed to download video from https://www.youtube.com/watch?v=73icFhednQU. Reason: 73icFhednQU is a private video\n"
     ]
    },
    {
     "name": "stderr",
     "output_type": "stream",
     "text": [
      "\r",
      "  9%|██████▋                                                                 | 1479/16054 [1:59:40<4:56:19,  1.22s/it]"
     ]
    },
    {
     "name": "stdout",
     "output_type": "stream",
     "text": [
      "Failed to download video from https://www.youtube.com/watch?v=73icFhednQU. Reason: 73icFhednQU is a private video\n"
     ]
    },
    {
     "name": "stderr",
     "output_type": "stream",
     "text": [
      "\r",
      "  9%|██████▋                                                                 | 1480/16054 [1:59:41<4:48:23,  1.19s/it]"
     ]
    },
    {
     "name": "stdout",
     "output_type": "stream",
     "text": [
      "Failed to download video from https://www.youtube.com/watch?v=73icFhednQU. Reason: 73icFhednQU is a private video\n"
     ]
    },
    {
     "name": "stderr",
     "output_type": "stream",
     "text": [
      "\r",
      "  9%|██████▋                                                                 | 1481/16054 [1:59:42<4:53:03,  1.21s/it]"
     ]
    },
    {
     "name": "stdout",
     "output_type": "stream",
     "text": [
      "Failed to download video from https://www.youtube.com/watch?v=73icFhednQU. Reason: 73icFhednQU is a private video\n"
     ]
    },
    {
     "name": "stderr",
     "output_type": "stream",
     "text": [
      "\r",
      "  9%|██████▋                                                                 | 1482/16054 [1:59:43<5:01:23,  1.24s/it]"
     ]
    },
    {
     "name": "stdout",
     "output_type": "stream",
     "text": [
      "Failed to download video from https://www.youtube.com/watch?v=73icFhednQU. Reason: 73icFhednQU is a private video\n"
     ]
    },
    {
     "name": "stderr",
     "output_type": "stream",
     "text": [
      "\r",
      "  9%|██████▋                                                                 | 1483/16054 [1:59:45<4:50:26,  1.20s/it]"
     ]
    },
    {
     "name": "stdout",
     "output_type": "stream",
     "text": [
      "Failed to download video from https://www.youtube.com/watch?v=73icFhednQU. Reason: 73icFhednQU is a private video\n"
     ]
    },
    {
     "name": "stderr",
     "output_type": "stream",
     "text": [
      "\r",
      "  9%|██████▋                                                                 | 1484/16054 [1:59:46<4:54:56,  1.21s/it]"
     ]
    },
    {
     "name": "stdout",
     "output_type": "stream",
     "text": [
      "Failed to download video from https://www.youtube.com/watch?v=73icFhednQU. Reason: 73icFhednQU is a private video\n"
     ]
    },
    {
     "name": "stderr",
     "output_type": "stream",
     "text": [
      "\r",
      "  9%|██████▋                                                                 | 1485/16054 [1:59:47<4:52:07,  1.20s/it]"
     ]
    },
    {
     "name": "stdout",
     "output_type": "stream",
     "text": [
      "Failed to download video from https://www.youtube.com/watch?v=73icFhednQU. Reason: 73icFhednQU is a private video\n"
     ]
    },
    {
     "name": "stderr",
     "output_type": "stream",
     "text": [
      "\r",
      "  9%|██████▋                                                                 | 1486/16054 [1:59:48<4:49:18,  1.19s/it]"
     ]
    },
    {
     "name": "stdout",
     "output_type": "stream",
     "text": [
      "Failed to download video from https://www.youtube.com/watch?v=73icFhednQU. Reason: 73icFhednQU is a private video\n"
     ]
    },
    {
     "name": "stderr",
     "output_type": "stream",
     "text": [
      "\r",
      "  9%|██████▋                                                                 | 1487/16054 [1:59:49<4:44:35,  1.17s/it]"
     ]
    },
    {
     "name": "stdout",
     "output_type": "stream",
     "text": [
      "Failed to download video from https://www.youtube.com/watch?v=73icFhednQU. Reason: 73icFhednQU is a private video\n"
     ]
    },
    {
     "name": "stderr",
     "output_type": "stream",
     "text": [
      "\r",
      "  9%|██████▋                                                                 | 1488/16054 [1:59:51<4:50:06,  1.19s/it]"
     ]
    },
    {
     "name": "stdout",
     "output_type": "stream",
     "text": [
      "Failed to download video from https://www.youtube.com/watch?v=73icFhednQU. Reason: 73icFhednQU is a private video\n"
     ]
    },
    {
     "name": "stderr",
     "output_type": "stream",
     "text": [
      "\r",
      "  9%|██████▋                                                                 | 1489/16054 [1:59:52<4:48:37,  1.19s/it]"
     ]
    },
    {
     "name": "stdout",
     "output_type": "stream",
     "text": [
      "Failed to download video from https://www.youtube.com/watch?v=73icFhednQU. Reason: 73icFhednQU is a private video\n"
     ]
    },
    {
     "name": "stderr",
     "output_type": "stream",
     "text": [
      "\r",
      "  9%|██████▋                                                                 | 1490/16054 [1:59:53<4:50:37,  1.20s/it]"
     ]
    },
    {
     "name": "stdout",
     "output_type": "stream",
     "text": [
      "Failed to download video from https://www.youtube.com/watch?v=73icFhednQU. Reason: 73icFhednQU is a private video\n"
     ]
    },
    {
     "name": "stderr",
     "output_type": "stream",
     "text": [
      "\r",
      "  9%|██████▋                                                                 | 1491/16054 [1:59:54<4:40:47,  1.16s/it]"
     ]
    },
    {
     "name": "stdout",
     "output_type": "stream",
     "text": [
      "Failed to download video from https://www.youtube.com/watch?v=73icFhednQU. Reason: 73icFhednQU is a private video\n"
     ]
    },
    {
     "name": "stderr",
     "output_type": "stream",
     "text": [
      "\r",
      "  9%|██████▋                                                                 | 1492/16054 [1:59:55<4:48:34,  1.19s/it]"
     ]
    },
    {
     "name": "stdout",
     "output_type": "stream",
     "text": [
      "Failed to download video from https://www.youtube.com/watch?v=73icFhednQU. Reason: 73icFhednQU is a private video\n"
     ]
    },
    {
     "name": "stderr",
     "output_type": "stream",
     "text": [
      "\r",
      "  9%|██████▋                                                                 | 1493/16054 [1:59:57<4:58:20,  1.23s/it]"
     ]
    },
    {
     "name": "stdout",
     "output_type": "stream",
     "text": [
      "Failed to download video from https://www.youtube.com/watch?v=73icFhednQU. Reason: 73icFhednQU is a private video\n"
     ]
    },
    {
     "name": "stderr",
     "output_type": "stream",
     "text": [
      "\r",
      "  9%|██████▋                                                                 | 1494/16054 [1:59:58<4:47:06,  1.18s/it]"
     ]
    },
    {
     "name": "stdout",
     "output_type": "stream",
     "text": [
      "Failed to download video from https://www.youtube.com/watch?v=73icFhednQU. Reason: 73icFhednQU is a private video\n"
     ]
    },
    {
     "name": "stderr",
     "output_type": "stream",
     "text": [
      "\r",
      "  9%|██████▋                                                                 | 1495/16054 [1:59:59<4:38:20,  1.15s/it]"
     ]
    },
    {
     "name": "stdout",
     "output_type": "stream",
     "text": [
      "Failed to download video from https://www.youtube.com/watch?v=73icFhednQU. Reason: 73icFhednQU is a private video\n"
     ]
    },
    {
     "name": "stderr",
     "output_type": "stream",
     "text": [
      "\r",
      "  9%|██████▋                                                                 | 1496/16054 [2:00:00<4:46:00,  1.18s/it]"
     ]
    },
    {
     "name": "stdout",
     "output_type": "stream",
     "text": [
      "Failed to download video from https://www.youtube.com/watch?v=73icFhednQU. Reason: 73icFhednQU is a private video\n"
     ]
    },
    {
     "name": "stderr",
     "output_type": "stream",
     "text": [
      "\r",
      "  9%|██████▋                                                                 | 1497/16054 [2:00:01<4:50:37,  1.20s/it]"
     ]
    },
    {
     "name": "stdout",
     "output_type": "stream",
     "text": [
      "Failed to download video from https://www.youtube.com/watch?v=73icFhednQU. Reason: 73icFhednQU is a private video\n"
     ]
    },
    {
     "name": "stderr",
     "output_type": "stream",
     "text": [
      "\r",
      "  9%|██████▋                                                                 | 1498/16054 [2:00:02<4:49:35,  1.19s/it]"
     ]
    },
    {
     "name": "stdout",
     "output_type": "stream",
     "text": [
      "Failed to download video from https://www.youtube.com/watch?v=73icFhednQU. Reason: 73icFhednQU is a private video\n"
     ]
    },
    {
     "name": "stderr",
     "output_type": "stream",
     "text": [
      "\r",
      "  9%|██████▋                                                                 | 1499/16054 [2:00:04<4:53:13,  1.21s/it]"
     ]
    },
    {
     "name": "stdout",
     "output_type": "stream",
     "text": [
      "Failed to download video from https://www.youtube.com/watch?v=73icFhednQU. Reason: 73icFhednQU is a private video\n"
     ]
    },
    {
     "name": "stderr",
     "output_type": "stream",
     "text": [
      "\r",
      "  9%|██████▋                                                                 | 1500/16054 [2:00:05<5:00:56,  1.24s/it]"
     ]
    },
    {
     "name": "stdout",
     "output_type": "stream",
     "text": [
      "Failed to download video from https://www.youtube.com/watch?v=73icFhednQU. Reason: 73icFhednQU is a private video\n"
     ]
    },
    {
     "name": "stderr",
     "output_type": "stream",
     "text": [
      "\r",
      "  9%|██████▋                                                                 | 1501/16054 [2:00:06<4:50:08,  1.20s/it]"
     ]
    },
    {
     "name": "stdout",
     "output_type": "stream",
     "text": [
      "Failed to download video from https://www.youtube.com/watch?v=73icFhednQU. Reason: 73icFhednQU is a private video\n"
     ]
    },
    {
     "name": "stderr",
     "output_type": "stream",
     "text": [
      "\r",
      "  9%|██████▋                                                                 | 1502/16054 [2:00:08<5:42:42,  1.41s/it]"
     ]
    },
    {
     "name": "stdout",
     "output_type": "stream",
     "text": [
      "Failed to download video from https://www.youtube.com/watch?v=73icFhednQU. Reason: 73icFhednQU is a private video\n"
     ]
    },
    {
     "name": "stderr",
     "output_type": "stream",
     "text": [
      "\r",
      "  9%|██████▋                                                                 | 1503/16054 [2:00:10<6:18:33,  1.56s/it]"
     ]
    },
    {
     "name": "stdout",
     "output_type": "stream",
     "text": [
      "Failed to download video from https://www.youtube.com/watch?v=73icFhednQU. Reason: 73icFhednQU is a private video\n"
     ]
    },
    {
     "name": "stderr",
     "output_type": "stream",
     "text": [
      "\r",
      "  9%|██████▋                                                                 | 1504/16054 [2:00:11<6:01:05,  1.49s/it]"
     ]
    },
    {
     "name": "stdout",
     "output_type": "stream",
     "text": [
      "Failed to download video from https://www.youtube.com/watch?v=73icFhednQU. Reason: 73icFhednQU is a private video\n"
     ]
    },
    {
     "name": "stderr",
     "output_type": "stream",
     "text": [
      "\r",
      "  9%|██████▋                                                                 | 1505/16054 [2:00:12<5:47:01,  1.43s/it]"
     ]
    },
    {
     "name": "stdout",
     "output_type": "stream",
     "text": [
      "Failed to download video from https://www.youtube.com/watch?v=73icFhednQU. Reason: 73icFhednQU is a private video\n"
     ]
    },
    {
     "name": "stderr",
     "output_type": "stream",
     "text": [
      "\r",
      "  9%|██████▊                                                                 | 1506/16054 [2:00:14<6:04:00,  1.50s/it]"
     ]
    },
    {
     "name": "stdout",
     "output_type": "stream",
     "text": [
      "Failed to download video from https://www.youtube.com/watch?v=73icFhednQU. Reason: 73icFhednQU is a private video\n"
     ]
    },
    {
     "name": "stderr",
     "output_type": "stream",
     "text": [
      "\r",
      "  9%|██████▊                                                                 | 1507/16054 [2:00:15<5:46:57,  1.43s/it]"
     ]
    },
    {
     "name": "stdout",
     "output_type": "stream",
     "text": [
      "Failed to download video from https://www.youtube.com/watch?v=73icFhednQU. Reason: 73icFhednQU is a private video\n"
     ]
    },
    {
     "name": "stderr",
     "output_type": "stream",
     "text": [
      "\r",
      "  9%|██████▊                                                                 | 1508/16054 [2:00:17<5:25:05,  1.34s/it]"
     ]
    },
    {
     "name": "stdout",
     "output_type": "stream",
     "text": [
      "Failed to download video from https://www.youtube.com/watch?v=73icFhednQU. Reason: 73icFhednQU is a private video\n"
     ]
    },
    {
     "name": "stderr",
     "output_type": "stream",
     "text": [
      "\r",
      "  9%|██████▊                                                                 | 1509/16054 [2:00:18<5:18:32,  1.31s/it]"
     ]
    },
    {
     "name": "stdout",
     "output_type": "stream",
     "text": [
      "Failed to download video from https://www.youtube.com/watch?v=73icFhednQU. Reason: 73icFhednQU is a private video\n"
     ]
    },
    {
     "name": "stderr",
     "output_type": "stream",
     "text": [
      "\r",
      "  9%|██████▊                                                                 | 1510/16054 [2:00:19<5:08:29,  1.27s/it]"
     ]
    },
    {
     "name": "stdout",
     "output_type": "stream",
     "text": [
      "Failed to download video from https://www.youtube.com/watch?v=73icFhednQU. Reason: 73icFhednQU is a private video\n"
     ]
    },
    {
     "name": "stderr",
     "output_type": "stream",
     "text": [
      "\r",
      "  9%|██████▊                                                                 | 1511/16054 [2:00:20<4:51:53,  1.20s/it]"
     ]
    },
    {
     "name": "stdout",
     "output_type": "stream",
     "text": [
      "Failed to download video from https://www.youtube.com/watch?v=73icFhednQU. Reason: 73icFhednQU is a private video\n"
     ]
    },
    {
     "name": "stderr",
     "output_type": "stream",
     "text": [
      "\r",
      "  9%|██████▊                                                                 | 1512/16054 [2:00:21<4:40:37,  1.16s/it]"
     ]
    },
    {
     "name": "stdout",
     "output_type": "stream",
     "text": [
      "Failed to download video from https://www.youtube.com/watch?v=73icFhednQU. Reason: 73icFhednQU is a private video\n"
     ]
    },
    {
     "name": "stderr",
     "output_type": "stream",
     "text": [
      "\r",
      "  9%|██████▊                                                                 | 1513/16054 [2:00:22<4:44:16,  1.17s/it]"
     ]
    },
    {
     "name": "stdout",
     "output_type": "stream",
     "text": [
      "Failed to download video from https://www.youtube.com/watch?v=73icFhednQU. Reason: 73icFhednQU is a private video\n"
     ]
    },
    {
     "name": "stderr",
     "output_type": "stream",
     "text": [
      "\r",
      "  9%|██████▊                                                                 | 1514/16054 [2:00:23<4:36:34,  1.14s/it]"
     ]
    },
    {
     "name": "stdout",
     "output_type": "stream",
     "text": [
      "Failed to download video from https://www.youtube.com/watch?v=73icFhednQU. Reason: 73icFhednQU is a private video\n"
     ]
    },
    {
     "name": "stderr",
     "output_type": "stream",
     "text": [
      "\r",
      "  9%|██████▊                                                                 | 1515/16054 [2:00:24<4:30:32,  1.12s/it]"
     ]
    },
    {
     "name": "stdout",
     "output_type": "stream",
     "text": [
      "Failed to download video from https://www.youtube.com/watch?v=73icFhednQU. Reason: 73icFhednQU is a private video\n"
     ]
    },
    {
     "name": "stderr",
     "output_type": "stream",
     "text": [
      "\r",
      "  9%|██████▊                                                                 | 1516/16054 [2:00:25<4:25:27,  1.10s/it]"
     ]
    },
    {
     "name": "stdout",
     "output_type": "stream",
     "text": [
      "Failed to download video from https://www.youtube.com/watch?v=73icFhednQU. Reason: 73icFhednQU is a private video\n"
     ]
    },
    {
     "name": "stderr",
     "output_type": "stream",
     "text": [
      "\r",
      "  9%|██████▊                                                                 | 1517/16054 [2:00:26<4:21:33,  1.08s/it]"
     ]
    },
    {
     "name": "stdout",
     "output_type": "stream",
     "text": [
      "Failed to download video from https://www.youtube.com/watch?v=73icFhednQU. Reason: 73icFhednQU is a private video\n"
     ]
    },
    {
     "name": "stderr",
     "output_type": "stream",
     "text": [
      "\r",
      "  9%|██████▊                                                                 | 1518/16054 [2:00:28<4:19:37,  1.07s/it]"
     ]
    },
    {
     "name": "stdout",
     "output_type": "stream",
     "text": [
      "Failed to download video from https://www.youtube.com/watch?v=73icFhednQU. Reason: 73icFhednQU is a private video\n"
     ]
    },
    {
     "name": "stderr",
     "output_type": "stream",
     "text": [
      "\r",
      "  9%|██████▊                                                                 | 1519/16054 [2:00:29<4:17:27,  1.06s/it]"
     ]
    },
    {
     "name": "stdout",
     "output_type": "stream",
     "text": [
      "Failed to download video from https://www.youtube.com/watch?v=73icFhednQU. Reason: 73icFhednQU is a private video\n"
     ]
    },
    {
     "name": "stderr",
     "output_type": "stream",
     "text": [
      "\r",
      "  9%|██████▊                                                                 | 1520/16054 [2:00:30<4:16:46,  1.06s/it]"
     ]
    },
    {
     "name": "stdout",
     "output_type": "stream",
     "text": [
      "Failed to download video from https://www.youtube.com/watch?v=73icFhednQU. Reason: 73icFhednQU is a private video\n"
     ]
    },
    {
     "name": "stderr",
     "output_type": "stream",
     "text": [
      "\r",
      "  9%|██████▊                                                                 | 1521/16054 [2:00:31<4:15:46,  1.06s/it]"
     ]
    },
    {
     "name": "stdout",
     "output_type": "stream",
     "text": [
      "Failed to download video from https://www.youtube.com/watch?v=73icFhednQU. Reason: 73icFhednQU is a private video\n"
     ]
    },
    {
     "name": "stderr",
     "output_type": "stream",
     "text": [
      "\r",
      "  9%|██████▊                                                                 | 1522/16054 [2:00:32<4:15:11,  1.05s/it]"
     ]
    },
    {
     "name": "stdout",
     "output_type": "stream",
     "text": [
      "Failed to download video from https://www.youtube.com/watch?v=73icFhednQU. Reason: 73icFhednQU is a private video\n"
     ]
    },
    {
     "name": "stderr",
     "output_type": "stream",
     "text": [
      "\r",
      "  9%|██████▊                                                                 | 1523/16054 [2:00:33<4:14:19,  1.05s/it]"
     ]
    },
    {
     "name": "stdout",
     "output_type": "stream",
     "text": [
      "Failed to download video from https://www.youtube.com/watch?v=73icFhednQU. Reason: 73icFhednQU is a private video\n"
     ]
    },
    {
     "name": "stderr",
     "output_type": "stream",
     "text": [
      " 10%|██████▋                                                                | 1526/16054 [2:00:48<13:10:26,  3.26s/it]"
     ]
    },
    {
     "name": "stdout",
     "output_type": "stream",
     "text": [
      "Failed to download video from www.youtube.com/watch?v=aNva2VLkvkc. Reason: aNva2VLkvkc is unavailable\n"
     ]
    },
    {
     "name": "stderr",
     "output_type": "stream",
     "text": [
      " 10%|██████▊                                                                | 1533/16054 [2:01:17<13:54:06,  3.45s/it]"
     ]
    },
    {
     "name": "stdout",
     "output_type": "stream",
     "text": [
      "Failed to download video from www.youtube.com/watch?v=RkgtFgtk0Cs. Reason: RkgtFgtk0Cs is a private video\n"
     ]
    },
    {
     "name": "stderr",
     "output_type": "stream",
     "text": [
      " 10%|███████                                                                | 1586/16054 [2:07:05<24:20:27,  6.06s/it]"
     ]
    },
    {
     "name": "stdout",
     "output_type": "stream",
     "text": [
      "Failed to download video from www.youtube.com/watch?v=Vq1uOlm94zk. Reason: Vq1uOlm94zk is unavailable\n"
     ]
    },
    {
     "name": "stderr",
     "output_type": "stream",
     "text": [
      " 10%|███████                                                                | 1590/16054 [2:07:30<21:33:08,  5.36s/it]"
     ]
    },
    {
     "name": "stdout",
     "output_type": "stream",
     "text": [
      "Failed to download video from www.youtube.com/watch?v=AcjtTUYEV2w. Reason: AcjtTUYEV2w is unavailable\n"
     ]
    },
    {
     "name": "stderr",
     "output_type": "stream",
     "text": [
      " 10%|███████                                                                | 1603/16054 [2:09:04<31:20:16,  7.81s/it][h264 @ 0x1220342b0] mmco: unref short failure\n",
      "[h264 @ 0x1220342b0] mmco: unref short failure\n",
      "[h264 @ 0x1220342b0] mmco: unref short failure\n",
      "[h264 @ 0x1220342b0] mmco: unref short failure\n",
      "[h264 @ 0x1220342b0] mmco: unref short failure\n",
      "[h264 @ 0x1220342b0] mmco: unref short failure\n",
      "[h264 @ 0x1220342b0] mmco: unref short failure\n",
      "[h264 @ 0x1220342b0] mmco: unref short failure\n",
      "[h264 @ 0x1220342b0] mmco: unref short failure\n",
      "[h264 @ 0x1220342b0] mmco: unref short failure\n",
      "[h264 @ 0x1220342b0] mmco: unref short failure\n",
      "[h264 @ 0x1220342b0] mmco: unref short failure\n",
      "[h264 @ 0x1220342b0] mmco: unref short failure\n",
      "[h264 @ 0x1220342b0] mmco: unref short failure\n",
      "[h264 @ 0x1220342b0] mmco: unref short failure\n",
      "[h264 @ 0x1220342b0] mmco: unref short failure\n",
      "[h264 @ 0x1220342b0] mmco: unref short failure\n",
      "[h264 @ 0x1220342b0] mmco: unref short failure\n",
      "[h264 @ 0x1220342b0] mmco: unref short failure\n",
      "[h264 @ 0x1220342b0] mmco: unref short failure\n",
      "[h264 @ 0x1220342b0] mmco: unref short failure\n",
      "[h264 @ 0x1220342b0] mmco: unref short failure\n",
      "[h264 @ 0x1220342b0] mmco: unref short failure\n",
      "[h264 @ 0x1220342b0] mmco: unref short failure\n",
      " 10%|███████                                                                | 1604/16054 [2:09:10<28:58:20,  7.22s/it][h264 @ 0x2a7419230] mmco: unref short failure\n",
      "[h264 @ 0x2a7419230] mmco: unref short failure\n",
      "[h264 @ 0x2a7419230] mmco: unref short failure\n",
      "[h264 @ 0x2a7419230] mmco: unref short failure\n",
      "[h264 @ 0x2a7419230] mmco: unref short failure\n",
      "[h264 @ 0x2a7419230] mmco: unref short failure\n",
      "[h264 @ 0x2a7419230] mmco: unref short failure\n",
      "[h264 @ 0x2a7419230] mmco: unref short failure\n",
      "[h264 @ 0x2a7419230] mmco: unref short failure\n",
      "[h264 @ 0x2a7419230] mmco: unref short failure\n",
      "[h264 @ 0x2a7419230] mmco: unref short failure\n",
      "[h264 @ 0x2a7419230] mmco: unref short failure\n",
      " 10%|███████▏                                                               | 1631/16054 [2:11:55<24:52:39,  6.21s/it][h264 @ 0x2a742df70] mmco: unref short failure\n",
      "[h264 @ 0x2a742df70] mmco: unref short failure\n",
      "[h264 @ 0x2a742df70] mmco: unref short failure\n",
      "[h264 @ 0x2a742df70] mmco: unref short failure\n",
      "[h264 @ 0x2a742df70] mmco: unref short failure\n",
      "[h264 @ 0x2a742df70] mmco: unref short failure\n",
      " 10%|███████▏                                                               | 1633/16054 [2:12:03<19:31:32,  4.87s/it]"
     ]
    },
    {
     "name": "stdout",
     "output_type": "stream",
     "text": [
      "Failed to download video from www.youtube.com/watch?v=PYeMIH_-Kog. Reason: PYeMIH_-Kog is a private video\n"
     ]
    },
    {
     "name": "stderr",
     "output_type": "stream",
     "text": [
      "\r",
      " 10%|███████▏                                                               | 1634/16054 [2:12:05<15:10:58,  3.79s/it]"
     ]
    },
    {
     "name": "stdout",
     "output_type": "stream",
     "text": [
      "Failed to download video from www.youtube.com/watch?v=c9AFBIWlh_A. Reason: c9AFBIWlh_A is unavailable\n"
     ]
    },
    {
     "name": "stderr",
     "output_type": "stream",
     "text": [
      " 10%|███████▎                                                               | 1642/16054 [2:12:51<17:37:48,  4.40s/it]"
     ]
    },
    {
     "name": "stdout",
     "output_type": "stream",
     "text": [
      "Failed to download video from https://www.youtube.com/watch?v=mOgZGklBGZQ. Reason: mOgZGklBGZQ is a private video\n"
     ]
    },
    {
     "name": "stderr",
     "output_type": "stream",
     "text": [
      "\r",
      " 10%|███████▎                                                               | 1643/16054 [2:12:52<13:52:44,  3.47s/it]"
     ]
    },
    {
     "name": "stdout",
     "output_type": "stream",
     "text": [
      "Failed to download video from https://www.youtube.com/watch?v=mOgZGklBGZQ. Reason: mOgZGklBGZQ is a private video\n"
     ]
    },
    {
     "name": "stderr",
     "output_type": "stream",
     "text": [
      "\r",
      " 10%|███████▎                                                               | 1644/16054 [2:12:54<11:03:50,  2.76s/it]"
     ]
    },
    {
     "name": "stdout",
     "output_type": "stream",
     "text": [
      "Failed to download video from https://www.youtube.com/watch?v=mOgZGklBGZQ. Reason: mOgZGklBGZQ is a private video\n"
     ]
    },
    {
     "name": "stderr",
     "output_type": "stream",
     "text": [
      "\r",
      " 10%|███████▍                                                                | 1645/16054 [2:12:55<9:14:37,  2.31s/it]"
     ]
    },
    {
     "name": "stdout",
     "output_type": "stream",
     "text": [
      "Failed to download video from https://www.youtube.com/watch?v=mOgZGklBGZQ. Reason: mOgZGklBGZQ is a private video\n"
     ]
    },
    {
     "name": "stderr",
     "output_type": "stream",
     "text": [
      "\r",
      " 10%|███████▍                                                                | 1646/16054 [2:12:56<8:03:41,  2.01s/it]"
     ]
    },
    {
     "name": "stdout",
     "output_type": "stream",
     "text": [
      "Failed to download video from https://www.youtube.com/watch?v=mOgZGklBGZQ. Reason: mOgZGklBGZQ is a private video\n"
     ]
    },
    {
     "name": "stderr",
     "output_type": "stream",
     "text": [
      "\r",
      " 10%|███████▍                                                                | 1647/16054 [2:12:57<6:56:43,  1.74s/it]"
     ]
    },
    {
     "name": "stdout",
     "output_type": "stream",
     "text": [
      "Failed to download video from https://www.youtube.com/watch?v=mOgZGklBGZQ. Reason: mOgZGklBGZQ is a private video\n"
     ]
    },
    {
     "name": "stderr",
     "output_type": "stream",
     "text": [
      "\r",
      " 10%|███████▍                                                                | 1648/16054 [2:12:59<6:22:44,  1.59s/it]"
     ]
    },
    {
     "name": "stdout",
     "output_type": "stream",
     "text": [
      "Failed to download video from https://www.youtube.com/watch?v=mOgZGklBGZQ. Reason: mOgZGklBGZQ is a private video\n"
     ]
    },
    {
     "name": "stderr",
     "output_type": "stream",
     "text": [
      "\r",
      " 10%|███████▍                                                                | 1649/16054 [2:13:00<6:06:56,  1.53s/it]"
     ]
    },
    {
     "name": "stdout",
     "output_type": "stream",
     "text": [
      "Failed to download video from https://www.youtube.com/watch?v=mOgZGklBGZQ. Reason: mOgZGklBGZQ is a private video\n"
     ]
    },
    {
     "name": "stderr",
     "output_type": "stream",
     "text": [
      "\r",
      " 10%|███████▍                                                                | 1650/16054 [2:13:01<5:46:27,  1.44s/it]"
     ]
    },
    {
     "name": "stdout",
     "output_type": "stream",
     "text": [
      "Failed to download video from https://www.youtube.com/watch?v=mOgZGklBGZQ. Reason: mOgZGklBGZQ is a private video\n"
     ]
    },
    {
     "name": "stderr",
     "output_type": "stream",
     "text": [
      "\r",
      " 10%|███████▍                                                                | 1651/16054 [2:13:02<5:36:45,  1.40s/it]"
     ]
    },
    {
     "name": "stdout",
     "output_type": "stream",
     "text": [
      "Failed to download video from https://www.youtube.com/watch?v=mOgZGklBGZQ. Reason: mOgZGklBGZQ is a private video\n"
     ]
    },
    {
     "name": "stderr",
     "output_type": "stream",
     "text": [
      "\r",
      " 10%|███████▍                                                                | 1652/16054 [2:13:04<5:25:17,  1.36s/it]"
     ]
    },
    {
     "name": "stdout",
     "output_type": "stream",
     "text": [
      "Failed to download video from https://www.youtube.com/watch?v=mOgZGklBGZQ. Reason: mOgZGklBGZQ is a private video\n"
     ]
    },
    {
     "name": "stderr",
     "output_type": "stream",
     "text": [
      "\r",
      " 10%|███████▍                                                                | 1653/16054 [2:13:05<5:17:33,  1.32s/it]"
     ]
    },
    {
     "name": "stdout",
     "output_type": "stream",
     "text": [
      "Failed to download video from https://www.youtube.com/watch?v=mOgZGklBGZQ. Reason: mOgZGklBGZQ is a private video\n"
     ]
    },
    {
     "name": "stderr",
     "output_type": "stream",
     "text": [
      "\r",
      " 10%|███████▍                                                                | 1654/16054 [2:13:06<5:08:40,  1.29s/it]"
     ]
    },
    {
     "name": "stdout",
     "output_type": "stream",
     "text": [
      "Failed to download video from https://www.youtube.com/watch?v=mOgZGklBGZQ. Reason: mOgZGklBGZQ is a private video\n"
     ]
    },
    {
     "name": "stderr",
     "output_type": "stream",
     "text": [
      " 10%|███████▍                                                               | 1669/16054 [2:14:35<21:34:04,  5.40s/it]"
     ]
    },
    {
     "name": "stdout",
     "output_type": "stream",
     "text": [
      "Failed to download video from www.youtube.com/watch?v=IsbF6PZcOsU. Reason: IsbF6PZcOsU is a private video\n"
     ]
    },
    {
     "name": "stderr",
     "output_type": "stream",
     "text": [
      " 10%|███████▍                                                               | 1675/16054 [2:15:05<17:09:40,  4.30s/it]"
     ]
    },
    {
     "name": "stdout",
     "output_type": "stream",
     "text": [
      "Failed to download video from https://www.youtube.com/watch?v=FWvHYCdAx8A. Reason: FWvHYCdAx8A is unavailable\n"
     ]
    },
    {
     "name": "stderr",
     "output_type": "stream",
     "text": [
      "\r",
      " 10%|███████▍                                                               | 1676/16054 [2:15:06<13:51:49,  3.47s/it]"
     ]
    },
    {
     "name": "stdout",
     "output_type": "stream",
     "text": [
      "Failed to download video from https://www.youtube.com/watch?v=FWvHYCdAx8A. Reason: FWvHYCdAx8A is unavailable\n"
     ]
    },
    {
     "name": "stderr",
     "output_type": "stream",
     "text": [
      " 11%|███████▌                                                               | 1722/16054 [2:19:57<17:12:28,  4.32s/it]"
     ]
    },
    {
     "name": "stdout",
     "output_type": "stream",
     "text": [
      "Failed to download video from www.youtube.com/watch?v=eFVfYZffYLo. Reason: eFVfYZffYLo is a private video\n"
     ]
    },
    {
     "name": "stderr",
     "output_type": "stream",
     "text": [
      " 11%|███████▋                                                               | 1727/16054 [2:20:26<19:25:51,  4.88s/it]"
     ]
    },
    {
     "name": "stdout",
     "output_type": "stream",
     "text": [
      "Failed to download video from www.youtube.com/watch?v=BC2ahgTLYbk. Reason: BC2ahgTLYbk is unavailable\n"
     ]
    },
    {
     "name": "stderr",
     "output_type": "stream",
     "text": [
      " 11%|███████▊                                                               | 1754/16054 [2:22:48<18:41:37,  4.71s/it]"
     ]
    },
    {
     "name": "stdout",
     "output_type": "stream",
     "text": [
      "Failed to download video from www.youtube.com/watch?v=poEPdTTSVyA. Reason: poEPdTTSVyA is a private video\n"
     ]
    },
    {
     "name": "stderr",
     "output_type": "stream",
     "text": [
      " 11%|███████▊                                                               | 1762/16054 [2:23:29<18:03:30,  4.55s/it]"
     ]
    },
    {
     "name": "stdout",
     "output_type": "stream",
     "text": [
      "Failed to download video from www.youtube.com/watch?v=lLpBvtKsB-I. Reason: lLpBvtKsB-I is unavailable\n"
     ]
    },
    {
     "name": "stderr",
     "output_type": "stream",
     "text": [
      " 11%|███████▊                                                               | 1766/16054 [2:23:44<13:22:27,  3.37s/it]"
     ]
    },
    {
     "name": "stdout",
     "output_type": "stream",
     "text": [
      "Failed to download video from https://www.youtube.com/watch?v=FeGQrm6_hWs. Reason: FeGQrm6_hWs is unavailable\n"
     ]
    },
    {
     "name": "stderr",
     "output_type": "stream",
     "text": [
      "\r",
      " 11%|███████▊                                                               | 1767/16054 [2:23:45<10:42:20,  2.70s/it]"
     ]
    },
    {
     "name": "stdout",
     "output_type": "stream",
     "text": [
      "Failed to download video from https://www.youtube.com/watch?v=FeGQrm6_hWs. Reason: FeGQrm6_hWs is unavailable\n"
     ]
    },
    {
     "name": "stderr",
     "output_type": "stream",
     "text": [
      "\r",
      " 11%|███████▉                                                                | 1768/16054 [2:23:46<8:57:24,  2.26s/it]"
     ]
    },
    {
     "name": "stdout",
     "output_type": "stream",
     "text": [
      "Failed to download video from https://www.youtube.com/watch?v=FeGQrm6_hWs. Reason: FeGQrm6_hWs is unavailable\n"
     ]
    },
    {
     "name": "stderr",
     "output_type": "stream",
     "text": [
      "\r",
      " 11%|███████▉                                                                | 1769/16054 [2:23:47<7:49:36,  1.97s/it]"
     ]
    },
    {
     "name": "stdout",
     "output_type": "stream",
     "text": [
      "Failed to download video from https://www.youtube.com/watch?v=FeGQrm6_hWs. Reason: FeGQrm6_hWs is unavailable\n"
     ]
    },
    {
     "name": "stderr",
     "output_type": "stream",
     "text": [
      "\r",
      " 11%|███████▉                                                                | 1770/16054 [2:23:48<6:47:49,  1.71s/it]"
     ]
    },
    {
     "name": "stdout",
     "output_type": "stream",
     "text": [
      "Failed to download video from https://www.youtube.com/watch?v=FeGQrm6_hWs. Reason: FeGQrm6_hWs is unavailable\n"
     ]
    },
    {
     "name": "stderr",
     "output_type": "stream",
     "text": [
      "\r",
      " 11%|███████▉                                                                | 1771/16054 [2:23:50<6:15:02,  1.58s/it]"
     ]
    },
    {
     "name": "stdout",
     "output_type": "stream",
     "text": [
      "Failed to download video from https://www.youtube.com/watch?v=FeGQrm6_hWs. Reason: FeGQrm6_hWs is unavailable\n"
     ]
    },
    {
     "name": "stderr",
     "output_type": "stream",
     "text": [
      "\r",
      " 11%|███████▉                                                                | 1772/16054 [2:23:51<5:57:29,  1.50s/it]"
     ]
    },
    {
     "name": "stdout",
     "output_type": "stream",
     "text": [
      "Failed to download video from https://www.youtube.com/watch?v=FeGQrm6_hWs. Reason: FeGQrm6_hWs is unavailable\n"
     ]
    },
    {
     "name": "stderr",
     "output_type": "stream",
     "text": [
      "\r",
      " 11%|███████▉                                                                | 1773/16054 [2:23:52<5:27:15,  1.37s/it]"
     ]
    },
    {
     "name": "stdout",
     "output_type": "stream",
     "text": [
      "Failed to download video from https://www.youtube.com/watch?v=FeGQrm6_hWs. Reason: FeGQrm6_hWs is unavailable\n"
     ]
    },
    {
     "name": "stderr",
     "output_type": "stream",
     "text": [
      " 11%|███████▉                                                               | 1782/16054 [2:24:45<18:41:37,  4.72s/it]"
     ]
    },
    {
     "name": "stdout",
     "output_type": "stream",
     "text": [
      "Failed to download video from https://www.youtube.com/watch?v=EagICDahORE. Reason: EagICDahORE is unavailable\n"
     ]
    },
    {
     "name": "stderr",
     "output_type": "stream",
     "text": [
      "\r",
      " 11%|███████▉                                                               | 1783/16054 [2:24:46<14:38:02,  3.69s/it]"
     ]
    },
    {
     "name": "stdout",
     "output_type": "stream",
     "text": [
      "Failed to download video from https://www.youtube.com/watch?v=EagICDahORE. Reason: EagICDahORE is unavailable\n"
     ]
    },
    {
     "name": "stderr",
     "output_type": "stream",
     "text": [
      " 11%|███████▉                                                               | 1796/16054 [2:25:55<20:28:18,  5.17s/it]"
     ]
    },
    {
     "name": "stdout",
     "output_type": "stream",
     "text": [
      "Failed to download video from www.youtube.com/watch?v=J1Y1SuISPL0. Reason: J1Y1SuISPL0 is a private video\n"
     ]
    },
    {
     "name": "stderr",
     "output_type": "stream",
     "text": [
      " 11%|████████                                                               | 1812/16054 [2:27:28<19:26:35,  4.91s/it]"
     ]
    },
    {
     "name": "stdout",
     "output_type": "stream",
     "text": [
      "Failed to download video from www.youtube.com/watch?v=qs_jFwosFWs. Reason: qs_jFwosFWs is unavailable\n"
     ]
    },
    {
     "name": "stderr",
     "output_type": "stream",
     "text": [
      " 11%|████████                                                               | 1828/16054 [2:28:55<16:13:13,  4.10s/it]"
     ]
    },
    {
     "name": "stdout",
     "output_type": "stream",
     "text": [
      "Failed to download video from www.youtube.com/watch?v=62-rKMj97QE. Reason: 62-rKMj97QE is a private video\n"
     ]
    },
    {
     "name": "stderr",
     "output_type": "stream",
     "text": [
      " 12%|████████▍                                                              | 1905/16054 [2:35:26<15:43:40,  4.00s/it]"
     ]
    },
    {
     "name": "stdout",
     "output_type": "stream",
     "text": [
      "Failed to download video from www.youtube.com/watch?v=Etp56MlLEdo. Reason: Etp56MlLEdo is unavailable\n"
     ]
    },
    {
     "name": "stderr",
     "output_type": "stream",
     "text": [
      " 12%|████████▍                                                              | 1908/16054 [2:35:41<16:52:24,  4.29s/it]"
     ]
    },
    {
     "name": "stdout",
     "output_type": "stream",
     "text": [
      "Failed to download video from https://www.youtube.com/watch?v=eXpXg4q-qEQ&t=170s. Reason: eXpXg4q-qEQ is age restricted, and can't be accessed without logging in.\n"
     ]
    },
    {
     "name": "stderr",
     "output_type": "stream",
     "text": [
      "\r",
      " 12%|████████▍                                                              | 1909/16054 [2:35:43<14:15:40,  3.63s/it]"
     ]
    },
    {
     "name": "stdout",
     "output_type": "stream",
     "text": [
      "Failed to download video from https://www.youtube.com/watch?v=eXpXg4q-qEQ&t=170s. Reason: eXpXg4q-qEQ is age restricted, and can't be accessed without logging in.\n"
     ]
    },
    {
     "name": "stderr",
     "output_type": "stream",
     "text": [
      "\r",
      " 12%|████████▍                                                              | 1910/16054 [2:35:45<12:35:01,  3.20s/it]"
     ]
    },
    {
     "name": "stdout",
     "output_type": "stream",
     "text": [
      "Failed to download video from https://www.youtube.com/watch?v=eXpXg4q-qEQ&t=170s. Reason: eXpXg4q-qEQ is age restricted, and can't be accessed without logging in.\n"
     ]
    },
    {
     "name": "stderr",
     "output_type": "stream",
     "text": [
      "\r",
      " 12%|████████▍                                                              | 1911/16054 [2:35:47<11:08:54,  2.84s/it]"
     ]
    },
    {
     "name": "stdout",
     "output_type": "stream",
     "text": [
      "Failed to download video from https://www.youtube.com/watch?v=eXpXg4q-qEQ&t=170s. Reason: eXpXg4q-qEQ is age restricted, and can't be accessed without logging in.\n"
     ]
    },
    {
     "name": "stderr",
     "output_type": "stream",
     "text": [
      "\r",
      " 12%|████████▍                                                              | 1912/16054 [2:35:49<10:24:03,  2.65s/it]"
     ]
    },
    {
     "name": "stdout",
     "output_type": "stream",
     "text": [
      "Failed to download video from https://www.youtube.com/watch?v=eXpXg4q-qEQ&t=170s. Reason: eXpXg4q-qEQ is age restricted, and can't be accessed without logging in.\n"
     ]
    },
    {
     "name": "stderr",
     "output_type": "stream",
     "text": [
      "\r",
      " 12%|████████▌                                                               | 1913/16054 [2:35:51<9:38:15,  2.45s/it]"
     ]
    },
    {
     "name": "stdout",
     "output_type": "stream",
     "text": [
      "Failed to download video from https://www.youtube.com/watch?v=eXpXg4q-qEQ&t=170s. Reason: eXpXg4q-qEQ is age restricted, and can't be accessed without logging in.\n"
     ]
    },
    {
     "name": "stderr",
     "output_type": "stream",
     "text": [
      "\r",
      " 12%|████████▌                                                               | 1914/16054 [2:35:54<9:11:45,  2.34s/it]"
     ]
    },
    {
     "name": "stdout",
     "output_type": "stream",
     "text": [
      "Failed to download video from https://www.youtube.com/watch?v=eXpXg4q-qEQ&t=170s. Reason: eXpXg4q-qEQ is age restricted, and can't be accessed without logging in.\n"
     ]
    },
    {
     "name": "stderr",
     "output_type": "stream",
     "text": [
      "\r",
      " 12%|████████▌                                                               | 1915/16054 [2:35:56<8:54:52,  2.27s/it]"
     ]
    },
    {
     "name": "stdout",
     "output_type": "stream",
     "text": [
      "Failed to download video from https://www.youtube.com/watch?v=eXpXg4q-qEQ&t=170s. Reason: eXpXg4q-qEQ is age restricted, and can't be accessed without logging in.\n"
     ]
    },
    {
     "name": "stderr",
     "output_type": "stream",
     "text": [
      "\r",
      " 12%|████████▌                                                               | 1916/16054 [2:35:58<9:07:09,  2.32s/it]"
     ]
    },
    {
     "name": "stdout",
     "output_type": "stream",
     "text": [
      "Failed to download video from https://www.youtube.com/watch?v=eXpXg4q-qEQ&t=170s. Reason: eXpXg4q-qEQ is age restricted, and can't be accessed without logging in.\n"
     ]
    },
    {
     "name": "stderr",
     "output_type": "stream",
     "text": [
      "\r",
      " 12%|████████▌                                                               | 1917/16054 [2:36:01<9:35:06,  2.44s/it]"
     ]
    },
    {
     "name": "stdout",
     "output_type": "stream",
     "text": [
      "Failed to download video from https://www.youtube.com/watch?v=eXpXg4q-qEQ&t=170s. Reason: eXpXg4q-qEQ is age restricted, and can't be accessed without logging in.\n"
     ]
    },
    {
     "name": "stderr",
     "output_type": "stream",
     "text": [
      "\r",
      " 12%|████████▌                                                               | 1918/16054 [2:36:03<9:04:33,  2.31s/it]"
     ]
    },
    {
     "name": "stdout",
     "output_type": "stream",
     "text": [
      "Failed to download video from https://www.youtube.com/watch?v=eXpXg4q-qEQ&t=170s. Reason: eXpXg4q-qEQ is age restricted, and can't be accessed without logging in.\n"
     ]
    },
    {
     "name": "stderr",
     "output_type": "stream",
     "text": [
      "\r",
      " 12%|████████▌                                                               | 1919/16054 [2:36:05<8:55:47,  2.27s/it]"
     ]
    },
    {
     "name": "stdout",
     "output_type": "stream",
     "text": [
      "Failed to download video from https://www.youtube.com/watch?v=eXpXg4q-qEQ&t=170s. Reason: eXpXg4q-qEQ is age restricted, and can't be accessed without logging in.\n"
     ]
    },
    {
     "name": "stderr",
     "output_type": "stream",
     "text": [
      "\r",
      " 12%|████████▌                                                               | 1920/16054 [2:36:07<8:35:08,  2.19s/it]"
     ]
    },
    {
     "name": "stdout",
     "output_type": "stream",
     "text": [
      "Failed to download video from https://www.youtube.com/watch?v=eXpXg4q-qEQ&t=170s. Reason: eXpXg4q-qEQ is age restricted, and can't be accessed without logging in.\n"
     ]
    },
    {
     "name": "stderr",
     "output_type": "stream",
     "text": [
      "\r",
      " 12%|████████▌                                                               | 1921/16054 [2:36:09<8:28:39,  2.16s/it]"
     ]
    },
    {
     "name": "stdout",
     "output_type": "stream",
     "text": [
      "Failed to download video from https://www.youtube.com/watch?v=eXpXg4q-qEQ&t=170s. Reason: eXpXg4q-qEQ is age restricted, and can't be accessed without logging in.\n"
     ]
    },
    {
     "name": "stderr",
     "output_type": "stream",
     "text": [
      "\r",
      " 12%|████████▌                                                               | 1922/16054 [2:36:11<8:31:51,  2.17s/it]"
     ]
    },
    {
     "name": "stdout",
     "output_type": "stream",
     "text": [
      "Failed to download video from https://www.youtube.com/watch?v=eXpXg4q-qEQ&t=170s. Reason: eXpXg4q-qEQ is age restricted, and can't be accessed without logging in.\n"
     ]
    },
    {
     "name": "stderr",
     "output_type": "stream",
     "text": [
      "\r",
      " 12%|████████▌                                                               | 1923/16054 [2:36:13<8:19:01,  2.12s/it]"
     ]
    },
    {
     "name": "stdout",
     "output_type": "stream",
     "text": [
      "Failed to download video from https://www.youtube.com/watch?v=eXpXg4q-qEQ&t=170s. Reason: eXpXg4q-qEQ is age restricted, and can't be accessed without logging in.\n"
     ]
    },
    {
     "name": "stderr",
     "output_type": "stream",
     "text": [
      "\r",
      " 12%|████████▋                                                               | 1924/16054 [2:36:16<8:54:16,  2.27s/it]"
     ]
    },
    {
     "name": "stdout",
     "output_type": "stream",
     "text": [
      "Failed to download video from https://www.youtube.com/watch?v=eXpXg4q-qEQ&t=170s. Reason: eXpXg4q-qEQ is age restricted, and can't be accessed without logging in.\n"
     ]
    },
    {
     "name": "stderr",
     "output_type": "stream",
     "text": [
      "\r",
      " 12%|████████▋                                                               | 1925/16054 [2:36:18<8:55:37,  2.27s/it]"
     ]
    },
    {
     "name": "stdout",
     "output_type": "stream",
     "text": [
      "Failed to download video from https://www.youtube.com/watch?v=eXpXg4q-qEQ&t=170s. Reason: eXpXg4q-qEQ is age restricted, and can't be accessed without logging in.\n"
     ]
    },
    {
     "name": "stderr",
     "output_type": "stream",
     "text": [
      "\r",
      " 12%|████████▋                                                               | 1926/16054 [2:36:20<8:50:44,  2.25s/it]"
     ]
    },
    {
     "name": "stdout",
     "output_type": "stream",
     "text": [
      "Failed to download video from https://www.youtube.com/watch?v=eXpXg4q-qEQ&t=170s. Reason: eXpXg4q-qEQ is age restricted, and can't be accessed without logging in.\n"
     ]
    },
    {
     "name": "stderr",
     "output_type": "stream",
     "text": [
      "\r",
      " 12%|████████▋                                                               | 1927/16054 [2:36:23<8:40:02,  2.21s/it]"
     ]
    },
    {
     "name": "stdout",
     "output_type": "stream",
     "text": [
      "Failed to download video from https://www.youtube.com/watch?v=eXpXg4q-qEQ&t=170s. Reason: eXpXg4q-qEQ is age restricted, and can't be accessed without logging in.\n"
     ]
    },
    {
     "name": "stderr",
     "output_type": "stream",
     "text": [
      "\r",
      " 12%|████████▋                                                               | 1928/16054 [2:36:25<8:54:49,  2.27s/it]"
     ]
    },
    {
     "name": "stdout",
     "output_type": "stream",
     "text": [
      "Failed to download video from https://www.youtube.com/watch?v=eXpXg4q-qEQ&t=170s. Reason: eXpXg4q-qEQ is age restricted, and can't be accessed without logging in.\n"
     ]
    },
    {
     "name": "stderr",
     "output_type": "stream",
     "text": [
      "\r",
      " 12%|████████▌                                                              | 1929/16054 [2:36:29<10:47:27,  2.75s/it]"
     ]
    },
    {
     "name": "stdout",
     "output_type": "stream",
     "text": [
      "Failed to download video from https://www.youtube.com/watch?v=eXpXg4q-qEQ&t=170s. Reason: eXpXg4q-qEQ is age restricted, and can't be accessed without logging in.\n"
     ]
    },
    {
     "name": "stderr",
     "output_type": "stream",
     "text": [
      "\r",
      " 12%|████████▌                                                              | 1930/16054 [2:36:31<10:02:32,  2.56s/it]"
     ]
    },
    {
     "name": "stdout",
     "output_type": "stream",
     "text": [
      "Failed to download video from https://www.youtube.com/watch?v=eXpXg4q-qEQ&t=170s. Reason: eXpXg4q-qEQ is age restricted, and can't be accessed without logging in.\n"
     ]
    },
    {
     "name": "stderr",
     "output_type": "stream",
     "text": [
      "\r",
      " 12%|████████▋                                                               | 1931/16054 [2:36:33<9:20:39,  2.38s/it]"
     ]
    },
    {
     "name": "stdout",
     "output_type": "stream",
     "text": [
      "Failed to download video from https://www.youtube.com/watch?v=eXpXg4q-qEQ&t=170s. Reason: eXpXg4q-qEQ is age restricted, and can't be accessed without logging in.\n"
     ]
    },
    {
     "name": "stderr",
     "output_type": "stream",
     "text": [
      "\r",
      " 12%|████████▋                                                               | 1932/16054 [2:36:35<9:09:14,  2.33s/it]"
     ]
    },
    {
     "name": "stdout",
     "output_type": "stream",
     "text": [
      "Failed to download video from https://www.youtube.com/watch?v=eXpXg4q-qEQ&t=170s. Reason: eXpXg4q-qEQ is age restricted, and can't be accessed without logging in.\n"
     ]
    },
    {
     "name": "stderr",
     "output_type": "stream",
     "text": [
      "\r",
      " 12%|████████▋                                                               | 1933/16054 [2:36:37<8:51:49,  2.26s/it]"
     ]
    },
    {
     "name": "stdout",
     "output_type": "stream",
     "text": [
      "Failed to download video from https://www.youtube.com/watch?v=eXpXg4q-qEQ&t=170s. Reason: eXpXg4q-qEQ is age restricted, and can't be accessed without logging in.\n"
     ]
    },
    {
     "name": "stderr",
     "output_type": "stream",
     "text": [
      "\r",
      " 12%|████████▋                                                               | 1934/16054 [2:36:39<8:40:07,  2.21s/it]"
     ]
    },
    {
     "name": "stdout",
     "output_type": "stream",
     "text": [
      "Failed to download video from https://www.youtube.com/watch?v=eXpXg4q-qEQ&t=170s. Reason: eXpXg4q-qEQ is age restricted, and can't be accessed without logging in.\n"
     ]
    },
    {
     "name": "stderr",
     "output_type": "stream",
     "text": [
      "\r",
      " 12%|████████▋                                                               | 1935/16054 [2:36:41<8:24:09,  2.14s/it]"
     ]
    },
    {
     "name": "stdout",
     "output_type": "stream",
     "text": [
      "Failed to download video from https://www.youtube.com/watch?v=eXpXg4q-qEQ&t=170s. Reason: eXpXg4q-qEQ is age restricted, and can't be accessed without logging in.\n"
     ]
    },
    {
     "name": "stderr",
     "output_type": "stream",
     "text": [
      "\r",
      " 12%|████████▋                                                               | 1936/16054 [2:36:44<8:42:44,  2.22s/it]"
     ]
    },
    {
     "name": "stdout",
     "output_type": "stream",
     "text": [
      "Failed to download video from https://www.youtube.com/watch?v=eXpXg4q-qEQ&t=170s. Reason: eXpXg4q-qEQ is age restricted, and can't be accessed without logging in.\n"
     ]
    },
    {
     "name": "stderr",
     "output_type": "stream",
     "text": [
      "\r",
      " 12%|████████▋                                                               | 1937/16054 [2:36:46<8:49:20,  2.25s/it]"
     ]
    },
    {
     "name": "stdout",
     "output_type": "stream",
     "text": [
      "Failed to download video from https://www.youtube.com/watch?v=eXpXg4q-qEQ&t=170s. Reason: eXpXg4q-qEQ is age restricted, and can't be accessed without logging in.\n"
     ]
    },
    {
     "name": "stderr",
     "output_type": "stream",
     "text": [
      "\r",
      " 12%|████████▋                                                               | 1938/16054 [2:36:48<9:03:12,  2.31s/it]"
     ]
    },
    {
     "name": "stdout",
     "output_type": "stream",
     "text": [
      "Failed to download video from https://www.youtube.com/watch?v=eXpXg4q-qEQ&t=170s. Reason: eXpXg4q-qEQ is age restricted, and can't be accessed without logging in.\n"
     ]
    },
    {
     "name": "stderr",
     "output_type": "stream",
     "text": [
      "\r",
      " 12%|████████▋                                                               | 1939/16054 [2:36:51<9:01:12,  2.30s/it]"
     ]
    },
    {
     "name": "stdout",
     "output_type": "stream",
     "text": [
      "Failed to download video from https://www.youtube.com/watch?v=eXpXg4q-qEQ&t=170s. Reason: eXpXg4q-qEQ is age restricted, and can't be accessed without logging in.\n"
     ]
    },
    {
     "name": "stderr",
     "output_type": "stream",
     "text": [
      "\r",
      " 12%|████████▋                                                               | 1940/16054 [2:36:53<8:54:38,  2.27s/it]"
     ]
    },
    {
     "name": "stdout",
     "output_type": "stream",
     "text": [
      "Failed to download video from https://www.youtube.com/watch?v=eXpXg4q-qEQ&t=170s. Reason: eXpXg4q-qEQ is age restricted, and can't be accessed without logging in.\n"
     ]
    },
    {
     "name": "stderr",
     "output_type": "stream",
     "text": [
      "\r",
      " 12%|████████▋                                                               | 1941/16054 [2:36:56<9:18:38,  2.38s/it]"
     ]
    },
    {
     "name": "stdout",
     "output_type": "stream",
     "text": [
      "Failed to download video from https://www.youtube.com/watch?v=eXpXg4q-qEQ&t=170s. Reason: eXpXg4q-qEQ is age restricted, and can't be accessed without logging in.\n"
     ]
    },
    {
     "name": "stderr",
     "output_type": "stream",
     "text": [
      "\r",
      " 12%|████████▋                                                               | 1942/16054 [2:36:58<9:09:44,  2.34s/it]"
     ]
    },
    {
     "name": "stdout",
     "output_type": "stream",
     "text": [
      "Failed to download video from https://www.youtube.com/watch?v=eXpXg4q-qEQ&t=170s. Reason: eXpXg4q-qEQ is age restricted, and can't be accessed without logging in.\n"
     ]
    },
    {
     "name": "stderr",
     "output_type": "stream",
     "text": [
      "\r",
      " 12%|████████▋                                                               | 1943/16054 [2:37:00<9:02:21,  2.31s/it]"
     ]
    },
    {
     "name": "stdout",
     "output_type": "stream",
     "text": [
      "Failed to download video from https://www.youtube.com/watch?v=eXpXg4q-qEQ&t=170s. Reason: eXpXg4q-qEQ is age restricted, and can't be accessed without logging in.\n"
     ]
    },
    {
     "name": "stderr",
     "output_type": "stream",
     "text": [
      "\r",
      " 12%|████████▋                                                               | 1944/16054 [2:37:02<8:52:35,  2.26s/it]"
     ]
    },
    {
     "name": "stdout",
     "output_type": "stream",
     "text": [
      "Failed to download video from https://www.youtube.com/watch?v=eXpXg4q-qEQ&t=170s. Reason: eXpXg4q-qEQ is age restricted, and can't be accessed without logging in.\n"
     ]
    },
    {
     "name": "stderr",
     "output_type": "stream",
     "text": [
      "\r",
      " 12%|████████▋                                                               | 1945/16054 [2:37:05<9:12:54,  2.35s/it]"
     ]
    },
    {
     "name": "stdout",
     "output_type": "stream",
     "text": [
      "Failed to download video from https://www.youtube.com/watch?v=eXpXg4q-qEQ&t=170s. Reason: eXpXg4q-qEQ is age restricted, and can't be accessed without logging in.\n"
     ]
    },
    {
     "name": "stderr",
     "output_type": "stream",
     "text": [
      "\r",
      " 12%|████████▋                                                               | 1946/16054 [2:37:07<8:41:17,  2.22s/it]"
     ]
    },
    {
     "name": "stdout",
     "output_type": "stream",
     "text": [
      "Failed to download video from https://www.youtube.com/watch?v=eXpXg4q-qEQ&t=170s. Reason: eXpXg4q-qEQ is age restricted, and can't be accessed without logging in.\n"
     ]
    },
    {
     "name": "stderr",
     "output_type": "stream",
     "text": [
      "\r",
      " 12%|████████▋                                                               | 1947/16054 [2:37:09<8:30:46,  2.17s/it]"
     ]
    },
    {
     "name": "stdout",
     "output_type": "stream",
     "text": [
      "Failed to download video from https://www.youtube.com/watch?v=eXpXg4q-qEQ&t=170s. Reason: eXpXg4q-qEQ is age restricted, and can't be accessed without logging in.\n"
     ]
    },
    {
     "name": "stderr",
     "output_type": "stream",
     "text": [
      "\r",
      " 12%|████████▋                                                               | 1948/16054 [2:37:11<8:18:09,  2.12s/it]"
     ]
    },
    {
     "name": "stdout",
     "output_type": "stream",
     "text": [
      "Failed to download video from https://www.youtube.com/watch?v=eXpXg4q-qEQ&t=170s. Reason: eXpXg4q-qEQ is age restricted, and can't be accessed without logging in.\n"
     ]
    },
    {
     "name": "stderr",
     "output_type": "stream",
     "text": [
      "\r",
      " 12%|████████▋                                                               | 1949/16054 [2:37:13<8:23:29,  2.14s/it]"
     ]
    },
    {
     "name": "stdout",
     "output_type": "stream",
     "text": [
      "Failed to download video from https://www.youtube.com/watch?v=eXpXg4q-qEQ&t=170s. Reason: eXpXg4q-qEQ is age restricted, and can't be accessed without logging in.\n"
     ]
    },
    {
     "name": "stderr",
     "output_type": "stream",
     "text": [
      "\r",
      " 12%|████████▋                                                               | 1950/16054 [2:37:15<8:47:46,  2.25s/it]"
     ]
    },
    {
     "name": "stdout",
     "output_type": "stream",
     "text": [
      "Failed to download video from https://www.youtube.com/watch?v=eXpXg4q-qEQ&t=170s. Reason: eXpXg4q-qEQ is age restricted, and can't be accessed without logging in.\n"
     ]
    },
    {
     "name": "stderr",
     "output_type": "stream",
     "text": [
      "\r",
      " 12%|████████▋                                                               | 1951/16054 [2:37:17<8:33:12,  2.18s/it]"
     ]
    },
    {
     "name": "stdout",
     "output_type": "stream",
     "text": [
      "Failed to download video from https://www.youtube.com/watch?v=eXpXg4q-qEQ&t=170s. Reason: eXpXg4q-qEQ is age restricted, and can't be accessed without logging in.\n"
     ]
    },
    {
     "name": "stderr",
     "output_type": "stream",
     "text": [
      "\r",
      " 12%|████████▊                                                               | 1952/16054 [2:37:20<8:30:40,  2.17s/it]"
     ]
    },
    {
     "name": "stdout",
     "output_type": "stream",
     "text": [
      "Failed to download video from https://www.youtube.com/watch?v=eXpXg4q-qEQ&t=170s. Reason: eXpXg4q-qEQ is age restricted, and can't be accessed without logging in.\n"
     ]
    },
    {
     "name": "stderr",
     "output_type": "stream",
     "text": [
      "\r",
      " 12%|████████▊                                                               | 1953/16054 [2:37:21<8:13:36,  2.10s/it]"
     ]
    },
    {
     "name": "stdout",
     "output_type": "stream",
     "text": [
      "Failed to download video from https://www.youtube.com/watch?v=eXpXg4q-qEQ&t=170s. Reason: eXpXg4q-qEQ is age restricted, and can't be accessed without logging in.\n"
     ]
    },
    {
     "name": "stderr",
     "output_type": "stream",
     "text": [
      "\r",
      " 12%|████████▊                                                               | 1954/16054 [2:37:24<8:18:14,  2.12s/it]"
     ]
    },
    {
     "name": "stdout",
     "output_type": "stream",
     "text": [
      "Failed to download video from https://www.youtube.com/watch?v=eXpXg4q-qEQ&t=170s. Reason: eXpXg4q-qEQ is age restricted, and can't be accessed without logging in.\n"
     ]
    },
    {
     "name": "stderr",
     "output_type": "stream",
     "text": [
      "\r",
      " 12%|████████▊                                                               | 1955/16054 [2:37:26<8:33:42,  2.19s/it]"
     ]
    },
    {
     "name": "stdout",
     "output_type": "stream",
     "text": [
      "Failed to download video from https://www.youtube.com/watch?v=eXpXg4q-qEQ&t=170s. Reason: eXpXg4q-qEQ is age restricted, and can't be accessed without logging in.\n"
     ]
    },
    {
     "name": "stderr",
     "output_type": "stream",
     "text": [
      "\r",
      " 12%|████████▊                                                               | 1956/16054 [2:37:28<8:41:16,  2.22s/it]"
     ]
    },
    {
     "name": "stdout",
     "output_type": "stream",
     "text": [
      "Failed to download video from https://www.youtube.com/watch?v=eXpXg4q-qEQ&t=170s. Reason: eXpXg4q-qEQ is age restricted, and can't be accessed without logging in.\n"
     ]
    },
    {
     "name": "stderr",
     "output_type": "stream",
     "text": [
      "\r",
      " 12%|████████▊                                                               | 1957/16054 [2:37:31<8:42:43,  2.22s/it]"
     ]
    },
    {
     "name": "stdout",
     "output_type": "stream",
     "text": [
      "Failed to download video from https://www.youtube.com/watch?v=eXpXg4q-qEQ&t=170s. Reason: eXpXg4q-qEQ is age restricted, and can't be accessed without logging in.\n"
     ]
    },
    {
     "name": "stderr",
     "output_type": "stream",
     "text": [
      "\r",
      " 12%|████████▊                                                               | 1958/16054 [2:37:33<8:39:28,  2.21s/it]"
     ]
    },
    {
     "name": "stdout",
     "output_type": "stream",
     "text": [
      "Failed to download video from https://www.youtube.com/watch?v=eXpXg4q-qEQ&t=170s. Reason: eXpXg4q-qEQ is age restricted, and can't be accessed without logging in.\n"
     ]
    },
    {
     "name": "stderr",
     "output_type": "stream",
     "text": [
      "\r",
      " 12%|████████▊                                                               | 1959/16054 [2:37:35<8:43:32,  2.23s/it]"
     ]
    },
    {
     "name": "stdout",
     "output_type": "stream",
     "text": [
      "Failed to download video from https://www.youtube.com/watch?v=eXpXg4q-qEQ&t=170s. Reason: eXpXg4q-qEQ is age restricted, and can't be accessed without logging in.\n"
     ]
    },
    {
     "name": "stderr",
     "output_type": "stream",
     "text": [
      "\r",
      " 12%|████████▊                                                               | 1960/16054 [2:37:37<8:44:48,  2.23s/it]"
     ]
    },
    {
     "name": "stdout",
     "output_type": "stream",
     "text": [
      "Failed to download video from https://www.youtube.com/watch?v=eXpXg4q-qEQ&t=170s. Reason: eXpXg4q-qEQ is age restricted, and can't be accessed without logging in.\n"
     ]
    },
    {
     "name": "stderr",
     "output_type": "stream",
     "text": [
      "\r",
      " 12%|████████▊                                                               | 1961/16054 [2:37:39<8:33:26,  2.19s/it]"
     ]
    },
    {
     "name": "stdout",
     "output_type": "stream",
     "text": [
      "Failed to download video from https://www.youtube.com/watch?v=eXpXg4q-qEQ&t=170s. Reason: eXpXg4q-qEQ is age restricted, and can't be accessed without logging in.\n"
     ]
    },
    {
     "name": "stderr",
     "output_type": "stream",
     "text": [
      "\r",
      " 12%|████████▊                                                               | 1962/16054 [2:37:42<8:40:35,  2.22s/it]"
     ]
    },
    {
     "name": "stdout",
     "output_type": "stream",
     "text": [
      "Failed to download video from https://www.youtube.com/watch?v=eXpXg4q-qEQ&t=170s. Reason: eXpXg4q-qEQ is age restricted, and can't be accessed without logging in.\n"
     ]
    },
    {
     "name": "stderr",
     "output_type": "stream",
     "text": [
      "\r",
      " 12%|████████▊                                                               | 1963/16054 [2:37:44<8:42:28,  2.22s/it]"
     ]
    },
    {
     "name": "stdout",
     "output_type": "stream",
     "text": [
      "Failed to download video from https://www.youtube.com/watch?v=eXpXg4q-qEQ&t=170s. Reason: eXpXg4q-qEQ is age restricted, and can't be accessed without logging in.\n"
     ]
    },
    {
     "name": "stderr",
     "output_type": "stream",
     "text": [
      "\r",
      " 12%|████████▊                                                               | 1964/16054 [2:37:46<8:46:38,  2.24s/it]"
     ]
    },
    {
     "name": "stdout",
     "output_type": "stream",
     "text": [
      "Failed to download video from https://www.youtube.com/watch?v=eXpXg4q-qEQ&t=170s. Reason: eXpXg4q-qEQ is age restricted, and can't be accessed without logging in.\n"
     ]
    },
    {
     "name": "stderr",
     "output_type": "stream",
     "text": [
      "\r",
      " 12%|████████▊                                                               | 1965/16054 [2:37:49<9:29:00,  2.42s/it]"
     ]
    },
    {
     "name": "stdout",
     "output_type": "stream",
     "text": [
      "Failed to download video from https://www.youtube.com/watch?v=eXpXg4q-qEQ&t=170s. Reason: eXpXg4q-qEQ is age restricted, and can't be accessed without logging in.\n"
     ]
    },
    {
     "name": "stderr",
     "output_type": "stream",
     "text": [
      "\r",
      " 12%|████████▊                                                               | 1966/16054 [2:37:51<9:13:42,  2.36s/it]"
     ]
    },
    {
     "name": "stdout",
     "output_type": "stream",
     "text": [
      "Failed to download video from https://www.youtube.com/watch?v=eXpXg4q-qEQ&t=170s. Reason: eXpXg4q-qEQ is age restricted, and can't be accessed without logging in.\n"
     ]
    },
    {
     "name": "stderr",
     "output_type": "stream",
     "text": [
      "\r",
      " 12%|████████▊                                                               | 1967/16054 [2:37:53<9:10:23,  2.34s/it]"
     ]
    },
    {
     "name": "stdout",
     "output_type": "stream",
     "text": [
      "Failed to download video from https://www.youtube.com/watch?v=eXpXg4q-qEQ&t=170s. Reason: eXpXg4q-qEQ is age restricted, and can't be accessed without logging in.\n"
     ]
    },
    {
     "name": "stderr",
     "output_type": "stream",
     "text": [
      "\r",
      " 12%|████████▊                                                               | 1968/16054 [2:37:56<9:14:54,  2.36s/it]"
     ]
    },
    {
     "name": "stdout",
     "output_type": "stream",
     "text": [
      "Failed to download video from https://www.youtube.com/watch?v=eXpXg4q-qEQ&t=170s. Reason: eXpXg4q-qEQ is age restricted, and can't be accessed without logging in.\n"
     ]
    },
    {
     "name": "stderr",
     "output_type": "stream",
     "text": [
      "\r",
      " 12%|████████▊                                                               | 1969/16054 [2:37:58<9:09:32,  2.34s/it]"
     ]
    },
    {
     "name": "stdout",
     "output_type": "stream",
     "text": [
      "Failed to download video from https://www.youtube.com/watch?v=eXpXg4q-qEQ&t=170s. Reason: eXpXg4q-qEQ is age restricted, and can't be accessed without logging in.\n"
     ]
    },
    {
     "name": "stderr",
     "output_type": "stream",
     "text": [
      "\r",
      " 12%|████████▊                                                               | 1970/16054 [2:38:01<9:30:59,  2.43s/it]"
     ]
    },
    {
     "name": "stdout",
     "output_type": "stream",
     "text": [
      "Failed to download video from https://www.youtube.com/watch?v=eXpXg4q-qEQ&t=170s. Reason: eXpXg4q-qEQ is age restricted, and can't be accessed without logging in.\n"
     ]
    },
    {
     "name": "stderr",
     "output_type": "stream",
     "text": [
      "\r",
      " 12%|████████▊                                                               | 1971/16054 [2:38:03<9:28:25,  2.42s/it]"
     ]
    },
    {
     "name": "stdout",
     "output_type": "stream",
     "text": [
      "Failed to download video from https://www.youtube.com/watch?v=eXpXg4q-qEQ&t=170s. Reason: eXpXg4q-qEQ is age restricted, and can't be accessed without logging in.\n"
     ]
    },
    {
     "name": "stderr",
     "output_type": "stream",
     "text": [
      "\r",
      " 12%|████████▊                                                               | 1972/16054 [2:38:06<9:29:18,  2.43s/it]"
     ]
    },
    {
     "name": "stdout",
     "output_type": "stream",
     "text": [
      "Failed to download video from https://www.youtube.com/watch?v=eXpXg4q-qEQ&t=170s. Reason: eXpXg4q-qEQ is age restricted, and can't be accessed without logging in.\n"
     ]
    },
    {
     "name": "stderr",
     "output_type": "stream",
     "text": [
      "\r",
      " 12%|████████▊                                                               | 1973/16054 [2:38:08<9:19:00,  2.38s/it]"
     ]
    },
    {
     "name": "stdout",
     "output_type": "stream",
     "text": [
      "Failed to download video from https://www.youtube.com/watch?v=eXpXg4q-qEQ&t=170s. Reason: eXpXg4q-qEQ is age restricted, and can't be accessed without logging in.\n"
     ]
    },
    {
     "name": "stderr",
     "output_type": "stream",
     "text": [
      "\r",
      " 12%|████████▊                                                               | 1974/16054 [2:38:10<8:59:06,  2.30s/it]"
     ]
    },
    {
     "name": "stdout",
     "output_type": "stream",
     "text": [
      "Failed to download video from https://www.youtube.com/watch?v=eXpXg4q-qEQ&t=170s. Reason: eXpXg4q-qEQ is age restricted, and can't be accessed without logging in.\n"
     ]
    },
    {
     "name": "stderr",
     "output_type": "stream",
     "text": [
      "\r",
      " 12%|████████▊                                                               | 1975/16054 [2:38:12<8:59:31,  2.30s/it]"
     ]
    },
    {
     "name": "stdout",
     "output_type": "stream",
     "text": [
      "Failed to download video from https://www.youtube.com/watch?v=eXpXg4q-qEQ&t=170s. Reason: eXpXg4q-qEQ is age restricted, and can't be accessed without logging in.\n"
     ]
    },
    {
     "name": "stderr",
     "output_type": "stream",
     "text": [
      "\r",
      " 12%|████████▊                                                               | 1976/16054 [2:38:15<9:56:20,  2.54s/it]"
     ]
    },
    {
     "name": "stdout",
     "output_type": "stream",
     "text": [
      "Failed to download video from https://www.youtube.com/watch?v=eXpXg4q-qEQ&t=170s. Reason: eXpXg4q-qEQ is age restricted, and can't be accessed without logging in.\n"
     ]
    },
    {
     "name": "stderr",
     "output_type": "stream",
     "text": [
      " 13%|████████▉                                                              | 2015/16054 [2:41:11<12:49:03,  3.29s/it]"
     ]
    },
    {
     "name": "stdout",
     "output_type": "stream",
     "text": [
      "Failed to download video from https://www.youtube.com/watch?v=wrOliz8PMCA. Reason: wrOliz8PMCA is a private video\n"
     ]
    },
    {
     "name": "stderr",
     "output_type": "stream",
     "text": [
      "\r",
      " 13%|████████▉                                                              | 2016/16054 [2:41:13<10:26:37,  2.68s/it]"
     ]
    },
    {
     "name": "stdout",
     "output_type": "stream",
     "text": [
      "Failed to download video from https://www.youtube.com/watch?v=wrOliz8PMCA. Reason: wrOliz8PMCA is a private video\n"
     ]
    },
    {
     "name": "stderr",
     "output_type": "stream",
     "text": [
      "\r",
      " 13%|█████████                                                               | 2017/16054 [2:41:14<8:50:06,  2.27s/it]"
     ]
    },
    {
     "name": "stdout",
     "output_type": "stream",
     "text": [
      "Failed to download video from https://www.youtube.com/watch?v=wrOliz8PMCA. Reason: wrOliz8PMCA is a private video\n"
     ]
    },
    {
     "name": "stderr",
     "output_type": "stream",
     "text": [
      "\r",
      " 13%|█████████                                                               | 2018/16054 [2:41:16<8:30:52,  2.18s/it]"
     ]
    },
    {
     "name": "stdout",
     "output_type": "stream",
     "text": [
      "Failed to download video from https://www.youtube.com/watch?v=428LiWU0NCY. Reason: 428LiWU0NCY is age restricted, and can't be accessed without logging in.\n"
     ]
    },
    {
     "name": "stderr",
     "output_type": "stream",
     "text": [
      "\r",
      " 13%|█████████                                                               | 2019/16054 [2:41:18<8:10:30,  2.10s/it]"
     ]
    },
    {
     "name": "stdout",
     "output_type": "stream",
     "text": [
      "Failed to download video from https://www.youtube.com/watch?v=428LiWU0NCY. Reason: 428LiWU0NCY is age restricted, and can't be accessed without logging in.\n"
     ]
    },
    {
     "name": "stderr",
     "output_type": "stream",
     "text": [
      " 13%|█████████                                                              | 2049/16054 [2:43:45<18:27:04,  4.74s/it]"
     ]
    },
    {
     "name": "stdout",
     "output_type": "stream",
     "text": [
      "Failed to download video from https://www.youtube.com/watch?v=w3wr6OOWMh0. Reason: w3wr6OOWMh0 is unavailable\n"
     ]
    },
    {
     "name": "stderr",
     "output_type": "stream",
     "text": [
      "\r",
      " 13%|█████████                                                              | 2050/16054 [2:43:46<14:25:22,  3.71s/it]"
     ]
    },
    {
     "name": "stdout",
     "output_type": "stream",
     "text": [
      "Failed to download video from https://www.youtube.com/watch?v=w3wr6OOWMh0. Reason: w3wr6OOWMh0 is unavailable\n"
     ]
    },
    {
     "name": "stderr",
     "output_type": "stream",
     "text": [
      " 13%|█████████▏                                                             | 2071/16054 [2:45:04<11:35:51,  2.99s/it]"
     ]
    },
    {
     "name": "stdout",
     "output_type": "stream",
     "text": [
      "Failed to download video from https://www.youtube.com/watch?v=_y7n7ttUN0Y. Reason: _y7n7ttUN0Y is unavailable\n"
     ]
    },
    {
     "name": "stderr",
     "output_type": "stream",
     "text": [
      "\r",
      " 13%|█████████▎                                                              | 2072/16054 [2:45:05<9:29:36,  2.44s/it]"
     ]
    },
    {
     "name": "stdout",
     "output_type": "stream",
     "text": [
      "Failed to download video from https://www.youtube.com/watch?v=_y7n7ttUN0Y. Reason: _y7n7ttUN0Y is unavailable\n"
     ]
    },
    {
     "name": "stderr",
     "output_type": "stream",
     "text": [
      "\r",
      " 13%|█████████▎                                                              | 2073/16054 [2:45:07<8:00:14,  2.06s/it]"
     ]
    },
    {
     "name": "stdout",
     "output_type": "stream",
     "text": [
      "Failed to download video from https://www.youtube.com/watch?v=_y7n7ttUN0Y. Reason: _y7n7ttUN0Y is unavailable\n"
     ]
    },
    {
     "name": "stderr",
     "output_type": "stream",
     "text": [
      "\r",
      " 13%|█████████▎                                                              | 2074/16054 [2:45:08<6:54:28,  1.78s/it]"
     ]
    },
    {
     "name": "stdout",
     "output_type": "stream",
     "text": [
      "Failed to download video from https://www.youtube.com/watch?v=_y7n7ttUN0Y. Reason: _y7n7ttUN0Y is unavailable\n"
     ]
    },
    {
     "name": "stderr",
     "output_type": "stream",
     "text": [
      "\r",
      " 13%|█████████▎                                                              | 2075/16054 [2:45:09<6:17:18,  1.62s/it]"
     ]
    },
    {
     "name": "stdout",
     "output_type": "stream",
     "text": [
      "Failed to download video from https://www.youtube.com/watch?v=_y7n7ttUN0Y. Reason: _y7n7ttUN0Y is unavailable\n"
     ]
    },
    {
     "name": "stderr",
     "output_type": "stream",
     "text": [
      "\r",
      " 13%|█████████▎                                                              | 2076/16054 [2:45:10<5:56:32,  1.53s/it]"
     ]
    },
    {
     "name": "stdout",
     "output_type": "stream",
     "text": [
      "Failed to download video from https://www.youtube.com/watch?v=_y7n7ttUN0Y. Reason: _y7n7ttUN0Y is unavailable\n"
     ]
    },
    {
     "name": "stderr",
     "output_type": "stream",
     "text": [
      "\r",
      " 13%|█████████▎                                                              | 2077/16054 [2:45:11<5:26:13,  1.40s/it]"
     ]
    },
    {
     "name": "stdout",
     "output_type": "stream",
     "text": [
      "Failed to download video from https://www.youtube.com/watch?v=_y7n7ttUN0Y. Reason: _y7n7ttUN0Y is unavailable\n"
     ]
    },
    {
     "name": "stderr",
     "output_type": "stream",
     "text": [
      "\r",
      " 13%|█████████▎                                                              | 2078/16054 [2:45:13<5:16:12,  1.36s/it]"
     ]
    },
    {
     "name": "stdout",
     "output_type": "stream",
     "text": [
      "Failed to download video from https://www.youtube.com/watch?v=_y7n7ttUN0Y. Reason: _y7n7ttUN0Y is unavailable\n"
     ]
    },
    {
     "name": "stderr",
     "output_type": "stream",
     "text": [
      "\r",
      " 13%|█████████▎                                                              | 2079/16054 [2:45:14<5:13:48,  1.35s/it]"
     ]
    },
    {
     "name": "stdout",
     "output_type": "stream",
     "text": [
      "Failed to download video from https://www.youtube.com/watch?v=_y7n7ttUN0Y. Reason: _y7n7ttUN0Y is unavailable\n"
     ]
    },
    {
     "name": "stderr",
     "output_type": "stream",
     "text": [
      "\r",
      " 13%|█████████▎                                                              | 2080/16054 [2:45:15<4:55:31,  1.27s/it]"
     ]
    },
    {
     "name": "stdout",
     "output_type": "stream",
     "text": [
      "Failed to download video from https://www.youtube.com/watch?v=_y7n7ttUN0Y. Reason: _y7n7ttUN0Y is unavailable\n"
     ]
    },
    {
     "name": "stderr",
     "output_type": "stream",
     "text": [
      "\r",
      " 13%|█████████▎                                                              | 2081/16054 [2:45:16<4:54:35,  1.27s/it]"
     ]
    },
    {
     "name": "stdout",
     "output_type": "stream",
     "text": [
      "Failed to download video from https://www.youtube.com/watch?v=_y7n7ttUN0Y. Reason: _y7n7ttUN0Y is unavailable\n"
     ]
    },
    {
     "name": "stderr",
     "output_type": "stream",
     "text": [
      "\r",
      " 13%|█████████▎                                                              | 2082/16054 [2:45:18<4:57:55,  1.28s/it]"
     ]
    },
    {
     "name": "stdout",
     "output_type": "stream",
     "text": [
      "Failed to download video from https://www.youtube.com/watch?v=_y7n7ttUN0Y. Reason: _y7n7ttUN0Y is unavailable\n"
     ]
    },
    {
     "name": "stderr",
     "output_type": "stream",
     "text": [
      "\r",
      " 13%|█████████▎                                                              | 2083/16054 [2:45:19<4:45:21,  1.23s/it]"
     ]
    },
    {
     "name": "stdout",
     "output_type": "stream",
     "text": [
      "Failed to download video from https://www.youtube.com/watch?v=_y7n7ttUN0Y. Reason: _y7n7ttUN0Y is unavailable\n"
     ]
    },
    {
     "name": "stderr",
     "output_type": "stream",
     "text": [
      "\r",
      " 13%|█████████▎                                                              | 2084/16054 [2:45:20<4:47:33,  1.24s/it]"
     ]
    },
    {
     "name": "stdout",
     "output_type": "stream",
     "text": [
      "Failed to download video from https://www.youtube.com/watch?v=_y7n7ttUN0Y. Reason: _y7n7ttUN0Y is unavailable\n"
     ]
    },
    {
     "name": "stderr",
     "output_type": "stream",
     "text": [
      "\r",
      " 13%|█████████▎                                                              | 2085/16054 [2:45:21<4:53:38,  1.26s/it]"
     ]
    },
    {
     "name": "stdout",
     "output_type": "stream",
     "text": [
      "Failed to download video from https://www.youtube.com/watch?v=_y7n7ttUN0Y. Reason: _y7n7ttUN0Y is unavailable\n"
     ]
    },
    {
     "name": "stderr",
     "output_type": "stream",
     "text": [
      "\r",
      " 13%|█████████▎                                                              | 2086/16054 [2:45:22<4:41:18,  1.21s/it]"
     ]
    },
    {
     "name": "stdout",
     "output_type": "stream",
     "text": [
      "Failed to download video from https://www.youtube.com/watch?v=_y7n7ttUN0Y. Reason: _y7n7ttUN0Y is unavailable\n"
     ]
    },
    {
     "name": "stderr",
     "output_type": "stream",
     "text": [
      "\r",
      " 13%|█████████▎                                                              | 2087/16054 [2:45:24<4:45:32,  1.23s/it]"
     ]
    },
    {
     "name": "stdout",
     "output_type": "stream",
     "text": [
      "Failed to download video from https://www.youtube.com/watch?v=_y7n7ttUN0Y. Reason: _y7n7ttUN0Y is unavailable\n"
     ]
    },
    {
     "name": "stderr",
     "output_type": "stream",
     "text": [
      "\r",
      " 13%|█████████▎                                                              | 2088/16054 [2:45:25<4:51:08,  1.25s/it]"
     ]
    },
    {
     "name": "stdout",
     "output_type": "stream",
     "text": [
      "Failed to download video from https://www.youtube.com/watch?v=_y7n7ttUN0Y. Reason: _y7n7ttUN0Y is unavailable\n"
     ]
    },
    {
     "name": "stderr",
     "output_type": "stream",
     "text": [
      "\r",
      " 13%|█████████▎                                                              | 2089/16054 [2:45:26<4:40:22,  1.20s/it]"
     ]
    },
    {
     "name": "stdout",
     "output_type": "stream",
     "text": [
      "Failed to download video from https://www.youtube.com/watch?v=_y7n7ttUN0Y. Reason: _y7n7ttUN0Y is unavailable\n"
     ]
    },
    {
     "name": "stderr",
     "output_type": "stream",
     "text": [
      "\r",
      " 13%|█████████▎                                                              | 2090/16054 [2:45:27<4:43:38,  1.22s/it]"
     ]
    },
    {
     "name": "stdout",
     "output_type": "stream",
     "text": [
      "Failed to download video from https://www.youtube.com/watch?v=_y7n7ttUN0Y. Reason: _y7n7ttUN0Y is unavailable\n"
     ]
    },
    {
     "name": "stderr",
     "output_type": "stream",
     "text": [
      "\r",
      " 13%|█████████▍                                                              | 2091/16054 [2:45:29<4:49:44,  1.25s/it]"
     ]
    },
    {
     "name": "stdout",
     "output_type": "stream",
     "text": [
      "Failed to download video from https://www.youtube.com/watch?v=_y7n7ttUN0Y. Reason: _y7n7ttUN0Y is unavailable\n"
     ]
    },
    {
     "name": "stderr",
     "output_type": "stream",
     "text": [
      "\r",
      " 13%|█████████▍                                                              | 2092/16054 [2:45:30<4:39:58,  1.20s/it]"
     ]
    },
    {
     "name": "stdout",
     "output_type": "stream",
     "text": [
      "Failed to download video from https://www.youtube.com/watch?v=_y7n7ttUN0Y. Reason: _y7n7ttUN0Y is unavailable\n"
     ]
    },
    {
     "name": "stderr",
     "output_type": "stream",
     "text": [
      "\r",
      " 13%|█████████▍                                                              | 2093/16054 [2:45:31<4:44:01,  1.22s/it]"
     ]
    },
    {
     "name": "stdout",
     "output_type": "stream",
     "text": [
      "Failed to download video from https://www.youtube.com/watch?v=_y7n7ttUN0Y. Reason: _y7n7ttUN0Y is unavailable\n"
     ]
    },
    {
     "name": "stderr",
     "output_type": "stream",
     "text": [
      "\r",
      " 13%|█████████▍                                                              | 2094/16054 [2:45:34<6:36:52,  1.71s/it]"
     ]
    },
    {
     "name": "stdout",
     "output_type": "stream",
     "text": [
      "Failed to download video from https://www.youtube.com/watch?v=_y7n7ttUN0Y. Reason: _y7n7ttUN0Y is unavailable\n"
     ]
    },
    {
     "name": "stderr",
     "output_type": "stream",
     "text": [
      "\r",
      " 13%|█████████▍                                                              | 2095/16054 [2:45:35<6:29:33,  1.67s/it]"
     ]
    },
    {
     "name": "stdout",
     "output_type": "stream",
     "text": [
      "Failed to download video from https://www.youtube.com/watch?v=_y7n7ttUN0Y. Reason: _y7n7ttUN0Y is unavailable\n"
     ]
    },
    {
     "name": "stderr",
     "output_type": "stream",
     "text": [
      "\r",
      " 13%|█████████▍                                                              | 2096/16054 [2:45:37<6:05:56,  1.57s/it]"
     ]
    },
    {
     "name": "stdout",
     "output_type": "stream",
     "text": [
      "Failed to download video from https://www.youtube.com/watch?v=_y7n7ttUN0Y. Reason: _y7n7ttUN0Y is unavailable\n"
     ]
    },
    {
     "name": "stderr",
     "output_type": "stream",
     "text": [
      "\r",
      " 13%|█████████▍                                                              | 2097/16054 [2:45:38<5:46:56,  1.49s/it]"
     ]
    },
    {
     "name": "stdout",
     "output_type": "stream",
     "text": [
      "Failed to download video from https://www.youtube.com/watch?v=_y7n7ttUN0Y. Reason: _y7n7ttUN0Y is unavailable\n"
     ]
    },
    {
     "name": "stderr",
     "output_type": "stream",
     "text": [
      "\r",
      " 13%|█████████▍                                                              | 2098/16054 [2:45:39<5:19:53,  1.38s/it]"
     ]
    },
    {
     "name": "stdout",
     "output_type": "stream",
     "text": [
      "Failed to download video from https://www.youtube.com/watch?v=_y7n7ttUN0Y. Reason: _y7n7ttUN0Y is unavailable\n"
     ]
    },
    {
     "name": "stderr",
     "output_type": "stream",
     "text": [
      "\r",
      " 13%|█████████▍                                                              | 2099/16054 [2:45:40<5:12:06,  1.34s/it]"
     ]
    },
    {
     "name": "stdout",
     "output_type": "stream",
     "text": [
      "Failed to download video from https://www.youtube.com/watch?v=_y7n7ttUN0Y. Reason: _y7n7ttUN0Y is unavailable\n"
     ]
    },
    {
     "name": "stderr",
     "output_type": "stream",
     "text": [
      "\r",
      " 13%|█████████▍                                                              | 2100/16054 [2:45:42<5:11:00,  1.34s/it]"
     ]
    },
    {
     "name": "stdout",
     "output_type": "stream",
     "text": [
      "Failed to download video from https://www.youtube.com/watch?v=_y7n7ttUN0Y. Reason: _y7n7ttUN0Y is unavailable\n"
     ]
    },
    {
     "name": "stderr",
     "output_type": "stream",
     "text": [
      "\r",
      " 13%|█████████▍                                                              | 2101/16054 [2:45:43<4:53:48,  1.26s/it]"
     ]
    },
    {
     "name": "stdout",
     "output_type": "stream",
     "text": [
      "Failed to download video from https://www.youtube.com/watch?v=_y7n7ttUN0Y. Reason: _y7n7ttUN0Y is unavailable\n"
     ]
    },
    {
     "name": "stderr",
     "output_type": "stream",
     "text": [
      "\r",
      " 13%|█████████▍                                                              | 2102/16054 [2:45:44<4:52:34,  1.26s/it]"
     ]
    },
    {
     "name": "stdout",
     "output_type": "stream",
     "text": [
      "Failed to download video from https://www.youtube.com/watch?v=_y7n7ttUN0Y. Reason: _y7n7ttUN0Y is unavailable\n"
     ]
    },
    {
     "name": "stderr",
     "output_type": "stream",
     "text": [
      "\r",
      " 13%|█████████▍                                                              | 2103/16054 [2:45:45<4:56:54,  1.28s/it]"
     ]
    },
    {
     "name": "stdout",
     "output_type": "stream",
     "text": [
      "Failed to download video from https://www.youtube.com/watch?v=_y7n7ttUN0Y. Reason: _y7n7ttUN0Y is unavailable\n"
     ]
    },
    {
     "name": "stderr",
     "output_type": "stream",
     "text": [
      "\r",
      " 13%|█████████▍                                                              | 2104/16054 [2:45:47<4:44:19,  1.22s/it]"
     ]
    },
    {
     "name": "stdout",
     "output_type": "stream",
     "text": [
      "Failed to download video from https://www.youtube.com/watch?v=_y7n7ttUN0Y. Reason: _y7n7ttUN0Y is unavailable\n"
     ]
    },
    {
     "name": "stderr",
     "output_type": "stream",
     "text": [
      "\r",
      " 13%|█████████▍                                                              | 2105/16054 [2:45:48<4:46:35,  1.23s/it]"
     ]
    },
    {
     "name": "stdout",
     "output_type": "stream",
     "text": [
      "Failed to download video from https://www.youtube.com/watch?v=_y7n7ttUN0Y. Reason: _y7n7ttUN0Y is unavailable\n"
     ]
    },
    {
     "name": "stderr",
     "output_type": "stream",
     "text": [
      " 13%|█████████▎                                                             | 2111/16054 [2:46:23<18:19:02,  4.73s/it]\n"
     ]
    },
    {
     "ename": "KeyboardInterrupt",
     "evalue": "",
     "output_type": "error",
     "traceback": [
      "\u001b[0;31m---------------------------------------------------------------------------\u001b[0m",
      "\u001b[0;31mKeyboardInterrupt\u001b[0m                         Traceback (most recent call last)",
      "Cell \u001b[0;32mIn[9], line 64\u001b[0m\n\u001b[1;32m     61\u001b[0m     \u001b[38;5;28;01mreturn\u001b[39;00m np\u001b[38;5;241m.\u001b[39marray(data), np\u001b[38;5;241m.\u001b[39marray(labels)\n\u001b[1;32m     63\u001b[0m \u001b[38;5;66;03m# Data Preprocessing\u001b[39;00m\n\u001b[0;32m---> 64\u001b[0m train_images, train_labels \u001b[38;5;241m=\u001b[39m \u001b[43mdataframe_to_dataset\u001b[49m\u001b[43m(\u001b[49m\u001b[43mMSASL_train\u001b[49m\u001b[43m)\u001b[49m\n\u001b[1;32m     65\u001b[0m test_images, test_labels \u001b[38;5;241m=\u001b[39m dataframe_to_dataset(MSASL_test)\n\u001b[1;32m     66\u001b[0m val_images, val_labels \u001b[38;5;241m=\u001b[39m dataframe_to_dataset(MSASL_val)\n",
      "Cell \u001b[0;32mIn[9], line 57\u001b[0m, in \u001b[0;36mdataframe_to_dataset\u001b[0;34m(df)\u001b[0m\n\u001b[1;32m     55\u001b[0m labels \u001b[38;5;241m=\u001b[39m []\n\u001b[1;32m     56\u001b[0m \u001b[38;5;28;01mfor\u001b[39;00m _, row \u001b[38;5;129;01min\u001b[39;00m tqdm(df\u001b[38;5;241m.\u001b[39miterrows(), total\u001b[38;5;241m=\u001b[39m\u001b[38;5;28mlen\u001b[39m(df)):\n\u001b[0;32m---> 57\u001b[0m     frames \u001b[38;5;241m=\u001b[39m \u001b[43mvideo_to_frames\u001b[49m\u001b[43m(\u001b[49m\u001b[43mrow\u001b[49m\u001b[43m[\u001b[49m\u001b[38;5;124;43m'\u001b[39;49m\u001b[38;5;124;43murl\u001b[39;49m\u001b[38;5;124;43m'\u001b[39;49m\u001b[43m]\u001b[49m\u001b[43m,\u001b[49m\u001b[43m \u001b[49m\u001b[43mrow\u001b[49m\u001b[43m[\u001b[49m\u001b[38;5;124;43m'\u001b[39;49m\u001b[38;5;124;43mstart_time\u001b[39;49m\u001b[38;5;124;43m'\u001b[39;49m\u001b[43m]\u001b[49m\u001b[43m,\u001b[49m\u001b[43m \u001b[49m\u001b[43mrow\u001b[49m\u001b[43m[\u001b[49m\u001b[38;5;124;43m'\u001b[39;49m\u001b[38;5;124;43mend_time\u001b[39;49m\u001b[38;5;124;43m'\u001b[39;49m\u001b[43m]\u001b[49m\u001b[43m,\u001b[49m\u001b[43m \u001b[49m\u001b[43mrow\u001b[49m\u001b[43m[\u001b[49m\u001b[38;5;124;43m'\u001b[39;49m\u001b[38;5;124;43mbox\u001b[39;49m\u001b[38;5;124;43m'\u001b[39;49m\u001b[43m]\u001b[49m\u001b[43m,\u001b[49m\u001b[43m \u001b[49m\u001b[43mrow\u001b[49m\u001b[43m[\u001b[49m\u001b[38;5;124;43m'\u001b[39;49m\u001b[38;5;124;43mwidth\u001b[39;49m\u001b[38;5;124;43m'\u001b[39;49m\u001b[43m]\u001b[49m\u001b[43m,\u001b[49m\u001b[43m \u001b[49m\u001b[43mrow\u001b[49m\u001b[43m[\u001b[49m\u001b[38;5;124;43m'\u001b[39;49m\u001b[38;5;124;43mheight\u001b[39;49m\u001b[38;5;124;43m'\u001b[39;49m\u001b[43m]\u001b[49m\u001b[43m)\u001b[49m\n\u001b[1;32m     58\u001b[0m     \u001b[38;5;28;01mif\u001b[39;00m frames:\n\u001b[1;32m     59\u001b[0m         data\u001b[38;5;241m.\u001b[39mappend(frames[\u001b[38;5;241m0\u001b[39m])\n",
      "Cell \u001b[0;32mIn[9], line 26\u001b[0m, in \u001b[0;36mvideo_to_frames\u001b[0;34m(url, start_time, end_time, bbox, width, height)\u001b[0m\n\u001b[1;32m     23\u001b[0m \u001b[38;5;28;01mtry\u001b[39;00m:\n\u001b[1;32m     24\u001b[0m     \u001b[38;5;66;03m# Download the video using pytube\u001b[39;00m\n\u001b[1;32m     25\u001b[0m     yt \u001b[38;5;241m=\u001b[39m YouTube(url)\n\u001b[0;32m---> 26\u001b[0m     stream \u001b[38;5;241m=\u001b[39m \u001b[43myt\u001b[49m\u001b[38;5;241;43m.\u001b[39;49m\u001b[43mstreams\u001b[49m\u001b[38;5;241m.\u001b[39mfilter(progressive\u001b[38;5;241m=\u001b[39m\u001b[38;5;28;01mTrue\u001b[39;00m, file_extension\u001b[38;5;241m=\u001b[39m\u001b[38;5;124m\"\u001b[39m\u001b[38;5;124mmp4\u001b[39m\u001b[38;5;124m\"\u001b[39m)\u001b[38;5;241m.\u001b[39mfirst()\n\u001b[1;32m     27\u001b[0m     stream\u001b[38;5;241m.\u001b[39mdownload(filename\u001b[38;5;241m=\u001b[39mtemp_file)\n\u001b[1;32m     28\u001b[0m \u001b[38;5;28;01mexcept\u001b[39;00m \u001b[38;5;167;01mException\u001b[39;00m \u001b[38;5;28;01mas\u001b[39;00m e:\n",
      "File \u001b[0;32m~/miniconda/envs/tf_m1/lib/python3.8/site-packages/pytube/__main__.py:295\u001b[0m, in \u001b[0;36mYouTube.streams\u001b[0;34m(self)\u001b[0m\n\u001b[1;32m    289\u001b[0m \u001b[38;5;129m@property\u001b[39m\n\u001b[1;32m    290\u001b[0m \u001b[38;5;28;01mdef\u001b[39;00m \u001b[38;5;21mstreams\u001b[39m(\u001b[38;5;28mself\u001b[39m) \u001b[38;5;241m-\u001b[39m\u001b[38;5;241m>\u001b[39m StreamQuery:\n\u001b[1;32m    291\u001b[0m \u001b[38;5;250m    \u001b[39m\u001b[38;5;124;03m\"\"\"Interface to query both adaptive (DASH) and progressive streams.\u001b[39;00m\n\u001b[1;32m    292\u001b[0m \n\u001b[1;32m    293\u001b[0m \u001b[38;5;124;03m    :rtype: :class:`StreamQuery <StreamQuery>`.\u001b[39;00m\n\u001b[1;32m    294\u001b[0m \u001b[38;5;124;03m    \"\"\"\u001b[39;00m\n\u001b[0;32m--> 295\u001b[0m     \u001b[38;5;28;43mself\u001b[39;49m\u001b[38;5;241;43m.\u001b[39;49m\u001b[43mcheck_availability\u001b[49m\u001b[43m(\u001b[49m\u001b[43m)\u001b[49m\n\u001b[1;32m    296\u001b[0m     \u001b[38;5;28;01mreturn\u001b[39;00m StreamQuery(\u001b[38;5;28mself\u001b[39m\u001b[38;5;241m.\u001b[39mfmt_streams)\n",
      "File \u001b[0;32m~/miniconda/envs/tf_m1/lib/python3.8/site-packages/pytube/__main__.py:210\u001b[0m, in \u001b[0;36mYouTube.check_availability\u001b[0;34m(self)\u001b[0m\n\u001b[1;32m    204\u001b[0m \u001b[38;5;28;01mdef\u001b[39;00m \u001b[38;5;21mcheck_availability\u001b[39m(\u001b[38;5;28mself\u001b[39m):\n\u001b[1;32m    205\u001b[0m \u001b[38;5;250m    \u001b[39m\u001b[38;5;124;03m\"\"\"Check whether the video is available.\u001b[39;00m\n\u001b[1;32m    206\u001b[0m \n\u001b[1;32m    207\u001b[0m \u001b[38;5;124;03m    Raises different exceptions based on why the video is unavailable,\u001b[39;00m\n\u001b[1;32m    208\u001b[0m \u001b[38;5;124;03m    otherwise does nothing.\u001b[39;00m\n\u001b[1;32m    209\u001b[0m \u001b[38;5;124;03m    \"\"\"\u001b[39;00m\n\u001b[0;32m--> 210\u001b[0m     status, messages \u001b[38;5;241m=\u001b[39m extract\u001b[38;5;241m.\u001b[39mplayability_status(\u001b[38;5;28;43mself\u001b[39;49m\u001b[38;5;241;43m.\u001b[39;49m\u001b[43mwatch_html\u001b[49m)\n\u001b[1;32m    212\u001b[0m     \u001b[38;5;28;01mfor\u001b[39;00m reason \u001b[38;5;129;01min\u001b[39;00m messages:\n\u001b[1;32m    213\u001b[0m         \u001b[38;5;28;01mif\u001b[39;00m status \u001b[38;5;241m==\u001b[39m \u001b[38;5;124m'\u001b[39m\u001b[38;5;124mUNPLAYABLE\u001b[39m\u001b[38;5;124m'\u001b[39m:\n",
      "File \u001b[0;32m~/miniconda/envs/tf_m1/lib/python3.8/site-packages/pytube/__main__.py:102\u001b[0m, in \u001b[0;36mYouTube.watch_html\u001b[0;34m(self)\u001b[0m\n\u001b[1;32m    100\u001b[0m \u001b[38;5;28;01mif\u001b[39;00m \u001b[38;5;28mself\u001b[39m\u001b[38;5;241m.\u001b[39m_watch_html:\n\u001b[1;32m    101\u001b[0m     \u001b[38;5;28;01mreturn\u001b[39;00m \u001b[38;5;28mself\u001b[39m\u001b[38;5;241m.\u001b[39m_watch_html\n\u001b[0;32m--> 102\u001b[0m \u001b[38;5;28mself\u001b[39m\u001b[38;5;241m.\u001b[39m_watch_html \u001b[38;5;241m=\u001b[39m \u001b[43mrequest\u001b[49m\u001b[38;5;241;43m.\u001b[39;49m\u001b[43mget\u001b[49m\u001b[43m(\u001b[49m\u001b[43murl\u001b[49m\u001b[38;5;241;43m=\u001b[39;49m\u001b[38;5;28;43mself\u001b[39;49m\u001b[38;5;241;43m.\u001b[39;49m\u001b[43mwatch_url\u001b[49m\u001b[43m)\u001b[49m\n\u001b[1;32m    103\u001b[0m \u001b[38;5;28;01mreturn\u001b[39;00m \u001b[38;5;28mself\u001b[39m\u001b[38;5;241m.\u001b[39m_watch_html\n",
      "File \u001b[0;32m~/miniconda/envs/tf_m1/lib/python3.8/site-packages/pytube/request.py:53\u001b[0m, in \u001b[0;36mget\u001b[0;34m(url, extra_headers, timeout)\u001b[0m\n\u001b[1;32m     51\u001b[0m \u001b[38;5;28;01mif\u001b[39;00m extra_headers \u001b[38;5;129;01mis\u001b[39;00m \u001b[38;5;28;01mNone\u001b[39;00m:\n\u001b[1;32m     52\u001b[0m     extra_headers \u001b[38;5;241m=\u001b[39m {}\n\u001b[0;32m---> 53\u001b[0m response \u001b[38;5;241m=\u001b[39m \u001b[43m_execute_request\u001b[49m\u001b[43m(\u001b[49m\u001b[43murl\u001b[49m\u001b[43m,\u001b[49m\u001b[43m \u001b[49m\u001b[43mheaders\u001b[49m\u001b[38;5;241;43m=\u001b[39;49m\u001b[43mextra_headers\u001b[49m\u001b[43m,\u001b[49m\u001b[43m \u001b[49m\u001b[43mtimeout\u001b[49m\u001b[38;5;241;43m=\u001b[39;49m\u001b[43mtimeout\u001b[49m\u001b[43m)\u001b[49m\n\u001b[1;32m     54\u001b[0m \u001b[38;5;28;01mreturn\u001b[39;00m response\u001b[38;5;241m.\u001b[39mread()\u001b[38;5;241m.\u001b[39mdecode(\u001b[38;5;124m\"\u001b[39m\u001b[38;5;124mutf-8\u001b[39m\u001b[38;5;124m\"\u001b[39m)\n",
      "File \u001b[0;32m~/miniconda/envs/tf_m1/lib/python3.8/site-packages/pytube/request.py:37\u001b[0m, in \u001b[0;36m_execute_request\u001b[0;34m(url, method, headers, data, timeout)\u001b[0m\n\u001b[1;32m     35\u001b[0m \u001b[38;5;28;01melse\u001b[39;00m:\n\u001b[1;32m     36\u001b[0m     \u001b[38;5;28;01mraise\u001b[39;00m \u001b[38;5;167;01mValueError\u001b[39;00m(\u001b[38;5;124m\"\u001b[39m\u001b[38;5;124mInvalid URL\u001b[39m\u001b[38;5;124m\"\u001b[39m)\n\u001b[0;32m---> 37\u001b[0m \u001b[38;5;28;01mreturn\u001b[39;00m \u001b[43murlopen\u001b[49m\u001b[43m(\u001b[49m\u001b[43mrequest\u001b[49m\u001b[43m,\u001b[49m\u001b[43m \u001b[49m\u001b[43mtimeout\u001b[49m\u001b[38;5;241;43m=\u001b[39;49m\u001b[43mtimeout\u001b[49m\u001b[43m)\u001b[49m\n",
      "File \u001b[0;32m~/miniconda/envs/tf_m1/lib/python3.8/urllib/request.py:222\u001b[0m, in \u001b[0;36murlopen\u001b[0;34m(url, data, timeout, cafile, capath, cadefault, context)\u001b[0m\n\u001b[1;32m    220\u001b[0m \u001b[38;5;28;01melse\u001b[39;00m:\n\u001b[1;32m    221\u001b[0m     opener \u001b[38;5;241m=\u001b[39m _opener\n\u001b[0;32m--> 222\u001b[0m \u001b[38;5;28;01mreturn\u001b[39;00m \u001b[43mopener\u001b[49m\u001b[38;5;241;43m.\u001b[39;49m\u001b[43mopen\u001b[49m\u001b[43m(\u001b[49m\u001b[43murl\u001b[49m\u001b[43m,\u001b[49m\u001b[43m \u001b[49m\u001b[43mdata\u001b[49m\u001b[43m,\u001b[49m\u001b[43m \u001b[49m\u001b[43mtimeout\u001b[49m\u001b[43m)\u001b[49m\n",
      "File \u001b[0;32m~/miniconda/envs/tf_m1/lib/python3.8/urllib/request.py:525\u001b[0m, in \u001b[0;36mOpenerDirector.open\u001b[0;34m(self, fullurl, data, timeout)\u001b[0m\n\u001b[1;32m    522\u001b[0m     req \u001b[38;5;241m=\u001b[39m meth(req)\n\u001b[1;32m    524\u001b[0m sys\u001b[38;5;241m.\u001b[39maudit(\u001b[38;5;124m'\u001b[39m\u001b[38;5;124murllib.Request\u001b[39m\u001b[38;5;124m'\u001b[39m, req\u001b[38;5;241m.\u001b[39mfull_url, req\u001b[38;5;241m.\u001b[39mdata, req\u001b[38;5;241m.\u001b[39mheaders, req\u001b[38;5;241m.\u001b[39mget_method())\n\u001b[0;32m--> 525\u001b[0m response \u001b[38;5;241m=\u001b[39m \u001b[38;5;28;43mself\u001b[39;49m\u001b[38;5;241;43m.\u001b[39;49m\u001b[43m_open\u001b[49m\u001b[43m(\u001b[49m\u001b[43mreq\u001b[49m\u001b[43m,\u001b[49m\u001b[43m \u001b[49m\u001b[43mdata\u001b[49m\u001b[43m)\u001b[49m\n\u001b[1;32m    527\u001b[0m \u001b[38;5;66;03m# post-process response\u001b[39;00m\n\u001b[1;32m    528\u001b[0m meth_name \u001b[38;5;241m=\u001b[39m protocol\u001b[38;5;241m+\u001b[39m\u001b[38;5;124m\"\u001b[39m\u001b[38;5;124m_response\u001b[39m\u001b[38;5;124m\"\u001b[39m\n",
      "File \u001b[0;32m~/miniconda/envs/tf_m1/lib/python3.8/urllib/request.py:542\u001b[0m, in \u001b[0;36mOpenerDirector._open\u001b[0;34m(self, req, data)\u001b[0m\n\u001b[1;32m    539\u001b[0m     \u001b[38;5;28;01mreturn\u001b[39;00m result\n\u001b[1;32m    541\u001b[0m protocol \u001b[38;5;241m=\u001b[39m req\u001b[38;5;241m.\u001b[39mtype\n\u001b[0;32m--> 542\u001b[0m result \u001b[38;5;241m=\u001b[39m \u001b[38;5;28;43mself\u001b[39;49m\u001b[38;5;241;43m.\u001b[39;49m\u001b[43m_call_chain\u001b[49m\u001b[43m(\u001b[49m\u001b[38;5;28;43mself\u001b[39;49m\u001b[38;5;241;43m.\u001b[39;49m\u001b[43mhandle_open\u001b[49m\u001b[43m,\u001b[49m\u001b[43m \u001b[49m\u001b[43mprotocol\u001b[49m\u001b[43m,\u001b[49m\u001b[43m \u001b[49m\u001b[43mprotocol\u001b[49m\u001b[43m \u001b[49m\u001b[38;5;241;43m+\u001b[39;49m\n\u001b[1;32m    543\u001b[0m \u001b[43m                          \u001b[49m\u001b[38;5;124;43m'\u001b[39;49m\u001b[38;5;124;43m_open\u001b[39;49m\u001b[38;5;124;43m'\u001b[39;49m\u001b[43m,\u001b[49m\u001b[43m \u001b[49m\u001b[43mreq\u001b[49m\u001b[43m)\u001b[49m\n\u001b[1;32m    544\u001b[0m \u001b[38;5;28;01mif\u001b[39;00m result:\n\u001b[1;32m    545\u001b[0m     \u001b[38;5;28;01mreturn\u001b[39;00m result\n",
      "File \u001b[0;32m~/miniconda/envs/tf_m1/lib/python3.8/urllib/request.py:502\u001b[0m, in \u001b[0;36mOpenerDirector._call_chain\u001b[0;34m(self, chain, kind, meth_name, *args)\u001b[0m\n\u001b[1;32m    500\u001b[0m \u001b[38;5;28;01mfor\u001b[39;00m handler \u001b[38;5;129;01min\u001b[39;00m handlers:\n\u001b[1;32m    501\u001b[0m     func \u001b[38;5;241m=\u001b[39m \u001b[38;5;28mgetattr\u001b[39m(handler, meth_name)\n\u001b[0;32m--> 502\u001b[0m     result \u001b[38;5;241m=\u001b[39m \u001b[43mfunc\u001b[49m\u001b[43m(\u001b[49m\u001b[38;5;241;43m*\u001b[39;49m\u001b[43margs\u001b[49m\u001b[43m)\u001b[49m\n\u001b[1;32m    503\u001b[0m     \u001b[38;5;28;01mif\u001b[39;00m result \u001b[38;5;129;01mis\u001b[39;00m \u001b[38;5;129;01mnot\u001b[39;00m \u001b[38;5;28;01mNone\u001b[39;00m:\n\u001b[1;32m    504\u001b[0m         \u001b[38;5;28;01mreturn\u001b[39;00m result\n",
      "File \u001b[0;32m~/miniconda/envs/tf_m1/lib/python3.8/urllib/request.py:1397\u001b[0m, in \u001b[0;36mHTTPSHandler.https_open\u001b[0;34m(self, req)\u001b[0m\n\u001b[1;32m   1396\u001b[0m \u001b[38;5;28;01mdef\u001b[39;00m \u001b[38;5;21mhttps_open\u001b[39m(\u001b[38;5;28mself\u001b[39m, req):\n\u001b[0;32m-> 1397\u001b[0m     \u001b[38;5;28;01mreturn\u001b[39;00m \u001b[38;5;28;43mself\u001b[39;49m\u001b[38;5;241;43m.\u001b[39;49m\u001b[43mdo_open\u001b[49m\u001b[43m(\u001b[49m\u001b[43mhttp\u001b[49m\u001b[38;5;241;43m.\u001b[39;49m\u001b[43mclient\u001b[49m\u001b[38;5;241;43m.\u001b[39;49m\u001b[43mHTTPSConnection\u001b[49m\u001b[43m,\u001b[49m\u001b[43m \u001b[49m\u001b[43mreq\u001b[49m\u001b[43m,\u001b[49m\n\u001b[1;32m   1398\u001b[0m \u001b[43m        \u001b[49m\u001b[43mcontext\u001b[49m\u001b[38;5;241;43m=\u001b[39;49m\u001b[38;5;28;43mself\u001b[39;49m\u001b[38;5;241;43m.\u001b[39;49m\u001b[43m_context\u001b[49m\u001b[43m,\u001b[49m\u001b[43m \u001b[49m\u001b[43mcheck_hostname\u001b[49m\u001b[38;5;241;43m=\u001b[39;49m\u001b[38;5;28;43mself\u001b[39;49m\u001b[38;5;241;43m.\u001b[39;49m\u001b[43m_check_hostname\u001b[49m\u001b[43m)\u001b[49m\n",
      "File \u001b[0;32m~/miniconda/envs/tf_m1/lib/python3.8/urllib/request.py:1354\u001b[0m, in \u001b[0;36mAbstractHTTPHandler.do_open\u001b[0;34m(self, http_class, req, **http_conn_args)\u001b[0m\n\u001b[1;32m   1352\u001b[0m \u001b[38;5;28;01mtry\u001b[39;00m:\n\u001b[1;32m   1353\u001b[0m     \u001b[38;5;28;01mtry\u001b[39;00m:\n\u001b[0;32m-> 1354\u001b[0m         \u001b[43mh\u001b[49m\u001b[38;5;241;43m.\u001b[39;49m\u001b[43mrequest\u001b[49m\u001b[43m(\u001b[49m\u001b[43mreq\u001b[49m\u001b[38;5;241;43m.\u001b[39;49m\u001b[43mget_method\u001b[49m\u001b[43m(\u001b[49m\u001b[43m)\u001b[49m\u001b[43m,\u001b[49m\u001b[43m \u001b[49m\u001b[43mreq\u001b[49m\u001b[38;5;241;43m.\u001b[39;49m\u001b[43mselector\u001b[49m\u001b[43m,\u001b[49m\u001b[43m \u001b[49m\u001b[43mreq\u001b[49m\u001b[38;5;241;43m.\u001b[39;49m\u001b[43mdata\u001b[49m\u001b[43m,\u001b[49m\u001b[43m \u001b[49m\u001b[43mheaders\u001b[49m\u001b[43m,\u001b[49m\n\u001b[1;32m   1355\u001b[0m \u001b[43m                  \u001b[49m\u001b[43mencode_chunked\u001b[49m\u001b[38;5;241;43m=\u001b[39;49m\u001b[43mreq\u001b[49m\u001b[38;5;241;43m.\u001b[39;49m\u001b[43mhas_header\u001b[49m\u001b[43m(\u001b[49m\u001b[38;5;124;43m'\u001b[39;49m\u001b[38;5;124;43mTransfer-encoding\u001b[39;49m\u001b[38;5;124;43m'\u001b[39;49m\u001b[43m)\u001b[49m\u001b[43m)\u001b[49m\n\u001b[1;32m   1356\u001b[0m     \u001b[38;5;28;01mexcept\u001b[39;00m \u001b[38;5;167;01mOSError\u001b[39;00m \u001b[38;5;28;01mas\u001b[39;00m err: \u001b[38;5;66;03m# timeout error\u001b[39;00m\n\u001b[1;32m   1357\u001b[0m         \u001b[38;5;28;01mraise\u001b[39;00m URLError(err)\n",
      "File \u001b[0;32m~/miniconda/envs/tf_m1/lib/python3.8/http/client.py:1256\u001b[0m, in \u001b[0;36mHTTPConnection.request\u001b[0;34m(self, method, url, body, headers, encode_chunked)\u001b[0m\n\u001b[1;32m   1253\u001b[0m \u001b[38;5;28;01mdef\u001b[39;00m \u001b[38;5;21mrequest\u001b[39m(\u001b[38;5;28mself\u001b[39m, method, url, body\u001b[38;5;241m=\u001b[39m\u001b[38;5;28;01mNone\u001b[39;00m, headers\u001b[38;5;241m=\u001b[39m{}, \u001b[38;5;241m*\u001b[39m,\n\u001b[1;32m   1254\u001b[0m             encode_chunked\u001b[38;5;241m=\u001b[39m\u001b[38;5;28;01mFalse\u001b[39;00m):\n\u001b[1;32m   1255\u001b[0m \u001b[38;5;250m    \u001b[39m\u001b[38;5;124;03m\"\"\"Send a complete request to the server.\"\"\"\u001b[39;00m\n\u001b[0;32m-> 1256\u001b[0m     \u001b[38;5;28;43mself\u001b[39;49m\u001b[38;5;241;43m.\u001b[39;49m\u001b[43m_send_request\u001b[49m\u001b[43m(\u001b[49m\u001b[43mmethod\u001b[49m\u001b[43m,\u001b[49m\u001b[43m \u001b[49m\u001b[43murl\u001b[49m\u001b[43m,\u001b[49m\u001b[43m \u001b[49m\u001b[43mbody\u001b[49m\u001b[43m,\u001b[49m\u001b[43m \u001b[49m\u001b[43mheaders\u001b[49m\u001b[43m,\u001b[49m\u001b[43m \u001b[49m\u001b[43mencode_chunked\u001b[49m\u001b[43m)\u001b[49m\n",
      "File \u001b[0;32m~/miniconda/envs/tf_m1/lib/python3.8/http/client.py:1302\u001b[0m, in \u001b[0;36mHTTPConnection._send_request\u001b[0;34m(self, method, url, body, headers, encode_chunked)\u001b[0m\n\u001b[1;32m   1298\u001b[0m \u001b[38;5;28;01mif\u001b[39;00m \u001b[38;5;28misinstance\u001b[39m(body, \u001b[38;5;28mstr\u001b[39m):\n\u001b[1;32m   1299\u001b[0m     \u001b[38;5;66;03m# RFC 2616 Section 3.7.1 says that text default has a\u001b[39;00m\n\u001b[1;32m   1300\u001b[0m     \u001b[38;5;66;03m# default charset of iso-8859-1.\u001b[39;00m\n\u001b[1;32m   1301\u001b[0m     body \u001b[38;5;241m=\u001b[39m _encode(body, \u001b[38;5;124m'\u001b[39m\u001b[38;5;124mbody\u001b[39m\u001b[38;5;124m'\u001b[39m)\n\u001b[0;32m-> 1302\u001b[0m \u001b[38;5;28;43mself\u001b[39;49m\u001b[38;5;241;43m.\u001b[39;49m\u001b[43mendheaders\u001b[49m\u001b[43m(\u001b[49m\u001b[43mbody\u001b[49m\u001b[43m,\u001b[49m\u001b[43m \u001b[49m\u001b[43mencode_chunked\u001b[49m\u001b[38;5;241;43m=\u001b[39;49m\u001b[43mencode_chunked\u001b[49m\u001b[43m)\u001b[49m\n",
      "File \u001b[0;32m~/miniconda/envs/tf_m1/lib/python3.8/http/client.py:1251\u001b[0m, in \u001b[0;36mHTTPConnection.endheaders\u001b[0;34m(self, message_body, encode_chunked)\u001b[0m\n\u001b[1;32m   1249\u001b[0m \u001b[38;5;28;01melse\u001b[39;00m:\n\u001b[1;32m   1250\u001b[0m     \u001b[38;5;28;01mraise\u001b[39;00m CannotSendHeader()\n\u001b[0;32m-> 1251\u001b[0m \u001b[38;5;28;43mself\u001b[39;49m\u001b[38;5;241;43m.\u001b[39;49m\u001b[43m_send_output\u001b[49m\u001b[43m(\u001b[49m\u001b[43mmessage_body\u001b[49m\u001b[43m,\u001b[49m\u001b[43m \u001b[49m\u001b[43mencode_chunked\u001b[49m\u001b[38;5;241;43m=\u001b[39;49m\u001b[43mencode_chunked\u001b[49m\u001b[43m)\u001b[49m\n",
      "File \u001b[0;32m~/miniconda/envs/tf_m1/lib/python3.8/http/client.py:1011\u001b[0m, in \u001b[0;36mHTTPConnection._send_output\u001b[0;34m(self, message_body, encode_chunked)\u001b[0m\n\u001b[1;32m   1009\u001b[0m msg \u001b[38;5;241m=\u001b[39m \u001b[38;5;124mb\u001b[39m\u001b[38;5;124m\"\u001b[39m\u001b[38;5;130;01m\\r\u001b[39;00m\u001b[38;5;130;01m\\n\u001b[39;00m\u001b[38;5;124m\"\u001b[39m\u001b[38;5;241m.\u001b[39mjoin(\u001b[38;5;28mself\u001b[39m\u001b[38;5;241m.\u001b[39m_buffer)\n\u001b[1;32m   1010\u001b[0m \u001b[38;5;28;01mdel\u001b[39;00m \u001b[38;5;28mself\u001b[39m\u001b[38;5;241m.\u001b[39m_buffer[:]\n\u001b[0;32m-> 1011\u001b[0m \u001b[38;5;28;43mself\u001b[39;49m\u001b[38;5;241;43m.\u001b[39;49m\u001b[43msend\u001b[49m\u001b[43m(\u001b[49m\u001b[43mmsg\u001b[49m\u001b[43m)\u001b[49m\n\u001b[1;32m   1013\u001b[0m \u001b[38;5;28;01mif\u001b[39;00m message_body \u001b[38;5;129;01mis\u001b[39;00m \u001b[38;5;129;01mnot\u001b[39;00m \u001b[38;5;28;01mNone\u001b[39;00m:\n\u001b[1;32m   1014\u001b[0m \n\u001b[1;32m   1015\u001b[0m     \u001b[38;5;66;03m# create a consistent interface to message_body\u001b[39;00m\n\u001b[1;32m   1016\u001b[0m     \u001b[38;5;28;01mif\u001b[39;00m \u001b[38;5;28mhasattr\u001b[39m(message_body, \u001b[38;5;124m'\u001b[39m\u001b[38;5;124mread\u001b[39m\u001b[38;5;124m'\u001b[39m):\n\u001b[1;32m   1017\u001b[0m         \u001b[38;5;66;03m# Let file-like take precedence over byte-like.  This\u001b[39;00m\n\u001b[1;32m   1018\u001b[0m         \u001b[38;5;66;03m# is needed to allow the current position of mmap'ed\u001b[39;00m\n\u001b[1;32m   1019\u001b[0m         \u001b[38;5;66;03m# files to be taken into account.\u001b[39;00m\n",
      "File \u001b[0;32m~/miniconda/envs/tf_m1/lib/python3.8/http/client.py:951\u001b[0m, in \u001b[0;36mHTTPConnection.send\u001b[0;34m(self, data)\u001b[0m\n\u001b[1;32m    949\u001b[0m \u001b[38;5;28;01mif\u001b[39;00m \u001b[38;5;28mself\u001b[39m\u001b[38;5;241m.\u001b[39msock \u001b[38;5;129;01mis\u001b[39;00m \u001b[38;5;28;01mNone\u001b[39;00m:\n\u001b[1;32m    950\u001b[0m     \u001b[38;5;28;01mif\u001b[39;00m \u001b[38;5;28mself\u001b[39m\u001b[38;5;241m.\u001b[39mauto_open:\n\u001b[0;32m--> 951\u001b[0m         \u001b[38;5;28;43mself\u001b[39;49m\u001b[38;5;241;43m.\u001b[39;49m\u001b[43mconnect\u001b[49m\u001b[43m(\u001b[49m\u001b[43m)\u001b[49m\n\u001b[1;32m    952\u001b[0m     \u001b[38;5;28;01melse\u001b[39;00m:\n\u001b[1;32m    953\u001b[0m         \u001b[38;5;28;01mraise\u001b[39;00m NotConnected()\n",
      "File \u001b[0;32m~/miniconda/envs/tf_m1/lib/python3.8/http/client.py:1418\u001b[0m, in \u001b[0;36mHTTPSConnection.connect\u001b[0;34m(self)\u001b[0m\n\u001b[1;32m   1415\u001b[0m \u001b[38;5;28;01mdef\u001b[39;00m \u001b[38;5;21mconnect\u001b[39m(\u001b[38;5;28mself\u001b[39m):\n\u001b[1;32m   1416\u001b[0m     \u001b[38;5;124m\"\u001b[39m\u001b[38;5;124mConnect to a host on a given (SSL) port.\u001b[39m\u001b[38;5;124m\"\u001b[39m\n\u001b[0;32m-> 1418\u001b[0m     \u001b[38;5;28;43msuper\u001b[39;49m\u001b[43m(\u001b[49m\u001b[43m)\u001b[49m\u001b[38;5;241;43m.\u001b[39;49m\u001b[43mconnect\u001b[49m\u001b[43m(\u001b[49m\u001b[43m)\u001b[49m\n\u001b[1;32m   1420\u001b[0m     \u001b[38;5;28;01mif\u001b[39;00m \u001b[38;5;28mself\u001b[39m\u001b[38;5;241m.\u001b[39m_tunnel_host:\n\u001b[1;32m   1421\u001b[0m         server_hostname \u001b[38;5;241m=\u001b[39m \u001b[38;5;28mself\u001b[39m\u001b[38;5;241m.\u001b[39m_tunnel_host\n",
      "File \u001b[0;32m~/miniconda/envs/tf_m1/lib/python3.8/http/client.py:922\u001b[0m, in \u001b[0;36mHTTPConnection.connect\u001b[0;34m(self)\u001b[0m\n\u001b[1;32m    920\u001b[0m \u001b[38;5;28;01mdef\u001b[39;00m \u001b[38;5;21mconnect\u001b[39m(\u001b[38;5;28mself\u001b[39m):\n\u001b[1;32m    921\u001b[0m \u001b[38;5;250m    \u001b[39m\u001b[38;5;124;03m\"\"\"Connect to the host and port specified in __init__.\"\"\"\u001b[39;00m\n\u001b[0;32m--> 922\u001b[0m     \u001b[38;5;28mself\u001b[39m\u001b[38;5;241m.\u001b[39msock \u001b[38;5;241m=\u001b[39m \u001b[38;5;28;43mself\u001b[39;49m\u001b[38;5;241;43m.\u001b[39;49m\u001b[43m_create_connection\u001b[49m\u001b[43m(\u001b[49m\n\u001b[1;32m    923\u001b[0m \u001b[43m        \u001b[49m\u001b[43m(\u001b[49m\u001b[38;5;28;43mself\u001b[39;49m\u001b[38;5;241;43m.\u001b[39;49m\u001b[43mhost\u001b[49m\u001b[43m,\u001b[49m\u001b[38;5;28;43mself\u001b[39;49m\u001b[38;5;241;43m.\u001b[39;49m\u001b[43mport\u001b[49m\u001b[43m)\u001b[49m\u001b[43m,\u001b[49m\u001b[43m \u001b[49m\u001b[38;5;28;43mself\u001b[39;49m\u001b[38;5;241;43m.\u001b[39;49m\u001b[43mtimeout\u001b[49m\u001b[43m,\u001b[49m\u001b[43m \u001b[49m\u001b[38;5;28;43mself\u001b[39;49m\u001b[38;5;241;43m.\u001b[39;49m\u001b[43msource_address\u001b[49m\u001b[43m)\u001b[49m\n\u001b[1;32m    924\u001b[0m     \u001b[38;5;28mself\u001b[39m\u001b[38;5;241m.\u001b[39msock\u001b[38;5;241m.\u001b[39msetsockopt(socket\u001b[38;5;241m.\u001b[39mIPPROTO_TCP, socket\u001b[38;5;241m.\u001b[39mTCP_NODELAY, \u001b[38;5;241m1\u001b[39m)\n\u001b[1;32m    926\u001b[0m     \u001b[38;5;28;01mif\u001b[39;00m \u001b[38;5;28mself\u001b[39m\u001b[38;5;241m.\u001b[39m_tunnel_host:\n",
      "File \u001b[0;32m~/miniconda/envs/tf_m1/lib/python3.8/socket.py:796\u001b[0m, in \u001b[0;36mcreate_connection\u001b[0;34m(address, timeout, source_address)\u001b[0m\n\u001b[1;32m    794\u001b[0m \u001b[38;5;28;01mif\u001b[39;00m source_address:\n\u001b[1;32m    795\u001b[0m     sock\u001b[38;5;241m.\u001b[39mbind(source_address)\n\u001b[0;32m--> 796\u001b[0m \u001b[43msock\u001b[49m\u001b[38;5;241;43m.\u001b[39;49m\u001b[43mconnect\u001b[49m\u001b[43m(\u001b[49m\u001b[43msa\u001b[49m\u001b[43m)\u001b[49m\n\u001b[1;32m    797\u001b[0m \u001b[38;5;66;03m# Break explicitly a reference cycle\u001b[39;00m\n\u001b[1;32m    798\u001b[0m err \u001b[38;5;241m=\u001b[39m \u001b[38;5;28;01mNone\u001b[39;00m\n",
      "\u001b[0;31mKeyboardInterrupt\u001b[0m: "
     ]
    }
   ],
   "source": [
    "import pandas as pd\n",
    "import cv2\n",
    "import requests\n",
    "import numpy as np\n",
    "import tensorflow as tf\n",
    "from tqdm import tqdm\n",
    "from pytube import YouTube\n",
    "\n",
    "\n",
    "# Define constants\n",
    "IMAGE_HEIGHT, IMAGE_WIDTH, NUM_CLASSES, EPOCHS = 128, 128, 1000, 10\n",
    "\n",
    "# Load dataset\n",
    "dataset_download_path = \"./asl_dataset\"\n",
    "MSASL_train = pd.read_json(\"/Users/archishabhattacharya/Desktop/Test/MS-ASL/MSASL_train.json\".format(dataset_download_path))\n",
    "MSASL_test = pd.read_json(\"/Users/archishabhattacharya/Desktop/Test/MS-ASL/MSASL_test.json\".format(dataset_download_path))\n",
    "MSASL_val = pd.read_json(\"/Users/archishabhattacharya/Desktop/Test/MS-ASL/MSASL_val.json\".format(dataset_download_path))\n",
    "\n",
    "def video_to_frames(url, start_time, end_time, bbox, width, height):\n",
    "    frames = []\n",
    "    temp_file = \"temp_video.mp4\"\n",
    "\n",
    "    try:\n",
    "        # Download the video using pytube\n",
    "        yt = YouTube(url)\n",
    "        stream = yt.streams.filter(progressive=True, file_extension=\"mp4\").first()\n",
    "        stream.download(filename=temp_file)\n",
    "    except Exception as e:\n",
    "        print(f\"Failed to download video from {url}. Reason: {e}\")\n",
    "        return frames  # Return an empty list for private videos or any other download error\n",
    "\n",
    "    # Now read with OpenCV from the downloaded temporary file, NOT the URL\n",
    "    vid = cv2.VideoCapture(temp_file)\n",
    "    \n",
    "    if not vid.isOpened():  # Check if video is loaded correctly\n",
    "        print(f\"Failed to read video from {temp_file}\")\n",
    "        return frames\n",
    "    \n",
    "    for timepoint in np.arange(start_time, end_time, 1/30):  # Assuming 30fps for sampling\n",
    "        vid.set(cv2.CAP_PROP_POS_MSEC, timepoint*1000)\n",
    "        ret, frame = vid.read()\n",
    "        if ret:\n",
    "            y0, x0, y1, x1 = [int(coord * dim) for coord, dim in zip(bbox, [height, width, height, width])]\n",
    "            roi = frame[y0:y1, x0:x1]  # Extract the region of interest\n",
    "            frames.append(cv2.resize(roi, (IMAGE_WIDTH, IMAGE_HEIGHT)))\n",
    "\n",
    "    # Cleanup\n",
    "    vid.release()\n",
    "    os.remove(temp_file)\n",
    "    \n",
    "    return frames\n",
    "\n",
    "def dataframe_to_dataset(df):\n",
    "    data = []\n",
    "    labels = []\n",
    "    for _, row in tqdm(df.iterrows(), total=len(df)):\n",
    "        frames = video_to_frames(row['url'], row['start_time'], row['end_time'], row['box'], row['width'], row['height'])\n",
    "        if frames:\n",
    "            data.append(frames[0])\n",
    "            labels.append(row['label'])\n",
    "    return np.array(data), np.array(labels)\n",
    "\n",
    "# Data Preprocessing\n",
    "train_images, train_labels = dataframe_to_dataset(MSASL_train)\n",
    "test_images, test_labels = dataframe_to_dataset(MSASL_test)\n",
    "val_images, val_labels = dataframe_to_dataset(MSASL_val)\n",
    "\n",
    "train_images = train_images / 255.0\n",
    "test_images = test_images / 255.0\n",
    "val_images = val_images / 255.0\n",
    "\n",
    "# Model Architecture\n",
    "model = Sequential([\n",
    "    Conv2D(32, (3, 3), activation='relu', input_shape=(IMAGE_HEIGHT, IMAGE_WIDTH, 3)), \n",
    "    MaxPooling2D(2, 2),\n",
    "    Conv2D(64, (3, 3), activation='relu'),\n",
    "    MaxPooling2D(2, 2),\n",
    "    Conv2D(128, (3, 3), activation='relu'),\n",
    "    MaxPooling2D(2, 2),\n",
    "    Flatten(),\n",
    "    Dense(512, activation='relu'),\n",
    "    Dropout(0.5),\n",
    "    Dense(NUM_CLASSES, activation='softmax')\n",
    "])\n",
    "\n",
    "model.compile(optimizer='adam', loss='sparse_categorical_crossentropy', metrics=['accuracy'])\n",
    "\n",
    "# Train the Model\n",
    "model.fit(train_images, train_labels, epochs=EPOCHS, validation_data=(val_images, val_labels))\n",
    "\n",
    "# Evaluate the Model\n",
    "test_loss, test_acc = model.evaluate(test_images, test_labels)\n",
    "print(f\"Test accuracy: {test_acc}\")\n"
   ]
  },
  {
   "cell_type": "code",
   "execution_count": null,
   "id": "719896f7",
   "metadata": {},
   "outputs": [],
   "source": []
  }
 ],
 "metadata": {
  "kernelspec": {
   "display_name": "Python 3 (ipykernel)",
   "language": "python",
   "name": "python3"
  },
  "language_info": {
   "codemirror_mode": {
    "name": "ipython",
    "version": 3
   },
   "file_extension": ".py",
   "mimetype": "text/x-python",
   "name": "python",
   "nbconvert_exporter": "python",
   "pygments_lexer": "ipython3",
   "version": "3.8.16"
  }
 },
 "nbformat": 4,
 "nbformat_minor": 5
}
