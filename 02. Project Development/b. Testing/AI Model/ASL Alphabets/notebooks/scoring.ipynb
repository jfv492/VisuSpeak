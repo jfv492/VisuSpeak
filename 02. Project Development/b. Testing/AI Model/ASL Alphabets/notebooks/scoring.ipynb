{
 "cells": [
  {
   "cell_type": "code",
   "execution_count": 4,
   "metadata": {
    "collapsed": false
   },
   "outputs": [
    {
     "name": "stdout",
     "output_type": "stream",
     "text": [
      "/Users/Belal/Projects/sign2text\n"
     ]
    }
   ],
   "source": [
    "cd /Users/Belal/Projects/sign2text/"
   ]
  },
  {
   "cell_type": "code",
   "execution_count": 6,
   "metadata": {
    "collapsed": false
   },
   "outputs": [
    {
     "name": "stderr",
     "output_type": "stream",
     "text": [
      "Using TensorFlow backend.\n"
     ]
    }
   ],
   "source": [
    "import string\n",
    "import cv2\n",
    "from processing import square_pad, preprocess_for_vgg\n",
    "from keras.applications import ResNet50, VGG16, InceptionV3, Xception\n",
    "from keras.preprocessing.image import ImageDataGenerator\n",
    "from keras.optimizers import Adadelta\n",
    "from keras.layers import Input\n",
    "from model import create_model\n",
    "import argparse\n",
    "import numpy as np"
   ]
  },
  {
   "cell_type": "code",
   "execution_count": 8,
   "metadata": {
    "collapsed": false
   },
   "outputs": [
    {
     "name": "stdout",
     "output_type": "stream",
     "text": [
      "[INFO] loading vgg16...\n",
      "[INFO] creating model.\n",
      "[INFO] loading model weights.\n"
     ]
    }
   ],
   "source": [
    "# ====== Create model for evaluation ======\n",
    "# =========================================\n",
    "\n",
    "batch_size = 32\n",
    "num_channels = 3\n",
    "weights = \"weights/vgg16_pretrain_weights.h5\"\n",
    "\n",
    "# Create pre-trained model + classification block, with or without pre-trained weights\n",
    "my_model = create_model(model=\"vgg16\", model_weights_path=weights)\n",
    "\n",
    "# Dictionary to convert numerical classes to alphabet\n",
    "label_dict = {pos: letter\n",
    "              for pos, letter in enumerate(string.ascii_uppercase)}\n"
   ]
  },
  {
   "cell_type": "code",
   "execution_count": 9,
   "metadata": {
    "collapsed": false
   },
   "outputs": [],
   "source": [
    "my_model.compile(optimizer=Adadelta(),\n",
    "                 loss='categorical_crossentropy',\n",
    "                 metrics=['accuracy'])"
   ]
  },
  {
   "cell_type": "code",
   "execution_count": 10,
   "metadata": {
    "collapsed": false
   },
   "outputs": [
    {
     "name": "stdout",
     "output_type": "stream",
     "text": [
      "Found 374 images belonging to 26 classes.\n"
     ]
    }
   ],
   "source": [
    "# define validation data generator\n",
    "\n",
    "test_datagen = ImageDataGenerator(rescale=1.,\n",
    "                                  featurewise_center=True)\n",
    "\n",
    "test_datagen.mean = np.array([103.939, 116.779, 123.68], dtype=np.float32).reshape(1, 1, 3)\n",
    "\n",
    "test_generator = test_datagen.flow_from_directory(\n",
    "            \"./train_data/FINAL_DATA/validation/\",\n",
    "            target_size=(224, 224),\n",
    "            batch_size=32,\n",
    "            class_mode=\"categorical\",\n",
    "            color_mode=\"rgb\",\n",
    "            shuffle=False\n",
    "            )"
   ]
  },
  {
   "cell_type": "code",
   "execution_count": 34,
   "metadata": {
    "collapsed": false
   },
   "outputs": [],
   "source": [
    "score = my_model.predict_generator(test_generator, steps=12, workers=6, pickle_safe=False)"
   ]
  },
  {
   "cell_type": "code",
   "execution_count": 35,
   "metadata": {
    "collapsed": false
   },
   "outputs": [
    {
     "name": "stdout",
     "output_type": "stream",
     "text": [
      "acc: 97.80%\n"
     ]
    }
   ],
   "source": [
    "# evaluate the model using test generator\n",
    "scores = my_model.evaluate_generator(test_generator, steps=12, workers=7, pickle_safe=False)\n",
    "print(\"%s: %.2f%%\" % (my_model.metrics_names[1], scores[1]*100))\n",
    "\n",
    "#cvscores.append(scores[1] * 100)\n",
    "#print(\"%.2f%% (+/- %.2f%%)\" % (numpy.mean(cvscores), numpy.std(cvscores)))"
   ]
  },
  {
   "cell_type": "code",
   "execution_count": 30,
   "metadata": {
    "collapsed": false
   },
   "outputs": [
    {
     "data": {
      "text/plain": [
       "0"
      ]
     },
     "execution_count": 30,
     "metadata": {},
     "output_type": "execute_result"
    }
   ],
   "source": [
    "np.argmax(score)"
   ]
  },
  {
   "cell_type": "code",
   "execution_count": 33,
   "metadata": {
    "collapsed": false
   },
   "outputs": [
    {
     "data": {
      "text/plain": [
       "1.0"
      ]
     },
     "execution_count": 33,
     "metadata": {},
     "output_type": "execute_result"
    }
   ],
   "source": [
    "np.max(score[0])"
   ]
  },
  {
   "cell_type": "code",
   "execution_count": null,
   "metadata": {
    "collapsed": true
   },
   "outputs": [],
   "source": [
    "from sklearn import metrics\n",
    ">>> y_true = [0, 1, 2, 0, 1, 2]\n",
    ">>> y_pred = [0, 2, 1, 0, 0, 1]\n",
    "metrics.precision_score(y_true, y_pred, average='macro')  \n",
    "metrics.recall_score(y_true, y_pred, average='micro')\n",
    "metrics.f1_score(y_true, y_pred, average='weighted')  \n",
    "metrics.fbeta_score(y_true, y_pred, average='macro', beta=0.5)  \n",
    "metrics.precision_recall_fscore_support(y_true, y_pred, beta=0.5, average=None)\n"
   ]
  }
 ],
 "metadata": {
  "anaconda-cloud": {},
  "kernelspec": {
   "display_name": "Python [conda env:opencv]",
   "language": "python",
   "name": "conda-env-opencv-py"
  },
  "language_info": {
   "codemirror_mode": {
    "name": "ipython",
    "version": 3
   },
   "file_extension": ".py",
   "mimetype": "text/x-python",
   "name": "python",
   "nbconvert_exporter": "python",
   "pygments_lexer": "ipython3",
   "version": "3.5.2"
  }
 },
 "nbformat": 4,
 "nbformat_minor": 1
}
