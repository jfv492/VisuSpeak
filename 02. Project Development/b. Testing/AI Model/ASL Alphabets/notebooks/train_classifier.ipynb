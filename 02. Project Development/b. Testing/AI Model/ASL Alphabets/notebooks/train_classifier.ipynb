{
 "cells": [
  {
   "cell_type": "code",
   "execution_count": 1,
   "metadata": {
    "collapsed": false,
    "deletable": true,
    "editable": true
   },
   "outputs": [
    {
     "name": "stderr",
     "output_type": "stream",
     "text": [
      "Using TensorFlow backend.\n"
     ]
    }
   ],
   "source": [
    "# import the necessary packages\n",
    "import numpy as np\n",
    "import os\n",
    "import h5py\n",
    "from glob import glob\n",
    "import string\n",
    "\n",
    "import matplotlib.pyplot as plt\n",
    "from PIL import Image\n",
    "\n",
    "from keras.applications.vgg16 import VGG16\n",
    "from keras.applications.resnet50 import ResNet50\n",
    "from keras.applications.inception_v3 import InceptionV3\n",
    "from keras.applications.xception import Xception\n",
    "from keras.applications.mobilenet import MobileNet\n",
    "\n",
    "from keras.layers import Flatten, Dense, GlobalAveragePooling2D, Dropout, Convolution2D, MaxPooling2D, Activation\n",
    "from keras.models import Sequential, Model\n",
    "from keras.callbacks import History, ModelCheckpoint, Callback\n",
    "from keras.preprocessing.image import img_to_array\n",
    "from keras.preprocessing.image import load_img\n",
    "from keras.preprocessing.image import ImageDataGenerator\n",
    "from keras.utils.np_utils import to_categorical\n",
    "from keras.optimizers import Adadelta, Adagrad, Adam, Adamax, Nadam\n",
    "\n",
    "from sklearn.model_selection import StratifiedShuffleSplit, train_test_split\n",
    "from sklearn.ensemble import RandomForestClassifier\n"
   ]
  },
  {
   "cell_type": "markdown",
   "metadata": {
    "collapsed": false,
    "deletable": true,
    "editable": true
   },
   "source": [
    "## LOAD BOTTLENECK FEATURES"
   ]
  },
  {
   "cell_type": "code",
   "execution_count": 2,
   "metadata": {
    "collapsed": false,
    "deletable": true,
    "editable": true
   },
   "outputs": [],
   "source": [
    "#LOAD DATA\n",
    "\n",
    "vgg_train = np.load(\"../bottleneck_features/vgg16_train_bottleneck_features.pkl_01.npy\")\n",
    "vgg_train_y = np.load(\"../bottleneck_features/vgg16_train_bottleneck_labels.pkl\")\n",
    "vgg_test = np.load(\"../bottleneck_features/vgg16_test_bottleneck_features.pkl_01.npy\")\n",
    "vgg_test_y = np.load(\"../bottleneck_features/vgg16_test_bottleneck_labels.pkl\")\n",
    "\n",
    "res_train = np.load(\"../bottleneck_features/resnet_train_bottleneck_features.pkl_01.npy\")\n",
    "res_train_y = np.load(\"../bottleneck_features/resnet_train_bottleneck_labels.pkl\")\n",
    "res_test = np.load(\"../bottleneck_features/resnet_test_bottleneck_features.pkl_01.npy\")\n",
    "res_test_y = np.load(\"../bottleneck_features/resnet_test_bottleneck_labels.pkl\")\n",
    "\n",
    "inc_train = np.load(\"../bottleneck_features/inception_train_bottleneck_features.pkl_01.npy\")\n",
    "inc_train_y = np.load(\"../bottleneck_features/inception_train_bottleneck_labels.pkl\")\n",
    "inc_test = np.load(\"../bottleneck_features/inception_test_bottleneck_features.pkl_01.npy\")\n",
    "inc_test_y = np.load(\"../bottleneck_features/inception_test_bottleneck_labels.pkl\")\n",
    "\n",
    "xc_train = np.load(\"../bottleneck_features/xception_train_bottleneck_features.pkl_01.npy\")\n",
    "xc_train_y = np.load(\"../bottleneck_features/xception_train_bottleneck_labels.pkl\")\n",
    "xc_test = np.load(\"../bottleneck_features/xception_test_bottleneck_features.pkl_01.npy\")\n",
    "xc_test_y = np.load(\"../bottleneck_features/xception_test_bottleneck_labels.pkl\")\n",
    "\n",
    "mob_train = np.load(\"../bottleneck_features/mobilenet_train_bottleneck_features.pkl_01.npy\")\n",
    "mob_train_y = np.load(\"../bottleneck_features/mobilenet_train_bottleneck_labels.pkl\")\n",
    "mob_test = np.load(\"../bottleneck_features/mobilenet_test_bottleneck_features.pkl_01.npy\")\n",
    "mob_test_y = np.load(\"../bottleneck_features/mobilenet_test_bottleneck_labels.pkl\")"
   ]
  },
  {
   "cell_type": "code",
   "execution_count": null,
   "metadata": {
    "collapsed": false,
    "deletable": true,
    "editable": true
   },
   "outputs": [],
   "source": [
    "print(np.array(vgg_train).shape, np.array(vgg_test).shape)\n",
    "print(np.array(vgg_train_y).shape, np.array(vgg_test_y).shape)"
   ]
  },
  {
   "cell_type": "code",
   "execution_count": null,
   "metadata": {
    "collapsed": false,
    "deletable": true,
    "editable": true
   },
   "outputs": [],
   "source": [
    "print(np.array(res_train).shape, np.array(res_test).shape)\n",
    "print(np.array(res_train_y).shape, np.array(res_test_y).shape)"
   ]
  },
  {
   "cell_type": "code",
   "execution_count": null,
   "metadata": {
    "collapsed": false,
    "deletable": true,
    "editable": true
   },
   "outputs": [],
   "source": [
    "print(np.array(inc_train).shape, np.array(inc_test).shape)\n",
    "print(np.array(inc_train_y).shape, np.array(inc_test_y).shape)"
   ]
  },
  {
   "cell_type": "code",
   "execution_count": null,
   "metadata": {
    "collapsed": false,
    "deletable": true,
    "editable": true
   },
   "outputs": [],
   "source": [
    "print(np.array(xc_train).shape, np.array(xc_test).shape)\n",
    "print(np.array(xc_train_y).shape, np.array(xc_test_y).shape)"
   ]
  },
  {
   "cell_type": "code",
   "execution_count": null,
   "metadata": {
    "collapsed": false,
    "deletable": true,
    "editable": true
   },
   "outputs": [],
   "source": [
    "print(np.array(mob_train).shape, np.array(mob_test).shape)\n",
    "print(np.array(mob_train_y).shape, np.array(mob_test_y).shape)"
   ]
  },
  {
   "cell_type": "markdown",
   "metadata": {
    "collapsed": false,
    "deletable": true,
    "editable": true
   },
   "source": [
    "## TRAIN CLASSIFICATION BLOCK"
   ]
  },
  {
   "cell_type": "code",
   "execution_count": null,
   "metadata": {
    "collapsed": true,
    "deletable": true,
    "editable": true
   },
   "outputs": [],
   "source": [
    "vgg = [vgg_train, vgg_train_y, vgg_test, vgg_test_y]\n",
    "res = [res_train, res_train_y, res_test, res_test_y]\n",
    "inc = [inc_train, inc_train_y, inc_test, inc_test_y]\n",
    "xc = [xc_train, xc_train_y, xc_test,xc_test_y]\n",
    "mob = [mob_train, mob_train_y, mob_test, mob_test_y]"
   ]
  },
  {
   "cell_type": "code",
   "execution_count": null,
   "metadata": {
    "collapsed": true,
    "deletable": true,
    "editable": true
   },
   "outputs": [],
   "source": [
    "def my_preprocess(x):\n",
    "    train_y = to_categorical(x[1], num_classes=26)\n",
    "    test_y = to_categorical(x[3], num_classes=26)\n",
    "    reshaped_test = x[2].reshape(x[2].shape[0], -1)\n",
    "    reshaped_train = x[0].reshape(x[0].shape[0], -1)\n",
    "    return (train_y, test_y, reshaped_train, reshaped_test)\n",
    "    assert(train_x.shape[1] == test_x.shape[1])"
   ]
  },
  {
   "cell_type": "code",
   "execution_count": null,
   "metadata": {
    "collapsed": false,
    "deletable": true,
    "editable": true,
    "scrolled": true
   },
   "outputs": [],
   "source": [
    "#################\n",
    "batch_size = 32\n",
    "nb_classes = 26\n",
    "nb_epoch = 100\n",
    "image_size = 244\n",
    "num_channels = 'rgb'\n",
    "#################\n",
    "\n",
    "names = [\"mob\"]\n",
    "c = 0\n",
    "\n",
    "for net in [mob]:\n",
    "            \n",
    "    train_y, test_y, train_x, test_x = my_preprocess(net)\n",
    "    filepath = \"snapshot_\" + names[c] + \"_weights.hdf5\"\n",
    "    \n",
    "    # TO SAVE CONTINUOUS SNAPSHOTS\n",
    "    save_snapshots = ModelCheckpoint(filepath,\n",
    "                                     monitor='val_acc',\n",
    "                                     save_best_only=True,\n",
    "                                     save_weights_only=True,\n",
    "                                     mode='max',\n",
    "                                     verbose=1)\n",
    "    \n",
    "    # Save loss history\n",
    "    class LossHistory(Callback):\n",
    "        def on_train_begin(self, logs={}):\n",
    "            self.losses = []\n",
    "            self.accuracy = []\n",
    "\n",
    "        def on_batch_end(self, batch, logs={}):\n",
    "            self.losses.append(logs.get('loss'))\n",
    "            self.accuracy.append(logs.get('acc'))\n",
    "\n",
    "    loss_history = LossHistory()\n",
    "    callbacks_list = [save_snapshots, loss_history]\n",
    "    \n",
    "    # LOAD MODEL\n",
    "    \n",
    "    print(\"loading model...\")\n",
    "    model = Sequential()\n",
    "\n",
    "    model.add(Dense(256, input_shape=(train_x.shape[1], )))\n",
    "    model.add(Activation('relu'))\n",
    "    model.add(Dropout(0.25))\n",
    "\n",
    "    model.add(Dense(nb_classes))\n",
    "    model.add(Activation('softmax'))\n",
    "\n",
    "    model.compile(loss='categorical_crossentropy',\n",
    "                  optimizer=Adadelta(),\n",
    "                  metrics=['accuracy'])\n",
    "\n",
    "    print(\"model loaded.\")\n",
    "    \n",
    "    # TRAIN MODEL\n",
    "    \n",
    "    print(\"fitting model...\")\n",
    "    \n",
    "    neural_net = model.fit(train_x, train_y, batch_size=64, epochs=50, verbose=0, callbacks=callbacks_list, \n",
    "                         validation_split=0.0, validation_data=(test_x, test_y), shuffle=True, \n",
    "                         class_weight=None, sample_weight=None, initial_epoch=0)\n",
    "    \n",
    "    print(\"done!\")\n",
    "    print(\"saving logs + weights...\")\n",
    "    \n",
    "    # SAVE WEIGHTS + LOGS\n",
    "    #model.save_weights(filepath)\n",
    "    \n",
    "    evaluation_cost = neural_net.history['val_loss']\n",
    "    evaluation_accuracy = neural_net.history['val_acc']\n",
    "    training_cost = neural_net.history['loss']\n",
    "    training_accuracy = neural_net.history['acc']\n",
    "\n",
    "    np.save(names[c] + \"_evaluation_cost.npy\", evaluation_cost)\n",
    "    np.save(names[c] + \"_evaluation_accuracy.npy\", evaluation_accuracy)\n",
    "    np.save(names[c] + \"_training_cost.npy\", training_cost)\n",
    "    np.save(names[c] + \"_training_accuracy.npy\", training_accuracy)\n",
    "    c+=1\n",
    "\n"
   ]
  },
  {
   "cell_type": "code",
   "execution_count": null,
   "metadata": {
    "collapsed": true,
    "deletable": true,
    "editable": true
   },
   "outputs": [],
   "source": []
  },
  {
   "cell_type": "markdown",
   "metadata": {
    "deletable": true,
    "editable": true
   },
   "source": [
    "### OTHER APPROACHES"
   ]
  },
  {
   "cell_type": "code",
   "execution_count": null,
   "metadata": {
    "collapsed": true,
    "deletable": true,
    "editable": true
   },
   "outputs": [],
   "source": [
    "# Create label dictionary\n",
    "label_dict = {}\n",
    "for pos, letter in enumerate(string.ascii_lowercase):\n",
    "    label_dict[pos] = letter"
   ]
  },
  {
   "cell_type": "code",
   "execution_count": null,
   "metadata": {
    "collapsed": false,
    "deletable": true,
    "editable": true
   },
   "outputs": [],
   "source": [
    "from sklearn.metrics import confusion_matrix\n",
    "from seaborn import heatmap\n",
    "import numpy as np\n",
    "\n",
    "from sklearn.multiclass import OneVsRestClassifier\n",
    "from sklearn.ensemble import AdaBoostClassifier, GradientBoostingClassifier, RandomForestClassifier\n",
    "from sklearn.svm import LinearSVC\n",
    "\n",
    "from keras.utils.np_utils import to_categorical\n",
    "from sklearn.preprocessing import OneHotEncoder"
   ]
  },
  {
   "cell_type": "code",
   "execution_count": null,
   "metadata": {
    "collapsed": false,
    "deletable": true,
    "editable": true
   },
   "outputs": [],
   "source": [
    "rf = RandomForestClassifier(n_estimators=100, criterion='gini', max_depth=None, \n",
    "                           min_samples_split=2, min_samples_leaf=1, \n",
    "                           min_weight_fraction_leaf=0.0, max_features='auto', \n",
    "                           max_leaf_nodes=None, min_impurity_split=1e-07, \n",
    "                           bootstrap=True, oob_score=False, n_jobs=-1, \n",
    "                           random_state=123, verbose=0, warm_start=False, \n",
    "                           class_weight=None)\n",
    "\n",
    "ovr = OneVsRestClassifier(LinearSVC(random_state=123), n_jobs=-1)\n",
    "\n"
   ]
  },
  {
   "cell_type": "code",
   "execution_count": null,
   "metadata": {
    "collapsed": false,
    "deletable": true,
    "editable": true
   },
   "outputs": [],
   "source": [
    "# RANDOM FOREST\n",
    "\n",
    "scores = []\n",
    "for net in [vgg, res, inc, xc, mob]:\n",
    "    train_y, test_y, train_x, test_x = my_preprocess(net)\n",
    "    rf.fit(X=train_x, y=train_y)\n",
    "    scores.append(rf.score(X=test_x, y=test_y))\n",
    "    \n",
    "list(zip([\"vgg\", \"res\", \"inc\", \"xc\", \"mob\"], scores))"
   ]
  },
  {
   "cell_type": "code",
   "execution_count": null,
   "metadata": {
    "collapsed": false,
    "deletable": true,
    "editable": true,
    "scrolled": true
   },
   "outputs": [],
   "source": [
    "# LINEAR REGRESSION\n",
    "\n",
    "scores = []\n",
    "for net in [vgg, res, inc, xc, mob]:\n",
    "    train_y, test_y, train_x, test_x = my_preprocess(net)\n",
    "    ovr.fit(X=train_x, y=train_y)\n",
    "    scores.append(ovr.score(X=test_x, y=test_y))\n",
    "    \n",
    "list(zip([\"vgg\", \"res\", \"inc\", \"xc\", \"mob\"], scores))\n",
    "\n",
    "ovr.fit(X=reshaped_train, y=train_y)"
   ]
  },
  {
   "cell_type": "code",
   "execution_count": null,
   "metadata": {
    "collapsed": true,
    "deletable": true,
    "editable": true
   },
   "outputs": [],
   "source": [
    "ada = AdaBoostClassifier(base_estimator=None, n_estimators=50, \n",
    "                         learning_rate=1.0, algorithm='SAMME.R', random_state=123)"
   ]
  },
  {
   "cell_type": "code",
   "execution_count": null,
   "metadata": {
    "collapsed": false,
    "deletable": true,
    "editable": true
   },
   "outputs": [],
   "source": [
    "ada.fit(X=reshaped_train, y=res_train_y[:res_train.shape[0]])"
   ]
  },
  {
   "cell_type": "code",
   "execution_count": null,
   "metadata": {
    "collapsed": false,
    "deletable": true,
    "editable": true
   },
   "outputs": [],
   "source": [
    "ada.score(X=reshaped_test, y=(res_test_y[:res_test.shape[0]]))"
   ]
  },
  {
   "cell_type": "code",
   "execution_count": null,
   "metadata": {
    "collapsed": true,
    "deletable": true,
    "editable": true
   },
   "outputs": [],
   "source": [
    "gd = GradientBoostingClassifier(loss='deviance', learning_rate=0.1, n_estimators=100, \n",
    "                                subsample=1.0, criterion='friedman_mse', min_samples_split=2, \n",
    "                                min_samples_leaf=1, min_weight_fraction_leaf=0.0, \n",
    "                                max_depth=3, min_impurity_split=1e-07, init=None, \n",
    "                                random_state=123, max_features=None, verbose=0, \n",
    "                                max_leaf_nodes=None, warm_start=False, presort='auto')"
   ]
  },
  {
   "cell_type": "code",
   "execution_count": null,
   "metadata": {
    "collapsed": false,
    "deletable": true,
    "editable": true
   },
   "outputs": [],
   "source": [
    "gd.fit(X=reshaped_train, y=res_train_y[:res_train.shape[0]])"
   ]
  },
  {
   "cell_type": "code",
   "execution_count": null,
   "metadata": {
    "collapsed": true,
    "deletable": true,
    "editable": true
   },
   "outputs": [],
   "source": [
    "gd.score(X=reshaped_test, y=(res_test_y[:res_test.shape[0]])"
   ]
  },
  {
   "cell_type": "markdown",
   "metadata": {
    "deletable": true,
    "editable": true
   },
   "source": [
    "# OTHER"
   ]
  },
  {
   "cell_type": "code",
   "execution_count": null,
   "metadata": {
    "collapsed": false,
    "deletable": true,
    "editable": true
   },
   "outputs": [],
   "source": [
    "\n",
    "\n",
    "vgg_model = VGG16(include_top=False)\n",
    "res_model = ResNet50(include_top=False)\n",
    "\n",
    "\n",
    "def preprocess_for_vgg(image, size=224, color=True):\n",
    "    image = cv2.resize(image, (size, size))\n",
    "    x = np.array(image, dtype=float)\n",
    "    x_fake_batch = x.reshape(1, *x.shape)\n",
    "    x = x_fake_batch\n",
    "    # 'BGR' -> 'RGB'\n",
    "    #x = x[:, :, :, ::-1]\n",
    "    if color:\n",
    "        # Zero-center by mean pixel\n",
    "        x[:, :, :, 0] -= 103.939\n",
    "        x[:, :, :, 1] -= 116.779\n",
    "        x[:, :, :, 2] -= 123.68\n",
    "    return x\n",
    "\n",
    "#convert class letters to integer values\n",
    "\n",
    "img_a = cv2.imread(\"../../train_data/FINAL_DATA/grayscale/train/a/my_gray_processed_a_029.png\",0)"
   ]
  },
  {
   "cell_type": "code",
   "execution_count": 3,
   "metadata": {
    "collapsed": false,
    "deletable": true,
    "editable": true
   },
   "outputs": [],
   "source": [
    "import matplotlib.pyplot as plt\n",
    "% matplotlib inline\n",
    "\n",
    "import matplotlib\n",
    "\n",
    "\n",
    "\n",
    "def plot_logs(evaluation_cost, evaluation_accuracy, training_cost, training_accuracy):\n",
    "    #evaluation_cost = history.history['val_loss']\n",
    "    #evaluation_accuracy = history.history['val_acc']\n",
    "    #training_cost = history.history['loss']\n",
    "    #training_accuracy = history.history['acc']\n",
    "    f, (ax1, ax2) = plt.subplots(1, 2)\n",
    "    f.set_figwidth(10)\n",
    "    ax1.plot(evaluation_cost,label= 'test')\n",
    "    ax1.plot(training_cost, label='train')\n",
    "    ax1.set_title('Cost')\n",
    "    ax1.legend()\n",
    "    ax2.plot(evaluation_accuracy, label='test')\n",
    "    ax2.plot(training_accuracy, label='train')\n",
    "    ax2.set_title('Accuracy')\n",
    "    ax2.legend(loc='lower right')"
   ]
  },
  {
   "cell_type": "code",
   "execution_count": 11,
   "metadata": {
    "collapsed": false
   },
   "outputs": [
    {
     "name": "stdout",
     "output_type": "stream",
     "text": [
      "/Users/Belal/Projects/sign2text/loss_curves/no_data_augmentation\n"
     ]
    }
   ],
   "source": [
    "cd ../loss_curves/no_data_augmentation/"
   ]
  },
  {
   "cell_type": "code",
   "execution_count": 13,
   "metadata": {
    "collapsed": false,
    "deletable": true,
    "editable": true
   },
   "outputs": [
    {
     "name": "stdout",
     "output_type": "stream",
     "text": [
      "0.0145014226958\n",
      "0.997326203209\n"
     ]
    },
    {
     "data": {
      "image/png": "[encoded data removed]",
      "text/plain": [
       "<matplotlib.figure.Figure at 0x1a3fe4860>"
      ]
     },
     "metadata": {},
     "output_type": "display_data"
    },
    {
     "name": "stdout",
     "output_type": "stream",
     "text": [
      "0.0121498116227\n",
      "1.0\n"
     ]
    },
    {
     "data": {
      "image/png": "[encoded data removed]",
      "text/plain": [
       "<matplotlib.figure.Figure at 0x1a3f29f28>"
      ]
     },
     "metadata": {},
     "output_type": "display_data"
    },
    {
     "name": "stdout",
     "output_type": "stream",
     "text": [
      "15.5578442589\n",
      "0.0347593590856\n"
     ]
    },
    {
     "data": {
      "image/png": "[encoded data removed]",
      "text/plain": [
       "<matplotlib.figure.Figure at 0x1a40758d0>"
      ]
     },
     "metadata": {},
     "output_type": "display_data"
    },
    {
     "name": "stdout",
     "output_type": "stream",
     "text": [
      "0.0217387115005\n",
      "0.997326203209\n"
     ]
    },
    {
     "data": {
      "image/png": "[encoded data removed]",
      "text/plain": [
       "<matplotlib.figure.Figure at 0x1a4573b38>"
      ]
     },
     "metadata": {},
     "output_type": "display_data"
    }
   ],
   "source": [
    "# PLOT CURVES\n",
    "\n",
    "names = [\"vgg\", \"res\", \"inc\", \"mob\"]\n",
    "c = 0\n",
    "\n",
    "for n in names:\n",
    "    evaluation_cost = np.load(n + \"_evaluation_cost.npy\")\n",
    "    print(min(evaluation_cost))\n",
    "    evaluation_accuracy = np.load(n + \"_evaluation_accuracy.npy\")\n",
    "    print(max(evaluation_accuracy))\n",
    "    training_cost = np.load(n + \"_training_cost.npy\")\n",
    "    training_accuracy = np.load(n + \"_training_accuracy.npy\")\n",
    "    c+=1\n",
    "\n",
    "    my_plot = plot_logs(evaluation_cost, evaluation_accuracy, training_cost, training_accuracy)\n",
    "    plt.show()"
   ]
  },
  {
   "cell_type": "code",
   "execution_count": null,
   "metadata": {
    "collapsed": true,
    "deletable": true,
    "editable": true
   },
   "outputs": [],
   "source": []
  }
 ],
 "metadata": {
  "anaconda-cloud": {},
  "kernelspec": {
   "display_name": "Python 3 and OpenCV3",
   "language": "python",
   "name": "py3cv3"
  },
  "language_info": {
   "codemirror_mode": {
    "name": "ipython",
    "version": 3
   },
   "file_extension": ".py",
   "mimetype": "text/x-python",
   "name": "python",
   "nbconvert_exporter": "python",
   "pygments_lexer": "ipython3",
   "version": "3.5.2"
  }
 },
 "nbformat": 4,
 "nbformat_minor": 2
}
