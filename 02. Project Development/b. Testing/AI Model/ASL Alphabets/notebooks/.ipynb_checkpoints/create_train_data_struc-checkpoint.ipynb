{
 "cells": [
  {
   "cell_type": "code",
   "execution_count": 1,
   "metadata": {
    "collapsed": false,
    "deletable": true,
    "editable": true
   },
   "outputs": [
    {
     "name": "stderr",
     "output_type": "stream",
     "text": [
      "Using TensorFlow backend.\n"
     ]
    }
   ],
   "source": [
    "from sklearn.model_selection import StratifiedShuffleSplit, train_test_split\n",
    "from keras.utils.np_utils import to_categorical\n",
    "\n",
    "import numpy as np\n",
    "import argparse\n",
    "import matplotlib.pyplot as plt\n",
    "from PIL import Image\n",
    "\n",
    "import h5py\n",
    "from glob import glob\n",
    "import string\n"
   ]
  },
  {
   "cell_type": "code",
   "execution_count": 2,
   "metadata": {
    "collapsed": false
   },
   "outputs": [],
   "source": [
    "import sys\n",
    "sys.path.append('/Users/Belal/PycharmProjects/sign2text/github_code/code/')"
   ]
  },
  {
   "cell_type": "code",
   "execution_count": 3,
   "metadata": {
    "collapsed": false
   },
   "outputs": [],
   "source": [
    "from processing import square_pad, preprocess_for_vgg, preprocessImg\n",
    "import cv2"
   ]
  },
  {
   "cell_type": "code",
   "execution_count": 5,
   "metadata": {
    "collapsed": false,
    "deletable": true,
    "editable": true
   },
   "outputs": [],
   "source": [
    "# LOAD FROM SINGLE DIRECTORY\n",
    "# SPLIT DATA INTO TRAIN/TEST\n",
    "# SAVE IN TRAIN/TEST FOLDERS USING THE SAME SUB-DIRECTORY STRUCTURE"
   ]
  },
  {
   "cell_type": "code",
   "execution_count": null,
   "metadata": {
    "collapsed": true
   },
   "outputs": [],
   "source": []
  },
  {
   "cell_type": "code",
   "execution_count": 189,
   "metadata": {
    "collapsed": false
   },
   "outputs": [],
   "source": [
    "# LOAD FROM SINGLE DIRECTORY\n",
    "\n",
    "data_dir = \"/Users/Belal/PycharmProjects/sign2text/train_data/my_data_split/test_output/\"\n",
    "\n",
    "list_dirs = glob(train_data_dir+\"*/\")\n",
    "\n",
    "image_size = 244\n",
    "num_channels = 1\n",
    "all_labels = np.empty(0, dtype=np.float32) \n",
    "all_images = np.empty((0, image_size, image_size, num_channels), dtype=np.float32) \n",
    "for folder in list_dirs:\n",
    "    img_out, label_out = preprocessImg(folder, \n",
    "                                      size = image_size,\n",
    "                                      num_channels = num_channels,\n",
    "                                      drop_green=False,\n",
    "                                      gray=True)\n",
    "    \n",
    "    all_labels = np.concatenate((all_labels, label_out), axis=0)\n",
    "    all_images = np.concatenate((all_images, img_out), axis=0)\n",
    "                      "
   ]
  },
  {
   "cell_type": "code",
   "execution_count": null,
   "metadata": {
    "collapsed": false
   },
   "outputs": [],
   "source": []
  },
  {
   "cell_type": "code",
   "execution_count": 193,
   "metadata": {
    "collapsed": false,
    "deletable": true,
    "editable": true
   },
   "outputs": [],
   "source": [
    "# SPLIT DATA INTO TRAIN/TEST"
   ]
  },
  {
   "cell_type": "code",
   "execution_count": 194,
   "metadata": {
    "collapsed": false,
    "deletable": true,
    "editable": true
   },
   "outputs": [],
   "source": [
    "#convert class letters to integer values\n",
    "\n",
    "class_index = {}\n",
    "\n",
    "for pos, letter in enumerate(string.ascii_lowercase):\n",
    "    class_index[letter] = pos\n",
    "    \n",
    "labels_out = np.copy(all_labels)\n",
    "labels_final = [class_index[value] for value in labels_out]"
   ]
  },
  {
   "cell_type": "code",
   "execution_count": 195,
   "metadata": {
    "collapsed": false,
    "deletable": true,
    "editable": true
   },
   "outputs": [],
   "source": [
    "# stratified train-test split\n",
    "\n",
    "sss = StratifiedShuffleSplit(n_splits=1, test_size=0.20, random_state=123)\n",
    "\n",
    "X = all_images.copy()\n",
    "y = np.copy(labels_final)\n",
    "\n",
    "for train_index, test_index in sss.split(X, y):\n",
    "    X_train, X_test = X[train_index], X[test_index]\n",
    "    y_train, y_test = y[train_index], y[test_index]"
   ]
  },
  {
   "cell_type": "code",
   "execution_count": 196,
   "metadata": {
    "collapsed": false
   },
   "outputs": [],
   "source": [
    "#all_images = np.save(\"all_images.npy\", images)\n",
    "#all_labels = np.save(\"all_labels.npy\", labels_final)"
   ]
  },
  {
   "cell_type": "code",
   "execution_count": 197,
   "metadata": {
    "collapsed": false,
    "deletable": true,
    "editable": true
   },
   "outputs": [
    {
     "data": {
      "text/plain": [
       "((218, 26), (55, 26))"
      ]
     },
     "execution_count": 197,
     "metadata": {},
     "output_type": "execute_result"
    }
   ],
   "source": [
    "from keras.utils.np_utils import to_categorical\n",
    "\n",
    "train_labels = to_categorical(y_train, num_classes=26)\n",
    "test_labels = to_categorical(y_test, num_classes=26)\n",
    "\n",
    "train_labels.shape, test_labels.shape"
   ]
  },
  {
   "cell_type": "code",
   "execution_count": 198,
   "metadata": {
    "collapsed": false,
    "deletable": true,
    "editable": true
   },
   "outputs": [
    {
     "name": "stdout",
     "output_type": "stream",
     "text": [
      "(218, 244, 244, 1) (55, 244, 244, 1)\n",
      "(218,) (55,)\n"
     ]
    }
   ],
   "source": [
    "print(X_train.shape, X_test.shape)\n",
    "print(y_train.shape, y_test.shape)"
   ]
  },
  {
   "cell_type": "code",
   "execution_count": 199,
   "metadata": {
    "collapsed": true
   },
   "outputs": [],
   "source": [
    "# SAVE IN TRAIN/TEST FOLDERS USING THE SAME SUB-DIRECTORY STRUCTURE"
   ]
  },
  {
   "cell_type": "code",
   "execution_count": 200,
   "metadata": {
    "collapsed": false
   },
   "outputs": [],
   "source": [
    "#recreate labels\n",
    "pred_index = {}\n",
    "\n",
    "for pos, letter in enumerate(string.ascii_lowercase):\n",
    "    pred_index[pos] = letter\n",
    "    \n",
    "#labels\n",
    "save_train_labels = [pred_index[value] for value in y_train]\n",
    "save_test_labels = [pred_index[value] for value in y_test]"
   ]
  },
  {
   "cell_type": "code",
   "execution_count": 202,
   "metadata": {
    "collapsed": false
   },
   "outputs": [],
   "source": [
    "gray_train_output_dir = \"/Users/Belal/PycharmProjects/sign2text/train_data/my_data_split/grayscale/train/\"\n",
    "gray_validation_output_dir = \"/Users/Belal/PycharmProjects/sign2text/train_data/my_data_split/grayscale/validation/\""
   ]
  },
  {
   "cell_type": "code",
   "execution_count": 203,
   "metadata": {
    "collapsed": false
   },
   "outputs": [],
   "source": [
    "#create subdirectory structure\n",
    "\n",
    "import os\n",
    "\n",
    "for letter in string.ascii_lowercase:\n",
    "    os.makedirs(gray_train_output_dir+letter, exist_ok=True)\n",
    "    os.makedirs(gray_validation_output_dir+letter, exist_ok=True)"
   ]
  },
  {
   "cell_type": "code",
   "execution_count": 204,
   "metadata": {
    "collapsed": false
   },
   "outputs": [],
   "source": [
    "# write TRAIN images to correct subdirectory!\n",
    "\n",
    "prefix = \"/my_gray_processed_\"\n",
    "suffix = \".png\"\n",
    "\n",
    "count=0\n",
    "for img in X_train:\n",
    "    sub_dir = save_train_labels[count]\n",
    "    outname = prefix + sub_dir + \"_%03d%s\" % (count, suffix)\n",
    "    cv2.imwrite(gray_train_output_dir + sub_dir + outname, img)\n",
    "    count+=1"
   ]
  },
  {
   "cell_type": "code",
   "execution_count": 205,
   "metadata": {
    "collapsed": true
   },
   "outputs": [],
   "source": [
    "# write VALIDATION images to correct subdirectory!\n",
    "\n",
    "prefix = \"/my_gray_processed_\"\n",
    "suffix = \".png\"\n",
    "\n",
    "count=0\n",
    "for img in X_test:\n",
    "    sub_dir = save_test_labels[count]\n",
    "    outname = prefix + sub_dir + \"_%03d%s\" % (count, suffix)\n",
    "    cv2.imwrite(gray_validation_output_dir + sub_dir + outname, img)\n",
    "    count+=1"
   ]
  },
  {
   "cell_type": "markdown",
   "metadata": {},
   "source": [
    "# DO THE SAME FOR MY GENERATED IMAGES"
   ]
  },
  {
   "cell_type": "code",
   "execution_count": 34,
   "metadata": {
    "collapsed": false
   },
   "outputs": [],
   "source": [
    "# LOAD FROM SINGLE DIRECTORY\n",
    "\n",
    "train_data_dir = \"/Users/Belal/PycharmProjects/sign2text/train_data/my_data_split/test_output/\"\n",
    "output_dir = \"/Users/Belal/PycharmProjects/sign2text/train_data/my_data_split/\"\n",
    "list_dirs = glob(train_data_dir+\"*/\")\n",
    "\n",
    "image_size = 244\n",
    "num_channels = 3\n",
    "\n",
    "all_labels = np.empty(0, dtype=np.float32) \n",
    "all_images = np.empty((0, image_size, image_size, num_channels), dtype=np.float32) \n",
    "for folder in list_dirs:\n",
    "    img_out, label_out = preprocessImg(folder, \n",
    "                                      size = image_size,\n",
    "                                      num_channels = num_channels,\n",
    "                                      drop_green=False,\n",
    "                                      gray=False)\n",
    "    \n",
    "    all_labels = np.concatenate((all_labels, label_out), axis=0)\n",
    "    all_images = np.concatenate((all_images, img_out), axis=0)\n",
    "                      "
   ]
  },
  {
   "cell_type": "code",
   "execution_count": 37,
   "metadata": {
    "collapsed": false,
    "editable": true
   },
   "outputs": [],
   "source": [
    "# SPLIT DATA INTO TRAIN/TEST"
   ]
  },
  {
   "cell_type": "code",
   "execution_count": 38,
   "metadata": {
    "collapsed": false,
    "editable": true
   },
   "outputs": [],
   "source": [
    "#convert class letters to integer values\n",
    "\n",
    "class_index = {}\n",
    "\n",
    "for pos, letter in enumerate(string.ascii_lowercase):\n",
    "    class_index[letter] = pos\n",
    "    \n",
    "labels_out = np.copy(all_labels)\n",
    "labels_final = [class_index[value] for value in labels_out]"
   ]
  },
  {
   "cell_type": "code",
   "execution_count": 39,
   "metadata": {
    "collapsed": false,
    "editable": true
   },
   "outputs": [],
   "source": [
    "# stratified train-test split\n",
    "\n",
    "sss = StratifiedShuffleSplit(n_splits=1, test_size=0.20, random_state=123)\n",
    "\n",
    "X = all_images.copy()\n",
    "y = np.copy(labels_final)\n",
    "\n",
    "for train_index, test_index in sss.split(X, y):\n",
    "    X_train, X_test = X[train_index], X[test_index]\n",
    "    y_train, y_test = y[train_index], y[test_index]"
   ]
  },
  {
   "cell_type": "code",
   "execution_count": 40,
   "metadata": {
    "collapsed": false
   },
   "outputs": [],
   "source": [
    "#all_images = np.save(\"all_images.npy\", images)\n",
    "#all_labels = np.save(\"all_labels.npy\", labels_final)"
   ]
  },
  {
   "cell_type": "code",
   "execution_count": 41,
   "metadata": {
    "collapsed": false,
    "editable": true
   },
   "outputs": [
    {
     "data": {
      "text/plain": [
       "((220, 26), (55, 26))"
      ]
     },
     "execution_count": 41,
     "metadata": {},
     "output_type": "execute_result"
    }
   ],
   "source": [
    "from keras.utils.np_utils import to_categorical\n",
    "\n",
    "train_labels = to_categorical(y_train, num_classes=26)\n",
    "test_labels = to_categorical(y_test, num_classes=26)\n",
    "\n",
    "train_labels.shape, test_labels.shape"
   ]
  },
  {
   "cell_type": "code",
   "execution_count": 42,
   "metadata": {
    "collapsed": false,
    "editable": true
   },
   "outputs": [
    {
     "name": "stdout",
     "output_type": "stream",
     "text": [
      "(220, 244, 244, 3) (55, 244, 244, 3)\n",
      "(220,) (55,)\n"
     ]
    }
   ],
   "source": [
    "print(X_train.shape, X_test.shape)\n",
    "print(y_train.shape, y_test.shape)"
   ]
  },
  {
   "cell_type": "code",
   "execution_count": 43,
   "metadata": {
    "collapsed": true
   },
   "outputs": [],
   "source": [
    "# SAVE IN TRAIN/TEST FOLDERS USING THE SAME SUB-DIRECTORY STRUCTURE"
   ]
  },
  {
   "cell_type": "code",
   "execution_count": 44,
   "metadata": {
    "collapsed": false
   },
   "outputs": [],
   "source": [
    "#recreate labels\n",
    "pred_index = {}\n",
    "\n",
    "for pos, letter in enumerate(string.ascii_lowercase):\n",
    "    pred_index[pos] = letter\n",
    "    \n",
    "#labels\n",
    "save_train_labels = [pred_index[value] for value in y_train]\n",
    "save_test_labels = [pred_index[value] for value in y_test]"
   ]
  },
  {
   "cell_type": "code",
   "execution_count": 46,
   "metadata": {
    "collapsed": false
   },
   "outputs": [],
   "source": [
    "train_output_dir = output_dir + \"train/\"\n",
    "validation_output_dir = output_dir + \"validation/\""
   ]
  },
  {
   "cell_type": "code",
   "execution_count": 47,
   "metadata": {
    "collapsed": false
   },
   "outputs": [],
   "source": [
    "#create subdirectory structure\n",
    "\n",
    "import os\n",
    "\n",
    "for letter in string.ascii_lowercase:\n",
    "    os.makedirs(train_output_dir+letter, exist_ok=True)\n",
    "    os.makedirs(validation_output_dir+letter, exist_ok=True)"
   ]
  },
  {
   "cell_type": "code",
   "execution_count": 48,
   "metadata": {
    "collapsed": false
   },
   "outputs": [],
   "source": [
    "# write TRAIN images to correct subdirectory!\n",
    "\n",
    "prefix = \"/processed_\"\n",
    "suffix = \".png\"\n",
    "\n",
    "count=0\n",
    "for img in X_train:\n",
    "    sub_dir = save_train_labels[count]\n",
    "    outname = prefix + sub_dir + \"_%03d%s\" % (count, suffix)\n",
    "    cv2.imwrite(train_output_dir + sub_dir + outname, img)\n",
    "    count+=1"
   ]
  },
  {
   "cell_type": "code",
   "execution_count": 49,
   "metadata": {
    "collapsed": true
   },
   "outputs": [],
   "source": [
    "# write VALIDATION images to correct subdirectory!\n",
    "\n",
    "prefix = \"/processed_\"\n",
    "suffix = \".png\"\n",
    "\n",
    "count=0\n",
    "for img in X_test:\n",
    "    sub_dir = save_test_labels[count]\n",
    "    outname = prefix + sub_dir + \"_%03d%s\" % (count, suffix)\n",
    "    cv2.imwrite(validation_output_dir + sub_dir + outname, img)\n",
    "    count+=1"
   ]
  },
  {
   "cell_type": "code",
   "execution_count": 175,
   "metadata": {
    "collapsed": true
   },
   "outputs": [],
   "source": [
    "############### EDIT BACKGROUND"
   ]
  },
  {
   "cell_type": "code",
   "execution_count": 161,
   "metadata": {
    "collapsed": true
   },
   "outputs": [],
   "source": [
    "def edit_bg(img_path, bg_img_path):\n",
    "\n",
    "    imgFront = cv2.imread(img_path)\n",
    "    imgBack = cv2.imread(bg_img_path)\n",
    "    height, width = imgFront.shape[:2]\n",
    "    resizeBack = cv2.resize(imgBack, (width, height), interpolation=cv2.INTER_CUBIC)\n",
    "    for i in range(width):\n",
    "        for j in range(height):\n",
    "            pixel = imgFront[j, i]\n",
    "            if np.all(pixel == [0, 0, 0]):\n",
    "                imgFront[j, i] = resizeBack[j, i]\n",
    "    return imgFront"
   ]
  },
  {
   "cell_type": "markdown",
   "metadata": {},
   "source": [
    "### SPLIT DIRECTORIES"
   ]
  },
  {
   "cell_type": "code",
   "execution_count": 2,
   "metadata": {
    "collapsed": false
   },
   "outputs": [],
   "source": [
    "import os\n",
    "import shutil\n",
    "from glob import glob\n",
    "for path in glob(\"*.png\"):\n",
    "    folder = path[10]\n",
    "    os.makedirs(folder, exist_ok=True)\n",
    "    shutil.copyfile(path, os.path.join(folder, path))"
   ]
  },
  {
   "cell_type": "code",
   "execution_count": null,
   "metadata": {
    "collapsed": true
   },
   "outputs": [],
   "source": []
  }
 ],
 "metadata": {
  "anaconda-cloud": {},
  "kernelspec": {
   "display_name": "Python [conda env:opencv]",
   "language": "python",
   "name": "conda-env-opencv-py"
  },
  "language_info": {
   "codemirror_mode": {
    "name": "ipython",
    "version": 3
   },
   "file_extension": ".py",
   "mimetype": "text/x-python",
   "name": "python",
   "nbconvert_exporter": "python",
   "pygments_lexer": "ipython3",
   "version": "3.5.2"
  }
 },
 "nbformat": 4,
 "nbformat_minor": 2
}
