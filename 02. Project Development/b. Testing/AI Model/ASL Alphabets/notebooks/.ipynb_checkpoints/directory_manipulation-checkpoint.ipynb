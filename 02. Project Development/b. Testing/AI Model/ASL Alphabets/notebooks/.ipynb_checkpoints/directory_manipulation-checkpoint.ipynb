{
 "cells": [
  {
   "cell_type": "code",
   "execution_count": 1,
   "metadata": {
    "collapsed": true
   },
   "outputs": [],
   "source": [
    "import numpy as np\n",
    "import cv2\n",
    "import pandas as pd\n",
    "from glob import glob\n",
    "import matplotlib.pyplot as plt"
   ]
  },
  {
   "cell_type": "code",
   "execution_count": 1,
   "metadata": {
    "collapsed": false
   },
   "outputs": [
    {
     "ename": "NameError",
     "evalue": "name 'glob' is not defined",
     "output_type": "error",
     "traceback": [
      "\u001b[0;31m---------------------------------------------------------------------------\u001b[0m",
      "\u001b[0;31mNameError\u001b[0m                                 Traceback (most recent call last)",
      "\u001b[0;32m<ipython-input-1-949e997f09ad>\u001b[0m in \u001b[0;36m<module>\u001b[0;34m()\u001b[0m\n\u001b[0;32m----> 1\u001b[0;31m \u001b[0mhello\u001b[0m \u001b[0;34m=\u001b[0m \u001b[0mglob\u001b[0m\u001b[0;34m(\u001b[0m\u001b[0;34m\"*.png\"\u001b[0m\u001b[0;34m)\u001b[0m\u001b[0;34m\u001b[0m\u001b[0m\n\u001b[0m\u001b[1;32m      2\u001b[0m \u001b[0;31m# labels = np.array([directory[-2] for _ in range(nb_images)])\u001b[0m\u001b[0;34m\u001b[0m\u001b[0;34m\u001b[0m\u001b[0m\n",
      "\u001b[0;31mNameError\u001b[0m: name 'glob' is not defined"
     ]
    }
   ],
   "source": [
    "hello = glob(\"*.png\")\n",
    "# labels = np.array([directory[-2] for _ in range(nb_images)])"
   ]
  },
  {
   "cell_type": "code",
   "execution_count": 16,
   "metadata": {
    "collapsed": false,
    "scrolled": true
   },
   "outputs": [
    {
     "data": {
      "text/plain": [
       "0         pad_hand1_a_bot_seg_1_cropped.png\n",
       "1         pad_hand1_a_bot_seg_2_cropped.png\n",
       "2         pad_hand1_a_bot_seg_3_cropped.png\n",
       "3         pad_hand1_a_bot_seg_4_cropped.png\n",
       "4         pad_hand1_a_bot_seg_5_cropped.png\n",
       "5         pad_hand1_a_dif_seg_1_cropped.png\n",
       "6         pad_hand1_a_dif_seg_2_cropped.png\n",
       "7         pad_hand1_a_dif_seg_3_cropped.png\n",
       "8         pad_hand1_a_dif_seg_4_cropped.png\n",
       "9         pad_hand1_a_dif_seg_5_cropped.png\n",
       "10       pad_hand1_a_left_seg_1_cropped.png\n",
       "11       pad_hand1_a_left_seg_2_cropped.png\n",
       "12       pad_hand1_a_left_seg_3_cropped.png\n",
       "13       pad_hand1_a_left_seg_4_cropped.png\n",
       "14       pad_hand1_a_left_seg_5_cropped.png\n",
       "15      pad_hand1_a_right_seg_1_cropped.png\n",
       "16      pad_hand1_a_right_seg_2_cropped.png\n",
       "17      pad_hand1_a_right_seg_3_cropped.png\n",
       "18      pad_hand1_a_right_seg_4_cropped.png\n",
       "19      pad_hand1_a_right_seg_5_cropped.png\n",
       "20        pad_hand1_a_top_seg_1_cropped.png\n",
       "21        pad_hand1_a_top_seg_2_cropped.png\n",
       "22        pad_hand1_a_top_seg_3_cropped.png\n",
       "23        pad_hand1_a_top_seg_4_cropped.png\n",
       "24        pad_hand1_a_top_seg_5_cropped.png\n",
       "25        pad_hand1_b_bot_seg_1_cropped.png\n",
       "26        pad_hand1_b_bot_seg_2_cropped.png\n",
       "27        pad_hand1_b_bot_seg_3_cropped.png\n",
       "28        pad_hand1_b_bot_seg_4_cropped.png\n",
       "29        pad_hand1_b_bot_seg_5_cropped.png\n",
       "                       ...                 \n",
       "1525      pad_hand4_u_bot_seg_1_cropped.png\n",
       "1526      pad_hand4_u_bot_seg_2_cropped.png\n",
       "1527      pad_hand4_u_bot_seg_3_cropped.png\n",
       "1528      pad_hand4_u_bot_seg_4_cropped.png\n",
       "1529      pad_hand4_u_bot_seg_5_cropped.png\n",
       "1530      pad_hand4_v_bot_seg_1_cropped.png\n",
       "1531      pad_hand4_v_bot_seg_2_cropped.png\n",
       "1532      pad_hand4_v_bot_seg_3_cropped.png\n",
       "1533      pad_hand4_v_bot_seg_4_cropped.png\n",
       "1534      pad_hand4_v_bot_seg_5_cropped.png\n",
       "1535      pad_hand4_w_bot_seg_1_cropped.png\n",
       "1536      pad_hand4_w_bot_seg_2_cropped.png\n",
       "1537      pad_hand4_w_bot_seg_3_cropped.png\n",
       "1538      pad_hand4_w_bot_seg_4_cropped.png\n",
       "1539      pad_hand4_w_bot_seg_5_cropped.png\n",
       "1540      pad_hand4_x_bot_seg_1_cropped.png\n",
       "1541      pad_hand4_x_bot_seg_2_cropped.png\n",
       "1542      pad_hand4_x_bot_seg_3_cropped.png\n",
       "1543      pad_hand4_x_bot_seg_4_cropped.png\n",
       "1544      pad_hand4_x_bot_seg_5_cropped.png\n",
       "1545      pad_hand4_y_bot_seg_1_cropped.png\n",
       "1546      pad_hand4_y_bot_seg_2_cropped.png\n",
       "1547      pad_hand4_y_bot_seg_3_cropped.png\n",
       "1548      pad_hand4_y_bot_seg_4_cropped.png\n",
       "1549      pad_hand4_y_bot_seg_5_cropped.png\n",
       "1550      pad_hand4_z_bot_seg_1_cropped.png\n",
       "1551      pad_hand4_z_bot_seg_2_cropped.png\n",
       "1552      pad_hand4_z_bot_seg_3_cropped.png\n",
       "1553      pad_hand4_z_bot_seg_4_cropped.png\n",
       "1554      pad_hand4_z_bot_seg_5_cropped.png\n",
       "Name: image, dtype: object"
      ]
     },
     "execution_count": 16,
     "metadata": {},
     "output_type": "execute_result"
    }
   ],
   "source": [
    "hey = pd.Series(hello)\n",
    "hey.rename(\"image\", inplace=True)"
   ]
  },
  {
   "cell_type": "code",
   "execution_count": 17,
   "metadata": {
    "collapsed": false,
    "scrolled": true
   },
   "outputs": [],
   "source": [
    "df_sign = pd.DataFrame(hey)"
   ]
  },
  {
   "cell_type": "code",
   "execution_count": 18,
   "metadata": {
    "collapsed": false
   },
   "outputs": [],
   "source": [
    "df_sign[\"label\"] = df_sign.image.str[10]"
   ]
  },
  {
   "cell_type": "code",
   "execution_count": 19,
   "metadata": {
    "collapsed": false
   },
   "outputs": [
    {
     "data": {
      "text/html": [
       "<div>\n",
       "<table border=\"1\" class=\"dataframe\">\n",
       "  <thead>\n",
       "    <tr style=\"text-align: right;\">\n",
       "      <th></th>\n",
       "      <th>image</th>\n",
       "      <th>label</th>\n",
       "    </tr>\n",
       "  </thead>\n",
       "  <tbody>\n",
       "    <tr>\n",
       "      <th>0</th>\n",
       "      <td>pad_hand1_a_bot_seg_1_cropped.png</td>\n",
       "      <td>a</td>\n",
       "    </tr>\n",
       "    <tr>\n",
       "      <th>1</th>\n",
       "      <td>pad_hand1_a_bot_seg_2_cropped.png</td>\n",
       "      <td>a</td>\n",
       "    </tr>\n",
       "  </tbody>\n",
       "</table>\n",
       "</div>"
      ],
      "text/plain": [
       "                               image label\n",
       "0  pad_hand1_a_bot_seg_1_cropped.png     a\n",
       "1  pad_hand1_a_bot_seg_2_cropped.png     a"
      ]
     },
     "execution_count": 19,
     "metadata": {},
     "output_type": "execute_result"
    }
   ],
   "source": [
    "df_sign.head(2)"
   ]
  },
  {
   "cell_type": "code",
   "execution_count": 32,
   "metadata": {
    "collapsed": false
   },
   "outputs": [],
   "source": [
    "def square_pad(img_path, padding_color=[0,0,0]):\n",
    "    \"\"\"\n",
    "    Adds margins to image to make it square\n",
    "    Returns: an image object padded to the largest original dimension\n",
    "    \"\"\"\n",
    "    img = cv2.imread(img_path)\n",
    "    height = np.array(img).shape[0]\n",
    "    width = np.array(img).shape[1]\n",
    "\n",
    "    #find difference between longest side\n",
    "    diff = np.abs(width - height)\n",
    "    #amount of padding = half the diff between width and height\n",
    "    pad_diff = diff//2\n",
    "\n",
    "    if height > width:\n",
    "        # letter is longer than it is wide\n",
    "        pad_top = 0\n",
    "        pad_bottom = 0\n",
    "        pad_left = pad_diff\n",
    "        pad_right = pad_diff\n",
    "        padded_img = cv2.copyMakeBorder(img,\n",
    "                                        top = pad_top,\n",
    "                                        bottom = pad_bottom,\n",
    "                                        left = pad_left,\n",
    "                                        right = pad_right,\n",
    "                                        borderType = cv2.BORDER_CONSTANT,\n",
    "                                        value = padding_color)\n",
    "        \n",
    "    elif width > height:\n",
    "        # image is wide\n",
    "        pad_top = pad_diff\n",
    "        pad_bottom = pad_diff\n",
    "        pad_left = 0\n",
    "        pad_right = 0\n",
    "        padded_img = cv2.copyMakeBorder(img,\n",
    "                                        top = pad_top,\n",
    "                                        bottom = pad_bottom,\n",
    "                                        left = pad_left,\n",
    "                                        right = pad_right,\n",
    "                                        borderType = cv2.BORDER_CONSTANT,\n",
    "                                        value = padding_color)\n",
    "\n",
    "    elif width == height:\n",
    "        padded_img = img.copy()\n",
    "    \n",
    "    \n",
    "    return cv2.imwrite(img_path, padded_img)"
   ]
  },
  {
   "cell_type": "code",
   "execution_count": 22,
   "metadata": {
    "collapsed": false
   },
   "outputs": [
    {
     "ename": "IndexError",
     "evalue": "tuple index out of range",
     "output_type": "error",
     "traceback": [
      "\u001b[0;31m---------------------------------------------------------------------------\u001b[0m",
      "\u001b[0;31mIndexError\u001b[0m                                Traceback (most recent call last)",
      "\u001b[0;32m<ipython-input-22-713ced377ebf>\u001b[0m in \u001b[0;36m<module>\u001b[0;34m()\u001b[0m\n\u001b[0;32m----> 1\u001b[0;31m \u001b[0mlist\u001b[0m\u001b[0;34m(\u001b[0m\u001b[0mmap\u001b[0m\u001b[0;34m(\u001b[0m\u001b[0msquare_pad\u001b[0m\u001b[0;34m,\u001b[0m \u001b[0mhello\u001b[0m\u001b[0;34m[\u001b[0m\u001b[0;36m0\u001b[0m\u001b[0;34m]\u001b[0m\u001b[0;34m)\u001b[0m\u001b[0;34m)\u001b[0m\u001b[0;34m\u001b[0m\u001b[0m\n\u001b[0m",
      "\u001b[0;32m<ipython-input-21-dcfcca67893d>\u001b[0m in \u001b[0;36msquare_pad\u001b[0;34m(img_path, padding_color)\u001b[0m\n\u001b[1;32m      5\u001b[0m     \"\"\"\n\u001b[1;32m      6\u001b[0m     \u001b[0mimg\u001b[0m \u001b[0;34m=\u001b[0m \u001b[0mcv2\u001b[0m\u001b[0;34m.\u001b[0m\u001b[0mimread\u001b[0m\u001b[0;34m(\u001b[0m\u001b[0mimg_path\u001b[0m\u001b[0;34m)\u001b[0m\u001b[0;34m\u001b[0m\u001b[0m\n\u001b[0;32m----> 7\u001b[0;31m     \u001b[0mheight\u001b[0m \u001b[0;34m=\u001b[0m \u001b[0mnp\u001b[0m\u001b[0;34m.\u001b[0m\u001b[0marray\u001b[0m\u001b[0;34m(\u001b[0m\u001b[0mimg\u001b[0m\u001b[0;34m)\u001b[0m\u001b[0;34m.\u001b[0m\u001b[0mshape\u001b[0m\u001b[0;34m[\u001b[0m\u001b[0;36m0\u001b[0m\u001b[0;34m]\u001b[0m\u001b[0;34m\u001b[0m\u001b[0m\n\u001b[0m\u001b[1;32m      8\u001b[0m     \u001b[0mwidth\u001b[0m \u001b[0;34m=\u001b[0m \u001b[0mnp\u001b[0m\u001b[0;34m.\u001b[0m\u001b[0marray\u001b[0m\u001b[0;34m(\u001b[0m\u001b[0mimg\u001b[0m\u001b[0;34m)\u001b[0m\u001b[0;34m.\u001b[0m\u001b[0mshape\u001b[0m\u001b[0;34m[\u001b[0m\u001b[0;36m1\u001b[0m\u001b[0;34m]\u001b[0m\u001b[0;34m\u001b[0m\u001b[0m\n\u001b[1;32m      9\u001b[0m \u001b[0;34m\u001b[0m\u001b[0m\n",
      "\u001b[0;31mIndexError\u001b[0m: tuple index out of range"
     ]
    }
   ],
   "source": [
    "list(map(square_pad, hello[0]))"
   ]
  },
  {
   "cell_type": "code",
   "execution_count": 54,
   "metadata": {
    "collapsed": false
   },
   "outputs": [],
   "source": [
    "# apply square padding to letters already divided into directories\n",
    "\n",
    "for letter in string.ascii_lowercase:\n",
    "    dirs = glob(letter+\"/*.png\")"
   ]
  }
 ],
 "metadata": {
  "anaconda-cloud": {},
  "kernelspec": {
   "display_name": "Python [conda env:opencv]",
   "language": "python",
   "name": "conda-env-opencv-py"
  },
  "language_info": {
   "codemirror_mode": {
    "name": "ipython",
    "version": 3
   },
   "file_extension": ".py",
   "mimetype": "text/x-python",
   "name": "python",
   "nbconvert_exporter": "python",
   "pygments_lexer": "ipython3",
   "version": "3.5.2"
  }
 },
 "nbformat": 4,
 "nbformat_minor": 0
}
