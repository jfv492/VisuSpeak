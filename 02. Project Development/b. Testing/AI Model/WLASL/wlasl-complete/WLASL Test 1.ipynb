{
 "cells": [
  {
   "cell_type": "markdown",
   "id": "41c0ed60-d287-41fd-b4a8-43b5014f92fa",
   "metadata": {},
   "source": [
    "### WLASL Test"
   ]
  },
  {
   "cell_type": "code",
   "execution_count": 5,
   "id": "ae92797c-47ca-448d-ae63-ae130742857b",
   "metadata": {},
   "outputs": [
    {
     "ename": "IndentationError",
     "evalue": "expected an indented block after function definition on line 21 (1529786400.py, line 22)",
     "output_type": "error",
     "traceback": [
      "\u001b[0;36m  Cell \u001b[0;32mIn[5], line 22\u001b[0;36m\u001b[0m\n\u001b[0;31m    cap = cv2.VideoCapture(video_path)\u001b[0m\n\u001b[0m    ^\u001b[0m\n\u001b[0;31mIndentationError\u001b[0m\u001b[0;31m:\u001b[0m expected an indented block after function definition on line 21\n"
     ]
    }
   ],
   "source": [
    "import cv2\n",
    "import tensorflow as tf\n",
    "from tensorflow import keras\n",
    "from tensorflow.keras import layers\n",
    "from tensorflow.keras.applications import MobileNetV2\n",
    "from tensorflow.keras.applications.mobilenet_v2 import preprocess_input\n",
    "from tensorflow.keras.preprocessing.image import ImageDataGenerator\n",
    "import numpy as np\n",
    "import os\n",
    "\n",
    "# Path to the directory containing videos\n",
    "video_dir = \"/path/to/videos\"\n",
    "\n",
    "# Path to the directory where extracted frames will be stored\n",
    "frame_dir = \"/path/to/frames\"\n",
    "\n",
    "# Define your ASL classes\n",
    "classes = os.listdir(video_dir)\n",
    "\n",
    "# Function to extract frames from videos\n",
    "def extract_frames(video_path, output_path):\n",
    "cap = cv2.VideoCapture(video_path)\n",
    "frame_count = 0\n",
    "\n",
    "    while True:\n",
    "ret, frame = cap.read()\n",
    "        if not ret:\n",
    "            break\n",
    "\n",
    "frame_filename = f\"{frame_count}.jpg\"\n",
    "frame_path = os.path.join(output_path, frame_filename)\n",
    "\n",
    "        # Save frame as an image\n",
    "cv2.imwrite(frame_path, frame)\n",
    "\n",
    "frame_count += 1\n",
    "\n",
    "cap.release()\n",
    "\n",
    "# Create the frame directory if it doesn't exist\n",
    "os.makedirs(frame_dir, exist_ok=True)\n",
    "\n",
    "# Extract frames from videos\n",
    "for video_file in os.listdir(video_dir):\n",
    "video_path = os.path.join(video_dir, video_file)\n",
    "output_path = os.path.join(frame_dir, os.path.splitext(video_file)[0])\n",
    "\n",
    "os.makedirs(output_path, exist_ok=True)\n",
    "extract_frames(video_path, output_path)\n",
    "\n",
    "# Image size and batch size\n",
    "img_size = (224, 224)\n",
    "batch_size = 32\n",
    "\n",
    "# Create data generators\n",
    "datagen = ImageDataGenerator(\n",
    "rotation_range=10,\n",
    "width_shift_range=0.1,\n",
    "height_shift_range=0.1,\n",
    "zoom_range=0.1,\n",
    "horizontal_flip=True,\n",
    "validation_split=0.2,\n",
    "preprocessing_function=preprocess_input\n",
    ")\n",
    "\n",
    "data_gen = datagen.flow_from_directory(\n",
    "frame_dir,\n",
    "target_size=img_size,\n",
    "batch_size=batch_size,\n",
    "class_mode='categorical',\n",
    "subset='training'\n",
    ")\n",
    "\n",
    "# Build a 3D CNN model\n",
    "model = keras.Sequential([\n",
    "layers.Conv3D(32, kernel_size=(3, 3, 3), activation='relu', input_shape=(num_frames, 224, 224, 3)),\n",
    "layers.MaxPooling3D(pool_size=(2, 2, 2)),\n",
    "layers.Conv3D(64, kernel_size=(3, 3, 3), activation='relu'),\n",
    "layers.MaxPooling3D(pool_size=(2, 2, 2)),\n",
    "layers.GlobalAveragePooling3D(),\n",
    "layers.Dense(len(classes), activation='softmax')\n",
    "])\n",
    "\n",
    "model.compile(optimizer='adam', loss='categorical_crossentropy', metrics=['accuracy'])\n",
    "\n",
    "# Train the model\n",
    "history = model.fit(data_gen, epochs=10)\n",
    "\n",
    "# Save the model for future use\n",
    "model.save(\"asl_model.h5\")\n"
   ]
  },
  {
   "cell_type": "code",
   "execution_count": null,
   "id": "c791a824-6e64-495d-b888-2e56b6eceb30",
   "metadata": {},
   "outputs": [],
   "source": []
  }
 ],
 "metadata": {
  "kernelspec": {
   "display_name": "Python 3 (ipykernel)",
   "language": "python",
   "name": "python3"
  },
  "language_info": {
   "codemirror_mode": {
    "name": "ipython",
    "version": 3
   },
   "file_extension": ".py",
   "mimetype": "text/x-python",
   "name": "python",
   "nbconvert_exporter": "python",
   "pygments_lexer": "ipython3",
   "version": "3.11.5"
  }
 },
 "nbformat": 4,
 "nbformat_minor": 5
}
