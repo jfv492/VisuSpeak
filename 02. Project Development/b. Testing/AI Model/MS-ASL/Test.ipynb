{
 "cells": [
  {
   "cell_type": "code",
   "execution_count": 3,
   "id": "53e4400c",
   "metadata": {},
   "outputs": [],
   "source": [
    "import pandas as pd\n",
    "pd.options.mode.chained_assignment = None\n",
    "import urllib.request\n",
    "import tarfile\n",
    "import os\n",
    "import cv2\n",
    "import requests\n",
    "import numpy as np\n",
    "import tensorflow as tf\n",
    "from tqdm import tqdm\n",
    "from pytube import YouTube"
   ]
  },
  {
   "cell_type": "code",
   "execution_count": 4,
   "id": "53fd4a83",
   "metadata": {},
   "outputs": [
    {
     "data": {
      "text/html": [
       "<div>\n",
       "<style scoped>\n",
       "    .dataframe tbody tr th:only-of-type {\n",
       "        vertical-align: middle;\n",
       "    }\n",
       "\n",
       "    .dataframe tbody tr th {\n",
       "        vertical-align: top;\n",
       "    }\n",
       "\n",
       "    .dataframe thead th {\n",
       "        text-align: right;\n",
       "    }\n",
       "</style>\n",
       "<table border=\"1\" class=\"dataframe\">\n",
       "  <thead>\n",
       "    <tr style=\"text-align: right;\">\n",
       "      <th></th>\n",
       "      <th>org_text</th>\n",
       "      <th>clean_text</th>\n",
       "      <th>start_time</th>\n",
       "      <th>signer_id</th>\n",
       "      <th>signer</th>\n",
       "      <th>start</th>\n",
       "      <th>end</th>\n",
       "      <th>file</th>\n",
       "      <th>label</th>\n",
       "      <th>height</th>\n",
       "      <th>fps</th>\n",
       "      <th>end_time</th>\n",
       "      <th>url</th>\n",
       "      <th>text</th>\n",
       "      <th>box</th>\n",
       "      <th>width</th>\n",
       "      <th>review</th>\n",
       "    </tr>\n",
       "  </thead>\n",
       "  <tbody>\n",
       "    <tr>\n",
       "      <th>0</th>\n",
       "      <td>beer</td>\n",
       "      <td>beer</td>\n",
       "      <td>0.0</td>\n",
       "      <td>20</td>\n",
       "      <td>40</td>\n",
       "      <td>0</td>\n",
       "      <td>59</td>\n",
       "      <td>SignSchool Beer var</td>\n",
       "      <td>805</td>\n",
       "      <td>360</td>\n",
       "      <td>29.970</td>\n",
       "      <td>1.969</td>\n",
       "      <td>www.youtube.com/watch?v=wX78EPtSuzU</td>\n",
       "      <td>beer</td>\n",
       "      <td>[0.046787232160568, 0.290409207344055, 1.0, 0....</td>\n",
       "      <td>640</td>\n",
       "      <td>NaN</td>\n",
       "    </tr>\n",
       "    <tr>\n",
       "      <th>1</th>\n",
       "      <td>enjoy</td>\n",
       "      <td>enjoy</td>\n",
       "      <td>0.0</td>\n",
       "      <td>11</td>\n",
       "      <td>39</td>\n",
       "      <td>0</td>\n",
       "      <td>54</td>\n",
       "      <td>enjoy(1)</td>\n",
       "      <td>192</td>\n",
       "      <td>360</td>\n",
       "      <td>29.970</td>\n",
       "      <td>1.802</td>\n",
       "      <td>www.youtube.com/watch?v=OL02Odh2dRg</td>\n",
       "      <td>enjoy</td>\n",
       "      <td>[0.071450918912887, 0.136024981737136, 1.0, 0....</td>\n",
       "      <td>480</td>\n",
       "      <td>NaN</td>\n",
       "    </tr>\n",
       "    <tr>\n",
       "      <th>2</th>\n",
       "      <td>emotional</td>\n",
       "      <td>emotional</td>\n",
       "      <td>0.0</td>\n",
       "      <td>20</td>\n",
       "      <td>40</td>\n",
       "      <td>0</td>\n",
       "      <td>30</td>\n",
       "      <td>SignSchool Emotional</td>\n",
       "      <td>907</td>\n",
       "      <td>360</td>\n",
       "      <td>23.976</td>\n",
       "      <td>1.251</td>\n",
       "      <td>www.youtube.com/watch?v=C59jcSo4fEI</td>\n",
       "      <td>emotional</td>\n",
       "      <td>[0.059554219245910006, 0.281019657850265, 1.0,...</td>\n",
       "      <td>640</td>\n",
       "      <td>NaN</td>\n",
       "    </tr>\n",
       "    <tr>\n",
       "      <th>3</th>\n",
       "      <td>key</td>\n",
       "      <td>key</td>\n",
       "      <td>0.0</td>\n",
       "      <td>92</td>\n",
       "      <td>-1</td>\n",
       "      <td>0</td>\n",
       "      <td>37</td>\n",
       "      <td>SignSchool Key</td>\n",
       "      <td>456</td>\n",
       "      <td>360</td>\n",
       "      <td>23.976</td>\n",
       "      <td>1.543</td>\n",
       "      <td>www.youtube.com/watch?v=Qs2ua1S6tg0</td>\n",
       "      <td>key</td>\n",
       "      <td>[0.11462894082069301, 0.308987438678741, 1.0, ...</td>\n",
       "      <td>640</td>\n",
       "      <td>NaN</td>\n",
       "    </tr>\n",
       "    <tr>\n",
       "      <th>4</th>\n",
       "      <td>bad</td>\n",
       "      <td>bad</td>\n",
       "      <td>0.0</td>\n",
       "      <td>11</td>\n",
       "      <td>39</td>\n",
       "      <td>0</td>\n",
       "      <td>36</td>\n",
       "      <td>BAD</td>\n",
       "      <td>81</td>\n",
       "      <td>360</td>\n",
       "      <td>29.970</td>\n",
       "      <td>1.201</td>\n",
       "      <td>www.youtube.com/watch?v=-kgTBeOw95A</td>\n",
       "      <td>bad</td>\n",
       "      <td>[0.040453493595123007, 0.22047379612922602, 0....</td>\n",
       "      <td>480</td>\n",
       "      <td>NaN</td>\n",
       "    </tr>\n",
       "    <tr>\n",
       "      <th>5</th>\n",
       "      <td>NEED</td>\n",
       "      <td>need</td>\n",
       "      <td>0.0</td>\n",
       "      <td>67</td>\n",
       "      <td>11</td>\n",
       "      <td>0</td>\n",
       "      <td>68</td>\n",
       "      <td>NEED</td>\n",
       "      <td>29</td>\n",
       "      <td>720</td>\n",
       "      <td>29.970</td>\n",
       "      <td>2.269</td>\n",
       "      <td>https://www.youtube.com/watch?v=ieLzL1Sl6SU</td>\n",
       "      <td>need</td>\n",
       "      <td>[0.013118863105773001, 0.28781014680862405, 1....</td>\n",
       "      <td>1280</td>\n",
       "      <td>NaN</td>\n",
       "    </tr>\n",
       "    <tr>\n",
       "      <th>6</th>\n",
       "      <td>build</td>\n",
       "      <td>build</td>\n",
       "      <td>0.0</td>\n",
       "      <td>20</td>\n",
       "      <td>40</td>\n",
       "      <td>0</td>\n",
       "      <td>50</td>\n",
       "      <td>SignSchool Build 2</td>\n",
       "      <td>394</td>\n",
       "      <td>360</td>\n",
       "      <td>29.970</td>\n",
       "      <td>1.668</td>\n",
       "      <td>www.youtube.com/watch?v=xiJYYCuA2UA</td>\n",
       "      <td>build</td>\n",
       "      <td>[0.013172954320907001, 0.19094446301460202, 0....</td>\n",
       "      <td>640</td>\n",
       "      <td>NaN</td>\n",
       "    </tr>\n",
       "    <tr>\n",
       "      <th>7</th>\n",
       "      <td>subway</td>\n",
       "      <td>subway</td>\n",
       "      <td>0.0</td>\n",
       "      <td>92</td>\n",
       "      <td>-1</td>\n",
       "      <td>0</td>\n",
       "      <td>33</td>\n",
       "      <td>SignSchool Subway</td>\n",
       "      <td>886</td>\n",
       "      <td>360</td>\n",
       "      <td>23.976</td>\n",
       "      <td>1.376</td>\n",
       "      <td>www.youtube.com/watch?v=qSOspusLa3U</td>\n",
       "      <td>subway</td>\n",
       "      <td>[0.09784886240959101, 0.32842993736267, 1.0, 0...</td>\n",
       "      <td>640</td>\n",
       "      <td>NaN</td>\n",
       "    </tr>\n",
       "    <tr>\n",
       "      <th>8</th>\n",
       "      <td>pull</td>\n",
       "      <td>pull</td>\n",
       "      <td>0.0</td>\n",
       "      <td>92</td>\n",
       "      <td>43</td>\n",
       "      <td>0</td>\n",
       "      <td>32</td>\n",
       "      <td>SignSchool Pull(1)</td>\n",
       "      <td>672</td>\n",
       "      <td>360</td>\n",
       "      <td>23.976</td>\n",
       "      <td>1.335</td>\n",
       "      <td>www.youtube.com/watch?v=78bHeANdyYc</td>\n",
       "      <td>pull</td>\n",
       "      <td>[0.10073888301849301, 0.19051924347877502, 1.0...</td>\n",
       "      <td>640</td>\n",
       "      <td>NaN</td>\n",
       "    </tr>\n",
       "    <tr>\n",
       "      <th>9</th>\n",
       "      <td>happy</td>\n",
       "      <td>happy</td>\n",
       "      <td>0.0</td>\n",
       "      <td>11</td>\n",
       "      <td>39</td>\n",
       "      <td>0</td>\n",
       "      <td>46</td>\n",
       "      <td>HAPPY</td>\n",
       "      <td>5</td>\n",
       "      <td>360</td>\n",
       "      <td>29.970</td>\n",
       "      <td>1.535</td>\n",
       "      <td>www.youtube.com/watch?v=deGERv54kIc</td>\n",
       "      <td>happy</td>\n",
       "      <td>[0.049813270568847004, 0.20324450731277402, 0....</td>\n",
       "      <td>480</td>\n",
       "      <td>NaN</td>\n",
       "    </tr>\n",
       "  </tbody>\n",
       "</table>\n",
       "</div>"
      ],
      "text/plain": [
       "    org_text clean_text  start_time  signer_id  signer  start  end  \\\n",
       "0       beer       beer         0.0         20      40      0   59   \n",
       "1      enjoy      enjoy         0.0         11      39      0   54   \n",
       "2  emotional  emotional         0.0         20      40      0   30   \n",
       "3        key        key         0.0         92      -1      0   37   \n",
       "4        bad        bad         0.0         11      39      0   36   \n",
       "5       NEED       need         0.0         67      11      0   68   \n",
       "6      build      build         0.0         20      40      0   50   \n",
       "7     subway     subway         0.0         92      -1      0   33   \n",
       "8       pull       pull         0.0         92      43      0   32   \n",
       "9      happy      happy         0.0         11      39      0   46   \n",
       "\n",
       "                   file  label  height     fps  end_time  \\\n",
       "0   SignSchool Beer var    805     360  29.970     1.969   \n",
       "1              enjoy(1)    192     360  29.970     1.802   \n",
       "2  SignSchool Emotional    907     360  23.976     1.251   \n",
       "3        SignSchool Key    456     360  23.976     1.543   \n",
       "4                   BAD     81     360  29.970     1.201   \n",
       "5                  NEED     29     720  29.970     2.269   \n",
       "6    SignSchool Build 2    394     360  29.970     1.668   \n",
       "7     SignSchool Subway    886     360  23.976     1.376   \n",
       "8    SignSchool Pull(1)    672     360  23.976     1.335   \n",
       "9                 HAPPY      5     360  29.970     1.535   \n",
       "\n",
       "                                           url       text  \\\n",
       "0          www.youtube.com/watch?v=wX78EPtSuzU       beer   \n",
       "1          www.youtube.com/watch?v=OL02Odh2dRg      enjoy   \n",
       "2          www.youtube.com/watch?v=C59jcSo4fEI  emotional   \n",
       "3          www.youtube.com/watch?v=Qs2ua1S6tg0        key   \n",
       "4          www.youtube.com/watch?v=-kgTBeOw95A        bad   \n",
       "5  https://www.youtube.com/watch?v=ieLzL1Sl6SU       need   \n",
       "6          www.youtube.com/watch?v=xiJYYCuA2UA      build   \n",
       "7          www.youtube.com/watch?v=qSOspusLa3U     subway   \n",
       "8          www.youtube.com/watch?v=78bHeANdyYc       pull   \n",
       "9          www.youtube.com/watch?v=deGERv54kIc      happy   \n",
       "\n",
       "                                                 box  width  review  \n",
       "0  [0.046787232160568, 0.290409207344055, 1.0, 0....    640     NaN  \n",
       "1  [0.071450918912887, 0.136024981737136, 1.0, 0....    480     NaN  \n",
       "2  [0.059554219245910006, 0.281019657850265, 1.0,...    640     NaN  \n",
       "3  [0.11462894082069301, 0.308987438678741, 1.0, ...    640     NaN  \n",
       "4  [0.040453493595123007, 0.22047379612922602, 0....    480     NaN  \n",
       "5  [0.013118863105773001, 0.28781014680862405, 1....   1280     NaN  \n",
       "6  [0.013172954320907001, 0.19094446301460202, 0....    640     NaN  \n",
       "7  [0.09784886240959101, 0.32842993736267, 1.0, 0...    640     NaN  \n",
       "8  [0.10073888301849301, 0.19051924347877502, 1.0...    640     NaN  \n",
       "9  [0.049813270568847004, 0.20324450731277402, 0....    480     NaN  "
      ]
     },
     "execution_count": 4,
     "metadata": {},
     "output_type": "execute_result"
    }
   ],
   "source": [
    "dataset_download_path=\"./asl_dataset\"\n",
    "MSASL_test = pd.read_json(\"/Users/archishabhattacharya/Desktop/Test/MS-ASL/MSASL_test.json\".format(dataset_download_path))\n",
    "MSASL_test.head(10)"
   ]
  },
  {
   "cell_type": "code",
   "execution_count": null,
   "id": "6c3464f5",
   "metadata": {},
   "outputs": [
    {
     "name": "stderr",
     "output_type": "stream",
     "text": [
      "  0%|                                                                        | 3/16054 [00:21<28:27:49,  6.38s/it]"
     ]
    },
    {
     "name": "stdout",
     "output_type": "stream",
     "text": [
      "Failed to download video from www.youtube.com/watch?v=9FdHlMOnVjg. Reason: 9FdHlMOnVjg is a private video\n"
     ]
    },
    {
     "name": "stderr",
     "output_type": "stream",
     "text": [
      "  0%|                                                                        | 6/16054 [00:40<26:01:36,  5.84s/it]"
     ]
    },
    {
     "name": "stdout",
     "output_type": "stream",
     "text": [
      "Failed to download video from https://www.youtube.com/watch?v=1AyT77LqJzQ. Reason: 1AyT77LqJzQ is unavailable\n"
     ]
    },
    {
     "name": "stderr",
     "output_type": "stream",
     "text": [
      "\r",
      "  0%|                                                                        | 7/16054 [00:42<19:21:03,  4.34s/it]"
     ]
    },
    {
     "name": "stdout",
     "output_type": "stream",
     "text": [
      "Failed to download video from https://www.youtube.com/watch?v=1AyT77LqJzQ. Reason: 1AyT77LqJzQ is unavailable\n"
     ]
    },
    {
     "name": "stderr",
     "output_type": "stream",
     "text": [
      "  0%|                                                                       | 10/16054 [01:11<32:25:41,  7.28s/it]"
     ]
    },
    {
     "name": "stdout",
     "output_type": "stream",
     "text": [
      "Failed to download video from https://www.youtube.com/watch?v=cJOyCgIKyeA. Reason: cJOyCgIKyeA is unavailable\n"
     ]
    },
    {
     "name": "stderr",
     "output_type": "stream",
     "text": [
      "  0%|                                                                       | 15/16054 [01:56<35:05:24,  7.88s/it]"
     ]
    },
    {
     "name": "stdout",
     "output_type": "stream",
     "text": [
      "Failed to download video from www.youtube.com/watch?v=zqfcp6NRKpA. Reason: zqfcp6NRKpA is a private video\n"
     ]
    },
    {
     "name": "stderr",
     "output_type": "stream",
     "text": [
      "\r",
      "  0%|                                                                       | 16/16054 [01:58<25:53:42,  5.81s/it]"
     ]
    },
    {
     "name": "stdout",
     "output_type": "stream",
     "text": [
      "Failed to download video from www.youtube.com/watch?v=7y5Ye-2-ZBs. Reason: 7y5Ye-2-ZBs is a private video\n"
     ]
    },
    {
     "name": "stderr",
     "output_type": "stream",
     "text": [
      "  0%|                                                                       | 21/16054 [02:50<39:55:57,  8.97s/it]"
     ]
    },
    {
     "name": "stdout",
     "output_type": "stream",
     "text": [
      "Failed to download video from https://www.youtube.com/watch?v=sKbKzPIaFNA. Reason: HTTP Error 503: Service Unavailable\n"
     ]
    },
    {
     "name": "stderr",
     "output_type": "stream",
     "text": [
      "  0%|▏                                                                      | 30/16054 [03:56<27:23:41,  6.15s/it]"
     ]
    },
    {
     "name": "stdout",
     "output_type": "stream",
     "text": [
      "Failed to download video from www.youtube.com/watch?v=rYW7VFPi9_w. Reason: rYW7VFPi9_w is a private video\n"
     ]
    },
    {
     "name": "stderr",
     "output_type": "stream",
     "text": [
      "  0%|▏                                                                      | 55/16054 [13:58<52:02:16, 11.71s/it]"
     ]
    },
    {
     "name": "stdout",
     "output_type": "stream",
     "text": [
      "Failed to download video from https://www.youtube.com/watch?v=0Beq_NIDj2c. Reason: 0Beq_NIDj2c is unavailable\n"
     ]
    },
    {
     "name": "stderr",
     "output_type": "stream",
     "text": [
      "\r",
      "  0%|▏                                                                      | 56/16054 [13:59<37:38:13,  8.47s/it]"
     ]
    },
    {
     "name": "stdout",
     "output_type": "stream",
     "text": [
      "Failed to download video from https://www.youtube.com/watch?v=0Beq_NIDj2c. Reason: 0Beq_NIDj2c is unavailable\n"
     ]
    },
    {
     "name": "stderr",
     "output_type": "stream",
     "text": [
      "  0%|▎                                                                      | 65/16054 [14:49<20:56:28,  4.72s/it]"
     ]
    },
    {
     "name": "stdout",
     "output_type": "stream",
     "text": [
      "Failed to download video from www.youtube.com/watch?v=AoQAPgEUIAs. Reason: AoQAPgEUIAs is unavailable\n"
     ]
    },
    {
     "name": "stderr",
     "output_type": "stream",
     "text": [
      "  0%|▎                                                                      | 69/16054 [15:06<17:23:35,  3.92s/it]"
     ]
    },
    {
     "name": "stdout",
     "output_type": "stream",
     "text": [
      "Failed to download video from www.youtube.com/watch?v=25BrmaKbzYo. Reason: 25BrmaKbzYo is a private video\n"
     ]
    },
    {
     "name": "stderr",
     "output_type": "stream",
     "text": [
      "  1%|▍                                                                     | 108/16054 [19:43<23:06:13,  5.22s/it]"
     ]
    },
    {
     "name": "stdout",
     "output_type": "stream",
     "text": [
      "Failed to download video from https://www.youtube.com/watch?v=CZkLkFnsNBA. Reason: CZkLkFnsNBA is unavailable\n"
     ]
    },
    {
     "name": "stderr",
     "output_type": "stream",
     "text": [
      "  1%|▍                                                                     | 114/16054 [20:12<17:48:14,  4.02s/it]"
     ]
    },
    {
     "name": "stdout",
     "output_type": "stream",
     "text": [
      "Failed to download video from https://www.youtube.com/watch?v=U_nbv5Mq00c. Reason: U_nbv5Mq00c is unavailable\n"
     ]
    },
    {
     "name": "stderr",
     "output_type": "stream",
     "text": [
      "\r",
      "  1%|▌                                                                     | 115/16054 [20:13<13:43:25,  3.10s/it]"
     ]
    },
    {
     "name": "stdout",
     "output_type": "stream",
     "text": [
      "Failed to download video from www.youtube.com/watch?v=trqyl20lEno. Reason: trqyl20lEno is unavailable\n"
     ]
    },
    {
     "name": "stderr",
     "output_type": "stream",
     "text": [
      "\r",
      "  1%|▌                                                                     | 116/16054 [20:14<10:55:28,  2.47s/it]"
     ]
    },
    {
     "name": "stdout",
     "output_type": "stream",
     "text": [
      "Failed to download video from www.youtube.com/watch?v=oySXUMX7nRY. Reason: oySXUMX7nRY is a private video\n"
     ]
    },
    {
     "name": "stderr",
     "output_type": "stream",
     "text": [
      "  1%|▌                                                                     | 126/16054 [21:04<19:22:55,  4.38s/it]"
     ]
    },
    {
     "name": "stdout",
     "output_type": "stream",
     "text": [
      "Failed to download video from www.youtube.com/watch?v=3DbWOEtUigU. Reason: 3DbWOEtUigU is unavailable\n"
     ]
    },
    {
     "name": "stderr",
     "output_type": "stream",
     "text": [
      "  1%|▌                                                                     | 129/16054 [21:19<20:09:35,  4.56s/it]"
     ]
    },
    {
     "name": "stdout",
     "output_type": "stream",
     "text": [
      "Failed to download video from www.youtube.com/watch?v=djZwwts-OiA. Reason: HTTP Error 503: Service Unavailable\n"
     ]
    },
    {
     "name": "stderr",
     "output_type": "stream",
     "text": [
      "\r",
      "  1%|▌                                                                     | 130/16054 [21:21<16:15:00,  3.67s/it]"
     ]
    },
    {
     "name": "stdout",
     "output_type": "stream",
     "text": [
      "Failed to download video from www.youtube.com/watch?v=o_Qs0qUiJN8. Reason: o_Qs0qUiJN8 is a private video\n"
     ]
    },
    {
     "name": "stderr",
     "output_type": "stream",
     "text": [
      "\r",
      "  1%|▌                                                                     | 131/16054 [21:22<13:16:20,  3.00s/it]"
     ]
    },
    {
     "name": "stdout",
     "output_type": "stream",
     "text": [
      "Failed to download video from https://www.youtube.com/watch?v=gI_6r7VCzM4. Reason: gI_6r7VCzM4 is a private video\n"
     ]
    },
    {
     "name": "stderr",
     "output_type": "stream",
     "text": [
      "\r",
      "  1%|▌                                                                     | 132/16054 [21:23<10:34:01,  2.39s/it]"
     ]
    },
    {
     "name": "stdout",
     "output_type": "stream",
     "text": [
      "Failed to download video from https://www.youtube.com/watch?v=gI_6r7VCzM4. Reason: gI_6r7VCzM4 is a private video\n"
     ]
    },
    {
     "name": "stderr",
     "output_type": "stream",
     "text": [
      "\r",
      "  1%|▌                                                                      | 133/16054 [21:24<9:01:43,  2.04s/it]"
     ]
    },
    {
     "name": "stdout",
     "output_type": "stream",
     "text": [
      "Failed to download video from https://www.youtube.com/watch?v=gI_6r7VCzM4. Reason: gI_6r7VCzM4 is a private video\n"
     ]
    },
    {
     "name": "stderr",
     "output_type": "stream",
     "text": [
      "\r",
      "  1%|▌                                                                      | 134/16054 [21:25<7:54:14,  1.79s/it]"
     ]
    },
    {
     "name": "stdout",
     "output_type": "stream",
     "text": [
      "Failed to download video from https://www.youtube.com/watch?v=gI_6r7VCzM4. Reason: gI_6r7VCzM4 is a private video\n"
     ]
    },
    {
     "name": "stderr",
     "output_type": "stream",
     "text": [
      "\r",
      "  1%|▌                                                                      | 135/16054 [21:26<6:46:13,  1.53s/it]"
     ]
    },
    {
     "name": "stdout",
     "output_type": "stream",
     "text": [
      "Failed to download video from https://www.youtube.com/watch?v=gI_6r7VCzM4. Reason: gI_6r7VCzM4 is a private video\n"
     ]
    },
    {
     "name": "stderr",
     "output_type": "stream",
     "text": [
      "\r",
      "  1%|▌                                                                      | 136/16054 [21:27<5:56:44,  1.34s/it]"
     ]
    },
    {
     "name": "stdout",
     "output_type": "stream",
     "text": [
      "Failed to download video from https://www.youtube.com/watch?v=gI_6r7VCzM4. Reason: gI_6r7VCzM4 is a private video\n"
     ]
    },
    {
     "name": "stderr",
     "output_type": "stream",
     "text": [
      "\r",
      "  1%|▌                                                                      | 137/16054 [21:28<5:24:16,  1.22s/it]"
     ]
    },
    {
     "name": "stdout",
     "output_type": "stream",
     "text": [
      "Failed to download video from https://www.youtube.com/watch?v=gI_6r7VCzM4. Reason: gI_6r7VCzM4 is a private video\n"
     ]
    },
    {
     "name": "stderr",
     "output_type": "stream",
     "text": [
      "\r",
      "  1%|▌                                                                      | 138/16054 [21:29<4:56:56,  1.12s/it]"
     ]
    },
    {
     "name": "stdout",
     "output_type": "stream",
     "text": [
      "Failed to download video from https://www.youtube.com/watch?v=gI_6r7VCzM4. Reason: gI_6r7VCzM4 is a private video\n"
     ]
    },
    {
     "name": "stderr",
     "output_type": "stream",
     "text": [
      "\r",
      "  1%|▌                                                                      | 139/16054 [21:30<4:41:39,  1.06s/it]"
     ]
    },
    {
     "name": "stdout",
     "output_type": "stream",
     "text": [
      "Failed to download video from https://www.youtube.com/watch?v=gI_6r7VCzM4. Reason: gI_6r7VCzM4 is a private video\n"
     ]
    },
    {
     "name": "stderr",
     "output_type": "stream",
     "text": [
      "\r",
      "  1%|▌                                                                      | 140/16054 [21:31<4:31:25,  1.02s/it]"
     ]
    },
    {
     "name": "stdout",
     "output_type": "stream",
     "text": [
      "Failed to download video from https://www.youtube.com/watch?v=gI_6r7VCzM4. Reason: gI_6r7VCzM4 is a private video\n"
     ]
    },
    {
     "name": "stderr",
     "output_type": "stream",
     "text": [
      "\r",
      "  1%|▌                                                                      | 141/16054 [21:32<4:25:56,  1.00s/it]"
     ]
    },
    {
     "name": "stdout",
     "output_type": "stream",
     "text": [
      "Failed to download video from https://www.youtube.com/watch?v=gI_6r7VCzM4. Reason: gI_6r7VCzM4 is a private video\n"
     ]
    },
    {
     "name": "stderr",
     "output_type": "stream",
     "text": [
      "\r",
      "  1%|▋                                                                      | 142/16054 [21:33<4:26:40,  1.01s/it]"
     ]
    },
    {
     "name": "stdout",
     "output_type": "stream",
     "text": [
      "Failed to download video from https://www.youtube.com/watch?v=gI_6r7VCzM4. Reason: gI_6r7VCzM4 is a private video\n"
     ]
    },
    {
     "name": "stderr",
     "output_type": "stream",
     "text": [
      "  1%|▋                                                                     | 158/16054 [22:43<15:14:13,  3.45s/it]"
     ]
    },
    {
     "name": "stdout",
     "output_type": "stream",
     "text": [
      "Failed to download video from www.youtube.com/watch?v=hx6vi97aPoM. Reason: hx6vi97aPoM is unavailable\n"
     ]
    },
    {
     "name": "stderr",
     "output_type": "stream",
     "text": [
      "  2%|█▎                                                                  | 303/16054 [1:17:50<47:07:27, 10.77s/it]"
     ]
    },
    {
     "name": "stdout",
     "output_type": "stream",
     "text": [
      "Failed to download video from https://www.youtube.com/watch?v=nFcSfNCaLLg. Reason: HTTP Error 503: Service Unavailable\n"
     ]
    },
    {
     "name": "stderr",
     "output_type": "stream",
     "text": [
      "  2%|█▎                                                                  | 308/16054 [1:18:11<20:19:03,  4.65s/it]"
     ]
    },
    {
     "name": "stdout",
     "output_type": "stream",
     "text": [
      "Failed to download video from www.youtube.com/watch?v=0FYsztUQnUM. Reason: 0FYsztUQnUM is unavailable\n"
     ]
    },
    {
     "name": "stderr",
     "output_type": "stream",
     "text": [
      "\r",
      "  2%|█▎                                                                  | 309/16054 [1:18:13<17:34:40,  4.02s/it]"
     ]
    },
    {
     "name": "stdout",
     "output_type": "stream",
     "text": [
      "Failed to download video from www.youtube.com/watch?v=v8h6mw4zGys. Reason: HTTP Error 503: Service Unavailable\n"
     ]
    },
    {
     "name": "stderr",
     "output_type": "stream",
     "text": [
      "  2%|█▎                                                                  | 311/16054 [1:18:19<14:29:35,  3.31s/it]"
     ]
    },
    {
     "name": "stdout",
     "output_type": "stream",
     "text": [
      "Failed to download video from https://www.youtube.com/watch?v=rJ5WlLJbNI8. Reason: rJ5WlLJbNI8 is unavailable\n"
     ]
    },
    {
     "name": "stderr",
     "output_type": "stream",
     "text": [
      "\r",
      "  2%|█▎                                                                  | 312/16054 [1:18:20<11:24:03,  2.61s/it]"
     ]
    },
    {
     "name": "stdout",
     "output_type": "stream",
     "text": [
      "Failed to download video from https://www.youtube.com/watch?v=rJ5WlLJbNI8. Reason: rJ5WlLJbNI8 is unavailable\n"
     ]
    },
    {
     "name": "stderr",
     "output_type": "stream",
     "text": [
      "\r",
      "  2%|█▎                                                                   | 313/16054 [1:18:21<9:10:03,  2.10s/it]"
     ]
    },
    {
     "name": "stdout",
     "output_type": "stream",
     "text": [
      "Failed to download video from www.youtube.com/watch?v=iA8S4bnsIIg. Reason: iA8S4bnsIIg is a private video\n"
     ]
    },
    {
     "name": "stderr",
     "output_type": "stream",
     "text": [
      "  2%|█▎                                                                  | 318/16054 [1:18:43<15:11:01,  3.47s/it]"
     ]
    },
    {
     "name": "stdout",
     "output_type": "stream",
     "text": [
      "Failed to download video from www.youtube.com/watch?v=g67ZXnEx9Z4. Reason: g67ZXnEx9Z4 is unavailable\n"
     ]
    },
    {
     "name": "stderr",
     "output_type": "stream",
     "text": [
      "  2%|█▎                                                                  | 322/16054 [1:19:00<15:45:08,  3.60s/it]"
     ]
    },
    {
     "name": "stdout",
     "output_type": "stream",
     "text": [
      "Failed to download video from www.youtube.com/watch?v=bNu8NnzOU-g. Reason: bNu8NnzOU-g is unavailable\n"
     ]
    },
    {
     "name": "stderr",
     "output_type": "stream",
     "text": [
      "  2%|█▍                                                                  | 342/16054 [1:21:16<19:56:15,  4.57s/it]"
     ]
    },
    {
     "name": "stdout",
     "output_type": "stream",
     "text": [
      "Failed to download video from https://www.youtube.com/watch?v=cocaN8kNl-s. Reason: cocaN8kNl-s is unavailable\n"
     ]
    },
    {
     "name": "stderr",
     "output_type": "stream",
     "text": [
      "\r",
      "  2%|█▍                                                                  | 343/16054 [1:21:17<15:13:53,  3.49s/it]"
     ]
    },
    {
     "name": "stdout",
     "output_type": "stream",
     "text": [
      "Failed to download video from https://www.youtube.com/watch?v=cocaN8kNl-s. Reason: cocaN8kNl-s is unavailable\n"
     ]
    },
    {
     "name": "stderr",
     "output_type": "stream",
     "text": [
      "  2%|█▋                                                                  | 400/16054 [1:32:35<34:22:39,  7.91s/it]"
     ]
    },
    {
     "name": "stdout",
     "output_type": "stream",
     "text": [
      "Failed to download video from www.youtube.com/watch?v=caqvrVq77P0. Reason: caqvrVq77P0 is a private video\n"
     ]
    },
    {
     "name": "stderr",
     "output_type": "stream",
     "text": [
      "  3%|█▊                                                                  | 422/16054 [1:34:41<18:32:37,  4.27s/it]"
     ]
    },
    {
     "name": "stdout",
     "output_type": "stream",
     "text": [
      "Failed to download video from www.youtube.com/watch?v=gTxh0X6n_YQ. Reason: gTxh0X6n_YQ is a private video\n"
     ]
    },
    {
     "name": "stderr",
     "output_type": "stream",
     "text": [
      "  3%|█▊                                                                  | 424/16054 [1:34:49<16:28:07,  3.79s/it]"
     ]
    },
    {
     "name": "stdout",
     "output_type": "stream",
     "text": [
      "Failed to download video from https://www.youtube.com/watch?v=T6ur5imNbrY. Reason: T6ur5imNbrY is unavailable\n"
     ]
    },
    {
     "name": "stderr",
     "output_type": "stream",
     "text": [
      "\r",
      "  3%|█▊                                                                  | 425/16054 [1:34:49<12:41:48,  2.92s/it]"
     ]
    },
    {
     "name": "stdout",
     "output_type": "stream",
     "text": [
      "Failed to download video from https://www.youtube.com/watch?v=T6ur5imNbrY. Reason: T6ur5imNbrY is unavailable\n"
     ]
    },
    {
     "name": "stderr",
     "output_type": "stream",
     "text": [
      "\r",
      "  3%|█▊                                                                  | 426/16054 [1:34:50<10:05:55,  2.33s/it]"
     ]
    },
    {
     "name": "stdout",
     "output_type": "stream",
     "text": [
      "Failed to download video from https://www.youtube.com/watch?v=T6ur5imNbrY. Reason: T6ur5imNbrY is unavailable\n"
     ]
    },
    {
     "name": "stderr",
     "output_type": "stream",
     "text": [
      "\r",
      "  3%|█▊                                                                  | 427/16054 [1:34:53<10:16:55,  2.37s/it]"
     ]
    },
    {
     "name": "stdout",
     "output_type": "stream",
     "text": [
      "Failed to download video from https://www.youtube.com/watch?v=T6ur5imNbrY. Reason: T6ur5imNbrY is unavailable\n"
     ]
    },
    {
     "name": "stderr",
     "output_type": "stream",
     "text": [
      "\r",
      "  3%|█▊                                                                   | 428/16054 [1:34:54<8:22:37,  1.93s/it]"
     ]
    },
    {
     "name": "stdout",
     "output_type": "stream",
     "text": [
      "Failed to download video from https://www.youtube.com/watch?v=T6ur5imNbrY. Reason: T6ur5imNbrY is unavailable\n"
     ]
    },
    {
     "name": "stderr",
     "output_type": "stream",
     "text": [
      "\r",
      "  3%|█▊                                                                   | 429/16054 [1:34:55<7:05:29,  1.63s/it]"
     ]
    },
    {
     "name": "stdout",
     "output_type": "stream",
     "text": [
      "Failed to download video from https://www.youtube.com/watch?v=T6ur5imNbrY. Reason: T6ur5imNbrY is unavailable\n"
     ]
    },
    {
     "name": "stderr",
     "output_type": "stream",
     "text": [
      "\r",
      "  3%|█▊                                                                   | 430/16054 [1:34:57<7:23:54,  1.70s/it]"
     ]
    },
    {
     "name": "stdout",
     "output_type": "stream",
     "text": [
      "Failed to download video from https://www.youtube.com/watch?v=T6ur5imNbrY. Reason: T6ur5imNbrY is unavailable\n"
     ]
    },
    {
     "name": "stderr",
     "output_type": "stream",
     "text": [
      "\r",
      "  3%|█▊                                                                   | 431/16054 [1:34:59<8:50:49,  2.04s/it]"
     ]
    },
    {
     "name": "stdout",
     "output_type": "stream",
     "text": [
      "Failed to download video from https://www.youtube.com/watch?v=T6ur5imNbrY. Reason: T6ur5imNbrY is unavailable\n"
     ]
    },
    {
     "name": "stderr",
     "output_type": "stream",
     "text": [
      "\r",
      "  3%|█▊                                                                   | 432/16054 [1:35:02<9:34:58,  2.21s/it]"
     ]
    },
    {
     "name": "stdout",
     "output_type": "stream",
     "text": [
      "Failed to download video from https://www.youtube.com/watch?v=T6ur5imNbrY. Reason: T6ur5imNbrY is unavailable\n"
     ]
    },
    {
     "name": "stderr",
     "output_type": "stream",
     "text": [
      "\r",
      "  3%|█▊                                                                   | 433/16054 [1:35:04<9:33:49,  2.20s/it]"
     ]
    },
    {
     "name": "stdout",
     "output_type": "stream",
     "text": [
      "Failed to download video from https://www.youtube.com/watch?v=T6ur5imNbrY. Reason: T6ur5imNbrY is unavailable\n"
     ]
    },
    {
     "name": "stderr",
     "output_type": "stream",
     "text": [
      "\r",
      "  3%|█▊                                                                   | 434/16054 [1:35:06<8:42:58,  2.01s/it]"
     ]
    },
    {
     "name": "stdout",
     "output_type": "stream",
     "text": [
      "Failed to download video from https://www.youtube.com/watch?v=T6ur5imNbrY. Reason: T6ur5imNbrY is unavailable\n"
     ]
    },
    {
     "name": "stderr",
     "output_type": "stream",
     "text": [
      "  3%|█▊                                                                  | 439/16054 [1:35:25<13:01:23,  3.00s/it]"
     ]
    },
    {
     "name": "stdout",
     "output_type": "stream",
     "text": [
      "Failed to download video from www.youtube.com/watch?v=knQUZvK_ceg. Reason: knQUZvK_ceg is unavailable\n"
     ]
    },
    {
     "name": "stderr",
     "output_type": "stream",
     "text": [
      "\r",
      "  3%|█▊                                                                  | 440/16054 [1:35:26<10:20:08,  2.38s/it]"
     ]
    },
    {
     "name": "stdout",
     "output_type": "stream",
     "text": [
      "Failed to download video from www.youtube.com/watch?v=zCUZOnKoKWQ. Reason: zCUZOnKoKWQ is unavailable\n"
     ]
    },
    {
     "name": "stderr",
     "output_type": "stream",
     "text": [
      "  3%|█▉                                                                  | 450/16054 [1:36:10<15:05:12,  3.48s/it]"
     ]
    },
    {
     "name": "stdout",
     "output_type": "stream",
     "text": [
      "Failed to download video from www.youtube.com/watch?v=GEoJ03O-cHE. Reason: GEoJ03O-cHE is unavailable\n"
     ]
    },
    {
     "name": "stderr",
     "output_type": "stream",
     "text": [
      "  3%|█▉                                                                  | 456/16054 [1:36:37<16:03:08,  3.70s/it]"
     ]
    },
    {
     "name": "stdout",
     "output_type": "stream",
     "text": [
      "Failed to download video from www.youtube.com/watch?v=au4SAlovob8. Reason: au4SAlovob8 is a private video\n"
     ]
    },
    {
     "name": "stderr",
     "output_type": "stream",
     "text": [
      "  3%|█▉                                                                  | 466/16054 [1:37:23<16:40:34,  3.85s/it]"
     ]
    },
    {
     "name": "stdout",
     "output_type": "stream",
     "text": [
      "Failed to download video from https://www.youtube.com/watch?v=PpeviLqqBtk. Reason: PpeviLqqBtk is unavailable\n"
     ]
    },
    {
     "name": "stderr",
     "output_type": "stream",
     "text": [
      "\r",
      "  3%|█▉                                                                  | 467/16054 [1:37:24<12:59:51,  3.00s/it]"
     ]
    },
    {
     "name": "stdout",
     "output_type": "stream",
     "text": [
      "Failed to download video from https://www.youtube.com/watch?v=PpeviLqqBtk. Reason: PpeviLqqBtk is unavailable\n"
     ]
    },
    {
     "name": "stderr",
     "output_type": "stream",
     "text": [
      "\r",
      "  3%|█▉                                                                  | 468/16054 [1:37:25<10:24:59,  2.41s/it]"
     ]
    },
    {
     "name": "stdout",
     "output_type": "stream",
     "text": [
      "Failed to download video from https://www.youtube.com/watch?v=PpeviLqqBtk. Reason: PpeviLqqBtk is unavailable\n"
     ]
    },
    {
     "name": "stderr",
     "output_type": "stream",
     "text": [
      "\r",
      "  3%|██                                                                   | 469/16054 [1:37:26<8:31:56,  1.97s/it]"
     ]
    },
    {
     "name": "stdout",
     "output_type": "stream",
     "text": [
      "Failed to download video from https://www.youtube.com/watch?v=PpeviLqqBtk. Reason: PpeviLqqBtk is unavailable\n"
     ]
    },
    {
     "name": "stderr",
     "output_type": "stream",
     "text": [
      "\r",
      "  3%|██                                                                   | 470/16054 [1:37:26<7:14:52,  1.67s/it]"
     ]
    },
    {
     "name": "stdout",
     "output_type": "stream",
     "text": [
      "Failed to download video from https://www.youtube.com/watch?v=PpeviLqqBtk. Reason: PpeviLqqBtk is unavailable\n"
     ]
    },
    {
     "name": "stderr",
     "output_type": "stream",
     "text": [
      "\r",
      "  3%|██                                                                   | 471/16054 [1:37:27<6:20:32,  1.47s/it]"
     ]
    },
    {
     "name": "stdout",
     "output_type": "stream",
     "text": [
      "Failed to download video from https://www.youtube.com/watch?v=PpeviLqqBtk. Reason: PpeviLqqBtk is unavailable\n"
     ]
    },
    {
     "name": "stderr",
     "output_type": "stream",
     "text": [
      "\r",
      "  3%|██                                                                   | 472/16054 [1:37:29<5:48:40,  1.34s/it]"
     ]
    },
    {
     "name": "stdout",
     "output_type": "stream",
     "text": [
      "Failed to download video from https://www.youtube.com/watch?v=PpeviLqqBtk. Reason: PpeviLqqBtk is unavailable\n"
     ]
    },
    {
     "name": "stderr",
     "output_type": "stream",
     "text": [
      "\r",
      "  3%|██                                                                   | 473/16054 [1:37:30<5:27:42,  1.26s/it]"
     ]
    },
    {
     "name": "stdout",
     "output_type": "stream",
     "text": [
      "Failed to download video from https://www.youtube.com/watch?v=PpeviLqqBtk. Reason: PpeviLqqBtk is unavailable\n"
     ]
    },
    {
     "name": "stderr",
     "output_type": "stream",
     "text": [
      "\r",
      "  3%|██                                                                   | 474/16054 [1:37:31<5:08:28,  1.19s/it]"
     ]
    },
    {
     "name": "stdout",
     "output_type": "stream",
     "text": [
      "Failed to download video from https://www.youtube.com/watch?v=PpeviLqqBtk. Reason: PpeviLqqBtk is unavailable\n"
     ]
    },
    {
     "name": "stderr",
     "output_type": "stream",
     "text": [
      "\r",
      "  3%|██                                                                   | 475/16054 [1:37:32<4:47:52,  1.11s/it]"
     ]
    },
    {
     "name": "stdout",
     "output_type": "stream",
     "text": [
      "Failed to download video from https://www.youtube.com/watch?v=PpeviLqqBtk. Reason: PpeviLqqBtk is unavailable\n"
     ]
    },
    {
     "name": "stderr",
     "output_type": "stream",
     "text": [
      "\r",
      "  3%|██                                                                   | 476/16054 [1:37:33<4:42:22,  1.09s/it]"
     ]
    },
    {
     "name": "stdout",
     "output_type": "stream",
     "text": [
      "Failed to download video from https://www.youtube.com/watch?v=PpeviLqqBtk. Reason: PpeviLqqBtk is unavailable\n"
     ]
    },
    {
     "name": "stderr",
     "output_type": "stream",
     "text": [
      "\r",
      "  3%|██                                                                   | 477/16054 [1:37:34<4:39:52,  1.08s/it]"
     ]
    },
    {
     "name": "stdout",
     "output_type": "stream",
     "text": [
      "Failed to download video from https://www.youtube.com/watch?v=PpeviLqqBtk. Reason: PpeviLqqBtk is unavailable\n"
     ]
    },
    {
     "name": "stderr",
     "output_type": "stream",
     "text": [
      "\r",
      "  3%|██                                                                   | 478/16054 [1:37:35<5:02:49,  1.17s/it]"
     ]
    },
    {
     "name": "stdout",
     "output_type": "stream",
     "text": [
      "Failed to download video from https://www.youtube.com/watch?v=PpeviLqqBtk. Reason: PpeviLqqBtk is unavailable\n"
     ]
    },
    {
     "name": "stderr",
     "output_type": "stream",
     "text": [
      "\r",
      "  3%|██                                                                   | 479/16054 [1:37:36<4:46:42,  1.10s/it]"
     ]
    },
    {
     "name": "stdout",
     "output_type": "stream",
     "text": [
      "Failed to download video from https://www.youtube.com/watch?v=PpeviLqqBtk. Reason: PpeviLqqBtk is unavailable\n"
     ]
    },
    {
     "name": "stderr",
     "output_type": "stream",
     "text": [
      "\r",
      "  3%|██                                                                   | 480/16054 [1:37:37<4:31:52,  1.05s/it]"
     ]
    },
    {
     "name": "stdout",
     "output_type": "stream",
     "text": [
      "Failed to download video from https://www.youtube.com/watch?v=PpeviLqqBtk. Reason: PpeviLqqBtk is unavailable\n"
     ]
    },
    {
     "name": "stderr",
     "output_type": "stream",
     "text": [
      "\r",
      "  3%|██                                                                   | 481/16054 [1:37:38<4:57:52,  1.15s/it]"
     ]
    },
    {
     "name": "stdout",
     "output_type": "stream",
     "text": [
      "Failed to download video from https://www.youtube.com/watch?v=PpeviLqqBtk. Reason: PpeviLqqBtk is unavailable\n"
     ]
    },
    {
     "name": "stderr",
     "output_type": "stream",
     "text": [
      "\r",
      "  3%|██                                                                   | 482/16054 [1:37:40<5:54:45,  1.37s/it]"
     ]
    },
    {
     "name": "stdout",
     "output_type": "stream",
     "text": [
      "Failed to download video from https://www.youtube.com/watch?v=PpeviLqqBtk. Reason: PpeviLqqBtk is unavailable\n"
     ]
    },
    {
     "name": "stderr",
     "output_type": "stream",
     "text": [
      "\r",
      "  3%|██                                                                   | 483/16054 [1:37:42<5:55:30,  1.37s/it]"
     ]
    },
    {
     "name": "stdout",
     "output_type": "stream",
     "text": [
      "Failed to download video from https://www.youtube.com/watch?v=PpeviLqqBtk. Reason: PpeviLqqBtk is unavailable\n"
     ]
    },
    {
     "name": "stderr",
     "output_type": "stream",
     "text": [
      "\r",
      "  3%|██                                                                   | 484/16054 [1:37:43<6:12:55,  1.44s/it]"
     ]
    },
    {
     "name": "stdout",
     "output_type": "stream",
     "text": [
      "Failed to download video from https://www.youtube.com/watch?v=PpeviLqqBtk. Reason: PpeviLqqBtk is unavailable\n"
     ]
    },
    {
     "name": "stderr",
     "output_type": "stream",
     "text": [
      "\r",
      "  3%|██                                                                   | 485/16054 [1:37:45<6:20:22,  1.47s/it]"
     ]
    },
    {
     "name": "stdout",
     "output_type": "stream",
     "text": [
      "Failed to download video from https://www.youtube.com/watch?v=PpeviLqqBtk. Reason: PpeviLqqBtk is unavailable\n"
     ]
    },
    {
     "name": "stderr",
     "output_type": "stream",
     "text": [
      "\r",
      "  3%|██                                                                   | 486/16054 [1:37:46<5:56:15,  1.37s/it]"
     ]
    },
    {
     "name": "stdout",
     "output_type": "stream",
     "text": [
      "Failed to download video from https://www.youtube.com/watch?v=PpeviLqqBtk. Reason: PpeviLqqBtk is unavailable\n"
     ]
    },
    {
     "name": "stderr",
     "output_type": "stream",
     "text": [
      "\r",
      "  3%|██                                                                   | 487/16054 [1:37:47<5:52:09,  1.36s/it]"
     ]
    },
    {
     "name": "stdout",
     "output_type": "stream",
     "text": [
      "Failed to download video from https://www.youtube.com/watch?v=PpeviLqqBtk. Reason: PpeviLqqBtk is unavailable\n"
     ]
    },
    {
     "name": "stderr",
     "output_type": "stream",
     "text": [
      "\r",
      "  3%|██                                                                   | 488/16054 [1:37:48<5:41:23,  1.32s/it]"
     ]
    },
    {
     "name": "stdout",
     "output_type": "stream",
     "text": [
      "Failed to download video from https://www.youtube.com/watch?v=PpeviLqqBtk. Reason: PpeviLqqBtk is unavailable\n"
     ]
    },
    {
     "name": "stderr",
     "output_type": "stream",
     "text": [
      "\r",
      "  3%|██                                                                   | 489/16054 [1:37:49<5:17:53,  1.23s/it]"
     ]
    },
    {
     "name": "stdout",
     "output_type": "stream",
     "text": [
      "Failed to download video from https://www.youtube.com/watch?v=PpeviLqqBtk. Reason: PpeviLqqBtk is unavailable\n"
     ]
    },
    {
     "name": "stderr",
     "output_type": "stream",
     "text": [
      "\r",
      "  3%|██                                                                   | 490/16054 [1:37:51<5:41:50,  1.32s/it]"
     ]
    },
    {
     "name": "stdout",
     "output_type": "stream",
     "text": [
      "Failed to download video from https://www.youtube.com/watch?v=PpeviLqqBtk. Reason: PpeviLqqBtk is unavailable\n"
     ]
    },
    {
     "name": "stderr",
     "output_type": "stream",
     "text": [
      "  3%|██                                                                  | 501/16054 [1:38:51<17:19:52,  4.01s/it]"
     ]
    },
    {
     "name": "stdout",
     "output_type": "stream",
     "text": [
      "Failed to download video from https://www.youtube.com/watch?v=Cgh1DXAQBuI. Reason: Cgh1DXAQBuI is unavailable\n"
     ]
    },
    {
     "name": "stderr",
     "output_type": "stream",
     "text": [
      "\r",
      "  3%|██▏                                                                 | 502/16054 [1:38:52<13:24:48,  3.10s/it]"
     ]
    },
    {
     "name": "stdout",
     "output_type": "stream",
     "text": [
      "Failed to download video from https://www.youtube.com/watch?v=Cgh1DXAQBuI. Reason: Cgh1DXAQBuI is unavailable\n"
     ]
    },
    {
     "name": "stderr",
     "output_type": "stream",
     "text": [
      "\r",
      "  3%|██▏                                                                 | 503/16054 [1:38:53<10:33:23,  2.44s/it]"
     ]
    },
    {
     "name": "stdout",
     "output_type": "stream",
     "text": [
      "Failed to download video from https://www.youtube.com/watch?v=Cgh1DXAQBuI. Reason: Cgh1DXAQBuI is unavailable\n"
     ]
    },
    {
     "name": "stderr",
     "output_type": "stream",
     "text": [
      "\r",
      "  3%|██▏                                                                  | 504/16054 [1:38:54<8:38:58,  2.00s/it]"
     ]
    },
    {
     "name": "stdout",
     "output_type": "stream",
     "text": [
      "Failed to download video from https://www.youtube.com/watch?v=Cgh1DXAQBuI. Reason: Cgh1DXAQBuI is unavailable\n"
     ]
    },
    {
     "name": "stderr",
     "output_type": "stream",
     "text": [
      "\r",
      "  3%|██▏                                                                  | 505/16054 [1:38:55<8:14:16,  1.91s/it]"
     ]
    },
    {
     "name": "stdout",
     "output_type": "stream",
     "text": [
      "Failed to download video from https://www.youtube.com/watch?v=Cgh1DXAQBuI. Reason: Cgh1DXAQBuI is unavailable\n"
     ]
    },
    {
     "name": "stderr",
     "output_type": "stream",
     "text": [
      "\r",
      "  3%|██▏                                                                  | 506/16054 [1:38:56<6:57:15,  1.61s/it]"
     ]
    },
    {
     "name": "stdout",
     "output_type": "stream",
     "text": [
      "Failed to download video from https://www.youtube.com/watch?v=Cgh1DXAQBuI. Reason: Cgh1DXAQBuI is unavailable\n"
     ]
    },
    {
     "name": "stderr",
     "output_type": "stream",
     "text": [
      "\r",
      "  3%|██▏                                                                  | 507/16054 [1:38:57<6:08:59,  1.42s/it]"
     ]
    },
    {
     "name": "stdout",
     "output_type": "stream",
     "text": [
      "Failed to download video from https://www.youtube.com/watch?v=Cgh1DXAQBuI. Reason: Cgh1DXAQBuI is unavailable\n"
     ]
    },
    {
     "name": "stderr",
     "output_type": "stream",
     "text": [
      "\r",
      "  3%|██▏                                                                  | 508/16054 [1:38:58<5:42:14,  1.32s/it]"
     ]
    },
    {
     "name": "stdout",
     "output_type": "stream",
     "text": [
      "Failed to download video from https://www.youtube.com/watch?v=Cgh1DXAQBuI. Reason: Cgh1DXAQBuI is unavailable\n"
     ]
    },
    {
     "name": "stderr",
     "output_type": "stream",
     "text": [
      "\r",
      "  3%|██▏                                                                  | 509/16054 [1:38:59<5:23:07,  1.25s/it]"
     ]
    },
    {
     "name": "stdout",
     "output_type": "stream",
     "text": [
      "Failed to download video from https://www.youtube.com/watch?v=Cgh1DXAQBuI. Reason: Cgh1DXAQBuI is unavailable\n"
     ]
    },
    {
     "name": "stderr",
     "output_type": "stream",
     "text": [
      "\r",
      "  3%|██▏                                                                  | 510/16054 [1:39:00<5:03:22,  1.17s/it]"
     ]
    },
    {
     "name": "stdout",
     "output_type": "stream",
     "text": [
      "Failed to download video from https://www.youtube.com/watch?v=Cgh1DXAQBuI. Reason: Cgh1DXAQBuI is unavailable\n"
     ]
    },
    {
     "name": "stderr",
     "output_type": "stream",
     "text": [
      "\r",
      "  3%|██▏                                                                  | 511/16054 [1:39:01<4:44:51,  1.10s/it]"
     ]
    },
    {
     "name": "stdout",
     "output_type": "stream",
     "text": [
      "Failed to download video from https://www.youtube.com/watch?v=Cgh1DXAQBuI. Reason: Cgh1DXAQBuI is unavailable\n"
     ]
    },
    {
     "name": "stderr",
     "output_type": "stream",
     "text": [
      "\r",
      "  3%|██▏                                                                  | 512/16054 [1:39:02<4:30:29,  1.04s/it]"
     ]
    },
    {
     "name": "stdout",
     "output_type": "stream",
     "text": [
      "Failed to download video from https://www.youtube.com/watch?v=Cgh1DXAQBuI. Reason: Cgh1DXAQBuI is unavailable\n"
     ]
    },
    {
     "name": "stderr",
     "output_type": "stream",
     "text": [
      "\r",
      "  3%|██▏                                                                  | 513/16054 [1:39:03<4:17:19,  1.01it/s]"
     ]
    },
    {
     "name": "stdout",
     "output_type": "stream",
     "text": [
      "Failed to download video from https://www.youtube.com/watch?v=Cgh1DXAQBuI. Reason: Cgh1DXAQBuI is unavailable\n"
     ]
    },
    {
     "name": "stderr",
     "output_type": "stream",
     "text": [
      "\r",
      "  3%|██▏                                                                  | 514/16054 [1:39:04<4:14:17,  1.02it/s]"
     ]
    },
    {
     "name": "stdout",
     "output_type": "stream",
     "text": [
      "Failed to download video from https://www.youtube.com/watch?v=Cgh1DXAQBuI. Reason: Cgh1DXAQBuI is unavailable\n"
     ]
    },
    {
     "name": "stderr",
     "output_type": "stream",
     "text": [
      "\r",
      "  3%|██▏                                                                  | 515/16054 [1:39:05<4:14:06,  1.02it/s]"
     ]
    },
    {
     "name": "stdout",
     "output_type": "stream",
     "text": [
      "Failed to download video from https://www.youtube.com/watch?v=Cgh1DXAQBuI. Reason: Cgh1DXAQBuI is unavailable\n"
     ]
    },
    {
     "name": "stderr",
     "output_type": "stream",
     "text": [
      "\r",
      "  3%|██▏                                                                  | 516/16054 [1:39:06<4:06:42,  1.05it/s]"
     ]
    },
    {
     "name": "stdout",
     "output_type": "stream",
     "text": [
      "Failed to download video from https://www.youtube.com/watch?v=Cgh1DXAQBuI. Reason: Cgh1DXAQBuI is unavailable\n"
     ]
    },
    {
     "name": "stderr",
     "output_type": "stream",
     "text": [
      "\r",
      "  3%|██▏                                                                  | 517/16054 [1:39:07<4:02:41,  1.07it/s]"
     ]
    },
    {
     "name": "stdout",
     "output_type": "stream",
     "text": [
      "Failed to download video from https://www.youtube.com/watch?v=Cgh1DXAQBuI. Reason: Cgh1DXAQBuI is unavailable\n"
     ]
    },
    {
     "name": "stderr",
     "output_type": "stream",
     "text": [
      "\r",
      "  3%|██▏                                                                  | 518/16054 [1:39:08<3:58:59,  1.08it/s]"
     ]
    },
    {
     "name": "stdout",
     "output_type": "stream",
     "text": [
      "Failed to download video from https://www.youtube.com/watch?v=Cgh1DXAQBuI. Reason: Cgh1DXAQBuI is unavailable\n"
     ]
    },
    {
     "name": "stderr",
     "output_type": "stream",
     "text": [
      "\r",
      "  3%|██▏                                                                  | 519/16054 [1:39:09<4:00:05,  1.08it/s]"
     ]
    },
    {
     "name": "stdout",
     "output_type": "stream",
     "text": [
      "Failed to download video from https://www.youtube.com/watch?v=Cgh1DXAQBuI. Reason: Cgh1DXAQBuI is unavailable\n"
     ]
    },
    {
     "name": "stderr",
     "output_type": "stream",
     "text": [
      "\r",
      "  3%|██▏                                                                  | 520/16054 [1:39:10<4:42:41,  1.09s/it]"
     ]
    },
    {
     "name": "stdout",
     "output_type": "stream",
     "text": [
      "Failed to download video from https://www.youtube.com/watch?v=Cgh1DXAQBuI. Reason: Cgh1DXAQBuI is unavailable\n"
     ]
    },
    {
     "name": "stderr",
     "output_type": "stream",
     "text": [
      "\r",
      "  3%|██▏                                                                  | 521/16054 [1:39:11<4:29:03,  1.04s/it]"
     ]
    },
    {
     "name": "stdout",
     "output_type": "stream",
     "text": [
      "Failed to download video from https://www.youtube.com/watch?v=Cgh1DXAQBuI. Reason: Cgh1DXAQBuI is unavailable\n"
     ]
    },
    {
     "name": "stderr",
     "output_type": "stream",
     "text": [
      "\r",
      "  3%|██▏                                                                  | 522/16054 [1:39:12<4:18:20,  1.00it/s]"
     ]
    },
    {
     "name": "stdout",
     "output_type": "stream",
     "text": [
      "Failed to download video from https://www.youtube.com/watch?v=Cgh1DXAQBuI. Reason: Cgh1DXAQBuI is unavailable\n"
     ]
    },
    {
     "name": "stderr",
     "output_type": "stream",
     "text": [
      "\r",
      "  3%|██▏                                                                  | 523/16054 [1:39:13<4:42:17,  1.09s/it]"
     ]
    },
    {
     "name": "stdout",
     "output_type": "stream",
     "text": [
      "Failed to download video from https://www.youtube.com/watch?v=Cgh1DXAQBuI. Reason: Cgh1DXAQBuI is unavailable\n"
     ]
    },
    {
     "name": "stderr",
     "output_type": "stream",
     "text": [
      "\r",
      "  3%|██▎                                                                  | 524/16054 [1:39:15<5:05:52,  1.18s/it]"
     ]
    },
    {
     "name": "stdout",
     "output_type": "stream",
     "text": [
      "Failed to download video from https://www.youtube.com/watch?v=Cgh1DXAQBuI. Reason: Cgh1DXAQBuI is unavailable\n"
     ]
    },
    {
     "name": "stderr",
     "output_type": "stream",
     "text": [
      "\r",
      "  3%|██▎                                                                  | 525/16054 [1:39:16<5:34:33,  1.29s/it]"
     ]
    },
    {
     "name": "stdout",
     "output_type": "stream",
     "text": [
      "Failed to download video from https://www.youtube.com/watch?v=Cgh1DXAQBuI. Reason: Cgh1DXAQBuI is unavailable\n"
     ]
    },
    {
     "name": "stderr",
     "output_type": "stream",
     "text": [
      "\r",
      "  3%|██▎                                                                  | 526/16054 [1:39:18<5:44:48,  1.33s/it]"
     ]
    },
    {
     "name": "stdout",
     "output_type": "stream",
     "text": [
      "Failed to download video from https://www.youtube.com/watch?v=Cgh1DXAQBuI. Reason: Cgh1DXAQBuI is unavailable\n"
     ]
    },
    {
     "name": "stderr",
     "output_type": "stream",
     "text": [
      "\r",
      "  3%|██▎                                                                  | 527/16054 [1:39:20<7:28:25,  1.73s/it]"
     ]
    },
    {
     "name": "stdout",
     "output_type": "stream",
     "text": [
      "Failed to download video from https://www.youtube.com/watch?v=Cgh1DXAQBuI. Reason: Cgh1DXAQBuI is unavailable\n"
     ]
    },
    {
     "name": "stderr",
     "output_type": "stream",
     "text": [
      "\r",
      "  3%|██▎                                                                  | 528/16054 [1:39:23<9:01:03,  2.09s/it]"
     ]
    },
    {
     "name": "stdout",
     "output_type": "stream",
     "text": [
      "Failed to download video from https://www.youtube.com/watch?v=Cgh1DXAQBuI. Reason: Cgh1DXAQBuI is unavailable\n"
     ]
    },
    {
     "name": "stderr",
     "output_type": "stream",
     "text": [
      "\r",
      "  3%|██▏                                                                 | 529/16054 [1:39:26<10:18:43,  2.39s/it]"
     ]
    },
    {
     "name": "stdout",
     "output_type": "stream",
     "text": [
      "Failed to download video from https://www.youtube.com/watch?v=Cgh1DXAQBuI. Reason: Cgh1DXAQBuI is unavailable\n"
     ]
    },
    {
     "name": "stderr",
     "output_type": "stream",
     "text": [
      "\r",
      "  3%|██▏                                                                 | 530/16054 [1:39:29<11:10:53,  2.59s/it]"
     ]
    },
    {
     "name": "stdout",
     "output_type": "stream",
     "text": [
      "Failed to download video from https://www.youtube.com/watch?v=Cgh1DXAQBuI. Reason: Cgh1DXAQBuI is unavailable\n"
     ]
    },
    {
     "name": "stderr",
     "output_type": "stream",
     "text": [
      "\r",
      "  3%|██▏                                                                 | 531/16054 [1:39:32<11:11:11,  2.59s/it]"
     ]
    },
    {
     "name": "stdout",
     "output_type": "stream",
     "text": [
      "Failed to download video from https://www.youtube.com/watch?v=Cgh1DXAQBuI. Reason: Cgh1DXAQBuI is unavailable\n"
     ]
    },
    {
     "name": "stderr",
     "output_type": "stream",
     "text": [
      "\r",
      "  3%|██▎                                                                 | 532/16054 [1:39:34<10:43:46,  2.49s/it]"
     ]
    },
    {
     "name": "stdout",
     "output_type": "stream",
     "text": [
      "Failed to download video from https://www.youtube.com/watch?v=aE_nEWcmeEk. Reason: aE_nEWcmeEk is unavailable\n"
     ]
    },
    {
     "name": "stderr",
     "output_type": "stream",
     "text": [
      "\r",
      "  3%|██▎                                                                  | 533/16054 [1:39:36<9:58:29,  2.31s/it]"
     ]
    },
    {
     "name": "stdout",
     "output_type": "stream",
     "text": [
      "Failed to download video from https://www.youtube.com/watch?v=aE_nEWcmeEk. Reason: aE_nEWcmeEk is unavailable\n"
     ]
    },
    {
     "name": "stderr",
     "output_type": "stream",
     "text": [
      "  3%|██▎                                                                 | 535/16054 [1:40:25<50:40:12, 11.75s/it]"
     ]
    },
    {
     "name": "stdout",
     "output_type": "stream",
     "text": [
      "Failed to download video from https://www.youtube.com/watch?v=tJ2SbVaNdCo. Reason: HTTP Error 503: Service Unavailable\n"
     ]
    },
    {
     "name": "stderr",
     "output_type": "stream",
     "text": [
      "  4%|██▍                                                                 | 587/16054 [1:55:37<25:41:39,  5.98s/it]"
     ]
    },
    {
     "name": "stdout",
     "output_type": "stream",
     "text": [
      "Failed to download video from www.youtube.com/watch?v=98Dc1XXwork. Reason: 98Dc1XXwork is unavailable\n"
     ]
    },
    {
     "name": "stderr",
     "output_type": "stream",
     "text": [
      "  4%|██▌                                                                 | 595/16054 [1:56:28<20:25:33,  4.76s/it]"
     ]
    },
    {
     "name": "stdout",
     "output_type": "stream",
     "text": [
      "Failed to download video from www.youtube.com/watch?v=mhJvv6lTQ90. Reason: mhJvv6lTQ90 is unavailable\n"
     ]
    },
    {
     "name": "stderr",
     "output_type": "stream",
     "text": [
      "  4%|██▌                                                                 | 598/16054 [1:56:39<15:53:29,  3.70s/it]"
     ]
    },
    {
     "name": "stdout",
     "output_type": "stream",
     "text": [
      "Failed to download video from www.youtube.com/watch?v=DEX22ndvvfY. Reason: DEX22ndvvfY is a private video\n"
     ]
    },
    {
     "name": "stderr",
     "output_type": "stream",
     "text": [
      "  4%|██▌                                                                 | 600/16054 [1:56:49<17:31:54,  4.08s/it]"
     ]
    },
    {
     "name": "stdout",
     "output_type": "stream",
     "text": [
      "Failed to download video from https://www.youtube.com/watch?v=K2AZZ6Pqm4E. Reason: HTTP Error 503: Service Unavailable\n"
     ]
    },
    {
     "name": "stderr",
     "output_type": "stream",
     "text": [
      "  4%|██▌                                                                 | 608/16054 [1:57:20<14:05:21,  3.28s/it]"
     ]
    },
    {
     "name": "stdout",
     "output_type": "stream",
     "text": [
      "Failed to download video from www.youtube.com/watch?v=1DmLfk0JE84. Reason: 1DmLfk0JE84 is unavailable\n"
     ]
    },
    {
     "name": "stderr",
     "output_type": "stream",
     "text": [
      "  4%|██▌                                                                 | 610/16054 [1:57:28<14:31:58,  3.39s/it]"
     ]
    },
    {
     "name": "stdout",
     "output_type": "stream",
     "text": [
      "Failed to download video from https://www.youtube.com/watch?v=7XgQrNMGmYk. Reason: 7XgQrNMGmYk is unavailable\n"
     ]
    },
    {
     "name": "stderr",
     "output_type": "stream",
     "text": [
      "\r",
      "  4%|██▌                                                                 | 611/16054 [1:57:29<11:39:05,  2.72s/it]"
     ]
    },
    {
     "name": "stdout",
     "output_type": "stream",
     "text": [
      "Failed to download video from https://www.youtube.com/watch?v=7XgQrNMGmYk. Reason: 7XgQrNMGmYk is unavailable\n"
     ]
    },
    {
     "name": "stderr",
     "output_type": "stream",
     "text": [
      "\r",
      "  4%|██▋                                                                  | 612/16054 [1:57:31<9:38:10,  2.25s/it]"
     ]
    },
    {
     "name": "stdout",
     "output_type": "stream",
     "text": [
      "Failed to download video from www.youtube.com/watch?v=9toTZ-aMVWs. Reason: 9toTZ-aMVWs is a private video\n"
     ]
    },
    {
     "name": "stderr",
     "output_type": "stream",
     "text": [
      "  4%|██▋                                                                 | 622/16054 [1:58:42<26:18:30,  6.14s/it]"
     ]
    },
    {
     "name": "stdout",
     "output_type": "stream",
     "text": [
      "Failed to download video from https://www.youtube.com/watch?v=XlydB3y9Uec. Reason: HTTP Error 503: Service Unavailable\n"
     ]
    },
    {
     "name": "stderr",
     "output_type": "stream",
     "text": [
      "  4%|██▊                                                                 | 653/16054 [2:02:42<19:49:37,  4.63s/it]"
     ]
    },
    {
     "name": "stdout",
     "output_type": "stream",
     "text": [
      "Failed to download video from https://www.youtube.com/watch?v=7YYB3BEoksc. Reason: 7YYB3BEoksc is a private video\n"
     ]
    },
    {
     "name": "stderr",
     "output_type": "stream",
     "text": [
      "\r",
      "  4%|██▊                                                                 | 654/16054 [2:02:43<15:04:14,  3.52s/it]"
     ]
    },
    {
     "name": "stdout",
     "output_type": "stream",
     "text": [
      "Failed to download video from https://www.youtube.com/watch?v=7YYB3BEoksc. Reason: 7YYB3BEoksc is a private video\n"
     ]
    },
    {
     "name": "stderr",
     "output_type": "stream",
     "text": [
      "\r",
      "  4%|██▊                                                                 | 655/16054 [2:02:44<11:55:24,  2.79s/it]"
     ]
    },
    {
     "name": "stdout",
     "output_type": "stream",
     "text": [
      "Failed to download video from https://www.youtube.com/watch?v=7YYB3BEoksc. Reason: 7YYB3BEoksc is a private video\n"
     ]
    },
    {
     "name": "stderr",
     "output_type": "stream",
     "text": [
      "\r",
      "  4%|██▊                                                                  | 656/16054 [2:02:45<9:53:06,  2.31s/it]"
     ]
    },
    {
     "name": "stdout",
     "output_type": "stream",
     "text": [
      "Failed to download video from https://www.youtube.com/watch?v=7YYB3BEoksc. Reason: 7YYB3BEoksc is a private video\n"
     ]
    },
    {
     "name": "stderr",
     "output_type": "stream",
     "text": [
      "\r",
      "  4%|██▊                                                                  | 657/16054 [2:02:46<8:11:00,  1.91s/it]"
     ]
    },
    {
     "name": "stdout",
     "output_type": "stream",
     "text": [
      "Failed to download video from https://www.youtube.com/watch?v=7YYB3BEoksc. Reason: 7YYB3BEoksc is a private video\n"
     ]
    },
    {
     "name": "stderr",
     "output_type": "stream",
     "text": [
      "\r",
      "  4%|██▊                                                                  | 658/16054 [2:02:47<6:56:45,  1.62s/it]"
     ]
    },
    {
     "name": "stdout",
     "output_type": "stream",
     "text": [
      "Failed to download video from https://www.youtube.com/watch?v=7YYB3BEoksc. Reason: 7YYB3BEoksc is a private video\n"
     ]
    },
    {
     "name": "stderr",
     "output_type": "stream",
     "text": [
      "\r",
      "  4%|██▊                                                                  | 659/16054 [2:02:48<6:03:49,  1.42s/it]"
     ]
    },
    {
     "name": "stdout",
     "output_type": "stream",
     "text": [
      "Failed to download video from https://www.youtube.com/watch?v=7YYB3BEoksc. Reason: 7YYB3BEoksc is a private video\n"
     ]
    },
    {
     "name": "stderr",
     "output_type": "stream",
     "text": [
      "\r",
      "  4%|██▊                                                                  | 660/16054 [2:02:49<5:29:16,  1.28s/it]"
     ]
    },
    {
     "name": "stdout",
     "output_type": "stream",
     "text": [
      "Failed to download video from https://www.youtube.com/watch?v=7YYB3BEoksc. Reason: 7YYB3BEoksc is a private video\n"
     ]
    },
    {
     "name": "stderr",
     "output_type": "stream",
     "text": [
      "\r",
      "  4%|██▊                                                                  | 661/16054 [2:02:50<5:06:08,  1.19s/it]"
     ]
    },
    {
     "name": "stdout",
     "output_type": "stream",
     "text": [
      "Failed to download video from https://www.youtube.com/watch?v=7YYB3BEoksc. Reason: 7YYB3BEoksc is a private video\n"
     ]
    },
    {
     "name": "stderr",
     "output_type": "stream",
     "text": [
      "\r",
      "  4%|██▊                                                                  | 662/16054 [2:02:51<4:49:19,  1.13s/it]"
     ]
    },
    {
     "name": "stdout",
     "output_type": "stream",
     "text": [
      "Failed to download video from https://www.youtube.com/watch?v=7YYB3BEoksc. Reason: 7YYB3BEoksc is a private video\n"
     ]
    },
    {
     "name": "stderr",
     "output_type": "stream",
     "text": [
      "\r",
      "  4%|██▊                                                                  | 663/16054 [2:02:52<4:41:25,  1.10s/it]"
     ]
    },
    {
     "name": "stdout",
     "output_type": "stream",
     "text": [
      "Failed to download video from https://www.youtube.com/watch?v=7YYB3BEoksc. Reason: 7YYB3BEoksc is a private video\n"
     ]
    },
    {
     "name": "stderr",
     "output_type": "stream",
     "text": [
      "\r",
      "  4%|██▊                                                                  | 664/16054 [2:02:53<4:42:17,  1.10s/it]"
     ]
    },
    {
     "name": "stdout",
     "output_type": "stream",
     "text": [
      "Failed to download video from https://www.youtube.com/watch?v=7YYB3BEoksc. Reason: 7YYB3BEoksc is a private video\n"
     ]
    },
    {
     "name": "stderr",
     "output_type": "stream",
     "text": [
      "\r",
      "  4%|██▊                                                                  | 665/16054 [2:02:54<4:24:39,  1.03s/it]"
     ]
    },
    {
     "name": "stdout",
     "output_type": "stream",
     "text": [
      "Failed to download video from https://www.youtube.com/watch?v=7YYB3BEoksc. Reason: 7YYB3BEoksc is a private video\n"
     ]
    },
    {
     "name": "stderr",
     "output_type": "stream",
     "text": [
      "\r",
      "  4%|██▊                                                                  | 666/16054 [2:02:55<4:19:56,  1.01s/it]"
     ]
    },
    {
     "name": "stdout",
     "output_type": "stream",
     "text": [
      "Failed to download video from https://www.youtube.com/watch?v=7YYB3BEoksc. Reason: 7YYB3BEoksc is a private video\n"
     ]
    },
    {
     "name": "stderr",
     "output_type": "stream",
     "text": [
      "\r",
      "  4%|██▊                                                                  | 667/16054 [2:02:56<4:17:06,  1.00s/it]"
     ]
    },
    {
     "name": "stdout",
     "output_type": "stream",
     "text": [
      "Failed to download video from https://www.youtube.com/watch?v=7YYB3BEoksc. Reason: 7YYB3BEoksc is a private video\n"
     ]
    },
    {
     "name": "stderr",
     "output_type": "stream",
     "text": [
      "\r",
      "  4%|██▊                                                                  | 668/16054 [2:02:57<4:16:22,  1.00it/s]"
     ]
    },
    {
     "name": "stdout",
     "output_type": "stream",
     "text": [
      "Failed to download video from https://www.youtube.com/watch?v=7YYB3BEoksc. Reason: 7YYB3BEoksc is a private video\n"
     ]
    },
    {
     "name": "stderr",
     "output_type": "stream",
     "text": [
      "\r",
      "  4%|██▉                                                                  | 669/16054 [2:02:58<4:46:01,  1.12s/it]"
     ]
    },
    {
     "name": "stdout",
     "output_type": "stream",
     "text": [
      "Failed to download video from https://www.youtube.com/watch?v=7YYB3BEoksc. Reason: 7YYB3BEoksc is a private video\n"
     ]
    },
    {
     "name": "stderr",
     "output_type": "stream",
     "text": [
      "\r",
      "  4%|██▉                                                                  | 670/16054 [2:02:59<4:30:30,  1.06s/it]"
     ]
    },
    {
     "name": "stdout",
     "output_type": "stream",
     "text": [
      "Failed to download video from https://www.youtube.com/watch?v=7YYB3BEoksc. Reason: 7YYB3BEoksc is a private video\n"
     ]
    },
    {
     "name": "stderr",
     "output_type": "stream",
     "text": [
      "\r",
      "  4%|██▉                                                                  | 671/16054 [2:03:00<4:22:04,  1.02s/it]"
     ]
    },
    {
     "name": "stdout",
     "output_type": "stream",
     "text": [
      "Failed to download video from https://www.youtube.com/watch?v=7YYB3BEoksc. Reason: 7YYB3BEoksc is a private video\n"
     ]
    },
    {
     "name": "stderr",
     "output_type": "stream",
     "text": [
      "\r",
      "  4%|██▉                                                                  | 672/16054 [2:03:01<4:12:36,  1.01it/s]"
     ]
    },
    {
     "name": "stdout",
     "output_type": "stream",
     "text": [
      "Failed to download video from https://www.youtube.com/watch?v=7YYB3BEoksc. Reason: 7YYB3BEoksc is a private video\n"
     ]
    },
    {
     "name": "stderr",
     "output_type": "stream",
     "text": [
      "\r",
      "  4%|██▉                                                                  | 673/16054 [2:03:02<4:11:49,  1.02it/s]"
     ]
    },
    {
     "name": "stdout",
     "output_type": "stream",
     "text": [
      "Failed to download video from https://www.youtube.com/watch?v=7YYB3BEoksc. Reason: 7YYB3BEoksc is a private video\n"
     ]
    },
    {
     "name": "stderr",
     "output_type": "stream",
     "text": [
      "\r",
      "  4%|██▉                                                                  | 674/16054 [2:03:03<4:09:41,  1.03it/s]"
     ]
    },
    {
     "name": "stdout",
     "output_type": "stream",
     "text": [
      "Failed to download video from https://www.youtube.com/watch?v=7YYB3BEoksc. Reason: 7YYB3BEoksc is a private video\n"
     ]
    },
    {
     "name": "stderr",
     "output_type": "stream",
     "text": [
      "\r",
      "  4%|██▉                                                                  | 675/16054 [2:03:04<4:41:04,  1.10s/it]"
     ]
    },
    {
     "name": "stdout",
     "output_type": "stream",
     "text": [
      "Failed to download video from https://www.youtube.com/watch?v=7YYB3BEoksc. Reason: 7YYB3BEoksc is a private video\n"
     ]
    },
    {
     "name": "stderr",
     "output_type": "stream",
     "text": [
      "\r",
      "  4%|██▉                                                                  | 676/16054 [2:03:05<4:29:01,  1.05s/it]"
     ]
    },
    {
     "name": "stdout",
     "output_type": "stream",
     "text": [
      "Failed to download video from https://www.youtube.com/watch?v=7YYB3BEoksc. Reason: 7YYB3BEoksc is a private video\n"
     ]
    },
    {
     "name": "stderr",
     "output_type": "stream",
     "text": [
      "\r",
      "  4%|██▉                                                                  | 677/16054 [2:03:06<4:32:30,  1.06s/it]"
     ]
    },
    {
     "name": "stdout",
     "output_type": "stream",
     "text": [
      "Failed to download video from https://www.youtube.com/watch?v=7YYB3BEoksc. Reason: 7YYB3BEoksc is a private video\n"
     ]
    },
    {
     "name": "stderr",
     "output_type": "stream",
     "text": [
      "\r",
      "  4%|██▉                                                                  | 678/16054 [2:03:07<4:50:17,  1.13s/it]"
     ]
    },
    {
     "name": "stdout",
     "output_type": "stream",
     "text": [
      "Failed to download video from https://www.youtube.com/watch?v=7YYB3BEoksc. Reason: 7YYB3BEoksc is a private video\n"
     ]
    },
    {
     "name": "stderr",
     "output_type": "stream",
     "text": [
      "\r",
      "  4%|██▉                                                                  | 679/16054 [2:03:08<4:40:40,  1.10s/it]"
     ]
    },
    {
     "name": "stdout",
     "output_type": "stream",
     "text": [
      "Failed to download video from https://www.youtube.com/watch?v=7YYB3BEoksc. Reason: 7YYB3BEoksc is a private video\n"
     ]
    },
    {
     "name": "stderr",
     "output_type": "stream",
     "text": [
      "\r",
      "  4%|██▉                                                                  | 680/16054 [2:03:09<4:37:22,  1.08s/it]"
     ]
    },
    {
     "name": "stdout",
     "output_type": "stream",
     "text": [
      "Failed to download video from https://www.youtube.com/watch?v=7YYB3BEoksc. Reason: 7YYB3BEoksc is a private video\n"
     ]
    },
    {
     "name": "stderr",
     "output_type": "stream",
     "text": [
      "\r",
      "  4%|██▉                                                                  | 681/16054 [2:03:10<4:27:15,  1.04s/it]"
     ]
    },
    {
     "name": "stdout",
     "output_type": "stream",
     "text": [
      "Failed to download video from https://www.youtube.com/watch?v=7YYB3BEoksc. Reason: 7YYB3BEoksc is a private video\n"
     ]
    },
    {
     "name": "stderr",
     "output_type": "stream",
     "text": [
      "\r",
      "  4%|██▉                                                                  | 682/16054 [2:03:12<5:22:14,  1.26s/it]"
     ]
    },
    {
     "name": "stdout",
     "output_type": "stream",
     "text": [
      "Failed to download video from https://www.youtube.com/watch?v=7YYB3BEoksc. Reason: 7YYB3BEoksc is a private video\n"
     ]
    },
    {
     "name": "stderr",
     "output_type": "stream",
     "text": [
      "\r",
      "  4%|██▉                                                                  | 683/16054 [2:03:14<6:00:02,  1.41s/it]"
     ]
    },
    {
     "name": "stdout",
     "output_type": "stream",
     "text": [
      "Failed to download video from https://www.youtube.com/watch?v=7YYB3BEoksc. Reason: 7YYB3BEoksc is a private video\n"
     ]
    },
    {
     "name": "stderr",
     "output_type": "stream",
     "text": [
      "\r",
      "  4%|██▉                                                                  | 684/16054 [2:03:15<6:03:27,  1.42s/it]"
     ]
    },
    {
     "name": "stdout",
     "output_type": "stream",
     "text": [
      "Failed to download video from https://www.youtube.com/watch?v=7YYB3BEoksc. Reason: 7YYB3BEoksc is a private video\n"
     ]
    },
    {
     "name": "stderr",
     "output_type": "stream",
     "text": [
      "\r",
      "  4%|██▉                                                                  | 685/16054 [2:03:18<7:01:53,  1.65s/it]"
     ]
    },
    {
     "name": "stdout",
     "output_type": "stream",
     "text": [
      "Failed to download video from https://www.youtube.com/watch?v=7YYB3BEoksc. Reason: 7YYB3BEoksc is a private video\n"
     ]
    },
    {
     "name": "stderr",
     "output_type": "stream",
     "text": [
      "\r",
      "  4%|██▉                                                                  | 686/16054 [2:03:20<8:17:51,  1.94s/it]"
     ]
    },
    {
     "name": "stdout",
     "output_type": "stream",
     "text": [
      "Failed to download video from https://www.youtube.com/watch?v=7YYB3BEoksc. Reason: 7YYB3BEoksc is a private video\n"
     ]
    },
    {
     "name": "stderr",
     "output_type": "stream",
     "text": [
      "\r",
      "  4%|██▉                                                                  | 687/16054 [2:03:22<7:38:33,  1.79s/it]"
     ]
    },
    {
     "name": "stdout",
     "output_type": "stream",
     "text": [
      "Failed to download video from https://www.youtube.com/watch?v=7YYB3BEoksc. Reason: 7YYB3BEoksc is a private video\n"
     ]
    },
    {
     "name": "stderr",
     "output_type": "stream",
     "text": [
      "\r",
      "  4%|██▉                                                                 | 688/16054 [2:03:25<10:06:39,  2.37s/it]"
     ]
    },
    {
     "name": "stdout",
     "output_type": "stream",
     "text": [
      "Failed to download video from https://www.youtube.com/watch?v=7YYB3BEoksc. Reason: 7YYB3BEoksc is a private video\n"
     ]
    },
    {
     "name": "stderr",
     "output_type": "stream",
     "text": [
      "\r",
      "  4%|██▉                                                                  | 689/16054 [2:03:26<8:27:21,  1.98s/it]"
     ]
    },
    {
     "name": "stdout",
     "output_type": "stream",
     "text": [
      "Failed to download video from https://www.youtube.com/watch?v=7YYB3BEoksc. Reason: 7YYB3BEoksc is a private video\n"
     ]
    },
    {
     "name": "stderr",
     "output_type": "stream",
     "text": [
      "\r",
      "  4%|██▉                                                                  | 690/16054 [2:03:29<8:54:25,  2.09s/it]"
     ]
    },
    {
     "name": "stdout",
     "output_type": "stream",
     "text": [
      "Failed to download video from https://www.youtube.com/watch?v=7YYB3BEoksc. Reason: 7YYB3BEoksc is a private video\n"
     ]
    },
    {
     "name": "stderr",
     "output_type": "stream",
     "text": [
      "\r",
      "  4%|██▉                                                                  | 691/16054 [2:03:30<7:36:15,  1.78s/it]"
     ]
    },
    {
     "name": "stdout",
     "output_type": "stream",
     "text": [
      "Failed to download video from https://www.youtube.com/watch?v=7YYB3BEoksc. Reason: 7YYB3BEoksc is a private video\n"
     ]
    },
    {
     "name": "stderr",
     "output_type": "stream",
     "text": [
      "\r",
      "  4%|██▉                                                                  | 692/16054 [2:03:31<6:46:37,  1.59s/it]"
     ]
    },
    {
     "name": "stdout",
     "output_type": "stream",
     "text": [
      "Failed to download video from https://www.youtube.com/watch?v=7YYB3BEoksc. Reason: 7YYB3BEoksc is a private video\n"
     ]
    },
    {
     "name": "stderr",
     "output_type": "stream",
     "text": [
      "\r",
      "  4%|██▉                                                                  | 693/16054 [2:03:33<7:03:23,  1.65s/it]"
     ]
    },
    {
     "name": "stdout",
     "output_type": "stream",
     "text": [
      "Failed to download video from https://www.youtube.com/watch?v=7YYB3BEoksc. Reason: 7YYB3BEoksc is a private video\n"
     ]
    },
    {
     "name": "stderr",
     "output_type": "stream",
     "text": [
      "\r",
      "  4%|██▉                                                                  | 694/16054 [2:03:34<6:42:41,  1.57s/it]"
     ]
    },
    {
     "name": "stdout",
     "output_type": "stream",
     "text": [
      "Failed to download video from https://www.youtube.com/watch?v=7YYB3BEoksc. Reason: 7YYB3BEoksc is a private video\n"
     ]
    },
    {
     "name": "stderr",
     "output_type": "stream",
     "text": [
      "\r",
      "  4%|██▉                                                                  | 695/16054 [2:03:35<6:07:58,  1.44s/it]"
     ]
    },
    {
     "name": "stdout",
     "output_type": "stream",
     "text": [
      "Failed to download video from https://www.youtube.com/watch?v=7YYB3BEoksc. Reason: 7YYB3BEoksc is a private video\n"
     ]
    },
    {
     "name": "stderr",
     "output_type": "stream",
     "text": [
      "\r",
      "  4%|██▉                                                                  | 696/16054 [2:03:36<5:49:54,  1.37s/it]"
     ]
    },
    {
     "name": "stdout",
     "output_type": "stream",
     "text": [
      "Failed to download video from https://www.youtube.com/watch?v=7YYB3BEoksc. Reason: 7YYB3BEoksc is a private video\n"
     ]
    },
    {
     "name": "stderr",
     "output_type": "stream",
     "text": [
      "\r",
      "  4%|██▉                                                                  | 697/16054 [2:03:37<5:21:29,  1.26s/it]"
     ]
    },
    {
     "name": "stdout",
     "output_type": "stream",
     "text": [
      "Failed to download video from https://www.youtube.com/watch?v=7YYB3BEoksc. Reason: 7YYB3BEoksc is a private video\n"
     ]
    },
    {
     "name": "stderr",
     "output_type": "stream",
     "text": [
      "\r",
      "  4%|███                                                                  | 698/16054 [2:03:39<5:35:57,  1.31s/it]"
     ]
    },
    {
     "name": "stdout",
     "output_type": "stream",
     "text": [
      "Failed to download video from https://www.youtube.com/watch?v=7YYB3BEoksc. Reason: 7YYB3BEoksc is a private video\n"
     ]
    },
    {
     "name": "stderr",
     "output_type": "stream",
     "text": [
      "\r",
      "  4%|███                                                                  | 699/16054 [2:03:41<6:05:23,  1.43s/it]"
     ]
    },
    {
     "name": "stdout",
     "output_type": "stream",
     "text": [
      "Failed to download video from https://www.youtube.com/watch?v=7YYB3BEoksc. Reason: 7YYB3BEoksc is a private video\n"
     ]
    },
    {
     "name": "stderr",
     "output_type": "stream",
     "text": [
      "\r",
      "  4%|███                                                                  | 700/16054 [2:03:42<5:45:48,  1.35s/it]"
     ]
    },
    {
     "name": "stdout",
     "output_type": "stream",
     "text": [
      "Failed to download video from https://www.youtube.com/watch?v=7YYB3BEoksc. Reason: 7YYB3BEoksc is a private video\n"
     ]
    },
    {
     "name": "stderr",
     "output_type": "stream",
     "text": [
      "\r",
      "  4%|███                                                                  | 701/16054 [2:03:43<5:47:14,  1.36s/it]"
     ]
    },
    {
     "name": "stdout",
     "output_type": "stream",
     "text": [
      "Failed to download video from https://www.youtube.com/watch?v=7YYB3BEoksc. Reason: 7YYB3BEoksc is a private video\n"
     ]
    },
    {
     "name": "stderr",
     "output_type": "stream",
     "text": [
      "\r",
      "  4%|███                                                                  | 702/16054 [2:03:45<6:12:24,  1.46s/it]"
     ]
    },
    {
     "name": "stdout",
     "output_type": "stream",
     "text": [
      "Failed to download video from https://www.youtube.com/watch?v=7YYB3BEoksc. Reason: 7YYB3BEoksc is a private video\n"
     ]
    },
    {
     "name": "stderr",
     "output_type": "stream",
     "text": [
      "\r",
      "  4%|███                                                                  | 703/16054 [2:03:47<6:40:06,  1.56s/it]"
     ]
    },
    {
     "name": "stdout",
     "output_type": "stream",
     "text": [
      "Failed to download video from https://www.youtube.com/watch?v=7YYB3BEoksc. Reason: 7YYB3BEoksc is a private video\n"
     ]
    },
    {
     "name": "stderr",
     "output_type": "stream",
     "text": [
      "\r",
      "  4%|███                                                                  | 704/16054 [2:03:48<7:00:19,  1.64s/it]"
     ]
    },
    {
     "name": "stdout",
     "output_type": "stream",
     "text": [
      "Failed to download video from https://www.youtube.com/watch?v=7YYB3BEoksc. Reason: 7YYB3BEoksc is a private video\n"
     ]
    },
    {
     "name": "stderr",
     "output_type": "stream",
     "text": [
      "\r",
      "  4%|███                                                                  | 705/16054 [2:03:50<6:17:54,  1.48s/it]"
     ]
    },
    {
     "name": "stdout",
     "output_type": "stream",
     "text": [
      "Failed to download video from https://www.youtube.com/watch?v=7YYB3BEoksc. Reason: 7YYB3BEoksc is a private video\n"
     ]
    },
    {
     "name": "stderr",
     "output_type": "stream",
     "text": [
      "\r",
      "  4%|███                                                                  | 706/16054 [2:03:51<5:46:01,  1.35s/it]"
     ]
    },
    {
     "name": "stdout",
     "output_type": "stream",
     "text": [
      "Failed to download video from https://www.youtube.com/watch?v=7YYB3BEoksc. Reason: 7YYB3BEoksc is a private video\n"
     ]
    },
    {
     "name": "stderr",
     "output_type": "stream",
     "text": [
      "\r",
      "  4%|███                                                                  | 707/16054 [2:03:52<5:32:44,  1.30s/it]"
     ]
    },
    {
     "name": "stdout",
     "output_type": "stream",
     "text": [
      "Failed to download video from https://www.youtube.com/watch?v=7YYB3BEoksc. Reason: 7YYB3BEoksc is a private video\n"
     ]
    },
    {
     "name": "stderr",
     "output_type": "stream",
     "text": [
      "\r",
      "  4%|███                                                                  | 708/16054 [2:03:53<5:24:20,  1.27s/it]"
     ]
    },
    {
     "name": "stdout",
     "output_type": "stream",
     "text": [
      "Failed to download video from https://www.youtube.com/watch?v=7YYB3BEoksc. Reason: 7YYB3BEoksc is a private video\n"
     ]
    },
    {
     "name": "stderr",
     "output_type": "stream",
     "text": [
      "\r",
      "  4%|███                                                                  | 709/16054 [2:03:54<5:07:41,  1.20s/it]"
     ]
    },
    {
     "name": "stdout",
     "output_type": "stream",
     "text": [
      "Failed to download video from https://www.youtube.com/watch?v=7YYB3BEoksc. Reason: 7YYB3BEoksc is a private video\n"
     ]
    },
    {
     "name": "stderr",
     "output_type": "stream",
     "text": [
      "\r",
      "  4%|███                                                                  | 710/16054 [2:03:55<5:00:47,  1.18s/it]"
     ]
    },
    {
     "name": "stdout",
     "output_type": "stream",
     "text": [
      "Failed to download video from https://www.youtube.com/watch?v=7YYB3BEoksc. Reason: 7YYB3BEoksc is a private video\n"
     ]
    },
    {
     "name": "stderr",
     "output_type": "stream",
     "text": [
      "\r",
      "  4%|███                                                                  | 711/16054 [2:03:56<4:55:35,  1.16s/it]"
     ]
    },
    {
     "name": "stdout",
     "output_type": "stream",
     "text": [
      "Failed to download video from https://www.youtube.com/watch?v=7YYB3BEoksc. Reason: 7YYB3BEoksc is a private video\n"
     ]
    },
    {
     "name": "stderr",
     "output_type": "stream",
     "text": [
      "\r",
      "  4%|███                                                                  | 712/16054 [2:03:57<4:55:45,  1.16s/it]"
     ]
    },
    {
     "name": "stdout",
     "output_type": "stream",
     "text": [
      "Failed to download video from https://www.youtube.com/watch?v=7YYB3BEoksc. Reason: 7YYB3BEoksc is a private video\n"
     ]
    },
    {
     "name": "stderr",
     "output_type": "stream",
     "text": [
      "\r",
      "  4%|███                                                                  | 713/16054 [2:03:58<4:45:31,  1.12s/it]"
     ]
    },
    {
     "name": "stdout",
     "output_type": "stream",
     "text": [
      "Failed to download video from https://www.youtube.com/watch?v=7YYB3BEoksc. Reason: 7YYB3BEoksc is a private video\n"
     ]
    },
    {
     "name": "stderr",
     "output_type": "stream",
     "text": [
      "\r",
      "  4%|███                                                                  | 714/16054 [2:04:00<4:42:39,  1.11s/it]"
     ]
    },
    {
     "name": "stdout",
     "output_type": "stream",
     "text": [
      "Failed to download video from https://www.youtube.com/watch?v=7YYB3BEoksc. Reason: 7YYB3BEoksc is a private video\n"
     ]
    },
    {
     "name": "stderr",
     "output_type": "stream",
     "text": [
      "\r",
      "  4%|███                                                                  | 715/16054 [2:04:01<4:39:40,  1.09s/it]"
     ]
    },
    {
     "name": "stdout",
     "output_type": "stream",
     "text": [
      "Failed to download video from https://www.youtube.com/watch?v=7YYB3BEoksc. Reason: 7YYB3BEoksc is a private video\n"
     ]
    },
    {
     "name": "stderr",
     "output_type": "stream",
     "text": [
      "\r",
      "  4%|███                                                                  | 716/16054 [2:04:02<4:27:09,  1.05s/it]"
     ]
    },
    {
     "name": "stdout",
     "output_type": "stream",
     "text": [
      "Failed to download video from https://www.youtube.com/watch?v=7YYB3BEoksc. Reason: 7YYB3BEoksc is a private video\n"
     ]
    },
    {
     "name": "stderr",
     "output_type": "stream",
     "text": [
      "\r",
      "  4%|███                                                                  | 717/16054 [2:04:03<4:27:46,  1.05s/it]"
     ]
    },
    {
     "name": "stdout",
     "output_type": "stream",
     "text": [
      "Failed to download video from https://www.youtube.com/watch?v=7YYB3BEoksc. Reason: 7YYB3BEoksc is a private video\n"
     ]
    },
    {
     "name": "stderr",
     "output_type": "stream",
     "text": [
      "\r",
      "  4%|███                                                                  | 718/16054 [2:04:04<4:36:55,  1.08s/it]"
     ]
    },
    {
     "name": "stdout",
     "output_type": "stream",
     "text": [
      "Failed to download video from https://www.youtube.com/watch?v=7YYB3BEoksc. Reason: 7YYB3BEoksc is a private video\n"
     ]
    },
    {
     "name": "stderr",
     "output_type": "stream",
     "text": [
      "\r",
      "  4%|███                                                                  | 719/16054 [2:04:05<4:43:02,  1.11s/it]"
     ]
    },
    {
     "name": "stdout",
     "output_type": "stream",
     "text": [
      "Failed to download video from https://www.youtube.com/watch?v=7YYB3BEoksc. Reason: 7YYB3BEoksc is a private video\n"
     ]
    },
    {
     "name": "stderr",
     "output_type": "stream",
     "text": [
      "\r",
      "  4%|███                                                                  | 720/16054 [2:04:07<5:20:43,  1.25s/it]"
     ]
    },
    {
     "name": "stdout",
     "output_type": "stream",
     "text": [
      "Failed to download video from https://www.youtube.com/watch?v=7YYB3BEoksc. Reason: 7YYB3BEoksc is a private video\n"
     ]
    },
    {
     "name": "stderr",
     "output_type": "stream",
     "text": [
      "\r",
      "  4%|███                                                                  | 721/16054 [2:04:08<5:27:31,  1.28s/it]"
     ]
    },
    {
     "name": "stdout",
     "output_type": "stream",
     "text": [
      "Failed to download video from https://www.youtube.com/watch?v=7YYB3BEoksc. Reason: 7YYB3BEoksc is a private video\n"
     ]
    },
    {
     "name": "stderr",
     "output_type": "stream",
     "text": [
      "\r",
      "  4%|███                                                                  | 722/16054 [2:04:09<5:13:50,  1.23s/it]"
     ]
    },
    {
     "name": "stdout",
     "output_type": "stream",
     "text": [
      "Failed to download video from https://www.youtube.com/watch?v=7YYB3BEoksc. Reason: 7YYB3BEoksc is a private video\n"
     ]
    },
    {
     "name": "stderr",
     "output_type": "stream",
     "text": [
      "\r",
      "  5%|███                                                                  | 723/16054 [2:04:10<4:56:01,  1.16s/it]"
     ]
    },
    {
     "name": "stdout",
     "output_type": "stream",
     "text": [
      "Failed to download video from https://www.youtube.com/watch?v=7YYB3BEoksc. Reason: 7YYB3BEoksc is a private video\n"
     ]
    },
    {
     "name": "stderr",
     "output_type": "stream",
     "text": [
      "\r",
      "  5%|███                                                                  | 724/16054 [2:04:11<5:21:42,  1.26s/it]"
     ]
    },
    {
     "name": "stdout",
     "output_type": "stream",
     "text": [
      "Failed to download video from https://www.youtube.com/watch?v=7YYB3BEoksc. Reason: 7YYB3BEoksc is a private video\n"
     ]
    },
    {
     "name": "stderr",
     "output_type": "stream",
     "text": [
      "\r",
      "  5%|███                                                                  | 725/16054 [2:04:13<5:08:51,  1.21s/it]"
     ]
    },
    {
     "name": "stdout",
     "output_type": "stream",
     "text": [
      "Failed to download video from https://www.youtube.com/watch?v=7YYB3BEoksc. Reason: 7YYB3BEoksc is a private video\n"
     ]
    },
    {
     "name": "stderr",
     "output_type": "stream",
     "text": [
      "\r",
      "  5%|███                                                                  | 726/16054 [2:04:14<5:03:45,  1.19s/it]"
     ]
    },
    {
     "name": "stdout",
     "output_type": "stream",
     "text": [
      "Failed to download video from https://www.youtube.com/watch?v=7YYB3BEoksc. Reason: 7YYB3BEoksc is a private video\n"
     ]
    },
    {
     "name": "stderr",
     "output_type": "stream",
     "text": [
      "\r",
      "  5%|███                                                                  | 727/16054 [2:04:15<5:38:21,  1.32s/it]"
     ]
    },
    {
     "name": "stdout",
     "output_type": "stream",
     "text": [
      "Failed to download video from https://www.youtube.com/watch?v=7YYB3BEoksc. Reason: 7YYB3BEoksc is a private video\n"
     ]
    },
    {
     "name": "stderr",
     "output_type": "stream",
     "text": [
      "\r",
      "  5%|███▏                                                                 | 728/16054 [2:04:17<5:30:09,  1.29s/it]"
     ]
    },
    {
     "name": "stdout",
     "output_type": "stream",
     "text": [
      "Failed to download video from https://www.youtube.com/watch?v=7YYB3BEoksc. Reason: 7YYB3BEoksc is a private video\n"
     ]
    },
    {
     "name": "stderr",
     "output_type": "stream",
     "text": [
      "\r",
      "  5%|███▏                                                                 | 729/16054 [2:04:18<5:20:25,  1.25s/it]"
     ]
    },
    {
     "name": "stdout",
     "output_type": "stream",
     "text": [
      "Failed to download video from https://www.youtube.com/watch?v=7YYB3BEoksc. Reason: 7YYB3BEoksc is a private video\n"
     ]
    },
    {
     "name": "stderr",
     "output_type": "stream",
     "text": [
      "\r",
      "  5%|███▏                                                                 | 730/16054 [2:04:19<5:32:01,  1.30s/it]"
     ]
    },
    {
     "name": "stdout",
     "output_type": "stream",
     "text": [
      "Failed to download video from https://www.youtube.com/watch?v=7YYB3BEoksc. Reason: 7YYB3BEoksc is a private video\n"
     ]
    },
    {
     "name": "stderr",
     "output_type": "stream",
     "text": [
      "\r",
      "  5%|███▏                                                                 | 731/16054 [2:04:20<5:15:04,  1.23s/it]"
     ]
    },
    {
     "name": "stdout",
     "output_type": "stream",
     "text": [
      "Failed to download video from https://www.youtube.com/watch?v=7YYB3BEoksc. Reason: 7YYB3BEoksc is a private video\n"
     ]
    },
    {
     "name": "stderr",
     "output_type": "stream",
     "text": [
      "\r",
      "  5%|███▏                                                                 | 732/16054 [2:04:21<5:10:02,  1.21s/it]"
     ]
    },
    {
     "name": "stdout",
     "output_type": "stream",
     "text": [
      "Failed to download video from https://www.youtube.com/watch?v=7YYB3BEoksc. Reason: 7YYB3BEoksc is a private video\n"
     ]
    },
    {
     "name": "stderr",
     "output_type": "stream",
     "text": [
      "\r",
      "  5%|███▏                                                                 | 733/16054 [2:04:22<5:00:17,  1.18s/it]"
     ]
    },
    {
     "name": "stdout",
     "output_type": "stream",
     "text": [
      "Failed to download video from https://www.youtube.com/watch?v=7YYB3BEoksc. Reason: 7YYB3BEoksc is a private video\n"
     ]
    },
    {
     "name": "stderr",
     "output_type": "stream",
     "text": [
      "\r",
      "  5%|███▏                                                                 | 734/16054 [2:04:24<5:06:37,  1.20s/it]"
     ]
    },
    {
     "name": "stdout",
     "output_type": "stream",
     "text": [
      "Failed to download video from https://www.youtube.com/watch?v=7YYB3BEoksc. Reason: 7YYB3BEoksc is a private video\n"
     ]
    },
    {
     "name": "stderr",
     "output_type": "stream",
     "text": [
      "\r",
      "  5%|███▏                                                                 | 735/16054 [2:04:25<4:57:19,  1.16s/it]"
     ]
    },
    {
     "name": "stdout",
     "output_type": "stream",
     "text": [
      "Failed to download video from https://www.youtube.com/watch?v=7YYB3BEoksc. Reason: 7YYB3BEoksc is a private video\n"
     ]
    },
    {
     "name": "stderr",
     "output_type": "stream",
     "text": [
      "\r",
      "  5%|███▏                                                                 | 736/16054 [2:04:26<4:47:35,  1.13s/it]"
     ]
    },
    {
     "name": "stdout",
     "output_type": "stream",
     "text": [
      "Failed to download video from https://www.youtube.com/watch?v=7YYB3BEoksc. Reason: 7YYB3BEoksc is a private video\n"
     ]
    },
    {
     "name": "stderr",
     "output_type": "stream",
     "text": [
      "\r",
      "  5%|███▏                                                                 | 737/16054 [2:04:27<4:50:04,  1.14s/it]"
     ]
    },
    {
     "name": "stdout",
     "output_type": "stream",
     "text": [
      "Failed to download video from https://www.youtube.com/watch?v=7YYB3BEoksc. Reason: 7YYB3BEoksc is a private video\n"
     ]
    },
    {
     "name": "stderr",
     "output_type": "stream",
     "text": [
      "\r",
      "  5%|███▏                                                                 | 738/16054 [2:04:28<5:02:07,  1.18s/it]"
     ]
    },
    {
     "name": "stdout",
     "output_type": "stream",
     "text": [
      "Failed to download video from https://www.youtube.com/watch?v=7YYB3BEoksc. Reason: 7YYB3BEoksc is a private video\n"
     ]
    },
    {
     "name": "stderr",
     "output_type": "stream",
     "text": [
      "\r",
      "  5%|███▏                                                                 | 739/16054 [2:04:29<4:59:06,  1.17s/it]"
     ]
    },
    {
     "name": "stdout",
     "output_type": "stream",
     "text": [
      "Failed to download video from https://www.youtube.com/watch?v=7YYB3BEoksc. Reason: 7YYB3BEoksc is a private video\n"
     ]
    },
    {
     "name": "stderr",
     "output_type": "stream",
     "text": [
      "\r",
      "  5%|███▏                                                                 | 740/16054 [2:04:30<4:50:27,  1.14s/it]"
     ]
    },
    {
     "name": "stdout",
     "output_type": "stream",
     "text": [
      "Failed to download video from https://www.youtube.com/watch?v=7YYB3BEoksc. Reason: 7YYB3BEoksc is a private video\n"
     ]
    },
    {
     "name": "stderr",
     "output_type": "stream",
     "text": [
      "\r",
      "  5%|███▏                                                                 | 741/16054 [2:04:32<4:57:18,  1.16s/it]"
     ]
    },
    {
     "name": "stdout",
     "output_type": "stream",
     "text": [
      "Failed to download video from https://www.youtube.com/watch?v=7YYB3BEoksc. Reason: 7YYB3BEoksc is a private video\n"
     ]
    },
    {
     "name": "stderr",
     "output_type": "stream",
     "text": [
      "\r",
      "  5%|███▏                                                                 | 742/16054 [2:04:33<4:58:51,  1.17s/it]"
     ]
    },
    {
     "name": "stdout",
     "output_type": "stream",
     "text": [
      "Failed to download video from https://www.youtube.com/watch?v=7YYB3BEoksc. Reason: 7YYB3BEoksc is a private video\n"
     ]
    },
    {
     "name": "stderr",
     "output_type": "stream",
     "text": [
      "\r",
      "  5%|███▏                                                                 | 743/16054 [2:04:34<4:58:09,  1.17s/it]"
     ]
    },
    {
     "name": "stdout",
     "output_type": "stream",
     "text": [
      "Failed to download video from https://www.youtube.com/watch?v=7YYB3BEoksc. Reason: 7YYB3BEoksc is a private video\n"
     ]
    },
    {
     "name": "stderr",
     "output_type": "stream",
     "text": [
      "\r",
      "  5%|███▏                                                                 | 744/16054 [2:04:35<4:57:32,  1.17s/it]"
     ]
    },
    {
     "name": "stdout",
     "output_type": "stream",
     "text": [
      "Failed to download video from https://www.youtube.com/watch?v=7YYB3BEoksc. Reason: 7YYB3BEoksc is a private video\n"
     ]
    },
    {
     "name": "stderr",
     "output_type": "stream",
     "text": [
      "\r",
      "  5%|███▏                                                                 | 745/16054 [2:04:36<4:59:11,  1.17s/it]"
     ]
    },
    {
     "name": "stdout",
     "output_type": "stream",
     "text": [
      "Failed to download video from https://www.youtube.com/watch?v=7YYB3BEoksc. Reason: 7YYB3BEoksc is a private video\n"
     ]
    },
    {
     "name": "stderr",
     "output_type": "stream",
     "text": [
      "\r",
      "  5%|███▏                                                                 | 746/16054 [2:04:38<5:08:54,  1.21s/it]"
     ]
    },
    {
     "name": "stdout",
     "output_type": "stream",
     "text": [
      "Failed to download video from https://www.youtube.com/watch?v=7YYB3BEoksc. Reason: 7YYB3BEoksc is a private video\n"
     ]
    },
    {
     "name": "stderr",
     "output_type": "stream",
     "text": [
      "\r",
      "  5%|███▏                                                                 | 747/16054 [2:04:39<5:05:26,  1.20s/it]"
     ]
    },
    {
     "name": "stdout",
     "output_type": "stream",
     "text": [
      "Failed to download video from https://www.youtube.com/watch?v=7YYB3BEoksc. Reason: 7YYB3BEoksc is a private video\n"
     ]
    },
    {
     "name": "stderr",
     "output_type": "stream",
     "text": [
      "\r",
      "  5%|███▏                                                                 | 748/16054 [2:04:40<4:54:24,  1.15s/it]"
     ]
    },
    {
     "name": "stdout",
     "output_type": "stream",
     "text": [
      "Failed to download video from https://www.youtube.com/watch?v=7YYB3BEoksc. Reason: 7YYB3BEoksc is a private video\n"
     ]
    },
    {
     "name": "stderr",
     "output_type": "stream",
     "text": [
      "\r",
      "  5%|███▏                                                                 | 749/16054 [2:04:41<4:44:43,  1.12s/it]"
     ]
    },
    {
     "name": "stdout",
     "output_type": "stream",
     "text": [
      "Failed to download video from https://www.youtube.com/watch?v=7YYB3BEoksc. Reason: 7YYB3BEoksc is a private video\n"
     ]
    },
    {
     "name": "stderr",
     "output_type": "stream",
     "text": [
      "\r",
      "  5%|███▏                                                                 | 750/16054 [2:04:42<4:54:13,  1.15s/it]"
     ]
    },
    {
     "name": "stdout",
     "output_type": "stream",
     "text": [
      "Failed to download video from https://www.youtube.com/watch?v=7YYB3BEoksc. Reason: 7YYB3BEoksc is a private video\n"
     ]
    },
    {
     "name": "stderr",
     "output_type": "stream",
     "text": [
      "\r",
      "  5%|███▏                                                                 | 751/16054 [2:04:43<4:52:39,  1.15s/it]"
     ]
    },
    {
     "name": "stdout",
     "output_type": "stream",
     "text": [
      "Failed to download video from https://www.youtube.com/watch?v=7YYB3BEoksc. Reason: 7YYB3BEoksc is a private video\n"
     ]
    },
    {
     "name": "stderr",
     "output_type": "stream",
     "text": [
      "\r",
      "  5%|███▏                                                                 | 752/16054 [2:04:44<4:46:48,  1.12s/it]"
     ]
    },
    {
     "name": "stdout",
     "output_type": "stream",
     "text": [
      "Failed to download video from https://www.youtube.com/watch?v=7YYB3BEoksc. Reason: 7YYB3BEoksc is a private video\n"
     ]
    },
    {
     "name": "stderr",
     "output_type": "stream",
     "text": [
      "\r",
      "  5%|███▏                                                                 | 753/16054 [2:04:46<4:50:28,  1.14s/it]"
     ]
    },
    {
     "name": "stdout",
     "output_type": "stream",
     "text": [
      "Failed to download video from https://www.youtube.com/watch?v=7YYB3BEoksc. Reason: 7YYB3BEoksc is a private video\n"
     ]
    },
    {
     "name": "stderr",
     "output_type": "stream",
     "text": [
      "\r",
      "  5%|███▏                                                                 | 754/16054 [2:04:47<4:50:16,  1.14s/it]"
     ]
    },
    {
     "name": "stdout",
     "output_type": "stream",
     "text": [
      "Failed to download video from https://www.youtube.com/watch?v=7YYB3BEoksc. Reason: 7YYB3BEoksc is a private video\n"
     ]
    },
    {
     "name": "stderr",
     "output_type": "stream",
     "text": [
      "\r",
      "  5%|███▏                                                                 | 755/16054 [2:04:48<4:47:42,  1.13s/it]"
     ]
    },
    {
     "name": "stdout",
     "output_type": "stream",
     "text": [
      "Failed to download video from https://www.youtube.com/watch?v=7YYB3BEoksc. Reason: 7YYB3BEoksc is a private video\n"
     ]
    },
    {
     "name": "stderr",
     "output_type": "stream",
     "text": [
      "\r",
      "  5%|███▏                                                                 | 756/16054 [2:04:49<4:41:49,  1.11s/it]"
     ]
    },
    {
     "name": "stdout",
     "output_type": "stream",
     "text": [
      "Failed to download video from https://www.youtube.com/watch?v=7YYB3BEoksc. Reason: 7YYB3BEoksc is a private video\n"
     ]
    },
    {
     "name": "stderr",
     "output_type": "stream",
     "text": [
      "\r",
      "  5%|███▎                                                                 | 757/16054 [2:04:50<4:39:58,  1.10s/it]"
     ]
    },
    {
     "name": "stdout",
     "output_type": "stream",
     "text": [
      "Failed to download video from https://www.youtube.com/watch?v=7YYB3BEoksc. Reason: 7YYB3BEoksc is a private video\n"
     ]
    },
    {
     "name": "stderr",
     "output_type": "stream",
     "text": [
      "\r",
      "  5%|███▎                                                                 | 758/16054 [2:04:51<4:35:48,  1.08s/it]"
     ]
    },
    {
     "name": "stdout",
     "output_type": "stream",
     "text": [
      "Failed to download video from https://www.youtube.com/watch?v=7YYB3BEoksc. Reason: 7YYB3BEoksc is a private video\n"
     ]
    },
    {
     "name": "stderr",
     "output_type": "stream",
     "text": [
      "\r",
      "  5%|███▎                                                                 | 759/16054 [2:04:52<4:38:45,  1.09s/it]"
     ]
    },
    {
     "name": "stdout",
     "output_type": "stream",
     "text": [
      "Failed to download video from https://www.youtube.com/watch?v=7YYB3BEoksc. Reason: 7YYB3BEoksc is a private video\n"
     ]
    },
    {
     "name": "stderr",
     "output_type": "stream",
     "text": [
      "\r",
      "  5%|███▎                                                                 | 760/16054 [2:04:53<4:39:17,  1.10s/it]"
     ]
    },
    {
     "name": "stdout",
     "output_type": "stream",
     "text": [
      "Failed to download video from https://www.youtube.com/watch?v=7YYB3BEoksc. Reason: 7YYB3BEoksc is a private video\n"
     ]
    },
    {
     "name": "stderr",
     "output_type": "stream",
     "text": [
      "\r",
      "  5%|███▎                                                                 | 761/16054 [2:04:54<4:43:36,  1.11s/it]"
     ]
    },
    {
     "name": "stdout",
     "output_type": "stream",
     "text": [
      "Failed to download video from https://www.youtube.com/watch?v=7YYB3BEoksc. Reason: 7YYB3BEoksc is a private video\n"
     ]
    },
    {
     "name": "stderr",
     "output_type": "stream",
     "text": [
      "\r",
      "  5%|███▎                                                                 | 762/16054 [2:04:55<4:38:27,  1.09s/it]"
     ]
    },
    {
     "name": "stdout",
     "output_type": "stream",
     "text": [
      "Failed to download video from https://www.youtube.com/watch?v=7YYB3BEoksc. Reason: 7YYB3BEoksc is a private video\n"
     ]
    },
    {
     "name": "stderr",
     "output_type": "stream",
     "text": [
      "\r",
      "  5%|███▎                                                                 | 763/16054 [2:04:57<4:39:25,  1.10s/it]"
     ]
    },
    {
     "name": "stdout",
     "output_type": "stream",
     "text": [
      "Failed to download video from https://www.youtube.com/watch?v=7YYB3BEoksc. Reason: 7YYB3BEoksc is a private video\n"
     ]
    },
    {
     "name": "stderr",
     "output_type": "stream",
     "text": [
      "\r",
      "  5%|███▎                                                                 | 764/16054 [2:05:00<7:45:17,  1.83s/it]"
     ]
    },
    {
     "name": "stdout",
     "output_type": "stream",
     "text": [
      "Failed to download video from https://www.youtube.com/watch?v=7YYB3BEoksc. Reason: 7YYB3BEoksc is a private video\n"
     ]
    },
    {
     "name": "stderr",
     "output_type": "stream",
     "text": [
      "\r",
      "  5%|███▎                                                                 | 765/16054 [2:05:03<9:07:33,  2.15s/it]"
     ]
    },
    {
     "name": "stdout",
     "output_type": "stream",
     "text": [
      "Failed to download video from https://www.youtube.com/watch?v=7YYB3BEoksc. Reason: 7YYB3BEoksc is a private video\n"
     ]
    },
    {
     "name": "stderr",
     "output_type": "stream",
     "text": [
      "\r",
      "  5%|███▎                                                                 | 766/16054 [2:05:05<8:56:19,  2.10s/it]"
     ]
    },
    {
     "name": "stdout",
     "output_type": "stream",
     "text": [
      "Failed to download video from https://www.youtube.com/watch?v=7YYB3BEoksc. Reason: 7YYB3BEoksc is a private video\n"
     ]
    },
    {
     "name": "stderr",
     "output_type": "stream",
     "text": [
      "\r",
      "  5%|███▎                                                                 | 767/16054 [2:05:06<7:30:28,  1.77s/it]"
     ]
    },
    {
     "name": "stdout",
     "output_type": "stream",
     "text": [
      "Failed to download video from https://www.youtube.com/watch?v=7YYB3BEoksc. Reason: 7YYB3BEoksc is a private video\n"
     ]
    },
    {
     "name": "stderr",
     "output_type": "stream",
     "text": [
      "\r",
      "  5%|███▎                                                                 | 768/16054 [2:05:07<6:29:14,  1.53s/it]"
     ]
    },
    {
     "name": "stdout",
     "output_type": "stream",
     "text": [
      "Failed to download video from https://www.youtube.com/watch?v=7YYB3BEoksc. Reason: 7YYB3BEoksc is a private video\n"
     ]
    },
    {
     "name": "stderr",
     "output_type": "stream",
     "text": [
      "\r",
      "  5%|███▎                                                                 | 769/16054 [2:05:08<6:12:57,  1.46s/it]"
     ]
    },
    {
     "name": "stdout",
     "output_type": "stream",
     "text": [
      "Failed to download video from https://www.youtube.com/watch?v=7YYB3BEoksc. Reason: 7YYB3BEoksc is a private video\n"
     ]
    },
    {
     "name": "stderr",
     "output_type": "stream",
     "text": [
      "\r",
      "  5%|███▎                                                                 | 770/16054 [2:05:10<6:40:09,  1.57s/it]"
     ]
    },
    {
     "name": "stdout",
     "output_type": "stream",
     "text": [
      "Failed to download video from https://www.youtube.com/watch?v=7YYB3BEoksc. Reason: 7YYB3BEoksc is a private video\n"
     ]
    },
    {
     "name": "stderr",
     "output_type": "stream",
     "text": [
      "\r",
      "  5%|███▎                                                                 | 771/16054 [2:05:13<9:02:35,  2.13s/it]"
     ]
    },
    {
     "name": "stdout",
     "output_type": "stream",
     "text": [
      "Failed to download video from https://www.youtube.com/watch?v=7YYB3BEoksc. Reason: 7YYB3BEoksc is a private video\n"
     ]
    },
    {
     "name": "stderr",
     "output_type": "stream",
     "text": [
      "\r",
      "  5%|███▎                                                                 | 772/16054 [2:05:15<7:55:45,  1.87s/it]"
     ]
    },
    {
     "name": "stdout",
     "output_type": "stream",
     "text": [
      "Failed to download video from https://www.youtube.com/watch?v=7YYB3BEoksc. Reason: 7YYB3BEoksc is a private video\n"
     ]
    },
    {
     "name": "stderr",
     "output_type": "stream",
     "text": [
      "\r",
      "  5%|███▎                                                                 | 773/16054 [2:05:16<7:06:24,  1.67s/it]"
     ]
    },
    {
     "name": "stdout",
     "output_type": "stream",
     "text": [
      "Failed to download video from https://www.youtube.com/watch?v=7YYB3BEoksc. Reason: 7YYB3BEoksc is a private video\n"
     ]
    },
    {
     "name": "stderr",
     "output_type": "stream",
     "text": [
      "\r",
      "  5%|███▎                                                                 | 774/16054 [2:05:17<6:51:07,  1.61s/it]"
     ]
    },
    {
     "name": "stdout",
     "output_type": "stream",
     "text": [
      "Failed to download video from https://www.youtube.com/watch?v=7YYB3BEoksc. Reason: 7YYB3BEoksc is a private video\n"
     ]
    },
    {
     "name": "stderr",
     "output_type": "stream",
     "text": [
      "\r",
      "  5%|███▎                                                                 | 775/16054 [2:05:20<7:29:59,  1.77s/it]"
     ]
    },
    {
     "name": "stdout",
     "output_type": "stream",
     "text": [
      "Failed to download video from https://www.youtube.com/watch?v=7YYB3BEoksc. Reason: 7YYB3BEoksc is a private video\n"
     ]
    },
    {
     "name": "stderr",
     "output_type": "stream",
     "text": [
      "\r",
      "  5%|███▎                                                                 | 776/16054 [2:05:23<9:16:17,  2.18s/it]"
     ]
    },
    {
     "name": "stdout",
     "output_type": "stream",
     "text": [
      "Failed to download video from https://www.youtube.com/watch?v=7YYB3BEoksc. Reason: 7YYB3BEoksc is a private video\n"
     ]
    },
    {
     "name": "stderr",
     "output_type": "stream",
     "text": [
      "\r",
      "  5%|███▎                                                                | 777/16054 [2:05:29<14:08:09,  3.33s/it]"
     ]
    },
    {
     "name": "stdout",
     "output_type": "stream",
     "text": [
      "Failed to download video from https://www.youtube.com/watch?v=7YYB3BEoksc. Reason: 7YYB3BEoksc is a private video\n"
     ]
    },
    {
     "name": "stderr",
     "output_type": "stream",
     "text": [
      "\r",
      "  5%|███▎                                                                | 778/16054 [2:05:30<11:23:27,  2.68s/it]"
     ]
    },
    {
     "name": "stdout",
     "output_type": "stream",
     "text": [
      "Failed to download video from https://www.youtube.com/watch?v=7YYB3BEoksc. Reason: 7YYB3BEoksc is a private video\n"
     ]
    },
    {
     "name": "stderr",
     "output_type": "stream",
     "text": [
      "\r",
      "  5%|███▎                                                                 | 779/16054 [2:05:31<9:32:35,  2.25s/it]"
     ]
    },
    {
     "name": "stdout",
     "output_type": "stream",
     "text": [
      "Failed to download video from https://www.youtube.com/watch?v=7YYB3BEoksc. Reason: 7YYB3BEoksc is a private video\n"
     ]
    },
    {
     "name": "stderr",
     "output_type": "stream",
     "text": [
      "\r",
      "  5%|███▎                                                                 | 780/16054 [2:05:32<8:22:08,  1.97s/it]"
     ]
    },
    {
     "name": "stdout",
     "output_type": "stream",
     "text": [
      "Failed to download video from https://www.youtube.com/watch?v=7YYB3BEoksc. Reason: 7YYB3BEoksc is a private video\n"
     ]
    },
    {
     "name": "stderr",
     "output_type": "stream",
     "text": [
      "\r",
      "  5%|███▎                                                                 | 781/16054 [2:05:35<9:16:10,  2.18s/it]"
     ]
    },
    {
     "name": "stdout",
     "output_type": "stream",
     "text": [
      "Failed to download video from https://www.youtube.com/watch?v=7YYB3BEoksc. Reason: 7YYB3BEoksc is a private video\n"
     ]
    },
    {
     "name": "stderr",
     "output_type": "stream",
     "text": [
      "\r",
      "  5%|███▎                                                                | 782/16054 [2:05:38<10:43:13,  2.53s/it]"
     ]
    },
    {
     "name": "stdout",
     "output_type": "stream",
     "text": [
      "Failed to download video from https://www.youtube.com/watch?v=7YYB3BEoksc. Reason: 7YYB3BEoksc is a private video\n"
     ]
    },
    {
     "name": "stderr",
     "output_type": "stream",
     "text": [
      "\r",
      "  5%|███▎                                                                 | 783/16054 [2:05:40<9:46:47,  2.31s/it]"
     ]
    },
    {
     "name": "stdout",
     "output_type": "stream",
     "text": [
      "Failed to download video from https://www.youtube.com/watch?v=7YYB3BEoksc. Reason: 7YYB3BEoksc is a private video\n"
     ]
    },
    {
     "name": "stderr",
     "output_type": "stream",
     "text": [
      "\r",
      "  5%|███▎                                                                 | 784/16054 [2:05:42<9:42:49,  2.29s/it]"
     ]
    },
    {
     "name": "stdout",
     "output_type": "stream",
     "text": [
      "Failed to download video from https://www.youtube.com/watch?v=7YYB3BEoksc. Reason: 7YYB3BEoksc is a private video\n"
     ]
    },
    {
     "name": "stderr",
     "output_type": "stream",
     "text": [
      "\r",
      "  5%|███▎                                                                | 785/16054 [2:05:45<10:01:03,  2.36s/it]"
     ]
    },
    {
     "name": "stdout",
     "output_type": "stream",
     "text": [
      "Failed to download video from https://www.youtube.com/watch?v=7YYB3BEoksc. Reason: 7YYB3BEoksc is a private video\n"
     ]
    },
    {
     "name": "stderr",
     "output_type": "stream",
     "text": [
      "\r",
      "  5%|███▍                                                                 | 786/16054 [2:05:47<9:26:57,  2.23s/it]"
     ]
    },
    {
     "name": "stdout",
     "output_type": "stream",
     "text": [
      "Failed to download video from https://www.youtube.com/watch?v=7YYB3BEoksc. Reason: 7YYB3BEoksc is a private video\n"
     ]
    },
    {
     "name": "stderr",
     "output_type": "stream",
     "text": [
      "\r",
      "  5%|███▍                                                                 | 787/16054 [2:05:49<9:15:37,  2.18s/it]"
     ]
    },
    {
     "name": "stdout",
     "output_type": "stream",
     "text": [
      "Failed to download video from https://www.youtube.com/watch?v=7YYB3BEoksc. Reason: 7YYB3BEoksc is a private video\n"
     ]
    },
    {
     "name": "stderr",
     "output_type": "stream",
     "text": [
      "\r",
      "  5%|███▍                                                                 | 788/16054 [2:05:51<8:52:33,  2.09s/it]"
     ]
    },
    {
     "name": "stdout",
     "output_type": "stream",
     "text": [
      "Failed to download video from https://www.youtube.com/watch?v=7YYB3BEoksc. Reason: 7YYB3BEoksc is a private video\n"
     ]
    },
    {
     "name": "stderr",
     "output_type": "stream",
     "text": [
      "\r",
      "  5%|███▍                                                                 | 789/16054 [2:05:53<9:30:03,  2.24s/it]"
     ]
    },
    {
     "name": "stdout",
     "output_type": "stream",
     "text": [
      "Failed to download video from https://www.youtube.com/watch?v=7YYB3BEoksc. Reason: 7YYB3BEoksc is a private video\n"
     ]
    },
    {
     "name": "stderr",
     "output_type": "stream",
     "text": [
      "\r",
      "  5%|███▍                                                                 | 790/16054 [2:05:55<8:40:21,  2.05s/it]"
     ]
    },
    {
     "name": "stdout",
     "output_type": "stream",
     "text": [
      "Failed to download video from https://www.youtube.com/watch?v=7YYB3BEoksc. Reason: 7YYB3BEoksc is a private video\n"
     ]
    },
    {
     "name": "stderr",
     "output_type": "stream",
     "text": [
      "\r",
      "  5%|███▎                                                                | 791/16054 [2:05:58<10:05:44,  2.38s/it]"
     ]
    },
    {
     "name": "stdout",
     "output_type": "stream",
     "text": [
      "Failed to download video from https://www.youtube.com/watch?v=7YYB3BEoksc. Reason: 7YYB3BEoksc is a private video\n"
     ]
    },
    {
     "name": "stderr",
     "output_type": "stream",
     "text": [
      "\r",
      "  5%|███▍                                                                 | 792/16054 [2:06:00<9:40:02,  2.28s/it]"
     ]
    },
    {
     "name": "stdout",
     "output_type": "stream",
     "text": [
      "Failed to download video from https://www.youtube.com/watch?v=7YYB3BEoksc. Reason: 7YYB3BEoksc is a private video\n"
     ]
    },
    {
     "name": "stderr",
     "output_type": "stream",
     "text": [
      "\r",
      "  5%|███▍                                                                 | 793/16054 [2:06:02<8:43:01,  2.06s/it]"
     ]
    },
    {
     "name": "stdout",
     "output_type": "stream",
     "text": [
      "Failed to download video from https://www.youtube.com/watch?v=7YYB3BEoksc. Reason: 7YYB3BEoksc is a private video\n"
     ]
    },
    {
     "name": "stderr",
     "output_type": "stream",
     "text": [
      "\r",
      "  5%|███▍                                                                 | 794/16054 [2:06:03<7:25:17,  1.75s/it]"
     ]
    },
    {
     "name": "stdout",
     "output_type": "stream",
     "text": [
      "Failed to download video from https://www.youtube.com/watch?v=7YYB3BEoksc. Reason: 7YYB3BEoksc is a private video\n"
     ]
    },
    {
     "name": "stderr",
     "output_type": "stream",
     "text": [
      "\r",
      "  5%|███▍                                                                 | 795/16054 [2:06:04<6:28:29,  1.53s/it]"
     ]
    },
    {
     "name": "stdout",
     "output_type": "stream",
     "text": [
      "Failed to download video from https://www.youtube.com/watch?v=7YYB3BEoksc. Reason: 7YYB3BEoksc is a private video\n"
     ]
    },
    {
     "name": "stderr",
     "output_type": "stream",
     "text": [
      "\r",
      "  5%|███▍                                                                 | 796/16054 [2:06:05<5:51:50,  1.38s/it]"
     ]
    },
    {
     "name": "stdout",
     "output_type": "stream",
     "text": [
      "Failed to download video from https://www.youtube.com/watch?v=7YYB3BEoksc. Reason: 7YYB3BEoksc is a private video\n"
     ]
    },
    {
     "name": "stderr",
     "output_type": "stream",
     "text": [
      "\r",
      "  5%|███▍                                                                 | 797/16054 [2:06:06<5:21:27,  1.26s/it]"
     ]
    },
    {
     "name": "stdout",
     "output_type": "stream",
     "text": [
      "Failed to download video from https://www.youtube.com/watch?v=7YYB3BEoksc. Reason: 7YYB3BEoksc is a private video\n"
     ]
    },
    {
     "name": "stderr",
     "output_type": "stream",
     "text": [
      "\r",
      "  5%|███▍                                                                 | 798/16054 [2:06:07<4:56:47,  1.17s/it]"
     ]
    },
    {
     "name": "stdout",
     "output_type": "stream",
     "text": [
      "Failed to download video from https://www.youtube.com/watch?v=7YYB3BEoksc. Reason: 7YYB3BEoksc is a private video\n"
     ]
    },
    {
     "name": "stderr",
     "output_type": "stream",
     "text": [
      "\r",
      "  5%|███▍                                                                 | 799/16054 [2:06:08<4:56:38,  1.17s/it]"
     ]
    },
    {
     "name": "stdout",
     "output_type": "stream",
     "text": [
      "Failed to download video from https://www.youtube.com/watch?v=7YYB3BEoksc. Reason: 7YYB3BEoksc is a private video\n"
     ]
    },
    {
     "name": "stderr",
     "output_type": "stream",
     "text": [
      "\r",
      "  5%|███▍                                                                 | 800/16054 [2:06:09<4:46:59,  1.13s/it]"
     ]
    },
    {
     "name": "stdout",
     "output_type": "stream",
     "text": [
      "Failed to download video from https://www.youtube.com/watch?v=7YYB3BEoksc. Reason: 7YYB3BEoksc is a private video\n"
     ]
    },
    {
     "name": "stderr",
     "output_type": "stream",
     "text": [
      "\r",
      "  5%|███▍                                                                 | 801/16054 [2:06:10<4:41:11,  1.11s/it]"
     ]
    },
    {
     "name": "stdout",
     "output_type": "stream",
     "text": [
      "Failed to download video from https://www.youtube.com/watch?v=7YYB3BEoksc. Reason: 7YYB3BEoksc is a private video\n"
     ]
    },
    {
     "name": "stderr",
     "output_type": "stream",
     "text": [
      "\r",
      "  5%|███▍                                                                 | 802/16054 [2:06:11<4:32:06,  1.07s/it]"
     ]
    },
    {
     "name": "stdout",
     "output_type": "stream",
     "text": [
      "Failed to download video from https://www.youtube.com/watch?v=7YYB3BEoksc. Reason: 7YYB3BEoksc is a private video\n"
     ]
    },
    {
     "name": "stderr",
     "output_type": "stream",
     "text": [
      "\r",
      "  5%|███▍                                                                 | 803/16054 [2:06:12<4:23:52,  1.04s/it]"
     ]
    },
    {
     "name": "stdout",
     "output_type": "stream",
     "text": [
      "Failed to download video from https://www.youtube.com/watch?v=7YYB3BEoksc. Reason: 7YYB3BEoksc is a private video\n"
     ]
    },
    {
     "name": "stderr",
     "output_type": "stream",
     "text": [
      "\r",
      "  5%|███▍                                                                 | 804/16054 [2:06:13<4:18:47,  1.02s/it]"
     ]
    },
    {
     "name": "stdout",
     "output_type": "stream",
     "text": [
      "Failed to download video from https://www.youtube.com/watch?v=7YYB3BEoksc. Reason: 7YYB3BEoksc is a private video\n"
     ]
    },
    {
     "name": "stderr",
     "output_type": "stream",
     "text": [
      "\r",
      "  5%|███▍                                                                 | 805/16054 [2:06:14<4:15:22,  1.00s/it]"
     ]
    },
    {
     "name": "stdout",
     "output_type": "stream",
     "text": [
      "Failed to download video from https://www.youtube.com/watch?v=7YYB3BEoksc. Reason: 7YYB3BEoksc is a private video\n"
     ]
    },
    {
     "name": "stderr",
     "output_type": "stream",
     "text": [
      "\r",
      "  5%|███▍                                                                 | 806/16054 [2:06:15<4:12:01,  1.01it/s]"
     ]
    },
    {
     "name": "stdout",
     "output_type": "stream",
     "text": [
      "Failed to download video from https://www.youtube.com/watch?v=7YYB3BEoksc. Reason: 7YYB3BEoksc is a private video\n"
     ]
    },
    {
     "name": "stderr",
     "output_type": "stream",
     "text": [
      "\r",
      "  5%|███▍                                                                 | 807/16054 [2:06:16<4:07:10,  1.03it/s]"
     ]
    },
    {
     "name": "stdout",
     "output_type": "stream",
     "text": [
      "Failed to download video from https://www.youtube.com/watch?v=7YYB3BEoksc. Reason: 7YYB3BEoksc is a private video\n"
     ]
    },
    {
     "name": "stderr",
     "output_type": "stream",
     "text": [
      "\r",
      "  5%|███▍                                                                 | 808/16054 [2:06:17<4:18:26,  1.02s/it]"
     ]
    },
    {
     "name": "stdout",
     "output_type": "stream",
     "text": [
      "Failed to download video from https://www.youtube.com/watch?v=7YYB3BEoksc. Reason: 7YYB3BEoksc is a private video\n"
     ]
    },
    {
     "name": "stderr",
     "output_type": "stream",
     "text": [
      "\r",
      "  5%|███▍                                                                 | 809/16054 [2:06:18<4:22:51,  1.03s/it]"
     ]
    },
    {
     "name": "stdout",
     "output_type": "stream",
     "text": [
      "Failed to download video from https://www.youtube.com/watch?v=7YYB3BEoksc. Reason: 7YYB3BEoksc is a private video\n"
     ]
    },
    {
     "name": "stderr",
     "output_type": "stream",
     "text": [
      "\r",
      "  5%|███▍                                                                 | 810/16054 [2:06:19<4:41:59,  1.11s/it]"
     ]
    },
    {
     "name": "stdout",
     "output_type": "stream",
     "text": [
      "Failed to download video from https://www.youtube.com/watch?v=7YYB3BEoksc. Reason: 7YYB3BEoksc is a private video\n"
     ]
    },
    {
     "name": "stderr",
     "output_type": "stream",
     "text": [
      "\r",
      "  5%|███▍                                                                 | 811/16054 [2:06:20<4:38:36,  1.10s/it]"
     ]
    },
    {
     "name": "stdout",
     "output_type": "stream",
     "text": [
      "Failed to download video from https://www.youtube.com/watch?v=7YYB3BEoksc. Reason: 7YYB3BEoksc is a private video\n"
     ]
    },
    {
     "name": "stderr",
     "output_type": "stream",
     "text": [
      "\r",
      "  5%|███▍                                                                 | 812/16054 [2:06:21<4:20:53,  1.03s/it]"
     ]
    },
    {
     "name": "stdout",
     "output_type": "stream",
     "text": [
      "Failed to download video from https://www.youtube.com/watch?v=7YYB3BEoksc. Reason: 7YYB3BEoksc is a private video\n"
     ]
    },
    {
     "name": "stderr",
     "output_type": "stream",
     "text": [
      "\r",
      "  5%|███▍                                                                 | 813/16054 [2:06:22<4:11:06,  1.01it/s]"
     ]
    },
    {
     "name": "stdout",
     "output_type": "stream",
     "text": [
      "Failed to download video from https://www.youtube.com/watch?v=7YYB3BEoksc. Reason: 7YYB3BEoksc is a private video\n"
     ]
    },
    {
     "name": "stderr",
     "output_type": "stream",
     "text": [
      "\r",
      "  5%|███▍                                                                 | 814/16054 [2:06:23<4:16:36,  1.01s/it]"
     ]
    },
    {
     "name": "stdout",
     "output_type": "stream",
     "text": [
      "Failed to download video from https://www.youtube.com/watch?v=7YYB3BEoksc. Reason: 7YYB3BEoksc is a private video\n"
     ]
    },
    {
     "name": "stderr",
     "output_type": "stream",
     "text": [
      "\r",
      "  5%|███▌                                                                 | 815/16054 [2:06:24<4:19:46,  1.02s/it]"
     ]
    },
    {
     "name": "stdout",
     "output_type": "stream",
     "text": [
      "Failed to download video from https://www.youtube.com/watch?v=7YYB3BEoksc. Reason: 7YYB3BEoksc is a private video\n"
     ]
    },
    {
     "name": "stderr",
     "output_type": "stream",
     "text": [
      "\r",
      "  5%|███▌                                                                 | 816/16054 [2:06:25<4:30:34,  1.07s/it]"
     ]
    },
    {
     "name": "stdout",
     "output_type": "stream",
     "text": [
      "Failed to download video from https://www.youtube.com/watch?v=7YYB3BEoksc. Reason: 7YYB3BEoksc is a private video\n"
     ]
    },
    {
     "name": "stderr",
     "output_type": "stream",
     "text": [
      "\r",
      "  5%|███▌                                                                 | 817/16054 [2:06:27<5:44:14,  1.36s/it]"
     ]
    },
    {
     "name": "stdout",
     "output_type": "stream",
     "text": [
      "Failed to download video from https://www.youtube.com/watch?v=7YYB3BEoksc. Reason: 7YYB3BEoksc is a private video\n"
     ]
    },
    {
     "name": "stderr",
     "output_type": "stream",
     "text": [
      "\r",
      "  5%|███▌                                                                 | 818/16054 [2:06:28<5:15:08,  1.24s/it]"
     ]
    },
    {
     "name": "stdout",
     "output_type": "stream",
     "text": [
      "Failed to download video from https://www.youtube.com/watch?v=7YYB3BEoksc. Reason: 7YYB3BEoksc is a private video\n"
     ]
    },
    {
     "name": "stderr",
     "output_type": "stream",
     "text": [
      "\r",
      "  5%|███▌                                                                 | 819/16054 [2:06:29<4:55:10,  1.16s/it]"
     ]
    },
    {
     "name": "stdout",
     "output_type": "stream",
     "text": [
      "Failed to download video from https://www.youtube.com/watch?v=7YYB3BEoksc. Reason: 7YYB3BEoksc is a private video\n"
     ]
    },
    {
     "name": "stderr",
     "output_type": "stream",
     "text": [
      "\r",
      "  5%|███▌                                                                 | 820/16054 [2:06:31<4:51:39,  1.15s/it]"
     ]
    },
    {
     "name": "stdout",
     "output_type": "stream",
     "text": [
      "Failed to download video from https://www.youtube.com/watch?v=7YYB3BEoksc. Reason: 7YYB3BEoksc is a private video\n"
     ]
    },
    {
     "name": "stderr",
     "output_type": "stream",
     "text": [
      "\r",
      "  5%|███▌                                                                 | 821/16054 [2:06:32<4:43:00,  1.11s/it]"
     ]
    },
    {
     "name": "stdout",
     "output_type": "stream",
     "text": [
      "Failed to download video from https://www.youtube.com/watch?v=7YYB3BEoksc. Reason: 7YYB3BEoksc is a private video\n"
     ]
    },
    {
     "name": "stderr",
     "output_type": "stream",
     "text": [
      "\r",
      "  5%|███▌                                                                 | 822/16054 [2:06:33<4:32:58,  1.08s/it]"
     ]
    },
    {
     "name": "stdout",
     "output_type": "stream",
     "text": [
      "Failed to download video from https://www.youtube.com/watch?v=7YYB3BEoksc. Reason: 7YYB3BEoksc is a private video\n"
     ]
    },
    {
     "name": "stderr",
     "output_type": "stream",
     "text": [
      "\r",
      "  5%|███▌                                                                 | 823/16054 [2:06:33<4:19:34,  1.02s/it]"
     ]
    },
    {
     "name": "stdout",
     "output_type": "stream",
     "text": [
      "Failed to download video from https://www.youtube.com/watch?v=7YYB3BEoksc. Reason: 7YYB3BEoksc is a private video\n"
     ]
    },
    {
     "name": "stderr",
     "output_type": "stream",
     "text": [
      "\r",
      "  5%|███▌                                                                 | 824/16054 [2:06:34<4:17:39,  1.02s/it]"
     ]
    },
    {
     "name": "stdout",
     "output_type": "stream",
     "text": [
      "Failed to download video from https://www.youtube.com/watch?v=7YYB3BEoksc. Reason: 7YYB3BEoksc is a private video\n"
     ]
    },
    {
     "name": "stderr",
     "output_type": "stream",
     "text": [
      "\r",
      "  5%|███▌                                                                 | 825/16054 [2:06:36<4:24:33,  1.04s/it]"
     ]
    },
    {
     "name": "stdout",
     "output_type": "stream",
     "text": [
      "Failed to download video from https://www.youtube.com/watch?v=7YYB3BEoksc. Reason: 7YYB3BEoksc is a private video\n"
     ]
    },
    {
     "name": "stderr",
     "output_type": "stream",
     "text": [
      "\r",
      "  5%|███▌                                                                 | 826/16054 [2:06:37<4:15:11,  1.01s/it]"
     ]
    },
    {
     "name": "stdout",
     "output_type": "stream",
     "text": [
      "Failed to download video from https://www.youtube.com/watch?v=7YYB3BEoksc. Reason: 7YYB3BEoksc is a private video\n"
     ]
    },
    {
     "name": "stderr",
     "output_type": "stream",
     "text": [
      "\r",
      "  5%|███▌                                                                 | 827/16054 [2:06:38<4:16:07,  1.01s/it]"
     ]
    },
    {
     "name": "stdout",
     "output_type": "stream",
     "text": [
      "Failed to download video from https://www.youtube.com/watch?v=7YYB3BEoksc. Reason: 7YYB3BEoksc is a private video\n"
     ]
    },
    {
     "name": "stderr",
     "output_type": "stream",
     "text": [
      "\r",
      "  5%|███▌                                                                 | 828/16054 [2:06:39<4:27:31,  1.05s/it]"
     ]
    },
    {
     "name": "stdout",
     "output_type": "stream",
     "text": [
      "Failed to download video from https://www.youtube.com/watch?v=7YYB3BEoksc. Reason: 7YYB3BEoksc is a private video\n"
     ]
    },
    {
     "name": "stderr",
     "output_type": "stream",
     "text": [
      "\r",
      "  5%|███▌                                                                 | 829/16054 [2:06:41<5:45:53,  1.36s/it]"
     ]
    },
    {
     "name": "stdout",
     "output_type": "stream",
     "text": [
      "Failed to download video from https://www.youtube.com/watch?v=7YYB3BEoksc. Reason: 7YYB3BEoksc is a private video\n"
     ]
    },
    {
     "name": "stderr",
     "output_type": "stream",
     "text": [
      "\r",
      "  5%|███▌                                                                 | 830/16054 [2:06:42<5:34:36,  1.32s/it]"
     ]
    },
    {
     "name": "stdout",
     "output_type": "stream",
     "text": [
      "Failed to download video from https://www.youtube.com/watch?v=7YYB3BEoksc. Reason: 7YYB3BEoksc is a private video\n"
     ]
    },
    {
     "name": "stderr",
     "output_type": "stream",
     "text": [
      "\r",
      "  5%|███▌                                                                 | 831/16054 [2:06:43<5:06:12,  1.21s/it]"
     ]
    },
    {
     "name": "stdout",
     "output_type": "stream",
     "text": [
      "Failed to download video from https://www.youtube.com/watch?v=7YYB3BEoksc. Reason: 7YYB3BEoksc is a private video\n"
     ]
    },
    {
     "name": "stderr",
     "output_type": "stream",
     "text": [
      "\r",
      "  5%|███▌                                                                 | 832/16054 [2:06:44<4:46:27,  1.13s/it]"
     ]
    },
    {
     "name": "stdout",
     "output_type": "stream",
     "text": [
      "Failed to download video from https://www.youtube.com/watch?v=7YYB3BEoksc. Reason: 7YYB3BEoksc is a private video\n"
     ]
    },
    {
     "name": "stderr",
     "output_type": "stream",
     "text": [
      "\r",
      "  5%|███▌                                                                 | 833/16054 [2:06:45<4:46:45,  1.13s/it]"
     ]
    },
    {
     "name": "stdout",
     "output_type": "stream",
     "text": [
      "Failed to download video from https://www.youtube.com/watch?v=7YYB3BEoksc. Reason: 7YYB3BEoksc is a private video\n"
     ]
    },
    {
     "name": "stderr",
     "output_type": "stream",
     "text": [
      "\r",
      "  5%|███▌                                                                 | 834/16054 [2:06:46<4:34:29,  1.08s/it]"
     ]
    },
    {
     "name": "stdout",
     "output_type": "stream",
     "text": [
      "Failed to download video from https://www.youtube.com/watch?v=7YYB3BEoksc. Reason: 7YYB3BEoksc is a private video\n"
     ]
    },
    {
     "name": "stderr",
     "output_type": "stream",
     "text": [
      "\r",
      "  5%|███▌                                                                 | 835/16054 [2:06:47<4:22:47,  1.04s/it]"
     ]
    },
    {
     "name": "stdout",
     "output_type": "stream",
     "text": [
      "Failed to download video from https://www.youtube.com/watch?v=7YYB3BEoksc. Reason: 7YYB3BEoksc is a private video\n"
     ]
    },
    {
     "name": "stderr",
     "output_type": "stream",
     "text": [
      "\r",
      "  5%|███▌                                                                 | 836/16054 [2:06:48<4:10:34,  1.01it/s]"
     ]
    },
    {
     "name": "stdout",
     "output_type": "stream",
     "text": [
      "Failed to download video from https://www.youtube.com/watch?v=7YYB3BEoksc. Reason: 7YYB3BEoksc is a private video\n"
     ]
    },
    {
     "name": "stderr",
     "output_type": "stream",
     "text": [
      "\r",
      "  5%|███▌                                                                 | 837/16054 [2:06:49<4:28:53,  1.06s/it]"
     ]
    },
    {
     "name": "stdout",
     "output_type": "stream",
     "text": [
      "Failed to download video from https://www.youtube.com/watch?v=7YYB3BEoksc. Reason: 7YYB3BEoksc is a private video\n"
     ]
    },
    {
     "name": "stderr",
     "output_type": "stream",
     "text": [
      "\r",
      "  5%|███▌                                                                 | 838/16054 [2:06:50<4:26:38,  1.05s/it]"
     ]
    },
    {
     "name": "stdout",
     "output_type": "stream",
     "text": [
      "Failed to download video from https://www.youtube.com/watch?v=7YYB3BEoksc. Reason: 7YYB3BEoksc is a private video\n"
     ]
    },
    {
     "name": "stderr",
     "output_type": "stream",
     "text": [
      "\r",
      "  5%|███▌                                                                 | 839/16054 [2:06:51<4:17:05,  1.01s/it]"
     ]
    },
    {
     "name": "stdout",
     "output_type": "stream",
     "text": [
      "Failed to download video from https://www.youtube.com/watch?v=7YYB3BEoksc. Reason: 7YYB3BEoksc is a private video\n"
     ]
    },
    {
     "name": "stderr",
     "output_type": "stream",
     "text": [
      "\r",
      "  5%|███▌                                                                 | 840/16054 [2:06:52<4:48:32,  1.14s/it]"
     ]
    },
    {
     "name": "stdout",
     "output_type": "stream",
     "text": [
      "Failed to download video from https://www.youtube.com/watch?v=7YYB3BEoksc. Reason: 7YYB3BEoksc is a private video\n"
     ]
    },
    {
     "name": "stderr",
     "output_type": "stream",
     "text": [
      "\r",
      "  5%|███▌                                                                 | 841/16054 [2:06:53<4:29:44,  1.06s/it]"
     ]
    },
    {
     "name": "stdout",
     "output_type": "stream",
     "text": [
      "Failed to download video from https://www.youtube.com/watch?v=7YYB3BEoksc. Reason: 7YYB3BEoksc is a private video\n"
     ]
    },
    {
     "name": "stderr",
     "output_type": "stream",
     "text": [
      "\r",
      "  5%|███▌                                                                 | 842/16054 [2:06:54<4:26:28,  1.05s/it]"
     ]
    },
    {
     "name": "stdout",
     "output_type": "stream",
     "text": [
      "Failed to download video from https://www.youtube.com/watch?v=7YYB3BEoksc. Reason: 7YYB3BEoksc is a private video\n"
     ]
    },
    {
     "name": "stderr",
     "output_type": "stream",
     "text": [
      "  5%|███▌                                                                | 849/16054 [2:07:35<20:26:26,  4.84s/it]"
     ]
    },
    {
     "name": "stdout",
     "output_type": "stream",
     "text": [
      "Failed to download video from www.youtube.com/watch?v=T-5gCZTBobA. Reason: T-5gCZTBobA is a private video\n"
     ]
    },
    {
     "name": "stderr",
     "output_type": "stream",
     "text": [
      "  5%|███▌                                                                | 851/16054 [2:07:41<15:41:49,  3.72s/it]"
     ]
    },
    {
     "name": "stdout",
     "output_type": "stream",
     "text": [
      "Failed to download video from www.youtube.com/watch?v=Jk8OmBIYZLA. Reason: Jk8OmBIYZLA is a private video\n"
     ]
    },
    {
     "name": "stderr",
     "output_type": "stream",
     "text": [
      "  5%|███▌                                                                | 854/16054 [2:07:56<18:21:22,  4.35s/it]"
     ]
    },
    {
     "name": "stdout",
     "output_type": "stream",
     "text": [
      "Failed to download video from www.youtube.com/watch?v=wZpMNvLP0sU. Reason: wZpMNvLP0sU is a private video\n"
     ]
    },
    {
     "name": "stderr",
     "output_type": "stream",
     "text": [
      "  5%|███▋                                                                | 858/16054 [2:08:20<19:41:28,  4.66s/it]"
     ]
    },
    {
     "name": "stdout",
     "output_type": "stream",
     "text": [
      "Failed to download video from www.youtube.com/watch?v=4CwQ3J7Fo5I. Reason: 4CwQ3J7Fo5I is a private video\n"
     ]
    },
    {
     "name": "stderr",
     "output_type": "stream",
     "text": [
      "  6%|████                                                               | 978/16054 [3:40:23<226:58:57, 54.20s/it]"
     ]
    },
    {
     "name": "stdout",
     "output_type": "stream",
     "text": [
      "Failed to download video from www.youtube.com/watch?v=YLdgsldUMR0. Reason: YLdgsldUMR0 is unavailable\n"
     ]
    },
    {
     "name": "stderr",
     "output_type": "stream",
     "text": [
      "  6%|████▏                                                               | 987/16054 [3:41:12<25:25:19,  6.07s/it]"
     ]
    },
    {
     "name": "stdout",
     "output_type": "stream",
     "text": [
      "Failed to download video from www.youtube.com/watch?v=P-ibWNWqGsw. Reason: P-ibWNWqGsw is unavailable\n"
     ]
    },
    {
     "name": "stderr",
     "output_type": "stream",
     "text": [
      "  6%|████▏                                                               | 990/16054 [3:41:23<17:35:20,  4.20s/it]"
     ]
    },
    {
     "name": "stdout",
     "output_type": "stream",
     "text": [
      "Failed to download video from www.youtube.com/watch?v=5aI0Hq_SYkE. Reason: 5aI0Hq_SYkE is unavailable\n"
     ]
    },
    {
     "name": "stderr",
     "output_type": "stream",
     "text": [
      "  6%|████▏                                                               | 995/16054 [3:41:52<24:10:43,  5.78s/it]"
     ]
    },
    {
     "name": "stdout",
     "output_type": "stream",
     "text": [
      "Failed to download video from https://www.youtube.com/watch?v=mC0lNJ6iz-s. Reason: HTTP Error 503: Service Unavailable\n"
     ]
    },
    {
     "name": "stderr",
     "output_type": "stream",
     "text": [
      "  7%|████▊                                                              | 1156/16054 [4:50:06<27:12:55,  6.58s/it]"
     ]
    },
    {
     "name": "stdout",
     "output_type": "stream",
     "text": [
      "Failed to download video from https://www.youtube.com/watch?v=VSS0sARFsI8. Reason: IncompleteRead(0 bytes read, 120702 more expected)\n"
     ]
    },
    {
     "name": "stderr",
     "output_type": "stream",
     "text": [
      "\r",
      "  7%|████▊                                                              | 1157/16054 [4:50:07<20:23:44,  4.93s/it]"
     ]
    },
    {
     "name": "stdout",
     "output_type": "stream",
     "text": [
      "Failed to download video from https://www.youtube.com/watch?v=zfLOQTpZSps. Reason: zfLOQTpZSps is unavailable\n"
     ]
    },
    {
     "name": "stderr",
     "output_type": "stream",
     "text": [
      "\r",
      "  7%|████▊                                                              | 1158/16054 [4:50:08<15:38:10,  3.78s/it]"
     ]
    },
    {
     "name": "stdout",
     "output_type": "stream",
     "text": [
      "Failed to download video from https://www.youtube.com/watch?v=zfLOQTpZSps. Reason: zfLOQTpZSps is unavailable\n"
     ]
    },
    {
     "name": "stderr",
     "output_type": "stream",
     "text": [
      "\r",
      "  7%|████▊                                                              | 1159/16054 [4:50:09<12:08:59,  2.94s/it]"
     ]
    },
    {
     "name": "stdout",
     "output_type": "stream",
     "text": [
      "Failed to download video from https://www.youtube.com/watch?v=zfLOQTpZSps. Reason: zfLOQTpZSps is unavailable\n"
     ]
    },
    {
     "name": "stderr",
     "output_type": "stream",
     "text": [
      "\r",
      "  7%|████▉                                                               | 1160/16054 [4:50:10<9:41:25,  2.34s/it]"
     ]
    },
    {
     "name": "stdout",
     "output_type": "stream",
     "text": [
      "Failed to download video from https://www.youtube.com/watch?v=zfLOQTpZSps. Reason: zfLOQTpZSps is unavailable\n"
     ]
    },
    {
     "name": "stderr",
     "output_type": "stream",
     "text": [
      "\r",
      "  7%|████▉                                                               | 1161/16054 [4:50:11<7:59:02,  1.93s/it]"
     ]
    },
    {
     "name": "stdout",
     "output_type": "stream",
     "text": [
      "Failed to download video from https://www.youtube.com/watch?v=zfLOQTpZSps. Reason: zfLOQTpZSps is unavailable\n"
     ]
    },
    {
     "name": "stderr",
     "output_type": "stream",
     "text": [
      "\r",
      "  7%|████▉                                                               | 1162/16054 [4:50:12<6:48:39,  1.65s/it]"
     ]
    },
    {
     "name": "stdout",
     "output_type": "stream",
     "text": [
      "Failed to download video from https://www.youtube.com/watch?v=zfLOQTpZSps. Reason: zfLOQTpZSps is unavailable\n"
     ]
    },
    {
     "name": "stderr",
     "output_type": "stream",
     "text": [
      "\r",
      "  7%|████▉                                                               | 1163/16054 [4:50:13<6:10:28,  1.49s/it]"
     ]
    },
    {
     "name": "stdout",
     "output_type": "stream",
     "text": [
      "Failed to download video from https://www.youtube.com/watch?v=zfLOQTpZSps. Reason: zfLOQTpZSps is unavailable\n"
     ]
    },
    {
     "name": "stderr",
     "output_type": "stream",
     "text": [
      "\r",
      "  7%|████▉                                                               | 1164/16054 [4:50:14<5:35:56,  1.35s/it]"
     ]
    },
    {
     "name": "stdout",
     "output_type": "stream",
     "text": [
      "Failed to download video from https://www.youtube.com/watch?v=zfLOQTpZSps. Reason: zfLOQTpZSps is unavailable\n"
     ]
    },
    {
     "name": "stderr",
     "output_type": "stream",
     "text": [
      "\r",
      "  7%|████▉                                                               | 1165/16054 [4:50:15<5:08:20,  1.24s/it]"
     ]
    },
    {
     "name": "stdout",
     "output_type": "stream",
     "text": [
      "Failed to download video from https://www.youtube.com/watch?v=zfLOQTpZSps. Reason: zfLOQTpZSps is unavailable\n"
     ]
    },
    {
     "name": "stderr",
     "output_type": "stream",
     "text": [
      "\r",
      "  7%|████▉                                                               | 1166/16054 [4:50:16<4:49:05,  1.17s/it]"
     ]
    },
    {
     "name": "stdout",
     "output_type": "stream",
     "text": [
      "Failed to download video from https://www.youtube.com/watch?v=zfLOQTpZSps. Reason: zfLOQTpZSps is unavailable\n"
     ]
    },
    {
     "name": "stderr",
     "output_type": "stream",
     "text": [
      "\r",
      "  7%|████▉                                                               | 1167/16054 [4:50:17<4:36:41,  1.12s/it]"
     ]
    },
    {
     "name": "stdout",
     "output_type": "stream",
     "text": [
      "Failed to download video from https://www.youtube.com/watch?v=zfLOQTpZSps. Reason: zfLOQTpZSps is unavailable\n"
     ]
    },
    {
     "name": "stderr",
     "output_type": "stream",
     "text": [
      "  7%|████▉                                                              | 1184/16054 [4:51:39<15:43:34,  3.81s/it]"
     ]
    },
    {
     "name": "stdout",
     "output_type": "stream",
     "text": [
      "Failed to download video from www.youtube.com/watch?v=nO17gdTDlkE. Reason: nO17gdTDlkE is unavailable\n"
     ]
    },
    {
     "name": "stderr",
     "output_type": "stream",
     "text": [
      "\r",
      "  7%|████▉                                                              | 1185/16054 [4:51:40<12:13:29,  2.96s/it]"
     ]
    },
    {
     "name": "stdout",
     "output_type": "stream",
     "text": [
      "Failed to download video from www.youtube.com/watch?v=H9vlB0A119o. Reason: H9vlB0A119o is a private video\n"
     ]
    },
    {
     "name": "stderr",
     "output_type": "stream",
     "text": [
      "  7%|████▉                                                              | 1187/16054 [4:51:47<11:51:44,  2.87s/it]"
     ]
    },
    {
     "name": "stdout",
     "output_type": "stream",
     "text": [
      "Failed to download video from https://www.youtube.com/watch?v=jQTwaySU-yY. Reason: jQTwaySU-yY is unavailable\n"
     ]
    },
    {
     "name": "stderr",
     "output_type": "stream",
     "text": [
      "\r",
      "  7%|█████                                                               | 1188/16054 [4:51:48<9:27:10,  2.29s/it]"
     ]
    },
    {
     "name": "stdout",
     "output_type": "stream",
     "text": [
      "Failed to download video from https://www.youtube.com/watch?v=jQTwaySU-yY. Reason: jQTwaySU-yY is unavailable\n"
     ]
    },
    {
     "name": "stderr",
     "output_type": "stream",
     "text": [
      "\r",
      "  7%|█████                                                               | 1189/16054 [4:51:49<7:50:51,  1.90s/it]"
     ]
    },
    {
     "name": "stdout",
     "output_type": "stream",
     "text": [
      "Failed to download video from https://www.youtube.com/watch?v=jQTwaySU-yY. Reason: jQTwaySU-yY is unavailable\n"
     ]
    },
    {
     "name": "stderr",
     "output_type": "stream",
     "text": [
      "\r",
      "  7%|█████                                                               | 1190/16054 [4:51:50<6:41:43,  1.62s/it]"
     ]
    },
    {
     "name": "stdout",
     "output_type": "stream",
     "text": [
      "Failed to download video from https://www.youtube.com/watch?v=jQTwaySU-yY. Reason: jQTwaySU-yY is unavailable\n"
     ]
    },
    {
     "name": "stderr",
     "output_type": "stream",
     "text": [
      "\r",
      "  7%|█████                                                               | 1191/16054 [4:51:51<5:58:52,  1.45s/it]"
     ]
    },
    {
     "name": "stdout",
     "output_type": "stream",
     "text": [
      "Failed to download video from https://www.youtube.com/watch?v=jQTwaySU-yY. Reason: jQTwaySU-yY is unavailable\n"
     ]
    },
    {
     "name": "stderr",
     "output_type": "stream",
     "text": [
      "\r",
      "  7%|█████                                                               | 1192/16054 [4:51:52<5:22:40,  1.30s/it]"
     ]
    },
    {
     "name": "stdout",
     "output_type": "stream",
     "text": [
      "Failed to download video from https://www.youtube.com/watch?v=jQTwaySU-yY. Reason: jQTwaySU-yY is unavailable\n"
     ]
    },
    {
     "name": "stderr",
     "output_type": "stream",
     "text": [
      "\r",
      "  7%|█████                                                               | 1193/16054 [4:51:53<4:55:10,  1.19s/it]"
     ]
    },
    {
     "name": "stdout",
     "output_type": "stream",
     "text": [
      "Failed to download video from https://www.youtube.com/watch?v=jQTwaySU-yY. Reason: jQTwaySU-yY is unavailable\n"
     ]
    },
    {
     "name": "stderr",
     "output_type": "stream",
     "text": [
      "\r",
      "  7%|█████                                                               | 1194/16054 [4:51:54<4:38:39,  1.13s/it]"
     ]
    },
    {
     "name": "stdout",
     "output_type": "stream",
     "text": [
      "Failed to download video from https://www.youtube.com/watch?v=jQTwaySU-yY. Reason: jQTwaySU-yY is unavailable\n"
     ]
    },
    {
     "name": "stderr",
     "output_type": "stream",
     "text": [
      "\r",
      "  7%|█████                                                               | 1195/16054 [4:51:55<4:27:53,  1.08s/it]"
     ]
    },
    {
     "name": "stdout",
     "output_type": "stream",
     "text": [
      "Failed to download video from https://www.youtube.com/watch?v=jQTwaySU-yY. Reason: jQTwaySU-yY is unavailable\n"
     ]
    },
    {
     "name": "stderr",
     "output_type": "stream",
     "text": [
      "\r",
      "  7%|█████                                                               | 1196/16054 [4:51:56<4:23:58,  1.07s/it]"
     ]
    },
    {
     "name": "stdout",
     "output_type": "stream",
     "text": [
      "Failed to download video from https://www.youtube.com/watch?v=jQTwaySU-yY. Reason: jQTwaySU-yY is unavailable\n"
     ]
    },
    {
     "name": "stderr",
     "output_type": "stream",
     "text": [
      "\r",
      "  7%|█████                                                               | 1197/16054 [4:51:57<4:15:30,  1.03s/it]"
     ]
    },
    {
     "name": "stdout",
     "output_type": "stream",
     "text": [
      "Failed to download video from https://www.youtube.com/watch?v=jQTwaySU-yY. Reason: jQTwaySU-yY is unavailable\n"
     ]
    },
    {
     "name": "stderr",
     "output_type": "stream",
     "text": [
      "\r",
      "  7%|█████                                                               | 1198/16054 [4:51:58<4:12:05,  1.02s/it]"
     ]
    },
    {
     "name": "stdout",
     "output_type": "stream",
     "text": [
      "Failed to download video from https://www.youtube.com/watch?v=jQTwaySU-yY. Reason: jQTwaySU-yY is unavailable\n"
     ]
    },
    {
     "name": "stderr",
     "output_type": "stream",
     "text": [
      "\r",
      "  7%|█████                                                               | 1199/16054 [4:51:59<4:11:09,  1.01s/it]"
     ]
    },
    {
     "name": "stdout",
     "output_type": "stream",
     "text": [
      "Failed to download video from https://www.youtube.com/watch?v=jQTwaySU-yY. Reason: jQTwaySU-yY is unavailable\n"
     ]
    },
    {
     "name": "stderr",
     "output_type": "stream",
     "text": [
      "\r",
      "  7%|█████                                                               | 1200/16054 [4:52:00<4:09:01,  1.01s/it]"
     ]
    },
    {
     "name": "stdout",
     "output_type": "stream",
     "text": [
      "Failed to download video from https://www.youtube.com/watch?v=jQTwaySU-yY. Reason: jQTwaySU-yY is unavailable\n"
     ]
    },
    {
     "name": "stderr",
     "output_type": "stream",
     "text": [
      "  7%|█████                                                               | 1203/16054 [4:52:11<9:47:51,  2.37s/it]"
     ]
    },
    {
     "name": "stdout",
     "output_type": "stream",
     "text": [
      "Failed to download video from www.youtube.com/watch?v=NGNoEmYEpCQ. Reason: NGNoEmYEpCQ is unavailable\n"
     ]
    },
    {
     "name": "stderr",
     "output_type": "stream",
     "text": [
      "  8%|█████                                                              | 1224/16054 [4:54:06<17:45:10,  4.31s/it]"
     ]
    },
    {
     "name": "stdout",
     "output_type": "stream",
     "text": [
      "Failed to download video from https://www.youtube.com/watch?v=tDCmwuIZE5k. Reason: HTTP Error 503: Service Unavailable\n"
     ]
    },
    {
     "name": "stderr",
     "output_type": "stream",
     "text": [
      "  8%|█████▏                                                             | 1247/16054 [4:56:31<35:40:39,  8.67s/it][h264 @ 0x10a72fed0] mmco: unref short failure\n",
      "[h264 @ 0x10a72fed0] mmco: unref short failure\n",
      "[h264 @ 0x10a72fed0] mmco: unref short failure\n",
      "[h264 @ 0x10a72fed0] mmco: unref short failure\n",
      "[h264 @ 0x10a72fed0] mmco: unref short failure\n",
      "[h264 @ 0x10a72fed0] mmco: unref short failure\n",
      "[h264 @ 0x10a72fed0] mmco: unref short failure\n",
      "[h264 @ 0x10a72fed0] mmco: unref short failure\n",
      "[h264 @ 0x10a72fed0] mmco: unref short failure\n",
      "[h264 @ 0x10a72fed0] mmco: unref short failure\n",
      "[h264 @ 0x10a72fed0] mmco: unref short failure\n",
      "[h264 @ 0x10a72fed0] mmco: unref short failure\n",
      "[h264 @ 0x10a72fed0] mmco: unref short failure\n",
      "[h264 @ 0x10a72fed0] mmco: unref short failure\n",
      "[h264 @ 0x10a72fed0] mmco: unref short failure\n",
      "[h264 @ 0x10a72fed0] mmco: unref short failure\n",
      "[h264 @ 0x10a72fed0] mmco: unref short failure\n",
      "[h264 @ 0x10a72fed0] mmco: unref short failure\n",
      "[h264 @ 0x10a72fed0] mmco: unref short failure\n",
      "[h264 @ 0x10a72fed0] mmco: unref short failure\n",
      "[h264 @ 0x10a72fed0] mmco: unref short failure\n",
      "[h264 @ 0x10a72fed0] mmco: unref short failure\n",
      "[h264 @ 0x10a72fed0] mmco: unref short failure\n",
      "[h264 @ 0x10a72fed0] mmco: unref short failure\n",
      "[h264 @ 0x10a72fed0] mmco: unref short failure\n",
      "[h264 @ 0x10a72fed0] mmco: unref short failure\n",
      "[h264 @ 0x10a72fed0] mmco: unref short failure\n",
      "[h264 @ 0x10a72fed0] mmco: unref short failure\n",
      "[h264 @ 0x10a72fed0] mmco: unref short failure\n",
      "[h264 @ 0x10a72fed0] mmco: unref short failure\n",
      "[h264 @ 0x10a72fed0] mmco: unref short failure\n",
      "[h264 @ 0x10a72fed0] mmco: unref short failure\n",
      "  8%|█████▏                                                             | 1248/16054 [4:56:39<34:47:00,  8.46s/it][h264 @ 0x10a713fb0] mmco: unref short failure\n",
      "[h264 @ 0x10a713fb0] mmco: unref short failure\n",
      "[h264 @ 0x10a713fb0] mmco: unref short failure\n",
      "[h264 @ 0x10a713fb0] mmco: unref short failure\n",
      "[h264 @ 0x10a713fb0] mmco: unref short failure\n",
      "[h264 @ 0x10a713fb0] mmco: unref short failure\n",
      "[h264 @ 0x10a713fb0] mmco: unref short failure\n",
      "[h264 @ 0x10a713fb0] mmco: unref short failure\n",
      "[h264 @ 0x10a713fb0] mmco: unref short failure\n",
      "[h264 @ 0x10a713fb0] mmco: unref short failure\n",
      "[h264 @ 0x10a713fb0] mmco: unref short failure\n",
      "[h264 @ 0x10a713fb0] mmco: unref short failure\n",
      "[h264 @ 0x10a713fb0] mmco: unref short failure\n",
      "[h264 @ 0x10a713fb0] mmco: unref short failure\n",
      "[h264 @ 0x10a713fb0] mmco: unref short failure\n",
      "[h264 @ 0x10a713fb0] mmco: unref short failure\n",
      "[h264 @ 0x10a713fb0] mmco: unref short failure\n",
      "[h264 @ 0x10a713fb0] mmco: unref short failure\n",
      "[h264 @ 0x10a713fb0] mmco: unref short failure\n",
      "[h264 @ 0x10a713fb0] mmco: unref short failure\n",
      "[h264 @ 0x10a713fb0] mmco: unref short failure\n",
      "[h264 @ 0x10a713fb0] mmco: unref short failure\n",
      "[h264 @ 0x10a713fb0] mmco: unref short failure\n",
      "[h264 @ 0x10a713fb0] mmco: unref short failure\n",
      "[h264 @ 0x10a713fb0] mmco: unref short failure\n",
      "[h264 @ 0x10a713fb0] mmco: unref short failure\n",
      "[h264 @ 0x10a713fb0] mmco: unref short failure\n",
      "[h264 @ 0x10a713fb0] mmco: unref short failure\n",
      "[h264 @ 0x10a713fb0] mmco: unref short failure\n",
      "[h264 @ 0x10a713fb0] mmco: unref short failure\n",
      "[h264 @ 0x10a713fb0] mmco: unref short failure\n",
      "[h264 @ 0x10a713fb0] mmco: unref short failure\n",
      "  8%|█████▏                                                             | 1249/16054 [4:56:47<33:52:06,  8.24s/it][h264 @ 0x10a72ea30] mmco: unref short failure\n",
      "[h264 @ 0x10a72ea30] mmco: unref short failure\n",
      "[h264 @ 0x10a72ea30] mmco: unref short failure\n",
      "[h264 @ 0x10a72ea30] mmco: unref short failure\n",
      "[h264 @ 0x10a72ea30] mmco: unref short failure\n",
      "[h264 @ 0x10a72ea30] mmco: unref short failure\n",
      "[h264 @ 0x10a72ea30] mmco: unref short failure\n",
      "[h264 @ 0x10a72ea30] mmco: unref short failure\n",
      "[h264 @ 0x10a72ea30] mmco: unref short failure\n",
      "[h264 @ 0x10a72ea30] mmco: unref short failure\n",
      "[h264 @ 0x10a72ea30] mmco: unref short failure\n",
      "[h264 @ 0x10a72ea30] mmco: unref short failure\n",
      "[h264 @ 0x10a72ea30] mmco: unref short failure\n",
      "[h264 @ 0x10a72ea30] mmco: unref short failure\n",
      "[h264 @ 0x10a72ea30] mmco: unref short failure\n",
      "[h264 @ 0x10a72ea30] mmco: unref short failure\n",
      "[h264 @ 0x10a72ea30] mmco: unref short failure\n",
      "[h264 @ 0x10a72ea30] mmco: unref short failure\n",
      "[h264 @ 0x10a72ea30] mmco: unref short failure\n",
      "[h264 @ 0x10a72ea30] mmco: unref short failure\n",
      "[h264 @ 0x10a72ea30] mmco: unref short failure\n",
      "[h264 @ 0x10a72ea30] mmco: unref short failure\n",
      "[h264 @ 0x10a72ea30] mmco: unref short failure\n",
      "[h264 @ 0x10a72ea30] mmco: unref short failure\n",
      "[h264 @ 0x10a72ea30] mmco: unref short failure\n",
      "[h264 @ 0x10a72ea30] mmco: unref short failure\n",
      "[h264 @ 0x10a72ea30] mmco: unref short failure\n",
      "[h264 @ 0x10a72ea30] mmco: unref short failure\n",
      "[h264 @ 0x10a72ea30] mmco: unref short failure\n",
      "[h264 @ 0x10a72ea30] mmco: unref short failure\n",
      "[h264 @ 0x10a72ea30] mmco: unref short failure\n",
      "[h264 @ 0x10a72ea30] mmco: unref short failure\n",
      "[h264 @ 0x10a72ea30] mmco: unref short failure\n",
      "[h264 @ 0x10a72ea30] mmco: unref short failure\n",
      "[h264 @ 0x10a72ea30] mmco: unref short failure\n",
      "[h264 @ 0x10a72ea30] mmco: unref short failure\n",
      "[h264 @ 0x10a72ea30] mmco: unref short failure\n",
      "[h264 @ 0x10a72ea30] mmco: unref short failure\n",
      "[h264 @ 0x10a72ea30] mmco: unref short failure\n",
      "[h264 @ 0x10a72ea30] mmco: unref short failure\n",
      "[h264 @ 0x10a72ea30] mmco: unref short failure\n",
      "[h264 @ 0x10a72ea30] mmco: unref short failure\n",
      "[h264 @ 0x10a72ea30] mmco: unref short failure\n",
      "[h264 @ 0x10a72ea30] mmco: unref short failure\n",
      "[h264 @ 0x10a72ea30] mmco: unref short failure\n",
      "[h264 @ 0x10a72ea30] mmco: unref short failure\n",
      "[h264 @ 0x10a72ea30] mmco: unref short failure\n",
      "[h264 @ 0x10a72ea30] mmco: unref short failure\n",
      "[h264 @ 0x10a72ea30] mmco: unref short failure\n",
      "[h264 @ 0x10a72ea30] mmco: unref short failure\n",
      "[h264 @ 0x10a72ea30] mmco: unref short failure\n",
      "[h264 @ 0x10a72ea30] mmco: unref short failure\n",
      "[h264 @ 0x10a72ea30] mmco: unref short failure\n",
      "[h264 @ 0x10a72ea30] mmco: unref short failure\n",
      "[h264 @ 0x10a72ea30] mmco: unref short failure\n",
      "[h264 @ 0x10a72ea30] mmco: unref short failure\n",
      "[h264 @ 0x10a72ea30] mmco: unref short failure\n",
      "[h264 @ 0x10a72ea30] mmco: unref short failure\n",
      "[h264 @ 0x10a72ea30] mmco: unref short failure\n",
      "[h264 @ 0x10a72ea30] mmco: unref short failure\n",
      "[h264 @ 0x10a72ea30] mmco: unref short failure\n",
      "[h264 @ 0x10a72ea30] mmco: unref short failure\n",
      "[h264 @ 0x10a72ea30] mmco: unref short failure\n",
      "[h264 @ 0x10a72ea30] mmco: unref short failure\n",
      "[h264 @ 0x10a72ea30] mmco: unref short failure\n",
      "[h264 @ 0x10a72ea30] mmco: unref short failure\n",
      "[h264 @ 0x10a72ea30] mmco: unref short failure\n",
      "[h264 @ 0x10a72ea30] mmco: unref short failure\n",
      "[h264 @ 0x10a72ea30] mmco: unref short failure\n",
      "[h264 @ 0x10a72ea30] mmco: unref short failure\n",
      "[h264 @ 0x10a72ea30] mmco: unref short failure\n",
      "[h264 @ 0x10a72ea30] mmco: unref short failure\n",
      "[h264 @ 0x10a72ea30] mmco: unref short failure\n",
      "[h264 @ 0x10a72ea30] mmco: unref short failure\n",
      "[h264 @ 0x10a72ea30] mmco: unref short failure\n",
      "[h264 @ 0x10a72ea30] mmco: unref short failure\n",
      "[h264 @ 0x10a72ea30] mmco: unref short failure\n",
      "[h264 @ 0x10a72ea30] mmco: unref short failure\n",
      "[h264 @ 0x10a72ea30] mmco: unref short failure\n",
      "[h264 @ 0x10a72ea30] mmco: unref short failure\n",
      "[h264 @ 0x10a72ea30] mmco: unref short failure\n",
      "[h264 @ 0x10a72ea30] mmco: unref short failure\n",
      "[h264 @ 0x10a72ea30] mmco: unref short failure\n",
      "[h264 @ 0x10a72ea30] mmco: unref short failure\n",
      "[h264 @ 0x10a72ea30] mmco: unref short failure\n",
      "[h264 @ 0x10a72ea30] mmco: unref short failure\n",
      "[h264 @ 0x10a72ea30] mmco: unref short failure\n",
      "[h264 @ 0x10a72ea30] mmco: unref short failure\n",
      "[h264 @ 0x10a72ea30] mmco: unref short failure\n",
      "[h264 @ 0x10a72ea30] mmco: unref short failure\n",
      "[h264 @ 0x10a72ea30] mmco: unref short failure\n",
      "[h264 @ 0x10a72ea30] mmco: unref short failure\n",
      "[h264 @ 0x10a72ea30] mmco: unref short failure\n",
      "[h264 @ 0x10a72ea30] mmco: unref short failure\n",
      "[h264 @ 0x10a72ea30] mmco: unref short failure\n",
      "[h264 @ 0x10a72ea30] mmco: unref short failure\n",
      "[h264 @ 0x10a72ea30] mmco: unref short failure\n",
      "[h264 @ 0x10a72ea30] mmco: unref short failure\n",
      "[h264 @ 0x10a72ea30] mmco: unref short failure\n",
      "[h264 @ 0x10a72ea30] mmco: unref short failure\n",
      "[h264 @ 0x10a72ea30] mmco: unref short failure\n",
      "[h264 @ 0x10a72ea30] mmco: unref short failure\n",
      "[h264 @ 0x10a72ea30] mmco: unref short failure\n",
      "[h264 @ 0x10a72ea30] mmco: unref short failure\n"
     ]
    },
    {
     "name": "stderr",
     "output_type": "stream",
     "text": [
      "  8%|█████▏                                                             | 1250/16054 [4:56:55<33:37:18,  8.18s/it][h264 @ 0x10a82af20] mmco: unref short failure\n",
      "[h264 @ 0x10a82af20] mmco: unref short failure\n",
      "[h264 @ 0x10a82af20] mmco: unref short failure\n",
      "[h264 @ 0x10a82af20] mmco: unref short failure\n",
      "[h264 @ 0x10a82af20] mmco: unref short failure\n",
      "[h264 @ 0x10a82af20] mmco: unref short failure\n",
      "[h264 @ 0x10a82af20] mmco: unref short failure\n",
      "[h264 @ 0x10a82af20] mmco: unref short failure\n",
      "[h264 @ 0x10a82af20] mmco: unref short failure\n",
      "[h264 @ 0x10a82af20] mmco: unref short failure\n",
      "[h264 @ 0x10a82af20] mmco: unref short failure\n",
      "[h264 @ 0x10a82af20] mmco: unref short failure\n",
      "[h264 @ 0x10a82af20] mmco: unref short failure\n",
      "[h264 @ 0x10a82af20] mmco: unref short failure\n",
      "[h264 @ 0x10a82af20] mmco: unref short failure\n",
      "[h264 @ 0x10a82af20] mmco: unref short failure\n",
      "[h264 @ 0x10a82af20] mmco: unref short failure\n",
      "[h264 @ 0x10a82af20] mmco: unref short failure\n",
      "[h264 @ 0x10a82af20] mmco: unref short failure\n",
      "[h264 @ 0x10a82af20] mmco: unref short failure\n",
      "[h264 @ 0x10a82af20] mmco: unref short failure\n",
      "[h264 @ 0x10a82af20] mmco: unref short failure\n",
      "[h264 @ 0x10a82af20] mmco: unref short failure\n",
      "[h264 @ 0x10a82af20] mmco: unref short failure\n",
      "[h264 @ 0x10a82af20] mmco: unref short failure\n",
      "[h264 @ 0x10a82af20] mmco: unref short failure\n",
      "[h264 @ 0x10a82af20] mmco: unref short failure\n",
      "[h264 @ 0x10a82af20] mmco: unref short failure\n",
      "[h264 @ 0x10a82af20] mmco: unref short failure\n",
      "[h264 @ 0x10a82af20] mmco: unref short failure\n",
      "[h264 @ 0x10a82af20] mmco: unref short failure\n",
      "[h264 @ 0x10a82af20] mmco: unref short failure\n",
      "  8%|█████▎                                                             | 1258/16054 [4:58:38<70:52:32, 17.24s/it][h264 @ 0x10fe6eb50] mmco: unref short failure\n",
      "[h264 @ 0x10fe6eb50] mmco: unref short failure\n",
      "[h264 @ 0x10fe6eb50] mmco: unref short failure\n",
      "[h264 @ 0x10fe6eb50] mmco: unref short failure\n",
      "[h264 @ 0x10fe6eb50] mmco: unref short failure\n",
      "[h264 @ 0x10fe6eb50] mmco: unref short failure\n",
      "[h264 @ 0x10fe6eb50] mmco: unref short failure\n",
      "[h264 @ 0x10fe6eb50] mmco: unref short failure\n",
      "[h264 @ 0x10fe6eb50] mmco: unref short failure\n",
      "[h264 @ 0x10fe6eb50] mmco: unref short failure\n",
      "[h264 @ 0x10fe6eb50] mmco: unref short failure\n",
      "[h264 @ 0x10fe6eb50] mmco: unref short failure\n",
      "[h264 @ 0x10fe6eb50] mmco: unref short failure\n",
      "[h264 @ 0x10fe6eb50] mmco: unref short failure\n",
      "[h264 @ 0x10fe6eb50] mmco: unref short failure\n",
      "[h264 @ 0x10fe6eb50] mmco: unref short failure\n",
      "[h264 @ 0x10fe6eb50] mmco: unref short failure\n",
      "[h264 @ 0x10fe6eb50] mmco: unref short failure\n",
      "[h264 @ 0x10fe6eb50] mmco: unref short failure\n",
      "[h264 @ 0x10fe6eb50] mmco: unref short failure\n",
      "[h264 @ 0x10fe6eb50] mmco: unref short failure\n",
      "[h264 @ 0x10fe6eb50] mmco: unref short failure\n",
      "[h264 @ 0x10fe6eb50] mmco: unref short failure\n",
      "[h264 @ 0x10fe6eb50] mmco: unref short failure\n",
      "[h264 @ 0x10fe6eb50] mmco: unref short failure\n",
      "[h264 @ 0x10fe6eb50] mmco: unref short failure\n",
      "[h264 @ 0x10fe6eb50] mmco: unref short failure\n",
      "[h264 @ 0x10fe6eb50] mmco: unref short failure\n",
      "[h264 @ 0x10fe6eb50] mmco: unref short failure\n",
      "[h264 @ 0x10fe6eb50] mmco: unref short failure\n",
      "[h264 @ 0x10fe6eb50] mmco: unref short failure\n",
      "[h264 @ 0x10fe6eb50] mmco: unref short failure\n",
      "[h264 @ 0x10fe6eb50] mmco: unref short failure\n",
      "[h264 @ 0x10fe6eb50] mmco: unref short failure\n",
      "[h264 @ 0x10fe6eb50] mmco: unref short failure\n",
      "[h264 @ 0x10fe6eb50] mmco: unref short failure\n",
      "[h264 @ 0x10fe6eb50] mmco: unref short failure\n",
      "[h264 @ 0x10fe6eb50] mmco: unref short failure\n",
      "[h264 @ 0x10fe6eb50] mmco: unref short failure\n",
      "[h264 @ 0x10fe6eb50] mmco: unref short failure\n",
      "[h264 @ 0x10fe6eb50] mmco: unref short failure\n",
      "[h264 @ 0x10fe6eb50] mmco: unref short failure\n",
      "[h264 @ 0x10fe6eb50] mmco: unref short failure\n",
      "[h264 @ 0x10fe6eb50] mmco: unref short failure\n",
      "[h264 @ 0x10fe6eb50] mmco: unref short failure\n",
      "[h264 @ 0x10fe6eb50] mmco: unref short failure\n",
      "[h264 @ 0x10fe6eb50] mmco: unref short failure\n",
      "[h264 @ 0x10fe6eb50] mmco: unref short failure\n",
      "[h264 @ 0x10fe6eb50] mmco: unref short failure\n",
      "[h264 @ 0x10fe6eb50] mmco: unref short failure\n",
      "[h264 @ 0x10fe6eb50] mmco: unref short failure\n",
      "[h264 @ 0x10fe6eb50] mmco: unref short failure\n",
      "[h264 @ 0x10fe6eb50] mmco: unref short failure\n",
      "[h264 @ 0x10fe6eb50] mmco: unref short failure\n",
      "[h264 @ 0x10fe6eb50] mmco: unref short failure\n",
      "[h264 @ 0x10fe6eb50] mmco: unref short failure\n",
      "[h264 @ 0x10fe6eb50] mmco: unref short failure\n",
      "[h264 @ 0x10fe6eb50] mmco: unref short failure\n",
      "[h264 @ 0x10fe6eb50] mmco: unref short failure\n",
      "[h264 @ 0x10fe6eb50] mmco: unref short failure\n",
      "[h264 @ 0x10fe6eb50] mmco: unref short failure\n",
      "[h264 @ 0x10fe6eb50] mmco: unref short failure\n",
      "[h264 @ 0x10fe6eb50] mmco: unref short failure\n",
      "[h264 @ 0x10fe6eb50] mmco: unref short failure\n",
      "[h264 @ 0x10fe6eb50] mmco: unref short failure\n",
      "[h264 @ 0x10fe6eb50] mmco: unref short failure\n",
      "[h264 @ 0x10fe6eb50] mmco: unref short failure\n",
      "[h264 @ 0x10fe6eb50] mmco: unref short failure\n",
      "[h264 @ 0x10fe6eb50] mmco: unref short failure\n",
      "[h264 @ 0x10fe6eb50] mmco: unref short failure\n",
      "[h264 @ 0x10fe6eb50] mmco: unref short failure\n",
      "[h264 @ 0x10fe6eb50] mmco: unref short failure\n",
      "[h264 @ 0x10fe6eb50] mmco: unref short failure\n",
      "[h264 @ 0x10fe6eb50] mmco: unref short failure\n",
      "[h264 @ 0x10fe6eb50] mmco: unref short failure\n",
      "[h264 @ 0x10fe6eb50] mmco: unref short failure\n",
      "[h264 @ 0x10fe6eb50] mmco: unref short failure\n",
      "[h264 @ 0x10fe6eb50] mmco: unref short failure\n",
      "[h264 @ 0x10fe6eb50] mmco: unref short failure\n",
      "[h264 @ 0x10fe6eb50] mmco: unref short failure\n",
      "[h264 @ 0x10fe6eb50] mmco: unref short failure\n",
      "[h264 @ 0x10fe6eb50] mmco: unref short failure\n",
      "[h264 @ 0x10fe6eb50] mmco: unref short failure\n",
      "[h264 @ 0x10fe6eb50] mmco: unref short failure\n",
      "[h264 @ 0x10fe6eb50] mmco: unref short failure\n",
      "[h264 @ 0x10fe6eb50] mmco: unref short failure\n",
      "[h264 @ 0x10fe6eb50] mmco: unref short failure\n",
      "[h264 @ 0x10fe6eb50] mmco: unref short failure\n",
      "[h264 @ 0x10fe6eb50] mmco: unref short failure\n",
      "[h264 @ 0x10fe6eb50] mmco: unref short failure\n",
      "[h264 @ 0x10fe6eb50] mmco: unref short failure\n",
      "[h264 @ 0x10fe6eb50] mmco: unref short failure\n",
      "[h264 @ 0x10fe6eb50] mmco: unref short failure\n",
      "[h264 @ 0x10fe6eb50] mmco: unref short failure\n",
      "[h264 @ 0x10fe6eb50] mmco: unref short failure\n",
      "[h264 @ 0x10fe6eb50] mmco: unref short failure\n",
      "[h264 @ 0x10fe6eb50] mmco: unref short failure\n",
      "[h264 @ 0x10fe6eb50] mmco: unref short failure\n",
      "[h264 @ 0x10fe6eb50] mmco: unref short failure\n",
      "[h264 @ 0x10fe6eb50] mmco: unref short failure\n",
      "[h264 @ 0x10fe6eb50] mmco: unref short failure\n",
      "[h264 @ 0x10fe6eb50] mmco: unref short failure\n",
      "[h264 @ 0x10fe6eb50] mmco: unref short failure\n",
      "[h264 @ 0x10fe6eb50] mmco: unref short failure\n",
      "[h264 @ 0x10fe6eb50] mmco: unref short failure\n",
      "[h264 @ 0x10fe6eb50] mmco: unref short failure\n",
      "[h264 @ 0x10fe6eb50] mmco: unref short failure\n",
      "[h264 @ 0x10fe6eb50] mmco: unref short failure\n",
      "[h264 @ 0x10fe6eb50] mmco: unref short failure\n",
      "[h264 @ 0x10fe6eb50] mmco: unref short failure\n",
      "[h264 @ 0x10fe6eb50] mmco: unref short failure\n",
      "[h264 @ 0x10fe6eb50] mmco: unref short failure\n",
      "[h264 @ 0x10fe6eb50] mmco: unref short failure\n",
      "[h264 @ 0x10fe6eb50] mmco: unref short failure\n",
      "[h264 @ 0x10fe6eb50] mmco: unref short failure\n",
      "[h264 @ 0x10fe6eb50] mmco: unref short failure\n",
      "[h264 @ 0x10fe6eb50] mmco: unref short failure\n",
      "[h264 @ 0x10fe6eb50] mmco: unref short failure\n",
      "[h264 @ 0x10fe6eb50] mmco: unref short failure\n",
      "[h264 @ 0x10fe6eb50] mmco: unref short failure\n",
      "[h264 @ 0x10fe6eb50] mmco: unref short failure\n",
      "[h264 @ 0x10fe6eb50] mmco: unref short failure\n",
      "[h264 @ 0x10fe6eb50] mmco: unref short failure\n",
      "[h264 @ 0x10fe6eb50] mmco: unref short failure\n",
      "[h264 @ 0x10fe6eb50] mmco: unref short failure\n",
      "[h264 @ 0x10fe6eb50] mmco: unref short failure\n",
      "[h264 @ 0x10fe6eb50] mmco: unref short failure\n",
      "[h264 @ 0x10fe6eb50] mmco: unref short failure\n",
      "[h264 @ 0x10fe6eb50] mmco: unref short failure\n",
      "[h264 @ 0x10fe6eb50] mmco: unref short failure\n",
      "[h264 @ 0x10fe6eb50] mmco: unref short failure\n",
      "[h264 @ 0x10fe6eb50] mmco: unref short failure\n",
      "[h264 @ 0x10fe6eb50] mmco: unref short failure\n",
      "[h264 @ 0x10fe6eb50] mmco: unref short failure\n",
      "[h264 @ 0x10fe6eb50] mmco: unref short failure\n",
      "[h264 @ 0x10fe6eb50] mmco: unref short failure\n",
      "[h264 @ 0x10fe6eb50] mmco: unref short failure\n",
      "[h264 @ 0x10fe6eb50] mmco: unref short failure\n",
      "[h264 @ 0x10fe6eb50] mmco: unref short failure\n",
      "[h264 @ 0x10fe6eb50] mmco: unref short failure\n",
      "[h264 @ 0x10fe6eb50] mmco: unref short failure\n",
      "[h264 @ 0x10fe6eb50] mmco: unref short failure\n",
      "[h264 @ 0x10fe6eb50] mmco: unref short failure\n",
      "[h264 @ 0x10fe6eb50] mmco: unref short failure\n",
      "[h264 @ 0x10fe6eb50] mmco: unref short failure\n",
      "[h264 @ 0x10fe6eb50] mmco: unref short failure\n",
      "[h264 @ 0x10fe6eb50] mmco: unref short failure\n",
      "[h264 @ 0x10fe6eb50] mmco: unref short failure\n",
      "[h264 @ 0x10fe6eb50] mmco: unref short failure\n",
      "[h264 @ 0x10fe6eb50] mmco: unref short failure\n",
      "[h264 @ 0x10fe6eb50] mmco: unref short failure\n",
      "[h264 @ 0x10fe6eb50] mmco: unref short failure\n",
      "[h264 @ 0x10fe6eb50] mmco: unref short failure\n",
      "[h264 @ 0x10fe6eb50] mmco: unref short failure\n",
      "[h264 @ 0x10fe6eb50] mmco: unref short failure\n",
      "[h264 @ 0x10fe6eb50] mmco: unref short failure\n",
      "[h264 @ 0x10fe6eb50] mmco: unref short failure\n",
      "[h264 @ 0x10fe6eb50] mmco: unref short failure\n",
      "[h264 @ 0x10fe6eb50] mmco: unref short failure\n",
      "[h264 @ 0x10fe6eb50] mmco: unref short failure\n",
      "[h264 @ 0x10fe6eb50] mmco: unref short failure\n",
      "[h264 @ 0x10fe6eb50] mmco: unref short failure\n",
      "[h264 @ 0x10fe6eb50] mmco: unref short failure\n",
      "[h264 @ 0x10fe6eb50] mmco: unref short failure\n",
      "[h264 @ 0x10fe6eb50] mmco: unref short failure\n",
      "[h264 @ 0x10fe6eb50] mmco: unref short failure\n",
      "[h264 @ 0x10fe6eb50] mmco: unref short failure\n",
      "[h264 @ 0x10fe6eb50] mmco: unref short failure\n"
     ]
    },
    {
     "name": "stderr",
     "output_type": "stream",
     "text": [
      "  8%|█████▎                                                             | 1263/16054 [4:59:16<37:58:56,  9.24s/it][h264 @ 0x10a7365c0] mmco: unref short failure\n",
      "[h264 @ 0x10a7365c0] mmco: unref short failure\n",
      "[h264 @ 0x10a7365c0] mmco: unref short failure\n",
      "[h264 @ 0x10a7365c0] mmco: unref short failure\n",
      "[h264 @ 0x10a7365c0] mmco: unref short failure\n",
      "[h264 @ 0x10a7365c0] mmco: unref short failure\n",
      "[h264 @ 0x10a7365c0] mmco: unref short failure\n",
      "[h264 @ 0x10a7365c0] mmco: unref short failure\n",
      "[h264 @ 0x10a7365c0] mmco: unref short failure\n",
      "[h264 @ 0x10a7365c0] mmco: unref short failure\n",
      "[h264 @ 0x10a7365c0] mmco: unref short failure\n",
      "[h264 @ 0x10a7365c0] mmco: unref short failure\n",
      "[h264 @ 0x10a7365c0] mmco: unref short failure\n",
      "[h264 @ 0x10a7365c0] mmco: unref short failure\n",
      "[h264 @ 0x10a7365c0] mmco: unref short failure\n",
      "[h264 @ 0x10a7365c0] mmco: unref short failure\n",
      "[h264 @ 0x10a7365c0] mmco: unref short failure\n",
      "[h264 @ 0x10a7365c0] mmco: unref short failure\n",
      "[h264 @ 0x10a7365c0] mmco: unref short failure\n",
      "[h264 @ 0x10a7365c0] mmco: unref short failure\n",
      "[h264 @ 0x10a7365c0] mmco: unref short failure\n",
      "[h264 @ 0x10a7365c0] mmco: unref short failure\n",
      "[h264 @ 0x10a7365c0] mmco: unref short failure\n",
      "[h264 @ 0x10a7365c0] mmco: unref short failure\n",
      "[h264 @ 0x10a7365c0] mmco: unref short failure\n",
      "[h264 @ 0x10a7365c0] mmco: unref short failure\n",
      "[h264 @ 0x10a7365c0] mmco: unref short failure\n",
      "[h264 @ 0x10a7365c0] mmco: unref short failure\n",
      "[h264 @ 0x10a7365c0] mmco: unref short failure\n",
      "[h264 @ 0x10a7365c0] mmco: unref short failure\n",
      "[h264 @ 0x10a7365c0] mmco: unref short failure\n",
      "[h264 @ 0x10a7365c0] mmco: unref short failure\n",
      "[h264 @ 0x10a7365c0] mmco: unref short failure\n",
      "[h264 @ 0x10a7365c0] mmco: unref short failure\n",
      "[h264 @ 0x10a7365c0] mmco: unref short failure\n",
      "[h264 @ 0x10a7365c0] mmco: unref short failure\n",
      "[h264 @ 0x10a7365c0] mmco: unref short failure\n",
      "[h264 @ 0x10a7365c0] mmco: unref short failure\n",
      "[h264 @ 0x10a7365c0] mmco: unref short failure\n",
      "[h264 @ 0x10a7365c0] mmco: unref short failure\n",
      "[h264 @ 0x10a7365c0] mmco: unref short failure\n",
      "[h264 @ 0x10a7365c0] mmco: unref short failure\n",
      "[h264 @ 0x10a7365c0] mmco: unref short failure\n",
      "[h264 @ 0x10a7365c0] mmco: unref short failure\n",
      "[h264 @ 0x10a7365c0] mmco: unref short failure\n",
      "[h264 @ 0x10a7365c0] mmco: unref short failure\n",
      "[h264 @ 0x10a7365c0] mmco: unref short failure\n",
      "[h264 @ 0x10a7365c0] mmco: unref short failure\n",
      "[h264 @ 0x10a7365c0] mmco: unref short failure\n",
      "[h264 @ 0x10a7365c0] mmco: unref short failure\n",
      "[h264 @ 0x10a7365c0] mmco: unref short failure\n",
      "[h264 @ 0x10a7365c0] mmco: unref short failure\n",
      "[h264 @ 0x10a7365c0] mmco: unref short failure\n",
      "[h264 @ 0x10a7365c0] mmco: unref short failure\n",
      "[h264 @ 0x10a7365c0] mmco: unref short failure\n",
      "[h264 @ 0x10a7365c0] mmco: unref short failure\n",
      "[h264 @ 0x10a7365c0] mmco: unref short failure\n",
      "[h264 @ 0x10a7365c0] mmco: unref short failure\n",
      "[h264 @ 0x10a7365c0] mmco: unref short failure\n",
      "[h264 @ 0x10a7365c0] mmco: unref short failure\n",
      "[h264 @ 0x10a7365c0] mmco: unref short failure\n",
      "[h264 @ 0x10a7365c0] mmco: unref short failure\n",
      "[h264 @ 0x10a7365c0] mmco: unref short failure\n",
      "[h264 @ 0x10a7365c0] mmco: unref short failure\n",
      "[h264 @ 0x10a7365c0] mmco: unref short failure\n",
      "[h264 @ 0x10a7365c0] mmco: unref short failure\n",
      "[h264 @ 0x10a7365c0] mmco: unref short failure\n",
      "[h264 @ 0x10a7365c0] mmco: unref short failure\n",
      "[h264 @ 0x10a7365c0] mmco: unref short failure\n",
      "[h264 @ 0x10a7365c0] mmco: unref short failure\n",
      "[h264 @ 0x10a7365c0] mmco: unref short failure\n",
      "[h264 @ 0x10a7365c0] mmco: unref short failure\n",
      "[h264 @ 0x10a7365c0] mmco: unref short failure\n",
      "[h264 @ 0x10a7365c0] mmco: unref short failure\n",
      "[h264 @ 0x10a7365c0] mmco: unref short failure\n",
      "[h264 @ 0x10a7365c0] mmco: unref short failure\n",
      "[h264 @ 0x10a7365c0] mmco: unref short failure\n",
      "[h264 @ 0x10a7365c0] mmco: unref short failure\n",
      "[h264 @ 0x10a7365c0] mmco: unref short failure\n",
      "[h264 @ 0x10a7365c0] mmco: unref short failure\n",
      "[h264 @ 0x10a7365c0] mmco: unref short failure\n",
      "[h264 @ 0x10a7365c0] mmco: unref short failure\n",
      "[h264 @ 0x10a7365c0] mmco: unref short failure\n",
      "[h264 @ 0x10a7365c0] mmco: unref short failure\n",
      "[h264 @ 0x10a7365c0] mmco: unref short failure\n",
      "[h264 @ 0x10a7365c0] mmco: unref short failure\n",
      "[h264 @ 0x10a7365c0] mmco: unref short failure\n",
      "[h264 @ 0x10a7365c0] mmco: unref short failure\n",
      "[h264 @ 0x10a7365c0] mmco: unref short failure\n",
      "[h264 @ 0x10a7365c0] mmco: unref short failure\n",
      "[h264 @ 0x10a7365c0] mmco: unref short failure\n",
      "[h264 @ 0x10a7365c0] mmco: unref short failure\n",
      "[h264 @ 0x10a7365c0] mmco: unref short failure\n",
      "[h264 @ 0x10a7365c0] mmco: unref short failure\n",
      "[h264 @ 0x10a7365c0] mmco: unref short failure\n",
      "[h264 @ 0x10a7365c0] mmco: unref short failure\n",
      "[h264 @ 0x10a7365c0] mmco: unref short failure\n",
      "[h264 @ 0x10a7365c0] mmco: unref short failure\n",
      "[h264 @ 0x10a7365c0] mmco: unref short failure\n",
      "[h264 @ 0x10a7365c0] mmco: unref short failure\n",
      "[h264 @ 0x10a7365c0] mmco: unref short failure\n",
      "[h264 @ 0x10a7365c0] mmco: unref short failure\n",
      "[h264 @ 0x10a7365c0] mmco: unref short failure\n",
      "[h264 @ 0x10a7365c0] mmco: unref short failure\n",
      "  8%|█████▎                                                             | 1267/16054 [4:59:44<31:12:32,  7.60s/it][h264 @ 0x10a852870] mmco: unref short failure\n",
      "[h264 @ 0x10a852870] mmco: unref short failure\n",
      "[h264 @ 0x10a852870] mmco: unref short failure\n",
      "[h264 @ 0x10a852870] mmco: unref short failure\n",
      "[h264 @ 0x10a852870] mmco: unref short failure\n",
      "[h264 @ 0x10a852870] mmco: unref short failure\n",
      "[h264 @ 0x10a852870] mmco: unref short failure\n",
      "[h264 @ 0x10a852870] mmco: unref short failure\n",
      "[h264 @ 0x10a852870] mmco: unref short failure\n",
      "[h264 @ 0x10a852870] mmco: unref short failure\n",
      "[h264 @ 0x10a852870] mmco: unref short failure\n",
      "[h264 @ 0x10a852870] mmco: unref short failure\n",
      "[h264 @ 0x10a852870] mmco: unref short failure\n",
      "[h264 @ 0x10a852870] mmco: unref short failure\n",
      "[h264 @ 0x10a852870] mmco: unref short failure\n",
      "[h264 @ 0x10a852870] mmco: unref short failure\n",
      "[h264 @ 0x10a852870] mmco: unref short failure\n",
      "[h264 @ 0x10a852870] mmco: unref short failure\n",
      "[h264 @ 0x10a852870] mmco: unref short failure\n",
      "[h264 @ 0x10a852870] mmco: unref short failure\n",
      "[h264 @ 0x10a852870] mmco: unref short failure\n",
      "[h264 @ 0x10a852870] mmco: unref short failure\n",
      "[h264 @ 0x10a852870] mmco: unref short failure\n",
      "[h264 @ 0x10a852870] mmco: unref short failure\n",
      "[h264 @ 0x10a852870] mmco: unref short failure\n",
      "[h264 @ 0x10a852870] mmco: unref short failure\n",
      "[h264 @ 0x10a852870] mmco: unref short failure\n",
      "[h264 @ 0x10a852870] mmco: unref short failure\n",
      "[h264 @ 0x10a852870] mmco: unref short failure\n",
      "[h264 @ 0x10a852870] mmco: unref short failure\n",
      "[h264 @ 0x10a852870] mmco: unref short failure\n",
      "[h264 @ 0x10a852870] mmco: unref short failure\n",
      "  8%|█████▎                                                             | 1270/16054 [5:00:22<43:59:29, 10.71s/it][h264 @ 0x10a732a00] mmco: unref short failure\n",
      "[h264 @ 0x10a732a00] mmco: unref short failure\n",
      "[h264 @ 0x10a732a00] mmco: unref short failure\n",
      "[h264 @ 0x10a732a00] mmco: unref short failure\n",
      "[h264 @ 0x10a732a00] mmco: unref short failure\n",
      "[h264 @ 0x10a732a00] mmco: unref short failure\n",
      "[h264 @ 0x10a732a00] mmco: unref short failure\n",
      "[h264 @ 0x10a732a00] mmco: unref short failure\n",
      "[h264 @ 0x10a732a00] mmco: unref short failure\n",
      "[h264 @ 0x10a732a00] mmco: unref short failure\n",
      "[h264 @ 0x10a732a00] mmco: unref short failure\n",
      "[h264 @ 0x10a732a00] mmco: unref short failure\n",
      "[h264 @ 0x10a732a00] mmco: unref short failure\n",
      "[h264 @ 0x10a732a00] mmco: unref short failure\n",
      "[h264 @ 0x10a732a00] mmco: unref short failure\n",
      "[h264 @ 0x10a732a00] mmco: unref short failure\n",
      "[h264 @ 0x10a732a00] mmco: unref short failure\n",
      "[h264 @ 0x10a732a00] mmco: unref short failure\n",
      "[h264 @ 0x10a732a00] mmco: unref short failure\n",
      "[h264 @ 0x10a732a00] mmco: unref short failure\n",
      "[h264 @ 0x10a732a00] mmco: unref short failure\n",
      "[h264 @ 0x10a732a00] mmco: unref short failure\n",
      "[h264 @ 0x10a732a00] mmco: unref short failure\n",
      "[h264 @ 0x10a732a00] mmco: unref short failure\n",
      "[h264 @ 0x10a732a00] mmco: unref short failure\n",
      "[h264 @ 0x10a732a00] mmco: unref short failure\n",
      "[h264 @ 0x10a732a00] mmco: unref short failure\n",
      "[h264 @ 0x10a732a00] mmco: unref short failure\n",
      "[h264 @ 0x10a732a00] mmco: unref short failure\n",
      "[h264 @ 0x10a732a00] mmco: unref short failure\n",
      "[h264 @ 0x10a732a00] mmco: unref short failure\n",
      "[h264 @ 0x10a732a00] mmco: unref short failure\n"
     ]
    },
    {
     "name": "stderr",
     "output_type": "stream",
     "text": [
      "  8%|█████▎                                                             | 1272/16054 [5:00:38<38:49:10,  9.45s/it][h264 @ 0x10fe16470] mmco: unref short failure\n",
      "[h264 @ 0x10fe16470] mmco: unref short failure\n",
      "[h264 @ 0x10fe16470] mmco: unref short failure\n",
      "[h264 @ 0x10fe16470] mmco: unref short failure\n",
      "[h264 @ 0x10fe16470] mmco: unref short failure\n",
      "[h264 @ 0x10fe16470] mmco: unref short failure\n",
      "[h264 @ 0x10fe16470] mmco: unref short failure\n",
      "[h264 @ 0x10fe16470] mmco: unref short failure\n",
      "[h264 @ 0x10fe16470] mmco: unref short failure\n",
      "[h264 @ 0x10fe16470] mmco: unref short failure\n",
      "[h264 @ 0x10fe16470] mmco: unref short failure\n",
      "[h264 @ 0x10fe16470] mmco: unref short failure\n",
      "[h264 @ 0x10fe16470] mmco: unref short failure\n",
      "[h264 @ 0x10fe16470] mmco: unref short failure\n",
      "[h264 @ 0x10fe16470] mmco: unref short failure\n",
      "[h264 @ 0x10fe16470] mmco: unref short failure\n",
      "[h264 @ 0x10fe16470] mmco: unref short failure\n",
      "  8%|█████▎                                                             | 1278/16054 [5:01:26<33:34:21,  8.18s/it][h264 @ 0x10a84e8c0] mmco: unref short failure\n",
      "[h264 @ 0x10a84e8c0] mmco: unref short failure\n",
      "[h264 @ 0x10a84e8c0] mmco: unref short failure\n",
      "[h264 @ 0x10a84e8c0] mmco: unref short failure\n",
      "[h264 @ 0x10a84e8c0] mmco: unref short failure\n",
      "[h264 @ 0x10a84e8c0] mmco: unref short failure\n",
      "[h264 @ 0x10a84e8c0] mmco: unref short failure\n",
      "[h264 @ 0x10a84e8c0] mmco: unref short failure\n",
      "[h264 @ 0x10a84e8c0] mmco: unref short failure\n",
      "[h264 @ 0x10a84e8c0] mmco: unref short failure\n",
      "[h264 @ 0x10a84e8c0] mmco: unref short failure\n",
      "[h264 @ 0x10a84e8c0] mmco: unref short failure\n",
      "[h264 @ 0x10a84e8c0] mmco: unref short failure\n",
      "[h264 @ 0x10a84e8c0] mmco: unref short failure\n",
      "[h264 @ 0x10a84e8c0] mmco: unref short failure\n",
      "[h264 @ 0x10a84e8c0] mmco: unref short failure\n",
      "[h264 @ 0x10a84e8c0] mmco: unref short failure\n",
      "[h264 @ 0x10a84e8c0] mmco: unref short failure\n",
      "[h264 @ 0x10a84e8c0] mmco: unref short failure\n",
      "[h264 @ 0x10a84e8c0] mmco: unref short failure\n",
      "[h264 @ 0x10a84e8c0] mmco: unref short failure\n",
      "[h264 @ 0x10a84e8c0] mmco: unref short failure\n",
      "[h264 @ 0x10a84e8c0] mmco: unref short failure\n",
      "[h264 @ 0x10a84e8c0] mmco: unref short failure\n",
      "[h264 @ 0x10a84e8c0] mmco: unref short failure\n",
      "[h264 @ 0x10a84e8c0] mmco: unref short failure\n",
      "[h264 @ 0x10a84e8c0] mmco: unref short failure\n",
      "[h264 @ 0x10a84e8c0] mmco: unref short failure\n",
      "[h264 @ 0x10a84e8c0] mmco: unref short failure\n",
      "[h264 @ 0x10a84e8c0] mmco: unref short failure\n",
      "[h264 @ 0x10a84e8c0] mmco: unref short failure\n",
      "[h264 @ 0x10a84e8c0] mmco: unref short failure\n",
      "[h264 @ 0x10a84e8c0] mmco: unref short failure\n",
      "[h264 @ 0x10a84e8c0] mmco: unref short failure\n",
      "  8%|█████▎                                                             | 1279/16054 [5:01:47<48:33:39, 11.83s/it][h264 @ 0x10a036e10] mmco: unref short failure\n",
      "[h264 @ 0x10a036e10] mmco: unref short failure\n",
      "[h264 @ 0x10a036e10] mmco: unref short failure\n",
      "[h264 @ 0x10a036e10] mmco: unref short failure\n",
      "[h264 @ 0x10a036e10] mmco: unref short failure\n",
      "[h264 @ 0x10a036e10] mmco: unref short failure\n",
      "[h264 @ 0x10a036e10] mmco: unref short failure\n",
      "[h264 @ 0x10a036e10] mmco: unref short failure\n",
      "[h264 @ 0x10a036e10] mmco: unref short failure\n",
      "[h264 @ 0x10a036e10] mmco: unref short failure\n",
      "[h264 @ 0x10a036e10] mmco: unref short failure\n",
      "[h264 @ 0x10a036e10] mmco: unref short failure\n",
      "[h264 @ 0x10a036e10] mmco: unref short failure\n",
      "[h264 @ 0x10a036e10] mmco: unref short failure\n",
      "[h264 @ 0x10a036e10] mmco: unref short failure\n",
      "[h264 @ 0x10a036e10] mmco: unref short failure\n",
      "[h264 @ 0x10a036e10] mmco: unref short failure\n",
      "[h264 @ 0x10a036e10] mmco: unref short failure\n",
      "[h264 @ 0x10a036e10] mmco: unref short failure\n",
      "[h264 @ 0x10a036e10] mmco: unref short failure\n",
      "[h264 @ 0x10a036e10] mmco: unref short failure\n",
      "[h264 @ 0x10a036e10] mmco: unref short failure\n",
      "[h264 @ 0x10a036e10] mmco: unref short failure\n",
      "[h264 @ 0x10a036e10] mmco: unref short failure\n",
      "[h264 @ 0x10a036e10] mmco: unref short failure\n",
      "[h264 @ 0x10a036e10] mmco: unref short failure\n",
      "[h264 @ 0x10a036e10] mmco: unref short failure\n",
      "[h264 @ 0x10a036e10] mmco: unref short failure\n",
      "[h264 @ 0x10a036e10] mmco: unref short failure\n",
      "[h264 @ 0x10a036e10] mmco: unref short failure\n",
      "[h264 @ 0x10a036e10] mmco: unref short failure\n",
      "[h264 @ 0x10a036e10] mmco: unref short failure\n",
      "  8%|█████▍                                                             | 1289/16054 [5:03:08<36:17:01,  8.85s/it][h264 @ 0x10a740770] mmco: unref short failure\n",
      "[h264 @ 0x10a740770] mmco: unref short failure\n",
      "[h264 @ 0x10a740770] mmco: unref short failure\n",
      "[h264 @ 0x10a740770] mmco: unref short failure\n",
      "[h264 @ 0x10a740770] mmco: unref short failure\n",
      "[h264 @ 0x10a740770] mmco: unref short failure\n",
      "[h264 @ 0x10a740770] mmco: unref short failure\n",
      "[h264 @ 0x10a740770] mmco: unref short failure\n",
      "[h264 @ 0x10a740770] mmco: unref short failure\n",
      "[h264 @ 0x10a740770] mmco: unref short failure\n",
      "[h264 @ 0x10a740770] mmco: unref short failure\n",
      "[h264 @ 0x10a740770] mmco: unref short failure\n",
      "[h264 @ 0x10a740770] mmco: unref short failure\n",
      "[h264 @ 0x10a740770] mmco: unref short failure\n",
      "[h264 @ 0x10a740770] mmco: unref short failure\n",
      "[h264 @ 0x10a740770] mmco: unref short failure\n",
      "[h264 @ 0x10a740770] mmco: unref short failure\n",
      "[h264 @ 0x10a740770] mmco: unref short failure\n",
      "[h264 @ 0x10a740770] mmco: unref short failure\n",
      "[h264 @ 0x10a740770] mmco: unref short failure\n",
      "[h264 @ 0x10a740770] mmco: unref short failure\n",
      "[h264 @ 0x10a740770] mmco: unref short failure\n",
      "[h264 @ 0x10a740770] mmco: unref short failure\n",
      "[h264 @ 0x10a740770] mmco: unref short failure\n",
      "[h264 @ 0x10a740770] mmco: unref short failure\n",
      "[h264 @ 0x10a740770] mmco: unref short failure\n",
      "[h264 @ 0x10a740770] mmco: unref short failure\n",
      "[h264 @ 0x10a740770] mmco: unref short failure\n",
      "[h264 @ 0x10a740770] mmco: unref short failure\n",
      "[h264 @ 0x10a740770] mmco: unref short failure\n",
      "[h264 @ 0x10a740770] mmco: unref short failure\n",
      "[h264 @ 0x10a740770] mmco: unref short failure\n",
      "[h264 @ 0x10a740770] mmco: unref short failure\n",
      "[h264 @ 0x10a740770] mmco: unref short failure\n",
      "  8%|█████▍                                                             | 1298/16054 [5:04:07<18:17:18,  4.46s/it]"
     ]
    },
    {
     "name": "stdout",
     "output_type": "stream",
     "text": [
      "Failed to download video from www.youtube.com/watch?v=tdhggC0CjnA. Reason: tdhggC0CjnA is unavailable\n"
     ]
    },
    {
     "name": "stderr",
     "output_type": "stream",
     "text": [
      "\r",
      "  8%|█████▍                                                             | 1299/16054 [5:04:09<15:22:25,  3.75s/it]"
     ]
    },
    {
     "name": "stdout",
     "output_type": "stream",
     "text": [
      "Failed to download video from https://www.youtube.com/watch?v=Qd1x1kUwhpQ. Reason: Qd1x1kUwhpQ is age restricted, and can't be accessed without logging in.\n"
     ]
    },
    {
     "name": "stderr",
     "output_type": "stream",
     "text": [
      "\r",
      "  8%|█████▍                                                             | 1300/16054 [5:04:11<13:19:51,  3.25s/it]"
     ]
    },
    {
     "name": "stdout",
     "output_type": "stream",
     "text": [
      "Failed to download video from https://www.youtube.com/watch?v=Qd1x1kUwhpQ. Reason: Qd1x1kUwhpQ is age restricted, and can't be accessed without logging in.\n"
     ]
    },
    {
     "name": "stderr",
     "output_type": "stream",
     "text": [
      "\r",
      "  8%|█████▍                                                             | 1301/16054 [5:04:13<12:08:52,  2.96s/it]"
     ]
    },
    {
     "name": "stdout",
     "output_type": "stream",
     "text": [
      "Failed to download video from https://www.youtube.com/watch?v=Qd1x1kUwhpQ. Reason: Qd1x1kUwhpQ is age restricted, and can't be accessed without logging in.\n"
     ]
    },
    {
     "name": "stderr",
     "output_type": "stream",
     "text": [
      "\r",
      "  8%|█████▍                                                             | 1302/16054 [5:04:16<11:17:55,  2.76s/it]"
     ]
    },
    {
     "name": "stdout",
     "output_type": "stream",
     "text": [
      "Failed to download video from https://www.youtube.com/watch?v=Qd1x1kUwhpQ. Reason: Qd1x1kUwhpQ is age restricted, and can't be accessed without logging in.\n"
     ]
    },
    {
     "name": "stderr",
     "output_type": "stream",
     "text": [
      "\r",
      "  8%|█████▍                                                             | 1303/16054 [5:04:18<10:26:28,  2.55s/it]"
     ]
    },
    {
     "name": "stdout",
     "output_type": "stream",
     "text": [
      "Failed to download video from https://www.youtube.com/watch?v=Qd1x1kUwhpQ. Reason: Qd1x1kUwhpQ is age restricted, and can't be accessed without logging in.\n"
     ]
    },
    {
     "name": "stderr",
     "output_type": "stream",
     "text": [
      "\r",
      "  8%|█████▍                                                             | 1304/16054 [5:04:20<10:08:13,  2.47s/it]"
     ]
    },
    {
     "name": "stdout",
     "output_type": "stream",
     "text": [
      "Failed to download video from https://www.youtube.com/watch?v=Qd1x1kUwhpQ. Reason: Qd1x1kUwhpQ is age restricted, and can't be accessed without logging in.\n"
     ]
    },
    {
     "name": "stderr",
     "output_type": "stream",
     "text": [
      "\r",
      "  8%|█████▌                                                              | 1305/16054 [5:04:22<9:55:12,  2.42s/it]"
     ]
    },
    {
     "name": "stdout",
     "output_type": "stream",
     "text": [
      "Failed to download video from https://www.youtube.com/watch?v=Qd1x1kUwhpQ. Reason: Qd1x1kUwhpQ is age restricted, and can't be accessed without logging in.\n"
     ]
    },
    {
     "name": "stderr",
     "output_type": "stream",
     "text": [
      "\r",
      "  8%|█████▌                                                              | 1306/16054 [5:04:24<9:37:35,  2.35s/it]"
     ]
    },
    {
     "name": "stdout",
     "output_type": "stream",
     "text": [
      "Failed to download video from https://www.youtube.com/watch?v=Qd1x1kUwhpQ. Reason: Qd1x1kUwhpQ is age restricted, and can't be accessed without logging in.\n"
     ]
    },
    {
     "name": "stderr",
     "output_type": "stream",
     "text": [
      "\r",
      "  8%|█████▌                                                              | 1307/16054 [5:04:27<9:29:20,  2.32s/it]"
     ]
    },
    {
     "name": "stdout",
     "output_type": "stream",
     "text": [
      "Failed to download video from https://www.youtube.com/watch?v=Qd1x1kUwhpQ. Reason: Qd1x1kUwhpQ is age restricted, and can't be accessed without logging in.\n"
     ]
    },
    {
     "name": "stderr",
     "output_type": "stream",
     "text": [
      "\r",
      "  8%|█████▌                                                              | 1308/16054 [5:04:29<9:47:16,  2.39s/it]"
     ]
    },
    {
     "name": "stdout",
     "output_type": "stream",
     "text": [
      "Failed to download video from https://www.youtube.com/watch?v=Qd1x1kUwhpQ. Reason: Qd1x1kUwhpQ is age restricted, and can't be accessed without logging in.\n"
     ]
    },
    {
     "name": "stderr",
     "output_type": "stream",
     "text": [
      "\r",
      "  8%|█████▌                                                              | 1309/16054 [5:04:32<9:35:08,  2.34s/it]"
     ]
    },
    {
     "name": "stdout",
     "output_type": "stream",
     "text": [
      "Failed to download video from https://www.youtube.com/watch?v=Qd1x1kUwhpQ. Reason: Qd1x1kUwhpQ is age restricted, and can't be accessed without logging in.\n"
     ]
    },
    {
     "name": "stderr",
     "output_type": "stream",
     "text": [
      "\r",
      "  8%|█████▌                                                              | 1310/16054 [5:04:34<9:30:56,  2.32s/it]"
     ]
    },
    {
     "name": "stdout",
     "output_type": "stream",
     "text": [
      "Failed to download video from https://www.youtube.com/watch?v=Qd1x1kUwhpQ. Reason: Qd1x1kUwhpQ is age restricted, and can't be accessed without logging in.\n"
     ]
    },
    {
     "name": "stderr",
     "output_type": "stream",
     "text": [
      "\r",
      "  8%|█████▌                                                              | 1311/16054 [5:04:36<9:10:42,  2.24s/it]"
     ]
    },
    {
     "name": "stdout",
     "output_type": "stream",
     "text": [
      "Failed to download video from https://www.youtube.com/watch?v=Qd1x1kUwhpQ. Reason: Qd1x1kUwhpQ is age restricted, and can't be accessed without logging in.\n"
     ]
    },
    {
     "name": "stderr",
     "output_type": "stream",
     "text": [
      "\r",
      "  8%|█████▌                                                              | 1312/16054 [5:04:38<9:19:14,  2.28s/it]"
     ]
    },
    {
     "name": "stdout",
     "output_type": "stream",
     "text": [
      "Failed to download video from https://www.youtube.com/watch?v=Qd1x1kUwhpQ. Reason: Qd1x1kUwhpQ is age restricted, and can't be accessed without logging in.\n"
     ]
    },
    {
     "name": "stderr",
     "output_type": "stream",
     "text": [
      "\r",
      "  8%|█████▌                                                              | 1313/16054 [5:04:41<9:32:02,  2.33s/it]"
     ]
    },
    {
     "name": "stdout",
     "output_type": "stream",
     "text": [
      "Failed to download video from https://www.youtube.com/watch?v=Qd1x1kUwhpQ. Reason: Qd1x1kUwhpQ is age restricted, and can't be accessed without logging in.\n"
     ]
    },
    {
     "name": "stderr",
     "output_type": "stream",
     "text": [
      "\r",
      "  8%|█████▌                                                              | 1314/16054 [5:04:43<9:14:55,  2.26s/it]"
     ]
    },
    {
     "name": "stdout",
     "output_type": "stream",
     "text": [
      "Failed to download video from https://www.youtube.com/watch?v=Qd1x1kUwhpQ. Reason: Qd1x1kUwhpQ is age restricted, and can't be accessed without logging in.\n"
     ]
    },
    {
     "name": "stderr",
     "output_type": "stream",
     "text": [
      "\r",
      "  8%|█████▌                                                              | 1315/16054 [5:04:45<9:27:36,  2.31s/it]"
     ]
    },
    {
     "name": "stdout",
     "output_type": "stream",
     "text": [
      "Failed to download video from https://www.youtube.com/watch?v=Qd1x1kUwhpQ. Reason: Qd1x1kUwhpQ is age restricted, and can't be accessed without logging in.\n"
     ]
    },
    {
     "name": "stderr",
     "output_type": "stream",
     "text": [
      "\r",
      "  8%|█████▌                                                              | 1316/16054 [5:04:47<9:09:31,  2.24s/it]"
     ]
    },
    {
     "name": "stdout",
     "output_type": "stream",
     "text": [
      "Failed to download video from https://www.youtube.com/watch?v=Qd1x1kUwhpQ. Reason: Qd1x1kUwhpQ is age restricted, and can't be accessed without logging in.\n"
     ]
    },
    {
     "name": "stderr",
     "output_type": "stream",
     "text": [
      "\r",
      "  8%|█████▌                                                              | 1317/16054 [5:04:50<9:34:54,  2.34s/it]"
     ]
    },
    {
     "name": "stdout",
     "output_type": "stream",
     "text": [
      "Failed to download video from https://www.youtube.com/watch?v=Qd1x1kUwhpQ. Reason: Qd1x1kUwhpQ is age restricted, and can't be accessed without logging in.\n"
     ]
    },
    {
     "name": "stderr",
     "output_type": "stream",
     "text": [
      "\r",
      "  8%|█████▌                                                              | 1318/16054 [5:04:52<9:16:56,  2.27s/it]"
     ]
    },
    {
     "name": "stdout",
     "output_type": "stream",
     "text": [
      "Failed to download video from https://www.youtube.com/watch?v=Qd1x1kUwhpQ. Reason: Qd1x1kUwhpQ is age restricted, and can't be accessed without logging in.\n"
     ]
    },
    {
     "name": "stderr",
     "output_type": "stream",
     "text": [
      "\r",
      "  8%|█████▌                                                              | 1319/16054 [5:04:54<9:07:52,  2.23s/it]"
     ]
    },
    {
     "name": "stdout",
     "output_type": "stream",
     "text": [
      "Failed to download video from https://www.youtube.com/watch?v=Qd1x1kUwhpQ. Reason: Qd1x1kUwhpQ is age restricted, and can't be accessed without logging in.\n"
     ]
    },
    {
     "name": "stderr",
     "output_type": "stream",
     "text": [
      "\r",
      "  8%|█████▌                                                              | 1320/16054 [5:04:57<9:44:00,  2.38s/it]"
     ]
    },
    {
     "name": "stdout",
     "output_type": "stream",
     "text": [
      "Failed to download video from https://www.youtube.com/watch?v=Qd1x1kUwhpQ. Reason: Qd1x1kUwhpQ is age restricted, and can't be accessed without logging in.\n"
     ]
    },
    {
     "name": "stderr",
     "output_type": "stream",
     "text": [
      "\r",
      "  8%|█████▌                                                              | 1321/16054 [5:04:59<9:24:59,  2.30s/it]"
     ]
    },
    {
     "name": "stdout",
     "output_type": "stream",
     "text": [
      "Failed to download video from https://www.youtube.com/watch?v=Qd1x1kUwhpQ. Reason: Qd1x1kUwhpQ is age restricted, and can't be accessed without logging in.\n"
     ]
    },
    {
     "name": "stderr",
     "output_type": "stream",
     "text": [
      "\r",
      "  8%|█████▌                                                              | 1322/16054 [5:05:01<9:21:09,  2.29s/it]"
     ]
    },
    {
     "name": "stdout",
     "output_type": "stream",
     "text": [
      "Failed to download video from https://www.youtube.com/watch?v=Qd1x1kUwhpQ. Reason: Qd1x1kUwhpQ is age restricted, and can't be accessed without logging in.\n"
     ]
    },
    {
     "name": "stderr",
     "output_type": "stream",
     "text": [
      "\r",
      "  8%|█████▌                                                              | 1323/16054 [5:05:03<9:09:12,  2.24s/it]"
     ]
    },
    {
     "name": "stdout",
     "output_type": "stream",
     "text": [
      "Failed to download video from https://www.youtube.com/watch?v=Qd1x1kUwhpQ. Reason: Qd1x1kUwhpQ is age restricted, and can't be accessed without logging in.\n"
     ]
    },
    {
     "name": "stderr",
     "output_type": "stream",
     "text": [
      "\r",
      "  8%|█████▌                                                              | 1324/16054 [5:05:05<8:56:27,  2.19s/it]"
     ]
    },
    {
     "name": "stdout",
     "output_type": "stream",
     "text": [
      "Failed to download video from https://www.youtube.com/watch?v=Qd1x1kUwhpQ. Reason: Qd1x1kUwhpQ is age restricted, and can't be accessed without logging in.\n"
     ]
    },
    {
     "name": "stderr",
     "output_type": "stream",
     "text": [
      "\r",
      "  8%|█████▌                                                              | 1325/16054 [5:05:08<9:47:10,  2.39s/it]"
     ]
    },
    {
     "name": "stdout",
     "output_type": "stream",
     "text": [
      "Failed to download video from https://www.youtube.com/watch?v=Qd1x1kUwhpQ. Reason: Qd1x1kUwhpQ is age restricted, and can't be accessed without logging in.\n"
     ]
    },
    {
     "name": "stderr",
     "output_type": "stream",
     "text": [
      "\r",
      "  8%|█████▌                                                              | 1326/16054 [5:05:10<9:24:22,  2.30s/it]"
     ]
    },
    {
     "name": "stdout",
     "output_type": "stream",
     "text": [
      "Failed to download video from https://www.youtube.com/watch?v=Qd1x1kUwhpQ. Reason: Qd1x1kUwhpQ is age restricted, and can't be accessed without logging in.\n"
     ]
    },
    {
     "name": "stderr",
     "output_type": "stream",
     "text": [
      "\r",
      "  8%|█████▌                                                              | 1327/16054 [5:05:13<9:49:02,  2.40s/it]"
     ]
    },
    {
     "name": "stdout",
     "output_type": "stream",
     "text": [
      "Failed to download video from https://www.youtube.com/watch?v=Qd1x1kUwhpQ. Reason: Qd1x1kUwhpQ is age restricted, and can't be accessed without logging in.\n"
     ]
    },
    {
     "name": "stderr",
     "output_type": "stream",
     "text": [
      "\r",
      "  8%|█████▋                                                              | 1328/16054 [5:05:15<9:20:14,  2.28s/it]"
     ]
    },
    {
     "name": "stdout",
     "output_type": "stream",
     "text": [
      "Failed to download video from https://www.youtube.com/watch?v=Qd1x1kUwhpQ. Reason: Qd1x1kUwhpQ is age restricted, and can't be accessed without logging in.\n"
     ]
    },
    {
     "name": "stderr",
     "output_type": "stream",
     "text": [
      "\r",
      "  8%|█████▋                                                              | 1329/16054 [5:05:17<9:00:15,  2.20s/it]"
     ]
    },
    {
     "name": "stdout",
     "output_type": "stream",
     "text": [
      "Failed to download video from https://www.youtube.com/watch?v=Qd1x1kUwhpQ. Reason: Qd1x1kUwhpQ is age restricted, and can't be accessed without logging in.\n"
     ]
    },
    {
     "name": "stderr",
     "output_type": "stream",
     "text": [
      "\r",
      "  8%|█████▋                                                              | 1330/16054 [5:05:19<8:45:04,  2.14s/it]"
     ]
    },
    {
     "name": "stdout",
     "output_type": "stream",
     "text": [
      "Failed to download video from https://www.youtube.com/watch?v=Qd1x1kUwhpQ. Reason: Qd1x1kUwhpQ is age restricted, and can't be accessed without logging in.\n"
     ]
    },
    {
     "name": "stderr",
     "output_type": "stream",
     "text": [
      "\r",
      "  8%|█████▋                                                              | 1331/16054 [5:05:22<9:42:54,  2.38s/it]"
     ]
    },
    {
     "name": "stdout",
     "output_type": "stream",
     "text": [
      "Failed to download video from https://www.youtube.com/watch?v=Qd1x1kUwhpQ. Reason: Qd1x1kUwhpQ is age restricted, and can't be accessed without logging in.\n"
     ]
    },
    {
     "name": "stderr",
     "output_type": "stream",
     "text": [
      "\r",
      "  8%|█████▋                                                              | 1332/16054 [5:05:24<9:31:37,  2.33s/it]"
     ]
    },
    {
     "name": "stdout",
     "output_type": "stream",
     "text": [
      "Failed to download video from https://www.youtube.com/watch?v=Qd1x1kUwhpQ. Reason: Qd1x1kUwhpQ is age restricted, and can't be accessed without logging in.\n"
     ]
    },
    {
     "name": "stderr",
     "output_type": "stream",
     "text": [
      "\r",
      "  8%|█████▋                                                              | 1333/16054 [5:05:26<9:20:20,  2.28s/it]"
     ]
    },
    {
     "name": "stdout",
     "output_type": "stream",
     "text": [
      "Failed to download video from https://www.youtube.com/watch?v=Qd1x1kUwhpQ. Reason: Qd1x1kUwhpQ is age restricted, and can't be accessed without logging in.\n"
     ]
    },
    {
     "name": "stderr",
     "output_type": "stream",
     "text": [
      "\r",
      "  8%|█████▋                                                              | 1334/16054 [5:05:28<9:06:33,  2.23s/it]"
     ]
    },
    {
     "name": "stdout",
     "output_type": "stream",
     "text": [
      "Failed to download video from https://www.youtube.com/watch?v=Qd1x1kUwhpQ. Reason: Qd1x1kUwhpQ is age restricted, and can't be accessed without logging in.\n"
     ]
    },
    {
     "name": "stderr",
     "output_type": "stream",
     "text": [
      "\r",
      "  8%|█████▋                                                              | 1335/16054 [5:05:31<9:15:14,  2.26s/it]"
     ]
    },
    {
     "name": "stdout",
     "output_type": "stream",
     "text": [
      "Failed to download video from https://www.youtube.com/watch?v=Qd1x1kUwhpQ. Reason: Qd1x1kUwhpQ is age restricted, and can't be accessed without logging in.\n"
     ]
    },
    {
     "name": "stderr",
     "output_type": "stream",
     "text": [
      "\r",
      "  8%|█████▋                                                              | 1336/16054 [5:05:33<9:16:53,  2.27s/it]"
     ]
    },
    {
     "name": "stdout",
     "output_type": "stream",
     "text": [
      "Failed to download video from https://www.youtube.com/watch?v=Qd1x1kUwhpQ. Reason: Qd1x1kUwhpQ is age restricted, and can't be accessed without logging in.\n"
     ]
    },
    {
     "name": "stderr",
     "output_type": "stream",
     "text": [
      "\r",
      "  8%|█████▋                                                              | 1337/16054 [5:05:36<9:50:21,  2.41s/it]"
     ]
    },
    {
     "name": "stdout",
     "output_type": "stream",
     "text": [
      "Failed to download video from https://www.youtube.com/watch?v=Qd1x1kUwhpQ. Reason: Qd1x1kUwhpQ is age restricted, and can't be accessed without logging in.\n"
     ]
    },
    {
     "name": "stderr",
     "output_type": "stream",
     "text": [
      "\r",
      "  8%|█████▌                                                             | 1338/16054 [5:05:39<10:23:27,  2.54s/it]"
     ]
    },
    {
     "name": "stdout",
     "output_type": "stream",
     "text": [
      "Failed to download video from https://www.youtube.com/watch?v=Qd1x1kUwhpQ. Reason: Qd1x1kUwhpQ is age restricted, and can't be accessed without logging in.\n"
     ]
    },
    {
     "name": "stderr",
     "output_type": "stream",
     "text": [
      "\r",
      "  8%|█████▌                                                             | 1339/16054 [5:05:46<16:06:44,  3.94s/it]"
     ]
    },
    {
     "name": "stdout",
     "output_type": "stream",
     "text": [
      "Failed to download video from https://www.youtube.com/watch?v=Qd1x1kUwhpQ. Reason: Qd1x1kUwhpQ is age restricted, and can't be accessed without logging in.\n"
     ]
    },
    {
     "name": "stderr",
     "output_type": "stream",
     "text": [
      "\r",
      "  8%|█████▌                                                             | 1340/16054 [5:05:51<18:12:06,  4.45s/it]"
     ]
    },
    {
     "name": "stdout",
     "output_type": "stream",
     "text": [
      "Failed to download video from https://www.youtube.com/watch?v=Qd1x1kUwhpQ. Reason: Qd1x1kUwhpQ is age restricted, and can't be accessed without logging in.\n"
     ]
    },
    {
     "name": "stderr",
     "output_type": "stream",
     "text": [
      "\r",
      "  8%|█████▌                                                             | 1341/16054 [5:05:55<16:38:23,  4.07s/it]"
     ]
    },
    {
     "name": "stdout",
     "output_type": "stream",
     "text": [
      "Failed to download video from https://www.youtube.com/watch?v=Qd1x1kUwhpQ. Reason: Qd1x1kUwhpQ is age restricted, and can't be accessed without logging in.\n"
     ]
    },
    {
     "name": "stderr",
     "output_type": "stream",
     "text": [
      "\r",
      "  8%|█████▌                                                             | 1342/16054 [5:05:57<14:33:16,  3.56s/it]"
     ]
    },
    {
     "name": "stdout",
     "output_type": "stream",
     "text": [
      "Failed to download video from https://www.youtube.com/watch?v=Qd1x1kUwhpQ. Reason: Qd1x1kUwhpQ is age restricted, and can't be accessed without logging in.\n"
     ]
    },
    {
     "name": "stderr",
     "output_type": "stream",
     "text": [
      "\r",
      "  8%|█████▌                                                             | 1343/16054 [5:06:00<13:55:03,  3.41s/it]"
     ]
    },
    {
     "name": "stdout",
     "output_type": "stream",
     "text": [
      "Failed to download video from https://www.youtube.com/watch?v=Qd1x1kUwhpQ. Reason: Qd1x1kUwhpQ is age restricted, and can't be accessed without logging in.\n"
     ]
    },
    {
     "name": "stderr",
     "output_type": "stream",
     "text": [
      "\r",
      "  8%|█████▌                                                             | 1344/16054 [5:06:02<12:31:54,  3.07s/it]"
     ]
    },
    {
     "name": "stdout",
     "output_type": "stream",
     "text": [
      "Failed to download video from https://www.youtube.com/watch?v=Qd1x1kUwhpQ. Reason: Qd1x1kUwhpQ is age restricted, and can't be accessed without logging in.\n"
     ]
    },
    {
     "name": "stderr",
     "output_type": "stream",
     "text": [
      "\r",
      "  8%|█████▌                                                             | 1345/16054 [5:06:05<12:13:27,  2.99s/it]"
     ]
    },
    {
     "name": "stdout",
     "output_type": "stream",
     "text": [
      "Failed to download video from https://www.youtube.com/watch?v=Qd1x1kUwhpQ. Reason: Qd1x1kUwhpQ is age restricted, and can't be accessed without logging in.\n"
     ]
    },
    {
     "name": "stderr",
     "output_type": "stream",
     "text": [
      "\r",
      "  8%|█████▌                                                             | 1346/16054 [5:06:07<11:08:07,  2.73s/it]"
     ]
    },
    {
     "name": "stdout",
     "output_type": "stream",
     "text": [
      "Failed to download video from https://www.youtube.com/watch?v=Qd1x1kUwhpQ. Reason: Qd1x1kUwhpQ is age restricted, and can't be accessed without logging in.\n"
     ]
    },
    {
     "name": "stderr",
     "output_type": "stream",
     "text": [
      "\r",
      "  8%|█████▌                                                             | 1347/16054 [5:06:10<10:36:49,  2.60s/it]"
     ]
    },
    {
     "name": "stdout",
     "output_type": "stream",
     "text": [
      "Failed to download video from https://www.youtube.com/watch?v=Qd1x1kUwhpQ. Reason: Qd1x1kUwhpQ is age restricted, and can't be accessed without logging in.\n"
     ]
    },
    {
     "name": "stderr",
     "output_type": "stream",
     "text": [
      "\r",
      "  8%|█████▋                                                             | 1348/16054 [5:06:15<14:08:31,  3.46s/it]"
     ]
    },
    {
     "name": "stdout",
     "output_type": "stream",
     "text": [
      "Failed to download video from https://www.youtube.com/watch?v=Qd1x1kUwhpQ. Reason: Qd1x1kUwhpQ is age restricted, and can't be accessed without logging in.\n"
     ]
    },
    {
     "name": "stderr",
     "output_type": "stream",
     "text": [
      "\r",
      "  8%|█████▋                                                             | 1349/16054 [5:06:22<18:28:01,  4.52s/it]"
     ]
    },
    {
     "name": "stdout",
     "output_type": "stream",
     "text": [
      "Failed to download video from https://www.youtube.com/watch?v=Qd1x1kUwhpQ. Reason: Qd1x1kUwhpQ is age restricted, and can't be accessed without logging in.\n"
     ]
    },
    {
     "name": "stderr",
     "output_type": "stream",
     "text": [
      "\r",
      "  8%|█████▋                                                             | 1350/16054 [5:06:28<19:55:28,  4.88s/it]"
     ]
    },
    {
     "name": "stdout",
     "output_type": "stream",
     "text": [
      "Failed to download video from https://www.youtube.com/watch?v=Qd1x1kUwhpQ. Reason: Qd1x1kUwhpQ is age restricted, and can't be accessed without logging in.\n"
     ]
    },
    {
     "name": "stderr",
     "output_type": "stream",
     "text": [
      "\r",
      "  8%|█████▋                                                             | 1351/16054 [5:06:35<22:27:34,  5.50s/it]"
     ]
    },
    {
     "name": "stdout",
     "output_type": "stream",
     "text": [
      "Failed to download video from https://www.youtube.com/watch?v=Qd1x1kUwhpQ. Reason: Qd1x1kUwhpQ is age restricted, and can't be accessed without logging in.\n"
     ]
    },
    {
     "name": "stderr",
     "output_type": "stream",
     "text": [
      "\r",
      "  8%|█████▋                                                             | 1352/16054 [5:06:37<18:46:44,  4.60s/it]"
     ]
    },
    {
     "name": "stdout",
     "output_type": "stream",
     "text": [
      "Failed to download video from https://www.youtube.com/watch?v=Qd1x1kUwhpQ. Reason: Qd1x1kUwhpQ is age restricted, and can't be accessed without logging in.\n"
     ]
    },
    {
     "name": "stderr",
     "output_type": "stream",
     "text": [
      "\r",
      "  8%|█████▋                                                             | 1353/16054 [5:06:40<16:35:06,  4.06s/it]"
     ]
    },
    {
     "name": "stdout",
     "output_type": "stream",
     "text": [
      "Failed to download video from https://www.youtube.com/watch?v=Qd1x1kUwhpQ. Reason: Qd1x1kUwhpQ is age restricted, and can't be accessed without logging in.\n"
     ]
    },
    {
     "name": "stderr",
     "output_type": "stream",
     "text": [
      "\r",
      "  8%|█████▋                                                             | 1354/16054 [5:06:44<16:14:31,  3.98s/it]"
     ]
    },
    {
     "name": "stdout",
     "output_type": "stream",
     "text": [
      "Failed to download video from https://www.youtube.com/watch?v=Qd1x1kUwhpQ. Reason: Qd1x1kUwhpQ is age restricted, and can't be accessed without logging in.\n"
     ]
    },
    {
     "name": "stderr",
     "output_type": "stream",
     "text": [
      "\r",
      "  8%|█████▋                                                             | 1355/16054 [5:06:46<14:42:48,  3.60s/it]"
     ]
    },
    {
     "name": "stdout",
     "output_type": "stream",
     "text": [
      "Failed to download video from https://www.youtube.com/watch?v=Qd1x1kUwhpQ. Reason: Qd1x1kUwhpQ is age restricted, and can't be accessed without logging in.\n"
     ]
    },
    {
     "name": "stderr",
     "output_type": "stream",
     "text": [
      "\r",
      "  8%|█████▋                                                             | 1356/16054 [5:06:52<17:10:14,  4.21s/it]"
     ]
    },
    {
     "name": "stdout",
     "output_type": "stream",
     "text": [
      "Failed to download video from https://www.youtube.com/watch?v=Qd1x1kUwhpQ. Reason: Qd1x1kUwhpQ is age restricted, and can't be accessed without logging in.\n"
     ]
    },
    {
     "name": "stderr",
     "output_type": "stream",
     "text": [
      "\r",
      "  8%|█████▋                                                             | 1357/16054 [5:06:56<16:22:42,  4.01s/it]"
     ]
    },
    {
     "name": "stdout",
     "output_type": "stream",
     "text": [
      "Failed to download video from https://www.youtube.com/watch?v=Qd1x1kUwhpQ. Reason: Qd1x1kUwhpQ is age restricted, and can't be accessed without logging in.\n"
     ]
    },
    {
     "name": "stderr",
     "output_type": "stream",
     "text": [
      "\r",
      "  8%|█████▋                                                             | 1358/16054 [5:06:59<15:13:17,  3.73s/it]"
     ]
    },
    {
     "name": "stdout",
     "output_type": "stream",
     "text": [
      "Failed to download video from https://www.youtube.com/watch?v=Qd1x1kUwhpQ. Reason: Qd1x1kUwhpQ is age restricted, and can't be accessed without logging in.\n"
     ]
    },
    {
     "name": "stderr",
     "output_type": "stream",
     "text": [
      "\r",
      "  8%|█████▋                                                             | 1359/16054 [5:07:01<13:55:37,  3.41s/it]"
     ]
    },
    {
     "name": "stdout",
     "output_type": "stream",
     "text": [
      "Failed to download video from https://www.youtube.com/watch?v=Qd1x1kUwhpQ. Reason: Qd1x1kUwhpQ is age restricted, and can't be accessed without logging in.\n"
     ]
    },
    {
     "name": "stderr",
     "output_type": "stream",
     "text": [
      "\r",
      "  8%|█████▋                                                             | 1360/16054 [5:07:03<12:15:49,  3.00s/it]"
     ]
    },
    {
     "name": "stdout",
     "output_type": "stream",
     "text": [
      "Failed to download video from https://www.youtube.com/watch?v=Qd1x1kUwhpQ. Reason: Qd1x1kUwhpQ is age restricted, and can't be accessed without logging in.\n"
     ]
    },
    {
     "name": "stderr",
     "output_type": "stream",
     "text": [
      "\r",
      "  8%|█████▋                                                             | 1361/16054 [5:07:06<11:18:44,  2.77s/it]"
     ]
    },
    {
     "name": "stdout",
     "output_type": "stream",
     "text": [
      "Failed to download video from https://www.youtube.com/watch?v=Qd1x1kUwhpQ. Reason: Qd1x1kUwhpQ is age restricted, and can't be accessed without logging in.\n"
     ]
    },
    {
     "name": "stderr",
     "output_type": "stream",
     "text": [
      "\r",
      "  8%|█████▋                                                             | 1362/16054 [5:07:08<10:17:54,  2.52s/it]"
     ]
    },
    {
     "name": "stdout",
     "output_type": "stream",
     "text": [
      "Failed to download video from https://www.youtube.com/watch?v=Qd1x1kUwhpQ. Reason: Qd1x1kUwhpQ is age restricted, and can't be accessed without logging in.\n"
     ]
    },
    {
     "name": "stderr",
     "output_type": "stream",
     "text": [
      "\r",
      "  8%|█████▊                                                              | 1363/16054 [5:07:10<9:42:59,  2.38s/it]"
     ]
    },
    {
     "name": "stdout",
     "output_type": "stream",
     "text": [
      "Failed to download video from https://www.youtube.com/watch?v=Qd1x1kUwhpQ. Reason: Qd1x1kUwhpQ is age restricted, and can't be accessed without logging in.\n"
     ]
    },
    {
     "name": "stderr",
     "output_type": "stream",
     "text": [
      "\r",
      "  8%|█████▊                                                              | 1364/16054 [5:07:12<9:17:54,  2.28s/it]"
     ]
    },
    {
     "name": "stdout",
     "output_type": "stream",
     "text": [
      "Failed to download video from https://www.youtube.com/watch?v=Qd1x1kUwhpQ. Reason: Qd1x1kUwhpQ is age restricted, and can't be accessed without logging in.\n"
     ]
    },
    {
     "name": "stderr",
     "output_type": "stream",
     "text": [
      "\r",
      "  9%|█████▊                                                              | 1365/16054 [5:07:14<8:57:34,  2.20s/it]"
     ]
    },
    {
     "name": "stdout",
     "output_type": "stream",
     "text": [
      "Failed to download video from https://www.youtube.com/watch?v=Qd1x1kUwhpQ. Reason: Qd1x1kUwhpQ is age restricted, and can't be accessed without logging in.\n"
     ]
    },
    {
     "name": "stderr",
     "output_type": "stream",
     "text": [
      "\r",
      "  9%|█████▊                                                              | 1366/16054 [5:07:16<8:46:49,  2.15s/it]"
     ]
    },
    {
     "name": "stdout",
     "output_type": "stream",
     "text": [
      "Failed to download video from https://www.youtube.com/watch?v=Qd1x1kUwhpQ. Reason: Qd1x1kUwhpQ is age restricted, and can't be accessed without logging in.\n"
     ]
    },
    {
     "name": "stderr",
     "output_type": "stream",
     "text": [
      "\r",
      "  9%|█████▊                                                              | 1367/16054 [5:07:18<9:22:35,  2.30s/it]"
     ]
    },
    {
     "name": "stdout",
     "output_type": "stream",
     "text": [
      "Failed to download video from https://www.youtube.com/watch?v=Qd1x1kUwhpQ. Reason: Qd1x1kUwhpQ is age restricted, and can't be accessed without logging in.\n"
     ]
    },
    {
     "name": "stderr",
     "output_type": "stream",
     "text": [
      "\r",
      "  9%|█████▊                                                              | 1368/16054 [5:07:21<9:17:58,  2.28s/it]"
     ]
    },
    {
     "name": "stdout",
     "output_type": "stream",
     "text": [
      "Failed to download video from https://www.youtube.com/watch?v=Qd1x1kUwhpQ. Reason: Qd1x1kUwhpQ is age restricted, and can't be accessed without logging in.\n"
     ]
    },
    {
     "name": "stderr",
     "output_type": "stream",
     "text": [
      "\r",
      "  9%|█████▊                                                              | 1369/16054 [5:07:23<9:59:11,  2.45s/it]"
     ]
    },
    {
     "name": "stdout",
     "output_type": "stream",
     "text": [
      "Failed to download video from https://www.youtube.com/watch?v=Qd1x1kUwhpQ. Reason: Qd1x1kUwhpQ is age restricted, and can't be accessed without logging in.\n"
     ]
    },
    {
     "name": "stderr",
     "output_type": "stream",
     "text": [
      "\r",
      "  9%|█████▊                                                              | 1370/16054 [5:07:25<9:24:08,  2.31s/it]"
     ]
    },
    {
     "name": "stdout",
     "output_type": "stream",
     "text": [
      "Failed to download video from https://www.youtube.com/watch?v=Qd1x1kUwhpQ. Reason: Qd1x1kUwhpQ is age restricted, and can't be accessed without logging in.\n"
     ]
    },
    {
     "name": "stderr",
     "output_type": "stream",
     "text": [
      "\r",
      "  9%|█████▊                                                              | 1371/16054 [5:07:27<9:04:11,  2.22s/it]"
     ]
    },
    {
     "name": "stdout",
     "output_type": "stream",
     "text": [
      "Failed to download video from https://www.youtube.com/watch?v=Qd1x1kUwhpQ. Reason: Qd1x1kUwhpQ is age restricted, and can't be accessed without logging in.\n"
     ]
    },
    {
     "name": "stderr",
     "output_type": "stream",
     "text": [
      "\r",
      "  9%|█████▊                                                              | 1372/16054 [5:07:30<8:51:19,  2.17s/it]"
     ]
    },
    {
     "name": "stdout",
     "output_type": "stream",
     "text": [
      "Failed to download video from https://www.youtube.com/watch?v=Qd1x1kUwhpQ. Reason: Qd1x1kUwhpQ is age restricted, and can't be accessed without logging in.\n"
     ]
    },
    {
     "name": "stderr",
     "output_type": "stream",
     "text": [
      "\r",
      "  9%|█████▊                                                              | 1373/16054 [5:07:32<8:56:26,  2.19s/it]"
     ]
    },
    {
     "name": "stdout",
     "output_type": "stream",
     "text": [
      "Failed to download video from https://www.youtube.com/watch?v=Qd1x1kUwhpQ. Reason: Qd1x1kUwhpQ is age restricted, and can't be accessed without logging in.\n"
     ]
    },
    {
     "name": "stderr",
     "output_type": "stream",
     "text": [
      "\r",
      "  9%|█████▊                                                              | 1374/16054 [5:07:34<8:38:33,  2.12s/it]"
     ]
    },
    {
     "name": "stdout",
     "output_type": "stream",
     "text": [
      "Failed to download video from https://www.youtube.com/watch?v=Qd1x1kUwhpQ. Reason: Qd1x1kUwhpQ is age restricted, and can't be accessed without logging in.\n"
     ]
    },
    {
     "name": "stderr",
     "output_type": "stream",
     "text": [
      "\r",
      "  9%|█████▊                                                              | 1375/16054 [5:07:36<8:28:02,  2.08s/it]"
     ]
    },
    {
     "name": "stdout",
     "output_type": "stream",
     "text": [
      "Failed to download video from https://www.youtube.com/watch?v=Qd1x1kUwhpQ. Reason: Qd1x1kUwhpQ is age restricted, and can't be accessed without logging in.\n"
     ]
    },
    {
     "name": "stderr",
     "output_type": "stream",
     "text": [
      "\r",
      "  9%|█████▊                                                              | 1376/16054 [5:07:38<8:28:32,  2.08s/it]"
     ]
    },
    {
     "name": "stdout",
     "output_type": "stream",
     "text": [
      "Failed to download video from https://www.youtube.com/watch?v=Qd1x1kUwhpQ. Reason: Qd1x1kUwhpQ is age restricted, and can't be accessed without logging in.\n"
     ]
    },
    {
     "name": "stderr",
     "output_type": "stream",
     "text": [
      "\r",
      "  9%|█████▊                                                              | 1377/16054 [5:07:40<8:24:54,  2.06s/it]"
     ]
    },
    {
     "name": "stdout",
     "output_type": "stream",
     "text": [
      "Failed to download video from https://www.youtube.com/watch?v=Qd1x1kUwhpQ. Reason: Qd1x1kUwhpQ is age restricted, and can't be accessed without logging in.\n"
     ]
    },
    {
     "name": "stderr",
     "output_type": "stream",
     "text": [
      "\r",
      "  9%|█████▊                                                              | 1378/16054 [5:07:42<8:49:37,  2.17s/it]"
     ]
    },
    {
     "name": "stdout",
     "output_type": "stream",
     "text": [
      "Failed to download video from https://www.youtube.com/watch?v=Qd1x1kUwhpQ. Reason: Qd1x1kUwhpQ is age restricted, and can't be accessed without logging in.\n"
     ]
    },
    {
     "name": "stderr",
     "output_type": "stream",
     "text": [
      "\r",
      "  9%|█████▊                                                              | 1379/16054 [5:07:44<8:42:15,  2.14s/it]"
     ]
    },
    {
     "name": "stdout",
     "output_type": "stream",
     "text": [
      "Failed to download video from https://www.youtube.com/watch?v=Qd1x1kUwhpQ. Reason: Qd1x1kUwhpQ is age restricted, and can't be accessed without logging in.\n"
     ]
    },
    {
     "name": "stderr",
     "output_type": "stream",
     "text": [
      "\r",
      "  9%|█████▊                                                              | 1380/16054 [5:07:46<8:40:02,  2.13s/it]"
     ]
    },
    {
     "name": "stdout",
     "output_type": "stream",
     "text": [
      "Failed to download video from https://www.youtube.com/watch?v=Qd1x1kUwhpQ. Reason: Qd1x1kUwhpQ is age restricted, and can't be accessed without logging in.\n"
     ]
    },
    {
     "name": "stderr",
     "output_type": "stream",
     "text": [
      "\r",
      "  9%|█████▊                                                              | 1381/16054 [5:07:49<8:45:43,  2.15s/it]"
     ]
    },
    {
     "name": "stdout",
     "output_type": "stream",
     "text": [
      "Failed to download video from https://www.youtube.com/watch?v=Qd1x1kUwhpQ. Reason: Qd1x1kUwhpQ is age restricted, and can't be accessed without logging in.\n"
     ]
    },
    {
     "name": "stderr",
     "output_type": "stream",
     "text": [
      "\r",
      "  9%|█████▊                                                              | 1382/16054 [5:07:51<8:35:46,  2.11s/it]"
     ]
    },
    {
     "name": "stdout",
     "output_type": "stream",
     "text": [
      "Failed to download video from https://www.youtube.com/watch?v=Qd1x1kUwhpQ. Reason: Qd1x1kUwhpQ is age restricted, and can't be accessed without logging in.\n"
     ]
    },
    {
     "name": "stderr",
     "output_type": "stream",
     "text": [
      "\r",
      "  9%|█████▊                                                              | 1383/16054 [5:07:53<8:31:47,  2.09s/it]"
     ]
    },
    {
     "name": "stdout",
     "output_type": "stream",
     "text": [
      "Failed to download video from https://www.youtube.com/watch?v=Qd1x1kUwhpQ. Reason: Qd1x1kUwhpQ is age restricted, and can't be accessed without logging in.\n"
     ]
    },
    {
     "name": "stderr",
     "output_type": "stream",
     "text": [
      "\r",
      "  9%|█████▊                                                              | 1384/16054 [5:07:55<8:40:29,  2.13s/it]"
     ]
    },
    {
     "name": "stdout",
     "output_type": "stream",
     "text": [
      "Failed to download video from https://www.youtube.com/watch?v=Qd1x1kUwhpQ. Reason: Qd1x1kUwhpQ is age restricted, and can't be accessed without logging in.\n"
     ]
    },
    {
     "name": "stderr",
     "output_type": "stream",
     "text": [
      "\r",
      "  9%|█████▊                                                              | 1385/16054 [5:07:57<9:13:34,  2.26s/it]"
     ]
    },
    {
     "name": "stdout",
     "output_type": "stream",
     "text": [
      "Failed to download video from https://www.youtube.com/watch?v=Qd1x1kUwhpQ. Reason: Qd1x1kUwhpQ is age restricted, and can't be accessed without logging in.\n"
     ]
    },
    {
     "name": "stderr",
     "output_type": "stream",
     "text": [
      "\r",
      "  9%|█████▊                                                              | 1386/16054 [5:08:00<8:59:43,  2.21s/it]"
     ]
    },
    {
     "name": "stdout",
     "output_type": "stream",
     "text": [
      "Failed to download video from https://www.youtube.com/watch?v=Qd1x1kUwhpQ. Reason: Qd1x1kUwhpQ is age restricted, and can't be accessed without logging in.\n"
     ]
    },
    {
     "name": "stderr",
     "output_type": "stream",
     "text": [
      "\r",
      "  9%|█████▊                                                              | 1387/16054 [5:08:02<8:56:03,  2.19s/it]"
     ]
    },
    {
     "name": "stdout",
     "output_type": "stream",
     "text": [
      "Failed to download video from https://www.youtube.com/watch?v=Qd1x1kUwhpQ. Reason: Qd1x1kUwhpQ is age restricted, and can't be accessed without logging in.\n"
     ]
    },
    {
     "name": "stderr",
     "output_type": "stream",
     "text": [
      "\r",
      "  9%|█████▉                                                              | 1388/16054 [5:08:04<8:47:24,  2.16s/it]"
     ]
    },
    {
     "name": "stdout",
     "output_type": "stream",
     "text": [
      "Failed to download video from https://www.youtube.com/watch?v=Qd1x1kUwhpQ. Reason: Qd1x1kUwhpQ is age restricted, and can't be accessed without logging in.\n"
     ]
    },
    {
     "name": "stderr",
     "output_type": "stream",
     "text": [
      "\r",
      "  9%|█████▉                                                              | 1389/16054 [5:08:06<8:29:42,  2.09s/it]"
     ]
    },
    {
     "name": "stdout",
     "output_type": "stream",
     "text": [
      "Failed to download video from https://www.youtube.com/watch?v=Qd1x1kUwhpQ. Reason: Qd1x1kUwhpQ is age restricted, and can't be accessed without logging in.\n"
     ]
    },
    {
     "name": "stderr",
     "output_type": "stream",
     "text": [
      "\r",
      "  9%|█████▉                                                              | 1390/16054 [5:08:08<8:26:32,  2.07s/it]"
     ]
    },
    {
     "name": "stdout",
     "output_type": "stream",
     "text": [
      "Failed to download video from https://www.youtube.com/watch?v=Qd1x1kUwhpQ. Reason: Qd1x1kUwhpQ is age restricted, and can't be accessed without logging in.\n"
     ]
    },
    {
     "name": "stderr",
     "output_type": "stream",
     "text": [
      "\r",
      "  9%|█████▉                                                              | 1391/16054 [5:08:10<8:28:59,  2.08s/it]"
     ]
    },
    {
     "name": "stdout",
     "output_type": "stream",
     "text": [
      "Failed to download video from https://www.youtube.com/watch?v=Qd1x1kUwhpQ. Reason: Qd1x1kUwhpQ is age restricted, and can't be accessed without logging in.\n"
     ]
    },
    {
     "name": "stderr",
     "output_type": "stream",
     "text": [
      "\r",
      "  9%|█████▉                                                              | 1392/16054 [5:08:12<8:22:30,  2.06s/it]"
     ]
    },
    {
     "name": "stdout",
     "output_type": "stream",
     "text": [
      "Failed to download video from https://www.youtube.com/watch?v=Qd1x1kUwhpQ. Reason: Qd1x1kUwhpQ is age restricted, and can't be accessed without logging in.\n"
     ]
    },
    {
     "name": "stderr",
     "output_type": "stream",
     "text": [
      "\r",
      "  9%|█████▉                                                              | 1393/16054 [5:08:14<8:29:25,  2.08s/it]"
     ]
    },
    {
     "name": "stdout",
     "output_type": "stream",
     "text": [
      "Failed to download video from https://www.youtube.com/watch?v=Qd1x1kUwhpQ. Reason: Qd1x1kUwhpQ is age restricted, and can't be accessed without logging in.\n"
     ]
    },
    {
     "name": "stderr",
     "output_type": "stream",
     "text": [
      "\r",
      "  9%|█████▉                                                              | 1394/16054 [5:08:16<8:31:20,  2.09s/it]"
     ]
    },
    {
     "name": "stdout",
     "output_type": "stream",
     "text": [
      "Failed to download video from https://www.youtube.com/watch?v=Qd1x1kUwhpQ. Reason: Qd1x1kUwhpQ is age restricted, and can't be accessed without logging in.\n"
     ]
    },
    {
     "name": "stderr",
     "output_type": "stream",
     "text": [
      "\r",
      "  9%|█████▉                                                              | 1395/16054 [5:08:19<9:12:32,  2.26s/it]"
     ]
    },
    {
     "name": "stdout",
     "output_type": "stream",
     "text": [
      "Failed to download video from https://www.youtube.com/watch?v=Qd1x1kUwhpQ. Reason: Qd1x1kUwhpQ is age restricted, and can't be accessed without logging in.\n"
     ]
    },
    {
     "name": "stderr",
     "output_type": "stream",
     "text": [
      "\r",
      "  9%|█████▉                                                              | 1396/16054 [5:08:21<9:15:29,  2.27s/it]"
     ]
    },
    {
     "name": "stdout",
     "output_type": "stream",
     "text": [
      "Failed to download video from https://www.youtube.com/watch?v=Qd1x1kUwhpQ. Reason: Qd1x1kUwhpQ is age restricted, and can't be accessed without logging in.\n"
     ]
    },
    {
     "name": "stderr",
     "output_type": "stream",
     "text": [
      "\r",
      "  9%|█████▊                                                             | 1397/16054 [5:08:28<14:33:22,  3.58s/it]"
     ]
    },
    {
     "name": "stdout",
     "output_type": "stream",
     "text": [
      "Failed to download video from https://www.youtube.com/watch?v=Qd1x1kUwhpQ. Reason: Qd1x1kUwhpQ is age restricted, and can't be accessed without logging in.\n"
     ]
    },
    {
     "name": "stderr",
     "output_type": "stream",
     "text": [
      "\r",
      "  9%|█████▊                                                             | 1398/16054 [5:08:33<16:59:19,  4.17s/it]"
     ]
    },
    {
     "name": "stdout",
     "output_type": "stream",
     "text": [
      "Failed to download video from https://www.youtube.com/watch?v=Qd1x1kUwhpQ. Reason: Qd1x1kUwhpQ is age restricted, and can't be accessed without logging in.\n"
     ]
    },
    {
     "name": "stderr",
     "output_type": "stream",
     "text": [
      "\r",
      "  9%|█████▊                                                             | 1399/16054 [5:08:35<14:16:37,  3.51s/it]"
     ]
    },
    {
     "name": "stdout",
     "output_type": "stream",
     "text": [
      "Failed to download video from https://www.youtube.com/watch?v=Qd1x1kUwhpQ. Reason: Qd1x1kUwhpQ is age restricted, and can't be accessed without logging in.\n"
     ]
    },
    {
     "name": "stderr",
     "output_type": "stream",
     "text": [
      "\r",
      "  9%|█████▊                                                             | 1400/16054 [5:08:37<12:30:24,  3.07s/it]"
     ]
    },
    {
     "name": "stdout",
     "output_type": "stream",
     "text": [
      "Failed to download video from https://www.youtube.com/watch?v=Qd1x1kUwhpQ. Reason: Qd1x1kUwhpQ is age restricted, and can't be accessed without logging in.\n"
     ]
    },
    {
     "name": "stderr",
     "output_type": "stream",
     "text": [
      "  9%|█████▊                                                             | 1407/16054 [5:09:09<16:08:15,  3.97s/it]"
     ]
    },
    {
     "name": "stdout",
     "output_type": "stream",
     "text": [
      "Failed to download video from https://www.youtube.com/watch?v=73icFhednQU. Reason: 73icFhednQU is a private video\n"
     ]
    },
    {
     "name": "stderr",
     "output_type": "stream",
     "text": [
      "\r",
      "  9%|█████▉                                                             | 1408/16054 [5:09:10<12:27:21,  3.06s/it]"
     ]
    },
    {
     "name": "stdout",
     "output_type": "stream",
     "text": [
      "Failed to download video from https://www.youtube.com/watch?v=73icFhednQU. Reason: 73icFhednQU is a private video\n"
     ]
    },
    {
     "name": "stderr",
     "output_type": "stream",
     "text": [
      "\r",
      "  9%|█████▉                                                              | 1409/16054 [5:09:11<9:51:23,  2.42s/it]"
     ]
    },
    {
     "name": "stdout",
     "output_type": "stream",
     "text": [
      "Failed to download video from https://www.youtube.com/watch?v=73icFhednQU. Reason: 73icFhednQU is a private video\n"
     ]
    },
    {
     "name": "stderr",
     "output_type": "stream",
     "text": [
      "\r",
      "  9%|█████▉                                                              | 1410/16054 [5:09:12<8:04:27,  1.98s/it]"
     ]
    },
    {
     "name": "stdout",
     "output_type": "stream",
     "text": [
      "Failed to download video from https://www.youtube.com/watch?v=73icFhednQU. Reason: 73icFhednQU is a private video\n"
     ]
    },
    {
     "name": "stderr",
     "output_type": "stream",
     "text": [
      "\r",
      "  9%|█████▉                                                              | 1411/16054 [5:09:13<6:49:47,  1.68s/it]"
     ]
    },
    {
     "name": "stdout",
     "output_type": "stream",
     "text": [
      "Failed to download video from https://www.youtube.com/watch?v=73icFhednQU. Reason: 73icFhednQU is a private video\n"
     ]
    },
    {
     "name": "stderr",
     "output_type": "stream",
     "text": [
      "\r",
      "  9%|█████▉                                                              | 1412/16054 [5:09:14<6:01:15,  1.48s/it]"
     ]
    },
    {
     "name": "stdout",
     "output_type": "stream",
     "text": [
      "Failed to download video from https://www.youtube.com/watch?v=73icFhednQU. Reason: 73icFhednQU is a private video\n"
     ]
    },
    {
     "name": "stderr",
     "output_type": "stream",
     "text": [
      "\r",
      "  9%|█████▉                                                              | 1413/16054 [5:09:15<5:21:59,  1.32s/it]"
     ]
    },
    {
     "name": "stdout",
     "output_type": "stream",
     "text": [
      "Failed to download video from https://www.youtube.com/watch?v=73icFhednQU. Reason: 73icFhednQU is a private video\n"
     ]
    },
    {
     "name": "stderr",
     "output_type": "stream",
     "text": [
      "\r",
      "  9%|█████▉                                                              | 1414/16054 [5:09:16<4:54:39,  1.21s/it]"
     ]
    },
    {
     "name": "stdout",
     "output_type": "stream",
     "text": [
      "Failed to download video from https://www.youtube.com/watch?v=73icFhednQU. Reason: 73icFhednQU is a private video\n"
     ]
    },
    {
     "name": "stderr",
     "output_type": "stream",
     "text": [
      "\r",
      "  9%|█████▉                                                              | 1415/16054 [5:09:17<4:33:02,  1.12s/it]"
     ]
    },
    {
     "name": "stdout",
     "output_type": "stream",
     "text": [
      "Failed to download video from https://www.youtube.com/watch?v=73icFhednQU. Reason: 73icFhednQU is a private video\n"
     ]
    },
    {
     "name": "stderr",
     "output_type": "stream",
     "text": [
      "\r",
      "  9%|█████▉                                                              | 1416/16054 [5:09:18<4:16:36,  1.05s/it]"
     ]
    },
    {
     "name": "stdout",
     "output_type": "stream",
     "text": [
      "Failed to download video from https://www.youtube.com/watch?v=73icFhednQU. Reason: 73icFhednQU is a private video\n"
     ]
    },
    {
     "name": "stderr",
     "output_type": "stream",
     "text": [
      "\r",
      "  9%|██████                                                              | 1417/16054 [5:09:19<4:06:46,  1.01s/it]"
     ]
    },
    {
     "name": "stdout",
     "output_type": "stream",
     "text": [
      "Failed to download video from https://www.youtube.com/watch?v=73icFhednQU. Reason: 73icFhednQU is a private video\n"
     ]
    },
    {
     "name": "stderr",
     "output_type": "stream",
     "text": [
      "\r",
      "  9%|██████                                                              | 1418/16054 [5:09:19<3:59:08,  1.02it/s]"
     ]
    },
    {
     "name": "stdout",
     "output_type": "stream",
     "text": [
      "Failed to download video from https://www.youtube.com/watch?v=73icFhednQU. Reason: 73icFhednQU is a private video\n"
     ]
    },
    {
     "name": "stderr",
     "output_type": "stream",
     "text": [
      "\r",
      "  9%|██████                                                              | 1419/16054 [5:09:20<3:54:45,  1.04it/s]"
     ]
    },
    {
     "name": "stdout",
     "output_type": "stream",
     "text": [
      "Failed to download video from https://www.youtube.com/watch?v=73icFhednQU. Reason: 73icFhednQU is a private video\n"
     ]
    },
    {
     "name": "stderr",
     "output_type": "stream",
     "text": [
      "\r",
      "  9%|██████                                                              | 1420/16054 [5:09:21<3:57:14,  1.03it/s]"
     ]
    },
    {
     "name": "stdout",
     "output_type": "stream",
     "text": [
      "Failed to download video from https://www.youtube.com/watch?v=73icFhednQU. Reason: 73icFhednQU is a private video\n"
     ]
    },
    {
     "name": "stderr",
     "output_type": "stream",
     "text": [
      "\r",
      "  9%|██████                                                              | 1421/16054 [5:09:22<3:56:45,  1.03it/s]"
     ]
    },
    {
     "name": "stdout",
     "output_type": "stream",
     "text": [
      "Failed to download video from https://www.youtube.com/watch?v=73icFhednQU. Reason: 73icFhednQU is a private video\n"
     ]
    },
    {
     "name": "stderr",
     "output_type": "stream",
     "text": [
      "\r",
      "  9%|██████                                                              | 1422/16054 [5:09:23<3:55:28,  1.04it/s]"
     ]
    },
    {
     "name": "stdout",
     "output_type": "stream",
     "text": [
      "Failed to download video from https://www.youtube.com/watch?v=73icFhednQU. Reason: 73icFhednQU is a private video\n"
     ]
    },
    {
     "name": "stderr",
     "output_type": "stream",
     "text": [
      "\r",
      "  9%|██████                                                              | 1423/16054 [5:09:25<4:24:50,  1.09s/it]"
     ]
    },
    {
     "name": "stdout",
     "output_type": "stream",
     "text": [
      "Failed to download video from https://www.youtube.com/watch?v=73icFhednQU. Reason: 73icFhednQU is a private video\n"
     ]
    },
    {
     "name": "stderr",
     "output_type": "stream",
     "text": [
      "\r",
      "  9%|██████                                                              | 1424/16054 [5:09:26<4:15:10,  1.05s/it]"
     ]
    },
    {
     "name": "stdout",
     "output_type": "stream",
     "text": [
      "Failed to download video from https://www.youtube.com/watch?v=73icFhednQU. Reason: 73icFhednQU is a private video\n"
     ]
    },
    {
     "name": "stderr",
     "output_type": "stream",
     "text": [
      "\r",
      "  9%|██████                                                              | 1425/16054 [5:09:27<4:11:14,  1.03s/it]"
     ]
    },
    {
     "name": "stdout",
     "output_type": "stream",
     "text": [
      "Failed to download video from https://www.youtube.com/watch?v=73icFhednQU. Reason: 73icFhednQU is a private video\n"
     ]
    },
    {
     "name": "stderr",
     "output_type": "stream",
     "text": [
      "\r",
      "  9%|██████                                                              | 1426/16054 [5:09:28<4:06:12,  1.01s/it]"
     ]
    },
    {
     "name": "stdout",
     "output_type": "stream",
     "text": [
      "Failed to download video from https://www.youtube.com/watch?v=73icFhednQU. Reason: 73icFhednQU is a private video\n"
     ]
    },
    {
     "name": "stderr",
     "output_type": "stream",
     "text": [
      "\r",
      "  9%|██████                                                              | 1427/16054 [5:09:29<4:05:08,  1.01s/it]"
     ]
    },
    {
     "name": "stdout",
     "output_type": "stream",
     "text": [
      "Failed to download video from https://www.youtube.com/watch?v=73icFhednQU. Reason: 73icFhednQU is a private video\n"
     ]
    },
    {
     "name": "stderr",
     "output_type": "stream",
     "text": [
      "\r",
      "  9%|██████                                                              | 1428/16054 [5:09:30<4:07:55,  1.02s/it]"
     ]
    },
    {
     "name": "stdout",
     "output_type": "stream",
     "text": [
      "Failed to download video from https://www.youtube.com/watch?v=73icFhednQU. Reason: 73icFhednQU is a private video\n"
     ]
    },
    {
     "name": "stderr",
     "output_type": "stream",
     "text": [
      "\r",
      "  9%|██████                                                              | 1429/16054 [5:09:31<4:01:34,  1.01it/s]"
     ]
    },
    {
     "name": "stdout",
     "output_type": "stream",
     "text": [
      "Failed to download video from https://www.youtube.com/watch?v=73icFhednQU. Reason: 73icFhednQU is a private video\n"
     ]
    },
    {
     "name": "stderr",
     "output_type": "stream",
     "text": [
      "\r",
      "  9%|██████                                                              | 1430/16054 [5:09:31<3:58:40,  1.02it/s]"
     ]
    },
    {
     "name": "stdout",
     "output_type": "stream",
     "text": [
      "Failed to download video from https://www.youtube.com/watch?v=73icFhednQU. Reason: 73icFhednQU is a private video\n"
     ]
    },
    {
     "name": "stderr",
     "output_type": "stream",
     "text": [
      "\r",
      "  9%|██████                                                              | 1431/16054 [5:09:32<3:57:01,  1.03it/s]"
     ]
    },
    {
     "name": "stdout",
     "output_type": "stream",
     "text": [
      "Failed to download video from https://www.youtube.com/watch?v=73icFhednQU. Reason: 73icFhednQU is a private video\n"
     ]
    },
    {
     "name": "stderr",
     "output_type": "stream",
     "text": [
      "\r",
      "  9%|██████                                                              | 1432/16054 [5:09:33<3:58:48,  1.02it/s]"
     ]
    },
    {
     "name": "stdout",
     "output_type": "stream",
     "text": [
      "Failed to download video from https://www.youtube.com/watch?v=73icFhednQU. Reason: 73icFhednQU is a private video\n"
     ]
    },
    {
     "name": "stderr",
     "output_type": "stream",
     "text": [
      "\r",
      "  9%|██████                                                              | 1433/16054 [5:09:34<3:57:20,  1.03it/s]"
     ]
    },
    {
     "name": "stdout",
     "output_type": "stream",
     "text": [
      "Failed to download video from https://www.youtube.com/watch?v=73icFhednQU. Reason: 73icFhednQU is a private video\n"
     ]
    },
    {
     "name": "stderr",
     "output_type": "stream",
     "text": [
      "\r",
      "  9%|██████                                                              | 1434/16054 [5:09:35<3:58:45,  1.02it/s]"
     ]
    },
    {
     "name": "stdout",
     "output_type": "stream",
     "text": [
      "Failed to download video from https://www.youtube.com/watch?v=73icFhednQU. Reason: 73icFhednQU is a private video\n"
     ]
    },
    {
     "name": "stderr",
     "output_type": "stream",
     "text": [
      "\r",
      "  9%|██████                                                              | 1435/16054 [5:09:36<4:00:35,  1.01it/s]"
     ]
    },
    {
     "name": "stdout",
     "output_type": "stream",
     "text": [
      "Failed to download video from https://www.youtube.com/watch?v=73icFhednQU. Reason: 73icFhednQU is a private video\n"
     ]
    },
    {
     "name": "stderr",
     "output_type": "stream",
     "text": [
      "\r",
      "  9%|██████                                                              | 1436/16054 [5:09:37<3:57:39,  1.03it/s]"
     ]
    },
    {
     "name": "stdout",
     "output_type": "stream",
     "text": [
      "Failed to download video from https://www.youtube.com/watch?v=73icFhednQU. Reason: 73icFhednQU is a private video\n"
     ]
    },
    {
     "name": "stderr",
     "output_type": "stream",
     "text": [
      "\r",
      "  9%|██████                                                              | 1437/16054 [5:09:38<3:57:24,  1.03it/s]"
     ]
    },
    {
     "name": "stdout",
     "output_type": "stream",
     "text": [
      "Failed to download video from https://www.youtube.com/watch?v=73icFhednQU. Reason: 73icFhednQU is a private video\n"
     ]
    },
    {
     "name": "stderr",
     "output_type": "stream",
     "text": [
      "\r",
      "  9%|██████                                                              | 1438/16054 [5:09:39<3:58:28,  1.02it/s]"
     ]
    },
    {
     "name": "stdout",
     "output_type": "stream",
     "text": [
      "Failed to download video from https://www.youtube.com/watch?v=73icFhednQU. Reason: 73icFhednQU is a private video\n"
     ]
    },
    {
     "name": "stderr",
     "output_type": "stream",
     "text": [
      "\r",
      "  9%|██████                                                              | 1439/16054 [5:09:40<4:00:56,  1.01it/s]"
     ]
    },
    {
     "name": "stdout",
     "output_type": "stream",
     "text": [
      "Failed to download video from https://www.youtube.com/watch?v=73icFhednQU. Reason: 73icFhednQU is a private video\n"
     ]
    },
    {
     "name": "stderr",
     "output_type": "stream",
     "text": [
      "\r",
      "  9%|██████                                                              | 1440/16054 [5:09:41<4:08:14,  1.02s/it]"
     ]
    },
    {
     "name": "stdout",
     "output_type": "stream",
     "text": [
      "Failed to download video from https://www.youtube.com/watch?v=73icFhednQU. Reason: 73icFhednQU is a private video\n"
     ]
    },
    {
     "name": "stderr",
     "output_type": "stream",
     "text": [
      "\r",
      "  9%|██████                                                              | 1441/16054 [5:09:42<4:11:20,  1.03s/it]"
     ]
    },
    {
     "name": "stdout",
     "output_type": "stream",
     "text": [
      "Failed to download video from https://www.youtube.com/watch?v=73icFhednQU. Reason: 73icFhednQU is a private video\n"
     ]
    },
    {
     "name": "stderr",
     "output_type": "stream",
     "text": [
      "\r",
      "  9%|██████                                                              | 1442/16054 [5:09:43<4:10:07,  1.03s/it]"
     ]
    },
    {
     "name": "stdout",
     "output_type": "stream",
     "text": [
      "Failed to download video from https://www.youtube.com/watch?v=73icFhednQU. Reason: 73icFhednQU is a private video\n"
     ]
    },
    {
     "name": "stderr",
     "output_type": "stream",
     "text": [
      "\r",
      "  9%|██████                                                              | 1443/16054 [5:09:45<4:11:53,  1.03s/it]"
     ]
    },
    {
     "name": "stdout",
     "output_type": "stream",
     "text": [
      "Failed to download video from https://www.youtube.com/watch?v=73icFhednQU. Reason: 73icFhednQU is a private video\n"
     ]
    },
    {
     "name": "stderr",
     "output_type": "stream",
     "text": [
      "\r",
      "  9%|██████                                                              | 1444/16054 [5:09:45<4:04:11,  1.00s/it]"
     ]
    },
    {
     "name": "stdout",
     "output_type": "stream",
     "text": [
      "Failed to download video from https://www.youtube.com/watch?v=73icFhednQU. Reason: 73icFhednQU is a private video\n"
     ]
    },
    {
     "name": "stderr",
     "output_type": "stream",
     "text": [
      "\r",
      "  9%|██████                                                              | 1445/16054 [5:09:47<4:12:13,  1.04s/it]"
     ]
    },
    {
     "name": "stdout",
     "output_type": "stream",
     "text": [
      "Failed to download video from https://www.youtube.com/watch?v=73icFhednQU. Reason: 73icFhednQU is a private video\n"
     ]
    },
    {
     "name": "stderr",
     "output_type": "stream",
     "text": [
      "\r",
      "  9%|██████                                                              | 1446/16054 [5:09:48<4:08:16,  1.02s/it]"
     ]
    },
    {
     "name": "stdout",
     "output_type": "stream",
     "text": [
      "Failed to download video from https://www.youtube.com/watch?v=73icFhednQU. Reason: 73icFhednQU is a private video\n"
     ]
    },
    {
     "name": "stderr",
     "output_type": "stream",
     "text": [
      "\r",
      "  9%|██████▏                                                             | 1447/16054 [5:09:49<4:08:05,  1.02s/it]"
     ]
    },
    {
     "name": "stdout",
     "output_type": "stream",
     "text": [
      "Failed to download video from https://www.youtube.com/watch?v=73icFhednQU. Reason: 73icFhednQU is a private video\n"
     ]
    },
    {
     "name": "stderr",
     "output_type": "stream",
     "text": [
      "\r",
      "  9%|██████▏                                                             | 1448/16054 [5:09:50<4:10:44,  1.03s/it]"
     ]
    },
    {
     "name": "stdout",
     "output_type": "stream",
     "text": [
      "Failed to download video from https://www.youtube.com/watch?v=73icFhednQU. Reason: 73icFhednQU is a private video\n"
     ]
    },
    {
     "name": "stderr",
     "output_type": "stream",
     "text": [
      "\r",
      "  9%|██████▏                                                             | 1449/16054 [5:09:51<4:16:13,  1.05s/it]"
     ]
    },
    {
     "name": "stdout",
     "output_type": "stream",
     "text": [
      "Failed to download video from https://www.youtube.com/watch?v=73icFhednQU. Reason: 73icFhednQU is a private video\n"
     ]
    },
    {
     "name": "stderr",
     "output_type": "stream",
     "text": [
      "\r",
      "  9%|██████▏                                                             | 1450/16054 [5:09:52<4:29:47,  1.11s/it]"
     ]
    },
    {
     "name": "stdout",
     "output_type": "stream",
     "text": [
      "Failed to download video from https://www.youtube.com/watch?v=73icFhednQU. Reason: 73icFhednQU is a private video\n"
     ]
    },
    {
     "name": "stderr",
     "output_type": "stream",
     "text": [
      "\r",
      "  9%|██████▏                                                             | 1451/16054 [5:09:54<5:24:33,  1.33s/it]"
     ]
    },
    {
     "name": "stdout",
     "output_type": "stream",
     "text": [
      "Failed to download video from https://www.youtube.com/watch?v=73icFhednQU. Reason: 73icFhednQU is a private video\n"
     ]
    },
    {
     "name": "stderr",
     "output_type": "stream",
     "text": [
      "\r",
      "  9%|██████▏                                                             | 1452/16054 [5:09:55<5:19:05,  1.31s/it]"
     ]
    },
    {
     "name": "stdout",
     "output_type": "stream",
     "text": [
      "Failed to download video from https://www.youtube.com/watch?v=73icFhednQU. Reason: 73icFhednQU is a private video\n"
     ]
    },
    {
     "name": "stderr",
     "output_type": "stream",
     "text": [
      "\r",
      "  9%|██████▏                                                             | 1453/16054 [5:09:56<5:02:40,  1.24s/it]"
     ]
    },
    {
     "name": "stdout",
     "output_type": "stream",
     "text": [
      "Failed to download video from https://www.youtube.com/watch?v=73icFhednQU. Reason: 73icFhednQU is a private video\n"
     ]
    },
    {
     "name": "stderr",
     "output_type": "stream",
     "text": [
      "\r",
      "  9%|██████▏                                                             | 1454/16054 [5:09:57<4:53:51,  1.21s/it]"
     ]
    },
    {
     "name": "stdout",
     "output_type": "stream",
     "text": [
      "Failed to download video from https://www.youtube.com/watch?v=73icFhednQU. Reason: 73icFhednQU is a private video\n"
     ]
    },
    {
     "name": "stderr",
     "output_type": "stream",
     "text": [
      "\r",
      "  9%|██████▏                                                             | 1455/16054 [5:09:58<4:35:30,  1.13s/it]"
     ]
    },
    {
     "name": "stdout",
     "output_type": "stream",
     "text": [
      "Failed to download video from https://www.youtube.com/watch?v=73icFhednQU. Reason: 73icFhednQU is a private video\n"
     ]
    },
    {
     "name": "stderr",
     "output_type": "stream",
     "text": [
      "\r",
      "  9%|██████▏                                                             | 1456/16054 [5:09:59<4:19:30,  1.07s/it]"
     ]
    },
    {
     "name": "stdout",
     "output_type": "stream",
     "text": [
      "Failed to download video from https://www.youtube.com/watch?v=73icFhednQU. Reason: 73icFhednQU is a private video\n"
     ]
    },
    {
     "name": "stderr",
     "output_type": "stream",
     "text": [
      "\r",
      "  9%|██████▏                                                             | 1457/16054 [5:10:00<4:08:09,  1.02s/it]"
     ]
    },
    {
     "name": "stdout",
     "output_type": "stream",
     "text": [
      "Failed to download video from https://www.youtube.com/watch?v=73icFhednQU. Reason: 73icFhednQU is a private video\n"
     ]
    },
    {
     "name": "stderr",
     "output_type": "stream",
     "text": [
      "\r",
      "  9%|██████▏                                                             | 1458/16054 [5:10:01<4:10:49,  1.03s/it]"
     ]
    },
    {
     "name": "stdout",
     "output_type": "stream",
     "text": [
      "Failed to download video from https://www.youtube.com/watch?v=73icFhednQU. Reason: 73icFhednQU is a private video\n"
     ]
    },
    {
     "name": "stderr",
     "output_type": "stream",
     "text": [
      "\r",
      "  9%|██████▏                                                             | 1459/16054 [5:10:02<4:08:22,  1.02s/it]"
     ]
    },
    {
     "name": "stdout",
     "output_type": "stream",
     "text": [
      "Failed to download video from https://www.youtube.com/watch?v=73icFhednQU. Reason: 73icFhednQU is a private video\n"
     ]
    },
    {
     "name": "stderr",
     "output_type": "stream",
     "text": [
      "\r",
      "  9%|██████▏                                                             | 1460/16054 [5:10:04<4:33:59,  1.13s/it]"
     ]
    },
    {
     "name": "stdout",
     "output_type": "stream",
     "text": [
      "Failed to download video from https://www.youtube.com/watch?v=73icFhednQU. Reason: 73icFhednQU is a private video\n"
     ]
    },
    {
     "name": "stderr",
     "output_type": "stream",
     "text": [
      "\r",
      "  9%|██████▏                                                             | 1461/16054 [5:10:06<5:42:40,  1.41s/it]"
     ]
    },
    {
     "name": "stdout",
     "output_type": "stream",
     "text": [
      "Failed to download video from https://www.youtube.com/watch?v=73icFhednQU. Reason: 73icFhednQU is a private video\n"
     ]
    },
    {
     "name": "stderr",
     "output_type": "stream",
     "text": [
      "\r",
      "  9%|██████▏                                                             | 1462/16054 [5:10:08<6:55:48,  1.71s/it]"
     ]
    },
    {
     "name": "stdout",
     "output_type": "stream",
     "text": [
      "Failed to download video from https://www.youtube.com/watch?v=73icFhednQU. Reason: 73icFhednQU is a private video\n"
     ]
    },
    {
     "name": "stderr",
     "output_type": "stream",
     "text": [
      "\r",
      "  9%|██████▏                                                             | 1463/16054 [5:10:10<7:15:41,  1.79s/it]"
     ]
    },
    {
     "name": "stdout",
     "output_type": "stream",
     "text": [
      "Failed to download video from https://www.youtube.com/watch?v=73icFhednQU. Reason: 73icFhednQU is a private video\n"
     ]
    },
    {
     "name": "stderr",
     "output_type": "stream",
     "text": [
      "\r",
      "  9%|██████▏                                                             | 1464/16054 [5:10:11<6:23:57,  1.58s/it]"
     ]
    },
    {
     "name": "stdout",
     "output_type": "stream",
     "text": [
      "Failed to download video from https://www.youtube.com/watch?v=73icFhednQU. Reason: 73icFhednQU is a private video\n"
     ]
    },
    {
     "name": "stderr",
     "output_type": "stream",
     "text": [
      "\r",
      "  9%|██████▏                                                             | 1465/16054 [5:10:13<6:27:35,  1.59s/it]"
     ]
    },
    {
     "name": "stdout",
     "output_type": "stream",
     "text": [
      "Failed to download video from https://www.youtube.com/watch?v=73icFhednQU. Reason: 73icFhednQU is a private video\n"
     ]
    },
    {
     "name": "stderr",
     "output_type": "stream",
     "text": [
      "\r",
      "  9%|██████▏                                                             | 1466/16054 [5:10:14<5:57:13,  1.47s/it]"
     ]
    },
    {
     "name": "stdout",
     "output_type": "stream",
     "text": [
      "Failed to download video from https://www.youtube.com/watch?v=73icFhednQU. Reason: 73icFhednQU is a private video\n"
     ]
    },
    {
     "name": "stderr",
     "output_type": "stream",
     "text": [
      "\r",
      "  9%|██████▏                                                             | 1467/16054 [5:10:15<5:30:51,  1.36s/it]"
     ]
    },
    {
     "name": "stdout",
     "output_type": "stream",
     "text": [
      "Failed to download video from https://www.youtube.com/watch?v=73icFhednQU. Reason: 73icFhednQU is a private video\n"
     ]
    },
    {
     "name": "stderr",
     "output_type": "stream",
     "text": [
      "\r",
      "  9%|██████▏                                                             | 1468/16054 [5:10:16<5:02:50,  1.25s/it]"
     ]
    },
    {
     "name": "stdout",
     "output_type": "stream",
     "text": [
      "Failed to download video from https://www.youtube.com/watch?v=73icFhednQU. Reason: 73icFhednQU is a private video\n"
     ]
    },
    {
     "name": "stderr",
     "output_type": "stream",
     "text": [
      "\r",
      "  9%|██████▏                                                             | 1469/16054 [5:10:17<4:43:07,  1.16s/it]"
     ]
    },
    {
     "name": "stdout",
     "output_type": "stream",
     "text": [
      "Failed to download video from https://www.youtube.com/watch?v=73icFhednQU. Reason: 73icFhednQU is a private video\n"
     ]
    },
    {
     "name": "stderr",
     "output_type": "stream",
     "text": [
      "\r",
      "  9%|██████▏                                                             | 1470/16054 [5:10:18<4:28:32,  1.10s/it]"
     ]
    },
    {
     "name": "stdout",
     "output_type": "stream",
     "text": [
      "Failed to download video from https://www.youtube.com/watch?v=73icFhednQU. Reason: 73icFhednQU is a private video\n"
     ]
    },
    {
     "name": "stderr",
     "output_type": "stream",
     "text": [
      "\r",
      "  9%|██████▏                                                             | 1471/16054 [5:10:19<4:15:51,  1.05s/it]"
     ]
    },
    {
     "name": "stdout",
     "output_type": "stream",
     "text": [
      "Failed to download video from https://www.youtube.com/watch?v=73icFhednQU. Reason: 73icFhednQU is a private video\n"
     ]
    },
    {
     "name": "stderr",
     "output_type": "stream",
     "text": [
      "\r",
      "  9%|██████▏                                                             | 1472/16054 [5:10:20<4:14:55,  1.05s/it]"
     ]
    },
    {
     "name": "stdout",
     "output_type": "stream",
     "text": [
      "Failed to download video from https://www.youtube.com/watch?v=73icFhednQU. Reason: 73icFhednQU is a private video\n"
     ]
    },
    {
     "name": "stderr",
     "output_type": "stream",
     "text": [
      "\r",
      "  9%|██████▏                                                             | 1473/16054 [5:10:21<4:03:32,  1.00s/it]"
     ]
    },
    {
     "name": "stdout",
     "output_type": "stream",
     "text": [
      "Failed to download video from https://www.youtube.com/watch?v=73icFhednQU. Reason: 73icFhednQU is a private video\n"
     ]
    },
    {
     "name": "stderr",
     "output_type": "stream",
     "text": [
      "\r",
      "  9%|██████▏                                                             | 1474/16054 [5:10:22<4:04:27,  1.01s/it]"
     ]
    },
    {
     "name": "stdout",
     "output_type": "stream",
     "text": [
      "Failed to download video from https://www.youtube.com/watch?v=73icFhednQU. Reason: 73icFhednQU is a private video\n"
     ]
    },
    {
     "name": "stderr",
     "output_type": "stream",
     "text": [
      "\r",
      "  9%|██████▏                                                             | 1475/16054 [5:10:23<3:59:51,  1.01it/s]"
     ]
    },
    {
     "name": "stdout",
     "output_type": "stream",
     "text": [
      "Failed to download video from https://www.youtube.com/watch?v=73icFhednQU. Reason: 73icFhednQU is a private video\n"
     ]
    },
    {
     "name": "stderr",
     "output_type": "stream",
     "text": [
      "\r",
      "  9%|██████▎                                                             | 1476/16054 [5:10:24<4:11:42,  1.04s/it]"
     ]
    },
    {
     "name": "stdout",
     "output_type": "stream",
     "text": [
      "Failed to download video from https://www.youtube.com/watch?v=73icFhednQU. Reason: 73icFhednQU is a private video\n"
     ]
    },
    {
     "name": "stderr",
     "output_type": "stream",
     "text": [
      "\r",
      "  9%|██████▎                                                             | 1477/16054 [5:10:25<4:06:16,  1.01s/it]"
     ]
    },
    {
     "name": "stdout",
     "output_type": "stream",
     "text": [
      "Failed to download video from https://www.youtube.com/watch?v=73icFhednQU. Reason: 73icFhednQU is a private video\n"
     ]
    },
    {
     "name": "stderr",
     "output_type": "stream",
     "text": [
      "\r",
      "  9%|██████▎                                                             | 1478/16054 [5:10:26<4:08:23,  1.02s/it]"
     ]
    },
    {
     "name": "stdout",
     "output_type": "stream",
     "text": [
      "Failed to download video from https://www.youtube.com/watch?v=73icFhednQU. Reason: 73icFhednQU is a private video\n"
     ]
    },
    {
     "name": "stderr",
     "output_type": "stream",
     "text": [
      "\r",
      "  9%|██████▎                                                             | 1479/16054 [5:10:27<4:02:52,  1.00it/s]"
     ]
    },
    {
     "name": "stdout",
     "output_type": "stream",
     "text": [
      "Failed to download video from https://www.youtube.com/watch?v=73icFhednQU. Reason: 73icFhednQU is a private video\n"
     ]
    },
    {
     "name": "stderr",
     "output_type": "stream",
     "text": [
      "\r",
      "  9%|██████▎                                                             | 1480/16054 [5:10:28<4:07:44,  1.02s/it]"
     ]
    },
    {
     "name": "stdout",
     "output_type": "stream",
     "text": [
      "Failed to download video from https://www.youtube.com/watch?v=73icFhednQU. Reason: 73icFhednQU is a private video\n"
     ]
    },
    {
     "name": "stderr",
     "output_type": "stream",
     "text": [
      "\r",
      "  9%|██████▎                                                             | 1481/16054 [5:10:29<4:08:41,  1.02s/it]"
     ]
    },
    {
     "name": "stdout",
     "output_type": "stream",
     "text": [
      "Failed to download video from https://www.youtube.com/watch?v=73icFhednQU. Reason: 73icFhednQU is a private video\n"
     ]
    },
    {
     "name": "stderr",
     "output_type": "stream",
     "text": [
      "\r",
      "  9%|██████▎                                                             | 1482/16054 [5:10:30<4:08:11,  1.02s/it]"
     ]
    },
    {
     "name": "stdout",
     "output_type": "stream",
     "text": [
      "Failed to download video from https://www.youtube.com/watch?v=73icFhednQU. Reason: 73icFhednQU is a private video\n"
     ]
    },
    {
     "name": "stderr",
     "output_type": "stream",
     "text": [
      "\r",
      "  9%|██████▎                                                             | 1483/16054 [5:10:31<4:06:14,  1.01s/it]"
     ]
    },
    {
     "name": "stdout",
     "output_type": "stream",
     "text": [
      "Failed to download video from https://www.youtube.com/watch?v=73icFhednQU. Reason: 73icFhednQU is a private video\n"
     ]
    },
    {
     "name": "stderr",
     "output_type": "stream",
     "text": [
      "\r",
      "  9%|██████▎                                                             | 1484/16054 [5:10:32<4:10:26,  1.03s/it]"
     ]
    },
    {
     "name": "stdout",
     "output_type": "stream",
     "text": [
      "Failed to download video from https://www.youtube.com/watch?v=73icFhednQU. Reason: 73icFhednQU is a private video\n"
     ]
    },
    {
     "name": "stderr",
     "output_type": "stream",
     "text": [
      "\r",
      "  9%|██████▎                                                             | 1485/16054 [5:10:33<4:08:26,  1.02s/it]"
     ]
    },
    {
     "name": "stdout",
     "output_type": "stream",
     "text": [
      "Failed to download video from https://www.youtube.com/watch?v=73icFhednQU. Reason: 73icFhednQU is a private video\n"
     ]
    },
    {
     "name": "stderr",
     "output_type": "stream",
     "text": [
      "\r",
      "  9%|██████▎                                                             | 1486/16054 [5:10:34<4:10:48,  1.03s/it]"
     ]
    },
    {
     "name": "stdout",
     "output_type": "stream",
     "text": [
      "Failed to download video from https://www.youtube.com/watch?v=73icFhednQU. Reason: 73icFhednQU is a private video\n"
     ]
    },
    {
     "name": "stderr",
     "output_type": "stream",
     "text": [
      "\r",
      "  9%|██████▎                                                             | 1487/16054 [5:10:35<4:15:54,  1.05s/it]"
     ]
    },
    {
     "name": "stdout",
     "output_type": "stream",
     "text": [
      "Failed to download video from https://www.youtube.com/watch?v=73icFhednQU. Reason: 73icFhednQU is a private video\n"
     ]
    },
    {
     "name": "stderr",
     "output_type": "stream",
     "text": [
      "\r",
      "  9%|██████▎                                                             | 1488/16054 [5:10:37<5:10:42,  1.28s/it]"
     ]
    },
    {
     "name": "stdout",
     "output_type": "stream",
     "text": [
      "Failed to download video from https://www.youtube.com/watch?v=73icFhednQU. Reason: 73icFhednQU is a private video\n"
     ]
    },
    {
     "name": "stderr",
     "output_type": "stream",
     "text": [
      "\r",
      "  9%|██████▎                                                             | 1489/16054 [5:10:38<4:57:03,  1.22s/it]"
     ]
    },
    {
     "name": "stdout",
     "output_type": "stream",
     "text": [
      "Failed to download video from https://www.youtube.com/watch?v=73icFhednQU. Reason: 73icFhednQU is a private video\n"
     ]
    },
    {
     "name": "stderr",
     "output_type": "stream",
     "text": [
      "\r",
      "  9%|██████▎                                                             | 1490/16054 [5:10:39<4:58:10,  1.23s/it]"
     ]
    },
    {
     "name": "stdout",
     "output_type": "stream",
     "text": [
      "Failed to download video from https://www.youtube.com/watch?v=73icFhednQU. Reason: 73icFhednQU is a private video\n"
     ]
    },
    {
     "name": "stderr",
     "output_type": "stream",
     "text": [
      "\r",
      "  9%|██████▎                                                             | 1491/16054 [5:10:40<4:55:36,  1.22s/it]"
     ]
    },
    {
     "name": "stdout",
     "output_type": "stream",
     "text": [
      "Failed to download video from https://www.youtube.com/watch?v=73icFhednQU. Reason: 73icFhednQU is a private video\n"
     ]
    },
    {
     "name": "stderr",
     "output_type": "stream",
     "text": [
      "\r",
      "  9%|██████▎                                                             | 1492/16054 [5:10:42<4:51:47,  1.20s/it]"
     ]
    },
    {
     "name": "stdout",
     "output_type": "stream",
     "text": [
      "Failed to download video from https://www.youtube.com/watch?v=73icFhednQU. Reason: 73icFhednQU is a private video\n"
     ]
    },
    {
     "name": "stderr",
     "output_type": "stream",
     "text": [
      "\r",
      "  9%|██████▎                                                             | 1493/16054 [5:10:43<4:43:54,  1.17s/it]"
     ]
    },
    {
     "name": "stdout",
     "output_type": "stream",
     "text": [
      "Failed to download video from https://www.youtube.com/watch?v=73icFhednQU. Reason: 73icFhednQU is a private video\n"
     ]
    },
    {
     "name": "stderr",
     "output_type": "stream",
     "text": [
      "\r",
      "  9%|██████▎                                                             | 1494/16054 [5:10:44<4:34:27,  1.13s/it]"
     ]
    },
    {
     "name": "stdout",
     "output_type": "stream",
     "text": [
      "Failed to download video from https://www.youtube.com/watch?v=73icFhednQU. Reason: 73icFhednQU is a private video\n"
     ]
    },
    {
     "name": "stderr",
     "output_type": "stream",
     "text": [
      "\r",
      "  9%|██████▎                                                             | 1495/16054 [5:10:45<4:56:41,  1.22s/it]"
     ]
    },
    {
     "name": "stdout",
     "output_type": "stream",
     "text": [
      "Failed to download video from https://www.youtube.com/watch?v=73icFhednQU. Reason: 73icFhednQU is a private video\n"
     ]
    },
    {
     "name": "stderr",
     "output_type": "stream",
     "text": [
      "\r",
      "  9%|██████▎                                                             | 1496/16054 [5:10:46<4:50:49,  1.20s/it]"
     ]
    },
    {
     "name": "stdout",
     "output_type": "stream",
     "text": [
      "Failed to download video from https://www.youtube.com/watch?v=73icFhednQU. Reason: 73icFhednQU is a private video\n"
     ]
    },
    {
     "name": "stderr",
     "output_type": "stream",
     "text": [
      "\r",
      "  9%|██████▎                                                             | 1497/16054 [5:10:47<4:38:35,  1.15s/it]"
     ]
    },
    {
     "name": "stdout",
     "output_type": "stream",
     "text": [
      "Failed to download video from https://www.youtube.com/watch?v=73icFhednQU. Reason: 73icFhednQU is a private video\n"
     ]
    },
    {
     "name": "stderr",
     "output_type": "stream",
     "text": [
      "\r",
      "  9%|██████▎                                                             | 1498/16054 [5:10:48<4:31:22,  1.12s/it]"
     ]
    },
    {
     "name": "stdout",
     "output_type": "stream",
     "text": [
      "Failed to download video from https://www.youtube.com/watch?v=73icFhednQU. Reason: 73icFhednQU is a private video\n"
     ]
    },
    {
     "name": "stderr",
     "output_type": "stream",
     "text": [
      "\r",
      "  9%|██████▎                                                             | 1499/16054 [5:10:50<4:32:09,  1.12s/it]"
     ]
    },
    {
     "name": "stdout",
     "output_type": "stream",
     "text": [
      "Failed to download video from https://www.youtube.com/watch?v=73icFhednQU. Reason: 73icFhednQU is a private video\n"
     ]
    },
    {
     "name": "stderr",
     "output_type": "stream",
     "text": [
      "\r",
      "  9%|██████▎                                                             | 1500/16054 [5:10:51<4:29:16,  1.11s/it]"
     ]
    },
    {
     "name": "stdout",
     "output_type": "stream",
     "text": [
      "Failed to download video from https://www.youtube.com/watch?v=73icFhednQU. Reason: 73icFhednQU is a private video\n"
     ]
    },
    {
     "name": "stderr",
     "output_type": "stream",
     "text": [
      "\r",
      "  9%|██████▎                                                             | 1501/16054 [5:10:52<4:27:44,  1.10s/it]"
     ]
    },
    {
     "name": "stdout",
     "output_type": "stream",
     "text": [
      "Failed to download video from https://www.youtube.com/watch?v=73icFhednQU. Reason: 73icFhednQU is a private video\n"
     ]
    },
    {
     "name": "stderr",
     "output_type": "stream",
     "text": [
      "\r",
      "  9%|██████▎                                                             | 1502/16054 [5:10:53<4:26:36,  1.10s/it]"
     ]
    },
    {
     "name": "stdout",
     "output_type": "stream",
     "text": [
      "Failed to download video from https://www.youtube.com/watch?v=73icFhednQU. Reason: 73icFhednQU is a private video\n"
     ]
    },
    {
     "name": "stderr",
     "output_type": "stream",
     "text": [
      "\r",
      "  9%|██████▎                                                             | 1503/16054 [5:10:54<4:20:21,  1.07s/it]"
     ]
    },
    {
     "name": "stdout",
     "output_type": "stream",
     "text": [
      "Failed to download video from https://www.youtube.com/watch?v=73icFhednQU. Reason: 73icFhednQU is a private video\n"
     ]
    },
    {
     "name": "stderr",
     "output_type": "stream",
     "text": [
      "\r",
      "  9%|██████▎                                                             | 1504/16054 [5:10:55<4:11:47,  1.04s/it]"
     ]
    },
    {
     "name": "stdout",
     "output_type": "stream",
     "text": [
      "Failed to download video from https://www.youtube.com/watch?v=73icFhednQU. Reason: 73icFhednQU is a private video\n"
     ]
    },
    {
     "name": "stderr",
     "output_type": "stream",
     "text": [
      "\r",
      "  9%|██████▎                                                             | 1505/16054 [5:10:56<4:06:46,  1.02s/it]"
     ]
    },
    {
     "name": "stdout",
     "output_type": "stream",
     "text": [
      "Failed to download video from https://www.youtube.com/watch?v=73icFhednQU. Reason: 73icFhednQU is a private video\n"
     ]
    },
    {
     "name": "stderr",
     "output_type": "stream",
     "text": [
      "\r",
      "  9%|██████▍                                                             | 1506/16054 [5:10:57<4:09:38,  1.03s/it]"
     ]
    },
    {
     "name": "stdout",
     "output_type": "stream",
     "text": [
      "Failed to download video from https://www.youtube.com/watch?v=73icFhednQU. Reason: 73icFhednQU is a private video\n"
     ]
    },
    {
     "name": "stderr",
     "output_type": "stream",
     "text": [
      "\r",
      "  9%|██████▍                                                             | 1507/16054 [5:10:58<4:03:40,  1.01s/it]"
     ]
    },
    {
     "name": "stdout",
     "output_type": "stream",
     "text": [
      "Failed to download video from https://www.youtube.com/watch?v=73icFhednQU. Reason: 73icFhednQU is a private video\n"
     ]
    },
    {
     "name": "stderr",
     "output_type": "stream",
     "text": [
      "\r",
      "  9%|██████▍                                                             | 1508/16054 [5:10:59<4:01:51,  1.00it/s]"
     ]
    },
    {
     "name": "stdout",
     "output_type": "stream",
     "text": [
      "Failed to download video from https://www.youtube.com/watch?v=73icFhednQU. Reason: 73icFhednQU is a private video\n"
     ]
    },
    {
     "name": "stderr",
     "output_type": "stream",
     "text": [
      "\r",
      "  9%|██████▍                                                             | 1509/16054 [5:11:00<4:10:32,  1.03s/it]"
     ]
    },
    {
     "name": "stdout",
     "output_type": "stream",
     "text": [
      "Failed to download video from https://www.youtube.com/watch?v=73icFhednQU. Reason: 73icFhednQU is a private video\n"
     ]
    },
    {
     "name": "stderr",
     "output_type": "stream",
     "text": [
      "\r",
      "  9%|██████▍                                                             | 1510/16054 [5:11:01<4:19:02,  1.07s/it]"
     ]
    },
    {
     "name": "stdout",
     "output_type": "stream",
     "text": [
      "Failed to download video from https://www.youtube.com/watch?v=73icFhednQU. Reason: 73icFhednQU is a private video\n"
     ]
    },
    {
     "name": "stderr",
     "output_type": "stream",
     "text": [
      "\r",
      "  9%|██████▍                                                             | 1511/16054 [5:11:02<4:16:30,  1.06s/it]"
     ]
    },
    {
     "name": "stdout",
     "output_type": "stream",
     "text": [
      "Failed to download video from https://www.youtube.com/watch?v=73icFhednQU. Reason: 73icFhednQU is a private video\n"
     ]
    },
    {
     "name": "stderr",
     "output_type": "stream",
     "text": [
      "\r",
      "  9%|██████▍                                                             | 1512/16054 [5:11:03<4:11:56,  1.04s/it]"
     ]
    },
    {
     "name": "stdout",
     "output_type": "stream",
     "text": [
      "Failed to download video from https://www.youtube.com/watch?v=73icFhednQU. Reason: 73icFhednQU is a private video\n"
     ]
    },
    {
     "name": "stderr",
     "output_type": "stream",
     "text": [
      "\r",
      "  9%|██████▍                                                             | 1513/16054 [5:11:04<4:09:32,  1.03s/it]"
     ]
    },
    {
     "name": "stdout",
     "output_type": "stream",
     "text": [
      "Failed to download video from https://www.youtube.com/watch?v=73icFhednQU. Reason: 73icFhednQU is a private video\n"
     ]
    },
    {
     "name": "stderr",
     "output_type": "stream",
     "text": [
      "\r",
      "  9%|██████▍                                                             | 1514/16054 [5:11:05<4:08:05,  1.02s/it]"
     ]
    },
    {
     "name": "stdout",
     "output_type": "stream",
     "text": [
      "Failed to download video from https://www.youtube.com/watch?v=73icFhednQU. Reason: 73icFhednQU is a private video\n"
     ]
    },
    {
     "name": "stderr",
     "output_type": "stream",
     "text": [
      "\r",
      "  9%|██████▍                                                             | 1515/16054 [5:11:06<4:05:22,  1.01s/it]"
     ]
    },
    {
     "name": "stdout",
     "output_type": "stream",
     "text": [
      "Failed to download video from https://www.youtube.com/watch?v=73icFhednQU. Reason: 73icFhednQU is a private video\n"
     ]
    },
    {
     "name": "stderr",
     "output_type": "stream",
     "text": [
      "\r",
      "  9%|██████▍                                                             | 1516/16054 [5:11:07<4:02:18,  1.00s/it]"
     ]
    },
    {
     "name": "stdout",
     "output_type": "stream",
     "text": [
      "Failed to download video from https://www.youtube.com/watch?v=73icFhednQU. Reason: 73icFhednQU is a private video\n"
     ]
    },
    {
     "name": "stderr",
     "output_type": "stream",
     "text": [
      "\r",
      "  9%|██████▍                                                             | 1517/16054 [5:11:08<4:02:52,  1.00s/it]"
     ]
    },
    {
     "name": "stdout",
     "output_type": "stream",
     "text": [
      "Failed to download video from https://www.youtube.com/watch?v=73icFhednQU. Reason: 73icFhednQU is a private video\n"
     ]
    },
    {
     "name": "stderr",
     "output_type": "stream",
     "text": [
      "\r",
      "  9%|██████▍                                                             | 1518/16054 [5:11:09<3:57:44,  1.02it/s]"
     ]
    },
    {
     "name": "stdout",
     "output_type": "stream",
     "text": [
      "Failed to download video from https://www.youtube.com/watch?v=73icFhednQU. Reason: 73icFhednQU is a private video\n"
     ]
    },
    {
     "name": "stderr",
     "output_type": "stream",
     "text": [
      "\r",
      "  9%|██████▍                                                             | 1519/16054 [5:11:10<4:01:40,  1.00it/s]"
     ]
    },
    {
     "name": "stdout",
     "output_type": "stream",
     "text": [
      "Failed to download video from https://www.youtube.com/watch?v=73icFhednQU. Reason: 73icFhednQU is a private video\n"
     ]
    },
    {
     "name": "stderr",
     "output_type": "stream",
     "text": [
      "\r",
      "  9%|██████▍                                                             | 1520/16054 [5:11:11<4:03:24,  1.00s/it]"
     ]
    },
    {
     "name": "stdout",
     "output_type": "stream",
     "text": [
      "Failed to download video from https://www.youtube.com/watch?v=73icFhednQU. Reason: 73icFhednQU is a private video\n"
     ]
    },
    {
     "name": "stderr",
     "output_type": "stream",
     "text": [
      "\r",
      "  9%|██████▍                                                             | 1521/16054 [5:11:12<4:04:44,  1.01s/it]"
     ]
    },
    {
     "name": "stdout",
     "output_type": "stream",
     "text": [
      "Failed to download video from https://www.youtube.com/watch?v=73icFhednQU. Reason: 73icFhednQU is a private video\n"
     ]
    },
    {
     "name": "stderr",
     "output_type": "stream",
     "text": [
      "\r",
      "  9%|██████▍                                                             | 1522/16054 [5:11:13<4:03:21,  1.00s/it]"
     ]
    },
    {
     "name": "stdout",
     "output_type": "stream",
     "text": [
      "Failed to download video from https://www.youtube.com/watch?v=73icFhednQU. Reason: 73icFhednQU is a private video\n"
     ]
    },
    {
     "name": "stderr",
     "output_type": "stream",
     "text": [
      "\r",
      "  9%|██████▍                                                             | 1523/16054 [5:11:14<4:05:39,  1.01s/it]"
     ]
    },
    {
     "name": "stdout",
     "output_type": "stream",
     "text": [
      "Failed to download video from https://www.youtube.com/watch?v=73icFhednQU. Reason: 73icFhednQU is a private video\n"
     ]
    },
    {
     "name": "stderr",
     "output_type": "stream",
     "text": [
      " 10%|██████▎                                                            | 1526/16054 [5:11:26<10:43:51,  2.66s/it]"
     ]
    },
    {
     "name": "stdout",
     "output_type": "stream",
     "text": [
      "Failed to download video from www.youtube.com/watch?v=aNva2VLkvkc. Reason: aNva2VLkvkc is unavailable\n"
     ]
    },
    {
     "name": "stderr",
     "output_type": "stream",
     "text": [
      " 10%|██████▍                                                            | 1533/16054 [5:12:10<18:18:08,  4.54s/it]"
     ]
    },
    {
     "name": "stdout",
     "output_type": "stream",
     "text": [
      "Failed to download video from www.youtube.com/watch?v=RkgtFgtk0Cs. Reason: RkgtFgtk0Cs is a private video\n"
     ]
    },
    {
     "name": "stderr",
     "output_type": "stream",
     "text": [
      " 10%|██████▌                                                            | 1586/16054 [5:24:06<21:22:52,  5.32s/it]"
     ]
    },
    {
     "name": "stdout",
     "output_type": "stream",
     "text": [
      "Failed to download video from www.youtube.com/watch?v=Vq1uOlm94zk. Reason: Vq1uOlm94zk is unavailable\n"
     ]
    },
    {
     "name": "stderr",
     "output_type": "stream",
     "text": [
      " 10%|██████▋                                                            | 1590/16054 [5:24:25<16:56:59,  4.22s/it]"
     ]
    },
    {
     "name": "stdout",
     "output_type": "stream",
     "text": [
      "Failed to download video from www.youtube.com/watch?v=AcjtTUYEV2w. Reason: AcjtTUYEV2w is unavailable\n"
     ]
    },
    {
     "name": "stderr",
     "output_type": "stream",
     "text": [
      " 10%|██████▋                                                            | 1603/16054 [5:26:58<52:36:55, 13.11s/it][h264 @ 0x10fe71e90] mmco: unref short failure\n",
      "[h264 @ 0x10fe71e90] mmco: unref short failure\n",
      "[h264 @ 0x10fe71e90] mmco: unref short failure\n",
      "[h264 @ 0x10fe71e90] mmco: unref short failure\n",
      "[h264 @ 0x10fe71e90] mmco: unref short failure\n",
      "[h264 @ 0x10fe71e90] mmco: unref short failure\n",
      "[h264 @ 0x10fe71e90] mmco: unref short failure\n",
      "[h264 @ 0x10fe71e90] mmco: unref short failure\n",
      "[h264 @ 0x10fe71e90] mmco: unref short failure\n",
      "[h264 @ 0x10fe71e90] mmco: unref short failure\n",
      "[h264 @ 0x10fe71e90] mmco: unref short failure\n",
      "[h264 @ 0x10fe71e90] mmco: unref short failure\n",
      "[h264 @ 0x10fe71e90] mmco: unref short failure\n",
      "[h264 @ 0x10fe71e90] mmco: unref short failure\n",
      "[h264 @ 0x10fe71e90] mmco: unref short failure\n",
      "[h264 @ 0x10fe71e90] mmco: unref short failure\n",
      "[h264 @ 0x10fe71e90] mmco: unref short failure\n",
      "[h264 @ 0x10fe71e90] mmco: unref short failure\n",
      "[h264 @ 0x10fe71e90] mmco: unref short failure\n",
      "[h264 @ 0x10fe71e90] mmco: unref short failure\n",
      "[h264 @ 0x10fe71e90] mmco: unref short failure\n",
      "[h264 @ 0x10fe71e90] mmco: unref short failure\n",
      "[h264 @ 0x10fe71e90] mmco: unref short failure\n",
      "[h264 @ 0x10fe71e90] mmco: unref short failure\n",
      " 10%|██████▋                                                            | 1604/16054 [5:27:25<70:09:37, 17.48s/it][h264 @ 0x10a053a10] mmco: unref short failure\n",
      "[h264 @ 0x10a053a10] mmco: unref short failure\n",
      "[h264 @ 0x10a053a10] mmco: unref short failure\n",
      "[h264 @ 0x10a053a10] mmco: unref short failure\n",
      "[h264 @ 0x10a053a10] mmco: unref short failure\n",
      "[h264 @ 0x10a053a10] mmco: unref short failure\n",
      "[h264 @ 0x10a053a10] mmco: unref short failure\n",
      "[h264 @ 0x10a053a10] mmco: unref short failure\n",
      "[h264 @ 0x10a053a10] mmco: unref short failure\n",
      "[h264 @ 0x10a053a10] mmco: unref short failure\n",
      "[h264 @ 0x10a053a10] mmco: unref short failure\n",
      "[h264 @ 0x10a053a10] mmco: unref short failure\n",
      " 10%|██████▊                                                            | 1631/16054 [5:35:55<87:20:17, 21.80s/it][h264 @ 0x10a765e40] mmco: unref short failure\n",
      "[h264 @ 0x10a765e40] mmco: unref short failure\n",
      "[h264 @ 0x10a765e40] mmco: unref short failure\n",
      "[h264 @ 0x10a765e40] mmco: unref short failure\n",
      "[h264 @ 0x10a765e40] mmco: unref short failure\n",
      "[h264 @ 0x10a765e40] mmco: unref short failure\n",
      " 10%|██████▊                                                            | 1633/16054 [5:36:12<58:02:36, 14.49s/it]"
     ]
    },
    {
     "name": "stdout",
     "output_type": "stream",
     "text": [
      "Failed to download video from www.youtube.com/watch?v=PYeMIH_-Kog. Reason: PYeMIH_-Kog is a private video\n"
     ]
    },
    {
     "name": "stderr",
     "output_type": "stream",
     "text": [
      "\r",
      " 10%|██████▊                                                            | 1634/16054 [5:36:13<42:00:12, 10.49s/it]"
     ]
    },
    {
     "name": "stdout",
     "output_type": "stream",
     "text": [
      "Failed to download video from www.youtube.com/watch?v=c9AFBIWlh_A. Reason: c9AFBIWlh_A is unavailable\n"
     ]
    },
    {
     "name": "stderr",
     "output_type": "stream",
     "text": [
      " 10%|██████▊                                                            | 1642/16054 [5:36:54<17:36:19,  4.40s/it]"
     ]
    },
    {
     "name": "stdout",
     "output_type": "stream",
     "text": [
      "Failed to download video from https://www.youtube.com/watch?v=mOgZGklBGZQ. Reason: mOgZGklBGZQ is a private video\n"
     ]
    },
    {
     "name": "stderr",
     "output_type": "stream",
     "text": [
      "\r",
      " 10%|██████▊                                                            | 1643/16054 [5:36:55<13:23:59,  3.35s/it]"
     ]
    },
    {
     "name": "stdout",
     "output_type": "stream",
     "text": [
      "Failed to download video from https://www.youtube.com/watch?v=mOgZGklBGZQ. Reason: mOgZGklBGZQ is a private video\n"
     ]
    },
    {
     "name": "stderr",
     "output_type": "stream",
     "text": [
      "\r",
      " 10%|██████▊                                                            | 1644/16054 [5:36:56<10:34:08,  2.64s/it]"
     ]
    },
    {
     "name": "stdout",
     "output_type": "stream",
     "text": [
      "Failed to download video from https://www.youtube.com/watch?v=mOgZGklBGZQ. Reason: mOgZGklBGZQ is a private video\n"
     ]
    },
    {
     "name": "stderr",
     "output_type": "stream",
     "text": [
      "\r",
      " 10%|██████▉                                                             | 1645/16054 [5:36:57<8:36:10,  2.15s/it]"
     ]
    },
    {
     "name": "stdout",
     "output_type": "stream",
     "text": [
      "Failed to download video from https://www.youtube.com/watch?v=mOgZGklBGZQ. Reason: mOgZGklBGZQ is a private video\n"
     ]
    },
    {
     "name": "stderr",
     "output_type": "stream",
     "text": [
      "\r",
      " 10%|██████▉                                                             | 1646/16054 [5:36:58<7:12:31,  1.80s/it]"
     ]
    },
    {
     "name": "stdout",
     "output_type": "stream",
     "text": [
      "Failed to download video from https://www.youtube.com/watch?v=mOgZGklBGZQ. Reason: mOgZGklBGZQ is a private video\n"
     ]
    },
    {
     "name": "stderr",
     "output_type": "stream",
     "text": [
      "\r",
      " 10%|██████▉                                                             | 1647/16054 [5:36:59<6:35:34,  1.65s/it]"
     ]
    },
    {
     "name": "stdout",
     "output_type": "stream",
     "text": [
      "Failed to download video from https://www.youtube.com/watch?v=mOgZGklBGZQ. Reason: mOgZGklBGZQ is a private video\n"
     ]
    },
    {
     "name": "stderr",
     "output_type": "stream",
     "text": [
      "\r",
      " 10%|██████▉                                                             | 1648/16054 [5:37:00<5:46:24,  1.44s/it]"
     ]
    },
    {
     "name": "stdout",
     "output_type": "stream",
     "text": [
      "Failed to download video from https://www.youtube.com/watch?v=mOgZGklBGZQ. Reason: mOgZGklBGZQ is a private video\n"
     ]
    },
    {
     "name": "stderr",
     "output_type": "stream",
     "text": [
      "\r",
      " 10%|██████▉                                                             | 1649/16054 [5:37:01<5:24:08,  1.35s/it]"
     ]
    },
    {
     "name": "stdout",
     "output_type": "stream",
     "text": [
      "Failed to download video from https://www.youtube.com/watch?v=mOgZGklBGZQ. Reason: mOgZGklBGZQ is a private video\n"
     ]
    },
    {
     "name": "stderr",
     "output_type": "stream",
     "text": [
      "\r",
      " 10%|██████▉                                                             | 1650/16054 [5:37:02<5:19:53,  1.33s/it]"
     ]
    },
    {
     "name": "stdout",
     "output_type": "stream",
     "text": [
      "Failed to download video from https://www.youtube.com/watch?v=mOgZGklBGZQ. Reason: mOgZGklBGZQ is a private video\n"
     ]
    },
    {
     "name": "stderr",
     "output_type": "stream",
     "text": [
      "\r",
      " 10%|██████▉                                                             | 1651/16054 [5:37:03<5:06:32,  1.28s/it]"
     ]
    },
    {
     "name": "stdout",
     "output_type": "stream",
     "text": [
      "Failed to download video from https://www.youtube.com/watch?v=mOgZGklBGZQ. Reason: mOgZGklBGZQ is a private video\n"
     ]
    },
    {
     "name": "stderr",
     "output_type": "stream",
     "text": [
      "\r",
      " 10%|██████▉                                                             | 1652/16054 [5:37:05<4:57:08,  1.24s/it]"
     ]
    },
    {
     "name": "stdout",
     "output_type": "stream",
     "text": [
      "Failed to download video from https://www.youtube.com/watch?v=mOgZGklBGZQ. Reason: mOgZGklBGZQ is a private video\n"
     ]
    },
    {
     "name": "stderr",
     "output_type": "stream",
     "text": [
      "\r",
      " 10%|███████                                                             | 1653/16054 [5:37:06<4:53:34,  1.22s/it]"
     ]
    },
    {
     "name": "stdout",
     "output_type": "stream",
     "text": [
      "Failed to download video from https://www.youtube.com/watch?v=mOgZGklBGZQ. Reason: mOgZGklBGZQ is a private video\n"
     ]
    },
    {
     "name": "stderr",
     "output_type": "stream",
     "text": [
      "\r",
      " 10%|███████                                                             | 1654/16054 [5:37:07<4:45:52,  1.19s/it]"
     ]
    },
    {
     "name": "stdout",
     "output_type": "stream",
     "text": [
      "Failed to download video from https://www.youtube.com/watch?v=mOgZGklBGZQ. Reason: mOgZGklBGZQ is a private video\n"
     ]
    },
    {
     "name": "stderr",
     "output_type": "stream",
     "text": [
      " 10%|██████▉                                                            | 1669/16054 [5:38:43<21:43:16,  5.44s/it]"
     ]
    },
    {
     "name": "stdout",
     "output_type": "stream",
     "text": [
      "Failed to download video from www.youtube.com/watch?v=IsbF6PZcOsU. Reason: IsbF6PZcOsU is a private video\n"
     ]
    },
    {
     "name": "stderr",
     "output_type": "stream",
     "text": [
      " 10%|██████▉                                                            | 1675/16054 [5:39:10<15:37:30,  3.91s/it]"
     ]
    },
    {
     "name": "stdout",
     "output_type": "stream",
     "text": [
      "Failed to download video from https://www.youtube.com/watch?v=FWvHYCdAx8A. Reason: FWvHYCdAx8A is unavailable\n"
     ]
    },
    {
     "name": "stderr",
     "output_type": "stream",
     "text": [
      "\r",
      " 10%|██████▉                                                            | 1676/16054 [5:39:11<12:01:57,  3.01s/it]"
     ]
    },
    {
     "name": "stdout",
     "output_type": "stream",
     "text": [
      "Failed to download video from https://www.youtube.com/watch?v=FWvHYCdAx8A. Reason: FWvHYCdAx8A is unavailable\n"
     ]
    },
    {
     "name": "stderr",
     "output_type": "stream",
     "text": [
      " 11%|███████                                                           | 1706/16054 [5:51:46<175:38:33, 44.07s/it]"
     ]
    },
    {
     "name": "stdout",
     "output_type": "stream",
     "text": [
      "Failed to download video from https://www.youtube.com/watch?v=a9aoS1DL93k. Reason: <urlopen error [Errno 60] Operation timed out>\n"
     ]
    },
    {
     "name": "stderr",
     "output_type": "stream",
     "text": [
      " 11%|███████▏                                                           | 1722/16054 [5:57:41<53:44:27, 13.50s/it]"
     ]
    },
    {
     "name": "stdout",
     "output_type": "stream",
     "text": [
      "Failed to download video from www.youtube.com/watch?v=eFVfYZffYLo. Reason: eFVfYZffYLo is a private video\n"
     ]
    },
    {
     "name": "stderr",
     "output_type": "stream",
     "text": [
      " 11%|███████▏                                                           | 1727/16054 [5:58:10<25:46:15,  6.48s/it]"
     ]
    },
    {
     "name": "stdout",
     "output_type": "stream",
     "text": [
      "Failed to download video from www.youtube.com/watch?v=BC2ahgTLYbk. Reason: BC2ahgTLYbk is unavailable\n"
     ]
    },
    {
     "name": "stderr",
     "output_type": "stream",
     "text": [
      " 11%|███████▎                                                           | 1754/16054 [6:03:33<30:43:42,  7.74s/it]"
     ]
    },
    {
     "name": "stdout",
     "output_type": "stream",
     "text": [
      "Failed to download video from www.youtube.com/watch?v=poEPdTTSVyA. Reason: poEPdTTSVyA is a private video\n"
     ]
    },
    {
     "name": "stderr",
     "output_type": "stream",
     "text": [
      " 11%|███████▎                                                           | 1762/16054 [6:04:06<15:04:15,  3.80s/it]"
     ]
    },
    {
     "name": "stdout",
     "output_type": "stream",
     "text": [
      "Failed to download video from www.youtube.com/watch?v=lLpBvtKsB-I. Reason: lLpBvtKsB-I is unavailable\n"
     ]
    },
    {
     "name": "stderr",
     "output_type": "stream",
     "text": [
      " 11%|███████▎                                                           | 1766/16054 [6:04:19<11:50:40,  2.98s/it]"
     ]
    },
    {
     "name": "stdout",
     "output_type": "stream",
     "text": [
      "Failed to download video from https://www.youtube.com/watch?v=FeGQrm6_hWs. Reason: FeGQrm6_hWs is unavailable\n"
     ]
    },
    {
     "name": "stderr",
     "output_type": "stream",
     "text": [
      "\r",
      " 11%|███████▍                                                            | 1767/16054 [6:04:20<9:27:17,  2.38s/it]"
     ]
    },
    {
     "name": "stdout",
     "output_type": "stream",
     "text": [
      "Failed to download video from https://www.youtube.com/watch?v=FeGQrm6_hWs. Reason: FeGQrm6_hWs is unavailable\n"
     ]
    },
    {
     "name": "stderr",
     "output_type": "stream",
     "text": [
      "\r",
      " 11%|███████▍                                                            | 1768/16054 [6:04:21<7:48:47,  1.97s/it]"
     ]
    },
    {
     "name": "stdout",
     "output_type": "stream",
     "text": [
      "Failed to download video from https://www.youtube.com/watch?v=FeGQrm6_hWs. Reason: FeGQrm6_hWs is unavailable\n"
     ]
    },
    {
     "name": "stderr",
     "output_type": "stream",
     "text": [
      "\r",
      " 11%|███████▍                                                            | 1769/16054 [6:04:22<6:38:26,  1.67s/it]"
     ]
    },
    {
     "name": "stdout",
     "output_type": "stream",
     "text": [
      "Failed to download video from https://www.youtube.com/watch?v=FeGQrm6_hWs. Reason: FeGQrm6_hWs is unavailable\n"
     ]
    },
    {
     "name": "stderr",
     "output_type": "stream",
     "text": [
      "\r",
      " 11%|███████▍                                                            | 1770/16054 [6:04:23<5:46:46,  1.46s/it]"
     ]
    },
    {
     "name": "stdout",
     "output_type": "stream",
     "text": [
      "Failed to download video from https://www.youtube.com/watch?v=FeGQrm6_hWs. Reason: FeGQrm6_hWs is unavailable\n"
     ]
    },
    {
     "name": "stderr",
     "output_type": "stream",
     "text": [
      "\r",
      " 11%|███████▌                                                            | 1771/16054 [6:04:24<5:16:26,  1.33s/it]"
     ]
    },
    {
     "name": "stdout",
     "output_type": "stream",
     "text": [
      "Failed to download video from https://www.youtube.com/watch?v=FeGQrm6_hWs. Reason: FeGQrm6_hWs is unavailable\n"
     ]
    },
    {
     "name": "stderr",
     "output_type": "stream",
     "text": [
      "\r",
      " 11%|███████▌                                                            | 1772/16054 [6:04:25<4:47:10,  1.21s/it]"
     ]
    },
    {
     "name": "stdout",
     "output_type": "stream",
     "text": [
      "Failed to download video from https://www.youtube.com/watch?v=FeGQrm6_hWs. Reason: FeGQrm6_hWs is unavailable\n"
     ]
    },
    {
     "name": "stderr",
     "output_type": "stream",
     "text": [
      "\r",
      " 11%|███████▌                                                            | 1773/16054 [6:04:26<4:35:45,  1.16s/it]"
     ]
    },
    {
     "name": "stdout",
     "output_type": "stream",
     "text": [
      "Failed to download video from https://www.youtube.com/watch?v=FeGQrm6_hWs. Reason: FeGQrm6_hWs is unavailable\n"
     ]
    },
    {
     "name": "stderr",
     "output_type": "stream",
     "text": [
      " 11%|███████▍                                                           | 1782/16054 [6:05:36<26:48:47,  6.76s/it]"
     ]
    },
    {
     "name": "stdout",
     "output_type": "stream",
     "text": [
      "Failed to download video from https://www.youtube.com/watch?v=EagICDahORE. Reason: EagICDahORE is unavailable\n"
     ]
    },
    {
     "name": "stderr",
     "output_type": "stream",
     "text": [
      "\r",
      " 11%|███████▍                                                           | 1783/16054 [6:05:37<20:14:29,  5.11s/it]"
     ]
    },
    {
     "name": "stdout",
     "output_type": "stream",
     "text": [
      "Failed to download video from https://www.youtube.com/watch?v=EagICDahORE. Reason: EagICDahORE is unavailable\n"
     ]
    },
    {
     "name": "stderr",
     "output_type": "stream",
     "text": [
      " 11%|███████▍                                                           | 1796/16054 [6:06:37<16:00:22,  4.04s/it]"
     ]
    },
    {
     "name": "stdout",
     "output_type": "stream",
     "text": [
      "Failed to download video from www.youtube.com/watch?v=J1Y1SuISPL0. Reason: J1Y1SuISPL0 is a private video\n"
     ]
    },
    {
     "name": "stderr",
     "output_type": "stream",
     "text": [
      " 11%|███████▌                                                           | 1812/16054 [6:08:57<22:01:42,  5.57s/it]"
     ]
    },
    {
     "name": "stdout",
     "output_type": "stream",
     "text": [
      "Failed to download video from www.youtube.com/watch?v=qs_jFwosFWs. Reason: qs_jFwosFWs is unavailable\n"
     ]
    },
    {
     "name": "stderr",
     "output_type": "stream",
     "text": [
      " 11%|███████▋                                                           | 1828/16054 [6:11:05<29:22:23,  7.43s/it]"
     ]
    },
    {
     "name": "stdout",
     "output_type": "stream",
     "text": [
      "Failed to download video from www.youtube.com/watch?v=62-rKMj97QE. Reason: 62-rKMj97QE is a private video\n"
     ]
    },
    {
     "name": "stderr",
     "output_type": "stream",
     "text": [
      " 12%|███████▉                                                           | 1905/16054 [6:20:04<14:51:18,  3.78s/it]"
     ]
    },
    {
     "name": "stdout",
     "output_type": "stream",
     "text": [
      "Failed to download video from www.youtube.com/watch?v=Etp56MlLEdo. Reason: Etp56MlLEdo is unavailable\n"
     ]
    },
    {
     "name": "stderr",
     "output_type": "stream",
     "text": [
      " 12%|███████▉                                                           | 1908/16054 [6:20:17<14:50:35,  3.78s/it]"
     ]
    },
    {
     "name": "stdout",
     "output_type": "stream",
     "text": [
      "Failed to download video from https://www.youtube.com/watch?v=eXpXg4q-qEQ&t=170s. Reason: eXpXg4q-qEQ is age restricted, and can't be accessed without logging in.\n"
     ]
    },
    {
     "name": "stderr",
     "output_type": "stream",
     "text": [
      "\r",
      " 12%|███████▉                                                           | 1909/16054 [6:20:20<14:36:11,  3.72s/it]"
     ]
    },
    {
     "name": "stdout",
     "output_type": "stream",
     "text": [
      "Failed to download video from https://www.youtube.com/watch?v=eXpXg4q-qEQ&t=170s. Reason: eXpXg4q-qEQ is age restricted, and can't be accessed without logging in.\n"
     ]
    },
    {
     "name": "stderr",
     "output_type": "stream",
     "text": [
      "\r",
      " 12%|███████▉                                                           | 1910/16054 [6:20:22<12:44:09,  3.24s/it]"
     ]
    },
    {
     "name": "stdout",
     "output_type": "stream",
     "text": [
      "Failed to download video from https://www.youtube.com/watch?v=eXpXg4q-qEQ&t=170s. Reason: eXpXg4q-qEQ is age restricted, and can't be accessed without logging in.\n"
     ]
    },
    {
     "name": "stderr",
     "output_type": "stream",
     "text": [
      "\r",
      " 12%|███████▉                                                           | 1911/16054 [6:20:24<11:14:24,  2.86s/it]"
     ]
    },
    {
     "name": "stdout",
     "output_type": "stream",
     "text": [
      "Failed to download video from https://www.youtube.com/watch?v=eXpXg4q-qEQ&t=170s. Reason: eXpXg4q-qEQ is age restricted, and can't be accessed without logging in.\n"
     ]
    },
    {
     "name": "stderr",
     "output_type": "stream",
     "text": [
      "\r",
      " 12%|███████▉                                                           | 1912/16054 [6:20:27<10:42:34,  2.73s/it]"
     ]
    },
    {
     "name": "stdout",
     "output_type": "stream",
     "text": [
      "Failed to download video from https://www.youtube.com/watch?v=eXpXg4q-qEQ&t=170s. Reason: eXpXg4q-qEQ is age restricted, and can't be accessed without logging in.\n"
     ]
    },
    {
     "name": "stderr",
     "output_type": "stream",
     "text": [
      "\r",
      " 12%|████████                                                            | 1913/16054 [6:20:29<9:42:29,  2.47s/it]"
     ]
    },
    {
     "name": "stdout",
     "output_type": "stream",
     "text": [
      "Failed to download video from https://www.youtube.com/watch?v=eXpXg4q-qEQ&t=170s. Reason: eXpXg4q-qEQ is age restricted, and can't be accessed without logging in.\n"
     ]
    },
    {
     "name": "stderr",
     "output_type": "stream",
     "text": [
      "\r",
      " 12%|████████                                                            | 1914/16054 [6:20:31<9:06:15,  2.32s/it]"
     ]
    },
    {
     "name": "stdout",
     "output_type": "stream",
     "text": [
      "Failed to download video from https://www.youtube.com/watch?v=eXpXg4q-qEQ&t=170s. Reason: eXpXg4q-qEQ is age restricted, and can't be accessed without logging in.\n"
     ]
    },
    {
     "name": "stderr",
     "output_type": "stream",
     "text": [
      "\r",
      " 12%|████████                                                            | 1915/16054 [6:20:32<8:33:33,  2.18s/it]"
     ]
    },
    {
     "name": "stdout",
     "output_type": "stream",
     "text": [
      "Failed to download video from https://www.youtube.com/watch?v=eXpXg4q-qEQ&t=170s. Reason: eXpXg4q-qEQ is age restricted, and can't be accessed without logging in.\n"
     ]
    },
    {
     "name": "stderr",
     "output_type": "stream",
     "text": [
      "\r",
      " 12%|████████                                                            | 1916/16054 [6:20:34<8:16:07,  2.11s/it]"
     ]
    },
    {
     "name": "stdout",
     "output_type": "stream",
     "text": [
      "Failed to download video from https://www.youtube.com/watch?v=eXpXg4q-qEQ&t=170s. Reason: eXpXg4q-qEQ is age restricted, and can't be accessed without logging in.\n"
     ]
    },
    {
     "name": "stderr",
     "output_type": "stream",
     "text": [
      "\r",
      " 12%|████████                                                            | 1917/16054 [6:20:36<7:56:14,  2.02s/it]"
     ]
    },
    {
     "name": "stdout",
     "output_type": "stream",
     "text": [
      "Failed to download video from https://www.youtube.com/watch?v=eXpXg4q-qEQ&t=170s. Reason: eXpXg4q-qEQ is age restricted, and can't be accessed without logging in.\n"
     ]
    },
    {
     "name": "stderr",
     "output_type": "stream",
     "text": [
      "\r",
      " 12%|████████                                                            | 1918/16054 [6:20:38<7:46:09,  1.98s/it]"
     ]
    },
    {
     "name": "stdout",
     "output_type": "stream",
     "text": [
      "Failed to download video from https://www.youtube.com/watch?v=eXpXg4q-qEQ&t=170s. Reason: eXpXg4q-qEQ is age restricted, and can't be accessed without logging in.\n"
     ]
    },
    {
     "name": "stderr",
     "output_type": "stream",
     "text": [
      "\r",
      " 12%|████████▏                                                           | 1919/16054 [6:20:40<8:21:15,  2.13s/it]"
     ]
    },
    {
     "name": "stdout",
     "output_type": "stream",
     "text": [
      "Failed to download video from https://www.youtube.com/watch?v=eXpXg4q-qEQ&t=170s. Reason: eXpXg4q-qEQ is age restricted, and can't be accessed without logging in.\n"
     ]
    },
    {
     "name": "stderr",
     "output_type": "stream",
     "text": [
      "\r",
      " 12%|████████▏                                                           | 1920/16054 [6:20:42<7:59:44,  2.04s/it]"
     ]
    },
    {
     "name": "stdout",
     "output_type": "stream",
     "text": [
      "Failed to download video from https://www.youtube.com/watch?v=eXpXg4q-qEQ&t=170s. Reason: eXpXg4q-qEQ is age restricted, and can't be accessed without logging in.\n"
     ]
    },
    {
     "name": "stderr",
     "output_type": "stream",
     "text": [
      "\r",
      " 12%|████████▏                                                           | 1921/16054 [6:20:44<7:52:48,  2.01s/it]"
     ]
    },
    {
     "name": "stdout",
     "output_type": "stream",
     "text": [
      "Failed to download video from https://www.youtube.com/watch?v=eXpXg4q-qEQ&t=170s. Reason: eXpXg4q-qEQ is age restricted, and can't be accessed without logging in.\n"
     ]
    },
    {
     "name": "stderr",
     "output_type": "stream",
     "text": [
      "\r",
      " 12%|████████▏                                                           | 1922/16054 [6:20:46<7:38:00,  1.94s/it]"
     ]
    },
    {
     "name": "stdout",
     "output_type": "stream",
     "text": [
      "Failed to download video from https://www.youtube.com/watch?v=eXpXg4q-qEQ&t=170s. Reason: eXpXg4q-qEQ is age restricted, and can't be accessed without logging in.\n"
     ]
    },
    {
     "name": "stderr",
     "output_type": "stream",
     "text": [
      "\r",
      " 12%|████████▏                                                           | 1923/16054 [6:20:48<7:24:14,  1.89s/it]"
     ]
    },
    {
     "name": "stdout",
     "output_type": "stream",
     "text": [
      "Failed to download video from https://www.youtube.com/watch?v=eXpXg4q-qEQ&t=170s. Reason: eXpXg4q-qEQ is age restricted, and can't be accessed without logging in.\n"
     ]
    },
    {
     "name": "stderr",
     "output_type": "stream",
     "text": [
      "\r",
      " 12%|████████▏                                                           | 1924/16054 [6:20:50<7:26:38,  1.90s/it]"
     ]
    },
    {
     "name": "stdout",
     "output_type": "stream",
     "text": [
      "Failed to download video from https://www.youtube.com/watch?v=eXpXg4q-qEQ&t=170s. Reason: eXpXg4q-qEQ is age restricted, and can't be accessed without logging in.\n"
     ]
    },
    {
     "name": "stderr",
     "output_type": "stream",
     "text": [
      "\r",
      " 12%|████████▏                                                           | 1925/16054 [6:20:52<7:22:08,  1.88s/it]"
     ]
    },
    {
     "name": "stdout",
     "output_type": "stream",
     "text": [
      "Failed to download video from https://www.youtube.com/watch?v=eXpXg4q-qEQ&t=170s. Reason: eXpXg4q-qEQ is age restricted, and can't be accessed without logging in.\n"
     ]
    },
    {
     "name": "stderr",
     "output_type": "stream",
     "text": [
      "\r",
      " 12%|████████▏                                                           | 1926/16054 [6:20:53<7:20:22,  1.87s/it]"
     ]
    },
    {
     "name": "stdout",
     "output_type": "stream",
     "text": [
      "Failed to download video from https://www.youtube.com/watch?v=eXpXg4q-qEQ&t=170s. Reason: eXpXg4q-qEQ is age restricted, and can't be accessed without logging in.\n"
     ]
    },
    {
     "name": "stderr",
     "output_type": "stream",
     "text": [
      "\r",
      " 12%|████████▏                                                           | 1927/16054 [6:20:55<7:14:39,  1.85s/it]"
     ]
    },
    {
     "name": "stdout",
     "output_type": "stream",
     "text": [
      "Failed to download video from https://www.youtube.com/watch?v=eXpXg4q-qEQ&t=170s. Reason: eXpXg4q-qEQ is age restricted, and can't be accessed without logging in.\n"
     ]
    },
    {
     "name": "stderr",
     "output_type": "stream",
     "text": [
      "\r",
      " 12%|████████▏                                                           | 1928/16054 [6:20:58<8:36:16,  2.19s/it]"
     ]
    },
    {
     "name": "stdout",
     "output_type": "stream",
     "text": [
      "Failed to download video from https://www.youtube.com/watch?v=eXpXg4q-qEQ&t=170s. Reason: eXpXg4q-qEQ is age restricted, and can't be accessed without logging in.\n"
     ]
    },
    {
     "name": "stderr",
     "output_type": "stream",
     "text": [
      "\r",
      " 12%|████████▏                                                           | 1929/16054 [6:21:01<9:50:28,  2.51s/it]"
     ]
    },
    {
     "name": "stdout",
     "output_type": "stream",
     "text": [
      "Failed to download video from https://www.youtube.com/watch?v=eXpXg4q-qEQ&t=170s. Reason: eXpXg4q-qEQ is age restricted, and can't be accessed without logging in.\n"
     ]
    },
    {
     "name": "stderr",
     "output_type": "stream",
     "text": [
      "\r",
      " 12%|████████▏                                                           | 1930/16054 [6:21:04<9:38:41,  2.46s/it]"
     ]
    },
    {
     "name": "stdout",
     "output_type": "stream",
     "text": [
      "Failed to download video from https://www.youtube.com/watch?v=eXpXg4q-qEQ&t=170s. Reason: eXpXg4q-qEQ is age restricted, and can't be accessed without logging in.\n"
     ]
    },
    {
     "name": "stderr",
     "output_type": "stream",
     "text": [
      "\r",
      " 12%|████████                                                           | 1931/16054 [6:21:08<11:46:12,  3.00s/it]"
     ]
    },
    {
     "name": "stdout",
     "output_type": "stream",
     "text": [
      "Failed to download video from https://www.youtube.com/watch?v=eXpXg4q-qEQ&t=170s. Reason: eXpXg4q-qEQ is age restricted, and can't be accessed without logging in.\n"
     ]
    },
    {
     "name": "stderr",
     "output_type": "stream",
     "text": [
      "\r",
      " 12%|████████                                                           | 1932/16054 [6:21:10<10:20:15,  2.64s/it]"
     ]
    },
    {
     "name": "stdout",
     "output_type": "stream",
     "text": [
      "Failed to download video from https://www.youtube.com/watch?v=eXpXg4q-qEQ&t=170s. Reason: eXpXg4q-qEQ is age restricted, and can't be accessed without logging in.\n"
     ]
    },
    {
     "name": "stderr",
     "output_type": "stream",
     "text": [
      "\r",
      " 12%|████████▏                                                           | 1933/16054 [6:21:12<9:24:54,  2.40s/it]"
     ]
    },
    {
     "name": "stdout",
     "output_type": "stream",
     "text": [
      "Failed to download video from https://www.youtube.com/watch?v=eXpXg4q-qEQ&t=170s. Reason: eXpXg4q-qEQ is age restricted, and can't be accessed without logging in.\n"
     ]
    },
    {
     "name": "stderr",
     "output_type": "stream",
     "text": [
      "\r",
      " 12%|████████▏                                                           | 1934/16054 [6:21:14<8:53:08,  2.27s/it]"
     ]
    },
    {
     "name": "stdout",
     "output_type": "stream",
     "text": [
      "Failed to download video from https://www.youtube.com/watch?v=eXpXg4q-qEQ&t=170s. Reason: eXpXg4q-qEQ is age restricted, and can't be accessed without logging in.\n"
     ]
    },
    {
     "name": "stderr",
     "output_type": "stream",
     "text": [
      "\r",
      " 12%|████████▏                                                           | 1935/16054 [6:21:16<8:42:39,  2.22s/it]"
     ]
    },
    {
     "name": "stdout",
     "output_type": "stream",
     "text": [
      "Failed to download video from https://www.youtube.com/watch?v=eXpXg4q-qEQ&t=170s. Reason: eXpXg4q-qEQ is age restricted, and can't be accessed without logging in.\n"
     ]
    },
    {
     "name": "stderr",
     "output_type": "stream",
     "text": [
      "\r",
      " 12%|████████▏                                                           | 1936/16054 [6:21:18<8:13:36,  2.10s/it]"
     ]
    },
    {
     "name": "stdout",
     "output_type": "stream",
     "text": [
      "Failed to download video from https://www.youtube.com/watch?v=eXpXg4q-qEQ&t=170s. Reason: eXpXg4q-qEQ is age restricted, and can't be accessed without logging in.\n"
     ]
    },
    {
     "name": "stderr",
     "output_type": "stream",
     "text": [
      "\r",
      " 12%|████████▏                                                           | 1937/16054 [6:21:20<8:44:35,  2.23s/it]"
     ]
    },
    {
     "name": "stdout",
     "output_type": "stream",
     "text": [
      "Failed to download video from https://www.youtube.com/watch?v=eXpXg4q-qEQ&t=170s. Reason: eXpXg4q-qEQ is age restricted, and can't be accessed without logging in.\n"
     ]
    },
    {
     "name": "stderr",
     "output_type": "stream",
     "text": [
      "\r",
      " 12%|████████▏                                                           | 1938/16054 [6:21:22<8:15:03,  2.10s/it]"
     ]
    },
    {
     "name": "stdout",
     "output_type": "stream",
     "text": [
      "Failed to download video from https://www.youtube.com/watch?v=eXpXg4q-qEQ&t=170s. Reason: eXpXg4q-qEQ is age restricted, and can't be accessed without logging in.\n"
     ]
    },
    {
     "name": "stderr",
     "output_type": "stream",
     "text": [
      "\r",
      " 12%|████████▏                                                           | 1939/16054 [6:21:24<8:01:06,  2.05s/it]"
     ]
    },
    {
     "name": "stdout",
     "output_type": "stream",
     "text": [
      "Failed to download video from https://www.youtube.com/watch?v=eXpXg4q-qEQ&t=170s. Reason: eXpXg4q-qEQ is age restricted, and can't be accessed without logging in.\n"
     ]
    },
    {
     "name": "stderr",
     "output_type": "stream",
     "text": [
      "\r",
      " 12%|████████▏                                                           | 1940/16054 [6:21:26<8:28:07,  2.16s/it]"
     ]
    },
    {
     "name": "stdout",
     "output_type": "stream",
     "text": [
      "Failed to download video from https://www.youtube.com/watch?v=eXpXg4q-qEQ&t=170s. Reason: eXpXg4q-qEQ is age restricted, and can't be accessed without logging in.\n"
     ]
    },
    {
     "name": "stderr",
     "output_type": "stream",
     "text": [
      "\r",
      " 12%|████████▏                                                           | 1941/16054 [6:21:28<8:07:20,  2.07s/it]"
     ]
    },
    {
     "name": "stdout",
     "output_type": "stream",
     "text": [
      "Failed to download video from https://www.youtube.com/watch?v=eXpXg4q-qEQ&t=170s. Reason: eXpXg4q-qEQ is age restricted, and can't be accessed without logging in.\n"
     ]
    },
    {
     "name": "stderr",
     "output_type": "stream",
     "text": [
      "\r",
      " 12%|████████▏                                                           | 1942/16054 [6:21:30<7:55:11,  2.02s/it]"
     ]
    },
    {
     "name": "stdout",
     "output_type": "stream",
     "text": [
      "Failed to download video from https://www.youtube.com/watch?v=eXpXg4q-qEQ&t=170s. Reason: eXpXg4q-qEQ is age restricted, and can't be accessed without logging in.\n"
     ]
    },
    {
     "name": "stderr",
     "output_type": "stream",
     "text": [
      "\r",
      " 12%|████████▏                                                           | 1943/16054 [6:21:32<8:21:04,  2.13s/it]"
     ]
    },
    {
     "name": "stdout",
     "output_type": "stream",
     "text": [
      "Failed to download video from https://www.youtube.com/watch?v=eXpXg4q-qEQ&t=170s. Reason: eXpXg4q-qEQ is age restricted, and can't be accessed without logging in.\n"
     ]
    },
    {
     "name": "stderr",
     "output_type": "stream",
     "text": [
      "\r",
      " 12%|████████▏                                                           | 1944/16054 [6:21:34<8:02:52,  2.05s/it]"
     ]
    },
    {
     "name": "stdout",
     "output_type": "stream",
     "text": [
      "Failed to download video from https://www.youtube.com/watch?v=eXpXg4q-qEQ&t=170s. Reason: eXpXg4q-qEQ is age restricted, and can't be accessed without logging in.\n"
     ]
    },
    {
     "name": "stderr",
     "output_type": "stream",
     "text": [
      "\r",
      " 12%|████████▏                                                           | 1945/16054 [6:21:36<7:57:37,  2.03s/it]"
     ]
    },
    {
     "name": "stdout",
     "output_type": "stream",
     "text": [
      "Failed to download video from https://www.youtube.com/watch?v=eXpXg4q-qEQ&t=170s. Reason: eXpXg4q-qEQ is age restricted, and can't be accessed without logging in.\n"
     ]
    },
    {
     "name": "stderr",
     "output_type": "stream",
     "text": [
      "\r",
      " 12%|████████▏                                                           | 1946/16054 [6:21:38<7:57:34,  2.03s/it]"
     ]
    },
    {
     "name": "stdout",
     "output_type": "stream",
     "text": [
      "Failed to download video from https://www.youtube.com/watch?v=eXpXg4q-qEQ&t=170s. Reason: eXpXg4q-qEQ is age restricted, and can't be accessed without logging in.\n"
     ]
    },
    {
     "name": "stderr",
     "output_type": "stream",
     "text": [
      "\r",
      " 12%|████████▏                                                           | 1947/16054 [6:21:40<7:45:51,  1.98s/it]"
     ]
    },
    {
     "name": "stdout",
     "output_type": "stream",
     "text": [
      "Failed to download video from https://www.youtube.com/watch?v=eXpXg4q-qEQ&t=170s. Reason: eXpXg4q-qEQ is age restricted, and can't be accessed without logging in.\n"
     ]
    },
    {
     "name": "stderr",
     "output_type": "stream",
     "text": [
      "\r",
      " 12%|████████▎                                                           | 1948/16054 [6:21:42<7:30:41,  1.92s/it]"
     ]
    },
    {
     "name": "stdout",
     "output_type": "stream",
     "text": [
      "Failed to download video from https://www.youtube.com/watch?v=eXpXg4q-qEQ&t=170s. Reason: eXpXg4q-qEQ is age restricted, and can't be accessed without logging in.\n"
     ]
    },
    {
     "name": "stderr",
     "output_type": "stream",
     "text": [
      "\r",
      " 12%|████████▎                                                           | 1949/16054 [6:21:44<7:23:40,  1.89s/it]"
     ]
    },
    {
     "name": "stdout",
     "output_type": "stream",
     "text": [
      "Failed to download video from https://www.youtube.com/watch?v=eXpXg4q-qEQ&t=170s. Reason: eXpXg4q-qEQ is age restricted, and can't be accessed without logging in.\n"
     ]
    },
    {
     "name": "stderr",
     "output_type": "stream",
     "text": [
      "\r",
      " 12%|████████▎                                                           | 1950/16054 [6:21:45<7:13:47,  1.85s/it]"
     ]
    },
    {
     "name": "stdout",
     "output_type": "stream",
     "text": [
      "Failed to download video from https://www.youtube.com/watch?v=eXpXg4q-qEQ&t=170s. Reason: eXpXg4q-qEQ is age restricted, and can't be accessed without logging in.\n"
     ]
    },
    {
     "name": "stderr",
     "output_type": "stream",
     "text": [
      "\r",
      " 12%|████████▎                                                           | 1951/16054 [6:21:47<7:08:41,  1.82s/it]"
     ]
    },
    {
     "name": "stdout",
     "output_type": "stream",
     "text": [
      "Failed to download video from https://www.youtube.com/watch?v=eXpXg4q-qEQ&t=170s. Reason: eXpXg4q-qEQ is age restricted, and can't be accessed without logging in.\n"
     ]
    },
    {
     "name": "stderr",
     "output_type": "stream",
     "text": [
      "\r",
      " 12%|████████▎                                                           | 1952/16054 [6:21:49<6:59:17,  1.78s/it]"
     ]
    },
    {
     "name": "stdout",
     "output_type": "stream",
     "text": [
      "Failed to download video from https://www.youtube.com/watch?v=eXpXg4q-qEQ&t=170s. Reason: eXpXg4q-qEQ is age restricted, and can't be accessed without logging in.\n"
     ]
    },
    {
     "name": "stderr",
     "output_type": "stream",
     "text": [
      "\r",
      " 12%|████████▎                                                           | 1953/16054 [6:21:51<7:00:15,  1.79s/it]"
     ]
    },
    {
     "name": "stdout",
     "output_type": "stream",
     "text": [
      "Failed to download video from https://www.youtube.com/watch?v=eXpXg4q-qEQ&t=170s. Reason: eXpXg4q-qEQ is age restricted, and can't be accessed without logging in.\n"
     ]
    },
    {
     "name": "stderr",
     "output_type": "stream",
     "text": [
      "\r",
      " 12%|████████▎                                                           | 1954/16054 [6:21:53<6:58:57,  1.78s/it]"
     ]
    },
    {
     "name": "stdout",
     "output_type": "stream",
     "text": [
      "Failed to download video from https://www.youtube.com/watch?v=eXpXg4q-qEQ&t=170s. Reason: eXpXg4q-qEQ is age restricted, and can't be accessed without logging in.\n"
     ]
    },
    {
     "name": "stderr",
     "output_type": "stream",
     "text": [
      "\r",
      " 12%|████████▎                                                           | 1955/16054 [6:21:54<7:06:30,  1.82s/it]"
     ]
    },
    {
     "name": "stdout",
     "output_type": "stream",
     "text": [
      "Failed to download video from https://www.youtube.com/watch?v=eXpXg4q-qEQ&t=170s. Reason: eXpXg4q-qEQ is age restricted, and can't be accessed without logging in.\n"
     ]
    },
    {
     "name": "stderr",
     "output_type": "stream",
     "text": [
      "\r",
      " 12%|████████▎                                                           | 1956/16054 [6:21:57<7:59:05,  2.04s/it]"
     ]
    },
    {
     "name": "stdout",
     "output_type": "stream",
     "text": [
      "Failed to download video from https://www.youtube.com/watch?v=eXpXg4q-qEQ&t=170s. Reason: eXpXg4q-qEQ is age restricted, and can't be accessed without logging in.\n"
     ]
    },
    {
     "name": "stderr",
     "output_type": "stream",
     "text": [
      "\r",
      " 12%|████████▎                                                           | 1957/16054 [6:21:59<7:52:54,  2.01s/it]"
     ]
    },
    {
     "name": "stdout",
     "output_type": "stream",
     "text": [
      "Failed to download video from https://www.youtube.com/watch?v=eXpXg4q-qEQ&t=170s. Reason: eXpXg4q-qEQ is age restricted, and can't be accessed without logging in.\n"
     ]
    },
    {
     "name": "stderr",
     "output_type": "stream",
     "text": [
      "\r",
      " 12%|████████▎                                                           | 1958/16054 [6:22:01<7:37:23,  1.95s/it]"
     ]
    },
    {
     "name": "stdout",
     "output_type": "stream",
     "text": [
      "Failed to download video from https://www.youtube.com/watch?v=eXpXg4q-qEQ&t=170s. Reason: eXpXg4q-qEQ is age restricted, and can't be accessed without logging in.\n"
     ]
    },
    {
     "name": "stderr",
     "output_type": "stream",
     "text": [
      "\r",
      " 12%|████████▎                                                           | 1959/16054 [6:22:03<7:46:52,  1.99s/it]"
     ]
    },
    {
     "name": "stdout",
     "output_type": "stream",
     "text": [
      "Failed to download video from https://www.youtube.com/watch?v=eXpXg4q-qEQ&t=170s. Reason: eXpXg4q-qEQ is age restricted, and can't be accessed without logging in.\n"
     ]
    },
    {
     "name": "stderr",
     "output_type": "stream",
     "text": [
      "\r",
      " 12%|████████▎                                                           | 1960/16054 [6:22:05<7:44:24,  1.98s/it]"
     ]
    },
    {
     "name": "stdout",
     "output_type": "stream",
     "text": [
      "Failed to download video from https://www.youtube.com/watch?v=eXpXg4q-qEQ&t=170s. Reason: eXpXg4q-qEQ is age restricted, and can't be accessed without logging in.\n"
     ]
    },
    {
     "name": "stderr",
     "output_type": "stream",
     "text": [
      "\r",
      " 12%|████████▎                                                           | 1961/16054 [6:22:07<7:38:11,  1.95s/it]"
     ]
    },
    {
     "name": "stdout",
     "output_type": "stream",
     "text": [
      "Failed to download video from https://www.youtube.com/watch?v=eXpXg4q-qEQ&t=170s. Reason: eXpXg4q-qEQ is age restricted, and can't be accessed without logging in.\n"
     ]
    },
    {
     "name": "stderr",
     "output_type": "stream",
     "text": [
      "\r",
      " 12%|████████▎                                                           | 1962/16054 [6:22:09<7:36:18,  1.94s/it]"
     ]
    },
    {
     "name": "stdout",
     "output_type": "stream",
     "text": [
      "Failed to download video from https://www.youtube.com/watch?v=eXpXg4q-qEQ&t=170s. Reason: eXpXg4q-qEQ is age restricted, and can't be accessed without logging in.\n"
     ]
    },
    {
     "name": "stderr",
     "output_type": "stream",
     "text": [
      "\r",
      " 12%|████████▎                                                           | 1963/16054 [6:22:11<7:37:33,  1.95s/it]"
     ]
    },
    {
     "name": "stdout",
     "output_type": "stream",
     "text": [
      "Failed to download video from https://www.youtube.com/watch?v=eXpXg4q-qEQ&t=170s. Reason: eXpXg4q-qEQ is age restricted, and can't be accessed without logging in.\n"
     ]
    },
    {
     "name": "stderr",
     "output_type": "stream",
     "text": [
      "\r",
      " 12%|████████▎                                                           | 1964/16054 [6:22:13<7:41:19,  1.96s/it]"
     ]
    },
    {
     "name": "stdout",
     "output_type": "stream",
     "text": [
      "Failed to download video from https://www.youtube.com/watch?v=eXpXg4q-qEQ&t=170s. Reason: eXpXg4q-qEQ is age restricted, and can't be accessed without logging in.\n"
     ]
    },
    {
     "name": "stderr",
     "output_type": "stream",
     "text": [
      "\r",
      " 12%|████████▎                                                           | 1965/16054 [6:22:15<8:28:36,  2.17s/it]"
     ]
    },
    {
     "name": "stdout",
     "output_type": "stream",
     "text": [
      "Failed to download video from https://www.youtube.com/watch?v=eXpXg4q-qEQ&t=170s. Reason: eXpXg4q-qEQ is age restricted, and can't be accessed without logging in.\n"
     ]
    },
    {
     "name": "stderr",
     "output_type": "stream",
     "text": [
      "\r",
      " 12%|████████▎                                                           | 1966/16054 [6:22:17<8:06:58,  2.07s/it]"
     ]
    },
    {
     "name": "stdout",
     "output_type": "stream",
     "text": [
      "Failed to download video from https://www.youtube.com/watch?v=eXpXg4q-qEQ&t=170s. Reason: eXpXg4q-qEQ is age restricted, and can't be accessed without logging in.\n"
     ]
    },
    {
     "name": "stderr",
     "output_type": "stream",
     "text": [
      "\r",
      " 12%|████████▎                                                           | 1967/16054 [6:22:19<8:06:30,  2.07s/it]"
     ]
    },
    {
     "name": "stdout",
     "output_type": "stream",
     "text": [
      "Failed to download video from https://www.youtube.com/watch?v=eXpXg4q-qEQ&t=170s. Reason: eXpXg4q-qEQ is age restricted, and can't be accessed without logging in.\n"
     ]
    },
    {
     "name": "stderr",
     "output_type": "stream",
     "text": [
      "\r",
      " 12%|████████▎                                                           | 1968/16054 [6:22:21<7:55:02,  2.02s/it]"
     ]
    },
    {
     "name": "stdout",
     "output_type": "stream",
     "text": [
      "Failed to download video from https://www.youtube.com/watch?v=eXpXg4q-qEQ&t=170s. Reason: eXpXg4q-qEQ is age restricted, and can't be accessed without logging in.\n"
     ]
    },
    {
     "name": "stderr",
     "output_type": "stream",
     "text": [
      "\r",
      " 12%|████████▏                                                          | 1969/16054 [6:22:25<10:18:18,  2.63s/it]"
     ]
    },
    {
     "name": "stdout",
     "output_type": "stream",
     "text": [
      "Failed to download video from https://www.youtube.com/watch?v=eXpXg4q-qEQ&t=170s. Reason: eXpXg4q-qEQ is age restricted, and can't be accessed without logging in.\n"
     ]
    },
    {
     "name": "stderr",
     "output_type": "stream",
     "text": [
      "\r",
      " 12%|████████▎                                                           | 1970/16054 [6:22:27<9:34:42,  2.45s/it]"
     ]
    },
    {
     "name": "stdout",
     "output_type": "stream",
     "text": [
      "Failed to download video from https://www.youtube.com/watch?v=eXpXg4q-qEQ&t=170s. Reason: eXpXg4q-qEQ is age restricted, and can't be accessed without logging in.\n"
     ]
    },
    {
     "name": "stderr",
     "output_type": "stream",
     "text": [
      "\r",
      " 12%|████████▎                                                           | 1971/16054 [6:22:30<9:39:57,  2.47s/it]"
     ]
    },
    {
     "name": "stdout",
     "output_type": "stream",
     "text": [
      "Failed to download video from https://www.youtube.com/watch?v=eXpXg4q-qEQ&t=170s. Reason: eXpXg4q-qEQ is age restricted, and can't be accessed without logging in.\n"
     ]
    },
    {
     "name": "stderr",
     "output_type": "stream",
     "text": [
      "\r",
      " 12%|████████▎                                                           | 1972/16054 [6:22:31<8:53:05,  2.27s/it]"
     ]
    },
    {
     "name": "stdout",
     "output_type": "stream",
     "text": [
      "Failed to download video from https://www.youtube.com/watch?v=eXpXg4q-qEQ&t=170s. Reason: eXpXg4q-qEQ is age restricted, and can't be accessed without logging in.\n"
     ]
    },
    {
     "name": "stderr",
     "output_type": "stream",
     "text": [
      "\r",
      " 12%|████████▎                                                           | 1973/16054 [6:22:33<8:17:07,  2.12s/it]"
     ]
    },
    {
     "name": "stdout",
     "output_type": "stream",
     "text": [
      "Failed to download video from https://www.youtube.com/watch?v=eXpXg4q-qEQ&t=170s. Reason: eXpXg4q-qEQ is age restricted, and can't be accessed without logging in.\n"
     ]
    },
    {
     "name": "stderr",
     "output_type": "stream",
     "text": [
      "\r",
      " 12%|████████▎                                                           | 1974/16054 [6:22:35<8:16:42,  2.12s/it]"
     ]
    },
    {
     "name": "stdout",
     "output_type": "stream",
     "text": [
      "Failed to download video from https://www.youtube.com/watch?v=eXpXg4q-qEQ&t=170s. Reason: eXpXg4q-qEQ is age restricted, and can't be accessed without logging in.\n"
     ]
    },
    {
     "name": "stderr",
     "output_type": "stream",
     "text": [
      "\r",
      " 12%|████████▎                                                           | 1975/16054 [6:22:37<7:56:41,  2.03s/it]"
     ]
    },
    {
     "name": "stdout",
     "output_type": "stream",
     "text": [
      "Failed to download video from https://www.youtube.com/watch?v=eXpXg4q-qEQ&t=170s. Reason: eXpXg4q-qEQ is age restricted, and can't be accessed without logging in.\n"
     ]
    },
    {
     "name": "stderr",
     "output_type": "stream",
     "text": [
      "\r",
      " 12%|████████▎                                                           | 1976/16054 [6:22:39<8:05:59,  2.07s/it]"
     ]
    },
    {
     "name": "stdout",
     "output_type": "stream",
     "text": [
      "Failed to download video from https://www.youtube.com/watch?v=eXpXg4q-qEQ&t=170s. Reason: eXpXg4q-qEQ is age restricted, and can't be accessed without logging in.\n"
     ]
    },
    {
     "name": "stderr",
     "output_type": "stream",
     "text": [
      " 13%|████████▍                                                          | 2015/16054 [6:27:21<14:43:17,  3.78s/it]"
     ]
    },
    {
     "name": "stdout",
     "output_type": "stream",
     "text": [
      "Failed to download video from https://www.youtube.com/watch?v=wrOliz8PMCA. Reason: wrOliz8PMCA is a private video\n"
     ]
    },
    {
     "name": "stderr",
     "output_type": "stream",
     "text": [
      "\r",
      " 13%|████████▍                                                          | 2016/16054 [6:27:22<11:22:54,  2.92s/it]"
     ]
    },
    {
     "name": "stdout",
     "output_type": "stream",
     "text": [
      "Failed to download video from https://www.youtube.com/watch?v=wrOliz8PMCA. Reason: wrOliz8PMCA is a private video\n"
     ]
    },
    {
     "name": "stderr",
     "output_type": "stream",
     "text": [
      "\r",
      " 13%|████████▌                                                           | 2017/16054 [6:27:23<9:07:46,  2.34s/it]"
     ]
    },
    {
     "name": "stdout",
     "output_type": "stream",
     "text": [
      "Failed to download video from https://www.youtube.com/watch?v=wrOliz8PMCA. Reason: wrOliz8PMCA is a private video\n"
     ]
    },
    {
     "name": "stderr",
     "output_type": "stream",
     "text": [
      "\r",
      " 13%|████████▌                                                           | 2018/16054 [6:27:25<8:36:09,  2.21s/it]"
     ]
    },
    {
     "name": "stdout",
     "output_type": "stream",
     "text": [
      "Failed to download video from https://www.youtube.com/watch?v=428LiWU0NCY. Reason: 428LiWU0NCY is age restricted, and can't be accessed without logging in.\n"
     ]
    },
    {
     "name": "stderr",
     "output_type": "stream",
     "text": [
      "\r",
      " 13%|████████▌                                                           | 2019/16054 [6:27:26<8:05:51,  2.08s/it]"
     ]
    },
    {
     "name": "stdout",
     "output_type": "stream",
     "text": [
      "Failed to download video from https://www.youtube.com/watch?v=428LiWU0NCY. Reason: 428LiWU0NCY is age restricted, and can't be accessed without logging in.\n"
     ]
    },
    {
     "name": "stderr",
     "output_type": "stream",
     "text": [
      " 13%|████████▌                                                          | 2049/16054 [6:30:49<15:14:51,  3.92s/it]"
     ]
    },
    {
     "name": "stdout",
     "output_type": "stream",
     "text": [
      "Failed to download video from https://www.youtube.com/watch?v=w3wr6OOWMh0. Reason: w3wr6OOWMh0 is unavailable\n"
     ]
    },
    {
     "name": "stderr",
     "output_type": "stream",
     "text": [
      "\r",
      " 13%|████████▌                                                          | 2050/16054 [6:30:50<11:48:53,  3.04s/it]"
     ]
    },
    {
     "name": "stdout",
     "output_type": "stream",
     "text": [
      "Failed to download video from https://www.youtube.com/watch?v=w3wr6OOWMh0. Reason: w3wr6OOWMh0 is unavailable\n"
     ]
    },
    {
     "name": "stderr",
     "output_type": "stream",
     "text": [
      " 13%|████████▋                                                          | 2071/16054 [6:32:18<12:25:06,  3.20s/it]"
     ]
    },
    {
     "name": "stdout",
     "output_type": "stream",
     "text": [
      "Failed to download video from https://www.youtube.com/watch?v=_y7n7ttUN0Y. Reason: _y7n7ttUN0Y is unavailable\n"
     ]
    },
    {
     "name": "stderr",
     "output_type": "stream",
     "text": [
      "\r",
      " 13%|████████▊                                                           | 2072/16054 [6:32:19<9:59:45,  2.57s/it]"
     ]
    },
    {
     "name": "stdout",
     "output_type": "stream",
     "text": [
      "Failed to download video from https://www.youtube.com/watch?v=_y7n7ttUN0Y. Reason: _y7n7ttUN0Y is unavailable\n"
     ]
    },
    {
     "name": "stderr",
     "output_type": "stream",
     "text": [
      "\r",
      " 13%|████████▊                                                           | 2073/16054 [6:32:20<8:08:04,  2.09s/it]"
     ]
    },
    {
     "name": "stdout",
     "output_type": "stream",
     "text": [
      "Failed to download video from https://www.youtube.com/watch?v=_y7n7ttUN0Y. Reason: _y7n7ttUN0Y is unavailable\n"
     ]
    },
    {
     "name": "stderr",
     "output_type": "stream",
     "text": [
      "\r",
      " 13%|████████▊                                                           | 2074/16054 [6:32:22<7:38:32,  1.97s/it]"
     ]
    },
    {
     "name": "stdout",
     "output_type": "stream",
     "text": [
      "Failed to download video from https://www.youtube.com/watch?v=_y7n7ttUN0Y. Reason: _y7n7ttUN0Y is unavailable\n"
     ]
    },
    {
     "name": "stderr",
     "output_type": "stream",
     "text": [
      "\r",
      " 13%|████████▊                                                           | 2075/16054 [6:32:23<6:33:21,  1.69s/it]"
     ]
    },
    {
     "name": "stdout",
     "output_type": "stream",
     "text": [
      "Failed to download video from https://www.youtube.com/watch?v=_y7n7ttUN0Y. Reason: _y7n7ttUN0Y is unavailable\n"
     ]
    },
    {
     "name": "stderr",
     "output_type": "stream",
     "text": [
      "\r",
      " 13%|████████▊                                                           | 2076/16054 [6:32:24<5:40:57,  1.46s/it]"
     ]
    },
    {
     "name": "stdout",
     "output_type": "stream",
     "text": [
      "Failed to download video from https://www.youtube.com/watch?v=_y7n7ttUN0Y. Reason: _y7n7ttUN0Y is unavailable\n"
     ]
    },
    {
     "name": "stderr",
     "output_type": "stream",
     "text": [
      "\r",
      " 13%|████████▊                                                           | 2077/16054 [6:32:25<5:10:37,  1.33s/it]"
     ]
    },
    {
     "name": "stdout",
     "output_type": "stream",
     "text": [
      "Failed to download video from https://www.youtube.com/watch?v=_y7n7ttUN0Y. Reason: _y7n7ttUN0Y is unavailable\n"
     ]
    },
    {
     "name": "stderr",
     "output_type": "stream",
     "text": [
      "\r",
      " 13%|████████▊                                                           | 2078/16054 [6:32:26<4:55:53,  1.27s/it]"
     ]
    },
    {
     "name": "stdout",
     "output_type": "stream",
     "text": [
      "Failed to download video from https://www.youtube.com/watch?v=_y7n7ttUN0Y. Reason: _y7n7ttUN0Y is unavailable\n"
     ]
    },
    {
     "name": "stderr",
     "output_type": "stream",
     "text": [
      "\r",
      " 13%|████████▊                                                           | 2079/16054 [6:32:27<4:46:10,  1.23s/it]"
     ]
    },
    {
     "name": "stdout",
     "output_type": "stream",
     "text": [
      "Failed to download video from https://www.youtube.com/watch?v=_y7n7ttUN0Y. Reason: _y7n7ttUN0Y is unavailable\n"
     ]
    },
    {
     "name": "stderr",
     "output_type": "stream",
     "text": [
      "\r",
      " 13%|████████▊                                                           | 2080/16054 [6:32:28<4:33:36,  1.17s/it]"
     ]
    },
    {
     "name": "stdout",
     "output_type": "stream",
     "text": [
      "Failed to download video from https://www.youtube.com/watch?v=_y7n7ttUN0Y. Reason: _y7n7ttUN0Y is unavailable\n"
     ]
    },
    {
     "name": "stderr",
     "output_type": "stream",
     "text": [
      "\r",
      " 13%|████████▊                                                           | 2081/16054 [6:32:29<4:24:32,  1.14s/it]"
     ]
    },
    {
     "name": "stdout",
     "output_type": "stream",
     "text": [
      "Failed to download video from https://www.youtube.com/watch?v=_y7n7ttUN0Y. Reason: _y7n7ttUN0Y is unavailable\n"
     ]
    },
    {
     "name": "stderr",
     "output_type": "stream",
     "text": [
      "\r",
      " 13%|████████▊                                                           | 2082/16054 [6:32:30<4:22:16,  1.13s/it]"
     ]
    },
    {
     "name": "stdout",
     "output_type": "stream",
     "text": [
      "Failed to download video from https://www.youtube.com/watch?v=_y7n7ttUN0Y. Reason: _y7n7ttUN0Y is unavailable\n"
     ]
    },
    {
     "name": "stderr",
     "output_type": "stream",
     "text": [
      "\r",
      " 13%|████████▊                                                           | 2083/16054 [6:32:31<4:11:46,  1.08s/it]"
     ]
    },
    {
     "name": "stdout",
     "output_type": "stream",
     "text": [
      "Failed to download video from https://www.youtube.com/watch?v=_y7n7ttUN0Y. Reason: _y7n7ttUN0Y is unavailable\n"
     ]
    },
    {
     "name": "stderr",
     "output_type": "stream",
     "text": [
      "\r",
      " 13%|████████▊                                                           | 2084/16054 [6:32:32<4:04:44,  1.05s/it]"
     ]
    },
    {
     "name": "stdout",
     "output_type": "stream",
     "text": [
      "Failed to download video from https://www.youtube.com/watch?v=_y7n7ttUN0Y. Reason: _y7n7ttUN0Y is unavailable\n"
     ]
    },
    {
     "name": "stderr",
     "output_type": "stream",
     "text": [
      "\r",
      " 13%|████████▊                                                           | 2085/16054 [6:32:33<4:07:32,  1.06s/it]"
     ]
    },
    {
     "name": "stdout",
     "output_type": "stream",
     "text": [
      "Failed to download video from https://www.youtube.com/watch?v=_y7n7ttUN0Y. Reason: _y7n7ttUN0Y is unavailable\n"
     ]
    },
    {
     "name": "stderr",
     "output_type": "stream",
     "text": [
      "\r",
      " 13%|████████▊                                                           | 2086/16054 [6:32:34<4:08:19,  1.07s/it]"
     ]
    },
    {
     "name": "stdout",
     "output_type": "stream",
     "text": [
      "Failed to download video from https://www.youtube.com/watch?v=_y7n7ttUN0Y. Reason: _y7n7ttUN0Y is unavailable\n"
     ]
    },
    {
     "name": "stderr",
     "output_type": "stream",
     "text": [
      "\r",
      " 13%|████████▊                                                           | 2087/16054 [6:32:35<4:06:21,  1.06s/it]"
     ]
    },
    {
     "name": "stdout",
     "output_type": "stream",
     "text": [
      "Failed to download video from https://www.youtube.com/watch?v=_y7n7ttUN0Y. Reason: _y7n7ttUN0Y is unavailable\n"
     ]
    },
    {
     "name": "stderr",
     "output_type": "stream",
     "text": [
      "\r",
      " 13%|████████▊                                                           | 2088/16054 [6:32:36<4:01:42,  1.04s/it]"
     ]
    },
    {
     "name": "stdout",
     "output_type": "stream",
     "text": [
      "Failed to download video from https://www.youtube.com/watch?v=_y7n7ttUN0Y. Reason: _y7n7ttUN0Y is unavailable\n"
     ]
    },
    {
     "name": "stderr",
     "output_type": "stream",
     "text": [
      "\r",
      " 13%|████████▊                                                           | 2089/16054 [6:32:37<4:05:51,  1.06s/it]"
     ]
    },
    {
     "name": "stdout",
     "output_type": "stream",
     "text": [
      "Failed to download video from https://www.youtube.com/watch?v=_y7n7ttUN0Y. Reason: _y7n7ttUN0Y is unavailable\n"
     ]
    },
    {
     "name": "stderr",
     "output_type": "stream",
     "text": [
      "\r",
      " 13%|████████▊                                                           | 2090/16054 [6:32:39<4:02:35,  1.04s/it]"
     ]
    },
    {
     "name": "stdout",
     "output_type": "stream",
     "text": [
      "Failed to download video from https://www.youtube.com/watch?v=_y7n7ttUN0Y. Reason: _y7n7ttUN0Y is unavailable\n"
     ]
    },
    {
     "name": "stderr",
     "output_type": "stream",
     "text": [
      "\r",
      " 13%|████████▊                                                           | 2091/16054 [6:32:40<4:01:48,  1.04s/it]"
     ]
    },
    {
     "name": "stdout",
     "output_type": "stream",
     "text": [
      "Failed to download video from https://www.youtube.com/watch?v=_y7n7ttUN0Y. Reason: _y7n7ttUN0Y is unavailable\n"
     ]
    },
    {
     "name": "stderr",
     "output_type": "stream",
     "text": [
      "\r",
      " 13%|████████▊                                                           | 2092/16054 [6:32:41<4:03:05,  1.04s/it]"
     ]
    },
    {
     "name": "stdout",
     "output_type": "stream",
     "text": [
      "Failed to download video from https://www.youtube.com/watch?v=_y7n7ttUN0Y. Reason: _y7n7ttUN0Y is unavailable\n"
     ]
    },
    {
     "name": "stderr",
     "output_type": "stream",
     "text": [
      "\r",
      " 13%|████████▊                                                           | 2093/16054 [6:32:42<4:04:18,  1.05s/it]"
     ]
    },
    {
     "name": "stdout",
     "output_type": "stream",
     "text": [
      "Failed to download video from https://www.youtube.com/watch?v=_y7n7ttUN0Y. Reason: _y7n7ttUN0Y is unavailable\n"
     ]
    },
    {
     "name": "stderr",
     "output_type": "stream",
     "text": [
      "\r",
      " 13%|████████▊                                                           | 2094/16054 [6:32:43<4:03:11,  1.05s/it]"
     ]
    },
    {
     "name": "stdout",
     "output_type": "stream",
     "text": [
      "Failed to download video from https://www.youtube.com/watch?v=_y7n7ttUN0Y. Reason: _y7n7ttUN0Y is unavailable\n"
     ]
    },
    {
     "name": "stderr",
     "output_type": "stream",
     "text": [
      "\r",
      " 13%|████████▊                                                           | 2095/16054 [6:32:44<4:02:56,  1.04s/it]"
     ]
    },
    {
     "name": "stdout",
     "output_type": "stream",
     "text": [
      "Failed to download video from https://www.youtube.com/watch?v=_y7n7ttUN0Y. Reason: _y7n7ttUN0Y is unavailable\n"
     ]
    },
    {
     "name": "stderr",
     "output_type": "stream",
     "text": [
      "\r",
      " 13%|████████▉                                                           | 2096/16054 [6:32:45<4:13:28,  1.09s/it]"
     ]
    },
    {
     "name": "stdout",
     "output_type": "stream",
     "text": [
      "Failed to download video from https://www.youtube.com/watch?v=_y7n7ttUN0Y. Reason: _y7n7ttUN0Y is unavailable\n"
     ]
    },
    {
     "name": "stderr",
     "output_type": "stream",
     "text": [
      "\r",
      " 13%|████████▉                                                           | 2097/16054 [6:32:46<4:14:00,  1.09s/it]"
     ]
    },
    {
     "name": "stdout",
     "output_type": "stream",
     "text": [
      "Failed to download video from https://www.youtube.com/watch?v=_y7n7ttUN0Y. Reason: _y7n7ttUN0Y is unavailable\n"
     ]
    },
    {
     "name": "stderr",
     "output_type": "stream",
     "text": [
      "\r",
      " 13%|████████▉                                                           | 2098/16054 [6:32:47<4:01:28,  1.04s/it]"
     ]
    },
    {
     "name": "stdout",
     "output_type": "stream",
     "text": [
      "Failed to download video from https://www.youtube.com/watch?v=_y7n7ttUN0Y. Reason: _y7n7ttUN0Y is unavailable\n"
     ]
    },
    {
     "name": "stderr",
     "output_type": "stream",
     "text": [
      "\r",
      " 13%|████████▉                                                           | 2099/16054 [6:32:48<4:03:22,  1.05s/it]"
     ]
    },
    {
     "name": "stdout",
     "output_type": "stream",
     "text": [
      "Failed to download video from https://www.youtube.com/watch?v=_y7n7ttUN0Y. Reason: _y7n7ttUN0Y is unavailable\n"
     ]
    },
    {
     "name": "stderr",
     "output_type": "stream",
     "text": [
      "\r",
      " 13%|████████▉                                                           | 2100/16054 [6:32:49<4:01:46,  1.04s/it]"
     ]
    },
    {
     "name": "stdout",
     "output_type": "stream",
     "text": [
      "Failed to download video from https://www.youtube.com/watch?v=_y7n7ttUN0Y. Reason: _y7n7ttUN0Y is unavailable\n"
     ]
    },
    {
     "name": "stderr",
     "output_type": "stream",
     "text": [
      "\r",
      " 13%|████████▉                                                           | 2101/16054 [6:32:50<3:57:58,  1.02s/it]"
     ]
    },
    {
     "name": "stdout",
     "output_type": "stream",
     "text": [
      "Failed to download video from https://www.youtube.com/watch?v=_y7n7ttUN0Y. Reason: _y7n7ttUN0Y is unavailable\n"
     ]
    },
    {
     "name": "stderr",
     "output_type": "stream",
     "text": [
      "\r",
      " 13%|████████▉                                                           | 2102/16054 [6:32:51<4:00:10,  1.03s/it]"
     ]
    },
    {
     "name": "stdout",
     "output_type": "stream",
     "text": [
      "Failed to download video from https://www.youtube.com/watch?v=_y7n7ttUN0Y. Reason: _y7n7ttUN0Y is unavailable\n"
     ]
    },
    {
     "name": "stderr",
     "output_type": "stream",
     "text": [
      "\r",
      " 13%|████████▉                                                           | 2103/16054 [6:32:52<4:06:10,  1.06s/it]"
     ]
    },
    {
     "name": "stdout",
     "output_type": "stream",
     "text": [
      "Failed to download video from https://www.youtube.com/watch?v=_y7n7ttUN0Y. Reason: _y7n7ttUN0Y is unavailable\n"
     ]
    },
    {
     "name": "stderr",
     "output_type": "stream",
     "text": [
      "\r",
      " 13%|████████▉                                                           | 2104/16054 [6:32:53<3:59:54,  1.03s/it]"
     ]
    },
    {
     "name": "stdout",
     "output_type": "stream",
     "text": [
      "Failed to download video from https://www.youtube.com/watch?v=_y7n7ttUN0Y. Reason: _y7n7ttUN0Y is unavailable\n"
     ]
    },
    {
     "name": "stderr",
     "output_type": "stream",
     "text": [
      "\r",
      " 13%|████████▉                                                           | 2105/16054 [6:32:54<4:08:02,  1.07s/it]"
     ]
    },
    {
     "name": "stdout",
     "output_type": "stream",
     "text": [
      "Failed to download video from https://www.youtube.com/watch?v=_y7n7ttUN0Y. Reason: _y7n7ttUN0Y is unavailable\n"
     ]
    },
    {
     "name": "stderr",
     "output_type": "stream",
     "text": [
      " 13%|████████▉                                                          | 2144/16054 [6:41:35<94:49:22, 24.54s/it]"
     ]
    },
    {
     "name": "stdout",
     "output_type": "stream",
     "text": [
      "Failed to download video from https://www.youtube.com/watch?v=my4mxg6lXYQ. Reason: IncompleteRead(2045192 bytes read, 7391992 more expected)\n"
     ]
    },
    {
     "name": "stderr",
     "output_type": "stream",
     "text": [
      " 14%|█████████▏                                                         | 2196/16054 [6:56:13<24:09:41,  6.28s/it]"
     ]
    },
    {
     "name": "stdout",
     "output_type": "stream",
     "text": [
      "Failed to download video from www.youtube.com/watch?v=G7uBN68HfGo. Reason: G7uBN68HfGo is a private video\n"
     ]
    },
    {
     "name": "stderr",
     "output_type": "stream",
     "text": [
      " 14%|█████████▎                                                         | 2228/16054 [7:00:03<18:10:50,  4.73s/it]"
     ]
    },
    {
     "name": "stdout",
     "output_type": "stream",
     "text": [
      "Failed to download video from www.youtube.com/watch?v=jIWaE3ujmk4. Reason: jIWaE3ujmk4 is unavailable\n"
     ]
    },
    {
     "name": "stderr",
     "output_type": "stream",
     "text": [
      " 14%|█████████▎                                                         | 2234/16054 [7:00:34<16:36:03,  4.32s/it]"
     ]
    },
    {
     "name": "stdout",
     "output_type": "stream",
     "text": [
      "Failed to download video from www.youtube.com/watch?v=4t7_FlKNhx8. Reason: 4t7_FlKNhx8 is unavailable\n"
     ]
    },
    {
     "name": "stderr",
     "output_type": "stream",
     "text": [
      "\r",
      " 14%|█████████▎                                                         | 2235/16054 [7:00:35<12:44:58,  3.32s/it]"
     ]
    },
    {
     "name": "stdout",
     "output_type": "stream",
     "text": [
      "Failed to download video from www.youtube.com/watch?v=TLoZKdMeA8w. Reason: TLoZKdMeA8w is unavailable\n"
     ]
    },
    {
     "name": "stderr",
     "output_type": "stream",
     "text": [
      " 14%|█████████▎                                                         | 2239/16054 [7:00:52<12:42:55,  3.31s/it]"
     ]
    },
    {
     "name": "stdout",
     "output_type": "stream",
     "text": [
      "Failed to download video from www.youtube.com/watch?v=tf6WSHkS_Cg. Reason: tf6WSHkS_Cg is a private video\n"
     ]
    },
    {
     "name": "stderr",
     "output_type": "stream",
     "text": [
      "\r",
      " 14%|█████████▍                                                          | 2240/16054 [7:00:53<9:55:11,  2.59s/it]"
     ]
    },
    {
     "name": "stdout",
     "output_type": "stream",
     "text": [
      "Failed to download video from https://www.youtube.com/watch?v=f6Jd_HsdGQo. Reason: f6Jd_HsdGQo is unavailable\n"
     ]
    },
    {
     "name": "stderr",
     "output_type": "stream",
     "text": [
      "\r",
      " 14%|█████████▍                                                          | 2241/16054 [7:00:54<8:00:45,  2.09s/it]"
     ]
    },
    {
     "name": "stdout",
     "output_type": "stream",
     "text": [
      "Failed to download video from https://www.youtube.com/watch?v=f6Jd_HsdGQo. Reason: f6Jd_HsdGQo is unavailable\n"
     ]
    },
    {
     "name": "stderr",
     "output_type": "stream",
     "text": [
      " 14%|█████████▎                                                        | 2261/16054 [7:04:54<116:57:23, 30.53s/it]"
     ]
    },
    {
     "name": "stdout",
     "output_type": "stream",
     "text": [
      "Failed to download video from https://www.youtube.com/watch?v=a0OwnQEGBYs. Reason: <urlopen error [Errno 60] Operation timed out>\n"
     ]
    },
    {
     "name": "stderr",
     "output_type": "stream",
     "text": [
      " 14%|█████████▌                                                         | 2292/16054 [7:08:15<17:52:04,  4.67s/it]"
     ]
    },
    {
     "name": "stdout",
     "output_type": "stream",
     "text": [
      "Failed to download video from https://www.youtube.com/watch?v=5KKBhXD529E. Reason: 5KKBhXD529E is unavailable\n"
     ]
    },
    {
     "name": "stderr",
     "output_type": "stream",
     "text": [
      "\r",
      " 14%|█████████▌                                                         | 2293/16054 [7:08:16<13:33:36,  3.55s/it]"
     ]
    },
    {
     "name": "stdout",
     "output_type": "stream",
     "text": [
      "Failed to download video from https://www.youtube.com/watch?v=5KKBhXD529E. Reason: 5KKBhXD529E is unavailable\n"
     ]
    },
    {
     "name": "stderr",
     "output_type": "stream",
     "text": [
      " 15%|█████████▋                                                         | 2332/16054 [7:12:08<19:35:53,  5.14s/it]"
     ]
    },
    {
     "name": "stdout",
     "output_type": "stream",
     "text": [
      "Failed to download video from https://www.youtube.com/watch?v=IkdUvdBRIuc. Reason: IkdUvdBRIuc is unavailable\n"
     ]
    },
    {
     "name": "stderr",
     "output_type": "stream",
     "text": [
      " 15%|█████████▊                                                         | 2339/16054 [7:12:41<15:15:09,  4.00s/it]"
     ]
    },
    {
     "name": "stdout",
     "output_type": "stream",
     "text": [
      "Failed to download video from https://www.youtube.com/watch?v=xfVNJxKWqeg. Reason: xfVNJxKWqeg is unavailable\n"
     ]
    },
    {
     "name": "stderr",
     "output_type": "stream",
     "text": [
      "\r",
      " 15%|█████████▊                                                         | 2340/16054 [7:12:42<11:41:29,  3.07s/it]"
     ]
    },
    {
     "name": "stdout",
     "output_type": "stream",
     "text": [
      "Failed to download video from https://www.youtube.com/watch?v=xfVNJxKWqeg. Reason: xfVNJxKWqeg is unavailable\n"
     ]
    },
    {
     "name": "stderr",
     "output_type": "stream",
     "text": [
      "\r",
      " 15%|█████████▉                                                          | 2341/16054 [7:12:43<9:28:17,  2.49s/it]"
     ]
    },
    {
     "name": "stdout",
     "output_type": "stream",
     "text": [
      "Failed to download video from https://www.youtube.com/watch?v=xfVNJxKWqeg. Reason: xfVNJxKWqeg is unavailable\n"
     ]
    },
    {
     "name": "stderr",
     "output_type": "stream",
     "text": [
      "\r",
      " 15%|█████████▉                                                          | 2342/16054 [7:12:44<7:39:53,  2.01s/it]"
     ]
    },
    {
     "name": "stdout",
     "output_type": "stream",
     "text": [
      "Failed to download video from https://www.youtube.com/watch?v=xfVNJxKWqeg. Reason: xfVNJxKWqeg is unavailable\n"
     ]
    },
    {
     "name": "stderr",
     "output_type": "stream",
     "text": [
      "\r",
      " 15%|█████████▉                                                          | 2343/16054 [7:12:45<6:35:18,  1.73s/it]"
     ]
    },
    {
     "name": "stdout",
     "output_type": "stream",
     "text": [
      "Failed to download video from https://www.youtube.com/watch?v=xfVNJxKWqeg. Reason: xfVNJxKWqeg is unavailable\n"
     ]
    },
    {
     "name": "stderr",
     "output_type": "stream",
     "text": [
      "\r",
      " 15%|█████████▉                                                          | 2344/16054 [7:12:46<5:38:01,  1.48s/it]"
     ]
    },
    {
     "name": "stdout",
     "output_type": "stream",
     "text": [
      "Failed to download video from https://www.youtube.com/watch?v=xfVNJxKWqeg. Reason: xfVNJxKWqeg is unavailable\n"
     ]
    },
    {
     "name": "stderr",
     "output_type": "stream",
     "text": [
      "\r",
      " 15%|█████████▉                                                          | 2345/16054 [7:12:46<5:01:14,  1.32s/it]"
     ]
    },
    {
     "name": "stdout",
     "output_type": "stream",
     "text": [
      "Failed to download video from https://www.youtube.com/watch?v=xfVNJxKWqeg. Reason: xfVNJxKWqeg is unavailable\n"
     ]
    },
    {
     "name": "stderr",
     "output_type": "stream",
     "text": [
      "\r",
      " 15%|█████████▉                                                          | 2346/16054 [7:12:47<4:33:29,  1.20s/it]"
     ]
    },
    {
     "name": "stdout",
     "output_type": "stream",
     "text": [
      "Failed to download video from https://www.youtube.com/watch?v=xfVNJxKWqeg. Reason: xfVNJxKWqeg is unavailable\n"
     ]
    },
    {
     "name": "stderr",
     "output_type": "stream",
     "text": [
      "\r",
      " 15%|█████████▉                                                          | 2347/16054 [7:12:48<4:09:39,  1.09s/it]"
     ]
    },
    {
     "name": "stdout",
     "output_type": "stream",
     "text": [
      "Failed to download video from https://www.youtube.com/watch?v=xfVNJxKWqeg. Reason: xfVNJxKWqeg is unavailable\n"
     ]
    },
    {
     "name": "stderr",
     "output_type": "stream",
     "text": [
      "\r",
      " 15%|█████████▉                                                          | 2348/16054 [7:12:49<3:54:16,  1.03s/it]"
     ]
    },
    {
     "name": "stdout",
     "output_type": "stream",
     "text": [
      "Failed to download video from https://www.youtube.com/watch?v=xfVNJxKWqeg. Reason: xfVNJxKWqeg is unavailable\n"
     ]
    },
    {
     "name": "stderr",
     "output_type": "stream",
     "text": [
      "\r",
      " 15%|█████████▉                                                          | 2349/16054 [7:12:50<3:42:35,  1.03it/s]"
     ]
    },
    {
     "name": "stdout",
     "output_type": "stream",
     "text": [
      "Failed to download video from https://www.youtube.com/watch?v=xfVNJxKWqeg. Reason: xfVNJxKWqeg is unavailable\n"
     ]
    },
    {
     "name": "stderr",
     "output_type": "stream",
     "text": [
      "\r",
      " 15%|█████████▉                                                          | 2350/16054 [7:12:51<3:37:20,  1.05it/s]"
     ]
    },
    {
     "name": "stdout",
     "output_type": "stream",
     "text": [
      "Failed to download video from https://www.youtube.com/watch?v=xfVNJxKWqeg. Reason: xfVNJxKWqeg is unavailable\n"
     ]
    },
    {
     "name": "stderr",
     "output_type": "stream",
     "text": [
      "\r",
      " 15%|█████████▉                                                          | 2351/16054 [7:12:52<3:43:08,  1.02it/s]"
     ]
    },
    {
     "name": "stdout",
     "output_type": "stream",
     "text": [
      "Failed to download video from https://www.youtube.com/watch?v=xfVNJxKWqeg. Reason: xfVNJxKWqeg is unavailable\n"
     ]
    },
    {
     "name": "stderr",
     "output_type": "stream",
     "text": [
      " 15%|█████████▉                                                          | 2354/16054 [7:13:04<9:31:29,  2.50s/it]"
     ]
    },
    {
     "name": "stdout",
     "output_type": "stream",
     "text": [
      "Failed to download video from www.youtube.com/watch?v=kLH2gjplc1I. Reason: kLH2gjplc1I is a private video\n"
     ]
    },
    {
     "name": "stderr",
     "output_type": "stream",
     "text": [
      " 15%|█████████▊                                                         | 2359/16054 [7:13:30<15:05:20,  3.97s/it]"
     ]
    },
    {
     "name": "stdout",
     "output_type": "stream",
     "text": [
      "Failed to download video from www.youtube.com/watch?v=A6gU1E6dA70. Reason: A6gU1E6dA70 is unavailable\n"
     ]
    },
    {
     "name": "stderr",
     "output_type": "stream",
     "text": [
      " 15%|██████████▎                                                        | 2463/16054 [7:39:00<23:52:17,  6.32s/it]"
     ]
    },
    {
     "name": "stdout",
     "output_type": "stream",
     "text": [
      "Failed to download video from www.youtube.com/watch?v=W4wQc8awMJo. Reason: W4wQc8awMJo is unavailable\n"
     ]
    },
    {
     "name": "stderr",
     "output_type": "stream",
     "text": [
      " 16%|██████████▌                                                        | 2538/16054 [7:53:45<25:14:22,  6.72s/it]"
     ]
    },
    {
     "name": "stdout",
     "output_type": "stream",
     "text": [
      "Failed to download video from www.youtube.com/watch?v=YfZNZlekeo4. Reason: YfZNZlekeo4 is unavailable\n"
     ]
    },
    {
     "name": "stderr",
     "output_type": "stream",
     "text": [
      " 16%|██████████▌                                                        | 2542/16054 [7:54:07<19:05:21,  5.09s/it]"
     ]
    },
    {
     "name": "stdout",
     "output_type": "stream",
     "text": [
      "Failed to download video from www.youtube.com/watch?v=bianxtwm_po. Reason: bianxtwm_po is unavailable\n"
     ]
    },
    {
     "name": "stderr",
     "output_type": "stream",
     "text": [
      "\r",
      " 16%|██████████▌                                                        | 2543/16054 [7:54:10<16:30:38,  4.40s/it]"
     ]
    },
    {
     "name": "stdout",
     "output_type": "stream",
     "text": [
      "Failed to download video from www.youtube.com/watch?v=0fESuP0TDaM. Reason: 0fESuP0TDaM is a private video\n"
     ]
    },
    {
     "name": "stderr",
     "output_type": "stream",
     "text": [
      " 16%|██████████▋                                                        | 2551/16054 [7:54:58<18:50:29,  5.02s/it]"
     ]
    },
    {
     "name": "stdout",
     "output_type": "stream",
     "text": [
      "Failed to download video from www.youtube.com/watch?v=eyu0V3s1-XA. Reason: eyu0V3s1-XA is a private video\n"
     ]
    },
    {
     "name": "stderr",
     "output_type": "stream",
     "text": [
      " 16%|███████████                                                        | 2637/16054 [8:37:24<20:43:55,  5.56s/it]"
     ]
    },
    {
     "name": "stdout",
     "output_type": "stream",
     "text": [
      "Failed to download video from https://www.youtube.com/watch?v=TUQUVlMupcs. Reason: TUQUVlMupcs is unavailable\n"
     ]
    },
    {
     "name": "stderr",
     "output_type": "stream",
     "text": [
      "\r",
      " 16%|███████████                                                        | 2638/16054 [8:37:25<15:36:13,  4.19s/it]"
     ]
    },
    {
     "name": "stdout",
     "output_type": "stream",
     "text": [
      "Failed to download video from https://www.youtube.com/watch?v=TUQUVlMupcs. Reason: TUQUVlMupcs is unavailable\n"
     ]
    },
    {
     "name": "stderr",
     "output_type": "stream",
     "text": [
      "\r",
      " 16%|███████████                                                        | 2639/16054 [8:37:26<12:04:23,  3.24s/it]"
     ]
    },
    {
     "name": "stdout",
     "output_type": "stream",
     "text": [
      "Failed to download video from https://www.youtube.com/watch?v=TUQUVlMupcs. Reason: TUQUVlMupcs is unavailable\n"
     ]
    },
    {
     "name": "stderr",
     "output_type": "stream",
     "text": [
      " 17%|██████████▊                                                      | 2681/16054 [9:56:20<658:53:30, 177.37s/it]"
     ]
    }
   ],
   "source": [
    "# Define constants\n",
    "IMAGE_HEIGHT, IMAGE_WIDTH, NUM_CLASSES, EPOCHS = 128, 128, 1000, 10\n",
    "\n",
    "# Load dataset\n",
    "dataset_download_path = \"./asl_dataset\"\n",
    "MSASL_train = pd.read_json(\"/Users/archishabhattacharya/Desktop/Test/MS-ASL/MSASL_train.json\".format(dataset_download_path))\n",
    "MSASL_test = pd.read_json(\"/Users/archishabhattacharya/Desktop/Test/MS-ASL/MSASL_test.json\".format(dataset_download_path))\n",
    "MSASL_val = pd.read_json(\"/Users/archishabhattacharya/Desktop/Test/MS-ASL/MSASL_val.json\".format(dataset_download_path))\n",
    "\n",
    "def video_to_frames(url, start_time, end_time, bbox, width, height):\n",
    "    frames = []\n",
    "    temp_file = \"temp_video.mp4\"\n",
    "\n",
    "    try:\n",
    "        # Download the video using pytube\n",
    "        yt = YouTube(url)\n",
    "        stream = yt.streams.filter(progressive=True, file_extension=\"mp4\").first()\n",
    "        stream.download(filename=temp_file)\n",
    "    except Exception as e:\n",
    "        print(f\"Failed to download video from {url}. Reason: {e}\")\n",
    "        return frames  # Return an empty list for private videos or any other download error\n",
    "\n",
    "    # Now read with OpenCV from the downloaded temporary file, NOT the URL\n",
    "    vid = cv2.VideoCapture(temp_file)\n",
    "    \n",
    "    if not vid.isOpened():  # Check if video is loaded correctly\n",
    "        print(f\"Failed to read video from {temp_file}\")\n",
    "        return frames\n",
    "    \n",
    "    for timepoint in np.arange(start_time, end_time, 1/30):  # Assuming 30fps for sampling\n",
    "        vid.set(cv2.CAP_PROP_POS_MSEC, timepoint*1000)\n",
    "        ret, frame = vid.read()\n",
    "        if ret:\n",
    "            y0, x0, y1, x1 = [int(coord * dim) for coord, dim in zip(bbox, [height, width, height, width])]\n",
    "            roi = frame[y0:y1, x0:x1]  # Extract the region of interest\n",
    "            frames.append(cv2.resize(roi, (IMAGE_WIDTH, IMAGE_HEIGHT)))\n",
    "\n",
    "    # Cleanup\n",
    "    vid.release()\n",
    "    os.remove(temp_file)\n",
    "    \n",
    "    return frames\n",
    "\n",
    "def dataframe_to_dataset(df):\n",
    "    data = []\n",
    "    labels = []\n",
    "    for _, row in tqdm(df.iterrows(), total=len(df)):\n",
    "        frames = video_to_frames(row['url'], row['start_time'], row['end_time'], row['box'], row['width'], row['height'])\n",
    "        if frames:\n",
    "            data.append(frames[0])\n",
    "            labels.append(row['label'])\n",
    "    return np.array(data), np.array(labels)\n",
    "\n",
    "# Data Preprocessing\n",
    "train_images, train_labels = dataframe_to_dataset(MSASL_train)\n",
    "test_images, test_labels = dataframe_to_dataset(MSASL_test)\n",
    "val_images, val_labels = dataframe_to_dataset(MSASL_val)\n",
    "\n",
    "train_images = train_images / 255.0\n",
    "test_images = test_images / 255.0\n",
    "val_images = val_images / 255.0\n",
    "\n",
    "# Model Architecture\n",
    "model = Sequential([\n",
    "    Conv2D(32, (3, 3), activation='relu', input_shape=(IMAGE_HEIGHT, IMAGE_WIDTH, 3)), \n",
    "    MaxPooling2D(2, 2),\n",
    "    Conv2D(64, (3, 3), activation='relu'),\n",
    "    MaxPooling2D(2, 2),\n",
    "    Conv2D(128, (3, 3), activation='relu'),\n",
    "    MaxPooling2D(2, 2),\n",
    "    Flatten(),\n",
    "    Dense(512, activation='relu'),\n",
    "    Dropout(0.5),\n",
    "    Dense(NUM_CLASSES, activation='softmax')\n",
    "])\n",
    "\n",
    "model.compile(optimizer='adam', loss='sparse_categorical_crossentropy', metrics=['accuracy'])\n",
    "\n",
    "# Train the Model\n",
    "model.fit(train_images, train_labels, epochs=EPOCHS, validation_data=(val_images, val_labels))\n",
    "\n",
    "# Evaluate the Model\n",
    "test_loss, test_acc = model.evaluate(test_images, test_labels)\n",
    "print(f\"Test accuracy: {test_acc}\")\n"
   ]
  },
  {
   "cell_type": "code",
   "execution_count": null,
   "id": "719896f7",
   "metadata": {},
   "outputs": [],
   "source": []
  }
 ],
 "metadata": {
  "kernelspec": {
   "display_name": "Python 3 (ipykernel)",
   "language": "python",
   "name": "python3"
  },
  "language_info": {
   "codemirror_mode": {
    "name": "ipython",
    "version": 3
   },
   "file_extension": ".py",
   "mimetype": "text/x-python",
   "name": "python",
   "nbconvert_exporter": "python",
   "pygments_lexer": "ipython3",
   "version": "3.8.16"
  }
 },
 "nbformat": 4,
 "nbformat_minor": 5
}
